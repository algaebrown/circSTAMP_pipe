{
 "cells": [
  {
   "cell_type": "code",
   "execution_count": 3,
   "id": "5a509f63",
   "metadata": {},
   "outputs": [],
   "source": [
    "import os\n",
    "from pathlib import Path\n",
    "indir = Path('/home/tayu/seqdata/tao/circRNA_seq/benchmarking02/igm-storage.ucsd.edu/221130_A01535_0229_BHKMGWDSX5')"
   ]
  },
  {
   "cell_type": "code",
   "execution_count": 7,
   "id": "d5d107ac",
   "metadata": {},
   "outputs": [],
   "source": [
    "fq1 = list(indir.glob('*R1*.fastq.gz'))"
   ]
  },
  {
   "cell_type": "code",
   "execution_count": 8,
   "id": "66f04a95",
   "metadata": {},
   "outputs": [
    {
     "data": {
      "text/plain": [
       "54"
      ]
     },
     "execution_count": 8,
     "metadata": {},
     "output_type": "execute_result"
    }
   ],
   "source": [
    "len(fq1)"
   ]
  },
  {
   "cell_type": "code",
   "execution_count": 9,
   "id": "3990d86b",
   "metadata": {},
   "outputs": [],
   "source": [
    "fq2 = [str(f).replace('R1', 'R2') for f in fq1]"
   ]
  },
  {
   "cell_type": "code",
   "execution_count": 10,
   "id": "b382475f",
   "metadata": {},
   "outputs": [],
   "source": [
    "libs = [f.name.split('_S')[0] for f in fq1]"
   ]
  },
  {
   "cell_type": "code",
   "execution_count": 11,
   "id": "5dc1d328",
   "metadata": {},
   "outputs": [
    {
     "data": {
      "text/plain": [
       "['HEK_JC_rar',\n",
       " 'LIB2-YFP-high',\n",
       " 'HEK_rar',\n",
       " 'LIB2-T6-2',\n",
       " 'ZNF800_IP1',\n",
       " 'SNRP_IP2',\n",
       " 'TF3C4_IP1',\n",
       " 'Exo05',\n",
       " 'PHF7_IP2',\n",
       " 'OligoCLIP_Multiplex_1016_Rep2',\n",
       " 'CTCF_IP2',\n",
       " 'ZNF277_IP2',\n",
       " 'LIB2-Total',\n",
       " 'LIB2-T3-2',\n",
       " 'ZC3HAV1_IP1',\n",
       " 'HEK_rar11',\n",
       " 'MBNL2_IP2',\n",
       " 'Exo10',\n",
       " 'TEX13A_IP2',\n",
       " 'LIB2-T0-2',\n",
       " 'TOB2_rar11',\n",
       " 'RBM15_rz',\n",
       " 'ZNF706_IP1',\n",
       " 'RBM15_rar11',\n",
       " 'PHF7_IP1',\n",
       " 'IGHMBP2_IP2',\n",
       " 'Undetermined',\n",
       " 'G3BP1_IP1',\n",
       " 'CTCF_IP1',\n",
       " 'ZMAT5_IP2',\n",
       " 'OligoCLIP_Multiplex_1016_Rep1',\n",
       " 'MBNL1_IP1',\n",
       " 'TF3C4_IP2',\n",
       " 'LIB2-SIINFEKL',\n",
       " 'LIB2-YFP-low',\n",
       " 'ZNF277_IP1',\n",
       " 'EV_rar11',\n",
       " 'DDX59_IP2',\n",
       " 'G3BP1_IN1',\n",
       " 'HEK_JC_rar11',\n",
       " 'ZNF800_IP2',\n",
       " 'LIB2-T0-1',\n",
       " 'LIB2-T6-1',\n",
       " 'TEX13A_IP1',\n",
       " 'EV_rz',\n",
       " 'ZC3HAV1_IP2',\n",
       " 'LIB2-YFP-neg',\n",
       " 'ZNF317_IP2',\n",
       " 'IGHMBP2_IP1',\n",
       " 'LIB2-T3-1',\n",
       " 'ZNF706_IP2',\n",
       " 'TOB2_rz',\n",
       " 'ZMAT5_IP1',\n",
       " 'ZNF317_IP1']"
      ]
     },
     "execution_count": 11,
     "metadata": {},
     "output_type": "execute_result"
    }
   ],
   "source": [
    "libs"
   ]
  },
  {
   "cell_type": "markdown",
   "id": "3fd636d2",
   "metadata": {},
   "source": [
    "# make menifest"
   ]
  },
  {
   "cell_type": "code",
   "execution_count": 11,
   "id": "480c1ab6",
   "metadata": {},
   "outputs": [],
   "source": [
    "import pandas as pd\n",
    "menifest = pd.DataFrame([libs, fq1, fq2], index = ['Sample', 'fastq1', 'fastq2']).T"
   ]
  },
  {
   "cell_type": "code",
   "execution_count": 16,
   "id": "8fe3f6c9",
   "metadata": {},
   "outputs": [],
   "source": [
    "menifest['Rnase'] = menifest['Sample'].apply(lambda name: True if '_rz' not in name else False)"
   ]
  },
  {
   "cell_type": "code",
   "execution_count": 17,
   "id": "d7ce05f6",
   "metadata": {},
   "outputs": [
    {
     "data": {
      "text/html": [
       "<div>\n",
       "<style scoped>\n",
       "    .dataframe tbody tr th:only-of-type {\n",
       "        vertical-align: middle;\n",
       "    }\n",
       "\n",
       "    .dataframe tbody tr th {\n",
       "        vertical-align: top;\n",
       "    }\n",
       "\n",
       "    .dataframe thead th {\n",
       "        text-align: right;\n",
       "    }\n",
       "</style>\n",
       "<table border=\"1\" class=\"dataframe\">\n",
       "  <thead>\n",
       "    <tr style=\"text-align: right;\">\n",
       "      <th></th>\n",
       "      <th>Sample</th>\n",
       "      <th>fastq1</th>\n",
       "      <th>fastq2</th>\n",
       "      <th>Rnase</th>\n",
       "    </tr>\n",
       "  </thead>\n",
       "  <tbody>\n",
       "    <tr>\n",
       "      <th>0</th>\n",
       "      <td>HEK_rar11</td>\n",
       "      <td>/home/tayu/seqdata/tao/circRNA_seq/benchmarkin...</td>\n",
       "      <td>/home/tayu/seqdata/tao/circRNA_seq/benchmarkin...</td>\n",
       "      <td>True</td>\n",
       "    </tr>\n",
       "    <tr>\n",
       "      <th>1</th>\n",
       "      <td>HEK_JC_rar</td>\n",
       "      <td>/home/tayu/seqdata/tao/circRNA_seq/benchmarkin...</td>\n",
       "      <td>/home/tayu/seqdata/tao/circRNA_seq/benchmarkin...</td>\n",
       "      <td>True</td>\n",
       "    </tr>\n",
       "    <tr>\n",
       "      <th>2</th>\n",
       "      <td>HEK_rar</td>\n",
       "      <td>/home/tayu/seqdata/tao/circRNA_seq/benchmarkin...</td>\n",
       "      <td>/home/tayu/seqdata/tao/circRNA_seq/benchmarkin...</td>\n",
       "      <td>True</td>\n",
       "    </tr>\n",
       "    <tr>\n",
       "      <th>3</th>\n",
       "      <td>HEK_JC_rar11</td>\n",
       "      <td>/home/tayu/seqdata/tao/circRNA_seq/benchmarkin...</td>\n",
       "      <td>/home/tayu/seqdata/tao/circRNA_seq/benchmarkin...</td>\n",
       "      <td>True</td>\n",
       "    </tr>\n",
       "    <tr>\n",
       "      <th>4</th>\n",
       "      <td>Exo10</td>\n",
       "      <td>/home/tayu/seqdata/tao/circRNA_seq/benchmarkin...</td>\n",
       "      <td>/home/tayu/seqdata/tao/circRNA_seq/benchmarkin...</td>\n",
       "      <td>True</td>\n",
       "    </tr>\n",
       "    <tr>\n",
       "      <th>5</th>\n",
       "      <td>Exo05</td>\n",
       "      <td>/home/tayu/seqdata/tao/circRNA_seq/benchmarkin...</td>\n",
       "      <td>/home/tayu/seqdata/tao/circRNA_seq/benchmarkin...</td>\n",
       "      <td>True</td>\n",
       "    </tr>\n",
       "    <tr>\n",
       "      <th>6</th>\n",
       "      <td>TOB2_rz</td>\n",
       "      <td>/home/tayu/seqdata/tao/circRNA_seq/benchmarkin...</td>\n",
       "      <td>/home/tayu/seqdata/tao/circRNA_seq/benchmarkin...</td>\n",
       "      <td>False</td>\n",
       "    </tr>\n",
       "    <tr>\n",
       "      <th>7</th>\n",
       "      <td>TOB2_rar11</td>\n",
       "      <td>/home/tayu/seqdata/tao/circRNA_seq/benchmarkin...</td>\n",
       "      <td>/home/tayu/seqdata/tao/circRNA_seq/benchmarkin...</td>\n",
       "      <td>True</td>\n",
       "    </tr>\n",
       "    <tr>\n",
       "      <th>8</th>\n",
       "      <td>RBM15_rz</td>\n",
       "      <td>/home/tayu/seqdata/tao/circRNA_seq/benchmarkin...</td>\n",
       "      <td>/home/tayu/seqdata/tao/circRNA_seq/benchmarkin...</td>\n",
       "      <td>False</td>\n",
       "    </tr>\n",
       "    <tr>\n",
       "      <th>9</th>\n",
       "      <td>RBM15_rar11</td>\n",
       "      <td>/home/tayu/seqdata/tao/circRNA_seq/benchmarkin...</td>\n",
       "      <td>/home/tayu/seqdata/tao/circRNA_seq/benchmarkin...</td>\n",
       "      <td>True</td>\n",
       "    </tr>\n",
       "    <tr>\n",
       "      <th>10</th>\n",
       "      <td>EV_rar11</td>\n",
       "      <td>/home/tayu/seqdata/tao/circRNA_seq/benchmarkin...</td>\n",
       "      <td>/home/tayu/seqdata/tao/circRNA_seq/benchmarkin...</td>\n",
       "      <td>True</td>\n",
       "    </tr>\n",
       "    <tr>\n",
       "      <th>11</th>\n",
       "      <td>EV_rz</td>\n",
       "      <td>/home/tayu/seqdata/tao/circRNA_seq/benchmarkin...</td>\n",
       "      <td>/home/tayu/seqdata/tao/circRNA_seq/benchmarkin...</td>\n",
       "      <td>False</td>\n",
       "    </tr>\n",
       "  </tbody>\n",
       "</table>\n",
       "</div>"
      ],
      "text/plain": [
       "          Sample                                             fastq1  \\\n",
       "0      HEK_rar11  /home/tayu/seqdata/tao/circRNA_seq/benchmarkin...   \n",
       "1     HEK_JC_rar  /home/tayu/seqdata/tao/circRNA_seq/benchmarkin...   \n",
       "2        HEK_rar  /home/tayu/seqdata/tao/circRNA_seq/benchmarkin...   \n",
       "3   HEK_JC_rar11  /home/tayu/seqdata/tao/circRNA_seq/benchmarkin...   \n",
       "4          Exo10  /home/tayu/seqdata/tao/circRNA_seq/benchmarkin...   \n",
       "5          Exo05  /home/tayu/seqdata/tao/circRNA_seq/benchmarkin...   \n",
       "6        TOB2_rz  /home/tayu/seqdata/tao/circRNA_seq/benchmarkin...   \n",
       "7     TOB2_rar11  /home/tayu/seqdata/tao/circRNA_seq/benchmarkin...   \n",
       "8       RBM15_rz  /home/tayu/seqdata/tao/circRNA_seq/benchmarkin...   \n",
       "9    RBM15_rar11  /home/tayu/seqdata/tao/circRNA_seq/benchmarkin...   \n",
       "10      EV_rar11  /home/tayu/seqdata/tao/circRNA_seq/benchmarkin...   \n",
       "11         EV_rz  /home/tayu/seqdata/tao/circRNA_seq/benchmarkin...   \n",
       "\n",
       "                                               fastq2  Rnase  \n",
       "0   /home/tayu/seqdata/tao/circRNA_seq/benchmarkin...   True  \n",
       "1   /home/tayu/seqdata/tao/circRNA_seq/benchmarkin...   True  \n",
       "2   /home/tayu/seqdata/tao/circRNA_seq/benchmarkin...   True  \n",
       "3   /home/tayu/seqdata/tao/circRNA_seq/benchmarkin...   True  \n",
       "4   /home/tayu/seqdata/tao/circRNA_seq/benchmarkin...   True  \n",
       "5   /home/tayu/seqdata/tao/circRNA_seq/benchmarkin...   True  \n",
       "6   /home/tayu/seqdata/tao/circRNA_seq/benchmarkin...  False  \n",
       "7   /home/tayu/seqdata/tao/circRNA_seq/benchmarkin...   True  \n",
       "8   /home/tayu/seqdata/tao/circRNA_seq/benchmarkin...  False  \n",
       "9   /home/tayu/seqdata/tao/circRNA_seq/benchmarkin...   True  \n",
       "10  /home/tayu/seqdata/tao/circRNA_seq/benchmarkin...   True  \n",
       "11  /home/tayu/seqdata/tao/circRNA_seq/benchmarkin...  False  "
      ]
     },
     "execution_count": 17,
     "metadata": {},
     "output_type": "execute_result"
    }
   ],
   "source": [
    "menifest"
   ]
  },
  {
   "cell_type": "code",
   "execution_count": 18,
   "id": "a08ad561",
   "metadata": {},
   "outputs": [],
   "source": [
    "menifest.loc[(menifest['Sample'].str.contains('rar11'))|(menifest['Sample'].str.contains('Exo'))].to_csv('nextera_iter2.csv')\n",
    "menifest.loc[(~menifest['Sample'].str.contains('rar11'))&(~menifest['Sample'].str.contains('Exo'))].to_csv('trueseq_iter2.csv')"
   ]
  },
  {
   "cell_type": "code",
   "execution_count": 19,
   "id": "8a97f037",
   "metadata": {},
   "outputs": [
    {
     "data": {
      "text/plain": [
       "(7, 4)"
      ]
     },
     "execution_count": 19,
     "metadata": {},
     "output_type": "execute_result"
    }
   ],
   "source": [
    "menifest.loc[(menifest['Sample'].str.contains('rar11'))|(menifest['Sample'].str.contains('Exo'))].shape"
   ]
  },
  {
   "cell_type": "code",
   "execution_count": 20,
   "id": "22b7ed8d",
   "metadata": {},
   "outputs": [
    {
     "data": {
      "text/plain": [
       "(5, 4)"
      ]
     },
     "execution_count": 20,
     "metadata": {},
     "output_type": "execute_result"
    }
   ],
   "source": [
    "menifest.loc[(~menifest['Sample'].str.contains('rar11'))&(~menifest['Sample'].str.contains('Exo'))].shape"
   ]
  },
  {
   "cell_type": "code",
   "execution_count": null,
   "id": "0c958450",
   "metadata": {},
   "outputs": [],
   "source": []
  }
 ],
 "metadata": {
  "kernelspec": {
   "display_name": "Metadensity",
   "language": "python",
   "name": "metadensity"
  },
  "language_info": {
   "codemirror_mode": {
    "name": "ipython",
    "version": 3
   },
   "file_extension": ".py",
   "mimetype": "text/x-python",
   "name": "python",
   "nbconvert_exporter": "python",
   "pygments_lexer": "ipython3",
   "version": "3.7.12"
  }
 },
 "nbformat": 4,
 "nbformat_minor": 5
}
