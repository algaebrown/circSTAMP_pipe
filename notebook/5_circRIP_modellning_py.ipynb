{
 "cells": [
  {
   "cell_type": "code",
   "execution_count": 1,
   "id": "7db59b36-f552-4317-83a1-38feb6180fbe",
   "metadata": {
    "tags": []
   },
   "outputs": [],
   "source": [
    "import pandas as pd\n",
    "counts = pd.read_csv('/home/hsher/scratch/rar11_input.tsv', sep = '\\t')\n",
    "replicates = ['PP_Input1', 'PP_Input2']"
   ]
  },
  {
   "cell_type": "code",
   "execution_count": 2,
   "id": "e0f02552-f450-436f-8606-6e0e7d60b698",
   "metadata": {
    "tags": []
   },
   "outputs": [],
   "source": [
    "import numpy as np\n",
    "import statsmodels.api as sm\n",
    "import matplotlib.pyplot as plt"
   ]
  },
  {
   "cell_type": "code",
   "execution_count": 3,
   "id": "49b51c33-296c-4e9e-8f99-b435071fe143",
   "metadata": {
    "tags": []
   },
   "outputs": [
    {
     "data": {
      "text/html": [
       "<div>\n",
       "<style scoped>\n",
       "    .dataframe tbody tr th:only-of-type {\n",
       "        vertical-align: middle;\n",
       "    }\n",
       "\n",
       "    .dataframe tbody tr th {\n",
       "        vertical-align: top;\n",
       "    }\n",
       "\n",
       "    .dataframe thead th {\n",
       "        text-align: right;\n",
       "    }\n",
       "</style>\n",
       "<table border=\"1\" class=\"dataframe\">\n",
       "  <thead>\n",
       "    <tr style=\"text-align: right;\">\n",
       "      <th></th>\n",
       "      <th>Unnamed: 0</th>\n",
       "      <th>seqname</th>\n",
       "      <th>source</th>\n",
       "      <th>feature</th>\n",
       "      <th>start</th>\n",
       "      <th>end</th>\n",
       "      <th>strand</th>\n",
       "      <th>frame</th>\n",
       "      <th>circ_id</th>\n",
       "      <th>circ_type</th>\n",
       "      <th>...</th>\n",
       "      <th>BSJ-PP_Polysome1</th>\n",
       "      <th>BSJ-PP_Polysome2</th>\n",
       "      <th>BSJ-PP_Input2</th>\n",
       "      <th>BSJ-PP_Monosome1</th>\n",
       "      <th>FSJ-PP_Input1</th>\n",
       "      <th>FSJ-PP_Monosome2</th>\n",
       "      <th>FSJ-PP_Polysome1</th>\n",
       "      <th>FSJ-PP_Polysome2</th>\n",
       "      <th>FSJ-PP_Input2</th>\n",
       "      <th>FSJ-PP_Monosome1</th>\n",
       "    </tr>\n",
       "  </thead>\n",
       "  <tbody>\n",
       "    <tr>\n",
       "      <th>0</th>\n",
       "      <td>0</td>\n",
       "      <td>chr1</td>\n",
       "      <td>CIRIquant</td>\n",
       "      <td>circRNA</td>\n",
       "      <td>746695.0</td>\n",
       "      <td>749381.0</td>\n",
       "      <td>-</td>\n",
       "      <td>.</td>\n",
       "      <td>chr1:746695|749381</td>\n",
       "      <td>intron</td>\n",
       "      <td>...</td>\n",
       "      <td>0.0</td>\n",
       "      <td>0.0</td>\n",
       "      <td>24.0</td>\n",
       "      <td>0.0</td>\n",
       "      <td>4.0</td>\n",
       "      <td>0.0</td>\n",
       "      <td>0.0</td>\n",
       "      <td>0.0</td>\n",
       "      <td>42.0</td>\n",
       "      <td>0.0</td>\n",
       "    </tr>\n",
       "    <tr>\n",
       "      <th>1</th>\n",
       "      <td>1</td>\n",
       "      <td>chr1</td>\n",
       "      <td>CIRIquant</td>\n",
       "      <td>circRNA</td>\n",
       "      <td>805799.0</td>\n",
       "      <td>810170.0</td>\n",
       "      <td>-</td>\n",
       "      <td>.</td>\n",
       "      <td>chr1:805799|810170</td>\n",
       "      <td>exon</td>\n",
       "      <td>...</td>\n",
       "      <td>0.0</td>\n",
       "      <td>9.0</td>\n",
       "      <td>34.0</td>\n",
       "      <td>11.0</td>\n",
       "      <td>8.0</td>\n",
       "      <td>0.0</td>\n",
       "      <td>0.0</td>\n",
       "      <td>3.0</td>\n",
       "      <td>16.0</td>\n",
       "      <td>1.0</td>\n",
       "    </tr>\n",
       "    <tr>\n",
       "      <th>2</th>\n",
       "      <td>2</td>\n",
       "      <td>chr1</td>\n",
       "      <td>CIRIquant</td>\n",
       "      <td>circRNA</td>\n",
       "      <td>915319.0</td>\n",
       "      <td>915949.0</td>\n",
       "      <td>+</td>\n",
       "      <td>.</td>\n",
       "      <td>chr1:915319|915949</td>\n",
       "      <td>intron</td>\n",
       "      <td>...</td>\n",
       "      <td>0.0</td>\n",
       "      <td>0.0</td>\n",
       "      <td>1.0</td>\n",
       "      <td>0.0</td>\n",
       "      <td>51.0</td>\n",
       "      <td>0.0</td>\n",
       "      <td>0.0</td>\n",
       "      <td>0.0</td>\n",
       "      <td>43.0</td>\n",
       "      <td>0.0</td>\n",
       "    </tr>\n",
       "    <tr>\n",
       "      <th>3</th>\n",
       "      <td>3</td>\n",
       "      <td>chr1</td>\n",
       "      <td>CIRIquant</td>\n",
       "      <td>circRNA</td>\n",
       "      <td>955923.0</td>\n",
       "      <td>957273.0</td>\n",
       "      <td>-</td>\n",
       "      <td>.</td>\n",
       "      <td>chr1:955923|957273</td>\n",
       "      <td>exon</td>\n",
       "      <td>...</td>\n",
       "      <td>0.0</td>\n",
       "      <td>0.0</td>\n",
       "      <td>2.0</td>\n",
       "      <td>0.0</td>\n",
       "      <td>222.0</td>\n",
       "      <td>15.0</td>\n",
       "      <td>0.0</td>\n",
       "      <td>0.0</td>\n",
       "      <td>220.0</td>\n",
       "      <td>0.0</td>\n",
       "    </tr>\n",
       "    <tr>\n",
       "      <th>4</th>\n",
       "      <td>4</td>\n",
       "      <td>chr1</td>\n",
       "      <td>CIRIquant</td>\n",
       "      <td>circRNA</td>\n",
       "      <td>1084353.0</td>\n",
       "      <td>1086012.0</td>\n",
       "      <td>-</td>\n",
       "      <td>.</td>\n",
       "      <td>chr1:1084353|1086012</td>\n",
       "      <td>exon</td>\n",
       "      <td>...</td>\n",
       "      <td>0.0</td>\n",
       "      <td>0.0</td>\n",
       "      <td>0.0</td>\n",
       "      <td>0.0</td>\n",
       "      <td>30.0</td>\n",
       "      <td>0.0</td>\n",
       "      <td>0.0</td>\n",
       "      <td>0.0</td>\n",
       "      <td>0.0</td>\n",
       "      <td>0.0</td>\n",
       "    </tr>\n",
       "  </tbody>\n",
       "</table>\n",
       "<p>5 rows × 25 columns</p>\n",
       "</div>"
      ],
      "text/plain": [
       "   Unnamed: 0 seqname     source  feature      start        end strand frame  \\\n",
       "0           0    chr1  CIRIquant  circRNA   746695.0   749381.0      -     .   \n",
       "1           1    chr1  CIRIquant  circRNA   805799.0   810170.0      -     .   \n",
       "2           2    chr1  CIRIquant  circRNA   915319.0   915949.0      +     .   \n",
       "3           3    chr1  CIRIquant  circRNA   955923.0   957273.0      -     .   \n",
       "4           4    chr1  CIRIquant  circRNA  1084353.0  1086012.0      -     .   \n",
       "\n",
       "                circ_id circ_type  ... BSJ-PP_Polysome1 BSJ-PP_Polysome2  \\\n",
       "0    chr1:746695|749381    intron  ...              0.0              0.0   \n",
       "1    chr1:805799|810170      exon  ...              0.0              9.0   \n",
       "2    chr1:915319|915949    intron  ...              0.0              0.0   \n",
       "3    chr1:955923|957273      exon  ...              0.0              0.0   \n",
       "4  chr1:1084353|1086012      exon  ...              0.0              0.0   \n",
       "\n",
       "  BSJ-PP_Input2  BSJ-PP_Monosome1  FSJ-PP_Input1  FSJ-PP_Monosome2  \\\n",
       "0          24.0               0.0            4.0               0.0   \n",
       "1          34.0              11.0            8.0               0.0   \n",
       "2           1.0               0.0           51.0               0.0   \n",
       "3           2.0               0.0          222.0              15.0   \n",
       "4           0.0               0.0           30.0               0.0   \n",
       "\n",
       "   FSJ-PP_Polysome1  FSJ-PP_Polysome2  FSJ-PP_Input2  FSJ-PP_Monosome1  \n",
       "0               0.0               0.0           42.0               0.0  \n",
       "1               0.0               3.0           16.0               1.0  \n",
       "2               0.0               0.0           43.0               0.0  \n",
       "3               0.0               0.0          220.0               0.0  \n",
       "4               0.0               0.0            0.0               0.0  \n",
       "\n",
       "[5 rows x 25 columns]"
      ]
     },
     "execution_count": 3,
     "metadata": {},
     "output_type": "execute_result"
    }
   ],
   "source": [
    "counts.head()"
   ]
  },
  {
   "cell_type": "code",
   "execution_count": 4,
   "id": "75c285ad-f6d5-48e7-b6eb-692bfa3dcc08",
   "metadata": {
    "tags": []
   },
   "outputs": [
    {
     "name": "stderr",
     "output_type": "stream",
     "text": [
      "/scratch/hsher/33384802.tscc-mgr7.local/ipykernel_976/303668767.py:1: FutureWarning: The default value of numeric_only in DataFrame.max is deprecated. In a future version, it will default to False. In addition, specifying 'numeric_only=None' is deprecated. Select only valid columns or specify the value of numeric_only to silence this warning.\n",
      "  counts.max()\n"
     ]
    },
    {
     "data": {
      "text/plain": [
       "Unnamed: 0                           81919\n",
       "seqname                               chrX\n",
       "source                           CIRIquant\n",
       "feature                            circRNA\n",
       "start                          248916602.0\n",
       "end                            248917961.0\n",
       "strand                                   -\n",
       "frame                                    .\n",
       "circ_id             chrX:99653827|99660890\n",
       "circ_type                           intron\n",
       "BSJ-PP_Input1                      12465.0\n",
       "BSJ-PP_Monosome2                    4761.0\n",
       "BSJ-PP_Polysome1                     900.0\n",
       "BSJ-PP_Polysome2                    2870.0\n",
       "BSJ-PP_Input2                      11770.0\n",
       "BSJ-PP_Monosome1                    9767.0\n",
       "FSJ-PP_Input1                      38687.0\n",
       "FSJ-PP_Monosome2                   86727.0\n",
       "FSJ-PP_Polysome1                    1680.0\n",
       "FSJ-PP_Polysome2                   14861.0\n",
       "FSJ-PP_Input2                      36014.0\n",
       "FSJ-PP_Monosome1                   53068.0\n",
       "dtype: object"
      ]
     },
     "execution_count": 4,
     "metadata": {},
     "output_type": "execute_result"
    }
   ],
   "source": [
    "counts.max()"
   ]
  },
  {
   "cell_type": "code",
   "execution_count": 5,
   "id": "0a6b7769-0e82-4630-95ec-cd5b55e70239",
   "metadata": {
    "tags": []
   },
   "outputs": [
    {
     "data": {
      "text/html": [
       "<div>\n",
       "<style scoped>\n",
       "    .dataframe tbody tr th:only-of-type {\n",
       "        vertical-align: middle;\n",
       "    }\n",
       "\n",
       "    .dataframe tbody tr th {\n",
       "        vertical-align: top;\n",
       "    }\n",
       "\n",
       "    .dataframe thead th {\n",
       "        text-align: right;\n",
       "    }\n",
       "</style>\n",
       "<table border=\"1\" class=\"dataframe\">\n",
       "  <thead>\n",
       "    <tr style=\"text-align: right;\">\n",
       "      <th></th>\n",
       "      <th>Unnamed: 0</th>\n",
       "      <th>seqname</th>\n",
       "      <th>source</th>\n",
       "      <th>feature</th>\n",
       "      <th>start</th>\n",
       "      <th>end</th>\n",
       "      <th>strand</th>\n",
       "      <th>frame</th>\n",
       "      <th>circ_id</th>\n",
       "      <th>circ_type</th>\n",
       "      <th>...</th>\n",
       "      <th>BSJ-PP_Polysome1</th>\n",
       "      <th>BSJ-PP_Polysome2</th>\n",
       "      <th>BSJ-PP_Input2</th>\n",
       "      <th>BSJ-PP_Monosome1</th>\n",
       "      <th>FSJ-PP_Input1</th>\n",
       "      <th>FSJ-PP_Monosome2</th>\n",
       "      <th>FSJ-PP_Polysome1</th>\n",
       "      <th>FSJ-PP_Polysome2</th>\n",
       "      <th>FSJ-PP_Input2</th>\n",
       "      <th>FSJ-PP_Monosome1</th>\n",
       "    </tr>\n",
       "  </thead>\n",
       "  <tbody>\n",
       "    <tr>\n",
       "      <th>66058</th>\n",
       "      <td>66058</td>\n",
       "      <td>chr18</td>\n",
       "      <td>CIRIquant</td>\n",
       "      <td>circRNA</td>\n",
       "      <td>21765772.0</td>\n",
       "      <td>21779685.0</td>\n",
       "      <td>+</td>\n",
       "      <td>.</td>\n",
       "      <td>chr18:21765772|21779685</td>\n",
       "      <td>exon</td>\n",
       "      <td>...</td>\n",
       "      <td>900.0</td>\n",
       "      <td>2870.0</td>\n",
       "      <td>11770.0</td>\n",
       "      <td>9767.0</td>\n",
       "      <td>0.0</td>\n",
       "      <td>0.0</td>\n",
       "      <td>603.0</td>\n",
       "      <td>0.0</td>\n",
       "      <td>0.0</td>\n",
       "      <td>0.0</td>\n",
       "    </tr>\n",
       "  </tbody>\n",
       "</table>\n",
       "<p>1 rows × 25 columns</p>\n",
       "</div>"
      ],
      "text/plain": [
       "       Unnamed: 0 seqname     source  feature       start         end strand  \\\n",
       "66058       66058   chr18  CIRIquant  circRNA  21765772.0  21779685.0      +   \n",
       "\n",
       "      frame                  circ_id circ_type  ... BSJ-PP_Polysome1  \\\n",
       "66058     .  chr18:21765772|21779685      exon  ...            900.0   \n",
       "\n",
       "      BSJ-PP_Polysome2 BSJ-PP_Input2  BSJ-PP_Monosome1  FSJ-PP_Input1  \\\n",
       "66058           2870.0       11770.0            9767.0            0.0   \n",
       "\n",
       "       FSJ-PP_Monosome2  FSJ-PP_Polysome1  FSJ-PP_Polysome2  FSJ-PP_Input2  \\\n",
       "66058               0.0             603.0               0.0            0.0   \n",
       "\n",
       "       FSJ-PP_Monosome1  \n",
       "66058               0.0  \n",
       "\n",
       "[1 rows x 25 columns]"
      ]
     },
     "execution_count": 5,
     "metadata": {},
     "output_type": "execute_result"
    }
   ],
   "source": [
    "counts.loc[counts['BSJ-PP_Input1']==12465]"
   ]
  },
  {
   "cell_type": "code",
   "execution_count": 6,
   "id": "5451c06e-a04e-415e-b464-2a6538e7d145",
   "metadata": {
    "tags": []
   },
   "outputs": [
    {
     "data": {
      "text/html": [
       "<div>\n",
       "<style scoped>\n",
       "    .dataframe tbody tr th:only-of-type {\n",
       "        vertical-align: middle;\n",
       "    }\n",
       "\n",
       "    .dataframe tbody tr th {\n",
       "        vertical-align: top;\n",
       "    }\n",
       "\n",
       "    .dataframe thead th {\n",
       "        text-align: right;\n",
       "    }\n",
       "</style>\n",
       "<table border=\"1\" class=\"dataframe\">\n",
       "  <thead>\n",
       "    <tr style=\"text-align: right;\">\n",
       "      <th></th>\n",
       "      <th>Unnamed: 0</th>\n",
       "      <th>start</th>\n",
       "      <th>end</th>\n",
       "      <th>BSJ-PP_Input1</th>\n",
       "      <th>BSJ-PP_Monosome2</th>\n",
       "      <th>BSJ-PP_Polysome1</th>\n",
       "      <th>BSJ-PP_Polysome2</th>\n",
       "      <th>BSJ-PP_Input2</th>\n",
       "      <th>BSJ-PP_Monosome1</th>\n",
       "      <th>FSJ-PP_Input1</th>\n",
       "      <th>FSJ-PP_Monosome2</th>\n",
       "      <th>FSJ-PP_Polysome1</th>\n",
       "      <th>FSJ-PP_Polysome2</th>\n",
       "      <th>FSJ-PP_Input2</th>\n",
       "      <th>FSJ-PP_Monosome1</th>\n",
       "    </tr>\n",
       "  </thead>\n",
       "  <tbody>\n",
       "    <tr>\n",
       "      <th>count</th>\n",
       "      <td>125726.000000</td>\n",
       "      <td>1.257260e+05</td>\n",
       "      <td>1.257260e+05</td>\n",
       "      <td>125726.000000</td>\n",
       "      <td>125726.000000</td>\n",
       "      <td>125726.000000</td>\n",
       "      <td>125726.000000</td>\n",
       "      <td>125726.00000</td>\n",
       "      <td>125726.000000</td>\n",
       "      <td>125726.000000</td>\n",
       "      <td>125726.000000</td>\n",
       "      <td>125726.000000</td>\n",
       "      <td>125726.000000</td>\n",
       "      <td>125726.000000</td>\n",
       "      <td>125726.000000</td>\n",
       "    </tr>\n",
       "    <tr>\n",
       "      <th>mean</th>\n",
       "      <td>35534.000422</td>\n",
       "      <td>7.921319e+07</td>\n",
       "      <td>7.923495e+07</td>\n",
       "      <td>7.353244</td>\n",
       "      <td>1.307717</td>\n",
       "      <td>0.233842</td>\n",
       "      <td>0.691901</td>\n",
       "      <td>7.97699</td>\n",
       "      <td>1.516122</td>\n",
       "      <td>61.458600</td>\n",
       "      <td>13.359027</td>\n",
       "      <td>0.363171</td>\n",
       "      <td>13.742567</td>\n",
       "      <td>68.525078</td>\n",
       "      <td>14.666067</td>\n",
       "    </tr>\n",
       "    <tr>\n",
       "      <th>std</th>\n",
       "      <td>23086.259576</td>\n",
       "      <td>5.606843e+07</td>\n",
       "      <td>5.606950e+07</td>\n",
       "      <td>72.095618</td>\n",
       "      <td>20.918795</td>\n",
       "      <td>5.472595</td>\n",
       "      <td>11.625428</td>\n",
       "      <td>74.84249</td>\n",
       "      <td>31.424709</td>\n",
       "      <td>372.518697</td>\n",
       "      <td>421.262759</td>\n",
       "      <td>9.868418</td>\n",
       "      <td>126.555801</td>\n",
       "      <td>384.785962</td>\n",
       "      <td>243.479317</td>\n",
       "    </tr>\n",
       "    <tr>\n",
       "      <th>min</th>\n",
       "      <td>0.000000</td>\n",
       "      <td>1.326000e+03</td>\n",
       "      <td>1.337600e+04</td>\n",
       "      <td>0.000000</td>\n",
       "      <td>0.000000</td>\n",
       "      <td>0.000000</td>\n",
       "      <td>0.000000</td>\n",
       "      <td>0.00000</td>\n",
       "      <td>0.000000</td>\n",
       "      <td>0.000000</td>\n",
       "      <td>0.000000</td>\n",
       "      <td>0.000000</td>\n",
       "      <td>0.000000</td>\n",
       "      <td>0.000000</td>\n",
       "      <td>0.000000</td>\n",
       "    </tr>\n",
       "    <tr>\n",
       "      <th>25%</th>\n",
       "      <td>14354.250000</td>\n",
       "      <td>3.493146e+07</td>\n",
       "      <td>3.494271e+07</td>\n",
       "      <td>0.000000</td>\n",
       "      <td>0.000000</td>\n",
       "      <td>0.000000</td>\n",
       "      <td>0.000000</td>\n",
       "      <td>0.00000</td>\n",
       "      <td>0.000000</td>\n",
       "      <td>0.000000</td>\n",
       "      <td>0.000000</td>\n",
       "      <td>0.000000</td>\n",
       "      <td>0.000000</td>\n",
       "      <td>0.000000</td>\n",
       "      <td>0.000000</td>\n",
       "    </tr>\n",
       "    <tr>\n",
       "      <th>50%</th>\n",
       "      <td>34009.500000</td>\n",
       "      <td>6.813128e+07</td>\n",
       "      <td>6.817280e+07</td>\n",
       "      <td>1.000000</td>\n",
       "      <td>0.000000</td>\n",
       "      <td>0.000000</td>\n",
       "      <td>0.000000</td>\n",
       "      <td>1.00000</td>\n",
       "      <td>0.000000</td>\n",
       "      <td>0.000000</td>\n",
       "      <td>0.000000</td>\n",
       "      <td>0.000000</td>\n",
       "      <td>0.000000</td>\n",
       "      <td>0.000000</td>\n",
       "      <td>0.000000</td>\n",
       "    </tr>\n",
       "    <tr>\n",
       "      <th>75%</th>\n",
       "      <td>55570.750000</td>\n",
       "      <td>1.132558e+08</td>\n",
       "      <td>1.132682e+08</td>\n",
       "      <td>3.000000</td>\n",
       "      <td>0.000000</td>\n",
       "      <td>0.000000</td>\n",
       "      <td>0.000000</td>\n",
       "      <td>3.00000</td>\n",
       "      <td>0.000000</td>\n",
       "      <td>18.000000</td>\n",
       "      <td>0.000000</td>\n",
       "      <td>0.000000</td>\n",
       "      <td>0.000000</td>\n",
       "      <td>24.000000</td>\n",
       "      <td>0.000000</td>\n",
       "    </tr>\n",
       "    <tr>\n",
       "      <th>max</th>\n",
       "      <td>81919.000000</td>\n",
       "      <td>2.489166e+08</td>\n",
       "      <td>2.489180e+08</td>\n",
       "      <td>12465.000000</td>\n",
       "      <td>4761.000000</td>\n",
       "      <td>900.000000</td>\n",
       "      <td>2870.000000</td>\n",
       "      <td>11770.00000</td>\n",
       "      <td>9767.000000</td>\n",
       "      <td>38687.000000</td>\n",
       "      <td>86727.000000</td>\n",
       "      <td>1680.000000</td>\n",
       "      <td>14861.000000</td>\n",
       "      <td>36014.000000</td>\n",
       "      <td>53068.000000</td>\n",
       "    </tr>\n",
       "  </tbody>\n",
       "</table>\n",
       "</div>"
      ],
      "text/plain": [
       "          Unnamed: 0         start           end  BSJ-PP_Input1  \\\n",
       "count  125726.000000  1.257260e+05  1.257260e+05  125726.000000   \n",
       "mean    35534.000422  7.921319e+07  7.923495e+07       7.353244   \n",
       "std     23086.259576  5.606843e+07  5.606950e+07      72.095618   \n",
       "min         0.000000  1.326000e+03  1.337600e+04       0.000000   \n",
       "25%     14354.250000  3.493146e+07  3.494271e+07       0.000000   \n",
       "50%     34009.500000  6.813128e+07  6.817280e+07       1.000000   \n",
       "75%     55570.750000  1.132558e+08  1.132682e+08       3.000000   \n",
       "max     81919.000000  2.489166e+08  2.489180e+08   12465.000000   \n",
       "\n",
       "       BSJ-PP_Monosome2  BSJ-PP_Polysome1  BSJ-PP_Polysome2  BSJ-PP_Input2  \\\n",
       "count     125726.000000     125726.000000     125726.000000   125726.00000   \n",
       "mean           1.307717          0.233842          0.691901        7.97699   \n",
       "std           20.918795          5.472595         11.625428       74.84249   \n",
       "min            0.000000          0.000000          0.000000        0.00000   \n",
       "25%            0.000000          0.000000          0.000000        0.00000   \n",
       "50%            0.000000          0.000000          0.000000        1.00000   \n",
       "75%            0.000000          0.000000          0.000000        3.00000   \n",
       "max         4761.000000        900.000000       2870.000000    11770.00000   \n",
       "\n",
       "       BSJ-PP_Monosome1  FSJ-PP_Input1  FSJ-PP_Monosome2  FSJ-PP_Polysome1  \\\n",
       "count     125726.000000  125726.000000     125726.000000     125726.000000   \n",
       "mean           1.516122      61.458600         13.359027          0.363171   \n",
       "std           31.424709     372.518697        421.262759          9.868418   \n",
       "min            0.000000       0.000000          0.000000          0.000000   \n",
       "25%            0.000000       0.000000          0.000000          0.000000   \n",
       "50%            0.000000       0.000000          0.000000          0.000000   \n",
       "75%            0.000000      18.000000          0.000000          0.000000   \n",
       "max         9767.000000   38687.000000      86727.000000       1680.000000   \n",
       "\n",
       "       FSJ-PP_Polysome2  FSJ-PP_Input2  FSJ-PP_Monosome1  \n",
       "count     125726.000000  125726.000000     125726.000000  \n",
       "mean          13.742567      68.525078         14.666067  \n",
       "std          126.555801     384.785962        243.479317  \n",
       "min            0.000000       0.000000          0.000000  \n",
       "25%            0.000000       0.000000          0.000000  \n",
       "50%            0.000000       0.000000          0.000000  \n",
       "75%            0.000000      24.000000          0.000000  \n",
       "max        14861.000000   36014.000000      53068.000000  "
      ]
     },
     "execution_count": 6,
     "metadata": {},
     "output_type": "execute_result"
    }
   ],
   "source": [
    "counts.describe()"
   ]
  },
  {
   "cell_type": "code",
   "execution_count": 51,
   "id": "0b7839f7-6e12-4ceb-879f-0fc387f19edb",
   "metadata": {
    "tags": []
   },
   "outputs": [],
   "source": [
    "from itertools import combinations\n",
    "import statsmodels.formula.api as smf\n",
    "#https://stackoverflow.com/questions/46173061/statsmodels-throws-overflow-in-exp-and-divide-by-zero-in-log-warnings-and-ps\n",
    "#extermely large numbers causing problems\n",
    "\n",
    "nread_threshold = 1000\n",
    "for (rep1, rep2) in combinations(replicates,2):\n",
    "    y = f'BSJ-{rep1}'\n",
    "    x = f'BSJ-{rep2}'\n",
    "    sub_counts = counts\n",
    "    \n",
    "    poisson_training_results = sm.GLM(sub_counts[y], np.log(sub_counts[x]+1), family=sm.families.Poisson()).fit()\n",
    "    \n",
    "    # get lambda from Poisson\n",
    "    sub_counts['BB_LAMBDA'] = poisson_training_results.mu\n",
    "    sub_counts['AUX_OLS_DEP'] = sub_counts.apply(lambda row: ((row[y] - row['BB_LAMBDA'])**2 - row['BB_LAMBDA']) / row['BB_LAMBDA'], axis=1)\n",
    "    ols_expr = \"\"\"AUX_OLS_DEP ~ BB_LAMBDA - 1\"\"\"\n",
    "    aux_olsr_results = smf.ols(ols_expr, sub_counts).fit()\n",
    "    \n",
    "    # fit nb\n",
    "    nb2_training_results = sm.GLM(sub_counts[y], np.log(sub_counts[x]+1),\n",
    "                                  family=sm.families.NegativeBinomial(alpha=aux_olsr_results.params[0])).fit()"
   ]
  },
  {
   "cell_type": "code",
   "execution_count": 52,
   "id": "9751ca29-6666-4132-9c38-542592df124f",
   "metadata": {
    "tags": []
   },
   "outputs": [
    {
     "data": {
      "text/plain": [
       "BB_LAMBDA    0.604592\n",
       "dtype: float64"
      ]
     },
     "execution_count": 52,
     "metadata": {},
     "output_type": "execute_result"
    }
   ],
   "source": [
    "aux_olsr_results.tvalues"
   ]
  },
  {
   "cell_type": "code",
   "execution_count": 53,
   "id": "05bb4000-2007-4e44-bdf2-76a7b01a8255",
   "metadata": {
    "tags": []
   },
   "outputs": [
    {
     "data": {
      "text/html": [
       "<table class=\"simpletable\">\n",
       "<caption>OLS Regression Results</caption>\n",
       "<tr>\n",
       "  <th>Dep. Variable:</th>       <td>AUX_OLS_DEP</td>   <th>  R-squared (uncentered):</th>       <td>   0.000</td>  \n",
       "</tr>\n",
       "<tr>\n",
       "  <th>Model:</th>                   <td>OLS</td>       <th>  Adj. R-squared (uncentered):</th>  <td>  -0.000</td>  \n",
       "</tr>\n",
       "<tr>\n",
       "  <th>Method:</th>             <td>Least Squares</td>  <th>  F-statistic:       </th>           <td>  0.3655</td>  \n",
       "</tr>\n",
       "<tr>\n",
       "  <th>Date:</th>             <td>Thu, 21 Sep 2023</td> <th>  Prob (F-statistic):</th>            <td> 0.545</td>   \n",
       "</tr>\n",
       "<tr>\n",
       "  <th>Time:</th>                 <td>09:45:25</td>     <th>  Log-Likelihood:    </th>          <td>-1.1809e+06</td>\n",
       "</tr>\n",
       "<tr>\n",
       "  <th>No. Observations:</th>      <td>125726</td>      <th>  AIC:               </th>           <td>2.362e+06</td> \n",
       "</tr>\n",
       "<tr>\n",
       "  <th>Df Residuals:</th>          <td>125725</td>      <th>  BIC:               </th>           <td>2.362e+06</td> \n",
       "</tr>\n",
       "<tr>\n",
       "  <th>Df Model:</th>              <td>     1</td>      <th>                     </th>               <td> </td>     \n",
       "</tr>\n",
       "<tr>\n",
       "  <th>Covariance Type:</th>      <td>nonrobust</td>    <th>                     </th>               <td> </td>     \n",
       "</tr>\n",
       "</table>\n",
       "<table class=\"simpletable\">\n",
       "<tr>\n",
       "      <td></td>         <th>coef</th>     <th>std err</th>      <th>t</th>      <th>P>|t|</th>  <th>[0.025</th>    <th>0.975]</th>  \n",
       "</tr>\n",
       "<tr>\n",
       "  <th>BB_LAMBDA</th> <td>    0.0813</td> <td>    0.134</td> <td>    0.605</td> <td> 0.545</td> <td>   -0.182</td> <td>    0.345</td>\n",
       "</tr>\n",
       "</table>\n",
       "<table class=\"simpletable\">\n",
       "<tr>\n",
       "  <th>Omnibus:</th>       <td>715300.375</td> <th>  Durbin-Watson:     </th>      <td>   2.000</td>     \n",
       "</tr>\n",
       "<tr>\n",
       "  <th>Prob(Omnibus):</th>   <td> 0.000</td>   <th>  Jarque-Bera (JB):  </th> <td>77080378524326.906</td>\n",
       "</tr>\n",
       "<tr>\n",
       "  <th>Skew:</th>            <td>345.826</td>  <th>  Prob(JB):          </th>      <td>    0.00</td>     \n",
       "</tr>\n",
       "<tr>\n",
       "  <th>Kurtosis:</th>      <td>121302.198</td> <th>  Cond. No.          </th>      <td>    1.00</td>     \n",
       "</tr>\n",
       "</table><br/><br/>Notes:<br/>[1] R² is computed without centering (uncentered) since the model does not contain a constant.<br/>[2] Standard Errors assume that the covariance matrix of the errors is correctly specified."
      ],
      "text/plain": [
       "<class 'statsmodels.iolib.summary.Summary'>\n",
       "\"\"\"\n",
       "                                 OLS Regression Results                                \n",
       "=======================================================================================\n",
       "Dep. Variable:            AUX_OLS_DEP   R-squared (uncentered):                   0.000\n",
       "Model:                            OLS   Adj. R-squared (uncentered):             -0.000\n",
       "Method:                 Least Squares   F-statistic:                             0.3655\n",
       "Date:                Thu, 21 Sep 2023   Prob (F-statistic):                       0.545\n",
       "Time:                        09:45:25   Log-Likelihood:                     -1.1809e+06\n",
       "No. Observations:              125726   AIC:                                  2.362e+06\n",
       "Df Residuals:                  125725   BIC:                                  2.362e+06\n",
       "Df Model:                           1                                                  \n",
       "Covariance Type:            nonrobust                                                  \n",
       "==============================================================================\n",
       "                 coef    std err          t      P>|t|      [0.025      0.975]\n",
       "------------------------------------------------------------------------------\n",
       "BB_LAMBDA      0.0813      0.134      0.605      0.545      -0.182       0.345\n",
       "==============================================================================\n",
       "Omnibus:                   715300.375   Durbin-Watson:                   2.000\n",
       "Prob(Omnibus):                  0.000   Jarque-Bera (JB):   77080378524326.906\n",
       "Skew:                         345.826   Prob(JB):                         0.00\n",
       "Kurtosis:                  121302.198   Cond. No.                         1.00\n",
       "==============================================================================\n",
       "\n",
       "Notes:\n",
       "[1] R² is computed without centering (uncentered) since the model does not contain a constant.\n",
       "[2] Standard Errors assume that the covariance matrix of the errors is correctly specified.\n",
       "\"\"\""
      ]
     },
     "execution_count": 53,
     "metadata": {},
     "output_type": "execute_result"
    }
   ],
   "source": [
    "aux_olsr_results.summary()"
   ]
  },
  {
   "cell_type": "code",
   "execution_count": 54,
   "id": "cbf0b888-d5bd-480c-9462-fb72b218a430",
   "metadata": {
    "tags": []
   },
   "outputs": [
    {
     "data": {
      "text/plain": [
       "(0.0, 100.0)"
      ]
     },
     "execution_count": 54,
     "metadata": {},
     "output_type": "execute_result"
    },
    {
     "data": {
      "image/png": "[encoded data removed]",
      "text/plain": [
       "<Figure size 432x288 with 1 Axes>"
      ]
     },
     "metadata": {
      "needs_background": "light"
     },
     "output_type": "display_data"
    }
   ],
   "source": [
    "sub_counts.plot.scatter(y = 'AUX_OLS_DEP', x = 'BB_LAMBDA')\n",
    "plt.xlim(0,100)"
   ]
  },
  {
   "cell_type": "code",
   "execution_count": 55,
   "id": "d44f0021-dbe7-4890-930a-12d45342304a",
   "metadata": {
    "tags": []
   },
   "outputs": [
    {
     "data": {
      "text/html": [
       "<table class=\"simpletable\">\n",
       "<caption>Generalized Linear Model Regression Results</caption>\n",
       "<tr>\n",
       "  <th>Dep. Variable:</th>     <td>BSJ-PP_Input1</td>  <th>  No. Observations:  </th>   <td>125726</td>   \n",
       "</tr>\n",
       "<tr>\n",
       "  <th>Model:</th>                  <td>GLM</td>       <th>  Df Residuals:      </th>   <td>125725</td>   \n",
       "</tr>\n",
       "<tr>\n",
       "  <th>Model Family:</th>    <td>NegativeBinomial</td> <th>  Df Model:          </th>   <td>     0</td>   \n",
       "</tr>\n",
       "<tr>\n",
       "  <th>Link Function:</th>          <td>Log</td>       <th>  Scale:             </th>  <td>  1.0000</td>  \n",
       "</tr>\n",
       "<tr>\n",
       "  <th>Method:</th>                <td>IRLS</td>       <th>  Log-Likelihood:    </th> <td>-3.1269e+05</td>\n",
       "</tr>\n",
       "<tr>\n",
       "  <th>Date:</th>            <td>Thu, 21 Sep 2023</td> <th>  Deviance:          </th> <td>3.6504e+05</td> \n",
       "</tr>\n",
       "<tr>\n",
       "  <th>Time:</th>                <td>09:45:35</td>     <th>  Pearson chi2:      </th>  <td>1.53e+06</td>  \n",
       "</tr>\n",
       "<tr>\n",
       "  <th>No. Iterations:</th>         <td>10</td>        <th>  Pseudo R-squ. (CS):</th>   <td> 1.000</td>   \n",
       "</tr>\n",
       "<tr>\n",
       "  <th>Covariance Type:</th>     <td>nonrobust</td>    <th>                     </th>      <td> </td>     \n",
       "</tr>\n",
       "</table>\n",
       "<table class=\"simpletable\">\n",
       "<tr>\n",
       "        <td></td>           <th>coef</th>     <th>std err</th>      <th>z</th>      <th>P>|z|</th>  <th>[0.025</th>    <th>0.975]</th>  \n",
       "</tr>\n",
       "<tr>\n",
       "  <th>BSJ-PP_Input2</th> <td>    0.9009</td> <td>    0.001</td> <td> 1204.176</td> <td> 0.000</td> <td>    0.899</td> <td>    0.902</td>\n",
       "</tr>\n",
       "</table>"
      ],
      "text/plain": [
       "<class 'statsmodels.iolib.summary.Summary'>\n",
       "\"\"\"\n",
       "                 Generalized Linear Model Regression Results                  \n",
       "==============================================================================\n",
       "Dep. Variable:          BSJ-PP_Input1   No. Observations:               125726\n",
       "Model:                            GLM   Df Residuals:                   125725\n",
       "Model Family:        NegativeBinomial   Df Model:                            0\n",
       "Link Function:                    Log   Scale:                          1.0000\n",
       "Method:                          IRLS   Log-Likelihood:            -3.1269e+05\n",
       "Date:                Thu, 21 Sep 2023   Deviance:                   3.6504e+05\n",
       "Time:                        09:45:35   Pearson chi2:                 1.53e+06\n",
       "No. Iterations:                    10   Pseudo R-squ. (CS):              1.000\n",
       "Covariance Type:            nonrobust                                         \n",
       "=================================================================================\n",
       "                    coef    std err          z      P>|z|      [0.025      0.975]\n",
       "---------------------------------------------------------------------------------\n",
       "BSJ-PP_Input2     0.9009      0.001   1204.176      0.000       0.899       0.902\n",
       "=================================================================================\n",
       "\"\"\""
      ]
     },
     "execution_count": 55,
     "metadata": {},
     "output_type": "execute_result"
    }
   ],
   "source": [
    "nb2_training_results.summary()"
   ]
  },
  {
   "cell_type": "code",
   "execution_count": 56,
   "id": "829676a1-ad53-4e5f-9c42-c3a95aa1fe9f",
   "metadata": {
    "tags": []
   },
   "outputs": [
    {
     "data": {
      "text/html": [
       "<table class=\"simpletable\">\n",
       "<caption>Generalized Linear Model Regression Results</caption>\n",
       "<tr>\n",
       "  <th>Dep. Variable:</th>     <td>BSJ-PP_Input1</td>  <th>  No. Observations:  </th>   <td>125726</td>   \n",
       "</tr>\n",
       "<tr>\n",
       "  <th>Model:</th>                  <td>GLM</td>       <th>  Df Residuals:      </th>   <td>125725</td>   \n",
       "</tr>\n",
       "<tr>\n",
       "  <th>Model Family:</th>         <td>Poisson</td>     <th>  Df Model:          </th>   <td>     0</td>   \n",
       "</tr>\n",
       "<tr>\n",
       "  <th>Link Function:</th>          <td>Log</td>       <th>  Scale:             </th>  <td>  1.0000</td>  \n",
       "</tr>\n",
       "<tr>\n",
       "  <th>Method:</th>                <td>IRLS</td>       <th>  Log-Likelihood:    </th> <td>-3.7327e+05</td>\n",
       "</tr>\n",
       "<tr>\n",
       "  <th>Date:</th>            <td>Thu, 21 Sep 2023</td> <th>  Deviance:          </th> <td>5.1440e+05</td> \n",
       "</tr>\n",
       "<tr>\n",
       "  <th>Time:</th>                <td>09:45:36</td>     <th>  Pearson chi2:      </th>  <td>1.74e+06</td>  \n",
       "</tr>\n",
       "<tr>\n",
       "  <th>No. Iterations:</th>          <td>5</td>        <th>  Pseudo R-squ. (CS):</th>   <td> 1.000</td>   \n",
       "</tr>\n",
       "<tr>\n",
       "  <th>Covariance Type:</th>     <td>nonrobust</td>    <th>                     </th>      <td> </td>     \n",
       "</tr>\n",
       "</table>\n",
       "<table class=\"simpletable\">\n",
       "<tr>\n",
       "        <td></td>           <th>coef</th>     <th>std err</th>      <th>z</th>      <th>P>|z|</th>  <th>[0.025</th>    <th>0.975]</th>  \n",
       "</tr>\n",
       "<tr>\n",
       "  <th>BSJ-PP_Input2</th> <td>    0.9734</td> <td>    0.000</td> <td> 4547.612</td> <td> 0.000</td> <td>    0.973</td> <td>    0.974</td>\n",
       "</tr>\n",
       "</table>"
      ],
      "text/plain": [
       "<class 'statsmodels.iolib.summary.Summary'>\n",
       "\"\"\"\n",
       "                 Generalized Linear Model Regression Results                  \n",
       "==============================================================================\n",
       "Dep. Variable:          BSJ-PP_Input1   No. Observations:               125726\n",
       "Model:                            GLM   Df Residuals:                   125725\n",
       "Model Family:                 Poisson   Df Model:                            0\n",
       "Link Function:                    Log   Scale:                          1.0000\n",
       "Method:                          IRLS   Log-Likelihood:            -3.7327e+05\n",
       "Date:                Thu, 21 Sep 2023   Deviance:                   5.1440e+05\n",
       "Time:                        09:45:36   Pearson chi2:                 1.74e+06\n",
       "No. Iterations:                     5   Pseudo R-squ. (CS):              1.000\n",
       "Covariance Type:            nonrobust                                         \n",
       "=================================================================================\n",
       "                    coef    std err          z      P>|z|      [0.025      0.975]\n",
       "---------------------------------------------------------------------------------\n",
       "BSJ-PP_Input2     0.9734      0.000   4547.612      0.000       0.973       0.974\n",
       "=================================================================================\n",
       "\"\"\""
      ]
     },
     "execution_count": 56,
     "metadata": {},
     "output_type": "execute_result"
    }
   ],
   "source": [
    "poisson_training_results.summary()"
   ]
  },
  {
   "cell_type": "code",
   "execution_count": 57,
   "id": "3e5c9d43-ed29-43ee-b68e-600d9f192480",
   "metadata": {
    "tags": []
   },
   "outputs": [],
   "source": [
    "# for (rep1, rep2) in combinations(replicates,2):\n",
    "#     y = f'BSJ-{rep1}'\n",
    "#     x = [f'BSJ-{rep2}', f'FSJ-{rep1}', f'FSJ-{rep2}']\n",
    "    \n",
    "#     poisson_training_results_2 = sm.GLM(counts[y], counts[x], family=sm.families.Poisson()).fit()"
   ]
  },
  {
   "cell_type": "code",
   "execution_count": 58,
   "id": "3c305aa8-cb5f-46b9-8f38-7bb2e6486a3e",
   "metadata": {
    "tags": []
   },
   "outputs": [
    {
     "data": {
      "image/png": "[encoded data removed]",
      "text/plain": [
       "<Figure size 432x288 with 1 Axes>"
      ]
     },
     "metadata": {
      "needs_background": "light"
     },
     "output_type": "display_data"
    }
   ],
   "source": [
    "f = poisson_training_results.plot_partial_residuals(x)"
   ]
  },
  {
   "cell_type": "code",
   "execution_count": 59,
   "id": "3d66e4c8-d096-4225-82bf-0e87de9f9729",
   "metadata": {
    "tags": []
   },
   "outputs": [
    {
     "data": {
      "text/plain": [
       "[<matplotlib.lines.Line2D at 0x2b89b21c3790>]"
      ]
     },
     "execution_count": 59,
     "metadata": {},
     "output_type": "execute_result"
    },
    {
     "data": {
      "image/png": "[encoded data removed]",
      "text/plain": [
       "<Figure size 432x288 with 1 Axes>"
      ]
     },
     "metadata": {
      "needs_background": "light"
     },
     "output_type": "display_data"
    }
   ],
   "source": [
    "plt.scatter(counts[y], nb2_training_results.predict(np.log(counts[x]+1)),)\n",
    "plt.xlabel('Y')\n",
    "plt.ylabel('Y_hat')\n",
    "plt.plot([0, counts[y].max()], [0, counts[y].max()], '--', color = 'black')"
   ]
  },
  {
   "cell_type": "code",
   "execution_count": 60,
   "id": "2cf08eda-a510-43a2-9603-2ce3a5167f7b",
   "metadata": {
    "tags": []
   },
   "outputs": [
    {
     "data": {
      "text/plain": [
       "[<matplotlib.lines.Line2D at 0x2b89b2239cd0>]"
      ]
     },
     "execution_count": 60,
     "metadata": {},
     "output_type": "execute_result"
    },
    {
     "data": {
      "image/png": "[encoded data removed]",
      "text/plain": [
       "<Figure size 432x288 with 1 Axes>"
      ]
     },
     "metadata": {
      "needs_background": "light"
     },
     "output_type": "display_data"
    }
   ],
   "source": [
    "plt.scatter(counts[y], poisson_training_results.predict(np.log(counts[x]+1)))\n",
    "plt.xlabel('Y')\n",
    "plt.ylabel('Y_hat')\n",
    "plt.plot([0, counts[y].max()], [0, counts[y].max()], '--', color = 'black')"
   ]
  },
  {
   "cell_type": "code",
   "execution_count": 61,
   "id": "7d4ef93b-8d55-4d72-bec2-0c230fd455ae",
   "metadata": {
    "tags": []
   },
   "outputs": [
    {
     "data": {
      "image/png": "[encoded data removed]",
      "text/plain": [
       "<Figure size 432x288 with 1 Axes>"
      ]
     },
     "metadata": {
      "needs_background": "light"
     },
     "output_type": "display_data"
    }
   ],
   "source": [
    "plt.scatter(counts[x], counts[y])\n",
    "plt.xscale('log')\n",
    "plt.yscale('log')"
   ]
  },
  {
   "cell_type": "code",
   "execution_count": 62,
   "id": "92c3a81a-1715-4240-ac80-956565b27a37",
   "metadata": {
    "tags": []
   },
   "outputs": [
    {
     "data": {
      "text/plain": [
       "<matplotlib.collections.PathCollection at 0x2b89b1cd6550>"
      ]
     },
     "execution_count": 62,
     "metadata": {},
     "output_type": "execute_result"
    },
    {
     "data": {
      "image/png": "[encoded data removed]",
      "text/plain": [
       "<Figure size 432x288 with 1 Axes>"
      ]
     },
     "metadata": {
      "needs_background": "light"
     },
     "output_type": "display_data"
    }
   ],
   "source": [
    "plt.scatter(nb2_training_results.fittedvalues, nb2_training_results.resid_deviance)"
   ]
  },
  {
   "cell_type": "code",
   "execution_count": 92,
   "id": "ae9977eb-668d-40de-97c4-1f32a4656a88",
   "metadata": {
    "tags": []
   },
   "outputs": [
    {
     "data": {
      "text/plain": [
       "<AxesSubplot: xlabel='fitted', ylabel='deviance'>"
      ]
     },
     "execution_count": 92,
     "metadata": {},
     "output_type": "execute_result"
    },
    {
     "data": {
      "image/png": "[encoded data removed]",
      "text/plain": [
       "<Figure size 432x288 with 1 Axes>"
      ]
     },
     "metadata": {
      "needs_background": "light"
     },
     "output_type": "display_data"
    }
   ],
   "source": [
    "dev = pd.DataFrame([poisson_training_results.fittedvalues, poisson_training_results.resid_deviance],\n",
    "                  index = ['fitted', 'deviance']).T\n",
    "dev.plot.scatter(x = f'fitted', y = 'deviance')\n",
    "dev = pd.concat([dev, sub_counts], axis = 1)"
   ]
  },
  {
   "cell_type": "code",
   "execution_count": 88,
   "id": "4c515443-ba3c-49b9-ad0c-c8b16f806839",
   "metadata": {
    "tags": []
   },
   "outputs": [
    {
     "data": {
      "image/png": "[encoded data removed]",
      "text/plain": [
       "<Figure size 432x288 with 1 Axes>"
      ]
     },
     "metadata": {
      "needs_background": "light"
     },
     "output_type": "display_data"
    }
   ],
   "source": [
    "dev.plot.scatter(x = f'FSJ-{rep1}', y = 'deviance')\n",
    "plt.xscale('log')\n"
   ]
  },
  {
   "cell_type": "code",
   "execution_count": 89,
   "id": "78fd74a9-870b-49ea-9e8c-df335fdf2b71",
   "metadata": {
    "tags": []
   },
   "outputs": [
    {
     "data": {
      "image/png": "[encoded data removed]",
      "text/plain": [
       "<Figure size 432x288 with 1 Axes>"
      ]
     },
     "metadata": {
      "needs_background": "light"
     },
     "output_type": "display_data"
    }
   ],
   "source": [
    "dev.plot.scatter(x = f'FSJ-{rep2}', y = 'deviance')\n",
    "plt.xscale('log')\n"
   ]
  },
  {
   "cell_type": "code",
   "execution_count": 90,
   "id": "1d4d9d43-af65-48a5-a08b-b923fd46dc3d",
   "metadata": {
    "tags": []
   },
   "outputs": [
    {
     "data": {
      "image/png": "[encoded data removed]",
      "text/plain": [
       "<Figure size 432x288 with 1 Axes>"
      ]
     },
     "metadata": {
      "needs_background": "light"
     },
     "output_type": "display_data"
    }
   ],
   "source": [
    "dev.plot.scatter(x = f'BSJ-{rep1}', y = 'deviance')\n",
    "plt.xscale('log')\n"
   ]
  },
  {
   "cell_type": "code",
   "execution_count": 91,
   "id": "dfae31f2-5659-42ef-a1b6-0142ff723bdc",
   "metadata": {
    "tags": []
   },
   "outputs": [
    {
     "data": {
      "image/png": "[encoded data removed]",
      "text/plain": [
       "<Figure size 432x288 with 1 Axes>"
      ]
     },
     "metadata": {
      "needs_background": "light"
     },
     "output_type": "display_data"
    }
   ],
   "source": [
    "dev.plot.scatter(x = f'BSJ-{rep2}', y = 'deviance')\n",
    "plt.xscale('log')\n"
   ]
  },
  {
   "cell_type": "code",
   "execution_count": 95,
   "id": "98d2e7d2-94d3-44e1-8a46-cfbbbca0fda3",
   "metadata": {
    "tags": []
   },
   "outputs": [
    {
     "data": {
      "text/plain": [
       "Unnamed: 0                                                          0\n",
       "seqname                                                          chr1\n",
       "source                                                      CIRIquant\n",
       "feature                                                       circRNA\n",
       "start                                                        746695.0\n",
       "end                                                          749381.0\n",
       "strand                                                              -\n",
       "frame                                                               .\n",
       "circ_id                                            chr1:746695|749381\n",
       "circ_type                                                      intron\n",
       "gene_id                          ENSG00000228327.3,ENSG00000230021.10\n",
       "gene_name                                       AL669831.1,AL669831.3\n",
       "gene_type           transcribed_unprocessed_pseudogene,transcribed...\n",
       "BSJ-PP_Input1                                                    29.0\n",
       "BSJ-PP_Monosome2                                                  0.0\n",
       "BSJ-PP_Polysome1                                                  0.0\n",
       "BSJ-PP_Polysome2                                                  0.0\n",
       "BSJ-PP_Input2                                                    24.0\n",
       "BSJ-PP_Monosome1                                                  0.0\n",
       "FSJ-PP_Input1                                                     4.0\n",
       "FSJ-PP_Monosome2                                                  0.0\n",
       "FSJ-PP_Polysome1                                                  0.0\n",
       "FSJ-PP_Polysome2                                                  0.0\n",
       "FSJ-PP_Input2                                                    42.0\n",
       "FSJ-PP_Monosome1                                                  0.0\n",
       "BB_LAMBDA                                                   22.946116\n",
       "AUX_OLS_DEP                                                  0.597199\n",
       "Name: 0, dtype: object"
      ]
     },
     "execution_count": 95,
     "metadata": {},
     "output_type": "execute_result"
    }
   ],
   "source": [
    "sub_counts.iloc[0]"
   ]
  },
  {
   "cell_type": "code",
   "execution_count": 99,
   "id": "1dd7bd9b-996f-4e32-b8f8-9956da2df6ca",
   "metadata": {
    "tags": []
   },
   "outputs": [],
   "source": [
    "from scipy.stats import poisson\n",
    "sub_counts['pvalue']=sub_counts.apply(lambda row: 1-poisson(row['BB_LAMBDA']).cdf(row[f'BSJ-{rep1}']), axis = 1)\n"
   ]
  },
  {
   "cell_type": "code",
   "execution_count": 101,
   "id": "4013426d-90f1-418f-8534-cda301f5a04a",
   "metadata": {
    "tags": []
   },
   "outputs": [
    {
     "data": {
      "image/png": "[encoded data removed]",
      "text/plain": [
       "<Figure size 432x288 with 1 Axes>"
      ]
     },
     "metadata": {
      "needs_background": "light"
     },
     "output_type": "display_data"
    }
   ],
   "source": [
    "import scipy\n",
    "p = sm.qqplot(sub_counts['pvalue'], line ='45',\n",
    "             dist=scipy.stats.uniform)"
   ]
  },
  {
   "cell_type": "code",
   "execution_count": 106,
   "id": "ef1c6f91-b327-4b3c-b0ed-7a151d098c96",
   "metadata": {},
   "outputs": [
    {
     "data": {
      "image/png": "[encoded data removed]",
      "text/plain": [
       "<Figure size 432x288 with 1 Axes>"
      ]
     },
     "metadata": {
      "needs_background": "light"
     },
     "output_type": "display_data"
    }
   ],
   "source": [
    "\n",
    "p = sm.qqplot(sub_counts.loc[(sub_counts[y]+sub_counts[x])>10, 'pvalue'], line ='45',\n",
    "             dist=scipy.stats.uniform)"
   ]
  },
  {
   "cell_type": "code",
   "execution_count": 107,
   "id": "806665e5-b108-4ca6-b6ae-07e9be54e01b",
   "metadata": {
    "tags": []
   },
   "outputs": [
    {
     "data": {
      "text/plain": [
       "<AxesSubplot: >"
      ]
     },
     "execution_count": 107,
     "metadata": {},
     "output_type": "execute_result"
    },
    {
     "data": {
      "image/png": "[encoded data removed]",
      "text/plain": [
       "<Figure size 432x288 with 1 Axes>"
      ]
     },
     "metadata": {
      "needs_background": "light"
     },
     "output_type": "display_data"
    }
   ],
   "source": [
    "sub_counts.loc[(sub_counts[y]+sub_counts[x])>10, 'pvalue'].hist()"
   ]
  },
  {
   "cell_type": "code",
   "execution_count": 109,
   "id": "5ae1b20d-9b9a-4cc2-8139-5f0c721ae0a3",
   "metadata": {
    "tags": []
   },
   "outputs": [
    {
     "data": {
      "text/html": [
       "<div>\n",
       "<style scoped>\n",
       "    .dataframe tbody tr th:only-of-type {\n",
       "        vertical-align: middle;\n",
       "    }\n",
       "\n",
       "    .dataframe tbody tr th {\n",
       "        vertical-align: top;\n",
       "    }\n",
       "\n",
       "    .dataframe thead th {\n",
       "        text-align: right;\n",
       "    }\n",
       "</style>\n",
       "<table border=\"1\" class=\"dataframe\">\n",
       "  <thead>\n",
       "    <tr style=\"text-align: right;\">\n",
       "      <th></th>\n",
       "      <th>BSJ-PP_Input2</th>\n",
       "      <th>BSJ-PP_Input1</th>\n",
       "    </tr>\n",
       "  </thead>\n",
       "  <tbody>\n",
       "    <tr>\n",
       "      <th>191</th>\n",
       "      <td>164.0</td>\n",
       "      <td>276.0</td>\n",
       "    </tr>\n",
       "    <tr>\n",
       "      <th>951</th>\n",
       "      <td>657.0</td>\n",
       "      <td>1288.0</td>\n",
       "    </tr>\n",
       "    <tr>\n",
       "      <th>1187</th>\n",
       "      <td>568.0</td>\n",
       "      <td>681.0</td>\n",
       "    </tr>\n",
       "    <tr>\n",
       "      <th>1447</th>\n",
       "      <td>0.0</td>\n",
       "      <td>18.0</td>\n",
       "    </tr>\n",
       "    <tr>\n",
       "      <th>1558</th>\n",
       "      <td>0.0</td>\n",
       "      <td>18.0</td>\n",
       "    </tr>\n",
       "    <tr>\n",
       "      <th>...</th>\n",
       "      <td>...</td>\n",
       "      <td>...</td>\n",
       "    </tr>\n",
       "    <tr>\n",
       "      <th>71681</th>\n",
       "      <td>38.0</td>\n",
       "      <td>122.0</td>\n",
       "    </tr>\n",
       "    <tr>\n",
       "      <th>72420</th>\n",
       "      <td>0.0</td>\n",
       "      <td>170.0</td>\n",
       "    </tr>\n",
       "    <tr>\n",
       "      <th>73984</th>\n",
       "      <td>1.0</td>\n",
       "      <td>24.0</td>\n",
       "    </tr>\n",
       "    <tr>\n",
       "      <th>74678</th>\n",
       "      <td>811.0</td>\n",
       "      <td>1148.0</td>\n",
       "    </tr>\n",
       "    <tr>\n",
       "      <th>74782</th>\n",
       "      <td>0.0</td>\n",
       "      <td>36.0</td>\n",
       "    </tr>\n",
       "  </tbody>\n",
       "</table>\n",
       "<p>142 rows × 2 columns</p>\n",
       "</div>"
      ],
      "text/plain": [
       "       BSJ-PP_Input2  BSJ-PP_Input1\n",
       "191            164.0          276.0\n",
       "951            657.0         1288.0\n",
       "1187           568.0          681.0\n",
       "1447             0.0           18.0\n",
       "1558             0.0           18.0\n",
       "...              ...            ...\n",
       "71681           38.0          122.0\n",
       "72420            0.0          170.0\n",
       "73984            1.0           24.0\n",
       "74678          811.0         1148.0\n",
       "74782            0.0           36.0\n",
       "\n",
       "[142 rows x 2 columns]"
      ]
     },
     "execution_count": 109,
     "metadata": {},
     "output_type": "execute_result"
    }
   ],
   "source": [
    "sub_counts.loc[sub_counts['pvalue']==0, [x,y]]"
   ]
  },
  {
   "cell_type": "code",
   "execution_count": 110,
   "id": "a2963a29-ba23-40c9-aa74-e75203be0b7a",
   "metadata": {
    "tags": []
   },
   "outputs": [
    {
     "data": {
      "text/html": [
       "<div>\n",
       "<style scoped>\n",
       "    .dataframe tbody tr th:only-of-type {\n",
       "        vertical-align: middle;\n",
       "    }\n",
       "\n",
       "    .dataframe tbody tr th {\n",
       "        vertical-align: top;\n",
       "    }\n",
       "\n",
       "    .dataframe thead th {\n",
       "        text-align: right;\n",
       "    }\n",
       "</style>\n",
       "<table border=\"1\" class=\"dataframe\">\n",
       "  <thead>\n",
       "    <tr style=\"text-align: right;\">\n",
       "      <th></th>\n",
       "      <th>BSJ-PP_Input2</th>\n",
       "      <th>BSJ-PP_Input1</th>\n",
       "    </tr>\n",
       "  </thead>\n",
       "  <tbody>\n",
       "    <tr>\n",
       "      <th>170</th>\n",
       "      <td>187.0</td>\n",
       "      <td>42.0</td>\n",
       "    </tr>\n",
       "    <tr>\n",
       "      <th>4875</th>\n",
       "      <td>858.0</td>\n",
       "      <td>495.0</td>\n",
       "    </tr>\n",
       "    <tr>\n",
       "      <th>11744</th>\n",
       "      <td>770.0</td>\n",
       "      <td>441.0</td>\n",
       "    </tr>\n",
       "    <tr>\n",
       "      <th>14248</th>\n",
       "      <td>150.0</td>\n",
       "      <td>28.0</td>\n",
       "    </tr>\n",
       "    <tr>\n",
       "      <th>19758</th>\n",
       "      <td>190.0</td>\n",
       "      <td>41.0</td>\n",
       "    </tr>\n",
       "    <tr>\n",
       "      <th>26713</th>\n",
       "      <td>279.0</td>\n",
       "      <td>65.0</td>\n",
       "    </tr>\n",
       "    <tr>\n",
       "      <th>28510</th>\n",
       "      <td>498.0</td>\n",
       "      <td>123.0</td>\n",
       "    </tr>\n",
       "    <tr>\n",
       "      <th>33309</th>\n",
       "      <td>145.0</td>\n",
       "      <td>36.0</td>\n",
       "    </tr>\n",
       "    <tr>\n",
       "      <th>39537</th>\n",
       "      <td>389.0</td>\n",
       "      <td>71.0</td>\n",
       "    </tr>\n",
       "    <tr>\n",
       "      <th>42439</th>\n",
       "      <td>221.0</td>\n",
       "      <td>77.0</td>\n",
       "    </tr>\n",
       "    <tr>\n",
       "      <th>44051</th>\n",
       "      <td>149.0</td>\n",
       "      <td>21.0</td>\n",
       "    </tr>\n",
       "    <tr>\n",
       "      <th>46292</th>\n",
       "      <td>472.0</td>\n",
       "      <td>92.0</td>\n",
       "    </tr>\n",
       "    <tr>\n",
       "      <th>54136</th>\n",
       "      <td>63.0</td>\n",
       "      <td>3.0</td>\n",
       "    </tr>\n",
       "    <tr>\n",
       "      <th>54296</th>\n",
       "      <td>158.0</td>\n",
       "      <td>24.0</td>\n",
       "    </tr>\n",
       "    <tr>\n",
       "      <th>58086</th>\n",
       "      <td>188.0</td>\n",
       "      <td>55.0</td>\n",
       "    </tr>\n",
       "    <tr>\n",
       "      <th>60414</th>\n",
       "      <td>105.0</td>\n",
       "      <td>12.0</td>\n",
       "    </tr>\n",
       "    <tr>\n",
       "      <th>60721</th>\n",
       "      <td>91.0</td>\n",
       "      <td>12.0</td>\n",
       "    </tr>\n",
       "    <tr>\n",
       "      <th>67668</th>\n",
       "      <td>105.0</td>\n",
       "      <td>19.0</td>\n",
       "    </tr>\n",
       "    <tr>\n",
       "      <th>68318</th>\n",
       "      <td>92.0</td>\n",
       "      <td>12.0</td>\n",
       "    </tr>\n",
       "    <tr>\n",
       "      <th>69044</th>\n",
       "      <td>1161.0</td>\n",
       "      <td>708.0</td>\n",
       "    </tr>\n",
       "    <tr>\n",
       "      <th>70564</th>\n",
       "      <td>101.0</td>\n",
       "      <td>18.0</td>\n",
       "    </tr>\n",
       "    <tr>\n",
       "      <th>70606</th>\n",
       "      <td>114.0</td>\n",
       "      <td>29.0</td>\n",
       "    </tr>\n",
       "    <tr>\n",
       "      <th>75350</th>\n",
       "      <td>523.0</td>\n",
       "      <td>0.0</td>\n",
       "    </tr>\n",
       "    <tr>\n",
       "      <th>76013</th>\n",
       "      <td>82.0</td>\n",
       "      <td>0.0</td>\n",
       "    </tr>\n",
       "    <tr>\n",
       "      <th>76531</th>\n",
       "      <td>103.0</td>\n",
       "      <td>0.0</td>\n",
       "    </tr>\n",
       "    <tr>\n",
       "      <th>76532</th>\n",
       "      <td>108.0</td>\n",
       "      <td>0.0</td>\n",
       "    </tr>\n",
       "    <tr>\n",
       "      <th>77191</th>\n",
       "      <td>50.0</td>\n",
       "      <td>0.0</td>\n",
       "    </tr>\n",
       "    <tr>\n",
       "      <th>77580</th>\n",
       "      <td>43.0</td>\n",
       "      <td>0.0</td>\n",
       "    </tr>\n",
       "    <tr>\n",
       "      <th>79373</th>\n",
       "      <td>64.0</td>\n",
       "      <td>0.0</td>\n",
       "    </tr>\n",
       "    <tr>\n",
       "      <th>80265</th>\n",
       "      <td>257.0</td>\n",
       "      <td>0.0</td>\n",
       "    </tr>\n",
       "    <tr>\n",
       "      <th>85983</th>\n",
       "      <td>101.0</td>\n",
       "      <td>0.0</td>\n",
       "    </tr>\n",
       "    <tr>\n",
       "      <th>90296</th>\n",
       "      <td>67.0</td>\n",
       "      <td>0.0</td>\n",
       "    </tr>\n",
       "    <tr>\n",
       "      <th>98277</th>\n",
       "      <td>50.0</td>\n",
       "      <td>0.0</td>\n",
       "    </tr>\n",
       "    <tr>\n",
       "      <th>100759</th>\n",
       "      <td>50.0</td>\n",
       "      <td>0.0</td>\n",
       "    </tr>\n",
       "    <tr>\n",
       "      <th>104007</th>\n",
       "      <td>87.0</td>\n",
       "      <td>0.0</td>\n",
       "    </tr>\n",
       "    <tr>\n",
       "      <th>117505</th>\n",
       "      <td>68.0</td>\n",
       "      <td>0.0</td>\n",
       "    </tr>\n",
       "  </tbody>\n",
       "</table>\n",
       "</div>"
      ],
      "text/plain": [
       "        BSJ-PP_Input2  BSJ-PP_Input1\n",
       "170             187.0           42.0\n",
       "4875            858.0          495.0\n",
       "11744           770.0          441.0\n",
       "14248           150.0           28.0\n",
       "19758           190.0           41.0\n",
       "26713           279.0           65.0\n",
       "28510           498.0          123.0\n",
       "33309           145.0           36.0\n",
       "39537           389.0           71.0\n",
       "42439           221.0           77.0\n",
       "44051           149.0           21.0\n",
       "46292           472.0           92.0\n",
       "54136            63.0            3.0\n",
       "54296           158.0           24.0\n",
       "58086           188.0           55.0\n",
       "60414           105.0           12.0\n",
       "60721            91.0           12.0\n",
       "67668           105.0           19.0\n",
       "68318            92.0           12.0\n",
       "69044          1161.0          708.0\n",
       "70564           101.0           18.0\n",
       "70606           114.0           29.0\n",
       "75350           523.0            0.0\n",
       "76013            82.0            0.0\n",
       "76531           103.0            0.0\n",
       "76532           108.0            0.0\n",
       "77191            50.0            0.0\n",
       "77580            43.0            0.0\n",
       "79373            64.0            0.0\n",
       "80265           257.0            0.0\n",
       "85983           101.0            0.0\n",
       "90296            67.0            0.0\n",
       "98277            50.0            0.0\n",
       "100759           50.0            0.0\n",
       "104007           87.0            0.0\n",
       "117505           68.0            0.0"
      ]
     },
     "execution_count": 110,
     "metadata": {},
     "output_type": "execute_result"
    }
   ],
   "source": [
    "sub_counts.loc[sub_counts['pvalue']==1, [x,y]]"
   ]
  },
  {
   "cell_type": "code",
   "execution_count": null,
   "id": "78114d61-15b9-4d5f-bacb-cc549b03f261",
   "metadata": {},
   "outputs": [],
   "source": []
  }
 ],
 "metadata": {
  "kernelspec": {
   "display_name": "Metadensity",
   "language": "python",
   "name": "metadensity"
  },
  "language_info": {
   "codemirror_mode": {
    "name": "ipython",
    "version": 3
   },
   "file_extension": ".py",
   "mimetype": "text/x-python",
   "name": "python",
   "nbconvert_exporter": "python",
   "pygments_lexer": "ipython3",
   "version": "3.9.16"
  }
 },
 "nbformat": 4,
 "nbformat_minor": 5
}
