{
 "cells": [
  {
   "cell_type": "code",
   "execution_count": 1,
   "id": "3c6b66e4",
   "metadata": {
    "tags": []
   },
   "outputs": [],
   "source": [
    "import os\n",
    "import pandas as pd\n",
    "\n",
    "#https://www.ncbi.nlm.nih.gov/geo/query/acc.cgi?acc=GSE138711"
   ]
  },
  {
   "cell_type": "code",
   "execution_count": 3,
   "id": "56abc70d",
   "metadata": {
    "tags": []
   },
   "outputs": [],
   "source": [
    "GSE45148 = pd.read_csv('IGF2BP3_RIP.txt')"
   ]
  },
  {
   "cell_type": "code",
   "execution_count": 6,
   "id": "9d818e00",
   "metadata": {
    "tags": []
   },
   "outputs": [
    {
     "data": {
      "text/plain": [
       "RNA-Seq    71\n",
       "RIP-Seq    36\n",
       "Name: Assay Type, dtype: int64"
      ]
     },
     "execution_count": 6,
     "metadata": {},
     "output_type": "execute_result"
    }
   ],
   "source": [
    "GSE45148['Assay Type'].value_counts()"
   ]
  },
  {
   "cell_type": "code",
   "execution_count": 8,
   "id": "04d18754-18d1-4320-b810-25e03c45ae05",
   "metadata": {
    "tags": []
   },
   "outputs": [
    {
     "data": {
      "text/plain": [
       "Run                                                        SRR10257798\n",
       "Assay Type                                                     RIP-Seq\n",
       "AvgSpotLen                                                         102\n",
       "Bases                                                       1612548396\n",
       "BioProject                                                 PRJNA576884\n",
       "BioSample                                                 SAMN13012187\n",
       "Bytes                                                        589591252\n",
       "Center Name                                                        GEO\n",
       "Consent                                                         public\n",
       "DATASTORE filetype                                    fastq,run.zq,sra\n",
       "DATASTORE provider                                          s3,gs,ncbi\n",
       "DATASTORE region                        gs.US,ncbi.public,s3.us-east-1\n",
       "Experiment                                                  SRX6975694\n",
       "GEO_Accession (exp)                                         GSM4116587\n",
       "Instrument                                         Illumina HiSeq 2500\n",
       "LibraryLayout                                                   PAIRED\n",
       "LibrarySelection                                                 other\n",
       "LibrarySource                                           TRANSCRIPTOMIC\n",
       "Organism                                                  Homo sapiens\n",
       "Platform                                                      ILLUMINA\n",
       "ReleaseDate                                       2020-01-15T00:00:00Z\n",
       "create_date                                       2019-10-10T12:57:00Z\n",
       "version                                                              1\n",
       "Sample Name                                                 GSM4116587\n",
       "source_name                                   human melanoma cell line\n",
       "SRA Study                                                    SRP225079\n",
       "Treatment                        TetON pLKO shNTC + 1ug/mL Doxycycline\n",
       "commercial_or_academic_source                                      NaN\n",
       "Cell_line                                                        WM278\n",
       "Cell_type                                           melanoma cell line\n",
       "primary/metastatic                                                 NaN\n",
       "Name: 0, dtype: object"
      ]
     },
     "execution_count": 8,
     "metadata": {},
     "output_type": "execute_result"
    }
   ],
   "source": [
    "GSE45148.loc[GSE45148['Assay Type']=='RIP-Seq'].iloc[0]"
   ]
  },
  {
   "cell_type": "code",
   "execution_count": 9,
   "id": "da7dfe8b",
   "metadata": {
    "tags": []
   },
   "outputs": [
    {
     "data": {
      "text/plain": [
       "TetON pLKO shNTC + 1ug/mL Doxycycline       18\n",
       "TetON pLKO shCDR1as + 1ug/mL Doxycycline    18\n",
       "Name: Treatment, dtype: int64"
      ]
     },
     "execution_count": 9,
     "metadata": {},
     "output_type": "execute_result"
    }
   ],
   "source": [
    "GSE45148.loc[GSE45148['Assay Type']=='RIP-Seq', 'Treatment'].value_counts()"
   ]
  },
  {
   "cell_type": "code",
   "execution_count": 10,
   "id": "c784cf3a-8678-464d-aac3-09f378622e5b",
   "metadata": {
    "tags": []
   },
   "outputs": [
    {
     "data": {
      "text/plain": [
       "GSM4116587    3\n",
       "GSM4116588    3\n",
       "GSM4116589    3\n",
       "GSM4116590    3\n",
       "GSM4116591    3\n",
       "GSM4116592    3\n",
       "GSM4116593    3\n",
       "GSM4116594    3\n",
       "GSM4116595    3\n",
       "GSM4116596    3\n",
       "GSM4116597    3\n",
       "GSM4116598    3\n",
       "Name: Sample Name, dtype: int64"
      ]
     },
     "execution_count": 10,
     "metadata": {},
     "output_type": "execute_result"
    }
   ],
   "source": [
    "GSE45148.loc[GSE45148['Assay Type']=='RIP-Seq', 'Sample Name'].value_counts()"
   ]
  },
  {
   "cell_type": "markdown",
   "id": "585543f1-dc0a-49f8-b43d-a83519aa4746",
   "metadata": {},
   "source": [
    "GSM4116587 \tWM278 shNTC_Input_1\n",
    "GSM4116588 \tWM278 shNTC_Input_2\n",
    "GSM4116589 \tWM278 shNTC_Input_3\n",
    "GSM4116593 \tWM278 shNTC_IGF2BP3_RIP_1\n",
    "GSM4116594 \tWM278 shNTC_IGF2BP3_RIP_2\n",
    "GSM4116595 \tWM278 shNTC_IGF2BP3_RIP_3"
   ]
  },
  {
   "cell_type": "code",
   "execution_count": 13,
   "id": "050ea1af-374f-4cdd-944b-228d9d89c68e",
   "metadata": {
    "tags": []
   },
   "outputs": [
    {
     "data": {
      "text/plain": [
       "'SRR10257798 SRR10257799 SRR10257800 SRR10257801 SRR10257802 SRR10257803 SRR10257804 SRR10257805 SRR10257806 SRR10257816 SRR10257817 SRR10257818 SRR10257819 SRR10257820 SRR10257821 SRR10257822 SRR10257823 SRR10257824'"
      ]
     },
     "execution_count": 13,
     "metadata": {},
     "output_type": "execute_result"
    }
   ],
   "source": [
    "gsm_wanted = ['GSM4116587', 'GSM4116588', 'GSM4116589', 'GSM4116593', 'GSM4116594', 'GSM4116595']\n",
    "' '.join(GSE45148.loc[GSE45148['Sample Name'].isin(gsm_wanted), 'Run'])"
   ]
  },
  {
   "cell_type": "code",
   "execution_count": 19,
   "id": "7e79cdd8",
   "metadata": {
    "tags": []
   },
   "outputs": [
    {
     "name": "stdout",
     "output_type": "stream",
     "text": [
      "cat /projects/ps-yeolab5/hsher/public_circ_rip/SRR10257798_pass_1.fastq.gz /projects/ps-yeolab5/hsher/public_circ_rip/SRR10257799_pass_1.fastq.gz /projects/ps-yeolab5/hsher/public_circ_rip/SRR10257800_pass_1.fastq.gz > /projects/ps-yeolab5/hsher/public_circ_rip/shNTC_Input_1.fq1.gz\n",
      "cat /projects/ps-yeolab5/hsher/public_circ_rip/SRR10257798_pass_2.fastq.gz /projects/ps-yeolab5/hsher/public_circ_rip/SRR10257799_pass_2.fastq.gz /projects/ps-yeolab5/hsher/public_circ_rip/SRR10257800_pass_2.fastq.gz > /projects/ps-yeolab5/hsher/public_circ_rip/shNTC_Input_1.fq2.gz\n",
      "cat /projects/ps-yeolab5/hsher/public_circ_rip/SRR10257801_pass_1.fastq.gz /projects/ps-yeolab5/hsher/public_circ_rip/SRR10257802_pass_1.fastq.gz /projects/ps-yeolab5/hsher/public_circ_rip/SRR10257803_pass_1.fastq.gz > /projects/ps-yeolab5/hsher/public_circ_rip/shNTC_Input_2.fq1.gz\n",
      "cat /projects/ps-yeolab5/hsher/public_circ_rip/SRR10257801_pass_2.fastq.gz /projects/ps-yeolab5/hsher/public_circ_rip/SRR10257802_pass_2.fastq.gz /projects/ps-yeolab5/hsher/public_circ_rip/SRR10257803_pass_2.fastq.gz > /projects/ps-yeolab5/hsher/public_circ_rip/shNTC_Input_2.fq2.gz\n",
      "cat /projects/ps-yeolab5/hsher/public_circ_rip/SRR10257804_pass_1.fastq.gz /projects/ps-yeolab5/hsher/public_circ_rip/SRR10257805_pass_1.fastq.gz /projects/ps-yeolab5/hsher/public_circ_rip/SRR10257806_pass_1.fastq.gz > /projects/ps-yeolab5/hsher/public_circ_rip/shNTC_Input_3.fq1.gz\n",
      "cat /projects/ps-yeolab5/hsher/public_circ_rip/SRR10257804_pass_2.fastq.gz /projects/ps-yeolab5/hsher/public_circ_rip/SRR10257805_pass_2.fastq.gz /projects/ps-yeolab5/hsher/public_circ_rip/SRR10257806_pass_2.fastq.gz > /projects/ps-yeolab5/hsher/public_circ_rip/shNTC_Input_3.fq2.gz\n",
      "cat /projects/ps-yeolab5/hsher/public_circ_rip/SRR10257816_pass_1.fastq.gz /projects/ps-yeolab5/hsher/public_circ_rip/SRR10257817_pass_1.fastq.gz /projects/ps-yeolab5/hsher/public_circ_rip/SRR10257818_pass_1.fastq.gz > /projects/ps-yeolab5/hsher/public_circ_rip/shNTC_IGF2BP3_RIP_1.fq1.gz\n",
      "cat /projects/ps-yeolab5/hsher/public_circ_rip/SRR10257816_pass_2.fastq.gz /projects/ps-yeolab5/hsher/public_circ_rip/SRR10257817_pass_2.fastq.gz /projects/ps-yeolab5/hsher/public_circ_rip/SRR10257818_pass_2.fastq.gz > /projects/ps-yeolab5/hsher/public_circ_rip/shNTC_IGF2BP3_RIP_1.fq2.gz\n",
      "cat /projects/ps-yeolab5/hsher/public_circ_rip/SRR10257819_pass_1.fastq.gz /projects/ps-yeolab5/hsher/public_circ_rip/SRR10257820_pass_1.fastq.gz /projects/ps-yeolab5/hsher/public_circ_rip/SRR10257821_pass_1.fastq.gz > /projects/ps-yeolab5/hsher/public_circ_rip/shNTC_IGF2BP3_RIP_2.fq1.gz\n",
      "cat /projects/ps-yeolab5/hsher/public_circ_rip/SRR10257819_pass_2.fastq.gz /projects/ps-yeolab5/hsher/public_circ_rip/SRR10257820_pass_2.fastq.gz /projects/ps-yeolab5/hsher/public_circ_rip/SRR10257821_pass_2.fastq.gz > /projects/ps-yeolab5/hsher/public_circ_rip/shNTC_IGF2BP3_RIP_2.fq2.gz\n",
      "cat /projects/ps-yeolab5/hsher/public_circ_rip/SRR10257822_pass_1.fastq.gz /projects/ps-yeolab5/hsher/public_circ_rip/SRR10257823_pass_1.fastq.gz /projects/ps-yeolab5/hsher/public_circ_rip/SRR10257824_pass_1.fastq.gz > /projects/ps-yeolab5/hsher/public_circ_rip/shNTC_IGF2BP3_RIP_3.fq1.gz\n",
      "cat /projects/ps-yeolab5/hsher/public_circ_rip/SRR10257822_pass_2.fastq.gz /projects/ps-yeolab5/hsher/public_circ_rip/SRR10257823_pass_2.fastq.gz /projects/ps-yeolab5/hsher/public_circ_rip/SRR10257824_pass_2.fastq.gz > /projects/ps-yeolab5/hsher/public_circ_rip/shNTC_IGF2BP3_RIP_3.fq2.gz\n"
     ]
    }
   ],
   "source": [
    "from pathlib import Path\n",
    "mapper = {'GSM4116587': 'shNTC_Input_1', \n",
    "          'GSM4116588': 'shNTC_Input_2',\n",
    "          'GSM4116589': 'shNTC_Input_3',\n",
    "          'GSM4116593': 'shNTC_IGF2BP3_RIP_1', \n",
    "          'GSM4116594': 'shNTC_IGF2BP3_RIP_2', \n",
    "          'GSM4116595': 'shNTC_IGF2BP3_RIP_3'\n",
    "         }\n",
    "\n",
    "srr_dir = Path('/projects/ps-yeolab5/hsher/public_circ_rip/')\n",
    "for name, group in GSE45148.loc[GSE45148['Sample Name'].isin(gsm_wanted)].groupby(by = 'Sample Name'):\n",
    "    fq1s = ' '.join([str(srr_dir/f'{srr}_pass_1.fastq.gz') for srr in group['Run']])\n",
    "    fq2s = ' '.join([str(srr_dir/f'{srr}_pass_2.fastq.gz') for srr in group['Run']])\n",
    "          \n",
    "    print(f'cat {fq1s} > {srr_dir/mapper[name]}.fq1.gz')\n",
    "    print(f'cat {fq2s} > {srr_dir/mapper[name]}.fq2.gz')\n",
    "    \n",
    "    "
   ]
  },
  {
   "cell_type": "code",
   "execution_count": 21,
   "id": "6f9bf368-e687-4792-aec3-efb3d7e68440",
   "metadata": {
    "tags": []
   },
   "outputs": [],
   "source": [
    "manifest = []\n",
    "for name in mapper.values():\n",
    "    manifest.append([srr_dir/f'{name}.fq1.gz',\n",
    "                     srr_dir/f'{name}.fq2.gz',\n",
    "                     name])\n",
    "manifest = pd.DataFrame(manifest, columns = ['fastq1', 'fastq2', 'Sample'])"
   ]
  },
  {
   "cell_type": "code",
   "execution_count": 23,
   "id": "e4ea6bbe-852e-4c52-994d-6cc03c25fb19",
   "metadata": {
    "tags": []
   },
   "outputs": [
    {
     "data": {
      "text/html": [
       "<div>\n",
       "<style scoped>\n",
       "    .dataframe tbody tr th:only-of-type {\n",
       "        vertical-align: middle;\n",
       "    }\n",
       "\n",
       "    .dataframe tbody tr th {\n",
       "        vertical-align: top;\n",
       "    }\n",
       "\n",
       "    .dataframe thead th {\n",
       "        text-align: right;\n",
       "    }\n",
       "</style>\n",
       "<table border=\"1\" class=\"dataframe\">\n",
       "  <thead>\n",
       "    <tr style=\"text-align: right;\">\n",
       "      <th></th>\n",
       "      <th>fastq1</th>\n",
       "      <th>fastq2</th>\n",
       "      <th>Sample</th>\n",
       "    </tr>\n",
       "  </thead>\n",
       "  <tbody>\n",
       "    <tr>\n",
       "      <th>0</th>\n",
       "      <td>True</td>\n",
       "      <td>True</td>\n",
       "      <td>False</td>\n",
       "    </tr>\n",
       "    <tr>\n",
       "      <th>1</th>\n",
       "      <td>True</td>\n",
       "      <td>True</td>\n",
       "      <td>False</td>\n",
       "    </tr>\n",
       "    <tr>\n",
       "      <th>2</th>\n",
       "      <td>True</td>\n",
       "      <td>True</td>\n",
       "      <td>False</td>\n",
       "    </tr>\n",
       "    <tr>\n",
       "      <th>3</th>\n",
       "      <td>True</td>\n",
       "      <td>True</td>\n",
       "      <td>False</td>\n",
       "    </tr>\n",
       "    <tr>\n",
       "      <th>4</th>\n",
       "      <td>True</td>\n",
       "      <td>True</td>\n",
       "      <td>False</td>\n",
       "    </tr>\n",
       "    <tr>\n",
       "      <th>5</th>\n",
       "      <td>True</td>\n",
       "      <td>True</td>\n",
       "      <td>False</td>\n",
       "    </tr>\n",
       "  </tbody>\n",
       "</table>\n",
       "</div>"
      ],
      "text/plain": [
       "   fastq1  fastq2  Sample\n",
       "0    True    True   False\n",
       "1    True    True   False\n",
       "2    True    True   False\n",
       "3    True    True   False\n",
       "4    True    True   False\n",
       "5    True    True   False"
      ]
     },
     "execution_count": 23,
     "metadata": {},
     "output_type": "execute_result"
    }
   ],
   "source": [
    "manifest.applymap(os.path.isfile)"
   ]
  },
  {
   "cell_type": "code",
   "execution_count": 24,
   "id": "2ff157af-7c67-47e0-8c6f-b3dcc5ab3e89",
   "metadata": {
    "tags": []
   },
   "outputs": [
    {
     "data": {
      "text/plain": [
       "0    False\n",
       "1    False\n",
       "2    False\n",
       "3    False\n",
       "4    False\n",
       "5    False\n",
       "dtype: bool"
      ]
     },
     "execution_count": 24,
     "metadata": {},
     "output_type": "execute_result"
    }
   ],
   "source": [
    "manifest['fastq1'].eq(manifest['fastq2'])"
   ]
  },
  {
   "cell_type": "code",
   "execution_count": 26,
   "id": "539092c4-a022-4b48-9d2c-f9053d1d8a6b",
   "metadata": {
    "tags": []
   },
   "outputs": [],
   "source": [
    "manifest['RNase'] = False"
   ]
  },
  {
   "cell_type": "code",
   "execution_count": 27,
   "id": "c5fe26e4-920e-49d9-863c-a2c0db4d424b",
   "metadata": {
    "tags": []
   },
   "outputs": [],
   "source": [
    "manifest.to_csv('downloaded_IGF2BP3_RIP.csv')"
   ]
  },
  {
   "cell_type": "code",
   "execution_count": null,
   "id": "d9d6ad8a-5e94-427b-a5b3-d396ea11d85a",
   "metadata": {},
   "outputs": [],
   "source": [
    "manie"
   ]
  }
 ],
 "metadata": {
  "kernelspec": {
   "display_name": "Metadensity",
   "language": "python",
   "name": "metadensity"
  },
  "language_info": {
   "codemirror_mode": {
    "name": "ipython",
    "version": 3
   },
   "file_extension": ".py",
   "mimetype": "text/x-python",
   "name": "python",
   "nbconvert_exporter": "python",
   "pygments_lexer": "ipython3",
   "version": "3.9.16"
  }
 },
 "nbformat": 4,
 "nbformat_minor": 5
}
