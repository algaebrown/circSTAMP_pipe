{
 "cells": [
  {
   "cell_type": "code",
   "execution_count": 1,
   "id": "5a509f63",
   "metadata": {
    "tags": []
   },
   "outputs": [],
   "source": [
    "import os\n",
    "from pathlib import Path\n",
    "indir = Path('/home/tayu/seqdata/tao/circRNA_seq/rar_celllines/batch2/igm-storage.ucsd.edu/20230922_LH00320_0040_A22F25LLT3')\n",
    "indir2 = Path('/home/tayu/seqdata/tao/circRNA_seq/circstamp_sort/')"
   ]
  },
  {
   "cell_type": "markdown",
   "id": "cf755e52",
   "metadata": {},
   "source": [
    "rar11 enriched, different cell lines"
   ]
  },
  {
   "cell_type": "code",
   "execution_count": 2,
   "id": "d5d107ac",
   "metadata": {
    "tags": []
   },
   "outputs": [],
   "source": [
    "fq1 = list(indir.glob('*sort*R1*.fastq.gz'))\n",
    "fq2 = [str(f).replace('R1', 'R2') for f in fq1]"
   ]
  },
  {
   "cell_type": "code",
   "execution_count": 5,
   "id": "66f04a95",
   "metadata": {
    "tags": []
   },
   "outputs": [],
   "source": [
    "fq1_2 = list(indir2.glob('*sort_rar11*/*R1*.fastq.gz'))\n",
    "fq2_2 = [str(f).replace('R1', 'R2') for f in fq1_2]"
   ]
  },
  {
   "cell_type": "code",
   "execution_count": 6,
   "id": "b382475f",
   "metadata": {
    "tags": []
   },
   "outputs": [],
   "source": [
    "libs = [f.name.split('_sort')[0] for f in fq1]\n",
    "libs2 = [f.name.split('_sort')[0] for f in fq1_2]"
   ]
  },
  {
   "cell_type": "code",
   "execution_count": 7,
   "id": "5dc1d328",
   "metadata": {
    "tags": []
   },
   "outputs": [
    {
     "data": {
      "text/plain": [
       "(['APOBEC1only', 'RBM15_STAMP', 'YTHDF2_STAMP'], ['IGF2BP2', 'U2AF2'])"
      ]
     },
     "execution_count": 7,
     "metadata": {},
     "output_type": "execute_result"
    }
   ],
   "source": [
    "sorted(libs), sorted(libs2)"
   ]
  },
  {
   "cell_type": "code",
   "execution_count": 8,
   "id": "8fdf5963-95cd-423c-bbe7-eb22224075f4",
   "metadata": {
    "tags": []
   },
   "outputs": [],
   "source": [
    "import pandas as pd\n",
    "manifest = pd.DataFrame([fq1, fq2, libs], index = ['fastq1', 'fastq2','Sample']).T\n",
    "manifest2 = pd.DataFrame([fq1_2, fq2_2, libs2], index = ['fastq1', 'fastq2','Sample']).T"
   ]
  },
  {
   "cell_type": "code",
   "execution_count": 9,
   "id": "8fe3f6c9",
   "metadata": {
    "tags": []
   },
   "outputs": [],
   "source": [
    "manifest['Rnase'] = True # all are rar11 samples\n",
    "manifest2['Rnase'] = True # all are rar11 samples"
   ]
  },
  {
   "cell_type": "code",
   "execution_count": 10,
   "id": "49985ec4-8d0c-4afc-86d9-80bb28f78b49",
   "metadata": {},
   "outputs": [
    {
     "data": {
      "text/html": [
       "<div>\n",
       "<style scoped>\n",
       "    .dataframe tbody tr th:only-of-type {\n",
       "        vertical-align: middle;\n",
       "    }\n",
       "\n",
       "    .dataframe tbody tr th {\n",
       "        vertical-align: top;\n",
       "    }\n",
       "\n",
       "    .dataframe thead th {\n",
       "        text-align: right;\n",
       "    }\n",
       "</style>\n",
       "<table border=\"1\" class=\"dataframe\">\n",
       "  <thead>\n",
       "    <tr style=\"text-align: right;\">\n",
       "      <th></th>\n",
       "      <th>fastq1</th>\n",
       "      <th>fastq2</th>\n",
       "      <th>Sample</th>\n",
       "      <th>Rnase</th>\n",
       "    </tr>\n",
       "  </thead>\n",
       "  <tbody>\n",
       "    <tr>\n",
       "      <th>0</th>\n",
       "      <td>/home/tayu/seqdata/tao/circRNA_seq/rar_celllin...</td>\n",
       "      <td>/home/tayu/seqdata/tao/circRNA_seq/rar_celllin...</td>\n",
       "      <td>RBM15_STAMP</td>\n",
       "      <td>True</td>\n",
       "    </tr>\n",
       "    <tr>\n",
       "      <th>1</th>\n",
       "      <td>/home/tayu/seqdata/tao/circRNA_seq/rar_celllin...</td>\n",
       "      <td>/home/tayu/seqdata/tao/circRNA_seq/rar_celllin...</td>\n",
       "      <td>YTHDF2_STAMP</td>\n",
       "      <td>True</td>\n",
       "    </tr>\n",
       "    <tr>\n",
       "      <th>2</th>\n",
       "      <td>/home/tayu/seqdata/tao/circRNA_seq/rar_celllin...</td>\n",
       "      <td>/home/tayu/seqdata/tao/circRNA_seq/rar_celllin...</td>\n",
       "      <td>APOBEC1only</td>\n",
       "      <td>True</td>\n",
       "    </tr>\n",
       "  </tbody>\n",
       "</table>\n",
       "</div>"
      ],
      "text/plain": [
       "                                              fastq1  \\\n",
       "0  /home/tayu/seqdata/tao/circRNA_seq/rar_celllin...   \n",
       "1  /home/tayu/seqdata/tao/circRNA_seq/rar_celllin...   \n",
       "2  /home/tayu/seqdata/tao/circRNA_seq/rar_celllin...   \n",
       "\n",
       "                                              fastq2        Sample  Rnase  \n",
       "0  /home/tayu/seqdata/tao/circRNA_seq/rar_celllin...   RBM15_STAMP   True  \n",
       "1  /home/tayu/seqdata/tao/circRNA_seq/rar_celllin...  YTHDF2_STAMP   True  \n",
       "2  /home/tayu/seqdata/tao/circRNA_seq/rar_celllin...   APOBEC1only   True  "
      ]
     },
     "execution_count": 10,
     "metadata": {},
     "output_type": "execute_result"
    }
   ],
   "source": [
    "manifest"
   ]
  },
  {
   "cell_type": "code",
   "execution_count": 11,
   "id": "5e98bd43-3477-4040-aa10-7acdf18243c4",
   "metadata": {
    "tags": []
   },
   "outputs": [
    {
     "data": {
      "text/html": [
       "<div>\n",
       "<style scoped>\n",
       "    .dataframe tbody tr th:only-of-type {\n",
       "        vertical-align: middle;\n",
       "    }\n",
       "\n",
       "    .dataframe tbody tr th {\n",
       "        vertical-align: top;\n",
       "    }\n",
       "\n",
       "    .dataframe thead th {\n",
       "        text-align: right;\n",
       "    }\n",
       "</style>\n",
       "<table border=\"1\" class=\"dataframe\">\n",
       "  <thead>\n",
       "    <tr style=\"text-align: right;\">\n",
       "      <th></th>\n",
       "      <th>fastq1</th>\n",
       "      <th>fastq2</th>\n",
       "      <th>Sample</th>\n",
       "      <th>Rnase</th>\n",
       "    </tr>\n",
       "  </thead>\n",
       "  <tbody>\n",
       "    <tr>\n",
       "      <th>0</th>\n",
       "      <td>True</td>\n",
       "      <td>True</td>\n",
       "      <td>False</td>\n",
       "      <td>False</td>\n",
       "    </tr>\n",
       "    <tr>\n",
       "      <th>1</th>\n",
       "      <td>True</td>\n",
       "      <td>True</td>\n",
       "      <td>False</td>\n",
       "      <td>False</td>\n",
       "    </tr>\n",
       "    <tr>\n",
       "      <th>2</th>\n",
       "      <td>True</td>\n",
       "      <td>True</td>\n",
       "      <td>False</td>\n",
       "      <td>False</td>\n",
       "    </tr>\n",
       "  </tbody>\n",
       "</table>\n",
       "</div>"
      ],
      "text/plain": [
       "   fastq1  fastq2  Sample  Rnase\n",
       "0    True    True   False  False\n",
       "1    True    True   False  False\n",
       "2    True    True   False  False"
      ]
     },
     "execution_count": 11,
     "metadata": {},
     "output_type": "execute_result"
    }
   ],
   "source": [
    "manifest.applymap(os.path.isfile)"
   ]
  },
  {
   "cell_type": "code",
   "execution_count": 12,
   "id": "bc93d538-d26b-43d9-b167-b2781bd1834d",
   "metadata": {
    "tags": []
   },
   "outputs": [
    {
     "data": {
      "text/html": [
       "<div>\n",
       "<style scoped>\n",
       "    .dataframe tbody tr th:only-of-type {\n",
       "        vertical-align: middle;\n",
       "    }\n",
       "\n",
       "    .dataframe tbody tr th {\n",
       "        vertical-align: top;\n",
       "    }\n",
       "\n",
       "    .dataframe thead th {\n",
       "        text-align: right;\n",
       "    }\n",
       "</style>\n",
       "<table border=\"1\" class=\"dataframe\">\n",
       "  <thead>\n",
       "    <tr style=\"text-align: right;\">\n",
       "      <th></th>\n",
       "      <th>fastq1</th>\n",
       "      <th>fastq2</th>\n",
       "      <th>Sample</th>\n",
       "      <th>Rnase</th>\n",
       "    </tr>\n",
       "  </thead>\n",
       "  <tbody>\n",
       "    <tr>\n",
       "      <th>0</th>\n",
       "      <td>True</td>\n",
       "      <td>True</td>\n",
       "      <td>False</td>\n",
       "      <td>False</td>\n",
       "    </tr>\n",
       "    <tr>\n",
       "      <th>1</th>\n",
       "      <td>True</td>\n",
       "      <td>True</td>\n",
       "      <td>False</td>\n",
       "      <td>False</td>\n",
       "    </tr>\n",
       "  </tbody>\n",
       "</table>\n",
       "</div>"
      ],
      "text/plain": [
       "   fastq1  fastq2  Sample  Rnase\n",
       "0    True    True   False  False\n",
       "1    True    True   False  False"
      ]
     },
     "execution_count": 12,
     "metadata": {},
     "output_type": "execute_result"
    }
   ],
   "source": [
    "manifest2.applymap(os.path.isfile)"
   ]
  },
  {
   "cell_type": "code",
   "execution_count": 13,
   "id": "fb23f507-da87-4d72-bb5e-224813f1ad05",
   "metadata": {},
   "outputs": [],
   "source": [
    "# turns out to be single ended. cannot run current pipeline\n",
    "manifest.to_csv('nextera_iter13_RBM15_U2AF_STAMP.csv')\n",
    "manifest2.to_csv('nextera_iter5_IGF_U2_rar11.csv')"
   ]
  },
  {
   "cell_type": "code",
   "execution_count": 14,
   "id": "224c041c-1687-4573-9351-1e43b6664e85",
   "metadata": {},
   "outputs": [
    {
     "data": {
      "text/plain": [
       "0    False\n",
       "1    False\n",
       "2    False\n",
       "dtype: bool"
      ]
     },
     "execution_count": 14,
     "metadata": {},
     "output_type": "execute_result"
    }
   ],
   "source": [
    "manifest['fastq1'].eq(manifest['fastq2'])"
   ]
  },
  {
   "cell_type": "code",
   "execution_count": 15,
   "id": "74e78499-a39f-4920-b396-1bef5708c6aa",
   "metadata": {},
   "outputs": [
    {
     "data": {
      "text/plain": [
       "0    False\n",
       "1    False\n",
       "dtype: bool"
      ]
     },
     "execution_count": 15,
     "metadata": {},
     "output_type": "execute_result"
    }
   ],
   "source": [
    "manifest2['fastq1'].eq(manifest2['fastq2'])"
   ]
  },
  {
   "cell_type": "code",
   "execution_count": null,
   "id": "30986137-282e-4dec-aae1-d3764763d132",
   "metadata": {},
   "outputs": [],
   "source": []
  }
 ],
 "metadata": {
  "kernelspec": {
   "display_name": "Metadensity",
   "language": "python",
   "name": "metadensity"
  },
  "language_info": {
   "codemirror_mode": {
    "name": "ipython",
    "version": 3
   },
   "file_extension": ".py",
   "mimetype": "text/x-python",
   "name": "python",
   "nbconvert_exporter": "python",
   "pygments_lexer": "ipython3",
   "version": "3.9.16"
  }
 },
 "nbformat": 4,
 "nbformat_minor": 5
}
