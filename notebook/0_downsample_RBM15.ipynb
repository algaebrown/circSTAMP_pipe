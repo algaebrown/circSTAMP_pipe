{
 "cells": [
  {
   "cell_type": "markdown",
   "id": "62eb37e0",
   "metadata": {},
   "source": [
    "seqtk sample -s100 /home/tayu/seqdata/tao/circRNA_seq/benchmarking02/igm-storage.ucsd.edu/221130_A01535_0229_BHKMGWDSX5/RBM15_rar11_S3_L004_R2_001.fastq.gz 114199055 | gzip > /home/hsher/seqdata/20230215_tao_rbm15_downsample/RBM15_rar11.r2.fq.gz\n",
    "\n",
    "seqtk sample -s100 /home/tayu/seqdata/tao/circRNA_seq/benchmarking02/igm-storage.ucsd.edu/221130_A01535_0229_BHKMGWDSX5/RBM15_rar11_S3_L004_R1_001.fastq.gz 114199055 | gzip > /home/hsher/seqdata/20230215_tao_rbm15_downsample/RBM15_rar11.r1.fq.gz"
   ]
  },
  {
   "cell_type": "code",
   "execution_count": 2,
   "id": "95a3bf53",
   "metadata": {},
   "outputs": [],
   "source": [
    "import pandas as pd\n",
    "df = pd.DataFrame([['RBM15_rar11_down', '/home/hsher/seqdata/20230215_tao_rbm15_downsample/RBM15_rar11.r1.fq.gz',\n",
    "              '/home/hsher/seqdata/20230215_tao_rbm15_downsample/RBM15_rar11.r2.fq.gz', True\n",
    "              ]],\n",
    "             columns = ['Sample','fastq1','fastq2','Rnase'])\n",
    "    \n",
    "    "
   ]
  },
  {
   "cell_type": "code",
   "execution_count": 3,
   "id": "de3a84b3",
   "metadata": {},
   "outputs": [],
   "source": [
    "df.to_csv('nextera_iter2_down.csv')"
   ]
  },
  {
   "cell_type": "code",
   "execution_count": null,
   "id": "50b65766",
   "metadata": {},
   "outputs": [],
   "source": []
  }
 ],
 "metadata": {
  "kernelspec": {
   "display_name": "Metadensity",
   "language": "python",
   "name": "metadensity"
  },
  "language_info": {
   "codemirror_mode": {
    "name": "ipython",
    "version": 3
   },
   "file_extension": ".py",
   "mimetype": "text/x-python",
   "name": "python",
   "nbconvert_exporter": "python",
   "pygments_lexer": "ipython3",
   "version": "3.7.12"
  }
 },
 "nbformat": 4,
 "nbformat_minor": 5
}
