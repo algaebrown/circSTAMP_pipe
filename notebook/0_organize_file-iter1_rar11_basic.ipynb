{
 "cells": [
  {
   "cell_type": "code",
   "execution_count": 3,
   "id": "5a509f63",
   "metadata": {},
   "outputs": [],
   "source": [
    "import os\n",
    "from pathlib import Path\n",
    "indir = Path('/home/tayu/seqdata/tao/circRNA_seq')"
   ]
  },
  {
   "cell_type": "code",
   "execution_count": 8,
   "id": "d5d107ac",
   "metadata": {},
   "outputs": [],
   "source": [
    "fq1 = list(indir.glob('circ*/*R1*.fastq.gz'))"
   ]
  },
  {
   "cell_type": "code",
   "execution_count": 9,
   "id": "66f04a95",
   "metadata": {},
   "outputs": [
    {
     "data": {
      "text/plain": [
       "[PosixPath('/home/tayu/seqdata/tao/circRNA_seq/circseq_bm_arr_L001_ds.20b690160258497391dcab9b4af463e2/circseq-bm-arr_S2_L001_R1_001.fastq.gz'),\n",
       " PosixPath('/home/tayu/seqdata/tao/circRNA_seq/circseq_bm_rar19_nxt_L001_ds.3be750eb1b74470c95730ba3a5d3f5aa/circseq-bm-rar19-nxt_S5_L001_R1_001.fastq.gz'),\n",
       " PosixPath('/home/tayu/seqdata/tao/circRNA_seq/circseq_bm_rar11_nxt_L001_ds.7c114f7db21b4a8cabb91f1a6652d123/circseq-bm-rar11-nxt_S4_L001_R1_001.fastq.gz'),\n",
       " PosixPath('/home/tayu/seqdata/tao/circRNA_seq/circseq_bm_rz_L001_ds.af4068b1ddff49ea8788ed20fdfce7aa/circseq-bm-rz_S1_L001_R1_001.fastq.gz'),\n",
       " PosixPath('/home/tayu/seqdata/tao/circRNA_seq/circseq_bm_rar_L001_ds.45c4824305b84cacbaca012821affeb5/circseq-bm-rar_S3_L001_R1_001.fastq.gz')]"
      ]
     },
     "execution_count": 9,
     "metadata": {},
     "output_type": "execute_result"
    }
   ],
   "source": [
    "fq1"
   ]
  },
  {
   "cell_type": "code",
   "execution_count": 11,
   "id": "3990d86b",
   "metadata": {},
   "outputs": [],
   "source": [
    "fq2 = [str(f).replace('R1', 'R2') for f in fq1]"
   ]
  },
  {
   "cell_type": "code",
   "execution_count": 12,
   "id": "b382475f",
   "metadata": {},
   "outputs": [],
   "source": [
    "libs = [f.name.split('_S')[0] for f in fq1]"
   ]
  },
  {
   "cell_type": "code",
   "execution_count": 13,
   "id": "5dc1d328",
   "metadata": {},
   "outputs": [
    {
     "data": {
      "text/plain": [
       "['circseq-bm-arr',\n",
       " 'circseq-bm-rar19-nxt',\n",
       " 'circseq-bm-rar11-nxt',\n",
       " 'circseq-bm-rz',\n",
       " 'circseq-bm-rar']"
      ]
     },
     "execution_count": 13,
     "metadata": {},
     "output_type": "execute_result"
    }
   ],
   "source": [
    "libs"
   ]
  },
  {
   "cell_type": "markdown",
   "id": "3fd636d2",
   "metadata": {},
   "source": [
    "# make menifest"
   ]
  },
  {
   "cell_type": "code",
   "execution_count": 14,
   "id": "480c1ab6",
   "metadata": {},
   "outputs": [],
   "source": [
    "\n",
    "menifest = pd.DataFrame([libs, fq1, fq2], index = ['Sample', 'fastq1', 'fastq2']).T"
   ]
  },
  {
   "cell_type": "code",
   "execution_count": 15,
   "id": "8fe3f6c9",
   "metadata": {},
   "outputs": [],
   "source": [
    "menifest['Rnase'] = menifest['Sample'].apply(lambda name: True if '-rz' not in name else False)"
   ]
  },
  {
   "cell_type": "code",
   "execution_count": 16,
   "id": "d7ce05f6",
   "metadata": {},
   "outputs": [
    {
     "data": {
      "text/html": [
       "<div>\n",
       "<style scoped>\n",
       "    .dataframe tbody tr th:only-of-type {\n",
       "        vertical-align: middle;\n",
       "    }\n",
       "\n",
       "    .dataframe tbody tr th {\n",
       "        vertical-align: top;\n",
       "    }\n",
       "\n",
       "    .dataframe thead th {\n",
       "        text-align: right;\n",
       "    }\n",
       "</style>\n",
       "<table border=\"1\" class=\"dataframe\">\n",
       "  <thead>\n",
       "    <tr style=\"text-align: right;\">\n",
       "      <th></th>\n",
       "      <th>Sample</th>\n",
       "      <th>fastq1</th>\n",
       "      <th>fastq2</th>\n",
       "      <th>Rnase</th>\n",
       "    </tr>\n",
       "  </thead>\n",
       "  <tbody>\n",
       "    <tr>\n",
       "      <th>0</th>\n",
       "      <td>circseq-bm-arr</td>\n",
       "      <td>/home/tayu/seqdata/tao/circRNA_seq/circseq_bm_...</td>\n",
       "      <td>/home/tayu/seqdata/tao/circRNA_seq/circseq_bm_...</td>\n",
       "      <td>True</td>\n",
       "    </tr>\n",
       "    <tr>\n",
       "      <th>1</th>\n",
       "      <td>circseq-bm-rar19-nxt</td>\n",
       "      <td>/home/tayu/seqdata/tao/circRNA_seq/circseq_bm_...</td>\n",
       "      <td>/home/tayu/seqdata/tao/circRNA_seq/circseq_bm_...</td>\n",
       "      <td>True</td>\n",
       "    </tr>\n",
       "    <tr>\n",
       "      <th>2</th>\n",
       "      <td>circseq-bm-rar11-nxt</td>\n",
       "      <td>/home/tayu/seqdata/tao/circRNA_seq/circseq_bm_...</td>\n",
       "      <td>/home/tayu/seqdata/tao/circRNA_seq/circseq_bm_...</td>\n",
       "      <td>True</td>\n",
       "    </tr>\n",
       "    <tr>\n",
       "      <th>3</th>\n",
       "      <td>circseq-bm-rz</td>\n",
       "      <td>/home/tayu/seqdata/tao/circRNA_seq/circseq_bm_...</td>\n",
       "      <td>/home/tayu/seqdata/tao/circRNA_seq/circseq_bm_...</td>\n",
       "      <td>False</td>\n",
       "    </tr>\n",
       "    <tr>\n",
       "      <th>4</th>\n",
       "      <td>circseq-bm-rar</td>\n",
       "      <td>/home/tayu/seqdata/tao/circRNA_seq/circseq_bm_...</td>\n",
       "      <td>/home/tayu/seqdata/tao/circRNA_seq/circseq_bm_...</td>\n",
       "      <td>True</td>\n",
       "    </tr>\n",
       "  </tbody>\n",
       "</table>\n",
       "</div>"
      ],
      "text/plain": [
       "                 Sample                                             fastq1  \\\n",
       "0        circseq-bm-arr  /home/tayu/seqdata/tao/circRNA_seq/circseq_bm_...   \n",
       "1  circseq-bm-rar19-nxt  /home/tayu/seqdata/tao/circRNA_seq/circseq_bm_...   \n",
       "2  circseq-bm-rar11-nxt  /home/tayu/seqdata/tao/circRNA_seq/circseq_bm_...   \n",
       "3         circseq-bm-rz  /home/tayu/seqdata/tao/circRNA_seq/circseq_bm_...   \n",
       "4        circseq-bm-rar  /home/tayu/seqdata/tao/circRNA_seq/circseq_bm_...   \n",
       "\n",
       "                                              fastq2  Rnase  \n",
       "0  /home/tayu/seqdata/tao/circRNA_seq/circseq_bm_...   True  \n",
       "1  /home/tayu/seqdata/tao/circRNA_seq/circseq_bm_...   True  \n",
       "2  /home/tayu/seqdata/tao/circRNA_seq/circseq_bm_...   True  \n",
       "3  /home/tayu/seqdata/tao/circRNA_seq/circseq_bm_...  False  \n",
       "4  /home/tayu/seqdata/tao/circRNA_seq/circseq_bm_...   True  "
      ]
     },
     "execution_count": 16,
     "metadata": {},
     "output_type": "execute_result"
    }
   ],
   "source": [
    "menifest"
   ]
  },
  {
   "cell_type": "code",
   "execution_count": 18,
   "id": "a08ad561",
   "metadata": {},
   "outputs": [],
   "source": [
    "menifest.loc[menifest['Sample'].str.contains('nxt')].to_csv('nextera.csv')\n",
    "menifest.loc[~menifest['Sample'].str.contains('nxt')].to_csv('trueseq.csv')"
   ]
  },
  {
   "cell_type": "code",
   "execution_count": null,
   "id": "8a97f037",
   "metadata": {},
   "outputs": [],
   "source": []
  }
 ],
 "metadata": {
  "kernelspec": {
   "display_name": "Metadensity",
   "language": "python",
   "name": "metadensity"
  },
  "language_info": {
   "codemirror_mode": {
    "name": "ipython",
    "version": 3
   },
   "file_extension": ".py",
   "mimetype": "text/x-python",
   "name": "python",
   "nbconvert_exporter": "python",
   "pygments_lexer": "ipython3",
   "version": "3.9.16"
  }
 },
 "nbformat": 4,
 "nbformat_minor": 5
}
