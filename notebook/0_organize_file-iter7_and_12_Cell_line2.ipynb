{
 "cells": [
  {
   "cell_type": "code",
   "execution_count": 1,
   "id": "5a509f63",
   "metadata": {
    "tags": []
   },
   "outputs": [],
   "source": [
    "import os\n",
    "from pathlib import Path\n",
    "indir2=Path('/home/tayu/seqdata/tao/circRNA_seq/rar_celllines/igm-storage.ucsd.edu/230519_A00953_0742_AH7323DSX7/')\n",
    "indir = Path('/home/tayu/seqdata/tao/circRNA_seq/rar_celllines/batch2/igm-storage.ucsd.edu/20230922_LH00320_0040_A22F25LLT3')"
   ]
  },
  {
   "cell_type": "markdown",
   "id": "cf755e52",
   "metadata": {},
   "source": [
    "rar11 enriched, different cell lines"
   ]
  },
  {
   "cell_type": "code",
   "execution_count": 2,
   "id": "d5d107ac",
   "metadata": {
    "tags": []
   },
   "outputs": [],
   "source": [
    "fq1 = list(indir.glob('HepG2*R1*.fastq.gz'))+list(indir.glob('K562*R1*.fastq.gz'))+list(indir.glob('HeLa*R1*.fastq.gz'))"
   ]
  },
  {
   "cell_type": "code",
   "execution_count": 3,
   "id": "66f04a95",
   "metadata": {
    "tags": []
   },
   "outputs": [
    {
     "data": {
      "text/plain": [
       "[PosixPath('/home/tayu/seqdata/tao/circRNA_seq/rar_celllines/batch2/igm-storage.ucsd.edu/20230922_LH00320_0040_A22F25LLT3/HepG2_rep1_rar11_S5_L004_R1_001.fastq.gz'),\n",
       " PosixPath('/home/tayu/seqdata/tao/circRNA_seq/rar_celllines/batch2/igm-storage.ucsd.edu/20230922_LH00320_0040_A22F25LLT3/HepG2_rep2_rar11_S6_L004_R1_001.fastq.gz'),\n",
       " PosixPath('/home/tayu/seqdata/tao/circRNA_seq/rar_celllines/batch2/igm-storage.ucsd.edu/20230922_LH00320_0040_A22F25LLT3/K562_rep1_rar11_S3_L004_R1_001.fastq.gz'),\n",
       " PosixPath('/home/tayu/seqdata/tao/circRNA_seq/rar_celllines/batch2/igm-storage.ucsd.edu/20230922_LH00320_0040_A22F25LLT3/K562_rep2_rar11_S4_L004_R1_001.fastq.gz'),\n",
       " PosixPath('/home/tayu/seqdata/tao/circRNA_seq/rar_celllines/batch2/igm-storage.ucsd.edu/20230922_LH00320_0040_A22F25LLT3/HeLa_rep1_rar11_S1_L004_R1_001.fastq.gz'),\n",
       " PosixPath('/home/tayu/seqdata/tao/circRNA_seq/rar_celllines/batch2/igm-storage.ucsd.edu/20230922_LH00320_0040_A22F25LLT3/HeLa_rep2_rar11_S2_L004_R1_001.fastq.gz')]"
      ]
     },
     "execution_count": 3,
     "metadata": {},
     "output_type": "execute_result"
    }
   ],
   "source": [
    "fq1"
   ]
  },
  {
   "cell_type": "code",
   "execution_count": 4,
   "id": "01b52337-e838-40eb-97ae-ad9a65f914ab",
   "metadata": {
    "tags": []
   },
   "outputs": [],
   "source": [
    "fq2 = [str(f).replace('R1', 'R2') for f in fq1]"
   ]
  },
  {
   "cell_type": "code",
   "execution_count": 5,
   "id": "8a41d834-29fd-4fd3-9b59-199c2ca519e9",
   "metadata": {
    "tags": []
   },
   "outputs": [
    {
     "data": {
      "text/plain": [
       "['/home/tayu/seqdata/tao/circRNA_seq/rar_celllines/batch2/igm-storage.ucsd.edu/20230922_LH00320_0040_A22F25LLT3/HepG2_rep1_rar11_S5_L004_R2_001.fastq.gz',\n",
       " '/home/tayu/seqdata/tao/circRNA_seq/rar_celllines/batch2/igm-storage.ucsd.edu/20230922_LH00320_0040_A22F25LLT3/HepG2_rep2_rar11_S6_L004_R2_001.fastq.gz',\n",
       " '/home/tayu/seqdata/tao/circRNA_seq/rar_celllines/batch2/igm-storage.ucsd.edu/20230922_LH00320_0040_A22F25LLT3/K562_rep1_rar11_S3_L004_R2_001.fastq.gz',\n",
       " '/home/tayu/seqdata/tao/circRNA_seq/rar_celllines/batch2/igm-storage.ucsd.edu/20230922_LH00320_0040_A22F25LLT3/K562_rep2_rar11_S4_L004_R2_001.fastq.gz',\n",
       " '/home/tayu/seqdata/tao/circRNA_seq/rar_celllines/batch2/igm-storage.ucsd.edu/20230922_LH00320_0040_A22F25LLT3/HeLa_rep1_rar11_S1_L004_R2_001.fastq.gz',\n",
       " '/home/tayu/seqdata/tao/circRNA_seq/rar_celllines/batch2/igm-storage.ucsd.edu/20230922_LH00320_0040_A22F25LLT3/HeLa_rep2_rar11_S2_L004_R2_001.fastq.gz']"
      ]
     },
     "execution_count": 5,
     "metadata": {},
     "output_type": "execute_result"
    }
   ],
   "source": [
    "fq2"
   ]
  },
  {
   "cell_type": "code",
   "execution_count": 10,
   "id": "55142128-a070-4331-a2f8-49653125bc9a",
   "metadata": {
    "tags": []
   },
   "outputs": [],
   "source": [
    "fq1_2 = list(indir2.glob('RAR*R1*'))\n",
    "fq2_2 = [str(f).replace('R1', 'R2') for f in fq1_2]"
   ]
  },
  {
   "cell_type": "code",
   "execution_count": 12,
   "id": "b382475f",
   "metadata": {
    "tags": []
   },
   "outputs": [],
   "source": [
    "libs = [f.name.split('_S')[0] for f in fq1]\n",
    "libs2 = [f.name.split('_S')[0] for f in fq1_2]"
   ]
  },
  {
   "cell_type": "code",
   "execution_count": 13,
   "id": "5dc1d328",
   "metadata": {
    "tags": []
   },
   "outputs": [
    {
     "data": {
      "text/plain": [
       "(['HeLa_rep1_rar11',\n",
       "  'HeLa_rep2_rar11',\n",
       "  'HepG2_rep1_rar11',\n",
       "  'HepG2_rep2_rar11',\n",
       "  'K562_rep1_rar11',\n",
       "  'K562_rep2_rar11'],\n",
       " ['RAR_HELA', 'RAR_HEPG2', 'RAR_K562'])"
      ]
     },
     "execution_count": 13,
     "metadata": {},
     "output_type": "execute_result"
    }
   ],
   "source": [
    "sorted(libs), sorted(libs2)"
   ]
  },
  {
   "cell_type": "code",
   "execution_count": 14,
   "id": "8fdf5963-95cd-423c-bbe7-eb22224075f4",
   "metadata": {
    "tags": []
   },
   "outputs": [],
   "source": [
    "import pandas as pd\n",
    "manifest = pd.DataFrame([fq1, fq2, libs], index = ['fastq1', 'fastq2','Sample']).T\n",
    "manifest2 = pd.DataFrame([fq1_2, fq2_2, libs2], index = ['fastq1', 'fastq2','Sample']).T"
   ]
  },
  {
   "cell_type": "code",
   "execution_count": 16,
   "id": "8fe3f6c9",
   "metadata": {
    "tags": []
   },
   "outputs": [],
   "source": [
    "manifest['Rnase'] = True # all are rar11 samples\n",
    "manifest2['Rnase'] = True"
   ]
  },
  {
   "cell_type": "code",
   "execution_count": 17,
   "id": "49985ec4-8d0c-4afc-86d9-80bb28f78b49",
   "metadata": {},
   "outputs": [
    {
     "data": {
      "text/html": [
       "<div>\n",
       "<style scoped>\n",
       "    .dataframe tbody tr th:only-of-type {\n",
       "        vertical-align: middle;\n",
       "    }\n",
       "\n",
       "    .dataframe tbody tr th {\n",
       "        vertical-align: top;\n",
       "    }\n",
       "\n",
       "    .dataframe thead th {\n",
       "        text-align: right;\n",
       "    }\n",
       "</style>\n",
       "<table border=\"1\" class=\"dataframe\">\n",
       "  <thead>\n",
       "    <tr style=\"text-align: right;\">\n",
       "      <th></th>\n",
       "      <th>fastq1</th>\n",
       "      <th>fastq2</th>\n",
       "      <th>Sample</th>\n",
       "      <th>Rnase</th>\n",
       "    </tr>\n",
       "  </thead>\n",
       "  <tbody>\n",
       "    <tr>\n",
       "      <th>0</th>\n",
       "      <td>/home/tayu/seqdata/tao/circRNA_seq/rar_celllin...</td>\n",
       "      <td>/home/tayu/seqdata/tao/circRNA_seq/rar_celllin...</td>\n",
       "      <td>HepG2_rep1_rar11</td>\n",
       "      <td>True</td>\n",
       "    </tr>\n",
       "    <tr>\n",
       "      <th>1</th>\n",
       "      <td>/home/tayu/seqdata/tao/circRNA_seq/rar_celllin...</td>\n",
       "      <td>/home/tayu/seqdata/tao/circRNA_seq/rar_celllin...</td>\n",
       "      <td>HepG2_rep2_rar11</td>\n",
       "      <td>True</td>\n",
       "    </tr>\n",
       "    <tr>\n",
       "      <th>2</th>\n",
       "      <td>/home/tayu/seqdata/tao/circRNA_seq/rar_celllin...</td>\n",
       "      <td>/home/tayu/seqdata/tao/circRNA_seq/rar_celllin...</td>\n",
       "      <td>K562_rep1_rar11</td>\n",
       "      <td>True</td>\n",
       "    </tr>\n",
       "    <tr>\n",
       "      <th>3</th>\n",
       "      <td>/home/tayu/seqdata/tao/circRNA_seq/rar_celllin...</td>\n",
       "      <td>/home/tayu/seqdata/tao/circRNA_seq/rar_celllin...</td>\n",
       "      <td>K562_rep2_rar11</td>\n",
       "      <td>True</td>\n",
       "    </tr>\n",
       "    <tr>\n",
       "      <th>4</th>\n",
       "      <td>/home/tayu/seqdata/tao/circRNA_seq/rar_celllin...</td>\n",
       "      <td>/home/tayu/seqdata/tao/circRNA_seq/rar_celllin...</td>\n",
       "      <td>HeLa_rep1_rar11</td>\n",
       "      <td>True</td>\n",
       "    </tr>\n",
       "    <tr>\n",
       "      <th>5</th>\n",
       "      <td>/home/tayu/seqdata/tao/circRNA_seq/rar_celllin...</td>\n",
       "      <td>/home/tayu/seqdata/tao/circRNA_seq/rar_celllin...</td>\n",
       "      <td>HeLa_rep2_rar11</td>\n",
       "      <td>True</td>\n",
       "    </tr>\n",
       "  </tbody>\n",
       "</table>\n",
       "</div>"
      ],
      "text/plain": [
       "                                              fastq1  \\\n",
       "0  /home/tayu/seqdata/tao/circRNA_seq/rar_celllin...   \n",
       "1  /home/tayu/seqdata/tao/circRNA_seq/rar_celllin...   \n",
       "2  /home/tayu/seqdata/tao/circRNA_seq/rar_celllin...   \n",
       "3  /home/tayu/seqdata/tao/circRNA_seq/rar_celllin...   \n",
       "4  /home/tayu/seqdata/tao/circRNA_seq/rar_celllin...   \n",
       "5  /home/tayu/seqdata/tao/circRNA_seq/rar_celllin...   \n",
       "\n",
       "                                              fastq2            Sample  Rnase  \n",
       "0  /home/tayu/seqdata/tao/circRNA_seq/rar_celllin...  HepG2_rep1_rar11   True  \n",
       "1  /home/tayu/seqdata/tao/circRNA_seq/rar_celllin...  HepG2_rep2_rar11   True  \n",
       "2  /home/tayu/seqdata/tao/circRNA_seq/rar_celllin...   K562_rep1_rar11   True  \n",
       "3  /home/tayu/seqdata/tao/circRNA_seq/rar_celllin...   K562_rep2_rar11   True  \n",
       "4  /home/tayu/seqdata/tao/circRNA_seq/rar_celllin...   HeLa_rep1_rar11   True  \n",
       "5  /home/tayu/seqdata/tao/circRNA_seq/rar_celllin...   HeLa_rep2_rar11   True  "
      ]
     },
     "execution_count": 17,
     "metadata": {},
     "output_type": "execute_result"
    }
   ],
   "source": [
    "manifest"
   ]
  },
  {
   "cell_type": "code",
   "execution_count": 18,
   "id": "117a9fac-44eb-4c72-a4bd-b7cfb90b6065",
   "metadata": {
    "tags": []
   },
   "outputs": [
    {
     "data": {
      "text/html": [
       "<div>\n",
       "<style scoped>\n",
       "    .dataframe tbody tr th:only-of-type {\n",
       "        vertical-align: middle;\n",
       "    }\n",
       "\n",
       "    .dataframe tbody tr th {\n",
       "        vertical-align: top;\n",
       "    }\n",
       "\n",
       "    .dataframe thead th {\n",
       "        text-align: right;\n",
       "    }\n",
       "</style>\n",
       "<table border=\"1\" class=\"dataframe\">\n",
       "  <thead>\n",
       "    <tr style=\"text-align: right;\">\n",
       "      <th></th>\n",
       "      <th>fastq1</th>\n",
       "      <th>fastq2</th>\n",
       "      <th>Sample</th>\n",
       "      <th>Rnase</th>\n",
       "    </tr>\n",
       "  </thead>\n",
       "  <tbody>\n",
       "    <tr>\n",
       "      <th>0</th>\n",
       "      <td>/home/tayu/seqdata/tao/circRNA_seq/rar_celllin...</td>\n",
       "      <td>/home/tayu/seqdata/tao/circRNA_seq/rar_celllin...</td>\n",
       "      <td>RAR_HEPG2</td>\n",
       "      <td>True</td>\n",
       "    </tr>\n",
       "    <tr>\n",
       "      <th>1</th>\n",
       "      <td>/home/tayu/seqdata/tao/circRNA_seq/rar_celllin...</td>\n",
       "      <td>/home/tayu/seqdata/tao/circRNA_seq/rar_celllin...</td>\n",
       "      <td>RAR_HELA</td>\n",
       "      <td>True</td>\n",
       "    </tr>\n",
       "    <tr>\n",
       "      <th>2</th>\n",
       "      <td>/home/tayu/seqdata/tao/circRNA_seq/rar_celllin...</td>\n",
       "      <td>/home/tayu/seqdata/tao/circRNA_seq/rar_celllin...</td>\n",
       "      <td>RAR_K562</td>\n",
       "      <td>True</td>\n",
       "    </tr>\n",
       "  </tbody>\n",
       "</table>\n",
       "</div>"
      ],
      "text/plain": [
       "                                              fastq1  \\\n",
       "0  /home/tayu/seqdata/tao/circRNA_seq/rar_celllin...   \n",
       "1  /home/tayu/seqdata/tao/circRNA_seq/rar_celllin...   \n",
       "2  /home/tayu/seqdata/tao/circRNA_seq/rar_celllin...   \n",
       "\n",
       "                                              fastq2     Sample  Rnase  \n",
       "0  /home/tayu/seqdata/tao/circRNA_seq/rar_celllin...  RAR_HEPG2   True  \n",
       "1  /home/tayu/seqdata/tao/circRNA_seq/rar_celllin...   RAR_HELA   True  \n",
       "2  /home/tayu/seqdata/tao/circRNA_seq/rar_celllin...   RAR_K562   True  "
      ]
     },
     "execution_count": 18,
     "metadata": {},
     "output_type": "execute_result"
    }
   ],
   "source": [
    "manifest2"
   ]
  },
  {
   "cell_type": "code",
   "execution_count": 19,
   "id": "5e98bd43-3477-4040-aa10-7acdf18243c4",
   "metadata": {
    "tags": []
   },
   "outputs": [
    {
     "data": {
      "text/html": [
       "<div>\n",
       "<style scoped>\n",
       "    .dataframe tbody tr th:only-of-type {\n",
       "        vertical-align: middle;\n",
       "    }\n",
       "\n",
       "    .dataframe tbody tr th {\n",
       "        vertical-align: top;\n",
       "    }\n",
       "\n",
       "    .dataframe thead th {\n",
       "        text-align: right;\n",
       "    }\n",
       "</style>\n",
       "<table border=\"1\" class=\"dataframe\">\n",
       "  <thead>\n",
       "    <tr style=\"text-align: right;\">\n",
       "      <th></th>\n",
       "      <th>fastq1</th>\n",
       "      <th>fastq2</th>\n",
       "      <th>Sample</th>\n",
       "      <th>Rnase</th>\n",
       "    </tr>\n",
       "  </thead>\n",
       "  <tbody>\n",
       "    <tr>\n",
       "      <th>0</th>\n",
       "      <td>True</td>\n",
       "      <td>True</td>\n",
       "      <td>False</td>\n",
       "      <td>False</td>\n",
       "    </tr>\n",
       "    <tr>\n",
       "      <th>1</th>\n",
       "      <td>True</td>\n",
       "      <td>True</td>\n",
       "      <td>False</td>\n",
       "      <td>False</td>\n",
       "    </tr>\n",
       "    <tr>\n",
       "      <th>2</th>\n",
       "      <td>True</td>\n",
       "      <td>True</td>\n",
       "      <td>False</td>\n",
       "      <td>False</td>\n",
       "    </tr>\n",
       "    <tr>\n",
       "      <th>3</th>\n",
       "      <td>True</td>\n",
       "      <td>True</td>\n",
       "      <td>False</td>\n",
       "      <td>False</td>\n",
       "    </tr>\n",
       "    <tr>\n",
       "      <th>4</th>\n",
       "      <td>True</td>\n",
       "      <td>True</td>\n",
       "      <td>False</td>\n",
       "      <td>False</td>\n",
       "    </tr>\n",
       "    <tr>\n",
       "      <th>5</th>\n",
       "      <td>True</td>\n",
       "      <td>True</td>\n",
       "      <td>False</td>\n",
       "      <td>False</td>\n",
       "    </tr>\n",
       "  </tbody>\n",
       "</table>\n",
       "</div>"
      ],
      "text/plain": [
       "   fastq1  fastq2  Sample  Rnase\n",
       "0    True    True   False  False\n",
       "1    True    True   False  False\n",
       "2    True    True   False  False\n",
       "3    True    True   False  False\n",
       "4    True    True   False  False\n",
       "5    True    True   False  False"
      ]
     },
     "execution_count": 19,
     "metadata": {},
     "output_type": "execute_result"
    }
   ],
   "source": [
    "manifest.applymap(os.path.isfile)"
   ]
  },
  {
   "cell_type": "code",
   "execution_count": 22,
   "id": "14031168-28f8-4a57-a0c9-cd272c443d1b",
   "metadata": {
    "tags": []
   },
   "outputs": [
    {
     "data": {
      "text/html": [
       "<div>\n",
       "<style scoped>\n",
       "    .dataframe tbody tr th:only-of-type {\n",
       "        vertical-align: middle;\n",
       "    }\n",
       "\n",
       "    .dataframe tbody tr th {\n",
       "        vertical-align: top;\n",
       "    }\n",
       "\n",
       "    .dataframe thead th {\n",
       "        text-align: right;\n",
       "    }\n",
       "</style>\n",
       "<table border=\"1\" class=\"dataframe\">\n",
       "  <thead>\n",
       "    <tr style=\"text-align: right;\">\n",
       "      <th></th>\n",
       "      <th>fastq1</th>\n",
       "      <th>fastq2</th>\n",
       "      <th>Sample</th>\n",
       "      <th>Rnase</th>\n",
       "    </tr>\n",
       "  </thead>\n",
       "  <tbody>\n",
       "    <tr>\n",
       "      <th>0</th>\n",
       "      <td>True</td>\n",
       "      <td>True</td>\n",
       "      <td>False</td>\n",
       "      <td>False</td>\n",
       "    </tr>\n",
       "    <tr>\n",
       "      <th>1</th>\n",
       "      <td>True</td>\n",
       "      <td>True</td>\n",
       "      <td>False</td>\n",
       "      <td>False</td>\n",
       "    </tr>\n",
       "    <tr>\n",
       "      <th>2</th>\n",
       "      <td>True</td>\n",
       "      <td>True</td>\n",
       "      <td>False</td>\n",
       "      <td>False</td>\n",
       "    </tr>\n",
       "  </tbody>\n",
       "</table>\n",
       "</div>"
      ],
      "text/plain": [
       "   fastq1  fastq2  Sample  Rnase\n",
       "0    True    True   False  False\n",
       "1    True    True   False  False\n",
       "2    True    True   False  False"
      ]
     },
     "execution_count": 22,
     "metadata": {},
     "output_type": "execute_result"
    }
   ],
   "source": [
    "manifest2.applymap(os.path.isfile)"
   ]
  },
  {
   "cell_type": "code",
   "execution_count": 21,
   "id": "fb23f507-da87-4d72-bb5e-224813f1ad05",
   "metadata": {},
   "outputs": [],
   "source": [
    "# turns out to be single ended. cannot run current pipeline\n",
    "manifest.to_csv('nextera_iter12_Cellline.csv')\n",
    "manifest2.to_csv('nextera_iter7_celllines_rar11.csv')"
   ]
  },
  {
   "cell_type": "code",
   "execution_count": 24,
   "id": "224c041c-1687-4573-9351-1e43b6664e85",
   "metadata": {},
   "outputs": [
    {
     "data": {
      "text/plain": [
       "0    False\n",
       "1    False\n",
       "2    False\n",
       "dtype: bool"
      ]
     },
     "execution_count": 24,
     "metadata": {},
     "output_type": "execute_result"
    }
   ],
   "source": [
    "manifest['fastq1'].eq(manifest['fastq2'])\n",
    "manifest2['fastq1'].eq(manifest2['fastq2'])"
   ]
  }
 ],
 "metadata": {
  "kernelspec": {
   "display_name": "Metadensity",
   "language": "python",
   "name": "metadensity"
  },
  "language_info": {
   "codemirror_mode": {
    "name": "ipython",
    "version": 3
   },
   "file_extension": ".py",
   "mimetype": "text/x-python",
   "name": "python",
   "nbconvert_exporter": "python",
   "pygments_lexer": "ipython3",
   "version": "3.9.16"
  }
 },
 "nbformat": 4,
 "nbformat_minor": 5
}
