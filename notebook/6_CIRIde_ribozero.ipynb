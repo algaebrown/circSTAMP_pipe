{
 "cells": [
  {
   "cell_type": "code",
   "execution_count": 1,
   "id": "6a72b87e",
   "metadata": {},
   "outputs": [],
   "source": [
    "import os\n",
    "from pybedtools import BedTool\n",
    "import pandas as pd\n",
    "import seaborn as sns\n",
    "from pathlib import Path\n",
    "outdir = Path('/home/hsher/scratch/circ_de/output/compare_to_rz')\n"
   ]
  },
  {
   "cell_type": "code",
   "execution_count": 2,
   "id": "1a34d7ac",
   "metadata": {},
   "outputs": [
    {
     "name": "stdout",
     "output_type": "stream",
     "text": [
      "[PosixPath('/home/hsher/scratch/circ_de/output/compare_to_rz/HEK_rar.gtf.tsv'), PosixPath('/home/hsher/scratch/circ_de/output/compare_to_rz/circseq-bm-rar11-nxt.gtf.tsv'), PosixPath('/home/hsher/scratch/circ_de/output/compare_to_rz/EV_rar11.gtf.tsv'), PosixPath('/home/hsher/scratch/circ_de/output/compare_to_rz/circseq-bm-rar19-nxt.gtf.tsv'), PosixPath('/home/hsher/scratch/circ_de/output/compare_to_rz/circseq-bm-rar.gtf.tsv'), PosixPath('/home/hsher/scratch/circ_de/output/compare_to_rz/TOB2_rar11.gtf.tsv'), PosixPath('/home/hsher/scratch/circ_de/output/compare_to_rz/HEK_rar11.gtf.tsv'), PosixPath('/home/hsher/scratch/circ_de/output/compare_to_rz/circseq-bm-arr.gtf.tsv')]\n"
     ]
    }
   ],
   "source": [
    "de_outputs = list(outdir.glob('*.tsv'))\n",
    "print(de_outputs)"
   ]
  },
  {
   "cell_type": "markdown",
   "id": "17fb84c5",
   "metadata": {},
   "source": [
    "```\n",
    "column \tname \tdescription\n",
    "1 \tcircRNA_ID \tcircRNA identifier\n",
    "2 \tCase_BSJ \tnumber of BSJ reads in case\n",
    "3 \tCase_FSJ \tnumber of FSJ reads in case\n",
    "4 \tCase_Ratio \tjunction ratio in case\n",
    "5 \tCtrl_BSJ \tnumber of BSJ reads in control\n",
    "6 \tCtrl_FSJ \tnumber of FSJ reads in control\n",
    "7 \tCtrl_Ratio \tjunction ratio in control\n",
    "8 \tDE_score \tdifferential expression score\n",
    "9 \tDS_score \tdifferential splicing score\n",
    "```"
   ]
  },
  {
   "cell_type": "code",
   "execution_count": 3,
   "id": "1f11afb7",
   "metadata": {},
   "outputs": [],
   "source": [
    "rename_dict = {'HEK_JC_rar11':'rar11_JC_rep2', \n",
    "               'Exo05': 'Exo05', \n",
    "               'Exo10': 'Exo10',\n",
    "               'HEK_rar11': 'rar11_rep2', \n",
    "               'EV_rar11': 'rar11_rep2-EV', \n",
    "               'TOB2_rar11': 'rar11_rep2-TOB2',\n",
    "               'EV_rz': 'rz-EV', \n",
    "               'HEK_rar': 'rar_rep2', \n",
    "               'TOB2_rz': 'rz-TOB2', \n",
    "               'HEK_JC_rar': 'rar_JC', \n",
    "               'RBM15_rz': 'rz-RBM15',\n",
    "               'circseq-bm-rar19-nxt': 'rar19', \n",
    "               'circseq-bm-rar11-nxt': 'rar11_rep1', \n",
    "               'circseq-bm-rar': 'rar_rep1',\n",
    "               'circseq-bm-arr': 'arr', \n",
    "               'circseq-bm-rz': 'rz_rep1', \n",
    "               'APO-50-A': 'polyA-APO-50', \n",
    "               'APO-50-R': 'RNase-APO-50', \n",
    "               'HuR-noD-A': 'polyA-HuR-0',\n",
    "               'HuR-50-R': 'RNase-HuR-0', \n",
    "               'HuR-1-A': 'polyA-HuR-1000', \n",
    "               'APO-noD-R': 'RNase-APO-0', \n",
    "               'HuR-1-R': 'RNase-HuR-1000', \n",
    "               'APO-1-R': 'RNase-APO-1000',\n",
    "               'APO-noD-A': 'polyA-APO-0'}"
   ]
  },
  {
   "cell_type": "code",
   "execution_count": 4,
   "id": "074e2102",
   "metadata": {},
   "outputs": [],
   "source": [
    "group_color = {'rar11_JC': 'tomato',\n",
    "              'rar11_rep1': 'orange',\n",
    "               'rar11_rep2': 'orange',\n",
    "              \n",
    "              'rz': 'mediumorchid', \n",
    "               'rar_rep1': 'seagreen',\n",
    "              'rar_rep2': 'seagreen',\n",
    "              'rar_JC': 'limegreen',\n",
    "              'arr': 'royalblue'}"
   ]
  },
  {
   "cell_type": "code",
   "execution_count": 5,
   "id": "ca6059c4",
   "metadata": {},
   "outputs": [],
   "source": [
    "de_outputs = [Path('/home/hsher/scratch/circ_de/output/compare_to_rz/HEK_rar.gtf.tsv'),\n",
    "              Path('/home/hsher/scratch/circ_de/output/compare_to_rz/circseq-bm-rar.gtf.tsv'),\n",
    " Path('/home/hsher/scratch/circ_de/output/compare_to_rz/circseq-bm-rar11-nxt.gtf.tsv'),\n",
    "              Path('/home/hsher/scratch/circ_de/output/compare_to_rz/HEK_rar11.gtf.tsv'),\n",
    " Path('/home/hsher/scratch/circ_de/output/compare_to_rz/circseq-bm-arr.gtf.tsv')]"
   ]
  },
  {
   "cell_type": "code",
   "execution_count": null,
   "id": "7209267b",
   "metadata": {},
   "outputs": [],
   "source": []
  },
  {
   "cell_type": "code",
   "execution_count": 6,
   "id": "395893df",
   "metadata": {},
   "outputs": [
    {
     "data": {
      "image/png": "[encoded data removed]",
      "text/plain": [
       "<Figure size 432x288 with 2 Axes>"
      ]
     },
     "metadata": {
      "needs_background": "light"
     },
     "output_type": "display_data"
    }
   ],
   "source": [
    "import matplotlib.pyplot as plt\n",
    "# control = RNase+\n",
    "# case = RNnase-\n",
    "f, ax = plt.subplots(1,2, sharex = True, figsize = (6,4))\n",
    "\n",
    "\n",
    "for i,f in enumerate(de_outputs):\n",
    "    de_df = pd.read_csv(f, sep = '\\t')\n",
    "    name = rename_dict[f.name.split('.gtf')[0]]\n",
    "    color = group_color[name]\n",
    "    \n",
    "    sns.ecdfplot(de_df, y = 'DE_score', color = color, ax = ax[0], label = name)\n",
    "    sns.ecdfplot(de_df, y = 'DS_score', color = color, ax = ax[1], label = name)\n",
    "    \n",
    "ax[0].set_ylabel('DE score, RNase(-) - RNase(+)')\n",
    "ax[1].set_ylabel('DS score, RNase(-) - RNase(+)')\n",
    "\n",
    "plt.legend()\n",
    "sns.despine()\n",
    "plt.tight_layout()"
   ]
  },
  {
   "cell_type": "code",
   "execution_count": 14,
   "id": "e79381d3",
   "metadata": {},
   "outputs": [
    {
     "data": {
      "text/plain": [
       "10.0"
      ]
     },
     "execution_count": 14,
     "metadata": {},
     "output_type": "execute_result"
    }
   ],
   "source": [
    "de_df.loc[de_df['DE_score']<0, 'Ctrl_BSJ'].median()"
   ]
  },
  {
   "cell_type": "code",
   "execution_count": 16,
   "id": "26c3498e",
   "metadata": {},
   "outputs": [
    {
     "data": {
      "text/plain": [
       "Case_BSJ       0.000\n",
       "Case_FSJ       0.000\n",
       "Case_Ratio     0.000\n",
       "Ctrl_BSJ       2.000\n",
       "Ctrl_FSJ      36.000\n",
       "Ctrl_Ratio     0.095\n",
       "DE_score       0.000\n",
       "DS_score       0.000\n",
       "dtype: float64"
      ]
     },
     "execution_count": 16,
     "metadata": {},
     "output_type": "execute_result"
    }
   ],
   "source": [
    "de_df.loc[(de_df['DE_score']==0)&((de_df['Ctrl_BSJ']>0))].median()"
   ]
  },
  {
   "cell_type": "code",
   "execution_count": 13,
   "id": "ffad90c8",
   "metadata": {},
   "outputs": [
    {
     "data": {
      "text/html": [
       "<div>\n",
       "<style scoped>\n",
       "    .dataframe tbody tr th:only-of-type {\n",
       "        vertical-align: middle;\n",
       "    }\n",
       "\n",
       "    .dataframe tbody tr th {\n",
       "        vertical-align: top;\n",
       "    }\n",
       "\n",
       "    .dataframe thead th {\n",
       "        text-align: right;\n",
       "    }\n",
       "</style>\n",
       "<table border=\"1\" class=\"dataframe\">\n",
       "  <thead>\n",
       "    <tr style=\"text-align: right;\">\n",
       "      <th></th>\n",
       "      <th>circRNA_ID</th>\n",
       "      <th>Case_BSJ</th>\n",
       "      <th>Case_FSJ</th>\n",
       "      <th>Case_Ratio</th>\n",
       "      <th>Ctrl_BSJ</th>\n",
       "      <th>Ctrl_FSJ</th>\n",
       "      <th>Ctrl_Ratio</th>\n",
       "      <th>DE_score</th>\n",
       "      <th>DS_score</th>\n",
       "    </tr>\n",
       "  </thead>\n",
       "  <tbody>\n",
       "    <tr>\n",
       "      <th>0</th>\n",
       "      <td>chr2:38802715|38843164</td>\n",
       "      <td>0</td>\n",
       "      <td>0</td>\n",
       "      <td>0.000</td>\n",
       "      <td>2</td>\n",
       "      <td>12</td>\n",
       "      <td>0.250</td>\n",
       "      <td>0.0</td>\n",
       "      <td>0.000000</td>\n",
       "    </tr>\n",
       "    <tr>\n",
       "      <th>1</th>\n",
       "      <td>chr1:193203795|193249871</td>\n",
       "      <td>1</td>\n",
       "      <td>391</td>\n",
       "      <td>0.005</td>\n",
       "      <td>0</td>\n",
       "      <td>0</td>\n",
       "      <td>0.000</td>\n",
       "      <td>0.0</td>\n",
       "      <td>-4.292872</td>\n",
       "    </tr>\n",
       "    <tr>\n",
       "      <th>2</th>\n",
       "      <td>chr12:96017044|96019240</td>\n",
       "      <td>2</td>\n",
       "      <td>900</td>\n",
       "      <td>0.004</td>\n",
       "      <td>0</td>\n",
       "      <td>0</td>\n",
       "      <td>0.000</td>\n",
       "      <td>0.0</td>\n",
       "      <td>-4.519501</td>\n",
       "    </tr>\n",
       "    <tr>\n",
       "      <th>4</th>\n",
       "      <td>chr12:411747|438554</td>\n",
       "      <td>0</td>\n",
       "      <td>0</td>\n",
       "      <td>0.000</td>\n",
       "      <td>2</td>\n",
       "      <td>13</td>\n",
       "      <td>0.235</td>\n",
       "      <td>0.0</td>\n",
       "      <td>0.000000</td>\n",
       "    </tr>\n",
       "    <tr>\n",
       "      <th>5</th>\n",
       "      <td>chr3:33068230|33068970</td>\n",
       "      <td>6</td>\n",
       "      <td>288</td>\n",
       "      <td>0.040</td>\n",
       "      <td>0</td>\n",
       "      <td>0</td>\n",
       "      <td>0.000</td>\n",
       "      <td>0.0</td>\n",
       "      <td>-1.276858</td>\n",
       "    </tr>\n",
       "    <tr>\n",
       "      <th>...</th>\n",
       "      <td>...</td>\n",
       "      <td>...</td>\n",
       "      <td>...</td>\n",
       "      <td>...</td>\n",
       "      <td>...</td>\n",
       "      <td>...</td>\n",
       "      <td>...</td>\n",
       "      <td>...</td>\n",
       "      <td>...</td>\n",
       "    </tr>\n",
       "    <tr>\n",
       "      <th>29447</th>\n",
       "      <td>chr14:66965191|67058786</td>\n",
       "      <td>2</td>\n",
       "      <td>277</td>\n",
       "      <td>0.014</td>\n",
       "      <td>0</td>\n",
       "      <td>0</td>\n",
       "      <td>0.000</td>\n",
       "      <td>0.0</td>\n",
       "      <td>-2.793432</td>\n",
       "    </tr>\n",
       "    <tr>\n",
       "      <th>29448</th>\n",
       "      <td>chr3:185598412|185613408</td>\n",
       "      <td>4</td>\n",
       "      <td>219</td>\n",
       "      <td>0.035</td>\n",
       "      <td>0</td>\n",
       "      <td>0</td>\n",
       "      <td>0.000</td>\n",
       "      <td>0.0</td>\n",
       "      <td>-1.496059</td>\n",
       "    </tr>\n",
       "    <tr>\n",
       "      <th>29450</th>\n",
       "      <td>chr13:77719517|77746855</td>\n",
       "      <td>0</td>\n",
       "      <td>0</td>\n",
       "      <td>0.000</td>\n",
       "      <td>3</td>\n",
       "      <td>0</td>\n",
       "      <td>1.000</td>\n",
       "      <td>0.0</td>\n",
       "      <td>0.000000</td>\n",
       "    </tr>\n",
       "    <tr>\n",
       "      <th>29454</th>\n",
       "      <td>chr17:8253859|8258199</td>\n",
       "      <td>0</td>\n",
       "      <td>0</td>\n",
       "      <td>0.000</td>\n",
       "      <td>1</td>\n",
       "      <td>442</td>\n",
       "      <td>0.005</td>\n",
       "      <td>0.0</td>\n",
       "      <td>4.440309</td>\n",
       "    </tr>\n",
       "    <tr>\n",
       "      <th>29457</th>\n",
       "      <td>chr2:135661270|135680324</td>\n",
       "      <td>1</td>\n",
       "      <td>257</td>\n",
       "      <td>0.008</td>\n",
       "      <td>0</td>\n",
       "      <td>0</td>\n",
       "      <td>0.000</td>\n",
       "      <td>0.0</td>\n",
       "      <td>-3.696635</td>\n",
       "    </tr>\n",
       "  </tbody>\n",
       "</table>\n",
       "<p>15618 rows × 9 columns</p>\n",
       "</div>"
      ],
      "text/plain": [
       "                     circRNA_ID  Case_BSJ  Case_FSJ  Case_Ratio  Ctrl_BSJ  \\\n",
       "0        chr2:38802715|38843164         0         0       0.000         2   \n",
       "1      chr1:193203795|193249871         1       391       0.005         0   \n",
       "2       chr12:96017044|96019240         2       900       0.004         0   \n",
       "4           chr12:411747|438554         0         0       0.000         2   \n",
       "5        chr3:33068230|33068970         6       288       0.040         0   \n",
       "...                         ...       ...       ...         ...       ...   \n",
       "29447   chr14:66965191|67058786         2       277       0.014         0   \n",
       "29448  chr3:185598412|185613408         4       219       0.035         0   \n",
       "29450   chr13:77719517|77746855         0         0       0.000         3   \n",
       "29454     chr17:8253859|8258199         0         0       0.000         1   \n",
       "29457  chr2:135661270|135680324         1       257       0.008         0   \n",
       "\n",
       "       Ctrl_FSJ  Ctrl_Ratio  DE_score  DS_score  \n",
       "0            12       0.250       0.0  0.000000  \n",
       "1             0       0.000       0.0 -4.292872  \n",
       "2             0       0.000       0.0 -4.519501  \n",
       "4            13       0.235       0.0  0.000000  \n",
       "5             0       0.000       0.0 -1.276858  \n",
       "...         ...         ...       ...       ...  \n",
       "29447         0       0.000       0.0 -2.793432  \n",
       "29448         0       0.000       0.0 -1.496059  \n",
       "29450         0       1.000       0.0  0.000000  \n",
       "29454       442       0.005       0.0  4.440309  \n",
       "29457         0       0.000       0.0 -3.696635  \n",
       "\n",
       "[15618 rows x 9 columns]"
      ]
     },
     "execution_count": 13,
     "metadata": {},
     "output_type": "execute_result"
    }
   ],
   "source": [
    "de_df.loc[de_df['DE_score']==0]"
   ]
  },
  {
   "cell_type": "code",
   "execution_count": null,
   "id": "3202b9a5",
   "metadata": {},
   "outputs": [],
   "source": []
  }
 ],
 "metadata": {
  "kernelspec": {
   "display_name": "Metadensity",
   "language": "python",
   "name": "metadensity"
  },
  "language_info": {
   "codemirror_mode": {
    "name": "ipython",
    "version": 3
   },
   "file_extension": ".py",
   "mimetype": "text/x-python",
   "name": "python",
   "nbconvert_exporter": "python",
   "pygments_lexer": "ipython3",
   "version": "3.7.12"
  }
 },
 "nbformat": 4,
 "nbformat_minor": 5
}
