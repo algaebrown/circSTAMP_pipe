{
 "cells": [
  {
   "cell_type": "markdown",
   "metadata": {},
   "source": [
    "## GO analysis on snoRNA-binding RBPs found from region calling"
   ]
  },
  {
   "cell_type": "markdown",
   "metadata": {},
   "source": [
    "### Getting the RBP data from my previously generated csv file:"
   ]
  },
  {
   "cell_type": "code",
   "execution_count": 2,
   "metadata": {
    "tags": []
   },
   "outputs": [],
   "source": [
    "# import statements\n",
    "import pandas as pd\n",
    "from pathlib import Path\n",
    "figdir = Path('/home/hsher/scratch/circular_fig/')"
   ]
  },
  {
   "cell_type": "code",
   "execution_count": 3,
   "metadata": {
    "tags": []
   },
   "outputs": [],
   "source": [
    "merged_de = pd.read_csv(figdir / 'huntington_de_circ.csv')"
   ]
  },
  {
   "cell_type": "code",
   "execution_count": 4,
   "metadata": {
    "tags": []
   },
   "outputs": [
    {
     "data": {
      "text/html": [
       "<div>\n",
       "<style scoped>\n",
       "    .dataframe tbody tr th:only-of-type {\n",
       "        vertical-align: middle;\n",
       "    }\n",
       "\n",
       "    .dataframe tbody tr th {\n",
       "        vertical-align: top;\n",
       "    }\n",
       "\n",
       "    .dataframe thead th {\n",
       "        text-align: right;\n",
       "    }\n",
       "</style>\n",
       "<table border=\"1\" class=\"dataframe\">\n",
       "  <thead>\n",
       "    <tr style=\"text-align: right;\">\n",
       "      <th></th>\n",
       "      <th>Unnamed: 0</th>\n",
       "      <th>Case_BSJ_rep1</th>\n",
       "      <th>Case_FSJ_rep1</th>\n",
       "      <th>Case_Ratio_rep1</th>\n",
       "      <th>Ctrl_BSJ_rep1</th>\n",
       "      <th>Ctrl_FSJ_rep1</th>\n",
       "      <th>Ctrl_Ratio_rep1</th>\n",
       "      <th>DE_score_rep1</th>\n",
       "      <th>DS_score_rep1</th>\n",
       "      <th>seqname_rep1</th>\n",
       "      <th>...</th>\n",
       "      <th>DE_score_rep2</th>\n",
       "      <th>DS_score_rep2</th>\n",
       "      <th>seqname_rep2</th>\n",
       "      <th>start_rep2</th>\n",
       "      <th>end_rep2</th>\n",
       "      <th>strand_rep2</th>\n",
       "      <th>circ_type_rep2</th>\n",
       "      <th>gene_id_rep2</th>\n",
       "      <th>gene_name_rep2</th>\n",
       "      <th>gene_type_rep2</th>\n",
       "    </tr>\n",
       "  </thead>\n",
       "  <tbody>\n",
       "    <tr>\n",
       "      <th>0</th>\n",
       "      <td>chr5:134790470|134811845</td>\n",
       "      <td>0</td>\n",
       "      <td>0</td>\n",
       "      <td>0.000</td>\n",
       "      <td>1</td>\n",
       "      <td>0</td>\n",
       "      <td>1.000</td>\n",
       "      <td>0.0</td>\n",
       "      <td>0.0</td>\n",
       "      <td>chr5</td>\n",
       "      <td>...</td>\n",
       "      <td>0.000000</td>\n",
       "      <td>0.0</td>\n",
       "      <td>chr5</td>\n",
       "      <td>134790470.0</td>\n",
       "      <td>134811845.0</td>\n",
       "      <td>+</td>\n",
       "      <td>exon</td>\n",
       "      <td>ENSG00000145833.16</td>\n",
       "      <td>DDX46</td>\n",
       "      <td>protein_coding</td>\n",
       "    </tr>\n",
       "    <tr>\n",
       "      <th>1</th>\n",
       "      <td>chr9:112268049|112297916</td>\n",
       "      <td>341</td>\n",
       "      <td>0</td>\n",
       "      <td>1.000</td>\n",
       "      <td>227</td>\n",
       "      <td>0</td>\n",
       "      <td>1.000</td>\n",
       "      <td>0.0</td>\n",
       "      <td>0.0</td>\n",
       "      <td>chr9</td>\n",
       "      <td>...</td>\n",
       "      <td>0.301168</td>\n",
       "      <td>0.0</td>\n",
       "      <td>chr9</td>\n",
       "      <td>112268049.0</td>\n",
       "      <td>112297916.0</td>\n",
       "      <td>-</td>\n",
       "      <td>exon</td>\n",
       "      <td>ENSG00000230081.2,ENSG00000119314.16,ENSG00000...</td>\n",
       "      <td>HSPE1P28,PTBP3,RN7SL430P</td>\n",
       "      <td>processed_pseudogene,protein_coding,misc_RNA</td>\n",
       "    </tr>\n",
       "    <tr>\n",
       "      <th>2</th>\n",
       "      <td>chr5:179575241|179577136</td>\n",
       "      <td>1</td>\n",
       "      <td>11</td>\n",
       "      <td>0.154</td>\n",
       "      <td>1</td>\n",
       "      <td>11</td>\n",
       "      <td>0.154</td>\n",
       "      <td>0.0</td>\n",
       "      <td>0.0</td>\n",
       "      <td>chr5</td>\n",
       "      <td>...</td>\n",
       "      <td>0.000000</td>\n",
       "      <td>0.0</td>\n",
       "      <td>chr5</td>\n",
       "      <td>179575241.0</td>\n",
       "      <td>179577136.0</td>\n",
       "      <td>+</td>\n",
       "      <td>intron</td>\n",
       "      <td>ENSG00000176783.15</td>\n",
       "      <td>RUFY1</td>\n",
       "      <td>protein_coding</td>\n",
       "    </tr>\n",
       "    <tr>\n",
       "      <th>3</th>\n",
       "      <td>chr17:80135313|80138280</td>\n",
       "      <td>6</td>\n",
       "      <td>0</td>\n",
       "      <td>1.000</td>\n",
       "      <td>4</td>\n",
       "      <td>0</td>\n",
       "      <td>1.000</td>\n",
       "      <td>0.0</td>\n",
       "      <td>0.0</td>\n",
       "      <td>chr17</td>\n",
       "      <td>...</td>\n",
       "      <td>0.000000</td>\n",
       "      <td>0.0</td>\n",
       "      <td>chr17</td>\n",
       "      <td>80135313.0</td>\n",
       "      <td>80138280.0</td>\n",
       "      <td>-</td>\n",
       "      <td>exon</td>\n",
       "      <td>ENSG00000141543.12</td>\n",
       "      <td>EIF4A3</td>\n",
       "      <td>protein_coding</td>\n",
       "    </tr>\n",
       "    <tr>\n",
       "      <th>4</th>\n",
       "      <td>chr22:20818483|20820611</td>\n",
       "      <td>1</td>\n",
       "      <td>0</td>\n",
       "      <td>1.000</td>\n",
       "      <td>2</td>\n",
       "      <td>7</td>\n",
       "      <td>0.364</td>\n",
       "      <td>0.0</td>\n",
       "      <td>0.0</td>\n",
       "      <td>chr22</td>\n",
       "      <td>...</td>\n",
       "      <td>0.000000</td>\n",
       "      <td>0.0</td>\n",
       "      <td>chr22</td>\n",
       "      <td>20818483.0</td>\n",
       "      <td>20820611.0</td>\n",
       "      <td>-</td>\n",
       "      <td>exon</td>\n",
       "      <td>ENSG00000241973.11</td>\n",
       "      <td>PI4KA</td>\n",
       "      <td>protein_coding</td>\n",
       "    </tr>\n",
       "  </tbody>\n",
       "</table>\n",
       "<p>5 rows × 33 columns</p>\n",
       "</div>"
      ],
      "text/plain": [
       "                 Unnamed: 0  Case_BSJ_rep1  Case_FSJ_rep1  Case_Ratio_rep1  \\\n",
       "0  chr5:134790470|134811845              0              0            0.000   \n",
       "1  chr9:112268049|112297916            341              0            1.000   \n",
       "2  chr5:179575241|179577136              1             11            0.154   \n",
       "3   chr17:80135313|80138280              6              0            1.000   \n",
       "4   chr22:20818483|20820611              1              0            1.000   \n",
       "\n",
       "   Ctrl_BSJ_rep1  Ctrl_FSJ_rep1  Ctrl_Ratio_rep1  DE_score_rep1  \\\n",
       "0              1              0            1.000            0.0   \n",
       "1            227              0            1.000            0.0   \n",
       "2              1             11            0.154            0.0   \n",
       "3              4              0            1.000            0.0   \n",
       "4              2              7            0.364            0.0   \n",
       "\n",
       "   DS_score_rep1 seqname_rep1  ...  DE_score_rep2  DS_score_rep2 seqname_rep2  \\\n",
       "0            0.0         chr5  ...       0.000000            0.0         chr5   \n",
       "1            0.0         chr9  ...       0.301168            0.0         chr9   \n",
       "2            0.0         chr5  ...       0.000000            0.0         chr5   \n",
       "3            0.0        chr17  ...       0.000000            0.0        chr17   \n",
       "4            0.0        chr22  ...       0.000000            0.0        chr22   \n",
       "\n",
       "    start_rep2     end_rep2 strand_rep2 circ_type_rep2  \\\n",
       "0  134790470.0  134811845.0           +           exon   \n",
       "1  112268049.0  112297916.0           -           exon   \n",
       "2  179575241.0  179577136.0           +         intron   \n",
       "3   80135313.0   80138280.0           -           exon   \n",
       "4   20818483.0   20820611.0           -           exon   \n",
       "\n",
       "                                        gene_id_rep2  \\\n",
       "0                                 ENSG00000145833.16   \n",
       "1  ENSG00000230081.2,ENSG00000119314.16,ENSG00000...   \n",
       "2                                 ENSG00000176783.15   \n",
       "3                                 ENSG00000141543.12   \n",
       "4                                 ENSG00000241973.11   \n",
       "\n",
       "             gene_name_rep2                                gene_type_rep2  \n",
       "0                     DDX46                                protein_coding  \n",
       "1  HSPE1P28,PTBP3,RN7SL430P  processed_pseudogene,protein_coding,misc_RNA  \n",
       "2                     RUFY1                                protein_coding  \n",
       "3                    EIF4A3                                protein_coding  \n",
       "4                     PI4KA                                protein_coding  \n",
       "\n",
       "[5 rows x 33 columns]"
      ]
     },
     "execution_count": 4,
     "metadata": {},
     "output_type": "execute_result"
    }
   ],
   "source": [
    "merged_de.head()"
   ]
  },
  {
   "cell_type": "code",
   "execution_count": 5,
   "metadata": {
    "tags": []
   },
   "outputs": [
    {
     "data": {
      "text/plain": [
       "Index(['Unnamed: 0', 'Case_BSJ_rep1', 'Case_FSJ_rep1', 'Case_Ratio_rep1',\n",
       "       'Ctrl_BSJ_rep1', 'Ctrl_FSJ_rep1', 'Ctrl_Ratio_rep1', 'DE_score_rep1',\n",
       "       'DS_score_rep1', 'seqname_rep1', 'start_rep1', 'end_rep1',\n",
       "       'strand_rep1', 'circ_type_rep1', 'gene_id_rep1', 'gene_name_rep1',\n",
       "       'gene_type_rep1', 'Case_BSJ_rep2', 'Case_FSJ_rep2', 'Case_Ratio_rep2',\n",
       "       'Ctrl_BSJ_rep2', 'Ctrl_FSJ_rep2', 'Ctrl_Ratio_rep2', 'DE_score_rep2',\n",
       "       'DS_score_rep2', 'seqname_rep2', 'start_rep2', 'end_rep2',\n",
       "       'strand_rep2', 'circ_type_rep2', 'gene_id_rep2', 'gene_name_rep2',\n",
       "       'gene_type_rep2'],\n",
       "      dtype='object')"
      ]
     },
     "execution_count": 5,
     "metadata": {},
     "output_type": "execute_result"
    }
   ],
   "source": [
    "merged_de.columns"
   ]
  },
  {
   "cell_type": "code",
   "execution_count": 15,
   "metadata": {
    "tags": []
   },
   "outputs": [
    {
     "data": {
      "text/plain": [
       "((246,), (279,))"
      ]
     },
     "execution_count": 15,
     "metadata": {},
     "output_type": "execute_result"
    }
   ],
   "source": [
    "thres = 1\n",
    "upreg_circ_genes = merged_de.loc[(merged_de['DE_score_rep1']>thres)&\n",
    "                                 (merged_de['DE_score_rep2']>thres)&\n",
    "                                 (~merged_de['gene_name_rep2'].fillna('').str.contains(',')),\n",
    "                                 'gene_name_rep2'\n",
    "                                ].dropna().unique()\n",
    "downreg_circ_genes = merged_de.loc[(merged_de['DE_score_rep1']<-thres)&\n",
    "                                   (merged_de['DE_score_rep2']<-thres)&\n",
    "                                   (~merged_de['gene_name_rep2'].fillna('').str.contains(',')),\n",
    "                                   'gene_name_rep2'\n",
    "                                  ].dropna().unique()\n",
    "upreg_circ_genes.shape, downreg_circ_genes.shape"
   ]
  },
  {
   "cell_type": "code",
   "execution_count": 18,
   "metadata": {
    "tags": []
   },
   "outputs": [],
   "source": [
    "all_genes = merged_de.loc[(~merged_de['gene_name_rep2'].fillna('').str.contains(',')),\n",
    "                         'gene_name_rep2'].dropna().unique()"
   ]
  },
  {
   "cell_type": "code",
   "execution_count": 19,
   "metadata": {
    "tags": []
   },
   "outputs": [
    {
     "data": {
      "text/plain": [
       "(8582,)"
      ]
     },
     "execution_count": 19,
     "metadata": {},
     "output_type": "execute_result"
    }
   ],
   "source": [
    "all_genes.shape"
   ]
  },
  {
   "cell_type": "markdown",
   "metadata": {},
   "source": [
    "### From here, I follow the GO analysis tutorial:"
   ]
  },
  {
   "cell_type": "code",
   "execution_count": 20,
   "metadata": {
    "tags": []
   },
   "outputs": [
    {
     "name": "stdout",
     "output_type": "stream",
     "text": [
      "/home/hsher/ontology/go-basic.obo: fmt(1.2) rel(2020-12-08) 47,295 Terms\n"
     ]
    }
   ],
   "source": [
    "# import\n",
    "from goatools.obo_parser import GODag\n",
    "\n",
    "obodag = GODag(\"/home/hsher/ontology/go-basic.obo\")"
   ]
  },
  {
   "cell_type": "code",
   "execution_count": 21,
   "metadata": {
    "tags": []
   },
   "outputs": [
    {
     "name": "stdout",
     "output_type": "stream",
     "text": [
      "HMS:0:00:03.044586 338,874 annotations, 20,669 genes, 18,512 GOs, 1 taxids READ: /home/hsher/ontology/gene2go \n",
      "BP 18,669 annotated human genes\n",
      "MF 18,166 annotated human genes\n",
      "CC 19,379 annotated human genes\n"
     ]
    }
   ],
   "source": [
    "from __future__ import print_function\n",
    "from goatools.anno.genetogo_reader import Gene2GoReader\n",
    "\n",
    "# Read NCBI's gene2go. Store annotations in a list of namedtuples\n",
    "objanno = Gene2GoReader(filename=\"/home/hsher/ontology/gene2go\", taxids=[9606])\n",
    "\n",
    "# Get namespace2association where:\n",
    "#    namespace is:\n",
    "#        BP: biological_process               \n",
    "#        MF: molecular_function\n",
    "#        CC: cellular_component\n",
    "#    assocation is a dict:\n",
    "#        key: NCBI GeneID\n",
    "#        value: A set of GO IDs associated with that gene\n",
    "ns2assoc = objanno.get_ns2assc()\n",
    "\n",
    "for nspc, id2gos in ns2assoc.items():\n",
    "    print(\"{NS} {N:,} annotated human genes\".format(NS=nspc, N=len(id2gos)))"
   ]
  },
  {
   "cell_type": "code",
   "execution_count": 22,
   "metadata": {
    "tags": []
   },
   "outputs": [],
   "source": [
    "from goatools.goea.go_enrichment_ns import GOEnrichmentStudyNS"
   ]
  },
  {
   "cell_type": "code",
   "execution_count": 23,
   "metadata": {
    "tags": []
   },
   "outputs": [],
   "source": [
    "import sys\n",
    "sys.path.append('/home/hsher/ontology')\n",
    "from protein_coding_9606 import GENEID2NT as human_genes"
   ]
  },
  {
   "cell_type": "markdown",
   "metadata": {},
   "source": [
    "### getting the snoRNA-binding RBPs (background) and the list to be compared to\n",
    "My list of snoRNA-binding RBPs (the background) already exists as `snoRNA_rbp`. \n",
    "My comparison list (the list of RBPs with a threshold of how many snoRNAs they bind) exists as `snoRNA_rbp_K562_200`. "
   ]
  },
  {
   "cell_type": "code",
   "execution_count": 24,
   "metadata": {
    "tags": []
   },
   "outputs": [
    {
     "name": "stdout",
     "output_type": "stream",
     "text": [
      "querying 1-1000...done.\n",
      "querying 1001-2000...done.\n",
      "querying 2001-3000...done.\n",
      "querying 3001-4000...done.\n",
      "querying 4001-5000...done.\n",
      "querying 5001-6000...done.\n",
      "querying 6001-7000...done.\n",
      "querying 7001-8000...done.\n",
      "querying 8001-8582...done.\n",
      "Finished.\n",
      "7857 input query terms found dup hits:\n",
      "\t[('DDX46', 10), ('RUFY1', 10), ('EIF4A3', 10), ('PI4KA', 10), ('GLB1', 10), ('TTLL7', 10), ('ARHGAP2\n",
      "515 input query terms found no hit:\n",
      "\t['AC023421.2', 'AL589740.1', 'Z93929.2', 'AC111006.1', 'AL008633.1', 'AL158212.1', 'AC068282.1', 'AC\n",
      "Pass \"returnall=True\" to return complete lists of duplicate or missing query terms.\n"
     ]
    }
   ],
   "source": [
    "import mygene\n",
    "mg = mygene.MyGeneInfo()\n",
    "mgresult = mg.querymany(all_genes, scopes='symbol', fields='entrezgene', as_dataframe = True)\n",
    "mgresult.dropna(subset = ['entrezgene'], inplace = True)\n",
    "mgresult['entrezgene']=mgresult['entrezgene'].astype(int)"
   ]
  },
  {
   "cell_type": "code",
   "execution_count": 25,
   "metadata": {
    "tags": []
   },
   "outputs": [],
   "source": [
    "gene_ids=list(set(human_genes.keys()).intersection(set(mgresult['entrezgene'].tolist())))"
   ]
  },
  {
   "cell_type": "code",
   "execution_count": 27,
   "metadata": {
    "tags": []
   },
   "outputs": [
    {
     "data": {
      "text/plain": [
       "537"
      ]
     },
     "execution_count": 27,
     "metadata": {},
     "output_type": "execute_result"
    }
   ],
   "source": [
    "# first I check if any of them don't have a entrezgene id\n",
    "len(set(all_genes)-set(mgresult.index)) # these are not in the mygene database"
   ]
  },
  {
   "cell_type": "code",
   "execution_count": 28,
   "metadata": {
    "tags": []
   },
   "outputs": [
    {
     "data": {
      "text/html": [
       "<div>\n",
       "<style scoped>\n",
       "    .dataframe tbody tr th:only-of-type {\n",
       "        vertical-align: middle;\n",
       "    }\n",
       "\n",
       "    .dataframe tbody tr th {\n",
       "        vertical-align: top;\n",
       "    }\n",
       "\n",
       "    .dataframe thead th {\n",
       "        text-align: right;\n",
       "    }\n",
       "</style>\n",
       "<table border=\"1\" class=\"dataframe\">\n",
       "  <thead>\n",
       "    <tr style=\"text-align: right;\">\n",
       "      <th></th>\n",
       "      <th>_id</th>\n",
       "      <th>_score</th>\n",
       "      <th>entrezgene</th>\n",
       "      <th>notfound</th>\n",
       "    </tr>\n",
       "    <tr>\n",
       "      <th>query</th>\n",
       "      <th></th>\n",
       "      <th></th>\n",
       "      <th></th>\n",
       "      <th></th>\n",
       "    </tr>\n",
       "  </thead>\n",
       "  <tbody>\n",
       "    <tr>\n",
       "      <th>DDX46</th>\n",
       "      <td>212880</td>\n",
       "      <td>14.686645</td>\n",
       "      <td>212880</td>\n",
       "      <td>NaN</td>\n",
       "    </tr>\n",
       "    <tr>\n",
       "      <th>DDX46</th>\n",
       "      <td>245957</td>\n",
       "      <td>12.427162</td>\n",
       "      <td>245957</td>\n",
       "      <td>NaN</td>\n",
       "    </tr>\n",
       "    <tr>\n",
       "      <th>DDX46</th>\n",
       "      <td>462070</td>\n",
       "      <td>11.297420</td>\n",
       "      <td>462070</td>\n",
       "      <td>NaN</td>\n",
       "    </tr>\n",
       "    <tr>\n",
       "      <th>DDX46</th>\n",
       "      <td>116056045</td>\n",
       "      <td>11.297420</td>\n",
       "      <td>116056045</td>\n",
       "      <td>NaN</td>\n",
       "    </tr>\n",
       "    <tr>\n",
       "      <th>DDX46</th>\n",
       "      <td>111659968</td>\n",
       "      <td>11.297420</td>\n",
       "      <td>111659968</td>\n",
       "      <td>NaN</td>\n",
       "    </tr>\n",
       "    <tr>\n",
       "      <th>...</th>\n",
       "      <td>...</td>\n",
       "      <td>...</td>\n",
       "      <td>...</td>\n",
       "      <td>...</td>\n",
       "    </tr>\n",
       "    <tr>\n",
       "      <th>DCAF8L2</th>\n",
       "      <td>702202</td>\n",
       "      <td>14.896118</td>\n",
       "      <td>702202</td>\n",
       "      <td>NaN</td>\n",
       "    </tr>\n",
       "    <tr>\n",
       "      <th>DCAF8L2</th>\n",
       "      <td>105574594</td>\n",
       "      <td>14.896118</td>\n",
       "      <td>105574594</td>\n",
       "      <td>NaN</td>\n",
       "    </tr>\n",
       "    <tr>\n",
       "      <th>DCAF8L2</th>\n",
       "      <td>101151703</td>\n",
       "      <td>14.896118</td>\n",
       "      <td>101151703</td>\n",
       "      <td>NaN</td>\n",
       "    </tr>\n",
       "    <tr>\n",
       "      <th>DCAF8L2</th>\n",
       "      <td>105532150</td>\n",
       "      <td>14.896118</td>\n",
       "      <td>105532150</td>\n",
       "      <td>NaN</td>\n",
       "    </tr>\n",
       "    <tr>\n",
       "      <th>DCAF8L2</th>\n",
       "      <td>105499116</td>\n",
       "      <td>14.896118</td>\n",
       "      <td>105499116</td>\n",
       "      <td>NaN</td>\n",
       "    </tr>\n",
       "  </tbody>\n",
       "</table>\n",
       "<p>42427 rows × 4 columns</p>\n",
       "</div>"
      ],
      "text/plain": [
       "               _id     _score  entrezgene notfound\n",
       "query                                             \n",
       "DDX46       212880  14.686645      212880      NaN\n",
       "DDX46       245957  12.427162      245957      NaN\n",
       "DDX46       462070  11.297420      462070      NaN\n",
       "DDX46    116056045  11.297420   116056045      NaN\n",
       "DDX46    111659968  11.297420   111659968      NaN\n",
       "...            ...        ...         ...      ...\n",
       "DCAF8L2     702202  14.896118      702202      NaN\n",
       "DCAF8L2  105574594  14.896118   105574594      NaN\n",
       "DCAF8L2  101151703  14.896118   101151703      NaN\n",
       "DCAF8L2  105532150  14.896118   105532150      NaN\n",
       "DCAF8L2  105499116  14.896118   105499116      NaN\n",
       "\n",
       "[42427 rows x 4 columns]"
      ]
     },
     "execution_count": 28,
     "metadata": {},
     "output_type": "execute_result"
    }
   ],
   "source": [
    "# some are not in the 'protein_coding_9606' from the GOATTOOLS package 'human_gene'\n",
    "mgresult.loc[~mgresult['entrezgene'].isin(human_genes.keys())]"
   ]
  },
  {
   "cell_type": "code",
   "execution_count": 31,
   "metadata": {
    "tags": []
   },
   "outputs": [
    {
     "data": {
      "text/plain": [
       "8582"
      ]
     },
     "execution_count": 31,
     "metadata": {},
     "output_type": "execute_result"
    }
   ],
   "source": [
    "len(all_genes) # we lost 10 genes"
   ]
  },
  {
   "cell_type": "code",
   "execution_count": 32,
   "metadata": {
    "tags": []
   },
   "outputs": [],
   "source": [
    "id_mapper = mgresult.loc[mgresult['entrezgene'].astype(int).isin(gene_ids), 'entrezgene'\n",
    "                        ].to_dict()"
   ]
  },
  {
   "cell_type": "code",
   "execution_count": 34,
   "metadata": {
    "tags": []
   },
   "outputs": [],
   "source": [
    "# import os\n",
    "\n",
    "from goatools.godag_plot import plot_gos, plot_results, plot_goid2goobj\n",
    "# outdir='/home/hsher/covid_rmats_as_rep/GO/'\n",
    "\n",
    "def main(protein_list, background, mapper = id_mapper):\n",
    "    \"\"\" Charlene's code. \n",
    "    protein_list: gene symbols of RBP\n",
    "    background: ENTREZGENE ID of the background, therefore we use id_mapper.values()\n",
    "    \n",
    "    \"\"\"\n",
    "    \n",
    "    # start enrichment analysis\n",
    "    goeaobj = GOEnrichmentStudyNS(\n",
    "        background, # List of mouse protein-coding genes\n",
    "        ns2assoc, # geneid/GO associations\n",
    "        obodag, # Ontologies\n",
    "        propagate_counts = False,\n",
    "        alpha = 0.05, # default significance cut-off\n",
    "        methods = ['fdr_bh']) # defult multipletest correction method\n",
    "\n",
    "    geneid=[id_mapper[rbp] for rbp in protein_list]\n",
    "    \n",
    "\n",
    "    goea_results_all = goeaobj.run_study(geneid)\n",
    "    goea_results_sig = [r for r in goea_results_all if r.p_fdr_bh < 0.05]\n",
    "\n",
    "\n",
    "    #goeaobj.wr_xlsx(outdir+\"{}_{}_{}.xlsx\".format(protein, type_event, di), goea_results_sig)\n",
    "    #plot_results(outdir+\"{}_{}_{}\".format(protein, type_event, di)+\"_{NS}.png\", goea_results_sig)\n",
    "    \n",
    "    return goea_results_all"
   ]
  },
  {
   "cell_type": "code",
   "execution_count": 35,
   "metadata": {
    "tags": []
   },
   "outputs": [
    {
     "name": "stdout",
     "output_type": "stream",
     "text": [
      "\n",
      "Load BP Ontology Enrichment Analysis ...\n",
      " 92%  6,887 of  7,462 population items found in association\n",
      "\n",
      "Load CC Ontology Enrichment Analysis ...\n",
      " 96%  7,130 of  7,462 population items found in association\n",
      "\n",
      "Load MF Ontology Enrichment Analysis ...\n",
      " 94%  7,013 of  7,462 population items found in association\n",
      "\n",
      "Runing BP Ontology Analysis: current study set of 223 IDs.\n",
      " 96%    214 of    223 study items found in association\n",
      "100%    223 of    223 study items found in population(7462)\n",
      "Calculating 9,009 uncorrected p-values using fisher_scipy_stats\n",
      "   9,009 terms are associated with  6,887 of  7,462 population items\n",
      "   1,252 terms are associated with    214 of    223 study items\n",
      "  METHOD fdr_bh:\n",
      "       0 GO terms found significant (< 0.05=alpha) (  0 enriched +   0 purified): statsmodels fdr_bh\n",
      "       0 study items associated with significant GO IDs (enriched)\n",
      "       0 study items associated with significant GO IDs (purified)\n",
      "\n",
      "Runing CC Ontology Analysis: current study set of 223 IDs.\n",
      " 97%    216 of    223 study items found in association\n",
      "100%    223 of    223 study items found in population(7462)\n",
      "Calculating 1,468 uncorrected p-values using fisher_scipy_stats\n",
      "   1,468 terms are associated with  7,130 of  7,462 population items\n",
      "     317 terms are associated with    216 of    223 study items\n",
      "  METHOD fdr_bh:\n",
      "       0 GO terms found significant (< 0.05=alpha) (  0 enriched +   0 purified): statsmodels fdr_bh\n",
      "       0 study items associated with significant GO IDs (enriched)\n",
      "       0 study items associated with significant GO IDs (purified)\n",
      "\n",
      "Runing MF Ontology Analysis: current study set of 223 IDs.\n",
      " 94%    210 of    223 study items found in association\n",
      "100%    223 of    223 study items found in population(7462)\n",
      "Calculating 2,934 uncorrected p-values using fisher_scipy_stats\n",
      "   2,934 terms are associated with  7,013 of  7,462 population items\n",
      "     385 terms are associated with    210 of    223 study items\n",
      "  METHOD fdr_bh:\n",
      "       0 GO terms found significant (< 0.05=alpha) (  0 enriched +   0 purified): statsmodels fdr_bh\n",
      "       0 study items associated with significant GO IDs (enriched)\n",
      "       0 study items associated with significant GO IDs (purified)\n"
     ]
    }
   ],
   "source": [
    "# we will have to omit the protein, both in background and in the query that failed to find it's ID in the GOATTOOL package\n",
    "go_output = main(list(set(upreg_circ_genes).intersection(id_mapper.keys())),\n",
    "                id_mapper.values())\n",
    "                \n",
    "# commented out because of weird error \n",
    "# it is because GSK3 is not in id_mapper\n",
    "# we should check why it is not there"
   ]
  },
  {
   "cell_type": "code",
   "execution_count": 36,
   "metadata": {
    "tags": []
   },
   "outputs": [
    {
     "data": {
      "text/plain": [
       "[[]]"
      ]
     },
     "execution_count": 36,
     "metadata": {},
     "output_type": "execute_result"
    }
   ],
   "source": [
    "[[r.name for r in go_output if r.p_fdr_bh < 0.2]]"
   ]
  },
  {
   "cell_type": "code",
   "execution_count": 37,
   "metadata": {
    "tags": []
   },
   "outputs": [
    {
     "name": "stdout",
     "output_type": "stream",
     "text": [
      "\n",
      "Load BP Ontology Enrichment Analysis ...\n",
      " 92%  6,887 of  7,462 population items found in association\n",
      "\n",
      "Load CC Ontology Enrichment Analysis ...\n",
      " 96%  7,130 of  7,462 population items found in association\n",
      "\n",
      "Load MF Ontology Enrichment Analysis ...\n",
      " 94%  7,013 of  7,462 population items found in association\n",
      "\n",
      "Runing BP Ontology Analysis: current study set of 257 IDs.\n",
      " 94%    241 of    257 study items found in association\n",
      "100%    257 of    257 study items found in population(7462)\n",
      "Calculating 9,009 uncorrected p-values using fisher_scipy_stats\n",
      "   9,009 terms are associated with  6,887 of  7,462 population items\n",
      "   1,292 terms are associated with    241 of    257 study items\n",
      "  METHOD fdr_bh:\n",
      "       0 GO terms found significant (< 0.05=alpha) (  0 enriched +   0 purified): statsmodels fdr_bh\n",
      "       0 study items associated with significant GO IDs (enriched)\n",
      "       0 study items associated with significant GO IDs (purified)\n",
      "\n",
      "Runing CC Ontology Analysis: current study set of 257 IDs.\n",
      " 96%    246 of    257 study items found in association\n",
      "100%    257 of    257 study items found in population(7462)\n",
      "Calculating 1,468 uncorrected p-values using fisher_scipy_stats\n",
      "   1,468 terms are associated with  7,130 of  7,462 population items\n",
      "     323 terms are associated with    246 of    257 study items\n",
      "  METHOD fdr_bh:\n",
      "       0 GO terms found significant (< 0.05=alpha) (  0 enriched +   0 purified): statsmodels fdr_bh\n",
      "       0 study items associated with significant GO IDs (enriched)\n",
      "       0 study items associated with significant GO IDs (purified)\n",
      "\n",
      "Runing MF Ontology Analysis: current study set of 257 IDs.\n",
      " 95%    244 of    257 study items found in association\n",
      "100%    257 of    257 study items found in population(7462)\n",
      "Calculating 2,934 uncorrected p-values using fisher_scipy_stats\n",
      "   2,934 terms are associated with  7,013 of  7,462 population items\n",
      "     404 terms are associated with    244 of    257 study items\n",
      "  METHOD fdr_bh:\n",
      "       0 GO terms found significant (< 0.05=alpha) (  0 enriched +   0 purified): statsmodels fdr_bh\n",
      "       0 study items associated with significant GO IDs (enriched)\n",
      "       0 study items associated with significant GO IDs (purified)\n"
     ]
    }
   ],
   "source": [
    "# we will have to omit the protein, both in background and in the query that failed to find it's ID in the GOATTOOL package\n",
    "go_down_output = main(list(set(downreg_circ_genes).intersection(id_mapper.keys())),\n",
    "                id_mapper.values())\n",
    "                \n",
    "# commented out because of weird error \n",
    "# it is because GSK3 is not in id_mapper\n",
    "# we should check why it is not there"
   ]
  },
  {
   "cell_type": "code",
   "execution_count": 38,
   "metadata": {
    "tags": []
   },
   "outputs": [
    {
     "data": {
      "text/plain": [
       "[]"
      ]
     },
     "execution_count": 38,
     "metadata": {},
     "output_type": "execute_result"
    }
   ],
   "source": [
    "# see what is significant\n",
    "[r.name for r in go_down_output if r.p_fdr_bh < 0.05]"
   ]
  }
 ],
 "metadata": {
  "kernelspec": {
   "display_name": "GOATtools",
   "language": "python",
   "name": "goattools"
  },
  "language_info": {
   "codemirror_mode": {
    "name": "ipython",
    "version": 3
   },
   "file_extension": ".py",
   "mimetype": "text/x-python",
   "name": "python",
   "nbconvert_exporter": "python",
   "pygments_lexer": "ipython3",
   "version": "3.10.6"
  }
 },
 "nbformat": 4,
 "nbformat_minor": 4
}
