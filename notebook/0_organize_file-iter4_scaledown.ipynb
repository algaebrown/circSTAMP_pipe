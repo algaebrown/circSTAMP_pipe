{
 "cells": [
  {
   "cell_type": "code",
   "execution_count": 1,
   "id": "5a509f63",
   "metadata": {
    "tags": []
   },
   "outputs": [],
   "source": [
    "import os\n",
    "from pathlib import Path\n",
    "indir = Path('/home/tayu/seqdata/tao/circRNA_seq/scaledown_HTT/igm-storage2.ucsd.edu/230213_A00953_0690_BHVCVKDSX5')"
   ]
  },
  {
   "cell_type": "code",
   "execution_count": 9,
   "id": "d5d107ac",
   "metadata": {
    "tags": []
   },
   "outputs": [],
   "source": [
    "fq1 = list(indir.glob('*0_rar*R1*.fastq.gz'))"
   ]
  },
  {
   "cell_type": "code",
   "execution_count": 10,
   "id": "66f04a95",
   "metadata": {
    "tags": []
   },
   "outputs": [
    {
     "data": {
      "text/plain": [
       "[PosixPath('/home/tayu/seqdata/tao/circRNA_seq/scaledown_HTT/igm-storage2.ucsd.edu/230213_A00953_0690_BHVCVKDSX5/100_rar16_S29_L004_R1_001.fastq.gz'),\n",
       " PosixPath('/home/tayu/seqdata/tao/circRNA_seq/scaledown_HTT/igm-storage2.ucsd.edu/230213_A00953_0690_BHVCVKDSX5/500_rar14_S27_L004_R1_001.fastq.gz'),\n",
       " PosixPath('/home/tayu/seqdata/tao/circRNA_seq/scaledown_HTT/igm-storage2.ucsd.edu/230213_A00953_0690_BHVCVKDSX5/200_rar14_S28_L004_R1_001.fastq.gz'),\n",
       " PosixPath('/home/tayu/seqdata/tao/circRNA_seq/scaledown_HTT/igm-storage2.ucsd.edu/230213_A00953_0690_BHVCVKDSX5/50_rar16_S30_L004_R1_001.fastq.gz')]"
      ]
     },
     "execution_count": 10,
     "metadata": {},
     "output_type": "execute_result"
    }
   ],
   "source": [
    "fq1"
   ]
  },
  {
   "cell_type": "code",
   "execution_count": 11,
   "id": "3990d86b",
   "metadata": {
    "tags": []
   },
   "outputs": [],
   "source": [
    "fq2 = [str(f).replace('R1', 'R2') for f in fq1]"
   ]
  },
  {
   "cell_type": "code",
   "execution_count": 12,
   "id": "b382475f",
   "metadata": {
    "tags": []
   },
   "outputs": [],
   "source": [
    "libs = [f.name.split('_S')[0] for f in fq1]"
   ]
  },
  {
   "cell_type": "code",
   "execution_count": 13,
   "id": "5dc1d328",
   "metadata": {
    "tags": []
   },
   "outputs": [
    {
     "data": {
      "text/plain": [
       "['100_rar16', '500_rar14', '200_rar14', '50_rar16']"
      ]
     },
     "execution_count": 13,
     "metadata": {},
     "output_type": "execute_result"
    }
   ],
   "source": [
    "libs"
   ]
  },
  {
   "cell_type": "markdown",
   "id": "3fd636d2",
   "metadata": {},
   "source": [
    "# make menifest"
   ]
  },
  {
   "cell_type": "code",
   "execution_count": 14,
   "id": "480c1ab6",
   "metadata": {
    "tags": []
   },
   "outputs": [],
   "source": [
    "import pandas as pd\n",
    "menifest = pd.DataFrame([libs, fq1, fq2], index = ['Sample', 'fastq1', 'fastq2']).T"
   ]
  },
  {
   "cell_type": "code",
   "execution_count": 15,
   "id": "8fe3f6c9",
   "metadata": {
    "tags": []
   },
   "outputs": [],
   "source": [
    "menifest['Rnase'] = menifest['Sample'].apply(lambda name: True if '_rz' not in name else False)"
   ]
  },
  {
   "cell_type": "code",
   "execution_count": 16,
   "id": "d7ce05f6",
   "metadata": {
    "tags": []
   },
   "outputs": [
    {
     "data": {
      "text/html": [
       "<div>\n",
       "<style scoped>\n",
       "    .dataframe tbody tr th:only-of-type {\n",
       "        vertical-align: middle;\n",
       "    }\n",
       "\n",
       "    .dataframe tbody tr th {\n",
       "        vertical-align: top;\n",
       "    }\n",
       "\n",
       "    .dataframe thead th {\n",
       "        text-align: right;\n",
       "    }\n",
       "</style>\n",
       "<table border=\"1\" class=\"dataframe\">\n",
       "  <thead>\n",
       "    <tr style=\"text-align: right;\">\n",
       "      <th></th>\n",
       "      <th>Sample</th>\n",
       "      <th>fastq1</th>\n",
       "      <th>fastq2</th>\n",
       "      <th>Rnase</th>\n",
       "    </tr>\n",
       "  </thead>\n",
       "  <tbody>\n",
       "    <tr>\n",
       "      <th>0</th>\n",
       "      <td>100_rar16</td>\n",
       "      <td>/home/tayu/seqdata/tao/circRNA_seq/scaledown_H...</td>\n",
       "      <td>/home/tayu/seqdata/tao/circRNA_seq/scaledown_H...</td>\n",
       "      <td>True</td>\n",
       "    </tr>\n",
       "    <tr>\n",
       "      <th>2</th>\n",
       "      <td>200_rar14</td>\n",
       "      <td>/home/tayu/seqdata/tao/circRNA_seq/scaledown_H...</td>\n",
       "      <td>/home/tayu/seqdata/tao/circRNA_seq/scaledown_H...</td>\n",
       "      <td>True</td>\n",
       "    </tr>\n",
       "    <tr>\n",
       "      <th>1</th>\n",
       "      <td>500_rar14</td>\n",
       "      <td>/home/tayu/seqdata/tao/circRNA_seq/scaledown_H...</td>\n",
       "      <td>/home/tayu/seqdata/tao/circRNA_seq/scaledown_H...</td>\n",
       "      <td>True</td>\n",
       "    </tr>\n",
       "    <tr>\n",
       "      <th>3</th>\n",
       "      <td>50_rar16</td>\n",
       "      <td>/home/tayu/seqdata/tao/circRNA_seq/scaledown_H...</td>\n",
       "      <td>/home/tayu/seqdata/tao/circRNA_seq/scaledown_H...</td>\n",
       "      <td>True</td>\n",
       "    </tr>\n",
       "  </tbody>\n",
       "</table>\n",
       "</div>"
      ],
      "text/plain": [
       "      Sample                                             fastq1  \\\n",
       "0  100_rar16  /home/tayu/seqdata/tao/circRNA_seq/scaledown_H...   \n",
       "2  200_rar14  /home/tayu/seqdata/tao/circRNA_seq/scaledown_H...   \n",
       "1  500_rar14  /home/tayu/seqdata/tao/circRNA_seq/scaledown_H...   \n",
       "3   50_rar16  /home/tayu/seqdata/tao/circRNA_seq/scaledown_H...   \n",
       "\n",
       "                                              fastq2  Rnase  \n",
       "0  /home/tayu/seqdata/tao/circRNA_seq/scaledown_H...   True  \n",
       "2  /home/tayu/seqdata/tao/circRNA_seq/scaledown_H...   True  \n",
       "1  /home/tayu/seqdata/tao/circRNA_seq/scaledown_H...   True  \n",
       "3  /home/tayu/seqdata/tao/circRNA_seq/scaledown_H...   True  "
      ]
     },
     "execution_count": 16,
     "metadata": {},
     "output_type": "execute_result"
    }
   ],
   "source": [
    "menifest.sort_values(by = 'Sample')"
   ]
  },
  {
   "cell_type": "code",
   "execution_count": 17,
   "id": "a08ad561",
   "metadata": {
    "tags": []
   },
   "outputs": [],
   "source": [
    "menifest.loc[(menifest['Sample'].str.contains('rar11'))|(menifest['Sample'].str.contains('Exo'))].to_csv('nextera_iter4.csv')"
   ]
  },
  {
   "cell_type": "code",
   "execution_count": null,
   "id": "0c958450",
   "metadata": {},
   "outputs": [],
   "source": []
  }
 ],
 "metadata": {
  "kernelspec": {
   "display_name": "Metadensity",
   "language": "python",
   "name": "metadensity"
  },
  "language_info": {
   "codemirror_mode": {
    "name": "ipython",
    "version": 3
   },
   "file_extension": ".py",
   "mimetype": "text/x-python",
   "name": "python",
   "nbconvert_exporter": "python",
   "pygments_lexer": "ipython3",
   "version": "3.9.16"
  }
 },
 "nbformat": 4,
 "nbformat_minor": 5
}
