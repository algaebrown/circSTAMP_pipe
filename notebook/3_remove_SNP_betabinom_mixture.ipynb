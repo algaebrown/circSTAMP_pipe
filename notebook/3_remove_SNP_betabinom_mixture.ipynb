{
 "cells": [
  {
   "cell_type": "code",
   "execution_count": 1,
   "id": "7870c35b-ae72-45bd-bb37-45d2b1de5293",
   "metadata": {
    "tags": []
   },
   "outputs": [
    {
     "name": "stderr",
     "output_type": "stream",
     "text": [
      "Loading required package: S4Vectors\n",
      "\n",
      "Loading required package: stats4\n",
      "\n",
      "Loading required package: BiocGenerics\n",
      "\n",
      "\n",
      "Attaching package: ‘BiocGenerics’\n",
      "\n",
      "\n",
      "The following objects are masked from ‘package:stats’:\n",
      "\n",
      "    IQR, mad, sd, var, xtabs\n",
      "\n",
      "\n",
      "The following objects are masked from ‘package:base’:\n",
      "\n",
      "    anyDuplicated, aperm, append, as.data.frame, basename, cbind,\n",
      "    colnames, dirname, do.call, duplicated, eval, evalq, Filter, Find,\n",
      "    get, grep, grepl, intersect, is.unsorted, lapply, Map, mapply,\n",
      "    match, mget, order, paste, pmax, pmax.int, pmin, pmin.int,\n",
      "    Position, rank, rbind, Reduce, rownames, sapply, setdiff, sort,\n",
      "    table, tapply, union, unique, unsplit, which.max, which.min\n",
      "\n",
      "\n",
      "\n",
      "Attaching package: ‘S4Vectors’\n",
      "\n",
      "\n",
      "The following objects are masked from ‘package:base’:\n",
      "\n",
      "    expand.grid, I, unname\n",
      "\n",
      "\n",
      "Loading required package: IRanges\n",
      "\n"
     ]
    }
   ],
   "source": [
    "library(DirichletMultinomial)"
   ]
  },
  {
   "cell_type": "code",
   "execution_count": 2,
   "id": "07a5addd-35e7-453e-ab42-76b71c4043e2",
   "metadata": {
    "tags": []
   },
   "outputs": [
    {
     "name": "stderr",
     "output_type": "stream",
     "text": [
      "── \u001b[1mAttaching packages\u001b[22m ─────────────────────────────────────── tidyverse 1.3.2 ──\n",
      "\u001b[32m✔\u001b[39m \u001b[34mggplot2\u001b[39m 3.4.0      \u001b[32m✔\u001b[39m \u001b[34mpurrr  \u001b[39m 0.3.5 \n",
      "\u001b[32m✔\u001b[39m \u001b[34mtibble \u001b[39m 3.1.8      \u001b[32m✔\u001b[39m \u001b[34mdplyr  \u001b[39m 1.0.10\n",
      "\u001b[32m✔\u001b[39m \u001b[34mtidyr  \u001b[39m 1.2.1      \u001b[32m✔\u001b[39m \u001b[34mstringr\u001b[39m 1.5.0 \n",
      "\u001b[32m✔\u001b[39m \u001b[34mreadr  \u001b[39m 2.1.3      \u001b[32m✔\u001b[39m \u001b[34mforcats\u001b[39m 0.5.2 \n",
      "── \u001b[1mConflicts\u001b[22m ────────────────────────────────────────── tidyverse_conflicts() ──\n",
      "\u001b[31m✖\u001b[39m \u001b[34mdplyr\u001b[39m::\u001b[32mcollapse()\u001b[39m   masks \u001b[34mIRanges\u001b[39m::collapse()\n",
      "\u001b[31m✖\u001b[39m \u001b[34mdplyr\u001b[39m::\u001b[32mcombine()\u001b[39m    masks \u001b[34mBiocGenerics\u001b[39m::combine()\n",
      "\u001b[31m✖\u001b[39m \u001b[34mdplyr\u001b[39m::\u001b[32mdesc()\u001b[39m       masks \u001b[34mIRanges\u001b[39m::desc()\n",
      "\u001b[31m✖\u001b[39m \u001b[34mtidyr\u001b[39m::\u001b[32mexpand()\u001b[39m     masks \u001b[34mS4Vectors\u001b[39m::expand()\n",
      "\u001b[31m✖\u001b[39m \u001b[34mdplyr\u001b[39m::\u001b[32mfilter()\u001b[39m     masks \u001b[34mstats\u001b[39m::filter()\n",
      "\u001b[31m✖\u001b[39m \u001b[34mdplyr\u001b[39m::\u001b[32mfirst()\u001b[39m      masks \u001b[34mS4Vectors\u001b[39m::first()\n",
      "\u001b[31m✖\u001b[39m \u001b[34mdplyr\u001b[39m::\u001b[32mlag()\u001b[39m        masks \u001b[34mstats\u001b[39m::lag()\n",
      "\u001b[31m✖\u001b[39m \u001b[34mggplot2\u001b[39m::\u001b[32mPosition()\u001b[39m masks \u001b[34mBiocGenerics\u001b[39m::Position(), \u001b[34mbase\u001b[39m::Position()\n",
      "\u001b[31m✖\u001b[39m \u001b[34mpurrr\u001b[39m::\u001b[32mreduce()\u001b[39m     masks \u001b[34mIRanges\u001b[39m::reduce()\n",
      "\u001b[31m✖\u001b[39m \u001b[34mdplyr\u001b[39m::\u001b[32mrename()\u001b[39m     masks \u001b[34mS4Vectors\u001b[39m::rename()\n",
      "\u001b[31m✖\u001b[39m \u001b[34mdplyr\u001b[39m::\u001b[32mslice()\u001b[39m      masks \u001b[34mIRanges\u001b[39m::slice()\n"
     ]
    }
   ],
   "source": [
    "library(tidyverse)"
   ]
  },
  {
   "cell_type": "code",
   "execution_count": 3,
   "id": "b837680f-71a5-40dc-a1cb-370c99bc8411",
   "metadata": {
    "tags": []
   },
   "outputs": [],
   "source": [
    "fname='/home/hsher/scratch/circ_nextera_iter13/output/edits/APOBEC1only.dp4.neg.vcf.aggregated.nonzero.tsv'"
   ]
  },
  {
   "cell_type": "code",
   "execution_count": null,
   "id": "b4f39cd7-c517-4e34-ac86-7ced5f76c1a0",
   "metadata": {},
   "outputs": [],
   "source": []
  },
  {
   "cell_type": "code",
   "execution_count": 4,
   "id": "8cfcd353-5f6a-4bed-8b17-a3ab7d88a7a2",
   "metadata": {
    "tags": []
   },
   "outputs": [
    {
     "name": "stderr",
     "output_type": "stream",
     "text": [
      "\u001b[1mRows: \u001b[22m\u001b[34m338572\u001b[39m \u001b[1mColumns: \u001b[22m\u001b[34m3\u001b[39m\n",
      "\u001b[36m──\u001b[39m \u001b[1mColumn specification\u001b[22m \u001b[36m────────────────────────────────────────────────────────\u001b[39m\n",
      "\u001b[1mDelimiter:\u001b[22m \"\\t\"\n",
      "\u001b[31mchr\u001b[39m (1): pos_id\n",
      "\u001b[32mdbl\u001b[39m (2): n_ref, n_alt\n",
      "\n",
      "\u001b[36mℹ\u001b[39m Use `spec()` to retrieve the full column specification for this data.\n",
      "\u001b[36mℹ\u001b[39m Specify the column types or set `show_col_types = FALSE` to quiet this message.\n"
     ]
    }
   ],
   "source": [
    "count_df = read_tsv(fname)"
   ]
  },
  {
   "cell_type": "code",
   "execution_count": 13,
   "id": "4b68555a-f9b9-4428-8153-83198ed8d344",
   "metadata": {
    "tags": []
   },
   "outputs": [],
   "source": [
    "nread=30\n",
    "count_df <- count_df[count_df$n_ref+count_df$n_alt>nread,]"
   ]
  },
  {
   "cell_type": "code",
   "execution_count": 14,
   "id": "0debcd22-59ff-4313-a9b7-b76b4cb08c5e",
   "metadata": {
    "tags": []
   },
   "outputs": [
    {
     "data": {
      "text/html": [
       "<table class=\"dataframe\">\n",
       "<caption>A tibble: 6 × 3</caption>\n",
       "<thead>\n",
       "\t<tr><th scope=col>pos_id</th><th scope=col>n_ref</th><th scope=col>n_alt</th></tr>\n",
       "\t<tr><th scope=col>&lt;chr&gt;</th><th scope=col>&lt;dbl&gt;</th><th scope=col>&lt;dbl&gt;</th></tr>\n",
       "</thead>\n",
       "<tbody>\n",
       "\t<tr><td>GL000195.1:48444|49119:571 </td><td>38</td><td>8</td></tr>\n",
       "\t<tr><td>GL000195.1:48955|79328:1056</td><td>62</td><td>1</td></tr>\n",
       "\t<tr><td>GL000195.1:48955|79328:1063</td><td>67</td><td>4</td></tr>\n",
       "\t<tr><td>GL000195.1:48955|79328:1067</td><td>69</td><td>1</td></tr>\n",
       "\t<tr><td>GL000195.1:48955|79328:1090</td><td>75</td><td>2</td></tr>\n",
       "\t<tr><td>GL000195.1:48955|79328:1099</td><td>79</td><td>2</td></tr>\n",
       "</tbody>\n",
       "</table>\n"
      ],
      "text/latex": [
       "A tibble: 6 × 3\n",
       "\\begin{tabular}{lll}\n",
       " pos\\_id & n\\_ref & n\\_alt\\\\\n",
       " <chr> & <dbl> & <dbl>\\\\\n",
       "\\hline\n",
       "\t GL000195.1:48444\\textbar{}49119:571  & 38 & 8\\\\\n",
       "\t GL000195.1:48955\\textbar{}79328:1056 & 62 & 1\\\\\n",
       "\t GL000195.1:48955\\textbar{}79328:1063 & 67 & 4\\\\\n",
       "\t GL000195.1:48955\\textbar{}79328:1067 & 69 & 1\\\\\n",
       "\t GL000195.1:48955\\textbar{}79328:1090 & 75 & 2\\\\\n",
       "\t GL000195.1:48955\\textbar{}79328:1099 & 79 & 2\\\\\n",
       "\\end{tabular}\n"
      ],
      "text/markdown": [
       "\n",
       "A tibble: 6 × 3\n",
       "\n",
       "| pos_id &lt;chr&gt; | n_ref &lt;dbl&gt; | n_alt &lt;dbl&gt; |\n",
       "|---|---|---|\n",
       "| GL000195.1:48444|49119:571  | 38 | 8 |\n",
       "| GL000195.1:48955|79328:1056 | 62 | 1 |\n",
       "| GL000195.1:48955|79328:1063 | 67 | 4 |\n",
       "| GL000195.1:48955|79328:1067 | 69 | 1 |\n",
       "| GL000195.1:48955|79328:1090 | 75 | 2 |\n",
       "| GL000195.1:48955|79328:1099 | 79 | 2 |\n",
       "\n"
      ],
      "text/plain": [
       "  pos_id                      n_ref n_alt\n",
       "1 GL000195.1:48444|49119:571  38    8    \n",
       "2 GL000195.1:48955|79328:1056 62    1    \n",
       "3 GL000195.1:48955|79328:1063 67    4    \n",
       "4 GL000195.1:48955|79328:1067 69    1    \n",
       "5 GL000195.1:48955|79328:1090 75    2    \n",
       "6 GL000195.1:48955|79328:1099 79    2    "
      ]
     },
     "metadata": {},
     "output_type": "display_data"
    }
   ],
   "source": [
    "head(count_df)"
   ]
  },
  {
   "cell_type": "code",
   "execution_count": 15,
   "id": "16f3b74c-b1a0-4d6c-831d-e2b41089ca7a",
   "metadata": {
    "tags": []
   },
   "outputs": [],
   "source": [
    "count <- as.matrix(count_df[c('n_alt','n_ref')])"
   ]
  },
  {
   "cell_type": "code",
   "execution_count": null,
   "id": "0418b94d-18f4-48c2-a78e-f546562b7614",
   "metadata": {},
   "outputs": [],
   "source": []
  },
  {
   "cell_type": "code",
   "execution_count": 21,
   "id": "7d957b17-ef8c-43a2-a17b-394cb4d8ef82",
   "metadata": {
    "tags": []
   },
   "outputs": [],
   "source": [
    "full <- TRUE ### TODO: change to TRUE\n",
    "\n",
    "min_component = 1\n",
    "max_component = 5\n",
    "component_gap = 1\n",
    "comp_attempt = seq(min_component, max_component, component_gap)"
   ]
  },
  {
   "cell_type": "code",
   "execution_count": 18,
   "id": "ec497ef7-4386-4220-9093-17bce260241a",
   "metadata": {
    "tags": []
   },
   "outputs": [],
   "source": [
    "basedir='/home/hsher/scratch/circ_nextera_iter13_bbm'\n",
    "out_stem='APOBEC1only.dp4.neg'"
   ]
  },
  {
   "cell_type": "code",
   "execution_count": 26,
   "id": "96e24bb8-9932-4ce4-89e2-9de0a2d28419",
   "metadata": {
    "tags": []
   },
   "outputs": [
    {
     "name": "stderr",
     "output_type": "stream",
     "text": [
      "dmn, k=1\n",
      "\n"
     ]
    },
    {
     "name": "stdout",
     "output_type": "stream",
     "text": [
      "  Soft kmeans\n",
      "  Expectation Maximization setup\n",
      "  Expectation Maximization\n",
      "  Hessian\n"
     ]
    },
    {
     "name": "stderr",
     "output_type": "stream",
     "text": [
      "dmn, k=2\n",
      "\n"
     ]
    },
    {
     "name": "stdout",
     "output_type": "stream",
     "text": [
      "  Soft kmeans\n",
      "    iteration 10 change 0.054174\n",
      "    iteration 20 change 0.026607\n",
      "    iteration 30 change 0.000001\n",
      "  Expectation Maximization setup\n",
      "  Expectation Maximization\n",
      "    iteration 10 change 9.030664\n",
      "    iteration 20 change 0.132242\n",
      "    iteration 30 change 0.003297\n",
      "    iteration 40 change 0.000494\n",
      "  Hessian\n"
     ]
    },
    {
     "name": "stderr",
     "output_type": "stream",
     "text": [
      "dmn, k=3\n",
      "\n"
     ]
    },
    {
     "name": "stdout",
     "output_type": "stream",
     "text": [
      "  Soft kmeans\n",
      "    iteration 10 change 0.143257\n",
      "    iteration 20 change 0.004690\n",
      "    iteration 30 change 0.000395\n",
      "    iteration 40 change 0.000030\n",
      "    iteration 50 change 0.000002\n",
      "  Expectation Maximization setup\n",
      "  Expectation Maximization\n",
      "    iteration 10 change 10.024518\n",
      "    iteration 20 change 6.446759\n",
      "    iteration 30 change 4.508158\n",
      "    iteration 40 change 3.204074\n",
      "    iteration 50 change 2.244821\n",
      "    iteration 60 change 1.533680\n",
      "    iteration 70 change 1.027752\n",
      "    iteration 80 change 0.678768\n",
      "    iteration 90 change 0.443971\n",
      "    iteration 100 change 0.288651\n",
      "  Hessian\n"
     ]
    },
    {
     "name": "stderr",
     "output_type": "stream",
     "text": [
      "dmn, k=4\n",
      "\n"
     ]
    },
    {
     "name": "stdout",
     "output_type": "stream",
     "text": [
      "  Soft kmeans\n",
      "    iteration 10 change 0.158033\n",
      "    iteration 20 change 0.004136\n",
      "    iteration 30 change 0.001523\n",
      "    iteration 40 change 0.002077\n",
      "    iteration 50 change 0.001041\n",
      "    iteration 60 change 0.000489\n",
      "    iteration 70 change 0.000227\n",
      "    iteration 80 change 0.000105\n",
      "    iteration 90 change 0.000048\n",
      "    iteration 100 change 0.000022\n",
      "    iteration 110 change 0.000010\n",
      "    iteration 120 change 0.000005\n",
      "    iteration 130 change 0.000002\n",
      "    iteration 140 change 0.000001\n",
      "  Expectation Maximization setup\n",
      "  Expectation Maximization\n",
      "    iteration 10 change 4.693935\n",
      "    iteration 20 change 2.132024\n",
      "    iteration 30 change 1.252667\n",
      "    iteration 40 change 0.681796\n",
      "    iteration 50 change 0.303200\n",
      "    iteration 60 change 0.115557\n",
      "    iteration 70 change 0.046199\n",
      "    iteration 80 change 0.020937\n",
      "    iteration 90 change 0.011549\n",
      "    iteration 100 change 0.010630\n",
      "  Hessian\n"
     ]
    },
    {
     "name": "stderr",
     "output_type": "stream",
     "text": [
      "dmn, k=5\n",
      "\n"
     ]
    },
    {
     "name": "stdout",
     "output_type": "stream",
     "text": [
      "  Soft kmeans\n",
      "    iteration 10 change 0.196366\n",
      "    iteration 20 change 0.004011\n",
      "    iteration 30 change 0.006639\n",
      "    iteration 40 change 0.002764\n",
      "    iteration 50 change 0.001226\n",
      "    iteration 60 change 0.000606\n",
      "    iteration 70 change 0.000313\n",
      "    iteration 80 change 0.000164\n",
      "    iteration 90 change 0.000087\n",
      "    iteration 100 change 0.000046\n",
      "    iteration 110 change 0.000024\n",
      "    iteration 120 change 0.000013\n",
      "    iteration 130 change 0.000007\n",
      "    iteration 140 change 0.000004\n",
      "    iteration 150 change 0.000002\n",
      "    iteration 160 change 0.000001\n",
      "  Expectation Maximization setup\n",
      "  Expectation Maximization\n",
      "    iteration 10 change 7.108067\n",
      "    iteration 20 change 3.123060\n",
      "    iteration 30 change 1.859127\n",
      "    iteration 40 change 1.361321\n",
      "    iteration 50 change 1.109363\n",
      "    iteration 60 change 0.945401\n",
      "    iteration 70 change 0.818153\n",
      "    iteration 80 change 0.713312\n",
      "    iteration 90 change 0.623746\n",
      "    iteration 100 change 0.545752\n",
      "  Hessian\n"
     ]
    }
   ],
   "source": [
    "library(parallel)\n",
    "\n",
    "if (full) {\n",
    "fit <- lapply(comp_attempt, dmn, count=count, verbose=TRUE)\n",
    "save(fit, file=file.path(basedir, paste0(out_stem, \".fit.rda\")))\n",
    "} else load(file = file.path(basedir, paste0(out_stem, \".fit.rda\")))\n"
   ]
  },
  {
   "cell_type": "code",
   "execution_count": 38,
   "id": "63163616-e40b-4c27-8410-c2d35fbd70c9",
   "metadata": {
    "tags": []
   },
   "outputs": [
    {
     "data": {
      "text/html": [
       "<strong>png:</strong> 2"
      ],
      "text/latex": [
       "\\textbf{png:} 2"
      ],
      "text/markdown": [
       "**png:** 2"
      ],
      "text/plain": [
       "png \n",
       "  2 "
      ]
     },
     "metadata": {},
     "output_type": "display_data"
    },
    {
     "data": {
      "text/plain": [
       "class: DMN \n",
       "k: 4 \n",
       "samples x taxa: 140396 x 2 \n",
       "Laplace: 315199.6 BIC: 315195.5 AIC: 315141.3 "
      ]
     },
     "metadata": {},
     "output_type": "display_data"
    }
   ],
   "source": [
    "lplc <- sapply(fit, laplace)\n",
    "aic <- sapply(fit, AIC)\n",
    "bic <- sapply(fit, BIC)\n",
    " pdf(file.path(basedir, paste0(out_stem, \".goodness_of_fit.pdf\")))\n",
    " plot(aic, type=\"b\", xlab=\"Number of Dirichlet Components(k)\",ylab=\"AIC\")\n",
    " plot(bic, type=\"b\", xlab=\"Number of Dirichlet Components(k)\",ylab=\"BIC\")\n",
    " plot(lplc, type=\"b\", xlab=\"Number of Dirichlet Components(k)\",ylab=\"Model Fit(Laplace)\")\n",
    " dev.off()\n",
    "\n",
    "  # find the best model: the DMN object\n",
    " (best <- fit[[which.min(bic)]])"
   ]
  },
  {
   "cell_type": "code",
   "execution_count": 39,
   "id": "4cef05c6-2f2e-4960-9570-6405188ae0ac",
   "metadata": {
    "tags": []
   },
   "outputs": [
    {
     "data": {
      "text/plain": [
       "class: DMN \n",
       "k: 4 \n",
       "samples x taxa: 140396 x 2 \n",
       "Laplace: 315199.6 BIC: 315195.5 AIC: 315141.3 "
      ]
     },
     "metadata": {},
     "output_type": "display_data"
    }
   ],
   "source": [
    "best"
   ]
  },
  {
   "cell_type": "code",
   "execution_count": 40,
   "id": "ee6b91bd-0b57-47a7-aba7-18634f8b49de",
   "metadata": {
    "tags": []
   },
   "outputs": [
    {
     "data": {
      "image/png": "[encoded data removed]",
      "text/plain": [
       "plot without title"
      ]
     },
     "metadata": {
      "image/png": {
       "height": 420,
       "width": 420
      }
     },
     "output_type": "display_data"
    }
   ],
   "source": [
    "plot(bic, type=\"b\", xlab=\"Number of Dirichlet Components(k)\",ylab=\"BIC\")"
   ]
  },
  {
   "cell_type": "code",
   "execution_count": 41,
   "id": "31c6e0b7-8b33-49dc-bb9e-9628c29f42a5",
   "metadata": {
    "tags": []
   },
   "outputs": [
    {
     "data": {
      "image/png": "[encoded data removed]",
      "text/plain": [
       "plot without title"
      ]
     },
     "metadata": {
      "image/png": {
       "height": 420,
       "width": 420
      }
     },
     "output_type": "display_data"
    }
   ],
   "source": [
    "plot(aic, type=\"b\", xlab=\"Number of Dirichlet Components(k)\",ylab=\"AIC\")"
   ]
  },
  {
   "cell_type": "code",
   "execution_count": 42,
   "id": "5ef242d8-115c-4aeb-a7bb-43ba5806b088",
   "metadata": {
    "tags": []
   },
   "outputs": [
    {
     "data": {
      "text/html": [
       "<table class=\"dataframe\">\n",
       "<caption>A matrix: 2 × 4 of type dbl</caption>\n",
       "<tbody>\n",
       "\t<tr><th scope=row>n_alt</th><td>0.0171371</td><td>0.05071248</td><td>0.1589427</td><td>0.8160665</td></tr>\n",
       "\t<tr><th scope=row>n_ref</th><td>0.9828629</td><td>0.94928752</td><td>0.8410573</td><td>0.1839335</td></tr>\n",
       "</tbody>\n",
       "</table>\n"
      ],
      "text/latex": [
       "A matrix: 2 × 4 of type dbl\n",
       "\\begin{tabular}{r|llll}\n",
       "\tn\\_alt & 0.0171371 & 0.05071248 & 0.1589427 & 0.8160665\\\\\n",
       "\tn\\_ref & 0.9828629 & 0.94928752 & 0.8410573 & 0.1839335\\\\\n",
       "\\end{tabular}\n"
      ],
      "text/markdown": [
       "\n",
       "A matrix: 2 × 4 of type dbl\n",
       "\n",
       "| n_alt | 0.0171371 | 0.05071248 | 0.1589427 | 0.8160665 |\n",
       "| n_ref | 0.9828629 | 0.94928752 | 0.8410573 | 0.1839335 |\n",
       "\n"
      ],
      "text/plain": [
       "      [,1]      [,2]       [,3]      [,4]     \n",
       "n_alt 0.0171371 0.05071248 0.1589427 0.8160665\n",
       "n_ref 0.9828629 0.94928752 0.8410573 0.1839335"
      ]
     },
     "metadata": {},
     "output_type": "display_data"
    }
   ],
   "source": [
    "fitted(best, scale = TRUE)"
   ]
  },
  {
   "cell_type": "code",
   "execution_count": 43,
   "id": "da6d4160-c092-4bc8-93d4-e0042b38224a",
   "metadata": {
    "tags": []
   },
   "outputs": [],
   "source": [
    "weights = mixturewt(best)"
   ]
  },
  {
   "cell_type": "code",
   "execution_count": 44,
   "id": "17ee3a88-a068-40ae-960a-f23df2d2f172",
   "metadata": {
    "tags": []
   },
   "outputs": [
    {
     "data": {
      "text/html": [
       "<table class=\"dataframe\">\n",
       "<caption>A data.frame: 4 × 2</caption>\n",
       "<thead>\n",
       "\t<tr><th scope=col>pi</th><th scope=col>theta</th></tr>\n",
       "\t<tr><th scope=col>&lt;dbl&gt;</th><th scope=col>&lt;dbl&gt;</th></tr>\n",
       "</thead>\n",
       "<tbody>\n",
       "\t<tr><td>0.609852412</td><td>376.3092518</td></tr>\n",
       "\t<tr><td>0.335248066</td><td> 62.7658570</td></tr>\n",
       "\t<tr><td>0.047848327</td><td>  9.9081199</td></tr>\n",
       "\t<tr><td>0.007051195</td><td>  0.7665906</td></tr>\n",
       "</tbody>\n",
       "</table>\n"
      ],
      "text/latex": [
       "A data.frame: 4 × 2\n",
       "\\begin{tabular}{ll}\n",
       " pi & theta\\\\\n",
       " <dbl> & <dbl>\\\\\n",
       "\\hline\n",
       "\t 0.609852412 & 376.3092518\\\\\n",
       "\t 0.335248066 &  62.7658570\\\\\n",
       "\t 0.047848327 &   9.9081199\\\\\n",
       "\t 0.007051195 &   0.7665906\\\\\n",
       "\\end{tabular}\n"
      ],
      "text/markdown": [
       "\n",
       "A data.frame: 4 × 2\n",
       "\n",
       "| pi &lt;dbl&gt; | theta &lt;dbl&gt; |\n",
       "|---|---|\n",
       "| 0.609852412 | 376.3092518 |\n",
       "| 0.335248066 |  62.7658570 |\n",
       "| 0.047848327 |   9.9081199 |\n",
       "| 0.007051195 |   0.7665906 |\n",
       "\n"
      ],
      "text/plain": [
       "  pi          theta      \n",
       "1 0.609852412 376.3092518\n",
       "2 0.335248066  62.7658570\n",
       "3 0.047848327   9.9081199\n",
       "4 0.007051195   0.7665906"
      ]
     },
     "metadata": {},
     "output_type": "display_data"
    }
   ],
   "source": [
    "weights"
   ]
  },
  {
   "cell_type": "code",
   "execution_count": 50,
   "id": "de95b1e7-ade1-4df8-9b2a-02e1663aa660",
   "metadata": {
    "tags": []
   },
   "outputs": [],
   "source": [
    "count_df['cluster']<-c(mixture(best, assign = TRUE))"
   ]
  },
  {
   "cell_type": "code",
   "execution_count": 51,
   "id": "1990bef5-7033-4ff9-996a-5e8fc1a7360d",
   "metadata": {
    "tags": []
   },
   "outputs": [
    {
     "data": {
      "text/html": [
       "<table class=\"dataframe\">\n",
       "<caption>A tibble: 140396 × 4</caption>\n",
       "<thead>\n",
       "\t<tr><th scope=col>pos_id</th><th scope=col>n_ref</th><th scope=col>n_alt</th><th scope=col>cluster</th></tr>\n",
       "\t<tr><th scope=col>&lt;chr&gt;</th><th scope=col>&lt;dbl&gt;</th><th scope=col>&lt;dbl&gt;</th><th scope=col>&lt;int&gt;</th></tr>\n",
       "</thead>\n",
       "<tbody>\n",
       "\t<tr><td>GL000195.1:48444|49119:571  </td><td> 38</td><td> 8</td><td>2</td></tr>\n",
       "\t<tr><td>GL000195.1:48955|79328:1056 </td><td> 62</td><td> 1</td><td>1</td></tr>\n",
       "\t<tr><td>GL000195.1:48955|79328:1063 </td><td> 67</td><td> 4</td><td>2</td></tr>\n",
       "\t<tr><td>GL000195.1:48955|79328:1067 </td><td> 69</td><td> 1</td><td>1</td></tr>\n",
       "\t<tr><td>GL000195.1:48955|79328:1090 </td><td> 75</td><td> 2</td><td>1</td></tr>\n",
       "\t<tr><td>GL000195.1:48955|79328:1099 </td><td> 79</td><td> 2</td><td>1</td></tr>\n",
       "\t<tr><td>GL000195.1:48955|79328:112  </td><td>120</td><td> 4</td><td>1</td></tr>\n",
       "\t<tr><td>GL000195.1:48955|79328:127  </td><td> 99</td><td> 8</td><td>2</td></tr>\n",
       "\t<tr><td>GL000195.1:48955|79328:28981</td><td> 30</td><td> 2</td><td>2</td></tr>\n",
       "\t<tr><td>GL000195.1:48955|79328:29950</td><td> 20</td><td>21</td><td>3</td></tr>\n",
       "\t<tr><td>GL000195.1:48955|79328:30165</td><td> 43</td><td> 3</td><td>2</td></tr>\n",
       "\t<tr><td>GL000195.1:48955|79328:58   </td><td> 65</td><td> 3</td><td>2</td></tr>\n",
       "\t<tr><td>GL000195.1:48955|79328:63   </td><td> 64</td><td> 2</td><td>1</td></tr>\n",
       "\t<tr><td>GL000195.1:48955|79328:93   </td><td>105</td><td> 1</td><td>1</td></tr>\n",
       "\t<tr><td>KI270742.1:1326|34982:11738 </td><td> 44</td><td>14</td><td>3</td></tr>\n",
       "\t<tr><td>KI270742.1:1326|34982:11747 </td><td> 37</td><td>25</td><td>3</td></tr>\n",
       "\t<tr><td>KI270742.1:1326|34982:13458 </td><td> 34</td><td> 1</td><td>1</td></tr>\n",
       "\t<tr><td>KI270742.1:1326|34982:22763 </td><td>  0</td><td>42</td><td>4</td></tr>\n",
       "\t<tr><td>KI270742.1:1326|34982:22811 </td><td> 85</td><td> 4</td><td>2</td></tr>\n",
       "\t<tr><td>KI270742.1:1326|34982:22836 </td><td> 97</td><td> 6</td><td>2</td></tr>\n",
       "\t<tr><td>KI270742.1:1326|34982:22846 </td><td> 85</td><td> 7</td><td>2</td></tr>\n",
       "\t<tr><td>KI270742.1:1326|34982:22882 </td><td>105</td><td> 1</td><td>1</td></tr>\n",
       "\t<tr><td>KI270742.1:1326|34982:22899 </td><td> 90</td><td>12</td><td>2</td></tr>\n",
       "\t<tr><td>KI270742.1:1326|34982:22923 </td><td>108</td><td> 1</td><td>1</td></tr>\n",
       "\t<tr><td>KI270742.1:1326|34982:22990 </td><td> 79</td><td> 3</td><td>1</td></tr>\n",
       "\t<tr><td>KI270742.1:1326|34982:22993 </td><td> 85</td><td> 2</td><td>1</td></tr>\n",
       "\t<tr><td>KI270742.1:1326|34982:23007 </td><td> 94</td><td> 1</td><td>1</td></tr>\n",
       "\t<tr><td>KI270742.1:1326|34982:27952 </td><td> 72</td><td> 3</td><td>1</td></tr>\n",
       "\t<tr><td>KI270742.1:1326|34982:33594 </td><td> 51</td><td> 2</td><td>1</td></tr>\n",
       "\t<tr><td>KI270742.1:1326|34982:33611 </td><td> 42</td><td> 2</td><td>1</td></tr>\n",
       "\t<tr><td>⋮</td><td>⋮</td><td>⋮</td><td>⋮</td></tr>\n",
       "\t<tr><td>chrX:73847551|73848428:388  </td><td>221</td><td>1</td><td>1</td></tr>\n",
       "\t<tr><td>chrX:73847551|73848428:398  </td><td>225</td><td>3</td><td>1</td></tr>\n",
       "\t<tr><td>chrX:73847551|73848428:41   </td><td>369</td><td>1</td><td>1</td></tr>\n",
       "\t<tr><td>chrX:73847551|73848428:436  </td><td>209</td><td>1</td><td>1</td></tr>\n",
       "\t<tr><td>chrX:73847551|73848428:44   </td><td>370</td><td>2</td><td>1</td></tr>\n",
       "\t<tr><td>chrX:73847551|73848428:443  </td><td>230</td><td>4</td><td>1</td></tr>\n",
       "\t<tr><td>chrX:73847551|73848428:457  </td><td>223</td><td>3</td><td>1</td></tr>\n",
       "\t<tr><td>chrX:73847551|73848428:470  </td><td>242</td><td>1</td><td>1</td></tr>\n",
       "\t<tr><td>chrX:73847551|73848428:487  </td><td>235</td><td>1</td><td>1</td></tr>\n",
       "\t<tr><td>chrX:73847551|73848428:492  </td><td>237</td><td>1</td><td>1</td></tr>\n",
       "\t<tr><td>chrX:73847551|73848428:499  </td><td>232</td><td>5</td><td>1</td></tr>\n",
       "\t<tr><td>chrX:73847551|73848428:525  </td><td>246</td><td>1</td><td>1</td></tr>\n",
       "\t<tr><td>chrX:73847551|73848428:539  </td><td>238</td><td>3</td><td>1</td></tr>\n",
       "\t<tr><td>chrX:73847551|73848428:552  </td><td>241</td><td>1</td><td>1</td></tr>\n",
       "\t<tr><td>chrX:73847551|73848428:565  </td><td>257</td><td>1</td><td>1</td></tr>\n",
       "\t<tr><td>chrX:73847551|73848428:593  </td><td>235</td><td>1</td><td>1</td></tr>\n",
       "\t<tr><td>chrX:73847551|73848428:625  </td><td>240</td><td>2</td><td>1</td></tr>\n",
       "\t<tr><td>chrX:73847551|73848428:670  </td><td>245</td><td>1</td><td>1</td></tr>\n",
       "\t<tr><td>chrX:73847551|73848428:69   </td><td>378</td><td>2</td><td>1</td></tr>\n",
       "\t<tr><td>chrX:73847551|73848428:699  </td><td> 68</td><td>1</td><td>1</td></tr>\n",
       "\t<tr><td>chrX:73847551|73848428:73   </td><td>377</td><td>1</td><td>1</td></tr>\n",
       "\t<tr><td>chrX:73847551|73848428:791  </td><td>242</td><td>2</td><td>1</td></tr>\n",
       "\t<tr><td>chrX:73847551|73848428:804  </td><td>242</td><td>2</td><td>1</td></tr>\n",
       "\t<tr><td>chrX:73847551|73848428:93   </td><td>217</td><td>2</td><td>1</td></tr>\n",
       "\t<tr><td>chrX:73847551|73848428:99   </td><td>218</td><td>4</td><td>1</td></tr>\n",
       "\t<tr><td>chrX:77826592|77857497:4216 </td><td> 82</td><td>5</td><td>2</td></tr>\n",
       "\t<tr><td>chrX:77826592|77857497:4252 </td><td> 85</td><td>6</td><td>2</td></tr>\n",
       "\t<tr><td>chrX:78003073|78020398:11681</td><td> 40</td><td>1</td><td>1</td></tr>\n",
       "\t<tr><td>chrX:84116229|84164387:3722 </td><td> 38</td><td>1</td><td>1</td></tr>\n",
       "\t<tr><td>chrX:86174693|86206904:120  </td><td> 33</td><td>1</td><td>1</td></tr>\n",
       "</tbody>\n",
       "</table>\n"
      ],
      "text/latex": [
       "A tibble: 140396 × 4\n",
       "\\begin{tabular}{llll}\n",
       " pos\\_id & n\\_ref & n\\_alt & cluster\\\\\n",
       " <chr> & <dbl> & <dbl> & <int>\\\\\n",
       "\\hline\n",
       "\t GL000195.1:48444\\textbar{}49119:571   &  38 &  8 & 2\\\\\n",
       "\t GL000195.1:48955\\textbar{}79328:1056  &  62 &  1 & 1\\\\\n",
       "\t GL000195.1:48955\\textbar{}79328:1063  &  67 &  4 & 2\\\\\n",
       "\t GL000195.1:48955\\textbar{}79328:1067  &  69 &  1 & 1\\\\\n",
       "\t GL000195.1:48955\\textbar{}79328:1090  &  75 &  2 & 1\\\\\n",
       "\t GL000195.1:48955\\textbar{}79328:1099  &  79 &  2 & 1\\\\\n",
       "\t GL000195.1:48955\\textbar{}79328:112   & 120 &  4 & 1\\\\\n",
       "\t GL000195.1:48955\\textbar{}79328:127   &  99 &  8 & 2\\\\\n",
       "\t GL000195.1:48955\\textbar{}79328:28981 &  30 &  2 & 2\\\\\n",
       "\t GL000195.1:48955\\textbar{}79328:29950 &  20 & 21 & 3\\\\\n",
       "\t GL000195.1:48955\\textbar{}79328:30165 &  43 &  3 & 2\\\\\n",
       "\t GL000195.1:48955\\textbar{}79328:58    &  65 &  3 & 2\\\\\n",
       "\t GL000195.1:48955\\textbar{}79328:63    &  64 &  2 & 1\\\\\n",
       "\t GL000195.1:48955\\textbar{}79328:93    & 105 &  1 & 1\\\\\n",
       "\t KI270742.1:1326\\textbar{}34982:11738  &  44 & 14 & 3\\\\\n",
       "\t KI270742.1:1326\\textbar{}34982:11747  &  37 & 25 & 3\\\\\n",
       "\t KI270742.1:1326\\textbar{}34982:13458  &  34 &  1 & 1\\\\\n",
       "\t KI270742.1:1326\\textbar{}34982:22763  &   0 & 42 & 4\\\\\n",
       "\t KI270742.1:1326\\textbar{}34982:22811  &  85 &  4 & 2\\\\\n",
       "\t KI270742.1:1326\\textbar{}34982:22836  &  97 &  6 & 2\\\\\n",
       "\t KI270742.1:1326\\textbar{}34982:22846  &  85 &  7 & 2\\\\\n",
       "\t KI270742.1:1326\\textbar{}34982:22882  & 105 &  1 & 1\\\\\n",
       "\t KI270742.1:1326\\textbar{}34982:22899  &  90 & 12 & 2\\\\\n",
       "\t KI270742.1:1326\\textbar{}34982:22923  & 108 &  1 & 1\\\\\n",
       "\t KI270742.1:1326\\textbar{}34982:22990  &  79 &  3 & 1\\\\\n",
       "\t KI270742.1:1326\\textbar{}34982:22993  &  85 &  2 & 1\\\\\n",
       "\t KI270742.1:1326\\textbar{}34982:23007  &  94 &  1 & 1\\\\\n",
       "\t KI270742.1:1326\\textbar{}34982:27952  &  72 &  3 & 1\\\\\n",
       "\t KI270742.1:1326\\textbar{}34982:33594  &  51 &  2 & 1\\\\\n",
       "\t KI270742.1:1326\\textbar{}34982:33611  &  42 &  2 & 1\\\\\n",
       "\t ⋮ & ⋮ & ⋮ & ⋮\\\\\n",
       "\t chrX:73847551\\textbar{}73848428:388   & 221 & 1 & 1\\\\\n",
       "\t chrX:73847551\\textbar{}73848428:398   & 225 & 3 & 1\\\\\n",
       "\t chrX:73847551\\textbar{}73848428:41    & 369 & 1 & 1\\\\\n",
       "\t chrX:73847551\\textbar{}73848428:436   & 209 & 1 & 1\\\\\n",
       "\t chrX:73847551\\textbar{}73848428:44    & 370 & 2 & 1\\\\\n",
       "\t chrX:73847551\\textbar{}73848428:443   & 230 & 4 & 1\\\\\n",
       "\t chrX:73847551\\textbar{}73848428:457   & 223 & 3 & 1\\\\\n",
       "\t chrX:73847551\\textbar{}73848428:470   & 242 & 1 & 1\\\\\n",
       "\t chrX:73847551\\textbar{}73848428:487   & 235 & 1 & 1\\\\\n",
       "\t chrX:73847551\\textbar{}73848428:492   & 237 & 1 & 1\\\\\n",
       "\t chrX:73847551\\textbar{}73848428:499   & 232 & 5 & 1\\\\\n",
       "\t chrX:73847551\\textbar{}73848428:525   & 246 & 1 & 1\\\\\n",
       "\t chrX:73847551\\textbar{}73848428:539   & 238 & 3 & 1\\\\\n",
       "\t chrX:73847551\\textbar{}73848428:552   & 241 & 1 & 1\\\\\n",
       "\t chrX:73847551\\textbar{}73848428:565   & 257 & 1 & 1\\\\\n",
       "\t chrX:73847551\\textbar{}73848428:593   & 235 & 1 & 1\\\\\n",
       "\t chrX:73847551\\textbar{}73848428:625   & 240 & 2 & 1\\\\\n",
       "\t chrX:73847551\\textbar{}73848428:670   & 245 & 1 & 1\\\\\n",
       "\t chrX:73847551\\textbar{}73848428:69    & 378 & 2 & 1\\\\\n",
       "\t chrX:73847551\\textbar{}73848428:699   &  68 & 1 & 1\\\\\n",
       "\t chrX:73847551\\textbar{}73848428:73    & 377 & 1 & 1\\\\\n",
       "\t chrX:73847551\\textbar{}73848428:791   & 242 & 2 & 1\\\\\n",
       "\t chrX:73847551\\textbar{}73848428:804   & 242 & 2 & 1\\\\\n",
       "\t chrX:73847551\\textbar{}73848428:93    & 217 & 2 & 1\\\\\n",
       "\t chrX:73847551\\textbar{}73848428:99    & 218 & 4 & 1\\\\\n",
       "\t chrX:77826592\\textbar{}77857497:4216  &  82 & 5 & 2\\\\\n",
       "\t chrX:77826592\\textbar{}77857497:4252  &  85 & 6 & 2\\\\\n",
       "\t chrX:78003073\\textbar{}78020398:11681 &  40 & 1 & 1\\\\\n",
       "\t chrX:84116229\\textbar{}84164387:3722  &  38 & 1 & 1\\\\\n",
       "\t chrX:86174693\\textbar{}86206904:120   &  33 & 1 & 1\\\\\n",
       "\\end{tabular}\n"
      ],
      "text/markdown": [
       "\n",
       "A tibble: 140396 × 4\n",
       "\n",
       "| pos_id &lt;chr&gt; | n_ref &lt;dbl&gt; | n_alt &lt;dbl&gt; | cluster &lt;int&gt; |\n",
       "|---|---|---|---|\n",
       "| GL000195.1:48444|49119:571   |  38 |  8 | 2 |\n",
       "| GL000195.1:48955|79328:1056  |  62 |  1 | 1 |\n",
       "| GL000195.1:48955|79328:1063  |  67 |  4 | 2 |\n",
       "| GL000195.1:48955|79328:1067  |  69 |  1 | 1 |\n",
       "| GL000195.1:48955|79328:1090  |  75 |  2 | 1 |\n",
       "| GL000195.1:48955|79328:1099  |  79 |  2 | 1 |\n",
       "| GL000195.1:48955|79328:112   | 120 |  4 | 1 |\n",
       "| GL000195.1:48955|79328:127   |  99 |  8 | 2 |\n",
       "| GL000195.1:48955|79328:28981 |  30 |  2 | 2 |\n",
       "| GL000195.1:48955|79328:29950 |  20 | 21 | 3 |\n",
       "| GL000195.1:48955|79328:30165 |  43 |  3 | 2 |\n",
       "| GL000195.1:48955|79328:58    |  65 |  3 | 2 |\n",
       "| GL000195.1:48955|79328:63    |  64 |  2 | 1 |\n",
       "| GL000195.1:48955|79328:93    | 105 |  1 | 1 |\n",
       "| KI270742.1:1326|34982:11738  |  44 | 14 | 3 |\n",
       "| KI270742.1:1326|34982:11747  |  37 | 25 | 3 |\n",
       "| KI270742.1:1326|34982:13458  |  34 |  1 | 1 |\n",
       "| KI270742.1:1326|34982:22763  |   0 | 42 | 4 |\n",
       "| KI270742.1:1326|34982:22811  |  85 |  4 | 2 |\n",
       "| KI270742.1:1326|34982:22836  |  97 |  6 | 2 |\n",
       "| KI270742.1:1326|34982:22846  |  85 |  7 | 2 |\n",
       "| KI270742.1:1326|34982:22882  | 105 |  1 | 1 |\n",
       "| KI270742.1:1326|34982:22899  |  90 | 12 | 2 |\n",
       "| KI270742.1:1326|34982:22923  | 108 |  1 | 1 |\n",
       "| KI270742.1:1326|34982:22990  |  79 |  3 | 1 |\n",
       "| KI270742.1:1326|34982:22993  |  85 |  2 | 1 |\n",
       "| KI270742.1:1326|34982:23007  |  94 |  1 | 1 |\n",
       "| KI270742.1:1326|34982:27952  |  72 |  3 | 1 |\n",
       "| KI270742.1:1326|34982:33594  |  51 |  2 | 1 |\n",
       "| KI270742.1:1326|34982:33611  |  42 |  2 | 1 |\n",
       "| ⋮ | ⋮ | ⋮ | ⋮ |\n",
       "| chrX:73847551|73848428:388   | 221 | 1 | 1 |\n",
       "| chrX:73847551|73848428:398   | 225 | 3 | 1 |\n",
       "| chrX:73847551|73848428:41    | 369 | 1 | 1 |\n",
       "| chrX:73847551|73848428:436   | 209 | 1 | 1 |\n",
       "| chrX:73847551|73848428:44    | 370 | 2 | 1 |\n",
       "| chrX:73847551|73848428:443   | 230 | 4 | 1 |\n",
       "| chrX:73847551|73848428:457   | 223 | 3 | 1 |\n",
       "| chrX:73847551|73848428:470   | 242 | 1 | 1 |\n",
       "| chrX:73847551|73848428:487   | 235 | 1 | 1 |\n",
       "| chrX:73847551|73848428:492   | 237 | 1 | 1 |\n",
       "| chrX:73847551|73848428:499   | 232 | 5 | 1 |\n",
       "| chrX:73847551|73848428:525   | 246 | 1 | 1 |\n",
       "| chrX:73847551|73848428:539   | 238 | 3 | 1 |\n",
       "| chrX:73847551|73848428:552   | 241 | 1 | 1 |\n",
       "| chrX:73847551|73848428:565   | 257 | 1 | 1 |\n",
       "| chrX:73847551|73848428:593   | 235 | 1 | 1 |\n",
       "| chrX:73847551|73848428:625   | 240 | 2 | 1 |\n",
       "| chrX:73847551|73848428:670   | 245 | 1 | 1 |\n",
       "| chrX:73847551|73848428:69    | 378 | 2 | 1 |\n",
       "| chrX:73847551|73848428:699   |  68 | 1 | 1 |\n",
       "| chrX:73847551|73848428:73    | 377 | 1 | 1 |\n",
       "| chrX:73847551|73848428:791   | 242 | 2 | 1 |\n",
       "| chrX:73847551|73848428:804   | 242 | 2 | 1 |\n",
       "| chrX:73847551|73848428:93    | 217 | 2 | 1 |\n",
       "| chrX:73847551|73848428:99    | 218 | 4 | 1 |\n",
       "| chrX:77826592|77857497:4216  |  82 | 5 | 2 |\n",
       "| chrX:77826592|77857497:4252  |  85 | 6 | 2 |\n",
       "| chrX:78003073|78020398:11681 |  40 | 1 | 1 |\n",
       "| chrX:84116229|84164387:3722  |  38 | 1 | 1 |\n",
       "| chrX:86174693|86206904:120   |  33 | 1 | 1 |\n",
       "\n"
      ],
      "text/plain": [
       "       pos_id                       n_ref n_alt cluster\n",
       "1      GL000195.1:48444|49119:571    38    8    2      \n",
       "2      GL000195.1:48955|79328:1056   62    1    1      \n",
       "3      GL000195.1:48955|79328:1063   67    4    2      \n",
       "4      GL000195.1:48955|79328:1067   69    1    1      \n",
       "5      GL000195.1:48955|79328:1090   75    2    1      \n",
       "6      GL000195.1:48955|79328:1099   79    2    1      \n",
       "7      GL000195.1:48955|79328:112   120    4    1      \n",
       "8      GL000195.1:48955|79328:127    99    8    2      \n",
       "9      GL000195.1:48955|79328:28981  30    2    2      \n",
       "10     GL000195.1:48955|79328:29950  20   21    3      \n",
       "11     GL000195.1:48955|79328:30165  43    3    2      \n",
       "12     GL000195.1:48955|79328:58     65    3    2      \n",
       "13     GL000195.1:48955|79328:63     64    2    1      \n",
       "14     GL000195.1:48955|79328:93    105    1    1      \n",
       "15     KI270742.1:1326|34982:11738   44   14    3      \n",
       "16     KI270742.1:1326|34982:11747   37   25    3      \n",
       "17     KI270742.1:1326|34982:13458   34    1    1      \n",
       "18     KI270742.1:1326|34982:22763    0   42    4      \n",
       "19     KI270742.1:1326|34982:22811   85    4    2      \n",
       "20     KI270742.1:1326|34982:22836   97    6    2      \n",
       "21     KI270742.1:1326|34982:22846   85    7    2      \n",
       "22     KI270742.1:1326|34982:22882  105    1    1      \n",
       "23     KI270742.1:1326|34982:22899   90   12    2      \n",
       "24     KI270742.1:1326|34982:22923  108    1    1      \n",
       "25     KI270742.1:1326|34982:22990   79    3    1      \n",
       "26     KI270742.1:1326|34982:22993   85    2    1      \n",
       "27     KI270742.1:1326|34982:23007   94    1    1      \n",
       "28     KI270742.1:1326|34982:27952   72    3    1      \n",
       "29     KI270742.1:1326|34982:33594   51    2    1      \n",
       "30     KI270742.1:1326|34982:33611   42    2    1      \n",
       "⋮      ⋮                            ⋮     ⋮     ⋮      \n",
       "140367 chrX:73847551|73848428:388   221   1     1      \n",
       "140368 chrX:73847551|73848428:398   225   3     1      \n",
       "140369 chrX:73847551|73848428:41    369   1     1      \n",
       "140370 chrX:73847551|73848428:436   209   1     1      \n",
       "140371 chrX:73847551|73848428:44    370   2     1      \n",
       "140372 chrX:73847551|73848428:443   230   4     1      \n",
       "140373 chrX:73847551|73848428:457   223   3     1      \n",
       "140374 chrX:73847551|73848428:470   242   1     1      \n",
       "140375 chrX:73847551|73848428:487   235   1     1      \n",
       "140376 chrX:73847551|73848428:492   237   1     1      \n",
       "140377 chrX:73847551|73848428:499   232   5     1      \n",
       "140378 chrX:73847551|73848428:525   246   1     1      \n",
       "140379 chrX:73847551|73848428:539   238   3     1      \n",
       "140380 chrX:73847551|73848428:552   241   1     1      \n",
       "140381 chrX:73847551|73848428:565   257   1     1      \n",
       "140382 chrX:73847551|73848428:593   235   1     1      \n",
       "140383 chrX:73847551|73848428:625   240   2     1      \n",
       "140384 chrX:73847551|73848428:670   245   1     1      \n",
       "140385 chrX:73847551|73848428:69    378   2     1      \n",
       "140386 chrX:73847551|73848428:699    68   1     1      \n",
       "140387 chrX:73847551|73848428:73    377   1     1      \n",
       "140388 chrX:73847551|73848428:791   242   2     1      \n",
       "140389 chrX:73847551|73848428:804   242   2     1      \n",
       "140390 chrX:73847551|73848428:93    217   2     1      \n",
       "140391 chrX:73847551|73848428:99    218   4     1      \n",
       "140392 chrX:77826592|77857497:4216   82   5     2      \n",
       "140393 chrX:77826592|77857497:4252   85   6     2      \n",
       "140394 chrX:78003073|78020398:11681  40   1     1      \n",
       "140395 chrX:84116229|84164387:3722   38   1     1      \n",
       "140396 chrX:86174693|86206904:120    33   1     1      "
      ]
     },
     "metadata": {},
     "output_type": "display_data"
    }
   ],
   "source": [
    "count_df"
   ]
  },
  {
   "cell_type": "code",
   "execution_count": 74,
   "id": "b642f3ce-a5f8-4759-b414-f4a7669f7d4b",
   "metadata": {
    "tags": []
   },
   "outputs": [
    {
     "name": "stderr",
     "output_type": "stream",
     "text": [
      "\u001b[1mRows: \u001b[22m\u001b[34m336580\u001b[39m \u001b[1mColumns: \u001b[22m\u001b[34m3\u001b[39m\n",
      "\u001b[36m──\u001b[39m \u001b[1mColumn specification\u001b[22m \u001b[36m────────────────────────────────────────────────────────\u001b[39m\n",
      "\u001b[1mDelimiter:\u001b[22m \"\\t\"\n",
      "\u001b[31mchr\u001b[39m (1): pos_id\n",
      "\u001b[32mdbl\u001b[39m (2): n_ref, n_alt\n",
      "\n",
      "\u001b[36mℹ\u001b[39m Use `spec()` to retrieve the full column specification for this data.\n",
      "\u001b[36mℹ\u001b[39m Specify the column types or set `show_col_types = FALSE` to quiet this message.\n",
      "\u001b[1mRows: \u001b[22m\u001b[34m247011\u001b[39m \u001b[1mColumns: \u001b[22m\u001b[34m3\u001b[39m\n",
      "\u001b[36m──\u001b[39m \u001b[1mColumn specification\u001b[22m \u001b[36m────────────────────────────────────────────────────────\u001b[39m\n",
      "\u001b[1mDelimiter:\u001b[22m \"\\t\"\n",
      "\u001b[31mchr\u001b[39m (1): pos_id\n",
      "\u001b[32mdbl\u001b[39m (2): n_ref, n_alt\n",
      "\n",
      "\u001b[36mℹ\u001b[39m Use `spec()` to retrieve the full column specification for this data.\n",
      "\u001b[36mℹ\u001b[39m Specify the column types or set `show_col_types = FALSE` to quiet this message.\n"
     ]
    }
   ],
   "source": [
    "hek='/home/hsher/scratch/circ_nextera_iter2/output/edits/HEK_rar11.dp4.neg.vcf.aggregated.nonzero.tsv'\n",
    "hek_df = read_tsv(hek)\n",
    "\n",
    "hek2='/home/hsher/scratch/circ_nextera/output/edits/circseq-bm-rar11-nxt.dp4.neg.vcf.aggregated.nonzero.tsv'\n",
    "hek2_df = read_tsv(hek2)"
   ]
  },
  {
   "cell_type": "code",
   "execution_count": 77,
   "id": "d3bdd1df-5f74-47c3-95fb-73af8e64c7e0",
   "metadata": {
    "tags": []
   },
   "outputs": [],
   "source": [
    "count_df['is_in_hek293']=count_df$pos_id %in% c(hek_df$pos_id)\n",
    "count_df['is_in_hek293_2']=count_df$pos_id %in% c(hek2_df$pos_id)"
   ]
  },
  {
   "cell_type": "code",
   "execution_count": 76,
   "id": "c09f7039-d236-4b62-9c24-57b46e609def",
   "metadata": {
    "tags": []
   },
   "outputs": [
    {
     "data": {
      "text/html": [
       "2659"
      ],
      "text/latex": [
       "2659"
      ],
      "text/markdown": [
       "2659"
      ],
      "text/plain": [
       "[1] 2659"
      ]
     },
     "metadata": {},
     "output_type": "display_data"
    }
   ],
   "source": [
    "sum(count_df$is_in_hek293)"
   ]
  },
  {
   "cell_type": "code",
   "execution_count": 80,
   "id": "6a766333-dcbd-4aa4-a21c-b23aa92033a8",
   "metadata": {
    "tags": []
   },
   "outputs": [
    {
     "data": {
      "text/html": [
       "<table class=\"dataframe\">\n",
       "<caption>A data.frame: 4 × 3</caption>\n",
       "<thead>\n",
       "\t<tr><th scope=col>Group.1</th><th scope=col>is_in_hek293</th><th scope=col>is_in_hek293_2</th></tr>\n",
       "\t<tr><th scope=col>&lt;int&gt;</th><th scope=col>&lt;dbl&gt;</th><th scope=col>&lt;dbl&gt;</th></tr>\n",
       "</thead>\n",
       "<tbody>\n",
       "\t<tr><td>1</td><td>0.01589206</td><td>0.01387263</td></tr>\n",
       "\t<tr><td>2</td><td>0.01269898</td><td>0.01222646</td></tr>\n",
       "\t<tr><td>3</td><td>0.07247735</td><td>0.07810059</td></tr>\n",
       "\t<tr><td>4</td><td>0.44337349</td><td>0.46746988</td></tr>\n",
       "</tbody>\n",
       "</table>\n"
      ],
      "text/latex": [
       "A data.frame: 4 × 3\n",
       "\\begin{tabular}{lll}\n",
       " Group.1 & is\\_in\\_hek293 & is\\_in\\_hek293\\_2\\\\\n",
       " <int> & <dbl> & <dbl>\\\\\n",
       "\\hline\n",
       "\t 1 & 0.01589206 & 0.01387263\\\\\n",
       "\t 2 & 0.01269898 & 0.01222646\\\\\n",
       "\t 3 & 0.07247735 & 0.07810059\\\\\n",
       "\t 4 & 0.44337349 & 0.46746988\\\\\n",
       "\\end{tabular}\n"
      ],
      "text/markdown": [
       "\n",
       "A data.frame: 4 × 3\n",
       "\n",
       "| Group.1 &lt;int&gt; | is_in_hek293 &lt;dbl&gt; | is_in_hek293_2 &lt;dbl&gt; |\n",
       "|---|---|---|\n",
       "| 1 | 0.01589206 | 0.01387263 |\n",
       "| 2 | 0.01269898 | 0.01222646 |\n",
       "| 3 | 0.07247735 | 0.07810059 |\n",
       "| 4 | 0.44337349 | 0.46746988 |\n",
       "\n"
      ],
      "text/plain": [
       "  Group.1 is_in_hek293 is_in_hek293_2\n",
       "1 1       0.01589206   0.01387263    \n",
       "2 2       0.01269898   0.01222646    \n",
       "3 3       0.07247735   0.07810059    \n",
       "4 4       0.44337349   0.46746988    "
      ]
     },
     "metadata": {},
     "output_type": "display_data"
    }
   ],
   "source": [
    "aggregate(count_df[, c('is_in_hek293', 'is_in_hek293_2')], list(count_df$cluster), mean)"
   ]
  },
  {
   "cell_type": "code",
   "execution_count": 85,
   "id": "4ca7ae88-5e16-45b3-b1f9-864114992a3c",
   "metadata": {
    "tags": []
   },
   "outputs": [
    {
     "data": {
      "text/html": [
       "297383"
      ],
      "text/latex": [
       "297383"
      ],
      "text/markdown": [
       "297383"
      ],
      "text/plain": [
       "[1] 297383"
      ]
     },
     "metadata": {},
     "output_type": "display_data"
    }
   ],
   "source": [
    "sum(count_df[count_df$is_in_hek293, c('n_ref')])"
   ]
  },
  {
   "cell_type": "code",
   "execution_count": 86,
   "id": "73dea2b4-2813-4ec1-b48f-7f402f99f7b8",
   "metadata": {
    "tags": []
   },
   "outputs": [
    {
     "data": {
      "text/html": [
       "39606"
      ],
      "text/latex": [
       "39606"
      ],
      "text/markdown": [
       "39606"
      ],
      "text/plain": [
       "[1] 39606"
      ]
     },
     "metadata": {},
     "output_type": "display_data"
    }
   ],
   "source": [
    "sum(count_df[count_df$is_in_hek293, c('n_alt')])"
   ]
  },
  {
   "cell_type": "code",
   "execution_count": 87,
   "id": "01e5ca46-4049-4c60-b129-47317d1a2924",
   "metadata": {
    "tags": []
   },
   "outputs": [
    {
     "data": {
      "text/html": [
       "0.133181789140603"
      ],
      "text/latex": [
       "0.133181789140603"
      ],
      "text/markdown": [
       "0.133181789140603"
      ],
      "text/plain": [
       "[1] 0.1331818"
      ]
     },
     "metadata": {},
     "output_type": "display_data"
    }
   ],
   "source": [
    "39606/297383"
   ]
  }
 ],
 "metadata": {
  "kernelspec": {
   "display_name": "DMN",
   "language": "R",
   "name": "dmn"
  },
  "language_info": {
   "codemirror_mode": "r",
   "file_extension": ".r",
   "mimetype": "text/x-r-source",
   "name": "R",
   "pygments_lexer": "r",
   "version": "4.2.2"
  }
 },
 "nbformat": 4,
 "nbformat_minor": 5
}
