{
 "cells": [
  {
   "cell_type": "code",
   "execution_count": 1,
   "id": "5a509f63",
   "metadata": {
    "tags": []
   },
   "outputs": [],
   "source": [
    "import os\n",
    "from pathlib import Path\n",
    "indir = Path('/home/tayu/seqdata/tao/circRNA_seq/circapp/20230720/20230901_LH00320_0022_A227Y7YLT3')"
   ]
  },
  {
   "cell_type": "markdown",
   "id": "cf755e52",
   "metadata": {},
   "source": [
    "rar11 enriched, different cell lines"
   ]
  },
  {
   "cell_type": "code",
   "execution_count": 2,
   "id": "da73a0ca-d844-43f0-962a-e5978b2c8585",
   "metadata": {
    "tags": []
   },
   "outputs": [
    {
     "name": "stdout",
     "output_type": "stream",
     "text": [
      "IGF2BP3RIP1_S16_L006_R1_001.fastq.gz\n",
      "IGF2BP3RIP1_S16_L006_R2_001.fastq.gz\n",
      "IGF2BP3RIP2_S17_L006_R1_001.fastq.gz\n",
      "IGF2BP3RIP2_S17_L006_R2_001.fastq.gz\n",
      "IGF2BP3RIP3_S18_L006_R1_001.fastq.gz\n",
      "IGF2BP3RIP3_S18_L006_R2_001.fastq.gz\n",
      "Import_2hr_rep1_S4_L008_R1_001.fastq.gz\n",
      "Import_2hr_rep1_S4_L008_R2_001.fastq.gz\n",
      "Import_2hr_rep2_S5_L008_R1_001.fastq.gz\n",
      "Import_2hr_rep2_S5_L008_R2_001.fastq.gz\n",
      "Import_2hr_rep3_S6_L008_R1_001.fastq.gz\n",
      "Import_2hr_rep3_S6_L008_R2_001.fastq.gz\n",
      "Import_4hr_rep1_S7_L008_R1_001.fastq.gz\n",
      "Import_4hr_rep1_S7_L008_R2_001.fastq.gz\n",
      "Import_4hr_rep2_S8_L008_R1_001.fastq.gz\n",
      "Import_4hr_rep2_S8_L008_R2_001.fastq.gz\n",
      "Import_4hr_rep3_S9_L008_R1_001.fastq.gz\n",
      "Import_4hr_rep3_S9_L008_R2_001.fastq.gz\n",
      "Import_8hr_rep1_S10_L008_R1_001.fastq.gz\n",
      "Import_8hr_rep1_S10_L008_R2_001.fastq.gz\n",
      "Import_8hr_rep2_S11_L008_R1_001.fastq.gz\n",
      "Import_8hr_rep2_S11_L008_R2_001.fastq.gz\n",
      "Import_8hr_rep3_S12_L008_R1_001.fastq.gz\n",
      "Import_8hr_rep3_S12_L008_R2_001.fastq.gz\n",
      "Import_input_rep1_S1_L008_R1_001.fastq.gz\n",
      "Import_input_rep1_S1_L008_R2_001.fastq.gz\n",
      "Import_input_rep2_S2_L008_R1_001.fastq.gz\n",
      "Import_input_rep2_S2_L008_R2_001.fastq.gz\n",
      "Import_input_rep3_S3_L008_R1_001.fastq.gz\n",
      "Import_input_rep3_S3_L008_R2_001.fastq.gz\n",
      "IN1_S7_L006_R1_001.fastq.gz\n",
      "IN1_S7_L006_R2_001.fastq.gz\n",
      "IN2_S8_L006_R1_001.fastq.gz\n",
      "IN2_S8_L006_R2_001.fastq.gz\n",
      "Mono1_S9_L006_R1_001.fastq.gz\n",
      "Mono1_S9_L006_R2_001.fastq.gz\n",
      "Mono2_S10_L006_R1_001.fastq.gz\n",
      "Mono2_S10_L006_R2_001.fastq.gz\n",
      "Poly1_S11_L006_R1_001.fastq.gz\n",
      "Poly1_S11_L006_R2_001.fastq.gz\n",
      "Poly2_S12_L006_R1_001.fastq.gz\n",
      "Poly2_S12_L006_R2_001.fastq.gz\n",
      "RBFOX2_1plex_Rep1_S5_L006_R1_001.fastq.gz\n",
      "RBFOX2_1plex_Rep1_S5_L006_R2_001.fastq.gz\n",
      "RBFOX2_1plex_Rep2_S6_L006_R1_001.fastq.gz\n",
      "RBFOX2_1plex_Rep2_S6_L006_R2_001.fastq.gz\n",
      "Reports_aaron\n",
      "Reports_tao\n",
      "RIP_input1_S13_L006_R1_001.fastq.gz\n",
      "RIP_input1_S13_L006_R2_001.fastq.gz\n",
      "RIP_input2_S14_L006_R1_001.fastq.gz\n",
      "RIP_input2_S14_L006_R2_001.fastq.gz\n",
      "RIP_input3_S15_L006_R1_001.fastq.gz\n",
      "RIP_input3_S15_L006_R2_001.fastq.gz\n",
      "SLBP_1plex_Rep1_S3_L006_R1_001.fastq.gz\n",
      "SLBP_1plex_Rep1_S3_L006_R2_001.fastq.gz\n",
      "SLBP_1plex_Rep2_S4_L006_R1_001.fastq.gz\n",
      "SLBP_1plex_Rep2_S4_L006_R2_001.fastq.gz\n",
      "SLBP_RBFOX_2plex_Rep1_S1_L006_R1_001.fastq.gz\n",
      "SLBP_RBFOX_2plex_Rep1_S1_L006_R2_001.fastq.gz\n",
      "SLBP_RBFOX_2plex_Rep2_S2_L006_R1_001.fastq.gz\n",
      "SLBP_RBFOX_2plex_Rep2_S2_L006_R2_001.fastq.gz\n",
      "Stats_aaron\n",
      "Stats_tao\n",
      "Undetermined_S0_L006_R1_001.fastq.gz\n",
      "Undetermined_S0_L006_R2_001.fastq.gz\n",
      "Undetermined_S0_L008_R1_001.fastq.gz\n",
      "Undetermined_S0_L008_R2_001.fastq.gz\n"
     ]
    }
   ],
   "source": [
    "!ls /home/tayu/seqdata/tao/circRNA_seq/circapp/20230720/20230901_LH00320_0022_A227Y7YLT3"
   ]
  },
  {
   "cell_type": "code",
   "execution_count": 3,
   "id": "d5d107ac",
   "metadata": {
    "tags": []
   },
   "outputs": [],
   "source": [
    "fq1 = list(indir.glob('IN*R1*.fastq.gz'))+list(indir.glob('Poly*R1*.fastq.gz'))+list(indir.glob('Mono*R1*.fastq.gz'))"
   ]
  },
  {
   "cell_type": "code",
   "execution_count": 4,
   "id": "66f04a95",
   "metadata": {
    "tags": []
   },
   "outputs": [
    {
     "data": {
      "text/plain": [
       "[PosixPath('/home/tayu/seqdata/tao/circRNA_seq/circapp/20230720/20230901_LH00320_0022_A227Y7YLT3/IN1_S7_L006_R1_001.fastq.gz'),\n",
       " PosixPath('/home/tayu/seqdata/tao/circRNA_seq/circapp/20230720/20230901_LH00320_0022_A227Y7YLT3/IN2_S8_L006_R1_001.fastq.gz'),\n",
       " PosixPath('/home/tayu/seqdata/tao/circRNA_seq/circapp/20230720/20230901_LH00320_0022_A227Y7YLT3/Poly1_S11_L006_R1_001.fastq.gz'),\n",
       " PosixPath('/home/tayu/seqdata/tao/circRNA_seq/circapp/20230720/20230901_LH00320_0022_A227Y7YLT3/Poly2_S12_L006_R1_001.fastq.gz'),\n",
       " PosixPath('/home/tayu/seqdata/tao/circRNA_seq/circapp/20230720/20230901_LH00320_0022_A227Y7YLT3/Mono1_S9_L006_R1_001.fastq.gz'),\n",
       " PosixPath('/home/tayu/seqdata/tao/circRNA_seq/circapp/20230720/20230901_LH00320_0022_A227Y7YLT3/Mono2_S10_L006_R1_001.fastq.gz')]"
      ]
     },
     "execution_count": 4,
     "metadata": {},
     "output_type": "execute_result"
    }
   ],
   "source": [
    "fq1"
   ]
  },
  {
   "cell_type": "code",
   "execution_count": 5,
   "id": "01b52337-e838-40eb-97ae-ad9a65f914ab",
   "metadata": {
    "tags": []
   },
   "outputs": [],
   "source": [
    "fq2 = [str(f).replace('R1', 'R2') for f in fq1]"
   ]
  },
  {
   "cell_type": "code",
   "execution_count": 6,
   "id": "8a41d834-29fd-4fd3-9b59-199c2ca519e9",
   "metadata": {
    "tags": []
   },
   "outputs": [
    {
     "data": {
      "text/plain": [
       "['/home/tayu/seqdata/tao/circRNA_seq/circapp/20230720/20230901_LH00320_0022_A227Y7YLT3/IN1_S7_L006_R2_001.fastq.gz',\n",
       " '/home/tayu/seqdata/tao/circRNA_seq/circapp/20230720/20230901_LH00320_0022_A227Y7YLT3/IN2_S8_L006_R2_001.fastq.gz',\n",
       " '/home/tayu/seqdata/tao/circRNA_seq/circapp/20230720/20230901_LH00320_0022_A227Y7YLT3/Poly1_S11_L006_R2_001.fastq.gz',\n",
       " '/home/tayu/seqdata/tao/circRNA_seq/circapp/20230720/20230901_LH00320_0022_A227Y7YLT3/Poly2_S12_L006_R2_001.fastq.gz',\n",
       " '/home/tayu/seqdata/tao/circRNA_seq/circapp/20230720/20230901_LH00320_0022_A227Y7YLT3/Mono1_S9_L006_R2_001.fastq.gz',\n",
       " '/home/tayu/seqdata/tao/circRNA_seq/circapp/20230720/20230901_LH00320_0022_A227Y7YLT3/Mono2_S10_L006_R2_001.fastq.gz']"
      ]
     },
     "execution_count": 6,
     "metadata": {},
     "output_type": "execute_result"
    }
   ],
   "source": [
    "fq2"
   ]
  },
  {
   "cell_type": "code",
   "execution_count": 7,
   "id": "b382475f",
   "metadata": {
    "tags": []
   },
   "outputs": [],
   "source": [
    "libs = [f.name.split('_S')[0] for f in fq1]"
   ]
  },
  {
   "cell_type": "code",
   "execution_count": 8,
   "id": "5dc1d328",
   "metadata": {
    "tags": []
   },
   "outputs": [
    {
     "data": {
      "text/plain": [
       "['IN1', 'IN2', 'Mono1', 'Mono2', 'Poly1', 'Poly2']"
      ]
     },
     "execution_count": 8,
     "metadata": {},
     "output_type": "execute_result"
    }
   ],
   "source": [
    "sorted(libs)"
   ]
  },
  {
   "cell_type": "code",
   "execution_count": 9,
   "id": "8fdf5963-95cd-423c-bbe7-eb22224075f4",
   "metadata": {
    "tags": []
   },
   "outputs": [],
   "source": [
    "import pandas as pd\n",
    "manifest = pd.DataFrame([fq1, fq2, libs], index = ['fastq1', 'fastq2','Sample']).T"
   ]
  },
  {
   "cell_type": "code",
   "execution_count": 10,
   "id": "8fe3f6c9",
   "metadata": {
    "tags": []
   },
   "outputs": [],
   "source": [
    "manifest['Rnase'] = True # all are rar11 samples"
   ]
  },
  {
   "cell_type": "code",
   "execution_count": 11,
   "id": "49985ec4-8d0c-4afc-86d9-80bb28f78b49",
   "metadata": {},
   "outputs": [
    {
     "data": {
      "text/html": [
       "<div>\n",
       "<style scoped>\n",
       "    .dataframe tbody tr th:only-of-type {\n",
       "        vertical-align: middle;\n",
       "    }\n",
       "\n",
       "    .dataframe tbody tr th {\n",
       "        vertical-align: top;\n",
       "    }\n",
       "\n",
       "    .dataframe thead th {\n",
       "        text-align: right;\n",
       "    }\n",
       "</style>\n",
       "<table border=\"1\" class=\"dataframe\">\n",
       "  <thead>\n",
       "    <tr style=\"text-align: right;\">\n",
       "      <th></th>\n",
       "      <th>fastq1</th>\n",
       "      <th>fastq2</th>\n",
       "      <th>Sample</th>\n",
       "      <th>Rnase</th>\n",
       "    </tr>\n",
       "  </thead>\n",
       "  <tbody>\n",
       "    <tr>\n",
       "      <th>0</th>\n",
       "      <td>/home/tayu/seqdata/tao/circRNA_seq/circapp/202...</td>\n",
       "      <td>/home/tayu/seqdata/tao/circRNA_seq/circapp/202...</td>\n",
       "      <td>IN1</td>\n",
       "      <td>True</td>\n",
       "    </tr>\n",
       "    <tr>\n",
       "      <th>1</th>\n",
       "      <td>/home/tayu/seqdata/tao/circRNA_seq/circapp/202...</td>\n",
       "      <td>/home/tayu/seqdata/tao/circRNA_seq/circapp/202...</td>\n",
       "      <td>IN2</td>\n",
       "      <td>True</td>\n",
       "    </tr>\n",
       "    <tr>\n",
       "      <th>2</th>\n",
       "      <td>/home/tayu/seqdata/tao/circRNA_seq/circapp/202...</td>\n",
       "      <td>/home/tayu/seqdata/tao/circRNA_seq/circapp/202...</td>\n",
       "      <td>Poly1</td>\n",
       "      <td>True</td>\n",
       "    </tr>\n",
       "    <tr>\n",
       "      <th>3</th>\n",
       "      <td>/home/tayu/seqdata/tao/circRNA_seq/circapp/202...</td>\n",
       "      <td>/home/tayu/seqdata/tao/circRNA_seq/circapp/202...</td>\n",
       "      <td>Poly2</td>\n",
       "      <td>True</td>\n",
       "    </tr>\n",
       "    <tr>\n",
       "      <th>4</th>\n",
       "      <td>/home/tayu/seqdata/tao/circRNA_seq/circapp/202...</td>\n",
       "      <td>/home/tayu/seqdata/tao/circRNA_seq/circapp/202...</td>\n",
       "      <td>Mono1</td>\n",
       "      <td>True</td>\n",
       "    </tr>\n",
       "    <tr>\n",
       "      <th>5</th>\n",
       "      <td>/home/tayu/seqdata/tao/circRNA_seq/circapp/202...</td>\n",
       "      <td>/home/tayu/seqdata/tao/circRNA_seq/circapp/202...</td>\n",
       "      <td>Mono2</td>\n",
       "      <td>True</td>\n",
       "    </tr>\n",
       "  </tbody>\n",
       "</table>\n",
       "</div>"
      ],
      "text/plain": [
       "                                              fastq1  \\\n",
       "0  /home/tayu/seqdata/tao/circRNA_seq/circapp/202...   \n",
       "1  /home/tayu/seqdata/tao/circRNA_seq/circapp/202...   \n",
       "2  /home/tayu/seqdata/tao/circRNA_seq/circapp/202...   \n",
       "3  /home/tayu/seqdata/tao/circRNA_seq/circapp/202...   \n",
       "4  /home/tayu/seqdata/tao/circRNA_seq/circapp/202...   \n",
       "5  /home/tayu/seqdata/tao/circRNA_seq/circapp/202...   \n",
       "\n",
       "                                              fastq2 Sample  Rnase  \n",
       "0  /home/tayu/seqdata/tao/circRNA_seq/circapp/202...    IN1   True  \n",
       "1  /home/tayu/seqdata/tao/circRNA_seq/circapp/202...    IN2   True  \n",
       "2  /home/tayu/seqdata/tao/circRNA_seq/circapp/202...  Poly1   True  \n",
       "3  /home/tayu/seqdata/tao/circRNA_seq/circapp/202...  Poly2   True  \n",
       "4  /home/tayu/seqdata/tao/circRNA_seq/circapp/202...  Mono1   True  \n",
       "5  /home/tayu/seqdata/tao/circRNA_seq/circapp/202...  Mono2   True  "
      ]
     },
     "execution_count": 11,
     "metadata": {},
     "output_type": "execute_result"
    }
   ],
   "source": [
    "manifest"
   ]
  },
  {
   "cell_type": "code",
   "execution_count": 12,
   "id": "5e98bd43-3477-4040-aa10-7acdf18243c4",
   "metadata": {
    "tags": []
   },
   "outputs": [
    {
     "data": {
      "text/html": [
       "<div>\n",
       "<style scoped>\n",
       "    .dataframe tbody tr th:only-of-type {\n",
       "        vertical-align: middle;\n",
       "    }\n",
       "\n",
       "    .dataframe tbody tr th {\n",
       "        vertical-align: top;\n",
       "    }\n",
       "\n",
       "    .dataframe thead th {\n",
       "        text-align: right;\n",
       "    }\n",
       "</style>\n",
       "<table border=\"1\" class=\"dataframe\">\n",
       "  <thead>\n",
       "    <tr style=\"text-align: right;\">\n",
       "      <th></th>\n",
       "      <th>fastq1</th>\n",
       "      <th>fastq2</th>\n",
       "      <th>Sample</th>\n",
       "      <th>Rnase</th>\n",
       "    </tr>\n",
       "  </thead>\n",
       "  <tbody>\n",
       "    <tr>\n",
       "      <th>0</th>\n",
       "      <td>True</td>\n",
       "      <td>True</td>\n",
       "      <td>False</td>\n",
       "      <td>False</td>\n",
       "    </tr>\n",
       "    <tr>\n",
       "      <th>1</th>\n",
       "      <td>True</td>\n",
       "      <td>True</td>\n",
       "      <td>False</td>\n",
       "      <td>False</td>\n",
       "    </tr>\n",
       "    <tr>\n",
       "      <th>2</th>\n",
       "      <td>True</td>\n",
       "      <td>True</td>\n",
       "      <td>False</td>\n",
       "      <td>False</td>\n",
       "    </tr>\n",
       "    <tr>\n",
       "      <th>3</th>\n",
       "      <td>True</td>\n",
       "      <td>True</td>\n",
       "      <td>False</td>\n",
       "      <td>False</td>\n",
       "    </tr>\n",
       "    <tr>\n",
       "      <th>4</th>\n",
       "      <td>True</td>\n",
       "      <td>True</td>\n",
       "      <td>False</td>\n",
       "      <td>False</td>\n",
       "    </tr>\n",
       "    <tr>\n",
       "      <th>5</th>\n",
       "      <td>True</td>\n",
       "      <td>True</td>\n",
       "      <td>False</td>\n",
       "      <td>False</td>\n",
       "    </tr>\n",
       "  </tbody>\n",
       "</table>\n",
       "</div>"
      ],
      "text/plain": [
       "   fastq1  fastq2  Sample  Rnase\n",
       "0    True    True   False  False\n",
       "1    True    True   False  False\n",
       "2    True    True   False  False\n",
       "3    True    True   False  False\n",
       "4    True    True   False  False\n",
       "5    True    True   False  False"
      ]
     },
     "execution_count": 12,
     "metadata": {},
     "output_type": "execute_result"
    }
   ],
   "source": [
    "manifest.applymap(os.path.isfile)"
   ]
  },
  {
   "cell_type": "code",
   "execution_count": 13,
   "id": "fb23f507-da87-4d72-bb5e-224813f1ad05",
   "metadata": {},
   "outputs": [],
   "source": [
    "# turns out to be single ended. cannot run current pipeline\n",
    "manifest.to_csv('nextera_iter11_MonoPolySome.csv')"
   ]
  },
  {
   "cell_type": "code",
   "execution_count": 14,
   "id": "224c041c-1687-4573-9351-1e43b6664e85",
   "metadata": {},
   "outputs": [
    {
     "data": {
      "text/plain": [
       "0    False\n",
       "1    False\n",
       "2    False\n",
       "3    False\n",
       "4    False\n",
       "5    False\n",
       "dtype: bool"
      ]
     },
     "execution_count": 14,
     "metadata": {},
     "output_type": "execute_result"
    }
   ],
   "source": [
    "manifest['fastq1'].eq(manifest['fastq2'])"
   ]
  },
  {
   "cell_type": "code",
   "execution_count": null,
   "id": "74e78499-a39f-4920-b396-1bef5708c6aa",
   "metadata": {},
   "outputs": [],
   "source": []
  }
 ],
 "metadata": {
  "kernelspec": {
   "display_name": "Metadensity",
   "language": "python",
   "name": "metadensity"
  },
  "language_info": {
   "codemirror_mode": {
    "name": "ipython",
    "version": 3
   },
   "file_extension": ".py",
   "mimetype": "text/x-python",
   "name": "python",
   "nbconvert_exporter": "python",
   "pygments_lexer": "ipython3",
   "version": "3.9.16"
  }
 },
 "nbformat": 4,
 "nbformat_minor": 5
}
