{
 "cells": [
  {
   "cell_type": "raw",
   "id": "e56a5e5a",
   "metadata": {},
   "source": [
    "# ciriquant output\n",
    "column \tname \tdescription\n",
    "1 \tchrom \tchromosome / contig name\n",
    "2 \tsource \tCIRIquant\n",
    "3 \ttype \tcircRNA\n",
    "4 \tstart \t5' back-spliced junction site\n",
    "5 \tend \t3' back-spliced junction site\n",
    "6 \tscore \tCPM of circRNAs (#BSJ / #Mapped reads)\n",
    "7 \tstrand \tstrand information\n",
    "8 \t. \t.\n",
    "9 \tattributes \tattributes seperated by semicolon\n",
    "\n",
    "\n",
    "# attributes\n",
    "key \tdescription\n",
    "circ_id \tname of circRNA\n",
    "circ_type \tcircRNA types: exon / intron / intergenic\n",
    "bsj \tnumber of bsj reads\n",
    "fsj \tnumber of fsj reads\n",
    "junc_ratio \tcircular to linear ratio: 2 * bsj / ( 2 * bsj + fsj)\n",
    "rnaser_bsj \tnumber of bsj reads in RNase R data (only when --RNaseR is specificed)\n",
    "rnaser_fsj \tnumber of fsj reads in RNase R data (only when --RNaseR is specificed)\n",
    "gene_id \tensemble id of host gene\n",
    "gene_name \tHGNC symbol of host gene\n",
    "gene_type \ttype of host gene in gtf file\n",
    "\n",
    "https://ciri-cookbook.readthedocs.io/en/latest/CIRIquant_2_quantification.html"
   ]
  },
  {
   "cell_type": "code",
   "execution_count": 2,
   "id": "b19e0dfd",
   "metadata": {},
   "outputs": [],
   "source": [
    "import os\n",
    "from pybedtools import BedTool\n",
    "import pandas as pd\n",
    "import seaborn as sns\n",
    "\n",
    "indir1 = '/home/hsher/scratch/circ_nextera_iter13/output/'\n",
    "circ_quant_output = [os.path.join(indir1,f) for f in os.listdir(indir1) if f.endswith('.gtf')]\n",
    "\n",
    "# the basic rar11 recipe\n",
    "indir = '/home/hsher/scratch/circ_nextera_iter2/output/'\n",
    "circ_quant_output += [os.path.join(indir,f) for f in os.listdir(indir) if f.endswith('.gtf') \n",
    "                      and f.startswith('HEK_rar11')]\n",
    "\n",
    "# indir2 = '/home/hsher/scratch/circ_nextera_iter7/output/'\n",
    "# circ_quant_output += [os.path.join(indir2,f) for f in os.listdir(indir2) if f.endswith('.gtf')]\n"
   ]
  },
  {
   "cell_type": "code",
   "execution_count": null,
   "id": "3a0fd2aa",
   "metadata": {},
   "outputs": [],
   "source": [
    "circ_quant_output"
   ]
  },
  {
   "cell_type": "code",
   "execution_count": 3,
   "id": "73be78e8",
   "metadata": {},
   "outputs": [],
   "source": [
    "def read_ciri_gtf(fname):\n",
    "    bed = BedTool(fname)\n",
    "    df = bed.to_dataframe()\n",
    "    # filter for non-entries\n",
    "    stat = df.loc[df['seqname'].str.contains('##'), 'seqname'].str.split(': ', expand = True)\n",
    "    df = df.loc[~df['seqname'].str.contains('##')].reset_index()\n",
    "    \n",
    "    # get attributes\n",
    "    attrs = pd.DataFrame([i.attrs for i in bed])\n",
    "    \n",
    "    return pd.concat([df, attrs], axis = 1), stat"
   ]
  },
  {
   "cell_type": "code",
   "execution_count": 4,
   "id": "985e2f4b",
   "metadata": {},
   "outputs": [],
   "source": [
    "circ_type_count = []\n",
    "names = []\n",
    "junc_ratio_tbl = []\n",
    "bsj_ratio_tbl = []\n",
    "fsj_ratio_tbl = []\n",
    "stats = []\n",
    "for fname in circ_quant_output:\n",
    "    name = os.path.basename(fname).replace('.gtf', '')\n",
    "    names.append(name)\n",
    "    \n",
    "    circ_df, stat = read_ciri_gtf(fname)\n",
    "    \n",
    "    circ_type_count.append(circ_df['circ_type'].value_counts())\n",
    "    \n",
    "    junc_ratio_tbl.append(circ_df.set_index('circ_id')['junc_ratio'].astype(float))\n",
    "    bsj_ratio_tbl.append(circ_df.set_index('circ_id')['bsj'].astype(float))\n",
    "    fsj_ratio_tbl.append(circ_df.set_index('circ_id')['fsj'].astype(float))\n",
    "    stats.append(stat.set_index(0))"
   ]
  },
  {
   "cell_type": "code",
   "execution_count": 5,
   "id": "4f23c5b5",
   "metadata": {},
   "outputs": [],
   "source": [
    "stats_df = pd.concat(stats, axis = 1).T"
   ]
  },
  {
   "cell_type": "code",
   "execution_count": 6,
   "id": "5943957d",
   "metadata": {},
   "outputs": [
    {
     "data": {
      "text/plain": [
       "Index(['##Sample', '##Total_Reads', '##Mapped_Reads', '##Circular_Reads',\n",
       "       '##version'],\n",
       "      dtype='object', name=0)"
      ]
     },
     "execution_count": 6,
     "metadata": {},
     "output_type": "execute_result"
    }
   ],
   "source": [
    "stats_df.columns"
   ]
  },
  {
   "cell_type": "code",
   "execution_count": 7,
   "id": "8b6140a3",
   "metadata": {},
   "outputs": [],
   "source": [
    "for col in ['##Total_Reads', '##Mapped_Reads', '##Circular_Reads']:\n",
    "    stats_df[col] = stats_df[col].astype(int)"
   ]
  },
  {
   "cell_type": "code",
   "execution_count": 8,
   "id": "69cbbc55",
   "metadata": {},
   "outputs": [],
   "source": [
    "stats_df['frac_circular'] = stats_df['##Circular_Reads']/stats_df['##Mapped_Reads']\n",
    "stats_df['frac_mapped'] = stats_df['##Mapped_Reads']/stats_df['##Total_Reads']"
   ]
  },
  {
   "cell_type": "code",
   "execution_count": 9,
   "id": "3b3e3f4f",
   "metadata": {},
   "outputs": [],
   "source": [
    "stats_df.sort_values('frac_circular')\n",
    "stats_df.set_index('##Sample', inplace = True)"
   ]
  },
  {
   "cell_type": "code",
   "execution_count": 10,
   "id": "f636d983",
   "metadata": {
    "scrolled": true
   },
   "outputs": [
    {
     "data": {
      "text/html": [
       "<div>\n",
       "<style scoped>\n",
       "    .dataframe tbody tr th:only-of-type {\n",
       "        vertical-align: middle;\n",
       "    }\n",
       "\n",
       "    .dataframe tbody tr th {\n",
       "        vertical-align: top;\n",
       "    }\n",
       "\n",
       "    .dataframe thead th {\n",
       "        text-align: right;\n",
       "    }\n",
       "</style>\n",
       "<table border=\"1\" class=\"dataframe\">\n",
       "  <thead>\n",
       "    <tr style=\"text-align: right;\">\n",
       "      <th></th>\n",
       "      <th>##Total_Reads</th>\n",
       "      <th>##Mapped_Reads</th>\n",
       "      <th>##Circular_Reads</th>\n",
       "      <th>##version</th>\n",
       "      <th>frac_circular</th>\n",
       "      <th>frac_mapped</th>\n",
       "    </tr>\n",
       "    <tr>\n",
       "      <th>##Sample</th>\n",
       "      <th></th>\n",
       "      <th></th>\n",
       "      <th></th>\n",
       "      <th></th>\n",
       "      <th></th>\n",
       "      <th></th>\n",
       "    </tr>\n",
       "  </thead>\n",
       "  <tbody>\n",
       "    <tr>\n",
       "      <th>HEK_JC_rar11</th>\n",
       "      <td>350774034</td>\n",
       "      <td>282857676</td>\n",
       "      <td>5851662</td>\n",
       "      <td>1.1.2</td>\n",
       "      <td>0.020688</td>\n",
       "      <td>0.806381</td>\n",
       "    </tr>\n",
       "    <tr>\n",
       "      <th>Exo05</th>\n",
       "      <td>116448244</td>\n",
       "      <td>15410366</td>\n",
       "      <td>3004</td>\n",
       "      <td>1.1.2</td>\n",
       "      <td>0.000195</td>\n",
       "      <td>0.132337</td>\n",
       "    </tr>\n",
       "    <tr>\n",
       "      <th>HEK_rar11</th>\n",
       "      <td>288352678</td>\n",
       "      <td>238307158</td>\n",
       "      <td>5730810</td>\n",
       "      <td>1.1.2</td>\n",
       "      <td>0.024048</td>\n",
       "      <td>0.826443</td>\n",
       "    </tr>\n",
       "    <tr>\n",
       "      <th>EV_rar11</th>\n",
       "      <td>304642022</td>\n",
       "      <td>190824576</td>\n",
       "      <td>4761304</td>\n",
       "      <td>1.1.2</td>\n",
       "      <td>0.024951</td>\n",
       "      <td>0.626390</td>\n",
       "    </tr>\n",
       "    <tr>\n",
       "      <th>TOB2_rar11</th>\n",
       "      <td>228398110</td>\n",
       "      <td>183221060</td>\n",
       "      <td>3887038</td>\n",
       "      <td>1.1.2</td>\n",
       "      <td>0.021215</td>\n",
       "      <td>0.802200</td>\n",
       "    </tr>\n",
       "    <tr>\n",
       "      <th>Exo10</th>\n",
       "      <td>127456780</td>\n",
       "      <td>20087518</td>\n",
       "      <td>4028</td>\n",
       "      <td>1.1.2</td>\n",
       "      <td>0.000201</td>\n",
       "      <td>0.157603</td>\n",
       "    </tr>\n",
       "    <tr>\n",
       "      <th>EV_rz</th>\n",
       "      <td>73924826</td>\n",
       "      <td>65059368</td>\n",
       "      <td>27220</td>\n",
       "      <td>1.1.2</td>\n",
       "      <td>0.000418</td>\n",
       "      <td>0.880075</td>\n",
       "    </tr>\n",
       "    <tr>\n",
       "      <th>HEK_rar</th>\n",
       "      <td>53364598</td>\n",
       "      <td>44398808</td>\n",
       "      <td>394084</td>\n",
       "      <td>1.1.2</td>\n",
       "      <td>0.008876</td>\n",
       "      <td>0.831990</td>\n",
       "    </tr>\n",
       "    <tr>\n",
       "      <th>TOB2_rz</th>\n",
       "      <td>61071552</td>\n",
       "      <td>55602434</td>\n",
       "      <td>24558</td>\n",
       "      <td>1.1.2</td>\n",
       "      <td>0.000442</td>\n",
       "      <td>0.910447</td>\n",
       "    </tr>\n",
       "    <tr>\n",
       "      <th>HEK_JC_rar</th>\n",
       "      <td>30050284</td>\n",
       "      <td>26049374</td>\n",
       "      <td>291952</td>\n",
       "      <td>1.1.2</td>\n",
       "      <td>0.011208</td>\n",
       "      <td>0.866859</td>\n",
       "    </tr>\n",
       "    <tr>\n",
       "      <th>RBM15_rz</th>\n",
       "      <td>57315334</td>\n",
       "      <td>52269764</td>\n",
       "      <td>38144</td>\n",
       "      <td>1.1.2</td>\n",
       "      <td>0.000730</td>\n",
       "      <td>0.911968</td>\n",
       "    </tr>\n",
       "  </tbody>\n",
       "</table>\n",
       "</div>"
      ],
      "text/plain": [
       "0             ##Total_Reads  ##Mapped_Reads  ##Circular_Reads ##version  \\\n",
       "##Sample                                                                  \n",
       "HEK_JC_rar11      350774034       282857676           5851662     1.1.2   \n",
       "Exo05             116448244        15410366              3004     1.1.2   \n",
       "HEK_rar11         288352678       238307158           5730810     1.1.2   \n",
       "EV_rar11          304642022       190824576           4761304     1.1.2   \n",
       "TOB2_rar11        228398110       183221060           3887038     1.1.2   \n",
       "Exo10             127456780        20087518              4028     1.1.2   \n",
       "EV_rz              73924826        65059368             27220     1.1.2   \n",
       "HEK_rar            53364598        44398808            394084     1.1.2   \n",
       "TOB2_rz            61071552        55602434             24558     1.1.2   \n",
       "HEK_JC_rar         30050284        26049374            291952     1.1.2   \n",
       "RBM15_rz           57315334        52269764             38144     1.1.2   \n",
       "\n",
       "0             frac_circular  frac_mapped  \n",
       "##Sample                                  \n",
       "HEK_JC_rar11       0.020688     0.806381  \n",
       "Exo05              0.000195     0.132337  \n",
       "HEK_rar11          0.024048     0.826443  \n",
       "EV_rar11           0.024951     0.626390  \n",
       "TOB2_rar11         0.021215     0.802200  \n",
       "Exo10              0.000201     0.157603  \n",
       "EV_rz              0.000418     0.880075  \n",
       "HEK_rar            0.008876     0.831990  \n",
       "TOB2_rz            0.000442     0.910447  \n",
       "HEK_JC_rar         0.011208     0.866859  \n",
       "RBM15_rz           0.000730     0.911968  "
      ]
     },
     "execution_count": 10,
     "metadata": {},
     "output_type": "execute_result"
    }
   ],
   "source": [
    "stats_df"
   ]
  },
  {
   "cell_type": "code",
   "execution_count": 11,
   "id": "6aa35a79",
   "metadata": {},
   "outputs": [],
   "source": [
    "counts = pd.concat(circ_type_count, axis = 1)\n",
    "counts.columns = names"
   ]
  },
  {
   "cell_type": "code",
   "execution_count": 12,
   "id": "851f7287",
   "metadata": {},
   "outputs": [],
   "source": [
    "bsj = pd.concat(bsj_ratio_tbl, axis = 1)\n",
    "bsj.columns = names"
   ]
  },
  {
   "cell_type": "code",
   "execution_count": 13,
   "id": "74e27596",
   "metadata": {},
   "outputs": [],
   "source": [
    "fsj = pd.concat(fsj_ratio_tbl, axis = 1)\n",
    "fsj.columns = names"
   ]
  },
  {
   "cell_type": "code",
   "execution_count": 14,
   "id": "0055783c",
   "metadata": {},
   "outputs": [],
   "source": [
    "junc = pd.concat(junc_ratio_tbl, axis = 1)\n",
    "junc.columns = names"
   ]
  },
  {
   "cell_type": "code",
   "execution_count": 16,
   "id": "7186fbd4",
   "metadata": {},
   "outputs": [
    {
     "data": {
      "text/plain": [
       "Text(0.5, 0, '# circRNA detected')"
      ]
     },
     "execution_count": 16,
     "metadata": {},
     "output_type": "execute_result"
    },
    {
     "data": {
      "image/png": "[encoded data removed]",
      "text/plain": [
       "<Figure size 432x288 with 1 Axes>"
      ]
     },
     "metadata": {
      "needs_background": "light"
     },
     "output_type": "display_data"
    }
   ],
   "source": [
    "import matplotlib.pyplot as plt\n",
    "counts.T.sort_index().plot.barh(stacked = True)\n",
    "plt.xlabel('# circRNA detected')"
   ]
  },
  {
   "cell_type": "code",
   "execution_count": null,
   "id": "be0da7a8",
   "metadata": {},
   "outputs": [],
   "source": [
    "bsj.reindex(sorted(bsj.columns), axis=1).boxplot(showfliers=False, rot = 90)\n",
    "plt.ylabel('# reads supporting circRNA (bsj reads)')\n",
    "sns.despine()"
   ]
  },
  {
   "cell_type": "code",
   "execution_count": null,
   "id": "cb2501b5",
   "metadata": {},
   "outputs": [],
   "source": [
    "fsj.reindex(sorted(fsj.columns), axis=1).boxplot(showfliers=False, rot = 90)\n",
    "plt.ylabel('# reads supporting normal splicing (fsj reads)')\n",
    "sns.despine()"
   ]
  },
  {
   "cell_type": "code",
   "execution_count": null,
   "id": "cbdaaf3f",
   "metadata": {},
   "outputs": [],
   "source": [
    "((bsj.fillna(0)+1)/(fsj.fillna(0)+1)).boxplot(showfliers=False, rot = 90)\n",
    "plt.ylabel('(BSJ+1)/(FSJ+1)')"
   ]
  },
  {
   "cell_type": "code",
   "execution_count": null,
   "id": "979dabb1",
   "metadata": {},
   "outputs": [],
   "source": [
    "from pathlib import Path\n",
    "indir = Path('/home/hsher/scratch/circ_nextera/')\n",
    "indir2 = Path('/home/hsher/scratch/circ_truseq/')\n",
    "star_log1 = pd.read_csv(indir/'QC/genome_mapping_stats.csv')\n",
    "star_log2 = pd.read_csv(indir2/'QC/genome_mapping_stats.csv')\n",
    "star_log = pd.concat([star_log1, star_log2], axis = 0)\n",
    "star_log.index = star_log['STAR Log filename'].apply(lambda x: x.split('/')[-1].replace('.Log.final.out',''))\n",
    "star_log.sort_index(inplace = True)"
   ]
  },
  {
   "cell_type": "code",
   "execution_count": null,
   "id": "2a8e8027",
   "metadata": {},
   "outputs": [],
   "source": [
    "stats_df['frac_circular'].plot.barh(color = ['tomato' if 'rar' in index else 'royalblue' for index in star_log.index])\n",
    "plt.xlabel('fraction circular RNA reads')"
   ]
  },
  {
   "cell_type": "code",
   "execution_count": null,
   "id": "81a31805",
   "metadata": {},
   "outputs": [],
   "source": [
    "total_stat = pd.concat([stats_df,star_log], axis = 1)"
   ]
  },
  {
   "cell_type": "code",
   "execution_count": null,
   "id": "59d0fe83",
   "metadata": {},
   "outputs": [],
   "source": [
    "total_stat"
   ]
  },
  {
   "cell_type": "code",
   "execution_count": null,
   "id": "dd49c07c",
   "metadata": {},
   "outputs": [],
   "source": [
    "# let's find mapped to ribosomal RNA\n",
    "gencode_coords[0].attrs"
   ]
  },
  {
   "cell_type": "code",
   "execution_count": null,
   "id": "4c316c1f",
   "metadata": {},
   "outputs": [],
   "source": [
    "from pybedtools import BedTool\n",
    "gencode_coords = BedTool('/home/hsher/gencode_coords/gencode.v35.basic.annotation.gff3')\n",
    "rRNA_regions = gencode_coords.filter(lambda region: region[2]=='gene' and 'rRNA' in region.attrs['gene_type']).saveas()"
   ]
  },
  {
   "cell_type": "code",
   "execution_count": null,
   "id": "5aec7a54",
   "metadata": {},
   "outputs": [],
   "source": [
    "len(rRNA_regions)"
   ]
  },
  {
   "cell_type": "code",
   "execution_count": null,
   "id": "2225e84d",
   "metadata": {},
   "outputs": [],
   "source": [
    "len(rRNA_regions.merge(s = True)) # make sure no overlap"
   ]
  },
  {
   "cell_type": "code",
   "execution_count": null,
   "id": "d95964db",
   "metadata": {},
   "outputs": [],
   "source": [
    "genome_align_ciri_bams = list((indir / 'output'/'align').glob('*.bam'))\n",
    "genome_align_ciri_bams += list((indir2 / 'output'/'align').glob('*.bam'))\n"
   ]
  },
  {
   "cell_type": "code",
   "execution_count": null,
   "id": "c9ee6301",
   "metadata": {},
   "outputs": [],
   "source": [
    "genome_align_ciri_bams = [str(f) for f in genome_align_ciri_bams]"
   ]
  },
  {
   "cell_type": "code",
   "execution_count": null,
   "id": "32185e96",
   "metadata": {},
   "outputs": [],
   "source": [
    "rRNA_cov = rRNA_regions.multicov(bams = genome_align_ciri_bams, s = True) # strandedness = True, proper pair = True"
   ]
  },
  {
   "cell_type": "code",
   "execution_count": null,
   "id": "b7efc630",
   "metadata": {},
   "outputs": [],
   "source": [
    "libnames = [os.path.basename(f).split('.')[0] for f in genome_align_ciri_bams]\n",
    "rRNA_cov_df = rRNA_cov.to_dataframe(names = ['seqname', 'source', 'feature', 'start', 'end', 'score', 'strand', 'frame', 'attributes']+\n",
    "                                   libnames)"
   ]
  },
  {
   "cell_type": "code",
   "execution_count": null,
   "id": "cafbd876",
   "metadata": {},
   "outputs": [],
   "source": [
    "rRNA_cov_df.head()"
   ]
  },
  {
   "cell_type": "code",
   "execution_count": null,
   "id": "ca421e95",
   "metadata": {},
   "outputs": [],
   "source": [
    "rRNA_cov_df[libnames].sum()"
   ]
  },
  {
   "cell_type": "code",
   "execution_count": null,
   "id": "a178820f",
   "metadata": {},
   "outputs": [],
   "source": [
    "import pysam\n",
    "pysam.AlignmentFile(genome_align_ciri_bams[0]).mapped"
   ]
  },
  {
   "cell_type": "code",
   "execution_count": null,
   "id": "f5fed3ba",
   "metadata": {},
   "outputs": [],
   "source": [
    "genome_mapped = [pysam.AlignmentFile(f).mapped for f in genome_align_ciri_bams]"
   ]
  },
  {
   "cell_type": "code",
   "execution_count": null,
   "id": "1c67876a",
   "metadata": {},
   "outputs": [],
   "source": [
    "dict(zip(libnames, genome_mapped))"
   ]
  },
  {
   "cell_type": "code",
   "execution_count": null,
   "id": "61e1e395",
   "metadata": {},
   "outputs": [],
   "source": [
    "total_stat['genome_mapped_HISAT']=total_stat.index.map(dict(zip(libnames, genome_mapped))).tolist()"
   ]
  },
  {
   "cell_type": "code",
   "execution_count": null,
   "id": "c584098f",
   "metadata": {},
   "outputs": [],
   "source": [
    "total_stat.plot.scatter(x = '##Mapped_Reads', y = 'genome_mapped_HISAT')"
   ]
  },
  {
   "cell_type": "code",
   "execution_count": null,
   "id": "e0030fc5",
   "metadata": {},
   "outputs": [],
   "source": [
    "total_stat['genome_mapped_HISAT']"
   ]
  },
  {
   "cell_type": "code",
   "execution_count": null,
   "id": "5b905953",
   "metadata": {},
   "outputs": [],
   "source": [
    "total_stat[['Number of reads mapped to too many loci','##Mapped_Reads','##Circular_Reads']]"
   ]
  },
  {
   "cell_type": "code",
   "execution_count": null,
   "id": "54d30ff5",
   "metadata": {},
   "outputs": [],
   "source": [
    "(total_stat['Number of reads mapped to too many loci']/total_stat['##Mapped_Reads']).plot.barh(\n",
    "color = ['tomato' if 'rar' in index else 'royalblue' for index in star_log.index])\n",
    "\n",
    "plt.xlabel('STAR multimap / HISAT mapped')"
   ]
  },
  {
   "cell_type": "code",
   "execution_count": null,
   "id": "b617bece",
   "metadata": {},
   "outputs": [],
   "source": [
    "(total_stat['##Circular_Reads']/(total_stat['##Mapped_Reads']-total_stat['Number of reads mapped to too many loci'])).plot.barh(\n",
    "color = ['tomato' if 'rar' in index else 'royalblue' for index in star_log.index])\n",
    "\n",
    "plt.xlabel('estimated of circRNA fraction post Jumpcode removal')"
   ]
  },
  {
   "cell_type": "code",
   "execution_count": null,
   "id": "8e2f46d4",
   "metadata": {},
   "outputs": [],
   "source": [
    "(rRNA_cov_df[libnames].sum()/total_stat['genome_mapped_HISAT']).plot.barh(color = ['tomato' if 'rar' in index else 'royalblue' for index in star_log.index])\n",
    "plt.xlabel('% aligning to rRNA based on HISAT alignment')"
   ]
  },
  {
   "cell_type": "code",
   "execution_count": null,
   "id": "e093477a",
   "metadata": {},
   "outputs": [],
   "source": [
    "rRNA_cov_df[['gene_type', 'gene_name']]=rRNA_cov_df['attributes'].str.split(';', expand = True)[[2,3]]"
   ]
  },
  {
   "cell_type": "code",
   "execution_count": null,
   "id": "f1a67ec7",
   "metadata": {},
   "outputs": [],
   "source": [
    "rRNA_cov_df.groupby('gene_type')[libnames].sum()"
   ]
  },
  {
   "cell_type": "code",
   "execution_count": null,
   "id": "549dc5cd",
   "metadata": {},
   "outputs": [],
   "source": [
    "rRNA_cov_df.loc[rRNA_cov_df['gene_type']=='gene_type=rRNA']"
   ]
  },
  {
   "cell_type": "code",
   "execution_count": null,
   "id": "9ee285dc",
   "metadata": {},
   "outputs": [],
   "source": [
    "rRNA_cov_df.loc[rRNA_cov_df['gene_name'].str.contains('5S')]"
   ]
  },
  {
   "cell_type": "code",
   "execution_count": null,
   "id": "ed2012bb",
   "metadata": {},
   "outputs": [],
   "source": [
    "rRNA_cov_df['gene_name'].str.replace('gene_name=', '').unique()"
   ]
  },
  {
   "cell_type": "code",
   "execution_count": null,
   "id": "a00b8516",
   "metadata": {},
   "outputs": [],
   "source": [
    "rRNA_cov_df['gene_name']"
   ]
  },
  {
   "cell_type": "code",
   "execution_count": null,
   "id": "42d588f7",
   "metadata": {},
   "outputs": [],
   "source": [
    "total_stat.plot.scatter(x = '##Mapped_Reads', y = 'Uniquely mapped reads number')"
   ]
  }
 ],
 "metadata": {
  "kernelspec": {
   "display_name": "Metadensity",
   "language": "python",
   "name": "metadensity"
  },
  "language_info": {
   "codemirror_mode": {
    "name": "ipython",
    "version": 3
   },
   "file_extension": ".py",
   "mimetype": "text/x-python",
   "name": "python",
   "nbconvert_exporter": "python",
   "pygments_lexer": "ipython3",
   "version": "3.9.16"
  }
 },
 "nbformat": 4,
 "nbformat_minor": 5
}
