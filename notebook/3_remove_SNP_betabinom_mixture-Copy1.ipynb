{
 "cells": [
  {
   "cell_type": "code",
   "execution_count": 1,
   "id": "7870c35b-ae72-45bd-bb37-45d2b1de5293",
   "metadata": {
    "tags": []
   },
   "outputs": [
    {
     "name": "stderr",
     "output_type": "stream",
     "text": [
      "Loading required package: S4Vectors\n",
      "\n",
      "Loading required package: stats4\n",
      "\n",
      "Loading required package: BiocGenerics\n",
      "\n",
      "\n",
      "Attaching package: ‘BiocGenerics’\n",
      "\n",
      "\n",
      "The following objects are masked from ‘package:stats’:\n",
      "\n",
      "    IQR, mad, sd, var, xtabs\n",
      "\n",
      "\n",
      "The following objects are masked from ‘package:base’:\n",
      "\n",
      "    anyDuplicated, aperm, append, as.data.frame, basename, cbind,\n",
      "    colnames, dirname, do.call, duplicated, eval, evalq, Filter, Find,\n",
      "    get, grep, grepl, intersect, is.unsorted, lapply, Map, mapply,\n",
      "    match, mget, order, paste, pmax, pmax.int, pmin, pmin.int,\n",
      "    Position, rank, rbind, Reduce, rownames, sapply, setdiff, sort,\n",
      "    table, tapply, union, unique, unsplit, which.max, which.min\n",
      "\n",
      "\n",
      "\n",
      "Attaching package: ‘S4Vectors’\n",
      "\n",
      "\n",
      "The following objects are masked from ‘package:base’:\n",
      "\n",
      "    expand.grid, I, unname\n",
      "\n",
      "\n",
      "Loading required package: IRanges\n",
      "\n"
     ]
    }
   ],
   "source": [
    "library(DirichletMultinomial)"
   ]
  },
  {
   "cell_type": "code",
   "execution_count": 2,
   "id": "07a5addd-35e7-453e-ab42-76b71c4043e2",
   "metadata": {
    "tags": []
   },
   "outputs": [
    {
     "name": "stderr",
     "output_type": "stream",
     "text": [
      "── \u001b[1mAttaching packages\u001b[22m ─────────────────────────────────────── tidyverse 1.3.2 ──\n",
      "\u001b[32m✔\u001b[39m \u001b[34mggplot2\u001b[39m 3.4.0      \u001b[32m✔\u001b[39m \u001b[34mpurrr  \u001b[39m 0.3.5 \n",
      "\u001b[32m✔\u001b[39m \u001b[34mtibble \u001b[39m 3.1.8      \u001b[32m✔\u001b[39m \u001b[34mdplyr  \u001b[39m 1.0.10\n",
      "\u001b[32m✔\u001b[39m \u001b[34mtidyr  \u001b[39m 1.2.1      \u001b[32m✔\u001b[39m \u001b[34mstringr\u001b[39m 1.5.0 \n",
      "\u001b[32m✔\u001b[39m \u001b[34mreadr  \u001b[39m 2.1.3      \u001b[32m✔\u001b[39m \u001b[34mforcats\u001b[39m 0.5.2 \n",
      "── \u001b[1mConflicts\u001b[22m ────────────────────────────────────────── tidyverse_conflicts() ──\n",
      "\u001b[31m✖\u001b[39m \u001b[34mdplyr\u001b[39m::\u001b[32mcollapse()\u001b[39m   masks \u001b[34mIRanges\u001b[39m::collapse()\n",
      "\u001b[31m✖\u001b[39m \u001b[34mdplyr\u001b[39m::\u001b[32mcombine()\u001b[39m    masks \u001b[34mBiocGenerics\u001b[39m::combine()\n",
      "\u001b[31m✖\u001b[39m \u001b[34mdplyr\u001b[39m::\u001b[32mdesc()\u001b[39m       masks \u001b[34mIRanges\u001b[39m::desc()\n",
      "\u001b[31m✖\u001b[39m \u001b[34mtidyr\u001b[39m::\u001b[32mexpand()\u001b[39m     masks \u001b[34mS4Vectors\u001b[39m::expand()\n",
      "\u001b[31m✖\u001b[39m \u001b[34mdplyr\u001b[39m::\u001b[32mfilter()\u001b[39m     masks \u001b[34mstats\u001b[39m::filter()\n",
      "\u001b[31m✖\u001b[39m \u001b[34mdplyr\u001b[39m::\u001b[32mfirst()\u001b[39m      masks \u001b[34mS4Vectors\u001b[39m::first()\n",
      "\u001b[31m✖\u001b[39m \u001b[34mdplyr\u001b[39m::\u001b[32mlag()\u001b[39m        masks \u001b[34mstats\u001b[39m::lag()\n",
      "\u001b[31m✖\u001b[39m \u001b[34mggplot2\u001b[39m::\u001b[32mPosition()\u001b[39m masks \u001b[34mBiocGenerics\u001b[39m::Position(), \u001b[34mbase\u001b[39m::Position()\n",
      "\u001b[31m✖\u001b[39m \u001b[34mpurrr\u001b[39m::\u001b[32mreduce()\u001b[39m     masks \u001b[34mIRanges\u001b[39m::reduce()\n",
      "\u001b[31m✖\u001b[39m \u001b[34mdplyr\u001b[39m::\u001b[32mrename()\u001b[39m     masks \u001b[34mS4Vectors\u001b[39m::rename()\n",
      "\u001b[31m✖\u001b[39m \u001b[34mdplyr\u001b[39m::\u001b[32mslice()\u001b[39m      masks \u001b[34mIRanges\u001b[39m::slice()\n"
     ]
    }
   ],
   "source": [
    "library(tidyverse)"
   ]
  },
  {
   "cell_type": "code",
   "execution_count": 3,
   "id": "b837680f-71a5-40dc-a1cb-370c99bc8411",
   "metadata": {
    "tags": []
   },
   "outputs": [],
   "source": [
    "fname='/home/hsher/scratch/circ_nextera_iter2/output/edits/HEK_rar11.dp4.neg.vcf.aggregated.nonzero.tsv'"
   ]
  },
  {
   "cell_type": "code",
   "execution_count": null,
   "id": "b4f39cd7-c517-4e34-ac86-7ced5f76c1a0",
   "metadata": {},
   "outputs": [],
   "source": []
  },
  {
   "cell_type": "code",
   "execution_count": 4,
   "id": "8cfcd353-5f6a-4bed-8b17-a3ab7d88a7a2",
   "metadata": {
    "tags": []
   },
   "outputs": [
    {
     "name": "stderr",
     "output_type": "stream",
     "text": [
      "\u001b[1mRows: \u001b[22m\u001b[34m336580\u001b[39m \u001b[1mColumns: \u001b[22m\u001b[34m3\u001b[39m\n",
      "\u001b[36m──\u001b[39m \u001b[1mColumn specification\u001b[22m \u001b[36m────────────────────────────────────────────────────────\u001b[39m\n",
      "\u001b[1mDelimiter:\u001b[22m \"\\t\"\n",
      "\u001b[31mchr\u001b[39m (1): pos_id\n",
      "\u001b[32mdbl\u001b[39m (2): n_ref, n_alt\n",
      "\n",
      "\u001b[36mℹ\u001b[39m Use `spec()` to retrieve the full column specification for this data.\n",
      "\u001b[36mℹ\u001b[39m Specify the column types or set `show_col_types = FALSE` to quiet this message.\n"
     ]
    }
   ],
   "source": [
    "count_df = read_tsv(fname)"
   ]
  },
  {
   "cell_type": "code",
   "execution_count": 5,
   "id": "4b68555a-f9b9-4428-8153-83198ed8d344",
   "metadata": {
    "tags": []
   },
   "outputs": [],
   "source": [
    "nread=30\n",
    "count_df <- count_df[count_df$n_ref+count_df$n_alt>nread,]"
   ]
  },
  {
   "cell_type": "code",
   "execution_count": 6,
   "id": "0debcd22-59ff-4313-a9b7-b76b4cb08c5e",
   "metadata": {
    "tags": []
   },
   "outputs": [
    {
     "data": {
      "text/html": [
       "<table class=\"dataframe\">\n",
       "<caption>A tibble: 6 × 3</caption>\n",
       "<thead>\n",
       "\t<tr><th scope=col>pos_id</th><th scope=col>n_ref</th><th scope=col>n_alt</th></tr>\n",
       "\t<tr><th scope=col>&lt;chr&gt;</th><th scope=col>&lt;dbl&gt;</th><th scope=col>&lt;dbl&gt;</th></tr>\n",
       "</thead>\n",
       "<tbody>\n",
       "\t<tr><td>GL000195.1:46557|49119:1078</td><td>30</td><td> 1</td></tr>\n",
       "\t<tr><td>GL000195.1:46557|49119:1079</td><td>22</td><td>10</td></tr>\n",
       "\t<tr><td>GL000195.1:46557|49119:1736</td><td>25</td><td> 7</td></tr>\n",
       "\t<tr><td>GL000195.1:46557|49119:2525</td><td>67</td><td> 2</td></tr>\n",
       "\t<tr><td>GL000195.1:48444|49119:638 </td><td>69</td><td> 2</td></tr>\n",
       "\t<tr><td>GL000195.1:48955|66099:1050</td><td>92</td><td> 1</td></tr>\n",
       "</tbody>\n",
       "</table>\n"
      ],
      "text/latex": [
       "A tibble: 6 × 3\n",
       "\\begin{tabular}{lll}\n",
       " pos\\_id & n\\_ref & n\\_alt\\\\\n",
       " <chr> & <dbl> & <dbl>\\\\\n",
       "\\hline\n",
       "\t GL000195.1:46557\\textbar{}49119:1078 & 30 &  1\\\\\n",
       "\t GL000195.1:46557\\textbar{}49119:1079 & 22 & 10\\\\\n",
       "\t GL000195.1:46557\\textbar{}49119:1736 & 25 &  7\\\\\n",
       "\t GL000195.1:46557\\textbar{}49119:2525 & 67 &  2\\\\\n",
       "\t GL000195.1:48444\\textbar{}49119:638  & 69 &  2\\\\\n",
       "\t GL000195.1:48955\\textbar{}66099:1050 & 92 &  1\\\\\n",
       "\\end{tabular}\n"
      ],
      "text/markdown": [
       "\n",
       "A tibble: 6 × 3\n",
       "\n",
       "| pos_id &lt;chr&gt; | n_ref &lt;dbl&gt; | n_alt &lt;dbl&gt; |\n",
       "|---|---|---|\n",
       "| GL000195.1:46557|49119:1078 | 30 |  1 |\n",
       "| GL000195.1:46557|49119:1079 | 22 | 10 |\n",
       "| GL000195.1:46557|49119:1736 | 25 |  7 |\n",
       "| GL000195.1:46557|49119:2525 | 67 |  2 |\n",
       "| GL000195.1:48444|49119:638  | 69 |  2 |\n",
       "| GL000195.1:48955|66099:1050 | 92 |  1 |\n",
       "\n"
      ],
      "text/plain": [
       "  pos_id                      n_ref n_alt\n",
       "1 GL000195.1:46557|49119:1078 30     1   \n",
       "2 GL000195.1:46557|49119:1079 22    10   \n",
       "3 GL000195.1:46557|49119:1736 25     7   \n",
       "4 GL000195.1:46557|49119:2525 67     2   \n",
       "5 GL000195.1:48444|49119:638  69     2   \n",
       "6 GL000195.1:48955|66099:1050 92     1   "
      ]
     },
     "metadata": {},
     "output_type": "display_data"
    }
   ],
   "source": [
    "head(count_df)"
   ]
  },
  {
   "cell_type": "code",
   "execution_count": 7,
   "id": "16f3b74c-b1a0-4d6c-831d-e2b41089ca7a",
   "metadata": {
    "tags": []
   },
   "outputs": [],
   "source": [
    "count <- as.matrix(count_df[c('n_alt','n_ref')])"
   ]
  },
  {
   "cell_type": "code",
   "execution_count": null,
   "id": "0418b94d-18f4-48c2-a78e-f546562b7614",
   "metadata": {},
   "outputs": [],
   "source": []
  },
  {
   "cell_type": "code",
   "execution_count": 8,
   "id": "7d957b17-ef8c-43a2-a17b-394cb4d8ef82",
   "metadata": {
    "tags": []
   },
   "outputs": [],
   "source": [
    "full <- TRUE ### TODO: change to TRUE\n",
    "\n",
    "min_component = 1\n",
    "max_component = 5\n",
    "component_gap = 1\n",
    "comp_attempt = seq(min_component, max_component, component_gap)"
   ]
  },
  {
   "cell_type": "code",
   "execution_count": 9,
   "id": "ec497ef7-4386-4220-9093-17bce260241a",
   "metadata": {
    "tags": []
   },
   "outputs": [],
   "source": [
    "basedir='/home/hsher/scratch/circ_nextera_iter2_bbm'\n",
    "out_stem='HEK_rar11.dp4.neg'"
   ]
  },
  {
   "cell_type": "code",
   "execution_count": 10,
   "id": "96e24bb8-9932-4ce4-89e2-9de0a2d28419",
   "metadata": {
    "tags": []
   },
   "outputs": [
    {
     "name": "stderr",
     "output_type": "stream",
     "text": [
      "dmn, k=1\n",
      "\n"
     ]
    },
    {
     "name": "stdout",
     "output_type": "stream",
     "text": [
      "  Soft kmeans\n",
      "  Expectation Maximization setup\n",
      "  Expectation Maximization\n",
      "  Hessian\n"
     ]
    },
    {
     "name": "stderr",
     "output_type": "stream",
     "text": [
      "dmn, k=2\n",
      "\n"
     ]
    },
    {
     "name": "stdout",
     "output_type": "stream",
     "text": [
      "  Soft kmeans\n",
      "    iteration 10 change 0.001414\n",
      "  Expectation Maximization setup\n",
      "  Expectation Maximization\n",
      "    iteration 10 change 1.481516\n",
      "    iteration 20 change 0.000002\n",
      "  Hessian\n"
     ]
    },
    {
     "name": "stderr",
     "output_type": "stream",
     "text": [
      "dmn, k=3\n",
      "\n"
     ]
    },
    {
     "name": "stdout",
     "output_type": "stream",
     "text": [
      "  Soft kmeans\n",
      "    iteration 10 change 0.082312\n",
      "    iteration 20 change 0.003742\n",
      "    iteration 30 change 0.000087\n",
      "    iteration 40 change 0.000002\n",
      "  Expectation Maximization setup\n",
      "  Expectation Maximization\n",
      "    iteration 10 change 38.687126\n",
      "    iteration 20 change 0.666576\n",
      "    iteration 30 change 0.112624\n",
      "    iteration 40 change 0.036747\n",
      "    iteration 50 change 0.011618\n",
      "    iteration 60 change 0.003373\n",
      "    iteration 70 change 0.001006\n",
      "    iteration 80 change 0.001052\n",
      "    iteration 90 change 0.000543\n",
      "    iteration 100 change 0.000253\n",
      "  Hessian\n"
     ]
    },
    {
     "name": "stderr",
     "output_type": "stream",
     "text": [
      "dmn, k=4\n",
      "\n"
     ]
    },
    {
     "name": "stdout",
     "output_type": "stream",
     "text": [
      "  Soft kmeans\n",
      "    iteration 10 change 0.002882\n",
      "    iteration 20 change 0.000488\n",
      "    iteration 30 change 0.000159\n",
      "    iteration 40 change 0.000083\n",
      "    iteration 50 change 0.000050\n",
      "    iteration 60 change 0.000033\n",
      "    iteration 70 change 0.000023\n",
      "    iteration 80 change 0.000016\n",
      "    iteration 90 change 0.000012\n",
      "    iteration 100 change 0.000009\n",
      "    iteration 110 change 0.000007\n",
      "    iteration 120 change 0.000005\n",
      "    iteration 130 change 0.000004\n",
      "    iteration 140 change 0.000003\n",
      "    iteration 150 change 0.000002\n",
      "    iteration 160 change 0.000002\n",
      "    iteration 170 change 0.000001\n",
      "    iteration 180 change 0.000001\n",
      "  Expectation Maximization setup\n",
      "  Expectation Maximization\n",
      "    iteration 10 change 71.933119\n",
      "    iteration 20 change 34.890390\n",
      "    iteration 30 change 17.685148\n",
      "    iteration 40 change 6.647919\n",
      "    iteration 50 change 2.919519\n",
      "    iteration 60 change 1.184653\n",
      "    iteration 70 change 0.499747\n",
      "    iteration 80 change 0.214806\n",
      "    iteration 90 change 0.092922\n",
      "    iteration 100 change 0.061906\n",
      "  Hessian\n"
     ]
    },
    {
     "name": "stderr",
     "output_type": "stream",
     "text": [
      "dmn, k=5\n",
      "\n"
     ]
    },
    {
     "name": "stdout",
     "output_type": "stream",
     "text": [
      "  Soft kmeans\n",
      "    iteration 10 change 0.017381\n",
      "    iteration 20 change 0.010206\n",
      "    iteration 30 change 0.021749\n",
      "    iteration 40 change 0.009732\n",
      "    iteration 50 change 0.000359\n",
      "    iteration 60 change 0.000010\n",
      "  Expectation Maximization setup\n",
      "  Expectation Maximization\n",
      "    iteration 10 change 134.341086\n",
      "    iteration 20 change 84.684966\n",
      "    iteration 30 change 24.540595\n",
      "    iteration 40 change 7.778304\n",
      "    iteration 50 change 1.581434\n",
      "    iteration 60 change 0.258937\n",
      "    iteration 70 change 0.047809\n",
      "    iteration 80 change 0.012465\n",
      "    iteration 90 change 0.003294\n",
      "    iteration 100 change 0.007019\n",
      "  Hessian\n"
     ]
    }
   ],
   "source": [
    "library(parallel)\n",
    "\n",
    "if (full) {\n",
    "fit <- lapply(comp_attempt, dmn, count=count, verbose=TRUE)\n",
    "save(fit, file=file.path(basedir, paste0(out_stem, \".fit.rda\")))\n",
    "} else load(file = file.path(basedir, paste0(out_stem, \".fit.rda\")))\n"
   ]
  },
  {
   "cell_type": "code",
   "execution_count": 11,
   "id": "63163616-e40b-4c27-8410-c2d35fbd70c9",
   "metadata": {
    "tags": []
   },
   "outputs": [
    {
     "data": {
      "text/html": [
       "<strong>png:</strong> 2"
      ],
      "text/latex": [
       "\\textbf{png:} 2"
      ],
      "text/markdown": [
       "**png:** 2"
      ],
      "text/plain": [
       "png \n",
       "  2 "
      ]
     },
     "metadata": {},
     "output_type": "display_data"
    }
   ],
   "source": [
    "lplc <- sapply(fit, laplace)\n",
    "aic <- sapply(fit, AIC)\n",
    "bic <- sapply(fit, BIC)\n",
    " pdf(file.path(basedir, paste0(out_stem, \".goodness_of_fit.pdf\")))\n",
    " plot(aic, type=\"b\", xlab=\"Number of Dirichlet Components(k)\",ylab=\"AIC\")\n",
    " plot(bic, type=\"b\", xlab=\"Number of Dirichlet Components(k)\",ylab=\"BIC\")\n",
    " plot(lplc, type=\"b\", xlab=\"Number of Dirichlet Components(k)\",ylab=\"Model Fit(Laplace)\")\n",
    " dev.off()\n"
   ]
  },
  {
   "cell_type": "code",
   "execution_count": 12,
   "id": "8eba9408-e0c8-4c46-9143-cfcbe4008f65",
   "metadata": {
    "tags": []
   },
   "outputs": [
    {
     "data": {
      "text/plain": [
       "class: DMN \n",
       "k: 4 \n",
       "samples x taxa: 150703 x 2 \n",
       "Laplace: 316357.6 BIC: 316354.1 AIC: 316299.5 "
      ]
     },
     "metadata": {},
     "output_type": "display_data"
    }
   ],
   "source": [
    "\n",
    "  # find the best model: the DMN object\n",
    " (best <- fit[[which.min(bic)]])"
   ]
  },
  {
   "cell_type": "code",
   "execution_count": 13,
   "id": "4cef05c6-2f2e-4960-9570-6405188ae0ac",
   "metadata": {
    "tags": []
   },
   "outputs": [
    {
     "data": {
      "text/plain": [
       "class: DMN \n",
       "k: 4 \n",
       "samples x taxa: 150703 x 2 \n",
       "Laplace: 316357.6 BIC: 316354.1 AIC: 316299.5 "
      ]
     },
     "metadata": {},
     "output_type": "display_data"
    }
   ],
   "source": [
    "best"
   ]
  },
  {
   "cell_type": "code",
   "execution_count": 14,
   "id": "ee6b91bd-0b57-47a7-aba7-18634f8b49de",
   "metadata": {
    "tags": []
   },
   "outputs": [
    {
     "data": {
      "image/png": "[encoded data removed]",
      "text/plain": [
       "plot without title"
      ]
     },
     "metadata": {
      "image/png": {
       "height": 420,
       "width": 420
      }
     },
     "output_type": "display_data"
    }
   ],
   "source": [
    "plot(bic, type=\"b\", xlab=\"Number of Dirichlet Components(k)\",ylab=\"BIC\")"
   ]
  },
  {
   "cell_type": "code",
   "execution_count": 15,
   "id": "31c6e0b7-8b33-49dc-bb9e-9628c29f42a5",
   "metadata": {
    "tags": []
   },
   "outputs": [
    {
     "data": {
      "image/png": "[encoded data removed]",
      "text/plain": [
       "plot without title"
      ]
     },
     "metadata": {
      "image/png": {
       "height": 420,
       "width": 420
      }
     },
     "output_type": "display_data"
    }
   ],
   "source": [
    "plot(aic, type=\"b\", xlab=\"Number of Dirichlet Components(k)\",ylab=\"AIC\")"
   ]
  },
  {
   "cell_type": "code",
   "execution_count": 16,
   "id": "5ef242d8-115c-4aeb-a7bb-43ba5806b088",
   "metadata": {
    "tags": []
   },
   "outputs": [
    {
     "data": {
      "text/html": [
       "<table class=\"dataframe\">\n",
       "<caption>A matrix: 2 × 4 of type dbl</caption>\n",
       "<tbody>\n",
       "\t<tr><th scope=row>n_alt</th><td>0.007608416</td><td>0.03656959</td><td>0.3361296</td><td>0.9699678</td></tr>\n",
       "\t<tr><th scope=row>n_ref</th><td>0.992391584</td><td>0.96343041</td><td>0.6638704</td><td>0.0300322</td></tr>\n",
       "</tbody>\n",
       "</table>\n"
      ],
      "text/latex": [
       "A matrix: 2 × 4 of type dbl\n",
       "\\begin{tabular}{r|llll}\n",
       "\tn\\_alt & 0.007608416 & 0.03656959 & 0.3361296 & 0.9699678\\\\\n",
       "\tn\\_ref & 0.992391584 & 0.96343041 & 0.6638704 & 0.0300322\\\\\n",
       "\\end{tabular}\n"
      ],
      "text/markdown": [
       "\n",
       "A matrix: 2 × 4 of type dbl\n",
       "\n",
       "| n_alt | 0.007608416 | 0.03656959 | 0.3361296 | 0.9699678 |\n",
       "| n_ref | 0.992391584 | 0.96343041 | 0.6638704 | 0.0300322 |\n",
       "\n"
      ],
      "text/plain": [
       "      [,1]        [,2]       [,3]      [,4]     \n",
       "n_alt 0.007608416 0.03656959 0.3361296 0.9699678\n",
       "n_ref 0.992391584 0.96343041 0.6638704 0.0300322"
      ]
     },
     "metadata": {},
     "output_type": "display_data"
    }
   ],
   "source": [
    "fitted(best, scale = TRUE)"
   ]
  },
  {
   "cell_type": "code",
   "execution_count": 17,
   "id": "da6d4160-c092-4bc8-93d4-e0042b38224a",
   "metadata": {
    "tags": []
   },
   "outputs": [],
   "source": [
    "weights = mixturewt(best)"
   ]
  },
  {
   "cell_type": "code",
   "execution_count": 30,
   "id": "17ee3a88-a068-40ae-960a-f23df2d2f172",
   "metadata": {
    "tags": []
   },
   "outputs": [
    {
     "data": {
      "text/html": [
       "<table class=\"dataframe\">\n",
       "<caption>A matrix: 2 × 4 of type dbl</caption>\n",
       "<tbody>\n",
       "\t<tr><th scope=row>pi</th><td>   0.7857123</td><td> 0.1356313</td><td>0.05118156</td><td>0.02747485</td></tr>\n",
       "\t<tr><th scope=row>theta</th><td>3648.3899200</td><td>92.1146179</td><td>3.35606027</td><td>1.50220585</td></tr>\n",
       "</tbody>\n",
       "</table>\n"
      ],
      "text/latex": [
       "A matrix: 2 × 4 of type dbl\n",
       "\\begin{tabular}{r|llll}\n",
       "\tpi &    0.7857123 &  0.1356313 & 0.05118156 & 0.02747485\\\\\n",
       "\ttheta & 3648.3899200 & 92.1146179 & 3.35606027 & 1.50220585\\\\\n",
       "\\end{tabular}\n"
      ],
      "text/markdown": [
       "\n",
       "A matrix: 2 × 4 of type dbl\n",
       "\n",
       "| pi |    0.7857123 |  0.1356313 | 0.05118156 | 0.02747485 |\n",
       "| theta | 3648.3899200 | 92.1146179 | 3.35606027 | 1.50220585 |\n",
       "\n"
      ],
      "text/plain": [
       "      [,1]         [,2]       [,3]       [,4]      \n",
       "pi       0.7857123  0.1356313 0.05118156 0.02747485\n",
       "theta 3648.3899200 92.1146179 3.35606027 1.50220585"
      ]
     },
     "metadata": {},
     "output_type": "display_data"
    }
   ],
   "source": [
    "t(weights)"
   ]
  },
  {
   "cell_type": "code",
   "execution_count": 19,
   "id": "de95b1e7-ade1-4df8-9b2a-02e1663aa660",
   "metadata": {
    "tags": []
   },
   "outputs": [],
   "source": [
    "count_df['cluster']<-c(mixture(best, assign = TRUE))"
   ]
  },
  {
   "cell_type": "code",
   "execution_count": 20,
   "id": "1990bef5-7033-4ff9-996a-5e8fc1a7360d",
   "metadata": {
    "tags": []
   },
   "outputs": [
    {
     "data": {
      "text/html": [
       "<table class=\"dataframe\">\n",
       "<caption>A tibble: 150703 × 4</caption>\n",
       "<thead>\n",
       "\t<tr><th scope=col>pos_id</th><th scope=col>n_ref</th><th scope=col>n_alt</th><th scope=col>cluster</th></tr>\n",
       "\t<tr><th scope=col>&lt;chr&gt;</th><th scope=col>&lt;dbl&gt;</th><th scope=col>&lt;dbl&gt;</th><th scope=col>&lt;int&gt;</th></tr>\n",
       "</thead>\n",
       "<tbody>\n",
       "\t<tr><td>GL000195.1:46557|49119:1078  </td><td> 30</td><td> 1</td><td>1</td></tr>\n",
       "\t<tr><td>GL000195.1:46557|49119:1079  </td><td> 22</td><td>10</td><td>3</td></tr>\n",
       "\t<tr><td>GL000195.1:46557|49119:1736  </td><td> 25</td><td> 7</td><td>3</td></tr>\n",
       "\t<tr><td>GL000195.1:46557|49119:2525  </td><td> 67</td><td> 2</td><td>1</td></tr>\n",
       "\t<tr><td>GL000195.1:48444|49119:638   </td><td> 69</td><td> 2</td><td>1</td></tr>\n",
       "\t<tr><td>GL000195.1:48955|66099:1050  </td><td> 92</td><td> 1</td><td>1</td></tr>\n",
       "\t<tr><td>GL000195.1:48955|66099:127   </td><td>106</td><td> 1</td><td>1</td></tr>\n",
       "\t<tr><td>GL000195.1:48955|66099:980   </td><td> 26</td><td>11</td><td>3</td></tr>\n",
       "\t<tr><td>GL000195.1:48955|67302:1050  </td><td> 92</td><td> 2</td><td>1</td></tr>\n",
       "\t<tr><td>GL000195.1:48955|67302:127   </td><td>121</td><td> 1</td><td>1</td></tr>\n",
       "\t<tr><td>GL000195.1:48955|68450:1050  </td><td>108</td><td> 4</td><td>2</td></tr>\n",
       "\t<tr><td>GL000195.1:48955|68450:127   </td><td>138</td><td> 3</td><td>1</td></tr>\n",
       "\t<tr><td>GL000195.1:48955|68450:980   </td><td> 20</td><td>23</td><td>3</td></tr>\n",
       "\t<tr><td>GL000195.1:48955|79328:1050  </td><td>102</td><td> 2</td><td>1</td></tr>\n",
       "\t<tr><td>GL000195.1:48955|79328:127   </td><td>154</td><td> 2</td><td>1</td></tr>\n",
       "\t<tr><td>GL000195.1:48955|79328:25195 </td><td> 47</td><td> 9</td><td>3</td></tr>\n",
       "\t<tr><td>GL000195.1:48955|79328:28524 </td><td> 26</td><td> 9</td><td>3</td></tr>\n",
       "\t<tr><td>GL000195.1:48955|79328:29776 </td><td> 47</td><td> 4</td><td>2</td></tr>\n",
       "\t<tr><td>GL000195.1:48955|79328:29809 </td><td> 20</td><td>31</td><td>3</td></tr>\n",
       "\t<tr><td>GL000195.1:48955|79328:30172 </td><td> 83</td><td> 1</td><td>1</td></tr>\n",
       "\t<tr><td>GL000195.1:48955|79328:30267 </td><td> 66</td><td>64</td><td>3</td></tr>\n",
       "\t<tr><td>GL000195.1:48955|79328:30271 </td><td>113</td><td>22</td><td>3</td></tr>\n",
       "\t<tr><td>GL000195.1:48955|79328:30287 </td><td> 67</td><td>58</td><td>3</td></tr>\n",
       "\t<tr><td>GL000195.1:70492|74180:2565  </td><td> 31</td><td> 4</td><td>2</td></tr>\n",
       "\t<tr><td>GL000195.1:70492|74180:2711  </td><td> 43</td><td> 4</td><td>2</td></tr>\n",
       "\t<tr><td>GL000205.2:129551|136571:1143</td><td> 57</td><td> 3</td><td>2</td></tr>\n",
       "\t<tr><td>GL000205.2:129551|136571:1808</td><td> 33</td><td> 6</td><td>3</td></tr>\n",
       "\t<tr><td>GL000205.2:129551|136571:223 </td><td> 89</td><td>12</td><td>3</td></tr>\n",
       "\t<tr><td>GL000205.2:129551|136571:318 </td><td>121</td><td> 3</td><td>1</td></tr>\n",
       "\t<tr><td>GL000205.2:129551|136571:3203</td><td> 30</td><td> 4</td><td>2</td></tr>\n",
       "\t<tr><td>⋮</td><td>⋮</td><td>⋮</td><td>⋮</td></tr>\n",
       "\t<tr><td>chrX:73829068|73841476:12326</td><td>362</td><td>3</td><td>1</td></tr>\n",
       "\t<tr><td>chrX:73829068|73841476:1665 </td><td> 35</td><td>1</td><td>1</td></tr>\n",
       "\t<tr><td>chrX:73829068|73841476:2010 </td><td>229</td><td>2</td><td>1</td></tr>\n",
       "\t<tr><td>chrX:73829068|73841476:4237 </td><td>382</td><td>1</td><td>1</td></tr>\n",
       "\t<tr><td>chrX:73829068|73841476:4301 </td><td>400</td><td>1</td><td>1</td></tr>\n",
       "\t<tr><td>chrX:73829068|73841476:4364 </td><td> 40</td><td>1</td><td>1</td></tr>\n",
       "\t<tr><td>chrX:73829068|73841476:4792 </td><td> 89</td><td>1</td><td>1</td></tr>\n",
       "\t<tr><td>chrX:73829068|73841476:5230 </td><td> 81</td><td>1</td><td>1</td></tr>\n",
       "\t<tr><td>chrX:73829068|73841476:53   </td><td>331</td><td>1</td><td>1</td></tr>\n",
       "\t<tr><td>chrX:73829068|73841476:5419 </td><td> 61</td><td>1</td><td>1</td></tr>\n",
       "\t<tr><td>chrX:73829068|73841476:8648 </td><td> 43</td><td>1</td><td>1</td></tr>\n",
       "\t<tr><td>chrX:73829068|73841476:8801 </td><td> 57</td><td>1</td><td>1</td></tr>\n",
       "\t<tr><td>chrX:73829068|73841476:9898 </td><td> 36</td><td>1</td><td>1</td></tr>\n",
       "\t<tr><td>chrX:73829068|73841476:9908 </td><td> 33</td><td>2</td><td>2</td></tr>\n",
       "\t<tr><td>chrX:73830623|73841473:10821</td><td>121</td><td>1</td><td>1</td></tr>\n",
       "\t<tr><td>chrX:73830623|73841473:1294 </td><td> 80</td><td>1</td><td>1</td></tr>\n",
       "\t<tr><td>chrX:73830623|73841473:2746 </td><td>413</td><td>1</td><td>1</td></tr>\n",
       "\t<tr><td>chrX:73830623|73841473:3587 </td><td> 83</td><td>1</td><td>1</td></tr>\n",
       "\t<tr><td>chrX:73830623|73841473:3675 </td><td> 77</td><td>1</td><td>1</td></tr>\n",
       "\t<tr><td>chrX:73830623|73841473:455  </td><td>101</td><td>1</td><td>1</td></tr>\n",
       "\t<tr><td>chrX:73830623|73841473:7093 </td><td> 85</td><td>1</td><td>1</td></tr>\n",
       "\t<tr><td>chrX:73830623|73841473:7157 </td><td> 80</td><td>1</td><td>1</td></tr>\n",
       "\t<tr><td>chrX:73830623|73841473:7246 </td><td> 75</td><td>1</td><td>1</td></tr>\n",
       "\t<tr><td>chrX:73830623|73841473:7488 </td><td> 88</td><td>1</td><td>1</td></tr>\n",
       "\t<tr><td>chrX:73830623|73841473:8353 </td><td> 54</td><td>3</td><td>2</td></tr>\n",
       "\t<tr><td>chrX:74274342|74284948:6654 </td><td> 69</td><td>1</td><td>1</td></tr>\n",
       "\t<tr><td>chrX:84116229|84164387:3685 </td><td> 88</td><td>2</td><td>1</td></tr>\n",
       "\t<tr><td>chrX:84468472|84475397:526  </td><td> 44</td><td>1</td><td>1</td></tr>\n",
       "\t<tr><td>chrX:84468472|84475397:6792 </td><td>101</td><td>1</td><td>1</td></tr>\n",
       "\t<tr><td>chrX:96735758|96763120:22418</td><td>142</td><td>1</td><td>1</td></tr>\n",
       "</tbody>\n",
       "</table>\n"
      ],
      "text/latex": [
       "A tibble: 150703 × 4\n",
       "\\begin{tabular}{llll}\n",
       " pos\\_id & n\\_ref & n\\_alt & cluster\\\\\n",
       " <chr> & <dbl> & <dbl> & <int>\\\\\n",
       "\\hline\n",
       "\t GL000195.1:46557\\textbar{}49119:1078   &  30 &  1 & 1\\\\\n",
       "\t GL000195.1:46557\\textbar{}49119:1079   &  22 & 10 & 3\\\\\n",
       "\t GL000195.1:46557\\textbar{}49119:1736   &  25 &  7 & 3\\\\\n",
       "\t GL000195.1:46557\\textbar{}49119:2525   &  67 &  2 & 1\\\\\n",
       "\t GL000195.1:48444\\textbar{}49119:638    &  69 &  2 & 1\\\\\n",
       "\t GL000195.1:48955\\textbar{}66099:1050   &  92 &  1 & 1\\\\\n",
       "\t GL000195.1:48955\\textbar{}66099:127    & 106 &  1 & 1\\\\\n",
       "\t GL000195.1:48955\\textbar{}66099:980    &  26 & 11 & 3\\\\\n",
       "\t GL000195.1:48955\\textbar{}67302:1050   &  92 &  2 & 1\\\\\n",
       "\t GL000195.1:48955\\textbar{}67302:127    & 121 &  1 & 1\\\\\n",
       "\t GL000195.1:48955\\textbar{}68450:1050   & 108 &  4 & 2\\\\\n",
       "\t GL000195.1:48955\\textbar{}68450:127    & 138 &  3 & 1\\\\\n",
       "\t GL000195.1:48955\\textbar{}68450:980    &  20 & 23 & 3\\\\\n",
       "\t GL000195.1:48955\\textbar{}79328:1050   & 102 &  2 & 1\\\\\n",
       "\t GL000195.1:48955\\textbar{}79328:127    & 154 &  2 & 1\\\\\n",
       "\t GL000195.1:48955\\textbar{}79328:25195  &  47 &  9 & 3\\\\\n",
       "\t GL000195.1:48955\\textbar{}79328:28524  &  26 &  9 & 3\\\\\n",
       "\t GL000195.1:48955\\textbar{}79328:29776  &  47 &  4 & 2\\\\\n",
       "\t GL000195.1:48955\\textbar{}79328:29809  &  20 & 31 & 3\\\\\n",
       "\t GL000195.1:48955\\textbar{}79328:30172  &  83 &  1 & 1\\\\\n",
       "\t GL000195.1:48955\\textbar{}79328:30267  &  66 & 64 & 3\\\\\n",
       "\t GL000195.1:48955\\textbar{}79328:30271  & 113 & 22 & 3\\\\\n",
       "\t GL000195.1:48955\\textbar{}79328:30287  &  67 & 58 & 3\\\\\n",
       "\t GL000195.1:70492\\textbar{}74180:2565   &  31 &  4 & 2\\\\\n",
       "\t GL000195.1:70492\\textbar{}74180:2711   &  43 &  4 & 2\\\\\n",
       "\t GL000205.2:129551\\textbar{}136571:1143 &  57 &  3 & 2\\\\\n",
       "\t GL000205.2:129551\\textbar{}136571:1808 &  33 &  6 & 3\\\\\n",
       "\t GL000205.2:129551\\textbar{}136571:223  &  89 & 12 & 3\\\\\n",
       "\t GL000205.2:129551\\textbar{}136571:318  & 121 &  3 & 1\\\\\n",
       "\t GL000205.2:129551\\textbar{}136571:3203 &  30 &  4 & 2\\\\\n",
       "\t ⋮ & ⋮ & ⋮ & ⋮\\\\\n",
       "\t chrX:73829068\\textbar{}73841476:12326 & 362 & 3 & 1\\\\\n",
       "\t chrX:73829068\\textbar{}73841476:1665  &  35 & 1 & 1\\\\\n",
       "\t chrX:73829068\\textbar{}73841476:2010  & 229 & 2 & 1\\\\\n",
       "\t chrX:73829068\\textbar{}73841476:4237  & 382 & 1 & 1\\\\\n",
       "\t chrX:73829068\\textbar{}73841476:4301  & 400 & 1 & 1\\\\\n",
       "\t chrX:73829068\\textbar{}73841476:4364  &  40 & 1 & 1\\\\\n",
       "\t chrX:73829068\\textbar{}73841476:4792  &  89 & 1 & 1\\\\\n",
       "\t chrX:73829068\\textbar{}73841476:5230  &  81 & 1 & 1\\\\\n",
       "\t chrX:73829068\\textbar{}73841476:53    & 331 & 1 & 1\\\\\n",
       "\t chrX:73829068\\textbar{}73841476:5419  &  61 & 1 & 1\\\\\n",
       "\t chrX:73829068\\textbar{}73841476:8648  &  43 & 1 & 1\\\\\n",
       "\t chrX:73829068\\textbar{}73841476:8801  &  57 & 1 & 1\\\\\n",
       "\t chrX:73829068\\textbar{}73841476:9898  &  36 & 1 & 1\\\\\n",
       "\t chrX:73829068\\textbar{}73841476:9908  &  33 & 2 & 2\\\\\n",
       "\t chrX:73830623\\textbar{}73841473:10821 & 121 & 1 & 1\\\\\n",
       "\t chrX:73830623\\textbar{}73841473:1294  &  80 & 1 & 1\\\\\n",
       "\t chrX:73830623\\textbar{}73841473:2746  & 413 & 1 & 1\\\\\n",
       "\t chrX:73830623\\textbar{}73841473:3587  &  83 & 1 & 1\\\\\n",
       "\t chrX:73830623\\textbar{}73841473:3675  &  77 & 1 & 1\\\\\n",
       "\t chrX:73830623\\textbar{}73841473:455   & 101 & 1 & 1\\\\\n",
       "\t chrX:73830623\\textbar{}73841473:7093  &  85 & 1 & 1\\\\\n",
       "\t chrX:73830623\\textbar{}73841473:7157  &  80 & 1 & 1\\\\\n",
       "\t chrX:73830623\\textbar{}73841473:7246  &  75 & 1 & 1\\\\\n",
       "\t chrX:73830623\\textbar{}73841473:7488  &  88 & 1 & 1\\\\\n",
       "\t chrX:73830623\\textbar{}73841473:8353  &  54 & 3 & 2\\\\\n",
       "\t chrX:74274342\\textbar{}74284948:6654  &  69 & 1 & 1\\\\\n",
       "\t chrX:84116229\\textbar{}84164387:3685  &  88 & 2 & 1\\\\\n",
       "\t chrX:84468472\\textbar{}84475397:526   &  44 & 1 & 1\\\\\n",
       "\t chrX:84468472\\textbar{}84475397:6792  & 101 & 1 & 1\\\\\n",
       "\t chrX:96735758\\textbar{}96763120:22418 & 142 & 1 & 1\\\\\n",
       "\\end{tabular}\n"
      ],
      "text/markdown": [
       "\n",
       "A tibble: 150703 × 4\n",
       "\n",
       "| pos_id &lt;chr&gt; | n_ref &lt;dbl&gt; | n_alt &lt;dbl&gt; | cluster &lt;int&gt; |\n",
       "|---|---|---|---|\n",
       "| GL000195.1:46557|49119:1078   |  30 |  1 | 1 |\n",
       "| GL000195.1:46557|49119:1079   |  22 | 10 | 3 |\n",
       "| GL000195.1:46557|49119:1736   |  25 |  7 | 3 |\n",
       "| GL000195.1:46557|49119:2525   |  67 |  2 | 1 |\n",
       "| GL000195.1:48444|49119:638    |  69 |  2 | 1 |\n",
       "| GL000195.1:48955|66099:1050   |  92 |  1 | 1 |\n",
       "| GL000195.1:48955|66099:127    | 106 |  1 | 1 |\n",
       "| GL000195.1:48955|66099:980    |  26 | 11 | 3 |\n",
       "| GL000195.1:48955|67302:1050   |  92 |  2 | 1 |\n",
       "| GL000195.1:48955|67302:127    | 121 |  1 | 1 |\n",
       "| GL000195.1:48955|68450:1050   | 108 |  4 | 2 |\n",
       "| GL000195.1:48955|68450:127    | 138 |  3 | 1 |\n",
       "| GL000195.1:48955|68450:980    |  20 | 23 | 3 |\n",
       "| GL000195.1:48955|79328:1050   | 102 |  2 | 1 |\n",
       "| GL000195.1:48955|79328:127    | 154 |  2 | 1 |\n",
       "| GL000195.1:48955|79328:25195  |  47 |  9 | 3 |\n",
       "| GL000195.1:48955|79328:28524  |  26 |  9 | 3 |\n",
       "| GL000195.1:48955|79328:29776  |  47 |  4 | 2 |\n",
       "| GL000195.1:48955|79328:29809  |  20 | 31 | 3 |\n",
       "| GL000195.1:48955|79328:30172  |  83 |  1 | 1 |\n",
       "| GL000195.1:48955|79328:30267  |  66 | 64 | 3 |\n",
       "| GL000195.1:48955|79328:30271  | 113 | 22 | 3 |\n",
       "| GL000195.1:48955|79328:30287  |  67 | 58 | 3 |\n",
       "| GL000195.1:70492|74180:2565   |  31 |  4 | 2 |\n",
       "| GL000195.1:70492|74180:2711   |  43 |  4 | 2 |\n",
       "| GL000205.2:129551|136571:1143 |  57 |  3 | 2 |\n",
       "| GL000205.2:129551|136571:1808 |  33 |  6 | 3 |\n",
       "| GL000205.2:129551|136571:223  |  89 | 12 | 3 |\n",
       "| GL000205.2:129551|136571:318  | 121 |  3 | 1 |\n",
       "| GL000205.2:129551|136571:3203 |  30 |  4 | 2 |\n",
       "| ⋮ | ⋮ | ⋮ | ⋮ |\n",
       "| chrX:73829068|73841476:12326 | 362 | 3 | 1 |\n",
       "| chrX:73829068|73841476:1665  |  35 | 1 | 1 |\n",
       "| chrX:73829068|73841476:2010  | 229 | 2 | 1 |\n",
       "| chrX:73829068|73841476:4237  | 382 | 1 | 1 |\n",
       "| chrX:73829068|73841476:4301  | 400 | 1 | 1 |\n",
       "| chrX:73829068|73841476:4364  |  40 | 1 | 1 |\n",
       "| chrX:73829068|73841476:4792  |  89 | 1 | 1 |\n",
       "| chrX:73829068|73841476:5230  |  81 | 1 | 1 |\n",
       "| chrX:73829068|73841476:53    | 331 | 1 | 1 |\n",
       "| chrX:73829068|73841476:5419  |  61 | 1 | 1 |\n",
       "| chrX:73829068|73841476:8648  |  43 | 1 | 1 |\n",
       "| chrX:73829068|73841476:8801  |  57 | 1 | 1 |\n",
       "| chrX:73829068|73841476:9898  |  36 | 1 | 1 |\n",
       "| chrX:73829068|73841476:9908  |  33 | 2 | 2 |\n",
       "| chrX:73830623|73841473:10821 | 121 | 1 | 1 |\n",
       "| chrX:73830623|73841473:1294  |  80 | 1 | 1 |\n",
       "| chrX:73830623|73841473:2746  | 413 | 1 | 1 |\n",
       "| chrX:73830623|73841473:3587  |  83 | 1 | 1 |\n",
       "| chrX:73830623|73841473:3675  |  77 | 1 | 1 |\n",
       "| chrX:73830623|73841473:455   | 101 | 1 | 1 |\n",
       "| chrX:73830623|73841473:7093  |  85 | 1 | 1 |\n",
       "| chrX:73830623|73841473:7157  |  80 | 1 | 1 |\n",
       "| chrX:73830623|73841473:7246  |  75 | 1 | 1 |\n",
       "| chrX:73830623|73841473:7488  |  88 | 1 | 1 |\n",
       "| chrX:73830623|73841473:8353  |  54 | 3 | 2 |\n",
       "| chrX:74274342|74284948:6654  |  69 | 1 | 1 |\n",
       "| chrX:84116229|84164387:3685  |  88 | 2 | 1 |\n",
       "| chrX:84468472|84475397:526   |  44 | 1 | 1 |\n",
       "| chrX:84468472|84475397:6792  | 101 | 1 | 1 |\n",
       "| chrX:96735758|96763120:22418 | 142 | 1 | 1 |\n",
       "\n"
      ],
      "text/plain": [
       "       pos_id                        n_ref n_alt cluster\n",
       "1      GL000195.1:46557|49119:1078    30    1    1      \n",
       "2      GL000195.1:46557|49119:1079    22   10    3      \n",
       "3      GL000195.1:46557|49119:1736    25    7    3      \n",
       "4      GL000195.1:46557|49119:2525    67    2    1      \n",
       "5      GL000195.1:48444|49119:638     69    2    1      \n",
       "6      GL000195.1:48955|66099:1050    92    1    1      \n",
       "7      GL000195.1:48955|66099:127    106    1    1      \n",
       "8      GL000195.1:48955|66099:980     26   11    3      \n",
       "9      GL000195.1:48955|67302:1050    92    2    1      \n",
       "10     GL000195.1:48955|67302:127    121    1    1      \n",
       "11     GL000195.1:48955|68450:1050   108    4    2      \n",
       "12     GL000195.1:48955|68450:127    138    3    1      \n",
       "13     GL000195.1:48955|68450:980     20   23    3      \n",
       "14     GL000195.1:48955|79328:1050   102    2    1      \n",
       "15     GL000195.1:48955|79328:127    154    2    1      \n",
       "16     GL000195.1:48955|79328:25195   47    9    3      \n",
       "17     GL000195.1:48955|79328:28524   26    9    3      \n",
       "18     GL000195.1:48955|79328:29776   47    4    2      \n",
       "19     GL000195.1:48955|79328:29809   20   31    3      \n",
       "20     GL000195.1:48955|79328:30172   83    1    1      \n",
       "21     GL000195.1:48955|79328:30267   66   64    3      \n",
       "22     GL000195.1:48955|79328:30271  113   22    3      \n",
       "23     GL000195.1:48955|79328:30287   67   58    3      \n",
       "24     GL000195.1:70492|74180:2565    31    4    2      \n",
       "25     GL000195.1:70492|74180:2711    43    4    2      \n",
       "26     GL000205.2:129551|136571:1143  57    3    2      \n",
       "27     GL000205.2:129551|136571:1808  33    6    3      \n",
       "28     GL000205.2:129551|136571:223   89   12    3      \n",
       "29     GL000205.2:129551|136571:318  121    3    1      \n",
       "30     GL000205.2:129551|136571:3203  30    4    2      \n",
       "⋮      ⋮                             ⋮     ⋮     ⋮      \n",
       "150674 chrX:73829068|73841476:12326  362   3     1      \n",
       "150675 chrX:73829068|73841476:1665    35   1     1      \n",
       "150676 chrX:73829068|73841476:2010   229   2     1      \n",
       "150677 chrX:73829068|73841476:4237   382   1     1      \n",
       "150678 chrX:73829068|73841476:4301   400   1     1      \n",
       "150679 chrX:73829068|73841476:4364    40   1     1      \n",
       "150680 chrX:73829068|73841476:4792    89   1     1      \n",
       "150681 chrX:73829068|73841476:5230    81   1     1      \n",
       "150682 chrX:73829068|73841476:53     331   1     1      \n",
       "150683 chrX:73829068|73841476:5419    61   1     1      \n",
       "150684 chrX:73829068|73841476:8648    43   1     1      \n",
       "150685 chrX:73829068|73841476:8801    57   1     1      \n",
       "150686 chrX:73829068|73841476:9898    36   1     1      \n",
       "150687 chrX:73829068|73841476:9908    33   2     2      \n",
       "150688 chrX:73830623|73841473:10821  121   1     1      \n",
       "150689 chrX:73830623|73841473:1294    80   1     1      \n",
       "150690 chrX:73830623|73841473:2746   413   1     1      \n",
       "150691 chrX:73830623|73841473:3587    83   1     1      \n",
       "150692 chrX:73830623|73841473:3675    77   1     1      \n",
       "150693 chrX:73830623|73841473:455    101   1     1      \n",
       "150694 chrX:73830623|73841473:7093    85   1     1      \n",
       "150695 chrX:73830623|73841473:7157    80   1     1      \n",
       "150696 chrX:73830623|73841473:7246    75   1     1      \n",
       "150697 chrX:73830623|73841473:7488    88   1     1      \n",
       "150698 chrX:73830623|73841473:8353    54   3     2      \n",
       "150699 chrX:74274342|74284948:6654    69   1     1      \n",
       "150700 chrX:84116229|84164387:3685    88   2     1      \n",
       "150701 chrX:84468472|84475397:526     44   1     1      \n",
       "150702 chrX:84468472|84475397:6792   101   1     1      \n",
       "150703 chrX:96735758|96763120:22418  142   1     1      "
      ]
     },
     "metadata": {},
     "output_type": "display_data"
    }
   ],
   "source": [
    "count_df"
   ]
  },
  {
   "cell_type": "code",
   "execution_count": 31,
   "id": "b642f3ce-a5f8-4759-b414-f4a7669f7d4b",
   "metadata": {
    "tags": []
   },
   "outputs": [
    {
     "name": "stderr",
     "output_type": "stream",
     "text": [
      "\u001b[1mRows: \u001b[22m\u001b[34m247011\u001b[39m \u001b[1mColumns: \u001b[22m\u001b[34m3\u001b[39m\n",
      "\u001b[36m──\u001b[39m \u001b[1mColumn specification\u001b[22m \u001b[36m────────────────────────────────────────────────────────\u001b[39m\n",
      "\u001b[1mDelimiter:\u001b[22m \"\\t\"\n",
      "\u001b[31mchr\u001b[39m (1): pos_id\n",
      "\u001b[32mdbl\u001b[39m (2): n_ref, n_alt\n",
      "\n",
      "\u001b[36mℹ\u001b[39m Use `spec()` to retrieve the full column specification for this data.\n",
      "\u001b[36mℹ\u001b[39m Specify the column types or set `show_col_types = FALSE` to quiet this message.\n",
      "\u001b[1mRows: \u001b[22m\u001b[34m338572\u001b[39m \u001b[1mColumns: \u001b[22m\u001b[34m3\u001b[39m\n",
      "\u001b[36m──\u001b[39m \u001b[1mColumn specification\u001b[22m \u001b[36m────────────────────────────────────────────────────────\u001b[39m\n",
      "\u001b[1mDelimiter:\u001b[22m \"\\t\"\n",
      "\u001b[31mchr\u001b[39m (1): pos_id\n",
      "\u001b[32mdbl\u001b[39m (2): n_ref, n_alt\n",
      "\n",
      "\u001b[36mℹ\u001b[39m Use `spec()` to retrieve the full column specification for this data.\n",
      "\u001b[36mℹ\u001b[39m Specify the column types or set `show_col_types = FALSE` to quiet this message.\n",
      "\u001b[1mRows: \u001b[22m\u001b[34m535399\u001b[39m \u001b[1mColumns: \u001b[22m\u001b[34m3\u001b[39m\n",
      "\u001b[36m──\u001b[39m \u001b[1mColumn specification\u001b[22m \u001b[36m────────────────────────────────────────────────────────\u001b[39m\n",
      "\u001b[1mDelimiter:\u001b[22m \"\\t\"\n",
      "\u001b[31mchr\u001b[39m (1): pos_id\n",
      "\u001b[32mdbl\u001b[39m (2): n_ref, n_alt\n",
      "\n",
      "\u001b[36mℹ\u001b[39m Use `spec()` to retrieve the full column specification for this data.\n",
      "\u001b[36mℹ\u001b[39m Specify the column types or set `show_col_types = FALSE` to quiet this message.\n"
     ]
    }
   ],
   "source": [
    "\n",
    "hek2='/home/hsher/scratch/circ_nextera/output/edits/circseq-bm-rar11-nxt.dp4.neg.vcf.aggregated.nonzero.tsv'\n",
    "hek2_df = read_tsv(hek2)\n",
    "\n",
    "apo='/home/hsher/scratch/circ_nextera_iter13/output/edits/APOBEC1only.dp4.neg.vcf.aggregated.nonzero.tsv'\n",
    "apo_df = read_tsv(apo)\n",
    "\n",
    "yth='/home/hsher/scratch/circ_nextera_iter13/output/edits/YTHDF2_STAMP.dp4.neg.vcf.aggregated.nonzero.tsv'\n",
    "yth_df = read_tsv(yth)"
   ]
  },
  {
   "cell_type": "code",
   "execution_count": 33,
   "id": "d3bdd1df-5f74-47c3-95fb-73af8e64c7e0",
   "metadata": {
    "tags": []
   },
   "outputs": [],
   "source": [
    "#count_df['is_in_hek293']=count_df$pos_id %in% c(hek_df$pos_id)\n",
    "count_df['is_in_hek293_2']=count_df$pos_id %in% c(hek2_df$pos_id)\n",
    "count_df['is_in_APOBEC']=count_df$pos_id %in% c(apo_df$pos_id)\n",
    "count_df['is_in_YTHDF2_STAMP']=count_df$pos_id %in% c(yth_df$pos_id)"
   ]
  },
  {
   "cell_type": "code",
   "execution_count": 23,
   "id": "c09f7039-d236-4b62-9c24-57b46e609def",
   "metadata": {
    "tags": []
   },
   "outputs": [
    {
     "data": {
      "text/html": [
       "7869"
      ],
      "text/latex": [
       "7869"
      ],
      "text/markdown": [
       "7869"
      ],
      "text/plain": [
       "[1] 7869"
      ]
     },
     "metadata": {},
     "output_type": "display_data"
    }
   ],
   "source": [
    "sum(count_df$is_in_hek293_2)"
   ]
  },
  {
   "cell_type": "code",
   "execution_count": 34,
   "id": "6a766333-dcbd-4aa4-a21c-b23aa92033a8",
   "metadata": {
    "tags": []
   },
   "outputs": [
    {
     "data": {
      "text/html": [
       "<table class=\"dataframe\">\n",
       "<caption>A data.frame: 4 × 4</caption>\n",
       "<thead>\n",
       "\t<tr><th scope=col>Group.1</th><th scope=col>is_in_hek293_2</th><th scope=col>is_in_APOBEC</th><th scope=col>is_in_YTHDF2_STAMP</th></tr>\n",
       "\t<tr><th scope=col>&lt;int&gt;</th><th scope=col>&lt;dbl&gt;</th><th scope=col>&lt;dbl&gt;</th><th scope=col>&lt;dbl&gt;</th></tr>\n",
       "</thead>\n",
       "<tbody>\n",
       "\t<tr><td>1</td><td>0.02684475</td><td>0.01829017</td><td>0.02960304</td></tr>\n",
       "\t<tr><td>2</td><td>0.07318979</td><td>0.02014239</td><td>0.03924292</td></tr>\n",
       "\t<tr><td>3</td><td>0.30300273</td><td>0.18471338</td><td>0.23051259</td></tr>\n",
       "\t<tr><td>4</td><td>0.40457819</td><td>0.29706790</td><td>0.32278807</td></tr>\n",
       "</tbody>\n",
       "</table>\n"
      ],
      "text/latex": [
       "A data.frame: 4 × 4\n",
       "\\begin{tabular}{llll}\n",
       " Group.1 & is\\_in\\_hek293\\_2 & is\\_in\\_APOBEC & is\\_in\\_YTHDF2\\_STAMP\\\\\n",
       " <int> & <dbl> & <dbl> & <dbl>\\\\\n",
       "\\hline\n",
       "\t 1 & 0.02684475 & 0.01829017 & 0.02960304\\\\\n",
       "\t 2 & 0.07318979 & 0.02014239 & 0.03924292\\\\\n",
       "\t 3 & 0.30300273 & 0.18471338 & 0.23051259\\\\\n",
       "\t 4 & 0.40457819 & 0.29706790 & 0.32278807\\\\\n",
       "\\end{tabular}\n"
      ],
      "text/markdown": [
       "\n",
       "A data.frame: 4 × 4\n",
       "\n",
       "| Group.1 &lt;int&gt; | is_in_hek293_2 &lt;dbl&gt; | is_in_APOBEC &lt;dbl&gt; | is_in_YTHDF2_STAMP &lt;dbl&gt; |\n",
       "|---|---|---|---|\n",
       "| 1 | 0.02684475 | 0.01829017 | 0.02960304 |\n",
       "| 2 | 0.07318979 | 0.02014239 | 0.03924292 |\n",
       "| 3 | 0.30300273 | 0.18471338 | 0.23051259 |\n",
       "| 4 | 0.40457819 | 0.29706790 | 0.32278807 |\n",
       "\n"
      ],
      "text/plain": [
       "  Group.1 is_in_hek293_2 is_in_APOBEC is_in_YTHDF2_STAMP\n",
       "1 1       0.02684475     0.01829017   0.02960304        \n",
       "2 2       0.07318979     0.02014239   0.03924292        \n",
       "3 3       0.30300273     0.18471338   0.23051259        \n",
       "4 4       0.40457819     0.29706790   0.32278807        "
      ]
     },
     "metadata": {},
     "output_type": "display_data"
    }
   ],
   "source": [
    "aggregate(count_df[, c('is_in_hek293_2','is_in_APOBEC','is_in_YTHDF2_STAMP')], list(count_df$cluster), mean)"
   ]
  },
  {
   "cell_type": "code",
   "execution_count": 25,
   "id": "4ca7ae88-5e16-45b3-b1f9-864114992a3c",
   "metadata": {
    "tags": []
   },
   "outputs": [
    {
     "name": "stderr",
     "output_type": "stream",
     "text": [
      "Warning message:\n",
      "“Unknown or uninitialised column: `is_in_hek293`.”\n"
     ]
    },
    {
     "data": {
      "text/html": [
       "0"
      ],
      "text/latex": [
       "0"
      ],
      "text/markdown": [
       "0"
      ],
      "text/plain": [
       "[1] 0"
      ]
     },
     "metadata": {},
     "output_type": "display_data"
    }
   ],
   "source": [
    "sum(count_df[count_df$is_in_hek293, c('n_ref')])"
   ]
  },
  {
   "cell_type": "code",
   "execution_count": 26,
   "id": "73dea2b4-2813-4ec1-b48f-7f402f99f7b8",
   "metadata": {
    "tags": []
   },
   "outputs": [
    {
     "name": "stderr",
     "output_type": "stream",
     "text": [
      "Warning message:\n",
      "“Unknown or uninitialised column: `is_in_hek293`.”\n"
     ]
    },
    {
     "data": {
      "text/html": [
       "0"
      ],
      "text/latex": [
       "0"
      ],
      "text/markdown": [
       "0"
      ],
      "text/plain": [
       "[1] 0"
      ]
     },
     "metadata": {},
     "output_type": "display_data"
    }
   ],
   "source": [
    "sum(count_df[count_df$is_in_hek293, c('n_alt')])"
   ]
  },
  {
   "cell_type": "code",
   "execution_count": 27,
   "id": "01e5ca46-4049-4c60-b129-47317d1a2924",
   "metadata": {
    "tags": []
   },
   "outputs": [
    {
     "data": {
      "text/html": [
       "0.133181789140603"
      ],
      "text/latex": [
       "0.133181789140603"
      ],
      "text/markdown": [
       "0.133181789140603"
      ],
      "text/plain": [
       "[1] 0.1331818"
      ]
     },
     "metadata": {},
     "output_type": "display_data"
    }
   ],
   "source": [
    "39606/297383"
   ]
  }
 ],
 "metadata": {
  "kernelspec": {
   "display_name": "DMN",
   "language": "R",
   "name": "dmn"
  },
  "language_info": {
   "codemirror_mode": "r",
   "file_extension": ".r",
   "mimetype": "text/x-r-source",
   "name": "R",
   "pygments_lexer": "r",
   "version": "4.2.2"
  }
 },
 "nbformat": 4,
 "nbformat_minor": 5
}
