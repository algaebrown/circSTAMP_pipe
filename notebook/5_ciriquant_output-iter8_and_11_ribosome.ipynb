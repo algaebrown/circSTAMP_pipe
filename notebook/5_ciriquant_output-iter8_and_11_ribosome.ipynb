{
 "cells": [
  {
   "cell_type": "markdown",
   "id": "31ddc3a0-b938-4c6c-9504-7ed2b2ed3df4",
   "metadata": {},
   "source": [
    "# Analyze IGF2BP2 RIP in circles\n",
    "- iteration 6: only 1 replicate\n",
    "- iteration 10: 3 replicates\n",
    "\n",
    "# Basic Statistics"
   ]
  },
  {
   "cell_type": "code",
   "execution_count": 1,
   "id": "b19e0dfd",
   "metadata": {},
   "outputs": [],
   "source": [
    "import os\n",
    "from pybedtools import BedTool\n",
    "import pandas as pd\n",
    "import seaborn as sns\n",
    "from plot_params import *\n",
    "import matplotlib.pyplot as plt\n",
    "import numpy as np\n",
    "from sklearn.metrics import precision_recall_curve\n",
    "from matplotlib_venn import venn2\n",
    "\n",
    "\n",
    "indir1 = '/home/hsher/scratch/circ_nextera_iter8/output/'\n",
    "circ_quant_output = [os.path.join(indir1,f) for f in os.listdir(indir1) if f.endswith('.gtf')]\n",
    "\n",
    "# the basic rar11 recipe\n",
    "indir = '/home/hsher/scratch/circ_nextera_iter2/output/'\n",
    "circ_quant_output += [os.path.join(indir,f) for f in os.listdir(indir) if f.endswith('.gtf') \n",
    "                      and f.startswith('HEK_rar11')]\n",
    "\n",
    "indir2 = '/home/hsher/scratch/circ_nextera_iter11/output/'\n",
    "circ_quant_output += [os.path.join(indir2,f) for f in os.listdir(indir2) if f.endswith('.gtf')]\n"
   ]
  },
  {
   "cell_type": "code",
   "execution_count": 2,
   "id": "73be78e8",
   "metadata": {},
   "outputs": [],
   "source": [
    "def read_ciri_gtf(fname):\n",
    "    bed = BedTool(fname)\n",
    "    df = bed.to_dataframe()\n",
    "    # filter for non-entries\n",
    "    stat = df.loc[df['seqname'].str.contains('##'), 'seqname'].str.split(': ', expand = True)\n",
    "    df = df.loc[~df['seqname'].str.contains('##')].reset_index()\n",
    "    \n",
    "    # get attributes\n",
    "    attrs = pd.DataFrame([i.attrs for i in bed])\n",
    "    \n",
    "    return pd.concat([df, attrs], axis = 1), stat"
   ]
  },
  {
   "cell_type": "code",
   "execution_count": 3,
   "id": "985e2f4b",
   "metadata": {},
   "outputs": [],
   "source": [
    "circ_type_count = []\n",
    "names = []\n",
    "junc_ratio_tbl = []\n",
    "bsj_ratio_tbl = []\n",
    "fsj_ratio_tbl = []\n",
    "stats = []\n",
    "mega_anno = []\n",
    "\n",
    "features = ['seqname', 'start', 'end', \n",
    "       'strand', 'circ_type', 'gene_id', 'gene_name', 'gene_type']\n",
    "for fname in circ_quant_output:\n",
    "    \n",
    "    \n",
    "    name = os.path.basename(fname).replace('.gtf', '')\n",
    "    \n",
    "    names.append(name)\n",
    "\n",
    "    circ_df, stat = read_ciri_gtf(fname)\n",
    "\n",
    "    circ_type_count.append(circ_df['circ_type'].value_counts())\n",
    "\n",
    "    junc_ratio_tbl.append(circ_df.set_index('circ_id')['junc_ratio'].astype(float))\n",
    "    bsj_ratio_tbl.append(circ_df.set_index('circ_id')['bsj'].astype(float))\n",
    "    fsj_ratio_tbl.append(circ_df.set_index('circ_id')['fsj'].astype(float))\n",
    "    stats.append(stat.set_index(0))\n",
    "\n",
    "\n",
    "\n",
    "\n",
    "    mega_anno.append(circ_df.set_index('circ_id')[features])\n",
    "mega_anno = pd.concat(mega_anno, axis = 0).drop_duplicates()\n",
    "\n",
    "stats_df = pd.concat(stats, axis = 1).T\n",
    "for col in ['##Total_Reads', '##Mapped_Reads', '##Circular_Reads']:\n",
    "    stats_df[col] = stats_df[col].astype(int)\n",
    "\n",
    "stats_df = stats_df.drop_duplicates('##Sample').set_index('##Sample')\n",
    "stats_df['frac_circular'] = stats_df['##Circular_Reads']/stats_df['##Mapped_Reads']\n",
    "stats_df['frac_mapped'] = stats_df['##Mapped_Reads']/stats_df['##Total_Reads']\n"
   ]
  },
  {
   "cell_type": "code",
   "execution_count": 4,
   "id": "40e95555-1cca-4aea-b06e-ec0cca649437",
   "metadata": {
    "tags": []
   },
   "outputs": [
    {
     "data": {
      "image/png": "[encoded data removed]",
      "text/plain": [
       "<Figure size 432x288 with 1 Axes>"
      ]
     },
     "metadata": {
      "needs_background": "light"
     },
     "output_type": "display_data"
    }
   ],
   "source": [
    "\n",
    "(stats_df['frac_circular']*100).plot.bar()\n",
    "plt.ylabel('% circular read')\n",
    "sns.despine()"
   ]
  },
  {
   "cell_type": "code",
   "execution_count": 5,
   "id": "6aa35a79",
   "metadata": {},
   "outputs": [],
   "source": [
    "counts = pd.concat(circ_type_count, axis = 1)\n",
    "counts.columns = names"
   ]
  },
  {
   "cell_type": "code",
   "execution_count": 6,
   "id": "851f7287",
   "metadata": {},
   "outputs": [],
   "source": [
    "bsj = pd.concat(bsj_ratio_tbl, axis = 1)\n",
    "bsj.columns = names"
   ]
  },
  {
   "cell_type": "code",
   "execution_count": 7,
   "id": "74e27596",
   "metadata": {},
   "outputs": [],
   "source": [
    "fsj = pd.concat(fsj_ratio_tbl, axis = 1)\n",
    "fsj.columns = names"
   ]
  },
  {
   "cell_type": "code",
   "execution_count": 8,
   "id": "0055783c",
   "metadata": {},
   "outputs": [],
   "source": [
    "junc = pd.concat(junc_ratio_tbl, axis = 1)\n",
    "junc.columns = names"
   ]
  },
  {
   "cell_type": "code",
   "execution_count": 9,
   "id": "6463df75-f09b-4b15-bf23-5849aa9647be",
   "metadata": {
    "tags": []
   },
   "outputs": [],
   "source": [
    "bsj_cpm=bsj.div(stats_df['##Total_Reads'], axis = 1)*10**6\n",
    "fsj_cpm=fsj.div(stats_df['##Total_Reads'], axis = 1)*10**6"
   ]
  },
  {
   "cell_type": "markdown",
   "id": "25f10808-a399-4c11-b627-c3d269a6eae4",
   "metadata": {},
   "source": [
    "# Types of circular RNA detected"
   ]
  },
  {
   "cell_type": "code",
   "execution_count": 10,
   "id": "7186fbd4",
   "metadata": {},
   "outputs": [
    {
     "data": {
      "image/png": "[encoded data removed]",
      "text/plain": [
       "<Figure size 432x288 with 1 Axes>"
      ]
     },
     "metadata": {
      "needs_background": "light"
     },
     "output_type": "display_data"
    }
   ],
   "source": [
    "counts.T.sort_index().plot.barh(stacked = True)\n",
    "plt.xlabel('# circRNA detected')\n",
    "sns.despine()"
   ]
  },
  {
   "cell_type": "code",
   "execution_count": 11,
   "id": "be0da7a8",
   "metadata": {},
   "outputs": [
    {
     "data": {
      "image/png": "[encoded data removed]",
      "text/plain": [
       "<Figure size 432x288 with 1 Axes>"
      ]
     },
     "metadata": {
      "needs_background": "light"
     },
     "output_type": "display_data"
    }
   ],
   "source": [
    "bsj.reindex(sorted(bsj.columns), axis=1).boxplot(showfliers=False, rot = 90)\n",
    "plt.ylabel('# reads supporting circRNA (bsj reads)')\n",
    "sns.despine()"
   ]
  },
  {
   "cell_type": "code",
   "execution_count": 12,
   "id": "cb2501b5",
   "metadata": {},
   "outputs": [
    {
     "data": {
      "image/png": "[encoded data removed]",
      "text/plain": [
       "<Figure size 432x288 with 1 Axes>"
      ]
     },
     "metadata": {
      "needs_background": "light"
     },
     "output_type": "display_data"
    }
   ],
   "source": [
    "fsj.reindex(sorted(fsj.columns), axis=1).boxplot(showfliers=False, rot = 90)\n",
    "plt.ylabel('# reads supporting normal splicing (fsj reads)')\n",
    "sns.despine()"
   ]
  },
  {
   "cell_type": "code",
   "execution_count": 13,
   "id": "cbdaaf3f",
   "metadata": {},
   "outputs": [
    {
     "data": {
      "text/plain": [
       "Text(0, 0.5, '(BSJ+1)/(FSJ+1)')"
      ]
     },
     "execution_count": 13,
     "metadata": {},
     "output_type": "execute_result"
    },
    {
     "data": {
      "image/png": "[encoded data removed]",
      "text/plain": [
       "<Figure size 432x288 with 1 Axes>"
      ]
     },
     "metadata": {
      "needs_background": "light"
     },
     "output_type": "display_data"
    }
   ],
   "source": [
    "((bsj.fillna(0)+1)/(fsj.fillna(0)+1)).boxplot(showfliers=False, rot = 90)\n",
    "plt.ylabel('(BSJ+1)/(FSJ+1)')"
   ]
  },
  {
   "cell_type": "markdown",
   "id": "fcce637f-05c3-461e-8533-47f8fceecb41",
   "metadata": {},
   "source": [
    "# CircRIP output"
   ]
  },
  {
   "cell_type": "code",
   "execution_count": 14,
   "id": "bb6b948f-ed7e-481a-abfd-348a01644a98",
   "metadata": {
    "tags": []
   },
   "outputs": [],
   "source": [
    "def read_circRIP_outputs(indir, sample1, sample2):\n",
    "    rip_output = pd.read_csv(Path(indir)/'circRIP/'/f'{sample1}_vs_{sample2}',\n",
    "    sep = '\\t', names = ['circ_id', 'gene', 'BSJs in IP',\n",
    "            'circRNA in Input','CPM in IP','CPM in Input',\n",
    "            'IP/Input ratio','p-value', 'status'],\n",
    "                comment = '>'\n",
    "            )\n",
    "    # annotation\n",
    "    circ_df, stat = read_ciri_gtf(Path(indir)/f'{sample1}.gtf')\n",
    "    rip_output = rip_output.merge(circ_df, left_on = 'circ_id', right_on = 'circ_id')\n",
    "    return rip_output"
   ]
  },
  {
   "cell_type": "code",
   "execution_count": 15,
   "id": "182868cd-52fe-4dd1-9518-5c43ef416829",
   "metadata": {
    "tags": []
   },
   "outputs": [],
   "source": [
    "# monosome_output1_1 = read_circRIP_outputs(indir1, 'PP_Monosome1', 'PP_Input1')\n",
    "# monosome_output1_2 = read_circRIP_outputs(indir1, 'PP_Monosome2', 'PP_Input2')\n",
    "# polysome_output1_1 = read_circRIP_outputs(indir1, 'PP_Polysome1', 'PP_Input1')\n",
    "# polysome_output1_2 = read_circRIP_outputs(indir1, 'PP_Polysome2', 'PP_Input2')\n",
    "# monosome_output2_1 = read_circRIP_outputs(indir2, 'Mono1', 'IN1')\n",
    "# monosome_output2_2 = read_circRIP_outputs(indir2, 'Mono2', 'IN2')\n",
    "# polysome_output2_1 = read_circRIP_outputs(indir2, 'Poly1', 'IN1')\n",
    "# polysome_output2_2 = read_circRIP_outputs(indir2, 'Poly2', 'IN2')"
   ]
  },
  {
   "cell_type": "code",
   "execution_count": 16,
   "id": "7dacf41f-f80d-4efd-a388-187f12d07d46",
   "metadata": {
    "tags": []
   },
   "outputs": [],
   "source": [
    "# all_rip_outputs = [monosome_output1_1, monosome_output1_2, polysome_output1_1, polysome_output1_2,\n",
    "#                   monosome_output2_1, monosome_output2_2, polysome_output2_1, polysome_output2_2]"
   ]
  },
  {
   "cell_type": "code",
   "execution_count": 17,
   "id": "f563b93a-1afa-4ee7-99f9-407d3fc8e648",
   "metadata": {
    "tags": []
   },
   "outputs": [],
   "source": [
    "# f, axes = plt.subplots(4,2, sharex = True, sharey = True)\n",
    "\n",
    "# for output, ax in zip(all_rip_outputs, axes.flatten()):\n",
    "#     output['p-value'].hist(ax=ax, density = True)\n",
    "    \n",
    "# plt.xlabel('pvalue')\n",
    "# plt.ylabel('#circRNA')\n",
    "# sns.despine()"
   ]
  },
  {
   "cell_type": "code",
   "execution_count": 18,
   "id": "bf39ee75-c5cd-4c44-9962-40bad839bdae",
   "metadata": {
    "tags": []
   },
   "outputs": [],
   "source": [
    "# cnt = polysome_output2_1.groupby(by = ['circ_type', 'status']).count()['circ_id'].unstack()\n",
    "# cnt.T.plot.bar(stacked = True)\n",
    "# plt.ylabel('# circular RNA')"
   ]
  },
  {
   "cell_type": "code",
   "execution_count": 19,
   "id": "8699151f-964e-4bb1-93f6-92448cca98e9",
   "metadata": {
    "tags": []
   },
   "outputs": [],
   "source": [
    "# for output in all_rip_outputs:\n",
    "#     print(\n",
    "#         output.loc[output['gene'].str.contains('ZNF609'), ['circ_id', 'status', 'p-value']]\n",
    "#     )"
   ]
  },
  {
   "cell_type": "markdown",
   "id": "adf688f1-7e4d-406e-a1a1-01ad2b82929c",
   "metadata": {},
   "source": [
    "# My outputs"
   ]
  },
  {
   "cell_type": "code",
   "execution_count": 20,
   "id": "09293bec-9b70-4e29-b025-7ed30e1621ef",
   "metadata": {
    "tags": []
   },
   "outputs": [],
   "source": [
    "annot2 = pd.read_csv(Path(indir2)/'count_table.tsv', sep = '\\t', index_col = 0)\n",
    "my_monosome_output2_1 = pd.read_csv(Path(indir2) /'RIP/Mono1.IN1.csv', index_col = 0)\n",
    "my_monosome_output2_2 = pd.read_csv(Path(indir2) /'RIP/Mono2.IN2.csv', index_col = 0)\n",
    "my_polysome_output2_1 = pd.read_csv(Path(indir2) /'RIP/Poly1.IN1.csv', index_col = 0)\n",
    "my_polysome_output2_2 = pd.read_csv(Path(indir2) /'RIP/Poly2.IN2.csv', index_col = 0)"
   ]
  },
  {
   "cell_type": "code",
   "execution_count": 21,
   "id": "bdc8d6dc-8e96-413e-8979-b275d647596d",
   "metadata": {
    "tags": []
   },
   "outputs": [
    {
     "data": {
      "text/plain": [
       "<matplotlib_venn._common.VennDiagram at 0x2b6586bbbb20>"
      ]
     },
     "execution_count": 21,
     "metadata": {},
     "output_type": "execute_result"
    },
    {
     "data": {
      "image/png": "[encoded data removed]",
      "text/plain": [
       "<Figure size 432x288 with 1 Axes>"
      ]
     },
     "metadata": {},
     "output_type": "display_data"
    }
   ],
   "source": [
    "FDR_threshold = 0.2\n",
    "\n",
    "venn2([set(my_monosome_output2_1.loc[my_monosome_output2_1['FDR']<FDR_threshold, 'circ_id']),\n",
    "           set(my_monosome_output2_2.loc[my_monosome_output2_2['FDR']<FDR_threshold, 'circ_id'])\n",
    "          ],set_labels = ['Monosome rep1', 'Monosome rep2'])\n"
   ]
  },
  {
   "cell_type": "code",
   "execution_count": 22,
   "id": "e5d3a88e-48c4-4784-94e2-a2e2500034c9",
   "metadata": {
    "tags": []
   },
   "outputs": [
    {
     "data": {
      "text/plain": [
       "<matplotlib_venn._common.VennDiagram at 0x2b65870b9eb0>"
      ]
     },
     "execution_count": 22,
     "metadata": {},
     "output_type": "execute_result"
    },
    {
     "data": {
      "image/png": "[encoded data removed]",
      "text/plain": [
       "<Figure size 432x288 with 1 Axes>"
      ]
     },
     "metadata": {},
     "output_type": "display_data"
    }
   ],
   "source": [
    "FDR_threshold = 0.2\n",
    "\n",
    "venn2([set(my_polysome_output2_1.loc[my_polysome_output2_1['FDR']<FDR_threshold, 'circ_id']),\n",
    "           set(my_polysome_output2_2.loc[my_polysome_output2_2['FDR']<FDR_threshold, 'circ_id'])\n",
    "          ],set_labels = ['Polysome rep1', 'Polysome rep2'])\n"
   ]
  },
  {
   "cell_type": "code",
   "execution_count": 23,
   "id": "1b7bb1a3-c42b-4708-8f44-f12b846e0399",
   "metadata": {
    "tags": []
   },
   "outputs": [],
   "source": [
    "monosome_reproducible = set(my_monosome_output2_1.loc[my_monosome_output2_1['FDR']<FDR_threshold, 'circ_id']\n",
    "                           ).intersection(set(my_monosome_output2_2.loc[my_monosome_output2_2['FDR']<FDR_threshold, 'circ_id'])\n",
    "                                         )\n",
    "polysome_reproducible = set(my_polysome_output2_1.loc[my_polysome_output2_1['FDR']<FDR_threshold, 'circ_id']\n",
    "                           ).intersection(set(my_polysome_output2_2.loc[my_polysome_output2_2['FDR']<FDR_threshold, 'circ_id'])\n",
    "                                         )\n",
    "        "
   ]
  },
  {
   "cell_type": "code",
   "execution_count": 24,
   "id": "c4a20268-4d10-47bf-bfe3-c47d501f4291",
   "metadata": {
    "tags": []
   },
   "outputs": [
    {
     "data": {
      "text/plain": [
       "<matplotlib_venn._common.VennDiagram at 0x2b6586f449d0>"
      ]
     },
     "execution_count": 24,
     "metadata": {},
     "output_type": "execute_result"
    },
    {
     "data": {
      "image/png": "[encoded data removed]",
      "text/plain": [
       "<Figure size 432x288 with 1 Axes>"
      ]
     },
     "metadata": {},
     "output_type": "display_data"
    }
   ],
   "source": [
    "venn2([monosome_reproducible,\n",
    "           polysome_reproducible\n",
    "          ],set_labels = ['Monosome(reproducible)', 'Polysome(reproducible)'])\n"
   ]
  },
  {
   "cell_type": "code",
   "execution_count": 25,
   "id": "6fe4b717-26a5-4aa0-902a-dddbc188dc76",
   "metadata": {
    "tags": []
   },
   "outputs": [],
   "source": [
    "annot2['is_Monosome']=annot2['circ_id'].isin(monosome_reproducible)\n",
    "annot2['is_Polysome']=annot2['circ_id'].isin(polysome_reproducible)"
   ]
  },
  {
   "cell_type": "code",
   "execution_count": 26,
   "id": "a366853d-67f3-46ea-93c4-6e1a9a738f1d",
   "metadata": {
    "tags": []
   },
   "outputs": [],
   "source": [
    "tested = set(my_monosome_output2_1.loc[my_monosome_output2_1['tested'], 'circ_id']).intersection(\n",
    "    set(my_monosome_output2_2.loc[my_monosome_output2_2['tested'], 'circ_id'])).intersection(\n",
    "    set(my_polysome_output2_1.loc[my_polysome_output2_1['tested'], 'circ_id'])).intersection(\n",
    "    set(my_polysome_output2_2.loc[my_polysome_output2_2['tested'], 'circ_id']))"
   ]
  },
  {
   "cell_type": "code",
   "execution_count": 27,
   "id": "8f19150b-ed2b-4c82-b0d9-9840790b5893",
   "metadata": {
    "tags": []
   },
   "outputs": [
    {
     "data": {
      "text/plain": [
       "22023"
      ]
     },
     "execution_count": 27,
     "metadata": {},
     "output_type": "execute_result"
    }
   ],
   "source": [
    "len(tested)"
   ]
  },
  {
   "cell_type": "code",
   "execution_count": 28,
   "id": "00d0bbe9-63d5-47bc-ba24-47848c4aaec9",
   "metadata": {
    "tags": []
   },
   "outputs": [],
   "source": [
    "circtype_counts = annot2.loc[annot2['circ_id'].isin(tested)].groupby(by = ['is_Monosome', 'is_Polysome'])['circ_type'].value_counts(\n",
    ").unstack().fillna(0)"
   ]
  },
  {
   "cell_type": "code",
   "execution_count": 29,
   "id": "c9fc2801-d525-435c-98c9-d72f602becdd",
   "metadata": {
    "tags": []
   },
   "outputs": [
    {
     "data": {
      "image/png": "[encoded data removed]",
      "text/plain": [
       "<Figure size 216x216 with 1 Axes>"
      ]
     },
     "metadata": {
      "needs_background": "light"
     },
     "output_type": "display_data"
    }
   ],
   "source": [
    "circtype_counts.iloc[1:,].plot.bar(stacked = True, figsize = (3,3))\n",
    "sns.despine()"
   ]
  },
  {
   "cell_type": "code",
   "execution_count": 30,
   "id": "e844b444-20d2-4bcd-89de-267cccc00dda",
   "metadata": {
    "tags": []
   },
   "outputs": [
    {
     "data": {
      "text/html": [
       "<div>\n",
       "<style scoped>\n",
       "    .dataframe tbody tr th:only-of-type {\n",
       "        vertical-align: middle;\n",
       "    }\n",
       "\n",
       "    .dataframe tbody tr th {\n",
       "        vertical-align: top;\n",
       "    }\n",
       "\n",
       "    .dataframe thead th {\n",
       "        text-align: right;\n",
       "    }\n",
       "</style>\n",
       "<table border=\"1\" class=\"dataframe\">\n",
       "  <thead>\n",
       "    <tr style=\"text-align: right;\">\n",
       "      <th></th>\n",
       "      <th>circ_type</th>\n",
       "      <th>Unknown</th>\n",
       "      <th>antisense</th>\n",
       "      <th>exon</th>\n",
       "      <th>intergenic</th>\n",
       "      <th>intron</th>\n",
       "    </tr>\n",
       "    <tr>\n",
       "      <th>is_Monosome</th>\n",
       "      <th>is_Polysome</th>\n",
       "      <th></th>\n",
       "      <th></th>\n",
       "      <th></th>\n",
       "      <th></th>\n",
       "      <th></th>\n",
       "    </tr>\n",
       "  </thead>\n",
       "  <tbody>\n",
       "    <tr>\n",
       "      <th rowspan=\"2\" valign=\"top\">False</th>\n",
       "      <th>False</th>\n",
       "      <td>0.0001</td>\n",
       "      <td>0.001891</td>\n",
       "      <td>0.880986</td>\n",
       "      <td>0.004978</td>\n",
       "      <td>0.112046</td>\n",
       "    </tr>\n",
       "    <tr>\n",
       "      <th>True</th>\n",
       "      <td>0.0000</td>\n",
       "      <td>0.009288</td>\n",
       "      <td>0.851393</td>\n",
       "      <td>0.004644</td>\n",
       "      <td>0.134675</td>\n",
       "    </tr>\n",
       "    <tr>\n",
       "      <th rowspan=\"2\" valign=\"top\">True</th>\n",
       "      <th>False</th>\n",
       "      <td>0.0000</td>\n",
       "      <td>0.002430</td>\n",
       "      <td>0.883354</td>\n",
       "      <td>0.007290</td>\n",
       "      <td>0.106926</td>\n",
       "    </tr>\n",
       "    <tr>\n",
       "      <th>True</th>\n",
       "      <td>0.0000</td>\n",
       "      <td>0.002155</td>\n",
       "      <td>0.859914</td>\n",
       "      <td>0.004310</td>\n",
       "      <td>0.133621</td>\n",
       "    </tr>\n",
       "  </tbody>\n",
       "</table>\n",
       "</div>"
      ],
      "text/plain": [
       "circ_type                Unknown  antisense      exon  intergenic    intron\n",
       "is_Monosome is_Polysome                                                    \n",
       "False       False         0.0001   0.001891  0.880986    0.004978  0.112046\n",
       "            True          0.0000   0.009288  0.851393    0.004644  0.134675\n",
       "True        False         0.0000   0.002430  0.883354    0.007290  0.106926\n",
       "            True          0.0000   0.002155  0.859914    0.004310  0.133621"
      ]
     },
     "execution_count": 30,
     "metadata": {},
     "output_type": "execute_result"
    }
   ],
   "source": [
    "circtype_counts.div(circtype_counts.sum(axis = 1), axis = 0)"
   ]
  },
  {
   "cell_type": "code",
   "execution_count": 31,
   "id": "5e6f3640-15bf-4682-ab66-ced2116ad75f",
   "metadata": {
    "tags": []
   },
   "outputs": [
    {
     "data": {
      "text/html": [
       "<div>\n",
       "<style scoped>\n",
       "    .dataframe tbody tr th:only-of-type {\n",
       "        vertical-align: middle;\n",
       "    }\n",
       "\n",
       "    .dataframe tbody tr th {\n",
       "        vertical-align: top;\n",
       "    }\n",
       "\n",
       "    .dataframe thead th {\n",
       "        text-align: right;\n",
       "    }\n",
       "</style>\n",
       "<table border=\"1\" class=\"dataframe\">\n",
       "  <thead>\n",
       "    <tr style=\"text-align: right;\">\n",
       "      <th></th>\n",
       "      <th></th>\n",
       "      <th>0</th>\n",
       "      <th>exon</th>\n",
       "    </tr>\n",
       "    <tr>\n",
       "      <th>is_Monosome</th>\n",
       "      <th>is_Polysome</th>\n",
       "      <th></th>\n",
       "      <th></th>\n",
       "    </tr>\n",
       "  </thead>\n",
       "  <tbody>\n",
       "    <tr>\n",
       "      <th rowspan=\"2\" valign=\"top\">False</th>\n",
       "      <th>False</th>\n",
       "      <td>2391.0</td>\n",
       "      <td>17699.0</td>\n",
       "    </tr>\n",
       "    <tr>\n",
       "      <th>True</th>\n",
       "      <td>96.0</td>\n",
       "      <td>550.0</td>\n",
       "    </tr>\n",
       "    <tr>\n",
       "      <th rowspan=\"2\" valign=\"top\">True</th>\n",
       "      <th>False</th>\n",
       "      <td>96.0</td>\n",
       "      <td>727.0</td>\n",
       "    </tr>\n",
       "    <tr>\n",
       "      <th>True</th>\n",
       "      <td>65.0</td>\n",
       "      <td>399.0</td>\n",
       "    </tr>\n",
       "  </tbody>\n",
       "</table>\n",
       "</div>"
      ],
      "text/plain": [
       "                              0     exon\n",
       "is_Monosome is_Polysome                 \n",
       "False       False        2391.0  17699.0\n",
       "            True           96.0    550.0\n",
       "True        False          96.0    727.0\n",
       "            True           65.0    399.0"
      ]
     },
     "execution_count": 31,
     "metadata": {},
     "output_type": "execute_result"
    }
   ],
   "source": [
    "pd.concat([circtype_counts.loc[:, circtype_counts.columns!='exon'].sum(axis = 1),\n",
    "          circtype_counts['exon']], axis = 1)"
   ]
  },
  {
   "cell_type": "code",
   "execution_count": 32,
   "id": "ae5854f4-7d1f-4b85-887f-78aefe4fed18",
   "metadata": {
    "tags": []
   },
   "outputs": [],
   "source": [
    "from scipy.stats import fisher_exact,chisquare\n",
    "def testing(df):\n",
    "    ''' perform fisher exact or chisq given contingency table'''\n",
    "    if df.shape != (2,2):\n",
    "        # some outcomes are unobserved\n",
    "        print(df.shape)\n",
    "        print('no binding is observed in')\n",
    "        return 1, np.nan\n",
    "    if df.le(5).any().any():\n",
    "        odds_ratio, pvalue = fisher_exact(df)\n",
    "    else:\n",
    "        chi, pvalue = chisquare(df.loc[True], (df.loc[True].sum())*df.loc[False].div(df.loc[False].sum()))\n",
    "        odds_ratio = (df.loc[True, True]/df.loc[True, False])/(df.loc[False, True]/df.loc[False, False])\n",
    "    return pvalue, odds_ratio"
   ]
  },
  {
   "cell_type": "code",
   "execution_count": 33,
   "id": "28a2ba40-399d-45fd-bd77-8f7faf1f0a2f",
   "metadata": {
    "tags": []
   },
   "outputs": [
    {
     "data": {
      "text/html": [
       "<div>\n",
       "<style scoped>\n",
       "    .dataframe tbody tr th:only-of-type {\n",
       "        vertical-align: middle;\n",
       "    }\n",
       "\n",
       "    .dataframe tbody tr th {\n",
       "        vertical-align: top;\n",
       "    }\n",
       "\n",
       "    .dataframe thead th {\n",
       "        text-align: right;\n",
       "    }\n",
       "</style>\n",
       "<table border=\"1\" class=\"dataframe\">\n",
       "  <thead>\n",
       "    <tr style=\"text-align: right;\">\n",
       "      <th></th>\n",
       "      <th>seqname</th>\n",
       "      <th>source</th>\n",
       "      <th>feature</th>\n",
       "      <th>start</th>\n",
       "      <th>end</th>\n",
       "      <th>strand</th>\n",
       "      <th>frame</th>\n",
       "      <th>circ_id</th>\n",
       "      <th>circ_type</th>\n",
       "      <th>gene_id</th>\n",
       "      <th>...</th>\n",
       "      <th>BSJ-Poly2</th>\n",
       "      <th>BSJ-IN1</th>\n",
       "      <th>FSJ-IN2</th>\n",
       "      <th>FSJ-Poly1</th>\n",
       "      <th>FSJ-Mono2</th>\n",
       "      <th>FSJ-Mono1</th>\n",
       "      <th>FSJ-Poly2</th>\n",
       "      <th>FSJ-IN1</th>\n",
       "      <th>is_Monosome</th>\n",
       "      <th>is_Polysome</th>\n",
       "    </tr>\n",
       "  </thead>\n",
       "  <tbody>\n",
       "    <tr>\n",
       "      <th>79609</th>\n",
       "      <td>chr15</td>\n",
       "      <td>CIRIquant</td>\n",
       "      <td>circRNA</td>\n",
       "      <td>64499293.0</td>\n",
       "      <td>64500166.0</td>\n",
       "      <td>+</td>\n",
       "      <td>.</td>\n",
       "      <td>chr15:64499293|64500166</td>\n",
       "      <td>exon</td>\n",
       "      <td>ENSG00000180357.9</td>\n",
       "      <td>...</td>\n",
       "      <td>39.0</td>\n",
       "      <td>24.0</td>\n",
       "      <td>20.0</td>\n",
       "      <td>50.0</td>\n",
       "      <td>24.0</td>\n",
       "      <td>0.0</td>\n",
       "      <td>33.0</td>\n",
       "      <td>0.0</td>\n",
       "      <td>False</td>\n",
       "      <td>False</td>\n",
       "    </tr>\n",
       "    <tr>\n",
       "      <th>79610</th>\n",
       "      <td>chr15</td>\n",
       "      <td>CIRIquant</td>\n",
       "      <td>circRNA</td>\n",
       "      <td>64616185.0</td>\n",
       "      <td>64623052.0</td>\n",
       "      <td>+</td>\n",
       "      <td>.</td>\n",
       "      <td>chr15:64616185|64623052</td>\n",
       "      <td>intron</td>\n",
       "      <td>ENSG00000180357.9</td>\n",
       "      <td>...</td>\n",
       "      <td>0.0</td>\n",
       "      <td>0.0</td>\n",
       "      <td>29.0</td>\n",
       "      <td>0.0</td>\n",
       "      <td>0.0</td>\n",
       "      <td>0.0</td>\n",
       "      <td>0.0</td>\n",
       "      <td>0.0</td>\n",
       "      <td>False</td>\n",
       "      <td>False</td>\n",
       "    </tr>\n",
       "    <tr>\n",
       "      <th>79611</th>\n",
       "      <td>chr15</td>\n",
       "      <td>CIRIquant</td>\n",
       "      <td>circRNA</td>\n",
       "      <td>64622827.0</td>\n",
       "      <td>64623052.0</td>\n",
       "      <td>+</td>\n",
       "      <td>.</td>\n",
       "      <td>chr15:64622827|64623052</td>\n",
       "      <td>exon</td>\n",
       "      <td>ENSG00000180357.9</td>\n",
       "      <td>...</td>\n",
       "      <td>0.0</td>\n",
       "      <td>0.0</td>\n",
       "      <td>0.0</td>\n",
       "      <td>0.0</td>\n",
       "      <td>0.0</td>\n",
       "      <td>0.0</td>\n",
       "      <td>0.0</td>\n",
       "      <td>0.0</td>\n",
       "      <td>False</td>\n",
       "      <td>False</td>\n",
       "    </tr>\n",
       "    <tr>\n",
       "      <th>79613</th>\n",
       "      <td>chr15</td>\n",
       "      <td>CIRIquant</td>\n",
       "      <td>circRNA</td>\n",
       "      <td>64669033.0</td>\n",
       "      <td>64670433.0</td>\n",
       "      <td>+</td>\n",
       "      <td>.</td>\n",
       "      <td>chr15:64669033|64670433</td>\n",
       "      <td>intron</td>\n",
       "      <td>ENSG00000180357.9</td>\n",
       "      <td>...</td>\n",
       "      <td>0.0</td>\n",
       "      <td>0.0</td>\n",
       "      <td>31.0</td>\n",
       "      <td>0.0</td>\n",
       "      <td>0.0</td>\n",
       "      <td>0.0</td>\n",
       "      <td>0.0</td>\n",
       "      <td>0.0</td>\n",
       "      <td>False</td>\n",
       "      <td>False</td>\n",
       "    </tr>\n",
       "    <tr>\n",
       "      <th>23893</th>\n",
       "      <td>chr15</td>\n",
       "      <td>CIRIquant</td>\n",
       "      <td>circRNA</td>\n",
       "      <td>64469700.0</td>\n",
       "      <td>64469983.0</td>\n",
       "      <td>+</td>\n",
       "      <td>.</td>\n",
       "      <td>chr15:64469700|64469983</td>\n",
       "      <td>intron</td>\n",
       "      <td>ENSG00000180357.9</td>\n",
       "      <td>...</td>\n",
       "      <td>0.0</td>\n",
       "      <td>0.0</td>\n",
       "      <td>0.0</td>\n",
       "      <td>0.0</td>\n",
       "      <td>3.0</td>\n",
       "      <td>0.0</td>\n",
       "      <td>0.0</td>\n",
       "      <td>0.0</td>\n",
       "      <td>False</td>\n",
       "      <td>False</td>\n",
       "    </tr>\n",
       "    <tr>\n",
       "      <th>23895</th>\n",
       "      <td>chr15</td>\n",
       "      <td>CIRIquant</td>\n",
       "      <td>circRNA</td>\n",
       "      <td>64499293.0</td>\n",
       "      <td>64504346.0</td>\n",
       "      <td>+</td>\n",
       "      <td>.</td>\n",
       "      <td>chr15:64499293|64504346</td>\n",
       "      <td>intron</td>\n",
       "      <td>ENSG00000180357.9</td>\n",
       "      <td>...</td>\n",
       "      <td>0.0</td>\n",
       "      <td>1.0</td>\n",
       "      <td>0.0</td>\n",
       "      <td>0.0</td>\n",
       "      <td>32.0</td>\n",
       "      <td>0.0</td>\n",
       "      <td>0.0</td>\n",
       "      <td>38.0</td>\n",
       "      <td>False</td>\n",
       "      <td>False</td>\n",
       "    </tr>\n",
       "    <tr>\n",
       "      <th>24633</th>\n",
       "      <td>chr15</td>\n",
       "      <td>CIRIquant</td>\n",
       "      <td>circRNA</td>\n",
       "      <td>64673916.0</td>\n",
       "      <td>64678482.0</td>\n",
       "      <td>+</td>\n",
       "      <td>.</td>\n",
       "      <td>chr15:64673916|64678482</td>\n",
       "      <td>exon</td>\n",
       "      <td>ENSG00000180357.9</td>\n",
       "      <td>...</td>\n",
       "      <td>0.0</td>\n",
       "      <td>0.0</td>\n",
       "      <td>0.0</td>\n",
       "      <td>0.0</td>\n",
       "      <td>0.0</td>\n",
       "      <td>50.0</td>\n",
       "      <td>0.0</td>\n",
       "      <td>0.0</td>\n",
       "      <td>False</td>\n",
       "      <td>False</td>\n",
       "    </tr>\n",
       "    <tr>\n",
       "      <th>119497</th>\n",
       "      <td>chr15</td>\n",
       "      <td>CIRIquant</td>\n",
       "      <td>circRNA</td>\n",
       "      <td>64495840.0</td>\n",
       "      <td>64500166.0</td>\n",
       "      <td>+</td>\n",
       "      <td>.</td>\n",
       "      <td>chr15:64495840|64500166</td>\n",
       "      <td>intron</td>\n",
       "      <td>ENSG00000180357.9</td>\n",
       "      <td>...</td>\n",
       "      <td>0.0</td>\n",
       "      <td>1.0</td>\n",
       "      <td>0.0</td>\n",
       "      <td>0.0</td>\n",
       "      <td>0.0</td>\n",
       "      <td>0.0</td>\n",
       "      <td>0.0</td>\n",
       "      <td>43.0</td>\n",
       "      <td>False</td>\n",
       "      <td>False</td>\n",
       "    </tr>\n",
       "    <tr>\n",
       "      <th>119499</th>\n",
       "      <td>chr15</td>\n",
       "      <td>CIRIquant</td>\n",
       "      <td>circRNA</td>\n",
       "      <td>64499293.0</td>\n",
       "      <td>64503595.0</td>\n",
       "      <td>+</td>\n",
       "      <td>.</td>\n",
       "      <td>chr15:64499293|64503595</td>\n",
       "      <td>intron</td>\n",
       "      <td>ENSG00000180357.9</td>\n",
       "      <td>...</td>\n",
       "      <td>0.0</td>\n",
       "      <td>2.0</td>\n",
       "      <td>0.0</td>\n",
       "      <td>0.0</td>\n",
       "      <td>0.0</td>\n",
       "      <td>0.0</td>\n",
       "      <td>0.0</td>\n",
       "      <td>0.0</td>\n",
       "      <td>False</td>\n",
       "      <td>False</td>\n",
       "    </tr>\n",
       "    <tr>\n",
       "      <th>119502</th>\n",
       "      <td>chr15</td>\n",
       "      <td>CIRIquant</td>\n",
       "      <td>circRNA</td>\n",
       "      <td>64622827.0</td>\n",
       "      <td>64626632.0</td>\n",
       "      <td>+</td>\n",
       "      <td>.</td>\n",
       "      <td>chr15:64622827|64626632</td>\n",
       "      <td>intron</td>\n",
       "      <td>ENSG00000180357.9</td>\n",
       "      <td>...</td>\n",
       "      <td>0.0</td>\n",
       "      <td>1.0</td>\n",
       "      <td>0.0</td>\n",
       "      <td>0.0</td>\n",
       "      <td>0.0</td>\n",
       "      <td>0.0</td>\n",
       "      <td>0.0</td>\n",
       "      <td>4.0</td>\n",
       "      <td>False</td>\n",
       "      <td>False</td>\n",
       "    </tr>\n",
       "    <tr>\n",
       "      <th>119503</th>\n",
       "      <td>chr15</td>\n",
       "      <td>CIRIquant</td>\n",
       "      <td>circRNA</td>\n",
       "      <td>64622827.0</td>\n",
       "      <td>64637627.0</td>\n",
       "      <td>+</td>\n",
       "      <td>.</td>\n",
       "      <td>chr15:64622827|64637627</td>\n",
       "      <td>intron</td>\n",
       "      <td>ENSG00000180357.9</td>\n",
       "      <td>...</td>\n",
       "      <td>0.0</td>\n",
       "      <td>2.0</td>\n",
       "      <td>0.0</td>\n",
       "      <td>0.0</td>\n",
       "      <td>0.0</td>\n",
       "      <td>0.0</td>\n",
       "      <td>0.0</td>\n",
       "      <td>0.0</td>\n",
       "      <td>False</td>\n",
       "      <td>False</td>\n",
       "    </tr>\n",
       "  </tbody>\n",
       "</table>\n",
       "<p>11 rows × 26 columns</p>\n",
       "</div>"
      ],
      "text/plain": [
       "       seqname     source  feature       start         end strand frame  \\\n",
       "79609    chr15  CIRIquant  circRNA  64499293.0  64500166.0      +     .   \n",
       "79610    chr15  CIRIquant  circRNA  64616185.0  64623052.0      +     .   \n",
       "79611    chr15  CIRIquant  circRNA  64622827.0  64623052.0      +     .   \n",
       "79613    chr15  CIRIquant  circRNA  64669033.0  64670433.0      +     .   \n",
       "23893    chr15  CIRIquant  circRNA  64469700.0  64469983.0      +     .   \n",
       "23895    chr15  CIRIquant  circRNA  64499293.0  64504346.0      +     .   \n",
       "24633    chr15  CIRIquant  circRNA  64673916.0  64678482.0      +     .   \n",
       "119497   chr15  CIRIquant  circRNA  64495840.0  64500166.0      +     .   \n",
       "119499   chr15  CIRIquant  circRNA  64499293.0  64503595.0      +     .   \n",
       "119502   chr15  CIRIquant  circRNA  64622827.0  64626632.0      +     .   \n",
       "119503   chr15  CIRIquant  circRNA  64622827.0  64637627.0      +     .   \n",
       "\n",
       "                        circ_id circ_type            gene_id  ... BSJ-Poly2  \\\n",
       "79609   chr15:64499293|64500166      exon  ENSG00000180357.9  ...      39.0   \n",
       "79610   chr15:64616185|64623052    intron  ENSG00000180357.9  ...       0.0   \n",
       "79611   chr15:64622827|64623052      exon  ENSG00000180357.9  ...       0.0   \n",
       "79613   chr15:64669033|64670433    intron  ENSG00000180357.9  ...       0.0   \n",
       "23893   chr15:64469700|64469983    intron  ENSG00000180357.9  ...       0.0   \n",
       "23895   chr15:64499293|64504346    intron  ENSG00000180357.9  ...       0.0   \n",
       "24633   chr15:64673916|64678482      exon  ENSG00000180357.9  ...       0.0   \n",
       "119497  chr15:64495840|64500166    intron  ENSG00000180357.9  ...       0.0   \n",
       "119499  chr15:64499293|64503595    intron  ENSG00000180357.9  ...       0.0   \n",
       "119502  chr15:64622827|64626632    intron  ENSG00000180357.9  ...       0.0   \n",
       "119503  chr15:64622827|64637627    intron  ENSG00000180357.9  ...       0.0   \n",
       "\n",
       "       BSJ-IN1  FSJ-IN2  FSJ-Poly1  FSJ-Mono2  FSJ-Mono1  FSJ-Poly2  FSJ-IN1  \\\n",
       "79609     24.0     20.0       50.0       24.0        0.0       33.0      0.0   \n",
       "79610      0.0     29.0        0.0        0.0        0.0        0.0      0.0   \n",
       "79611      0.0      0.0        0.0        0.0        0.0        0.0      0.0   \n",
       "79613      0.0     31.0        0.0        0.0        0.0        0.0      0.0   \n",
       "23893      0.0      0.0        0.0        3.0        0.0        0.0      0.0   \n",
       "23895      1.0      0.0        0.0       32.0        0.0        0.0     38.0   \n",
       "24633      0.0      0.0        0.0        0.0       50.0        0.0      0.0   \n",
       "119497     1.0      0.0        0.0        0.0        0.0        0.0     43.0   \n",
       "119499     2.0      0.0        0.0        0.0        0.0        0.0      0.0   \n",
       "119502     1.0      0.0        0.0        0.0        0.0        0.0      4.0   \n",
       "119503     2.0      0.0        0.0        0.0        0.0        0.0      0.0   \n",
       "\n",
       "        is_Monosome  is_Polysome  \n",
       "79609         False        False  \n",
       "79610         False        False  \n",
       "79611         False        False  \n",
       "79613         False        False  \n",
       "23893         False        False  \n",
       "23895         False        False  \n",
       "24633         False        False  \n",
       "119497        False        False  \n",
       "119499        False        False  \n",
       "119502        False        False  \n",
       "119503        False        False  \n",
       "\n",
       "[11 rows x 26 columns]"
      ]
     },
     "execution_count": 33,
     "metadata": {},
     "output_type": "execute_result"
    }
   ],
   "source": [
    "annot2.loc[annot2['gene_name']=='ZNF609']"
   ]
  },
  {
   "cell_type": "markdown",
   "id": "276a055e-628c-4644-a8ea-11d58d917a2f",
   "metadata": {},
   "source": [
    "## Compare with published results"
   ]
  },
  {
   "cell_type": "code",
   "execution_count": 34,
   "id": "2a1ff903-8605-4fd6-a01d-6a093646e794",
   "metadata": {
    "tags": []
   },
   "outputs": [],
   "source": [
    "transcirc = pd.read_csv('transcirc_metadata.tsv', sep = '\\t')\n",
    "transcirc['circ_id']=transcirc['chrom']+':'+transcirc['start'].astype(str)+'|'+transcirc['end'].astype(str)\n",
    "transcirc.drop_duplicates(subset = ['circ_id'], inplace = True)"
   ]
  },
  {
   "cell_type": "code",
   "execution_count": 35,
   "id": "6035da11-574d-4107-9dd0-df362acde1e5",
   "metadata": {
    "tags": []
   },
   "outputs": [
    {
     "data": {
      "text/html": [
       "<div>\n",
       "<style scoped>\n",
       "    .dataframe tbody tr th:only-of-type {\n",
       "        vertical-align: middle;\n",
       "    }\n",
       "\n",
       "    .dataframe tbody tr th {\n",
       "        vertical-align: top;\n",
       "    }\n",
       "\n",
       "    .dataframe thead th {\n",
       "        text-align: right;\n",
       "    }\n",
       "</style>\n",
       "<table border=\"1\" class=\"dataframe\">\n",
       "  <thead>\n",
       "    <tr style=\"text-align: right;\">\n",
       "      <th></th>\n",
       "      <th>TransCirc_ID</th>\n",
       "      <th>xref</th>\n",
       "      <th>species</th>\n",
       "      <th>gene</th>\n",
       "      <th>strand</th>\n",
       "      <th>gene_id</th>\n",
       "      <th>chrom</th>\n",
       "      <th>start</th>\n",
       "      <th>end</th>\n",
       "      <th>evidences_num</th>\n",
       "      <th>evidences_score</th>\n",
       "      <th>MS_Qvalue</th>\n",
       "      <th>m6A</th>\n",
       "      <th>RP/RP</th>\n",
       "      <th>TIS</th>\n",
       "      <th>ORF</th>\n",
       "      <th>IRES</th>\n",
       "      <th>Peptide composition</th>\n",
       "      <th>MS</th>\n",
       "      <th>circ_id</th>\n",
       "    </tr>\n",
       "  </thead>\n",
       "  <tbody>\n",
       "    <tr>\n",
       "      <th>0</th>\n",
       "      <td>TC-hsa-NOC2L_0001</td>\n",
       "      <td>circAtlas:hsa-NOC2L_0004</td>\n",
       "      <td>Homo sapiens</td>\n",
       "      <td>NOC2L</td>\n",
       "      <td>-</td>\n",
       "      <td>ENSG00000188976.10</td>\n",
       "      <td>chr1</td>\n",
       "      <td>945057</td>\n",
       "      <td>945653</td>\n",
       "      <td>3</td>\n",
       "      <td>1.937380</td>\n",
       "      <td>NaN</td>\n",
       "      <td>0.0</td>\n",
       "      <td>0.000000</td>\n",
       "      <td>0.0</td>\n",
       "      <td>1.0</td>\n",
       "      <td>0.158810</td>\n",
       "      <td>0.778570</td>\n",
       "      <td>0.0</td>\n",
       "      <td>chr1:945057|945653</td>\n",
       "    </tr>\n",
       "    <tr>\n",
       "      <th>1</th>\n",
       "      <td>TC-hsa-KLHL17_0001</td>\n",
       "      <td>circAtlas:hsa-KLHL17_0001</td>\n",
       "      <td>Homo sapiens</td>\n",
       "      <td>KLHL17</td>\n",
       "      <td>+</td>\n",
       "      <td>ENSG00000187961.13</td>\n",
       "      <td>chr1</td>\n",
       "      <td>961826</td>\n",
       "      <td>962047</td>\n",
       "      <td>2</td>\n",
       "      <td>1.741661</td>\n",
       "      <td>NaN</td>\n",
       "      <td>0.0</td>\n",
       "      <td>0.000000</td>\n",
       "      <td>0.0</td>\n",
       "      <td>1.0</td>\n",
       "      <td>0.000000</td>\n",
       "      <td>0.741661</td>\n",
       "      <td>0.0</td>\n",
       "      <td>chr1:961826|962047</td>\n",
       "    </tr>\n",
       "    <tr>\n",
       "      <th>2</th>\n",
       "      <td>TC-hsa-ISG15_0003</td>\n",
       "      <td>circAtlas:hsa-ISG15_0004</td>\n",
       "      <td>Homo sapiens</td>\n",
       "      <td>ISG15</td>\n",
       "      <td>+</td>\n",
       "      <td>ENSG00000187608.8</td>\n",
       "      <td>chr1</td>\n",
       "      <td>1008194</td>\n",
       "      <td>1009370</td>\n",
       "      <td>3</td>\n",
       "      <td>1.771572</td>\n",
       "      <td>NaN</td>\n",
       "      <td>0.0</td>\n",
       "      <td>0.000000</td>\n",
       "      <td>0.0</td>\n",
       "      <td>1.0</td>\n",
       "      <td>0.067883</td>\n",
       "      <td>0.703689</td>\n",
       "      <td>0.0</td>\n",
       "      <td>chr1:1008194|1009370</td>\n",
       "    </tr>\n",
       "    <tr>\n",
       "      <th>3</th>\n",
       "      <td>TC-hsa-AGRN_0003</td>\n",
       "      <td>circAtlas:hsa-AGRN_0013; circpedia2:HSA_CIRCpe...</td>\n",
       "      <td>Homo sapiens</td>\n",
       "      <td>AGRN</td>\n",
       "      <td>+</td>\n",
       "      <td>ENSG00000188157.13</td>\n",
       "      <td>chr1</td>\n",
       "      <td>1046397</td>\n",
       "      <td>1046957</td>\n",
       "      <td>3</td>\n",
       "      <td>1.818838</td>\n",
       "      <td>NaN</td>\n",
       "      <td>0.0</td>\n",
       "      <td>0.000000</td>\n",
       "      <td>0.0</td>\n",
       "      <td>1.0</td>\n",
       "      <td>0.017630</td>\n",
       "      <td>0.801208</td>\n",
       "      <td>0.0</td>\n",
       "      <td>chr1:1046397|1046957</td>\n",
       "    </tr>\n",
       "    <tr>\n",
       "      <th>4</th>\n",
       "      <td>TC-hsa-SDF4_0002</td>\n",
       "      <td>circAtlas:hsa-SDF4_0001; circBase:hsa_circ_000...</td>\n",
       "      <td>Homo sapiens</td>\n",
       "      <td>SDF4</td>\n",
       "      <td>-</td>\n",
       "      <td>ENSG00000078808.16</td>\n",
       "      <td>chr1</td>\n",
       "      <td>1223244</td>\n",
       "      <td>1223968</td>\n",
       "      <td>4</td>\n",
       "      <td>2.220746</td>\n",
       "      <td>NaN</td>\n",
       "      <td>0.0</td>\n",
       "      <td>0.333333</td>\n",
       "      <td>0.0</td>\n",
       "      <td>1.0</td>\n",
       "      <td>0.126974</td>\n",
       "      <td>0.760439</td>\n",
       "      <td>0.0</td>\n",
       "      <td>chr1:1223244|1223968</td>\n",
       "    </tr>\n",
       "  </tbody>\n",
       "</table>\n",
       "</div>"
      ],
      "text/plain": [
       "         TransCirc_ID                                               xref  \\\n",
       "0   TC-hsa-NOC2L_0001                           circAtlas:hsa-NOC2L_0004   \n",
       "1  TC-hsa-KLHL17_0001                          circAtlas:hsa-KLHL17_0001   \n",
       "2   TC-hsa-ISG15_0003                           circAtlas:hsa-ISG15_0004   \n",
       "3    TC-hsa-AGRN_0003  circAtlas:hsa-AGRN_0013; circpedia2:HSA_CIRCpe...   \n",
       "4    TC-hsa-SDF4_0002  circAtlas:hsa-SDF4_0001; circBase:hsa_circ_000...   \n",
       "\n",
       "        species    gene strand             gene_id chrom    start      end  \\\n",
       "0  Homo sapiens   NOC2L      -  ENSG00000188976.10  chr1   945057   945653   \n",
       "1  Homo sapiens  KLHL17      +  ENSG00000187961.13  chr1   961826   962047   \n",
       "2  Homo sapiens   ISG15      +   ENSG00000187608.8  chr1  1008194  1009370   \n",
       "3  Homo sapiens    AGRN      +  ENSG00000188157.13  chr1  1046397  1046957   \n",
       "4  Homo sapiens    SDF4      -  ENSG00000078808.16  chr1  1223244  1223968   \n",
       "\n",
       "   evidences_num  evidences_score  MS_Qvalue  m6A     RP/RP  TIS  ORF  \\\n",
       "0              3         1.937380        NaN  0.0  0.000000  0.0  1.0   \n",
       "1              2         1.741661        NaN  0.0  0.000000  0.0  1.0   \n",
       "2              3         1.771572        NaN  0.0  0.000000  0.0  1.0   \n",
       "3              3         1.818838        NaN  0.0  0.000000  0.0  1.0   \n",
       "4              4         2.220746        NaN  0.0  0.333333  0.0  1.0   \n",
       "\n",
       "       IRES  Peptide composition   MS               circ_id  \n",
       "0  0.158810             0.778570  0.0    chr1:945057|945653  \n",
       "1  0.000000             0.741661  0.0    chr1:961826|962047  \n",
       "2  0.067883             0.703689  0.0  chr1:1008194|1009370  \n",
       "3  0.017630             0.801208  0.0  chr1:1046397|1046957  \n",
       "4  0.126974             0.760439  0.0  chr1:1223244|1223968  "
      ]
     },
     "execution_count": 35,
     "metadata": {},
     "output_type": "execute_result"
    }
   ],
   "source": [
    "transcirc.head()"
   ]
  },
  {
   "cell_type": "code",
   "execution_count": 36,
   "id": "f4c37030-1ba8-4643-8544-b75bb9ea9ca5",
   "metadata": {
    "tags": []
   },
   "outputs": [],
   "source": [
    "all_data = pd.merge(transcirc, annot2[['circ_id', 'is_Monosome', 'is_Polysome']]\n",
    "         , left_on = 'circ_id'\n",
    "         , right_on = 'circ_id')\n",
    "         "
   ]
  },
  {
   "cell_type": "code",
   "execution_count": 37,
   "id": "e03febba-9fe5-40da-93d1-c65842d43c3e",
   "metadata": {
    "tags": []
   },
   "outputs": [
    {
     "data": {
      "text/plain": [
       "Text(0, 0.5, '# Evidence Supporting Translation')"
      ]
     },
     "execution_count": 37,
     "metadata": {},
     "output_type": "execute_result"
    },
    {
     "data": {
      "image/png": "[encoded data removed]",
      "text/plain": [
       "<Figure size 432x288 with 1 Axes>"
      ]
     },
     "metadata": {
      "needs_background": "light"
     },
     "output_type": "display_data"
    }
   ],
   "source": [
    "sns.violinplot(data = all_data, x = 'is_Monosome', y= 'evidences_num',\n",
    "             )\n",
    "sns.despine()\n",
    "plt.ylabel('# Evidence Supporting Translation')\n"
   ]
  },
  {
   "cell_type": "code",
   "execution_count": 38,
   "id": "6184975f-e5e7-433c-b326-faeece2bf6c8",
   "metadata": {
    "tags": []
   },
   "outputs": [],
   "source": [
    "evidence_num_df = all_data.groupby(by = ['is_Monosome', 'is_Polysome'])['evidences_num'].value_counts().unstack().fillna(0)"
   ]
  },
  {
   "cell_type": "code",
   "execution_count": 39,
   "id": "aa9d677e-be58-4e49-8817-f5ecf642ebc2",
   "metadata": {
    "tags": []
   },
   "outputs": [],
   "source": [
    "all_data['4_or_more_evidence']=all_data['evidences_num']>=4"
   ]
  },
  {
   "cell_type": "code",
   "execution_count": 40,
   "id": "9aa5a4f7-edde-4391-8e49-d4c6e1eae214",
   "metadata": {
    "tags": []
   },
   "outputs": [],
   "source": [
    "pv_mono, odds_mono = testing(all_data.groupby(by = ['is_Monosome', '4_or_more_evidence']).count()['circ_id'].unstack())"
   ]
  },
  {
   "cell_type": "code",
   "execution_count": 41,
   "id": "869fa988-8deb-41f2-8c3d-b182a1adf01a",
   "metadata": {
    "tags": []
   },
   "outputs": [],
   "source": [
    "pv_poly, odds_poly = testing(all_data.groupby(by = ['is_Polysome', '4_or_more_evidence']).count()['circ_id'].unstack())"
   ]
  },
  {
   "cell_type": "code",
   "execution_count": 42,
   "id": "900e1cd2-712e-4602-b666-6972696369f3",
   "metadata": {
    "tags": []
   },
   "outputs": [
    {
     "data": {
      "text/plain": [
       "([<matplotlib.axis.XTick at 0x2b6595c3b040>,\n",
       "  <matplotlib.axis.XTick at 0x2b6595c2bfd0>],\n",
       " [Text(0, 0, 'Monosome'), Text(1, 0, 'Polysome')])"
      ]
     },
     "execution_count": 42,
     "metadata": {},
     "output_type": "execute_result"
    },
    {
     "data": {
      "image/png": "[encoded data removed]",
      "text/plain": [
       "<Figure size 432x288 with 1 Axes>"
      ]
     },
     "metadata": {
      "needs_background": "light"
     },
     "output_type": "display_data"
    }
   ],
   "source": [
    "plt.bar(x = [0,1], height = [odds_mono, odds_poly])\n",
    "plt.ylabel('Odds Ratio (>=4 evidecen in Transcirc)')\n",
    "plt.xticks([0,1], ['Monosome', 'Polysome'])"
   ]
  },
  {
   "cell_type": "code",
   "execution_count": 43,
   "id": "e287d5de-5841-4108-b5e4-e66979c1ed6e",
   "metadata": {
    "tags": []
   },
   "outputs": [
    {
     "data": {
      "text/plain": [
       "Index(['TransCirc_ID', 'xref', 'species', 'gene', 'strand', 'gene_id', 'chrom',\n",
       "       'start', 'end', 'evidences_num', 'evidences_score', 'MS_Qvalue', 'm6A',\n",
       "       'RP/RP', 'TIS', 'ORF', 'IRES', 'Peptide composition', 'MS', 'circ_id',\n",
       "       'is_Monosome', 'is_Polysome', '4_or_more_evidence'],\n",
       "      dtype='object')"
      ]
     },
     "execution_count": 43,
     "metadata": {},
     "output_type": "execute_result"
    }
   ],
   "source": [
    "all_data.columns"
   ]
  },
  {
   "cell_type": "code",
   "execution_count": 44,
   "id": "fed396cc-383f-4990-8375-c552028ec012",
   "metadata": {
    "tags": []
   },
   "outputs": [],
   "source": [
    "m6A_num_df = all_data.groupby(by = ['is_Monosome', 'is_Polysome'])['m6A'].value_counts().unstack().fillna(0)"
   ]
  },
  {
   "cell_type": "code",
   "execution_count": 45,
   "id": "67fac02f-9a99-4aa5-bb91-1240b0aaa688",
   "metadata": {
    "tags": []
   },
   "outputs": [
    {
     "data": {
      "text/html": [
       "<div>\n",
       "<style scoped>\n",
       "    .dataframe tbody tr th:only-of-type {\n",
       "        vertical-align: middle;\n",
       "    }\n",
       "\n",
       "    .dataframe tbody tr th {\n",
       "        vertical-align: top;\n",
       "    }\n",
       "\n",
       "    .dataframe thead th {\n",
       "        text-align: right;\n",
       "    }\n",
       "</style>\n",
       "<table border=\"1\" class=\"dataframe\">\n",
       "  <thead>\n",
       "    <tr style=\"text-align: right;\">\n",
       "      <th></th>\n",
       "      <th>m6A</th>\n",
       "      <th>0.0</th>\n",
       "      <th>1.0</th>\n",
       "    </tr>\n",
       "    <tr>\n",
       "      <th>is_Monosome</th>\n",
       "      <th>is_Polysome</th>\n",
       "      <th></th>\n",
       "      <th></th>\n",
       "    </tr>\n",
       "  </thead>\n",
       "  <tbody>\n",
       "    <tr>\n",
       "      <th rowspan=\"2\" valign=\"top\">False</th>\n",
       "      <th>False</th>\n",
       "      <td>89757</td>\n",
       "      <td>10416</td>\n",
       "    </tr>\n",
       "    <tr>\n",
       "      <th>True</th>\n",
       "      <td>1291</td>\n",
       "      <td>164</td>\n",
       "    </tr>\n",
       "    <tr>\n",
       "      <th rowspan=\"2\" valign=\"top\">True</th>\n",
       "      <th>False</th>\n",
       "      <td>1686</td>\n",
       "      <td>344</td>\n",
       "    </tr>\n",
       "    <tr>\n",
       "      <th>True</th>\n",
       "      <td>346</td>\n",
       "      <td>65</td>\n",
       "    </tr>\n",
       "  </tbody>\n",
       "</table>\n",
       "</div>"
      ],
      "text/plain": [
       "m6A                        0.0    1.0\n",
       "is_Monosome is_Polysome              \n",
       "False       False        89757  10416\n",
       "            True          1291    164\n",
       "True        False         1686    344\n",
       "            True           346     65"
      ]
     },
     "execution_count": 45,
     "metadata": {},
     "output_type": "execute_result"
    }
   ],
   "source": [
    "m6A_num_df"
   ]
  },
  {
   "cell_type": "code",
   "execution_count": 61,
   "id": "b5932a50-41c1-419a-b517-6c62eb86e52b",
   "metadata": {
    "tags": []
   },
   "outputs": [
    {
     "data": {
      "text/plain": [
       "(0.014093719767748711, 1.1888443476029458)"
      ]
     },
     "execution_count": 61,
     "metadata": {},
     "output_type": "execute_result"
    }
   ],
   "source": [
    "all_data['m6A'] = (all_data['m6A']>0)\n",
    "testing(all_data.groupby(by = ['is_Polysome', 'm6A']).count()['circ_id'].unstack())"
   ]
  },
  {
   "cell_type": "code",
   "execution_count": 47,
   "id": "423be5cf-89c0-48bd-a031-504795f8dec8",
   "metadata": {
    "tags": []
   },
   "outputs": [
    {
     "data": {
      "text/plain": [
       "(1.0167310547877957e-24, 1.732145408808776)"
      ]
     },
     "execution_count": 47,
     "metadata": {},
     "output_type": "execute_result"
    }
   ],
   "source": [
    "\n",
    "testing(all_data.groupby(by = ['is_Monosome', 'm6A']).count()['circ_id'].unstack())"
   ]
  },
  {
   "cell_type": "code",
   "execution_count": 48,
   "id": "70e629f9-13d7-4d59-ad92-f067ef5cbe98",
   "metadata": {
    "tags": []
   },
   "outputs": [
    {
     "data": {
      "image/png": "[encoded data removed]",
      "text/plain": [
       "<Figure size 432x288 with 1 Axes>"
      ]
     },
     "metadata": {
      "needs_background": "light"
     },
     "output_type": "display_data"
    }
   ],
   "source": [
    "sns.violinplot(data = all_data, x = 'is_Monosome', y= 'IRES',\n",
    "             )\n",
    "sns.despine()\n"
   ]
  },
  {
   "cell_type": "code",
   "execution_count": 49,
   "id": "c053e9c7-cbb6-4ea6-b12f-4c04d3c2fb6b",
   "metadata": {
    "tags": []
   },
   "outputs": [
    {
     "data": {
      "image/png": "[encoded data removed]",
      "text/plain": [
       "<Figure size 432x288 with 1 Axes>"
      ]
     },
     "metadata": {
      "needs_background": "light"
     },
     "output_type": "display_data"
    }
   ],
   "source": [
    "sns.violinplot(data = all_data, x = 'is_Polysome', y= 'IRES',\n",
    "             )\n",
    "sns.despine()\n"
   ]
  },
  {
   "cell_type": "code",
   "execution_count": 50,
   "id": "8e6ffd61-806b-456b-a1cf-7243efbec706",
   "metadata": {
    "tags": []
   },
   "outputs": [
    {
     "data": {
      "image/png": "[encoded data removed]",
      "text/plain": [
       "<Figure size 432x288 with 1 Axes>"
      ]
     },
     "metadata": {
      "needs_background": "light"
     },
     "output_type": "display_data"
    }
   ],
   "source": [
    "sns.violinplot(data = all_data, x = 'is_Polysome', y= 'MS',\n",
    "             )\n",
    "sns.despine()\n"
   ]
  },
  {
   "cell_type": "code",
   "execution_count": 51,
   "id": "0454cbca-b8c4-4ee0-8ab5-028faa4fb6d3",
   "metadata": {
    "tags": []
   },
   "outputs": [
    {
     "data": {
      "text/plain": [
       "(2.243921222225942e-06, 1.5764107642546954)"
      ]
     },
     "execution_count": 51,
     "metadata": {},
     "output_type": "execute_result"
    }
   ],
   "source": [
    "all_data['TIS'] = all_data['TIS'].map({0:False, 1:True})\n",
    "testing(all_data.groupby(by = ['is_Polysome', 'TIS']).count()['circ_id'].unstack())"
   ]
  },
  {
   "cell_type": "code",
   "execution_count": 52,
   "id": "c97ca347-6bd2-41ce-af54-e1312d591054",
   "metadata": {
    "tags": []
   },
   "outputs": [
    {
     "data": {
      "text/plain": [
       "(5.67865551887677e-14, 1.8107938726239585)"
      ]
     },
     "execution_count": 52,
     "metadata": {},
     "output_type": "execute_result"
    }
   ],
   "source": [
    "testing(all_data.groupby(by = ['is_Monosome', 'TIS']).count()['circ_id'].unstack())"
   ]
  },
  {
   "cell_type": "code",
   "execution_count": 53,
   "id": "980b41a8-3881-4ce7-8f2c-c2cd7d664820",
   "metadata": {
    "tags": []
   },
   "outputs": [
    {
     "data": {
      "image/png": "[encoded data removed]",
      "text/plain": [
       "<Figure size 432x288 with 1 Axes>"
      ]
     },
     "metadata": {
      "needs_background": "light"
     },
     "output_type": "display_data"
    }
   ],
   "source": [
    "sns.violinplot(data = all_data, x = 'is_Monosome', y= 'RP/RP',\n",
    "             )\n",
    "sns.despine()\n"
   ]
  },
  {
   "cell_type": "code",
   "execution_count": 54,
   "id": "182ae6ca-ab23-4050-961f-7e937e01dd56",
   "metadata": {
    "tags": []
   },
   "outputs": [
    {
     "data": {
      "text/plain": [
       "(0.0, 6.593787248054214)"
      ]
     },
     "execution_count": 54,
     "metadata": {},
     "output_type": "execute_result"
    }
   ],
   "source": [
    "all_data['is_RP']=all_data['RP/RP']>0\n",
    "testing(all_data.groupby(by = ['is_Monosome', 'is_RP']).count()['circ_id'].unstack())"
   ]
  },
  {
   "cell_type": "code",
   "execution_count": 55,
   "id": "d04c4d48-cfa7-4246-bbbc-c46d1041e3c1",
   "metadata": {
    "tags": []
   },
   "outputs": [
    {
     "data": {
      "text/plain": [
       "False    100052\n",
       "True       4017\n",
       "Name: is_RP, dtype: int64"
      ]
     },
     "execution_count": 55,
     "metadata": {},
     "output_type": "execute_result"
    }
   ],
   "source": [
    "all_data['is_RP'].value_counts()"
   ]
  },
  {
   "cell_type": "code",
   "execution_count": 56,
   "id": "c9146da5-e886-415d-92f8-14b3203e1985",
   "metadata": {
    "tags": []
   },
   "outputs": [
    {
     "data": {
      "text/plain": [
       "(0.0, 6.593787248054214)"
      ]
     },
     "execution_count": 56,
     "metadata": {},
     "output_type": "execute_result"
    }
   ],
   "source": [
    "all_data['is_RP']=all_data['RP/RP']>0\n",
    "testing(all_data.groupby(by = ['is_Monosome', 'is_RP']).count()['circ_id'].unstack())"
   ]
  },
  {
   "cell_type": "code",
   "execution_count": 57,
   "id": "42be82a7-1d10-429f-a8ca-dbeb07e484c7",
   "metadata": {
    "tags": []
   },
   "outputs": [
    {
     "data": {
      "text/plain": [
       "(8.802757355693098e-198, 5.293563278810393)"
      ]
     },
     "execution_count": 57,
     "metadata": {},
     "output_type": "execute_result"
    }
   ],
   "source": [
    "all_data['is_RP']=all_data['RP/RP']>0\n",
    "testing(all_data.groupby(by = ['is_Polysome', 'is_RP']).count()['circ_id'].unstack())"
   ]
  },
  {
   "cell_type": "code",
   "execution_count": 58,
   "id": "9e7c302c-8cb1-47d7-8032-ef89ae731530",
   "metadata": {
    "tags": []
   },
   "outputs": [
    {
     "data": {
      "image/png": "[encoded data removed]",
      "text/plain": [
       "<Figure size 432x288 with 1 Axes>"
      ]
     },
     "metadata": {
      "needs_background": "light"
     },
     "output_type": "display_data"
    }
   ],
   "source": [
    "sns.violinplot(data = all_data, x = 'is_Monosome', y= 'Peptide composition',\n",
    "             )\n",
    "sns.despine()\n"
   ]
  },
  {
   "cell_type": "code",
   "execution_count": 59,
   "id": "e8d30aeb-3853-4279-aba8-ba1c099ef26a",
   "metadata": {
    "tags": []
   },
   "outputs": [
    {
     "data": {
      "text/plain": [
       "(0.17276961674499733, 0.8746769196704176)"
      ]
     },
     "execution_count": 59,
     "metadata": {},
     "output_type": "execute_result"
    }
   ],
   "source": [
    "all_data['ORF'] = all_data['ORF'].map({0:False, 1:True})\n",
    "testing(all_data.groupby(by = ['is_Polysome', 'ORF']).count()['circ_id'].unstack())"
   ]
  },
  {
   "cell_type": "code",
   "execution_count": 60,
   "id": "8501275a-63af-4299-b10c-bc2fcabf2826",
   "metadata": {
    "tags": []
   },
   "outputs": [
    {
     "data": {
      "text/plain": [
       "(2.931837148935068e-06, 0.6956426730984328)"
      ]
     },
     "execution_count": 60,
     "metadata": {},
     "output_type": "execute_result"
    }
   ],
   "source": [
    "testing(all_data.groupby(by = ['is_Monosome', 'ORF']).count()['circ_id'].unstack())"
   ]
  },
  {
   "cell_type": "code",
   "execution_count": null,
   "id": "4ac24c64-74a7-4b8e-a2a8-2cf51ae30de6",
   "metadata": {},
   "outputs": [],
   "source": []
  }
 ],
 "metadata": {
  "kernelspec": {
   "display_name": "Metadensity",
   "language": "python",
   "name": "metadensity"
  },
  "language_info": {
   "codemirror_mode": {
    "name": "ipython",
    "version": 3
   },
   "file_extension": ".py",
   "mimetype": "text/x-python",
   "name": "python",
   "nbconvert_exporter": "python",
   "pygments_lexer": "ipython3",
   "version": "3.9.16"
  }
 },
 "nbformat": 4,
 "nbformat_minor": 5
}
