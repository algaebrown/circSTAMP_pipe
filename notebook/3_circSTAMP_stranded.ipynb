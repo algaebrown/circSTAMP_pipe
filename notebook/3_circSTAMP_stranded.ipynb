{
 "cells": [
  {
   "cell_type": "code",
   "execution_count": 1,
   "id": "e522316c-efd0-4499-bf7e-6867e643bc56",
   "metadata": {},
   "outputs": [],
   "source": [
    "# ensemble strandedness"
   ]
  },
  {
   "cell_type": "code",
   "execution_count": 2,
   "id": "2262ac36-ba5b-4a62-83a1-b19a465eb4ea",
   "metadata": {
    "tags": []
   },
   "outputs": [],
   "source": [
    "neg='/home/hsher/scratch/circ_nextera_iter13/output/edits/APOBEC1only.dp4.neg.vcf.aggregated.nonzero.snpfiltered.edit_score.tsv'\n",
    "pos='/home/hsher/scratch/circ_nextera_iter13/output/edits/APOBEC1only.dp4.pos.vcf.aggregated.nonzero.snpfiltered.edit_score.tsv'"
   ]
  },
  {
   "cell_type": "code",
   "execution_count": 17,
   "id": "f25f850d-2d2b-4879-b960-a76e772fc084",
   "metadata": {
    "tags": []
   },
   "outputs": [],
   "source": [
    "# according to gtf, pick the relevant strand\n",
    "gtf = '/home/hsher/scratch/circ_nextera_iter13/output/APOBEC1only.gtf'\n",
    "outf = '/home/hsher/scratch/circ_nextera_iter13/output/edits/APOBEC1only.final_edit_score.tsv'"
   ]
  },
  {
   "cell_type": "code",
   "execution_count": 4,
   "id": "241b3621-c292-4e21-b685-e8d382338717",
   "metadata": {
    "tags": []
   },
   "outputs": [],
   "source": [
    "import pandas as pd\n",
    "from pybedtools import BedTool\n",
    "def read_ciri_gtf(fname):\n",
    "    bed = BedTool(fname)\n",
    "    df = bed.to_dataframe()\n",
    "    # filter for non-entries\n",
    "    stat = df.loc[df['seqname'].str.contains('##'), 'seqname'].str.split(': ', expand = True)\n",
    "    df = df.loc[~df['seqname'].str.contains('##')].reset_index()\n",
    "    \n",
    "    # get attributes\n",
    "    attrs = pd.DataFrame([i.attrs for i in bed])\n",
    "    \n",
    "    return pd.concat([df, attrs], axis = 1), stat"
   ]
  },
  {
   "cell_type": "code",
   "execution_count": 5,
   "id": "05f9c031-7fbf-4f03-84a7-605df8af6187",
   "metadata": {
    "tags": []
   },
   "outputs": [],
   "source": [
    "neg_df = pd.read_csv(neg, sep = '\\t', index_col = 0)\n",
    "pos_df = pd.read_csv(pos, sep = '\\t', index_col = 0)\n",
    "circ_anno, stat = read_ciri_gtf(gtf)"
   ]
  },
  {
   "cell_type": "code",
   "execution_count": 6,
   "id": "5caa3485-7a07-4d21-8f6e-80ca53d3c5fe",
   "metadata": {
    "tags": []
   },
   "outputs": [],
   "source": [
    "neg_df['POS']=neg_df['pos_id'].apply(lambda s: int(s.split(':')[-1]))\n",
    "neg_df['circ_id']=neg_df['pos_id'].apply(lambda s: ':'.join(s.split(':')[:-1]))\n",
    "\n",
    "pos_df['POS']=pos_df['pos_id'].apply(lambda s: int(s.split(':')[-1]))\n",
    "pos_df['circ_id']=pos_df['pos_id'].apply(lambda s: ':'.join(s.split(':')[:-1]))\n",
    "\n",
    "neg_df['strand']='-'\n",
    "pos_df['strand']='+'"
   ]
  },
  {
   "cell_type": "code",
   "execution_count": 7,
   "id": "4ab0a2da-42fa-47d1-bac0-5b3bb466e975",
   "metadata": {
    "tags": []
   },
   "outputs": [
    {
     "data": {
      "text/plain": [
       "+    28897\n",
       "-    28317\n",
       "Name: strand, dtype: int64"
      ]
     },
     "execution_count": 7,
     "metadata": {},
     "output_type": "execute_result"
    }
   ],
   "source": [
    "circ_anno['strand'].value_counts()"
   ]
  },
  {
   "cell_type": "code",
   "execution_count": 8,
   "id": "450f1ab3-137a-4e03-bfde-7b224b980a72",
   "metadata": {
    "tags": []
   },
   "outputs": [],
   "source": [
    "pos_circ = circ_anno.loc[circ_anno['strand']=='+', 'circ_id']\n",
    "neg_circ = circ_anno.loc[circ_anno['strand']=='-', 'circ_id']"
   ]
  },
  {
   "cell_type": "code",
   "execution_count": 9,
   "id": "ba1dd081-1931-4758-9f98-8b71ec8766fa",
   "metadata": {
    "tags": []
   },
   "outputs": [],
   "source": [
    "pos_df = pos_df.loc[pos_df['circ_id'].isin(pos_circ)]\n",
    "neg_df = neg_df.loc[neg_df['circ_id'].isin(neg_circ)]"
   ]
  },
  {
   "cell_type": "code",
   "execution_count": 10,
   "id": "2d691d90-4f46-488d-acc9-e345afd0b8d1",
   "metadata": {
    "tags": []
   },
   "outputs": [],
   "source": [
    "edit_df = pd.concat([pos_df, neg_df])"
   ]
  },
  {
   "cell_type": "code",
   "execution_count": 11,
   "id": "5f8087ee-8e88-481d-ae5a-718e2c8791fc",
   "metadata": {
    "tags": []
   },
   "outputs": [
    {
     "data": {
      "text/html": [
       "<div>\n",
       "<style scoped>\n",
       "    .dataframe tbody tr th:only-of-type {\n",
       "        vertical-align: middle;\n",
       "    }\n",
       "\n",
       "    .dataframe tbody tr th {\n",
       "        vertical-align: top;\n",
       "    }\n",
       "\n",
       "    .dataframe thead th {\n",
       "        text-align: right;\n",
       "    }\n",
       "</style>\n",
       "<table border=\"1\" class=\"dataframe\">\n",
       "  <thead>\n",
       "    <tr style=\"text-align: right;\">\n",
       "      <th></th>\n",
       "      <th>pos_id</th>\n",
       "      <th>n_ref</th>\n",
       "      <th>n_alt</th>\n",
       "      <th>total</th>\n",
       "      <th>p_hetero</th>\n",
       "      <th>p_homo</th>\n",
       "      <th>edit_frac</th>\n",
       "      <th>theta</th>\n",
       "      <th>confidence</th>\n",
       "      <th>pvalue</th>\n",
       "      <th>FDR</th>\n",
       "      <th>POS</th>\n",
       "      <th>circ_id</th>\n",
       "      <th>strand</th>\n",
       "    </tr>\n",
       "  </thead>\n",
       "  <tbody>\n",
       "    <tr>\n",
       "      <th>2</th>\n",
       "      <td>chr1:62439799|62445429:5074</td>\n",
       "      <td>28</td>\n",
       "      <td>2</td>\n",
       "      <td>30</td>\n",
       "      <td>4.051253e-07</td>\n",
       "      <td>4.263435e-54</td>\n",
       "      <td>0.066667</td>\n",
       "      <td>0.066667</td>\n",
       "      <td>0.570785</td>\n",
       "      <td>4.292155e-01</td>\n",
       "      <td>1.000000e+00</td>\n",
       "      <td>5074</td>\n",
       "      <td>chr1:62439799|62445429</td>\n",
       "      <td>+</td>\n",
       "    </tr>\n",
       "    <tr>\n",
       "      <th>4</th>\n",
       "      <td>chr1:220791491|220805274:6392</td>\n",
       "      <td>28</td>\n",
       "      <td>2</td>\n",
       "      <td>30</td>\n",
       "      <td>4.051253e-07</td>\n",
       "      <td>4.263435e-54</td>\n",
       "      <td>0.066667</td>\n",
       "      <td>0.066667</td>\n",
       "      <td>0.570785</td>\n",
       "      <td>4.292155e-01</td>\n",
       "      <td>1.000000e+00</td>\n",
       "      <td>6392</td>\n",
       "      <td>chr1:220791491|220805274</td>\n",
       "      <td>+</td>\n",
       "    </tr>\n",
       "    <tr>\n",
       "      <th>5</th>\n",
       "      <td>chr1:51760690|51765981:5247</td>\n",
       "      <td>28</td>\n",
       "      <td>2</td>\n",
       "      <td>30</td>\n",
       "      <td>4.051253e-07</td>\n",
       "      <td>4.263435e-54</td>\n",
       "      <td>0.066667</td>\n",
       "      <td>0.066667</td>\n",
       "      <td>0.570785</td>\n",
       "      <td>4.292155e-01</td>\n",
       "      <td>1.000000e+00</td>\n",
       "      <td>5247</td>\n",
       "      <td>chr1:51760690|51765981</td>\n",
       "      <td>+</td>\n",
       "    </tr>\n",
       "    <tr>\n",
       "      <th>6</th>\n",
       "      <td>chr1:75732644|75733628:243</td>\n",
       "      <td>28</td>\n",
       "      <td>2</td>\n",
       "      <td>30</td>\n",
       "      <td>4.051253e-07</td>\n",
       "      <td>4.263435e-54</td>\n",
       "      <td>0.066667</td>\n",
       "      <td>0.066667</td>\n",
       "      <td>0.570785</td>\n",
       "      <td>4.292155e-01</td>\n",
       "      <td>1.000000e+00</td>\n",
       "      <td>243</td>\n",
       "      <td>chr1:75732644|75733628</td>\n",
       "      <td>+</td>\n",
       "    </tr>\n",
       "    <tr>\n",
       "      <th>7</th>\n",
       "      <td>chr1:115651277|115664268:160</td>\n",
       "      <td>28</td>\n",
       "      <td>2</td>\n",
       "      <td>30</td>\n",
       "      <td>4.051253e-07</td>\n",
       "      <td>4.263435e-54</td>\n",
       "      <td>0.066667</td>\n",
       "      <td>0.066667</td>\n",
       "      <td>0.570785</td>\n",
       "      <td>4.292155e-01</td>\n",
       "      <td>1.000000e+00</td>\n",
       "      <td>160</td>\n",
       "      <td>chr1:115651277|115664268</td>\n",
       "      <td>+</td>\n",
       "    </tr>\n",
       "    <tr>\n",
       "      <th>...</th>\n",
       "      <td>...</td>\n",
       "      <td>...</td>\n",
       "      <td>...</td>\n",
       "      <td>...</td>\n",
       "      <td>...</td>\n",
       "      <td>...</td>\n",
       "      <td>...</td>\n",
       "      <td>...</td>\n",
       "      <td>...</td>\n",
       "      <td>...</td>\n",
       "      <td>...</td>\n",
       "      <td>...</td>\n",
       "      <td>...</td>\n",
       "      <td>...</td>\n",
       "    </tr>\n",
       "    <tr>\n",
       "      <th>226143</th>\n",
       "      <td>chrX:53614534|53615835:1224</td>\n",
       "      <td>269</td>\n",
       "      <td>11</td>\n",
       "      <td>280</td>\n",
       "      <td>8.765753e-66</td>\n",
       "      <td>0.000000e+00</td>\n",
       "      <td>0.039286</td>\n",
       "      <td>0.039286</td>\n",
       "      <td>0.172239</td>\n",
       "      <td>8.277615e-01</td>\n",
       "      <td>1.000000e+00</td>\n",
       "      <td>1224</td>\n",
       "      <td>chrX:53614534|53615835</td>\n",
       "      <td>-</td>\n",
       "    </tr>\n",
       "    <tr>\n",
       "      <th>226145</th>\n",
       "      <td>chrX:44524002|44538542:270</td>\n",
       "      <td>254</td>\n",
       "      <td>9</td>\n",
       "      <td>263</td>\n",
       "      <td>9.746569e-64</td>\n",
       "      <td>0.000000e+00</td>\n",
       "      <td>0.034221</td>\n",
       "      <td>0.034221</td>\n",
       "      <td>0.089607</td>\n",
       "      <td>9.103931e-01</td>\n",
       "      <td>1.000000e+00</td>\n",
       "      <td>270</td>\n",
       "      <td>chrX:44524002|44538542</td>\n",
       "      <td>-</td>\n",
       "    </tr>\n",
       "    <tr>\n",
       "      <th>226147</th>\n",
       "      <td>chrX:73826738|73841635:2468</td>\n",
       "      <td>392</td>\n",
       "      <td>10</td>\n",
       "      <td>402</td>\n",
       "      <td>2.626858e-102</td>\n",
       "      <td>0.000000e+00</td>\n",
       "      <td>0.024876</td>\n",
       "      <td>0.024876</td>\n",
       "      <td>0.004103</td>\n",
       "      <td>9.958971e-01</td>\n",
       "      <td>1.000000e+00</td>\n",
       "      <td>2468</td>\n",
       "      <td>chrX:73826738|73841635</td>\n",
       "      <td>-</td>\n",
       "    </tr>\n",
       "    <tr>\n",
       "      <th>226148</th>\n",
       "      <td>chrX:44524002|44527326:270</td>\n",
       "      <td>183</td>\n",
       "      <td>36</td>\n",
       "      <td>219</td>\n",
       "      <td>2.735081e-25</td>\n",
       "      <td>0.000000e+00</td>\n",
       "      <td>0.164384</td>\n",
       "      <td>0.164384</td>\n",
       "      <td>1.000000</td>\n",
       "      <td>3.324129e-10</td>\n",
       "      <td>5.573925e-08</td>\n",
       "      <td>270</td>\n",
       "      <td>chrX:44524002|44527326</td>\n",
       "      <td>-</td>\n",
       "    </tr>\n",
       "    <tr>\n",
       "      <th>226150</th>\n",
       "      <td>chrX:80707427|80719656:8791</td>\n",
       "      <td>181</td>\n",
       "      <td>16</td>\n",
       "      <td>197</td>\n",
       "      <td>6.548799e-37</td>\n",
       "      <td>0.000000e+00</td>\n",
       "      <td>0.081218</td>\n",
       "      <td>0.081218</td>\n",
       "      <td>0.961961</td>\n",
       "      <td>3.803908e-02</td>\n",
       "      <td>5.625541e-01</td>\n",
       "      <td>8791</td>\n",
       "      <td>chrX:80707427|80719656</td>\n",
       "      <td>-</td>\n",
       "    </tr>\n",
       "  </tbody>\n",
       "</table>\n",
       "<p>313208 rows × 14 columns</p>\n",
       "</div>"
      ],
      "text/plain": [
       "                               pos_id  n_ref  n_alt  total       p_hetero  \\\n",
       "2         chr1:62439799|62445429:5074     28      2     30   4.051253e-07   \n",
       "4       chr1:220791491|220805274:6392     28      2     30   4.051253e-07   \n",
       "5         chr1:51760690|51765981:5247     28      2     30   4.051253e-07   \n",
       "6          chr1:75732644|75733628:243     28      2     30   4.051253e-07   \n",
       "7        chr1:115651277|115664268:160     28      2     30   4.051253e-07   \n",
       "...                               ...    ...    ...    ...            ...   \n",
       "226143    chrX:53614534|53615835:1224    269     11    280   8.765753e-66   \n",
       "226145     chrX:44524002|44538542:270    254      9    263   9.746569e-64   \n",
       "226147    chrX:73826738|73841635:2468    392     10    402  2.626858e-102   \n",
       "226148     chrX:44524002|44527326:270    183     36    219   2.735081e-25   \n",
       "226150    chrX:80707427|80719656:8791    181     16    197   6.548799e-37   \n",
       "\n",
       "              p_homo  edit_frac     theta  confidence        pvalue  \\\n",
       "2       4.263435e-54   0.066667  0.066667    0.570785  4.292155e-01   \n",
       "4       4.263435e-54   0.066667  0.066667    0.570785  4.292155e-01   \n",
       "5       4.263435e-54   0.066667  0.066667    0.570785  4.292155e-01   \n",
       "6       4.263435e-54   0.066667  0.066667    0.570785  4.292155e-01   \n",
       "7       4.263435e-54   0.066667  0.066667    0.570785  4.292155e-01   \n",
       "...              ...        ...       ...         ...           ...   \n",
       "226143  0.000000e+00   0.039286  0.039286    0.172239  8.277615e-01   \n",
       "226145  0.000000e+00   0.034221  0.034221    0.089607  9.103931e-01   \n",
       "226147  0.000000e+00   0.024876  0.024876    0.004103  9.958971e-01   \n",
       "226148  0.000000e+00   0.164384  0.164384    1.000000  3.324129e-10   \n",
       "226150  0.000000e+00   0.081218  0.081218    0.961961  3.803908e-02   \n",
       "\n",
       "                 FDR   POS                   circ_id strand  \n",
       "2       1.000000e+00  5074    chr1:62439799|62445429      +  \n",
       "4       1.000000e+00  6392  chr1:220791491|220805274      +  \n",
       "5       1.000000e+00  5247    chr1:51760690|51765981      +  \n",
       "6       1.000000e+00   243    chr1:75732644|75733628      +  \n",
       "7       1.000000e+00   160  chr1:115651277|115664268      +  \n",
       "...              ...   ...                       ...    ...  \n",
       "226143  1.000000e+00  1224    chrX:53614534|53615835      -  \n",
       "226145  1.000000e+00   270    chrX:44524002|44538542      -  \n",
       "226147  1.000000e+00  2468    chrX:73826738|73841635      -  \n",
       "226148  5.573925e-08   270    chrX:44524002|44527326      -  \n",
       "226150  5.625541e-01  8791    chrX:80707427|80719656      -  \n",
       "\n",
       "[313208 rows x 14 columns]"
      ]
     },
     "execution_count": 11,
     "metadata": {},
     "output_type": "execute_result"
    }
   ],
   "source": [
    "edit_df"
   ]
  },
  {
   "cell_type": "code",
   "execution_count": 14,
   "id": "2c05a49c-7e23-451d-ad91-a7a38db850ce",
   "metadata": {
    "tags": []
   },
   "outputs": [],
   "source": [
    "from statsmodels.stats.multitest import fdrcorrection\n",
    "_,edit_df['FDR'] = fdrcorrection(edit_df['pvalue'])\n"
   ]
  },
  {
   "cell_type": "code",
   "execution_count": 18,
   "id": "f6b0ca50-95f5-4156-b050-78dc5f10374d",
   "metadata": {
    "tags": []
   },
   "outputs": [],
   "source": [
    "edit_df.to_csv(outf, sep = '\\t')"
   ]
  },
  {
   "cell_type": "code",
   "execution_count": null,
   "id": "c659ff03-6912-4d3e-9190-b84ac26de512",
   "metadata": {},
   "outputs": [],
   "source": []
  }
 ],
 "metadata": {
  "kernelspec": {
   "display_name": "Metadensity",
   "language": "python",
   "name": "metadensity"
  },
  "language_info": {
   "codemirror_mode": {
    "name": "ipython",
    "version": 3
   },
   "file_extension": ".py",
   "mimetype": "text/x-python",
   "name": "python",
   "nbconvert_exporter": "python",
   "pygments_lexer": "ipython3",
   "version": "3.9.16"
  }
 },
 "nbformat": 4,
 "nbformat_minor": 5
}
