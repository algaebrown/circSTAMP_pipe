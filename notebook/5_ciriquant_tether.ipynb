{
 "cells": [
  {
   "cell_type": "raw",
   "id": "e56a5e5a",
   "metadata": {},
   "source": [
    "# ciriquant output\n",
    "column \tname \tdescription\n",
    "1 \tchrom \tchromosome / contig name\n",
    "2 \tsource \tCIRIquant\n",
    "3 \ttype \tcircRNA\n",
    "4 \tstart \t5' back-spliced junction site\n",
    "5 \tend \t3' back-spliced junction site\n",
    "6 \tscore \tCPM of circRNAs (#BSJ / #Mapped reads)\n",
    "7 \tstrand \tstrand information\n",
    "8 \t. \t.\n",
    "9 \tattributes \tattributes seperated by semicolon\n",
    "\n",
    "\n",
    "# attributes\n",
    "key \tdescription\n",
    "circ_id \tname of circRNA\n",
    "circ_type \tcircRNA types: exon / intron / intergenic\n",
    "bsj \tnumber of bsj reads\n",
    "fsj \tnumber of fsj reads\n",
    "junc_ratio \tcircular to linear ratio: 2 * bsj / ( 2 * bsj + fsj)\n",
    "rnaser_bsj \tnumber of bsj reads in RNase R data (only when --RNaseR is specificed)\n",
    "rnaser_fsj \tnumber of fsj reads in RNase R data (only when --RNaseR is specificed)\n",
    "gene_id \tensemble id of host gene\n",
    "gene_name \tHGNC symbol of host gene\n",
    "gene_type \ttype of host gene in gtf file\n",
    "\n",
    "https://ciri-cookbook.readthedocs.io/en/latest/CIRIquant_2_quantification.html"
   ]
  },
  {
   "cell_type": "code",
   "execution_count": 1,
   "id": "b19e0dfd",
   "metadata": {},
   "outputs": [],
   "source": [
    "import os\n",
    "from pybedtools import BedTool\n",
    "import pandas as pd\n",
    "import seaborn as sns\n",
    "indir = '/home/hsher/scratch/circ_nextera_iter3/output/'\n",
    "circ_quant_output = [os.path.join(indir,f) for f in os.listdir(indir) if f.endswith('.gtf')]\n",
    "indir = '/home/hsher/scratch/circ_truseq_iter3/output/'\n",
    "circ_quant_output += [os.path.join(indir,f) for f in os.listdir(indir) if f.endswith('.gtf')]"
   ]
  },
  {
   "cell_type": "code",
   "execution_count": 3,
   "id": "73be78e8",
   "metadata": {},
   "outputs": [],
   "source": [
    "def read_ciri_gtf(fname):\n",
    "    bed = BedTool(fname)\n",
    "    df = bed.to_dataframe()\n",
    "    # filter for non-entries\n",
    "    stat = df.loc[df['seqname'].str.contains('##'), 'seqname'].str.split(': ', expand = True)\n",
    "    df = df.loc[~df['seqname'].str.contains('##')].reset_index()\n",
    "    \n",
    "    # get attributes\n",
    "    attrs = pd.DataFrame([i.attrs for i in bed])\n",
    "    \n",
    "    return pd.concat([df, attrs], axis = 1), stat"
   ]
  },
  {
   "cell_type": "code",
   "execution_count": 4,
   "id": "985e2f4b",
   "metadata": {},
   "outputs": [],
   "source": [
    "circ_type_count = []\n",
    "names = []\n",
    "junc_ratio_tbl = []\n",
    "bsj_ratio_tbl = []\n",
    "fsj_ratio_tbl = []\n",
    "stats = []\n",
    "for fname in circ_quant_output:\n",
    "    name = os.path.basename(fname).replace('.gtf', '')\n",
    "    names.append(name)\n",
    "    \n",
    "    circ_df, stat = read_ciri_gtf(fname)\n",
    "    \n",
    "    circ_type_count.append(circ_df['circ_type'].value_counts())\n",
    "    \n",
    "    junc_ratio_tbl.append(circ_df.set_index('circ_id')['junc_ratio'].astype(float))\n",
    "    bsj_ratio_tbl.append(circ_df.set_index('circ_id')['bsj'].astype(float))\n",
    "    fsj_ratio_tbl.append(circ_df.set_index('circ_id')['fsj'].astype(float))\n",
    "    stats.append(stat.set_index(0))"
   ]
  },
  {
   "cell_type": "code",
   "execution_count": 5,
   "id": "4f23c5b5",
   "metadata": {},
   "outputs": [],
   "source": [
    "stats_df = pd.concat(stats, axis = 1).T"
   ]
  },
  {
   "cell_type": "code",
   "execution_count": 6,
   "id": "5943957d",
   "metadata": {},
   "outputs": [
    {
     "data": {
      "text/plain": [
       "Index(['##Sample', '##Total_Reads', '##Mapped_Reads', '##Circular_Reads',\n",
       "       '##version'],\n",
       "      dtype='object', name=0)"
      ]
     },
     "execution_count": 6,
     "metadata": {},
     "output_type": "execute_result"
    }
   ],
   "source": [
    "stats_df.columns"
   ]
  },
  {
   "cell_type": "code",
   "execution_count": 7,
   "id": "8b6140a3",
   "metadata": {},
   "outputs": [],
   "source": [
    "for col in ['##Total_Reads', '##Mapped_Reads', '##Circular_Reads']:\n",
    "    stats_df[col] = stats_df[col].astype(int)"
   ]
  },
  {
   "cell_type": "code",
   "execution_count": 8,
   "id": "69cbbc55",
   "metadata": {},
   "outputs": [],
   "source": [
    "stats_df['frac_circular'] = stats_df['##Circular_Reads']/stats_df['##Mapped_Reads']\n",
    "stats_df['frac_mapped'] = stats_df['##Mapped_Reads']/stats_df['##Total_Reads']"
   ]
  },
  {
   "cell_type": "code",
   "execution_count": 9,
   "id": "3b3e3f4f",
   "metadata": {},
   "outputs": [],
   "source": [
    "stats_df.sort_values('frac_circular')\n",
    "stats_df.set_index('##Sample', inplace = True)"
   ]
  },
  {
   "cell_type": "code",
   "execution_count": 26,
   "id": "f636d983",
   "metadata": {
    "scrolled": true
   },
   "outputs": [],
   "source": [
    "stats_df['library_prep']=pd.Series(stats_df.index).apply(lambda x: 'rar11' if 'rar11' in x else 'rz').tolist()"
   ]
  },
  {
   "cell_type": "code",
   "execution_count": 34,
   "id": "9a789396-8ed1-4b29-a1cc-77b25dc83a47",
   "metadata": {
    "tags": []
   },
   "outputs": [
    {
     "data": {
      "image/png": "[encoded data removed]",
      "text/plain": [
       "<Figure size 432x288 with 1 Axes>"
      ]
     },
     "metadata": {
      "needs_background": "light"
     },
     "output_type": "display_data"
    }
   ],
   "source": [
    "sns.violinplot(data = stats_df, x= 'library_prep', y = 'frac_circular', figsize = (3,3))\n",
    "sns.despine()"
   ]
  },
  {
   "cell_type": "code",
   "execution_count": 49,
   "id": "bc94ac3a-e02c-479d-a457-571e8713f014",
   "metadata": {
    "tags": []
   },
   "outputs": [
    {
     "data": {
      "text/plain": [
       "0\n",
       "##Total_Reads        161457144\n",
       "##Mapped_Reads        39160922\n",
       "##Circular_Reads        322356\n",
       "##version                1.1.2\n",
       "frac_circular       0.00823157\n",
       "frac_mapped           0.242547\n",
       "library_prep             rar11\n",
       "Name: RCA_rar11, dtype: object"
      ]
     },
     "execution_count": 49,
     "metadata": {},
     "output_type": "execute_result"
    }
   ],
   "source": [
    "stats_df.loc['RCA_rar11']"
   ]
  },
  {
   "cell_type": "code",
   "execution_count": null,
   "id": "5663a1f0-cc34-468a-bd57-cdd2a6a8b2c8",
   "metadata": {},
   "outputs": [],
   "source": []
  },
  {
   "cell_type": "markdown",
   "id": "50287bed-984f-441f-ae4c-bd7d6b118847",
   "metadata": {},
   "source": [
    "# make gtf manifest"
   ]
  },
  {
   "cell_type": "code",
   "execution_count": 40,
   "id": "975233ae-6371-411b-9d88-55413790d382",
   "metadata": {
    "tags": []
   },
   "outputs": [],
   "source": [
    "de_menifest = pd.DataFrame([circ_quant_output], index = ['gtf']).T"
   ]
  },
  {
   "cell_type": "code",
   "execution_count": 55,
   "id": "bdd874d4-702a-4655-b8e5-2808a2f13f9f",
   "metadata": {
    "tags": []
   },
   "outputs": [],
   "source": [
    "from pathlib import Path\n",
    "de_menifest['libname']=de_menifest['gtf'].apply(lambda path: Path(path).name.split('_')[0])\n",
    "de_menifest['protocol']=de_menifest['gtf'].apply(lambda path: Path(path).name.split('_')[1].replace('.gtf', ''))"
   ]
  },
  {
   "cell_type": "code",
   "execution_count": 56,
   "id": "67ee9138-e44b-43bc-aa5f-fe4338f89b5f",
   "metadata": {
    "tags": []
   },
   "outputs": [
    {
     "data": {
      "text/plain": [
       "siDDX52      2\n",
       "siDDX19A     2\n",
       "ZC3HAV1      2\n",
       "siZC3HAV1    2\n",
       "THOC1        2\n",
       "HEK          2\n",
       "siTOB2       2\n",
       "DDX19A       2\n",
       "RBM17        2\n",
       "RPS10        2\n",
       "DCP1A        2\n",
       "G3BP2        2\n",
       "DDX52        2\n",
       "siG3BP2      2\n",
       "LARP4        2\n",
       "siRBM15      2\n",
       "EIF3C        2\n",
       "siLARP4B     2\n",
       "siLARP4      2\n",
       "siRBM17      2\n",
       "U2AF2        2\n",
       "siANXA2      2\n",
       "ANXA2        2\n",
       "siDCP1A      2\n",
       "siU2AF2      2\n",
       "LARP4B       2\n",
       "siTHOC1      2\n",
       "siNT         2\n",
       "RCA          1\n",
       "Name: libname, dtype: int64"
      ]
     },
     "execution_count": 56,
     "metadata": {},
     "output_type": "execute_result"
    }
   ],
   "source": [
    "de_menifest['libname'].value_counts()"
   ]
  },
  {
   "cell_type": "code",
   "execution_count": 57,
   "id": "278ae41f-415d-438e-bc86-63c4855d49f7",
   "metadata": {
    "tags": []
   },
   "outputs": [
    {
     "data": {
      "text/plain": [
       "rz       28\n",
       "rar11    28\n",
       "arr       1\n",
       "Name: protocol, dtype: int64"
      ]
     },
     "execution_count": 57,
     "metadata": {},
     "output_type": "execute_result"
    }
   ],
   "source": [
    "de_menifest['protocol'].value_counts()"
   ]
  },
  {
   "cell_type": "code",
   "execution_count": 58,
   "id": "d615f844-ee11-4e9b-b11a-03d067ab2f1f",
   "metadata": {
    "tags": []
   },
   "outputs": [
    {
     "data": {
      "text/html": [
       "<div>\n",
       "<style scoped>\n",
       "    .dataframe tbody tr th:only-of-type {\n",
       "        vertical-align: middle;\n",
       "    }\n",
       "\n",
       "    .dataframe tbody tr th {\n",
       "        vertical-align: top;\n",
       "    }\n",
       "\n",
       "    .dataframe thead th {\n",
       "        text-align: right;\n",
       "    }\n",
       "</style>\n",
       "<table border=\"1\" class=\"dataframe\">\n",
       "  <thead>\n",
       "    <tr style=\"text-align: right;\">\n",
       "      <th></th>\n",
       "      <th>gtf</th>\n",
       "      <th>libname</th>\n",
       "      <th>protocol</th>\n",
       "    </tr>\n",
       "  </thead>\n",
       "  <tbody>\n",
       "    <tr>\n",
       "      <th>31</th>\n",
       "      <td>/home/hsher/scratch/circ_truseq_iter3/output/H...</td>\n",
       "      <td>HEK</td>\n",
       "      <td>arr</td>\n",
       "    </tr>\n",
       "  </tbody>\n",
       "</table>\n",
       "</div>"
      ],
      "text/plain": [
       "                                                  gtf libname protocol\n",
       "31  /home/hsher/scratch/circ_truseq_iter3/output/H...     HEK      arr"
      ]
     },
     "execution_count": 58,
     "metadata": {},
     "output_type": "execute_result"
    }
   ],
   "source": [
    "de_menifest.loc[de_menifest['protocol']=='arr']"
   ]
  },
  {
   "cell_type": "code",
   "execution_count": 59,
   "id": "7349b6a6-f99e-43a9-95b0-857d6bd4f08f",
   "metadata": {
    "tags": []
   },
   "outputs": [
    {
     "data": {
      "text/html": [
       "<div>\n",
       "<style scoped>\n",
       "    .dataframe tbody tr th:only-of-type {\n",
       "        vertical-align: middle;\n",
       "    }\n",
       "\n",
       "    .dataframe tbody tr th {\n",
       "        vertical-align: top;\n",
       "    }\n",
       "\n",
       "    .dataframe thead th {\n",
       "        text-align: right;\n",
       "    }\n",
       "</style>\n",
       "<table border=\"1\" class=\"dataframe\">\n",
       "  <thead>\n",
       "    <tr style=\"text-align: right;\">\n",
       "      <th></th>\n",
       "      <th>gtf</th>\n",
       "      <th>libname</th>\n",
       "      <th>protocol</th>\n",
       "    </tr>\n",
       "  </thead>\n",
       "  <tbody>\n",
       "    <tr>\n",
       "      <th>31</th>\n",
       "      <td>/home/hsher/scratch/circ_truseq_iter3/output/H...</td>\n",
       "      <td>HEK</td>\n",
       "      <td>arr</td>\n",
       "    </tr>\n",
       "    <tr>\n",
       "      <th>56</th>\n",
       "      <td>/home/hsher/scratch/circ_truseq_iter3/output/H...</td>\n",
       "      <td>HEK</td>\n",
       "      <td>rz</td>\n",
       "    </tr>\n",
       "  </tbody>\n",
       "</table>\n",
       "</div>"
      ],
      "text/plain": [
       "                                                  gtf libname protocol\n",
       "31  /home/hsher/scratch/circ_truseq_iter3/output/H...     HEK      arr\n",
       "56  /home/hsher/scratch/circ_truseq_iter3/output/H...     HEK       rz"
      ]
     },
     "execution_count": 59,
     "metadata": {},
     "output_type": "execute_result"
    }
   ],
   "source": [
    "de_menifest.loc[de_menifest['libname']=='HEK']"
   ]
  },
  {
   "cell_type": "code",
   "execution_count": 61,
   "id": "df97271a-b7f8-4af7-b435-a51052beafb6",
   "metadata": {
    "tags": []
   },
   "outputs": [
    {
     "data": {
      "text/html": [
       "<div>\n",
       "<style scoped>\n",
       "    .dataframe tbody tr th:only-of-type {\n",
       "        vertical-align: middle;\n",
       "    }\n",
       "\n",
       "    .dataframe tbody tr th {\n",
       "        vertical-align: top;\n",
       "    }\n",
       "\n",
       "    .dataframe thead th {\n",
       "        text-align: right;\n",
       "    }\n",
       "</style>\n",
       "<table border=\"1\" class=\"dataframe\">\n",
       "  <thead>\n",
       "    <tr style=\"text-align: right;\">\n",
       "      <th></th>\n",
       "      <th>gtf</th>\n",
       "      <th>libname</th>\n",
       "      <th>protocol</th>\n",
       "    </tr>\n",
       "  </thead>\n",
       "  <tbody>\n",
       "    <tr>\n",
       "      <th>8</th>\n",
       "      <td>/home/hsher/scratch/circ_nextera_iter3/output/...</td>\n",
       "      <td>siTHOC1</td>\n",
       "      <td>rar11</td>\n",
       "    </tr>\n",
       "    <tr>\n",
       "      <th>35</th>\n",
       "      <td>/home/hsher/scratch/circ_truseq_iter3/output/s...</td>\n",
       "      <td>siTHOC1</td>\n",
       "      <td>rz</td>\n",
       "    </tr>\n",
       "  </tbody>\n",
       "</table>\n",
       "</div>"
      ],
      "text/plain": [
       "                                                  gtf  libname protocol\n",
       "8   /home/hsher/scratch/circ_nextera_iter3/output/...  siTHOC1    rar11\n",
       "35  /home/hsher/scratch/circ_truseq_iter3/output/s...  siTHOC1       rz"
      ]
     },
     "execution_count": 61,
     "metadata": {},
     "output_type": "execute_result"
    }
   ],
   "source": [
    "de_menifest.loc[de_menifest['libname']=='siTHOC1']"
   ]
  },
  {
   "cell_type": "code",
   "execution_count": 67,
   "id": "f13d8f6f-c2b7-43d6-8eb8-8cd43c5cc3dd",
   "metadata": {
    "tags": []
   },
   "outputs": [],
   "source": []
  },
  {
   "cell_type": "code",
   "execution_count": 81,
   "id": "68faadca-f24c-4323-b1a6-5bdb4ba87f11",
   "metadata": {
    "tags": []
   },
   "outputs": [],
   "source": [
    "de = pd.pivot_table(de_menifest, index = 'libname', columns = ['protocol'], values = 'gtf', aggfunc = lambda x:x)\n",
    "de = de[['rar11', 'rz']].dropna()\n",
    "de=de.rename({'rar11':'RNase+', 'rz':'RNase-'}, axis = 1)\n",
    "de['sample_label']=de['RNase+'].apply(lambda path: Path(path).name.replace('.gtf',''))\n",
    "# add EV\n",
    "de.loc['EV']=['/home/hsher/scratch/circ_nextera_iter2/output/EV_rar11.gtf','/home/hsher/scratch/circ_truseq_iter2/output/EV_rz.gtf', 'EV_rar11']"
   ]
  },
  {
   "cell_type": "code",
   "execution_count": 83,
   "id": "c5c0d262-c72d-4b2e-a9f0-4b2ca17e94d8",
   "metadata": {
    "tags": []
   },
   "outputs": [],
   "source": [
    "de.to_csv('deseq_tether_iter1.csv')"
   ]
  },
  {
   "cell_type": "code",
   "execution_count": 85,
   "id": "aa807f79-6e3a-4290-8a7c-045b6cdb3755",
   "metadata": {
    "tags": []
   },
   "outputs": [
    {
     "data": {
      "text/html": [
       "<div>\n",
       "<style scoped>\n",
       "    .dataframe tbody tr th:only-of-type {\n",
       "        vertical-align: middle;\n",
       "    }\n",
       "\n",
       "    .dataframe tbody tr th {\n",
       "        vertical-align: top;\n",
       "    }\n",
       "\n",
       "    .dataframe thead th {\n",
       "        text-align: right;\n",
       "    }\n",
       "</style>\n",
       "<table border=\"1\" class=\"dataframe\">\n",
       "  <thead>\n",
       "    <tr style=\"text-align: right;\">\n",
       "      <th>protocol</th>\n",
       "      <th>RNase+</th>\n",
       "      <th>RNase-</th>\n",
       "      <th>sample_label</th>\n",
       "    </tr>\n",
       "    <tr>\n",
       "      <th>libname</th>\n",
       "      <th></th>\n",
       "      <th></th>\n",
       "      <th></th>\n",
       "    </tr>\n",
       "  </thead>\n",
       "  <tbody>\n",
       "    <tr>\n",
       "      <th>ANXA2</th>\n",
       "      <td>/home/hsher/scratch/circ_nextera_iter3/output/...</td>\n",
       "      <td>/home/hsher/scratch/circ_truseq_iter3/output/A...</td>\n",
       "      <td>ANXA2_rar11</td>\n",
       "    </tr>\n",
       "    <tr>\n",
       "      <th>DCP1A</th>\n",
       "      <td>/home/hsher/scratch/circ_nextera_iter3/output/...</td>\n",
       "      <td>/home/hsher/scratch/circ_truseq_iter3/output/D...</td>\n",
       "      <td>DCP1A_rar11</td>\n",
       "    </tr>\n",
       "    <tr>\n",
       "      <th>DDX19A</th>\n",
       "      <td>/home/hsher/scratch/circ_nextera_iter3/output/...</td>\n",
       "      <td>/home/hsher/scratch/circ_truseq_iter3/output/D...</td>\n",
       "      <td>DDX19A_rar11</td>\n",
       "    </tr>\n",
       "    <tr>\n",
       "      <th>DDX52</th>\n",
       "      <td>/home/hsher/scratch/circ_nextera_iter3/output/...</td>\n",
       "      <td>/home/hsher/scratch/circ_truseq_iter3/output/D...</td>\n",
       "      <td>DDX52_rar11</td>\n",
       "    </tr>\n",
       "    <tr>\n",
       "      <th>EIF3C</th>\n",
       "      <td>/home/hsher/scratch/circ_nextera_iter3/output/...</td>\n",
       "      <td>/home/hsher/scratch/circ_truseq_iter3/output/E...</td>\n",
       "      <td>EIF3C_rar11</td>\n",
       "    </tr>\n",
       "    <tr>\n",
       "      <th>G3BP2</th>\n",
       "      <td>/home/hsher/scratch/circ_nextera_iter3/output/...</td>\n",
       "      <td>/home/hsher/scratch/circ_truseq_iter3/output/G...</td>\n",
       "      <td>G3BP2_rar11</td>\n",
       "    </tr>\n",
       "    <tr>\n",
       "      <th>LARP4</th>\n",
       "      <td>/home/hsher/scratch/circ_nextera_iter3/output/...</td>\n",
       "      <td>/home/hsher/scratch/circ_truseq_iter3/output/L...</td>\n",
       "      <td>LARP4_rar11</td>\n",
       "    </tr>\n",
       "    <tr>\n",
       "      <th>LARP4B</th>\n",
       "      <td>/home/hsher/scratch/circ_nextera_iter3/output/...</td>\n",
       "      <td>/home/hsher/scratch/circ_truseq_iter3/output/L...</td>\n",
       "      <td>LARP4B_rar11</td>\n",
       "    </tr>\n",
       "    <tr>\n",
       "      <th>RBM17</th>\n",
       "      <td>/home/hsher/scratch/circ_nextera_iter3/output/...</td>\n",
       "      <td>/home/hsher/scratch/circ_truseq_iter3/output/R...</td>\n",
       "      <td>RBM17_rar11</td>\n",
       "    </tr>\n",
       "    <tr>\n",
       "      <th>RPS10</th>\n",
       "      <td>/home/hsher/scratch/circ_nextera_iter3/output/...</td>\n",
       "      <td>/home/hsher/scratch/circ_truseq_iter3/output/R...</td>\n",
       "      <td>RPS10_rar11</td>\n",
       "    </tr>\n",
       "    <tr>\n",
       "      <th>THOC1</th>\n",
       "      <td>/home/hsher/scratch/circ_nextera_iter3/output/...</td>\n",
       "      <td>/home/hsher/scratch/circ_truseq_iter3/output/T...</td>\n",
       "      <td>THOC1_rar11</td>\n",
       "    </tr>\n",
       "    <tr>\n",
       "      <th>U2AF2</th>\n",
       "      <td>/home/hsher/scratch/circ_nextera_iter3/output/...</td>\n",
       "      <td>/home/hsher/scratch/circ_truseq_iter3/output/U...</td>\n",
       "      <td>U2AF2_rar11</td>\n",
       "    </tr>\n",
       "    <tr>\n",
       "      <th>ZC3HAV1</th>\n",
       "      <td>/home/hsher/scratch/circ_nextera_iter3/output/...</td>\n",
       "      <td>/home/hsher/scratch/circ_truseq_iter3/output/Z...</td>\n",
       "      <td>ZC3HAV1_rar11</td>\n",
       "    </tr>\n",
       "    <tr>\n",
       "      <th>siANXA2</th>\n",
       "      <td>/home/hsher/scratch/circ_nextera_iter3/output/...</td>\n",
       "      <td>/home/hsher/scratch/circ_truseq_iter3/output/s...</td>\n",
       "      <td>siANXA2_rar11</td>\n",
       "    </tr>\n",
       "    <tr>\n",
       "      <th>siDCP1A</th>\n",
       "      <td>/home/hsher/scratch/circ_nextera_iter3/output/...</td>\n",
       "      <td>/home/hsher/scratch/circ_truseq_iter3/output/s...</td>\n",
       "      <td>siDCP1A_rar11</td>\n",
       "    </tr>\n",
       "    <tr>\n",
       "      <th>siDDX19A</th>\n",
       "      <td>/home/hsher/scratch/circ_nextera_iter3/output/...</td>\n",
       "      <td>/home/hsher/scratch/circ_truseq_iter3/output/s...</td>\n",
       "      <td>siDDX19A_rar11</td>\n",
       "    </tr>\n",
       "    <tr>\n",
       "      <th>siDDX52</th>\n",
       "      <td>/home/hsher/scratch/circ_nextera_iter3/output/...</td>\n",
       "      <td>/home/hsher/scratch/circ_truseq_iter3/output/s...</td>\n",
       "      <td>siDDX52_rar11</td>\n",
       "    </tr>\n",
       "    <tr>\n",
       "      <th>siG3BP2</th>\n",
       "      <td>/home/hsher/scratch/circ_nextera_iter3/output/...</td>\n",
       "      <td>/home/hsher/scratch/circ_truseq_iter3/output/s...</td>\n",
       "      <td>siG3BP2_rar11</td>\n",
       "    </tr>\n",
       "    <tr>\n",
       "      <th>siLARP4</th>\n",
       "      <td>/home/hsher/scratch/circ_nextera_iter3/output/...</td>\n",
       "      <td>/home/hsher/scratch/circ_truseq_iter3/output/s...</td>\n",
       "      <td>siLARP4_rar11</td>\n",
       "    </tr>\n",
       "    <tr>\n",
       "      <th>siLARP4B</th>\n",
       "      <td>/home/hsher/scratch/circ_nextera_iter3/output/...</td>\n",
       "      <td>/home/hsher/scratch/circ_truseq_iter3/output/s...</td>\n",
       "      <td>siLARP4B_rar11</td>\n",
       "    </tr>\n",
       "    <tr>\n",
       "      <th>siNT</th>\n",
       "      <td>/home/hsher/scratch/circ_nextera_iter3/output/...</td>\n",
       "      <td>/home/hsher/scratch/circ_truseq_iter3/output/s...</td>\n",
       "      <td>siNT_rar11</td>\n",
       "    </tr>\n",
       "    <tr>\n",
       "      <th>siRBM15</th>\n",
       "      <td>/home/hsher/scratch/circ_nextera_iter3/output/...</td>\n",
       "      <td>/home/hsher/scratch/circ_truseq_iter3/output/s...</td>\n",
       "      <td>siRBM15_rar11</td>\n",
       "    </tr>\n",
       "    <tr>\n",
       "      <th>siRBM17</th>\n",
       "      <td>/home/hsher/scratch/circ_nextera_iter3/output/...</td>\n",
       "      <td>/home/hsher/scratch/circ_truseq_iter3/output/s...</td>\n",
       "      <td>siRBM17_rar11</td>\n",
       "    </tr>\n",
       "    <tr>\n",
       "      <th>siTHOC1</th>\n",
       "      <td>/home/hsher/scratch/circ_nextera_iter3/output/...</td>\n",
       "      <td>/home/hsher/scratch/circ_truseq_iter3/output/s...</td>\n",
       "      <td>siTHOC1_rar11</td>\n",
       "    </tr>\n",
       "    <tr>\n",
       "      <th>siTOB2</th>\n",
       "      <td>/home/hsher/scratch/circ_nextera_iter3/output/...</td>\n",
       "      <td>/home/hsher/scratch/circ_truseq_iter3/output/s...</td>\n",
       "      <td>siTOB2_rar11</td>\n",
       "    </tr>\n",
       "    <tr>\n",
       "      <th>siU2AF2</th>\n",
       "      <td>/home/hsher/scratch/circ_nextera_iter3/output/...</td>\n",
       "      <td>/home/hsher/scratch/circ_truseq_iter3/output/s...</td>\n",
       "      <td>siU2AF2_rar11</td>\n",
       "    </tr>\n",
       "    <tr>\n",
       "      <th>siZC3HAV1</th>\n",
       "      <td>/home/hsher/scratch/circ_nextera_iter3/output/...</td>\n",
       "      <td>/home/hsher/scratch/circ_truseq_iter3/output/s...</td>\n",
       "      <td>siZC3HAV1_rar11</td>\n",
       "    </tr>\n",
       "    <tr>\n",
       "      <th>EV</th>\n",
       "      <td>/home/hsher/scratch/circ_nextera_iter2/output/...</td>\n",
       "      <td>/home/hsher/scratch/circ_truseq_iter2/output/E...</td>\n",
       "      <td>EV_rar11</td>\n",
       "    </tr>\n",
       "  </tbody>\n",
       "</table>\n",
       "</div>"
      ],
      "text/plain": [
       "protocol                                              RNase+  \\\n",
       "libname                                                        \n",
       "ANXA2      /home/hsher/scratch/circ_nextera_iter3/output/...   \n",
       "DCP1A      /home/hsher/scratch/circ_nextera_iter3/output/...   \n",
       "DDX19A     /home/hsher/scratch/circ_nextera_iter3/output/...   \n",
       "DDX52      /home/hsher/scratch/circ_nextera_iter3/output/...   \n",
       "EIF3C      /home/hsher/scratch/circ_nextera_iter3/output/...   \n",
       "G3BP2      /home/hsher/scratch/circ_nextera_iter3/output/...   \n",
       "LARP4      /home/hsher/scratch/circ_nextera_iter3/output/...   \n",
       "LARP4B     /home/hsher/scratch/circ_nextera_iter3/output/...   \n",
       "RBM17      /home/hsher/scratch/circ_nextera_iter3/output/...   \n",
       "RPS10      /home/hsher/scratch/circ_nextera_iter3/output/...   \n",
       "THOC1      /home/hsher/scratch/circ_nextera_iter3/output/...   \n",
       "U2AF2      /home/hsher/scratch/circ_nextera_iter3/output/...   \n",
       "ZC3HAV1    /home/hsher/scratch/circ_nextera_iter3/output/...   \n",
       "siANXA2    /home/hsher/scratch/circ_nextera_iter3/output/...   \n",
       "siDCP1A    /home/hsher/scratch/circ_nextera_iter3/output/...   \n",
       "siDDX19A   /home/hsher/scratch/circ_nextera_iter3/output/...   \n",
       "siDDX52    /home/hsher/scratch/circ_nextera_iter3/output/...   \n",
       "siG3BP2    /home/hsher/scratch/circ_nextera_iter3/output/...   \n",
       "siLARP4    /home/hsher/scratch/circ_nextera_iter3/output/...   \n",
       "siLARP4B   /home/hsher/scratch/circ_nextera_iter3/output/...   \n",
       "siNT       /home/hsher/scratch/circ_nextera_iter3/output/...   \n",
       "siRBM15    /home/hsher/scratch/circ_nextera_iter3/output/...   \n",
       "siRBM17    /home/hsher/scratch/circ_nextera_iter3/output/...   \n",
       "siTHOC1    /home/hsher/scratch/circ_nextera_iter3/output/...   \n",
       "siTOB2     /home/hsher/scratch/circ_nextera_iter3/output/...   \n",
       "siU2AF2    /home/hsher/scratch/circ_nextera_iter3/output/...   \n",
       "siZC3HAV1  /home/hsher/scratch/circ_nextera_iter3/output/...   \n",
       "EV         /home/hsher/scratch/circ_nextera_iter2/output/...   \n",
       "\n",
       "protocol                                              RNase-     sample_label  \n",
       "libname                                                                        \n",
       "ANXA2      /home/hsher/scratch/circ_truseq_iter3/output/A...      ANXA2_rar11  \n",
       "DCP1A      /home/hsher/scratch/circ_truseq_iter3/output/D...      DCP1A_rar11  \n",
       "DDX19A     /home/hsher/scratch/circ_truseq_iter3/output/D...     DDX19A_rar11  \n",
       "DDX52      /home/hsher/scratch/circ_truseq_iter3/output/D...      DDX52_rar11  \n",
       "EIF3C      /home/hsher/scratch/circ_truseq_iter3/output/E...      EIF3C_rar11  \n",
       "G3BP2      /home/hsher/scratch/circ_truseq_iter3/output/G...      G3BP2_rar11  \n",
       "LARP4      /home/hsher/scratch/circ_truseq_iter3/output/L...      LARP4_rar11  \n",
       "LARP4B     /home/hsher/scratch/circ_truseq_iter3/output/L...     LARP4B_rar11  \n",
       "RBM17      /home/hsher/scratch/circ_truseq_iter3/output/R...      RBM17_rar11  \n",
       "RPS10      /home/hsher/scratch/circ_truseq_iter3/output/R...      RPS10_rar11  \n",
       "THOC1      /home/hsher/scratch/circ_truseq_iter3/output/T...      THOC1_rar11  \n",
       "U2AF2      /home/hsher/scratch/circ_truseq_iter3/output/U...      U2AF2_rar11  \n",
       "ZC3HAV1    /home/hsher/scratch/circ_truseq_iter3/output/Z...    ZC3HAV1_rar11  \n",
       "siANXA2    /home/hsher/scratch/circ_truseq_iter3/output/s...    siANXA2_rar11  \n",
       "siDCP1A    /home/hsher/scratch/circ_truseq_iter3/output/s...    siDCP1A_rar11  \n",
       "siDDX19A   /home/hsher/scratch/circ_truseq_iter3/output/s...   siDDX19A_rar11  \n",
       "siDDX52    /home/hsher/scratch/circ_truseq_iter3/output/s...    siDDX52_rar11  \n",
       "siG3BP2    /home/hsher/scratch/circ_truseq_iter3/output/s...    siG3BP2_rar11  \n",
       "siLARP4    /home/hsher/scratch/circ_truseq_iter3/output/s...    siLARP4_rar11  \n",
       "siLARP4B   /home/hsher/scratch/circ_truseq_iter3/output/s...   siLARP4B_rar11  \n",
       "siNT       /home/hsher/scratch/circ_truseq_iter3/output/s...       siNT_rar11  \n",
       "siRBM15    /home/hsher/scratch/circ_truseq_iter3/output/s...    siRBM15_rar11  \n",
       "siRBM17    /home/hsher/scratch/circ_truseq_iter3/output/s...    siRBM17_rar11  \n",
       "siTHOC1    /home/hsher/scratch/circ_truseq_iter3/output/s...    siTHOC1_rar11  \n",
       "siTOB2     /home/hsher/scratch/circ_truseq_iter3/output/s...     siTOB2_rar11  \n",
       "siU2AF2    /home/hsher/scratch/circ_truseq_iter3/output/s...    siU2AF2_rar11  \n",
       "siZC3HAV1  /home/hsher/scratch/circ_truseq_iter3/output/s...  siZC3HAV1_rar11  \n",
       "EV         /home/hsher/scratch/circ_truseq_iter2/output/E...         EV_rar11  "
      ]
     },
     "execution_count": 85,
     "metadata": {},
     "output_type": "execute_result"
    }
   ],
   "source": [
    "de"
   ]
  },
  {
   "cell_type": "code",
   "execution_count": 86,
   "id": "7a31c393-09d1-4019-8b69-bccfa58f82c7",
   "metadata": {
    "tags": []
   },
   "outputs": [],
   "source": [
    "si_trials = [s for s in de['sample_label'] if s.startswith('si') and s != 'siNT_rar11']"
   ]
  },
  {
   "cell_type": "code",
   "execution_count": 87,
   "id": "fb06eb49-6d62-4b90-a1c1-34cb170afef0",
   "metadata": {
    "tags": []
   },
   "outputs": [],
   "source": [
    "ov_trials = [s for s in de['sample_label'] if not s.startswith('si') and s != 'EV_rar11']"
   ]
  },
  {
   "cell_type": "code",
   "execution_count": 88,
   "id": "5b29e249-cbed-4c89-91d4-8b7858e7035c",
   "metadata": {
    "tags": []
   },
   "outputs": [
    {
     "data": {
      "text/plain": [
       "['siANXA2_rar11',\n",
       " 'siDCP1A_rar11',\n",
       " 'siDDX19A_rar11',\n",
       " 'siDDX52_rar11',\n",
       " 'siG3BP2_rar11',\n",
       " 'siLARP4_rar11',\n",
       " 'siLARP4B_rar11',\n",
       " 'siRBM15_rar11',\n",
       " 'siRBM17_rar11',\n",
       " 'siTHOC1_rar11',\n",
       " 'siTOB2_rar11',\n",
       " 'siU2AF2_rar11',\n",
       " 'siZC3HAV1_rar11']"
      ]
     },
     "execution_count": 88,
     "metadata": {},
     "output_type": "execute_result"
    }
   ],
   "source": [
    "si_trials"
   ]
  },
  {
   "cell_type": "code",
   "execution_count": 89,
   "id": "19f3e92b-aa97-4880-bccf-725cb0402a64",
   "metadata": {
    "tags": []
   },
   "outputs": [
    {
     "data": {
      "text/plain": [
       "['ANXA2_rar11',\n",
       " 'DCP1A_rar11',\n",
       " 'DDX19A_rar11',\n",
       " 'DDX52_rar11',\n",
       " 'EIF3C_rar11',\n",
       " 'G3BP2_rar11',\n",
       " 'LARP4_rar11',\n",
       " 'LARP4B_rar11',\n",
       " 'RBM17_rar11',\n",
       " 'RPS10_rar11',\n",
       " 'THOC1_rar11',\n",
       " 'U2AF2_rar11',\n",
       " 'ZC3HAV1_rar11']"
      ]
     },
     "execution_count": 89,
     "metadata": {},
     "output_type": "execute_result"
    }
   ],
   "source": [
    "ov_trials"
   ]
  },
  {
   "cell_type": "code",
   "execution_count": null,
   "id": "d7eed676-633b-4c6e-83c9-8a5f491f73d8",
   "metadata": {},
   "outputs": [],
   "source": []
  }
 ],
 "metadata": {
  "kernelspec": {
   "display_name": "Metadensity",
   "language": "python",
   "name": "metadensity"
  },
  "language_info": {
   "codemirror_mode": {
    "name": "ipython",
    "version": 3
   },
   "file_extension": ".py",
   "mimetype": "text/x-python",
   "name": "python",
   "nbconvert_exporter": "python",
   "pygments_lexer": "ipython3",
   "version": "3.9.16"
  }
 },
 "nbformat": 4,
 "nbformat_minor": 5
}
