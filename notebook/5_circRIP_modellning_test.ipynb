{
 "cells": [
  {
   "cell_type": "code",
   "execution_count": 7,
   "id": "7db59b36-f552-4317-83a1-38feb6180fbe",
   "metadata": {
    "tags": []
   },
   "outputs": [],
   "source": [
    "import pandas as pd\n",
    "counts = pd.read_csv('/home/hsher/scratch/rar11_input.tsv', sep = '\\t')\n",
    "IN='PP_Input1'\n",
    "IP='PP_Monosome1'"
   ]
  },
  {
   "cell_type": "code",
   "execution_count": 2,
   "id": "e0f02552-f450-436f-8606-6e0e7d60b698",
   "metadata": {
    "tags": []
   },
   "outputs": [],
   "source": [
    "import numpy as np\n",
    "import statsmodels.api as sm\n",
    "import matplotlib.pyplot as plt"
   ]
  },
  {
   "cell_type": "code",
   "execution_count": 3,
   "id": "49b51c33-296c-4e9e-8f99-b435071fe143",
   "metadata": {
    "tags": []
   },
   "outputs": [
    {
     "data": {
      "text/html": [
       "<div>\n",
       "<style scoped>\n",
       "    .dataframe tbody tr th:only-of-type {\n",
       "        vertical-align: middle;\n",
       "    }\n",
       "\n",
       "    .dataframe tbody tr th {\n",
       "        vertical-align: top;\n",
       "    }\n",
       "\n",
       "    .dataframe thead th {\n",
       "        text-align: right;\n",
       "    }\n",
       "</style>\n",
       "<table border=\"1\" class=\"dataframe\">\n",
       "  <thead>\n",
       "    <tr style=\"text-align: right;\">\n",
       "      <th></th>\n",
       "      <th>Unnamed: 0</th>\n",
       "      <th>seqname</th>\n",
       "      <th>source</th>\n",
       "      <th>feature</th>\n",
       "      <th>start</th>\n",
       "      <th>end</th>\n",
       "      <th>strand</th>\n",
       "      <th>frame</th>\n",
       "      <th>circ_id</th>\n",
       "      <th>circ_type</th>\n",
       "      <th>...</th>\n",
       "      <th>BSJ-PP_Polysome1</th>\n",
       "      <th>BSJ-PP_Polysome2</th>\n",
       "      <th>BSJ-PP_Input2</th>\n",
       "      <th>BSJ-PP_Monosome1</th>\n",
       "      <th>FSJ-PP_Input1</th>\n",
       "      <th>FSJ-PP_Monosome2</th>\n",
       "      <th>FSJ-PP_Polysome1</th>\n",
       "      <th>FSJ-PP_Polysome2</th>\n",
       "      <th>FSJ-PP_Input2</th>\n",
       "      <th>FSJ-PP_Monosome1</th>\n",
       "    </tr>\n",
       "  </thead>\n",
       "  <tbody>\n",
       "    <tr>\n",
       "      <th>0</th>\n",
       "      <td>0</td>\n",
       "      <td>chr1</td>\n",
       "      <td>CIRIquant</td>\n",
       "      <td>circRNA</td>\n",
       "      <td>746695.0</td>\n",
       "      <td>749381.0</td>\n",
       "      <td>-</td>\n",
       "      <td>.</td>\n",
       "      <td>chr1:746695|749381</td>\n",
       "      <td>intron</td>\n",
       "      <td>...</td>\n",
       "      <td>0.0</td>\n",
       "      <td>0.0</td>\n",
       "      <td>24.0</td>\n",
       "      <td>0.0</td>\n",
       "      <td>4.0</td>\n",
       "      <td>0.0</td>\n",
       "      <td>0.0</td>\n",
       "      <td>0.0</td>\n",
       "      <td>42.0</td>\n",
       "      <td>0.0</td>\n",
       "    </tr>\n",
       "    <tr>\n",
       "      <th>1</th>\n",
       "      <td>1</td>\n",
       "      <td>chr1</td>\n",
       "      <td>CIRIquant</td>\n",
       "      <td>circRNA</td>\n",
       "      <td>805799.0</td>\n",
       "      <td>810170.0</td>\n",
       "      <td>-</td>\n",
       "      <td>.</td>\n",
       "      <td>chr1:805799|810170</td>\n",
       "      <td>exon</td>\n",
       "      <td>...</td>\n",
       "      <td>0.0</td>\n",
       "      <td>9.0</td>\n",
       "      <td>34.0</td>\n",
       "      <td>11.0</td>\n",
       "      <td>8.0</td>\n",
       "      <td>0.0</td>\n",
       "      <td>0.0</td>\n",
       "      <td>3.0</td>\n",
       "      <td>16.0</td>\n",
       "      <td>1.0</td>\n",
       "    </tr>\n",
       "    <tr>\n",
       "      <th>2</th>\n",
       "      <td>2</td>\n",
       "      <td>chr1</td>\n",
       "      <td>CIRIquant</td>\n",
       "      <td>circRNA</td>\n",
       "      <td>915319.0</td>\n",
       "      <td>915949.0</td>\n",
       "      <td>+</td>\n",
       "      <td>.</td>\n",
       "      <td>chr1:915319|915949</td>\n",
       "      <td>intron</td>\n",
       "      <td>...</td>\n",
       "      <td>0.0</td>\n",
       "      <td>0.0</td>\n",
       "      <td>1.0</td>\n",
       "      <td>0.0</td>\n",
       "      <td>51.0</td>\n",
       "      <td>0.0</td>\n",
       "      <td>0.0</td>\n",
       "      <td>0.0</td>\n",
       "      <td>43.0</td>\n",
       "      <td>0.0</td>\n",
       "    </tr>\n",
       "    <tr>\n",
       "      <th>3</th>\n",
       "      <td>3</td>\n",
       "      <td>chr1</td>\n",
       "      <td>CIRIquant</td>\n",
       "      <td>circRNA</td>\n",
       "      <td>955923.0</td>\n",
       "      <td>957273.0</td>\n",
       "      <td>-</td>\n",
       "      <td>.</td>\n",
       "      <td>chr1:955923|957273</td>\n",
       "      <td>exon</td>\n",
       "      <td>...</td>\n",
       "      <td>0.0</td>\n",
       "      <td>0.0</td>\n",
       "      <td>2.0</td>\n",
       "      <td>0.0</td>\n",
       "      <td>222.0</td>\n",
       "      <td>15.0</td>\n",
       "      <td>0.0</td>\n",
       "      <td>0.0</td>\n",
       "      <td>220.0</td>\n",
       "      <td>0.0</td>\n",
       "    </tr>\n",
       "    <tr>\n",
       "      <th>4</th>\n",
       "      <td>4</td>\n",
       "      <td>chr1</td>\n",
       "      <td>CIRIquant</td>\n",
       "      <td>circRNA</td>\n",
       "      <td>1084353.0</td>\n",
       "      <td>1086012.0</td>\n",
       "      <td>-</td>\n",
       "      <td>.</td>\n",
       "      <td>chr1:1084353|1086012</td>\n",
       "      <td>exon</td>\n",
       "      <td>...</td>\n",
       "      <td>0.0</td>\n",
       "      <td>0.0</td>\n",
       "      <td>0.0</td>\n",
       "      <td>0.0</td>\n",
       "      <td>30.0</td>\n",
       "      <td>0.0</td>\n",
       "      <td>0.0</td>\n",
       "      <td>0.0</td>\n",
       "      <td>0.0</td>\n",
       "      <td>0.0</td>\n",
       "    </tr>\n",
       "  </tbody>\n",
       "</table>\n",
       "<p>5 rows × 25 columns</p>\n",
       "</div>"
      ],
      "text/plain": [
       "   Unnamed: 0 seqname     source  feature      start        end strand frame  \\\n",
       "0           0    chr1  CIRIquant  circRNA   746695.0   749381.0      -     .   \n",
       "1           1    chr1  CIRIquant  circRNA   805799.0   810170.0      -     .   \n",
       "2           2    chr1  CIRIquant  circRNA   915319.0   915949.0      +     .   \n",
       "3           3    chr1  CIRIquant  circRNA   955923.0   957273.0      -     .   \n",
       "4           4    chr1  CIRIquant  circRNA  1084353.0  1086012.0      -     .   \n",
       "\n",
       "                circ_id circ_type  ... BSJ-PP_Polysome1 BSJ-PP_Polysome2  \\\n",
       "0    chr1:746695|749381    intron  ...              0.0              0.0   \n",
       "1    chr1:805799|810170      exon  ...              0.0              9.0   \n",
       "2    chr1:915319|915949    intron  ...              0.0              0.0   \n",
       "3    chr1:955923|957273      exon  ...              0.0              0.0   \n",
       "4  chr1:1084353|1086012      exon  ...              0.0              0.0   \n",
       "\n",
       "  BSJ-PP_Input2  BSJ-PP_Monosome1  FSJ-PP_Input1  FSJ-PP_Monosome2  \\\n",
       "0          24.0               0.0            4.0               0.0   \n",
       "1          34.0              11.0            8.0               0.0   \n",
       "2           1.0               0.0           51.0               0.0   \n",
       "3           2.0               0.0          222.0              15.0   \n",
       "4           0.0               0.0           30.0               0.0   \n",
       "\n",
       "   FSJ-PP_Polysome1  FSJ-PP_Polysome2  FSJ-PP_Input2  FSJ-PP_Monosome1  \n",
       "0               0.0               0.0           42.0               0.0  \n",
       "1               0.0               3.0           16.0               1.0  \n",
       "2               0.0               0.0           43.0               0.0  \n",
       "3               0.0               0.0          220.0               0.0  \n",
       "4               0.0               0.0            0.0               0.0  \n",
       "\n",
       "[5 rows x 25 columns]"
      ]
     },
     "execution_count": 3,
     "metadata": {},
     "output_type": "execute_result"
    }
   ],
   "source": [
    "counts.head()"
   ]
  },
  {
   "cell_type": "code",
   "execution_count": 4,
   "id": "75c285ad-f6d5-48e7-b6eb-692bfa3dcc08",
   "metadata": {
    "tags": []
   },
   "outputs": [
    {
     "name": "stderr",
     "output_type": "stream",
     "text": [
      "/scratch/hsher/33384802.tscc-mgr7.local/ipykernel_33597/303668767.py:1: FutureWarning: The default value of numeric_only in DataFrame.max is deprecated. In a future version, it will default to False. In addition, specifying 'numeric_only=None' is deprecated. Select only valid columns or specify the value of numeric_only to silence this warning.\n",
      "  counts.max()\n"
     ]
    },
    {
     "data": {
      "text/plain": [
       "Unnamed: 0                           81919\n",
       "seqname                               chrX\n",
       "source                           CIRIquant\n",
       "feature                            circRNA\n",
       "start                          248916602.0\n",
       "end                            248917961.0\n",
       "strand                                   -\n",
       "frame                                    .\n",
       "circ_id             chrX:99653827|99660890\n",
       "circ_type                           intron\n",
       "BSJ-PP_Input1                      12465.0\n",
       "BSJ-PP_Monosome2                    4761.0\n",
       "BSJ-PP_Polysome1                     900.0\n",
       "BSJ-PP_Polysome2                    2870.0\n",
       "BSJ-PP_Input2                      11770.0\n",
       "BSJ-PP_Monosome1                    9767.0\n",
       "FSJ-PP_Input1                      38687.0\n",
       "FSJ-PP_Monosome2                   86727.0\n",
       "FSJ-PP_Polysome1                    1680.0\n",
       "FSJ-PP_Polysome2                   14861.0\n",
       "FSJ-PP_Input2                      36014.0\n",
       "FSJ-PP_Monosome1                   53068.0\n",
       "dtype: object"
      ]
     },
     "execution_count": 4,
     "metadata": {},
     "output_type": "execute_result"
    }
   ],
   "source": [
    "counts.max()"
   ]
  },
  {
   "cell_type": "code",
   "execution_count": 8,
   "id": "0b7839f7-6e12-4ceb-879f-0fc387f19edb",
   "metadata": {
    "tags": []
   },
   "outputs": [],
   "source": [
    "from itertools import combinations\n",
    "import statsmodels.formula.api as smf\n",
    "#https://stackoverflow.com/questions/46173061/statsmodels-throws-overflow-in-exp-and-divide-by-zero-in-log-warnings-and-ps\n",
    "#extermely large numbers causing problems\n",
    "\n",
    "\n",
    "\n",
    "y = f'BSJ-{IP}'\n",
    "x = f'BSJ-{IN}'\n",
    "sub_counts = counts\n",
    "\n",
    "poisson_training_results = sm.GLM(sub_counts[y], np.log(sub_counts[x]+1), family=sm.families.Poisson()).fit()\n",
    "\n",
    "# get lambda from Poisson\n",
    "sub_counts['BB_LAMBDA'] = poisson_training_results.mu\n",
    "sub_counts['AUX_OLS_DEP'] = sub_counts.apply(lambda row: ((row[y] - row['BB_LAMBDA'])**2 - row['BB_LAMBDA']) / row['BB_LAMBDA'], axis=1)\n",
    "ols_expr = \"\"\"AUX_OLS_DEP ~ BB_LAMBDA - 1\"\"\"\n",
    "aux_olsr_results = smf.ols(ols_expr, sub_counts).fit()\n",
    "\n",
    "# fit nb\n",
    "nb2_training_results = sm.GLM(sub_counts[y], np.log(sub_counts[x]+1),\n",
    "                              family=sm.families.NegativeBinomial(alpha=aux_olsr_results.params[0])).fit()"
   ]
  },
  {
   "cell_type": "code",
   "execution_count": 9,
   "id": "9751ca29-6666-4132-9c38-542592df124f",
   "metadata": {
    "tags": []
   },
   "outputs": [
    {
     "data": {
      "text/plain": [
       "BB_LAMBDA    89.444546\n",
       "dtype: float64"
      ]
     },
     "execution_count": 9,
     "metadata": {},
     "output_type": "execute_result"
    }
   ],
   "source": [
    "aux_olsr_results.tvalues"
   ]
  },
  {
   "cell_type": "code",
   "execution_count": 10,
   "id": "05bb4000-2007-4e44-bdf2-76a7b01a8255",
   "metadata": {
    "tags": []
   },
   "outputs": [
    {
     "data": {
      "text/html": [
       "<table class=\"simpletable\">\n",
       "<caption>OLS Regression Results</caption>\n",
       "<tr>\n",
       "  <th>Dep. Variable:</th>       <td>AUX_OLS_DEP</td>   <th>  R-squared (uncentered):</th>       <td>   0.060</td>  \n",
       "</tr>\n",
       "<tr>\n",
       "  <th>Model:</th>                   <td>OLS</td>       <th>  Adj. R-squared (uncentered):</th>  <td>   0.060</td>  \n",
       "</tr>\n",
       "<tr>\n",
       "  <th>Method:</th>             <td>Least Squares</td>  <th>  F-statistic:       </th>           <td>   8000.</td>  \n",
       "</tr>\n",
       "<tr>\n",
       "  <th>Date:</th>             <td>Thu, 21 Sep 2023</td> <th>  Prob (F-statistic):</th>            <td>  0.00</td>   \n",
       "</tr>\n",
       "<tr>\n",
       "  <th>Time:</th>                 <td>10:11:39</td>     <th>  Log-Likelihood:    </th>          <td>-9.7327e+05</td>\n",
       "</tr>\n",
       "<tr>\n",
       "  <th>No. Observations:</th>      <td>125726</td>      <th>  AIC:               </th>           <td>1.947e+06</td> \n",
       "</tr>\n",
       "<tr>\n",
       "  <th>Df Residuals:</th>          <td>125725</td>      <th>  BIC:               </th>           <td>1.947e+06</td> \n",
       "</tr>\n",
       "<tr>\n",
       "  <th>Df Model:</th>              <td>     1</td>      <th>                     </th>               <td> </td>     \n",
       "</tr>\n",
       "<tr>\n",
       "  <th>Covariance Type:</th>      <td>nonrobust</td>    <th>                     </th>               <td> </td>     \n",
       "</tr>\n",
       "</table>\n",
       "<table class=\"simpletable\">\n",
       "<tr>\n",
       "      <td></td>         <th>coef</th>     <th>std err</th>      <th>t</th>      <th>P>|t|</th>  <th>[0.025</th>    <th>0.975]</th>  \n",
       "</tr>\n",
       "<tr>\n",
       "  <th>BB_LAMBDA</th> <td>   23.3685</td> <td>    0.261</td> <td>   89.445</td> <td> 0.000</td> <td>   22.856</td> <td>   23.881</td>\n",
       "</tr>\n",
       "</table>\n",
       "<table class=\"simpletable\">\n",
       "<tr>\n",
       "  <th>Omnibus:</th>       <td>679003.655</td> <th>  Durbin-Watson:     </th>      <td>   1.968</td>     \n",
       "</tr>\n",
       "<tr>\n",
       "  <th>Prob(Omnibus):</th>   <td> 0.000</td>   <th>  Jarque-Bera (JB):  </th> <td>42813603759912.297</td>\n",
       "</tr>\n",
       "<tr>\n",
       "  <th>Skew:</th>            <td>285.005</td>  <th>  Prob(JB):          </th>      <td>    0.00</td>     \n",
       "</tr>\n",
       "<tr>\n",
       "  <th>Kurtosis:</th>       <td>90404.436</td> <th>  Cond. No.          </th>      <td>    1.00</td>     \n",
       "</tr>\n",
       "</table><br/><br/>Notes:<br/>[1] R² is computed without centering (uncentered) since the model does not contain a constant.<br/>[2] Standard Errors assume that the covariance matrix of the errors is correctly specified."
      ],
      "text/plain": [
       "<class 'statsmodels.iolib.summary.Summary'>\n",
       "\"\"\"\n",
       "                                 OLS Regression Results                                \n",
       "=======================================================================================\n",
       "Dep. Variable:            AUX_OLS_DEP   R-squared (uncentered):                   0.060\n",
       "Model:                            OLS   Adj. R-squared (uncentered):              0.060\n",
       "Method:                 Least Squares   F-statistic:                              8000.\n",
       "Date:                Thu, 21 Sep 2023   Prob (F-statistic):                        0.00\n",
       "Time:                        10:11:39   Log-Likelihood:                     -9.7327e+05\n",
       "No. Observations:              125726   AIC:                                  1.947e+06\n",
       "Df Residuals:                  125725   BIC:                                  1.947e+06\n",
       "Df Model:                           1                                                  \n",
       "Covariance Type:            nonrobust                                                  \n",
       "==============================================================================\n",
       "                 coef    std err          t      P>|t|      [0.025      0.975]\n",
       "------------------------------------------------------------------------------\n",
       "BB_LAMBDA     23.3685      0.261     89.445      0.000      22.856      23.881\n",
       "==============================================================================\n",
       "Omnibus:                   679003.655   Durbin-Watson:                   1.968\n",
       "Prob(Omnibus):                  0.000   Jarque-Bera (JB):   42813603759912.297\n",
       "Skew:                         285.005   Prob(JB):                         0.00\n",
       "Kurtosis:                   90404.436   Cond. No.                         1.00\n",
       "==============================================================================\n",
       "\n",
       "Notes:\n",
       "[1] R² is computed without centering (uncentered) since the model does not contain a constant.\n",
       "[2] Standard Errors assume that the covariance matrix of the errors is correctly specified.\n",
       "\"\"\""
      ]
     },
     "execution_count": 10,
     "metadata": {},
     "output_type": "execute_result"
    }
   ],
   "source": [
    "aux_olsr_results.summary()"
   ]
  },
  {
   "cell_type": "code",
   "execution_count": 11,
   "id": "cbf0b888-d5bd-480c-9462-fb72b218a430",
   "metadata": {
    "tags": []
   },
   "outputs": [
    {
     "data": {
      "text/plain": [
       "(0.0, 100.0)"
      ]
     },
     "execution_count": 11,
     "metadata": {},
     "output_type": "execute_result"
    },
    {
     "data": {
      "image/png": "[encoded data removed]",
      "text/plain": [
       "<Figure size 432x288 with 1 Axes>"
      ]
     },
     "metadata": {
      "needs_background": "light"
     },
     "output_type": "display_data"
    }
   ],
   "source": [
    "sub_counts.plot.scatter(y = 'AUX_OLS_DEP', x = 'BB_LAMBDA')\n",
    "plt.xlim(0,100)"
   ]
  },
  {
   "cell_type": "code",
   "execution_count": 12,
   "id": "d44f0021-dbe7-4890-930a-12d45342304a",
   "metadata": {
    "tags": []
   },
   "outputs": [
    {
     "data": {
      "text/html": [
       "<table class=\"simpletable\">\n",
       "<caption>Generalized Linear Model Regression Results</caption>\n",
       "<tr>\n",
       "  <th>Dep. Variable:</th>   <td>BSJ-PP_Monosome1</td> <th>  No. Observations:  </th>   <td>125726</td>   \n",
       "</tr>\n",
       "<tr>\n",
       "  <th>Model:</th>                  <td>GLM</td>       <th>  Df Residuals:      </th>   <td>125725</td>   \n",
       "</tr>\n",
       "<tr>\n",
       "  <th>Model Family:</th>    <td>NegativeBinomial</td> <th>  Df Model:          </th>   <td>     0</td>   \n",
       "</tr>\n",
       "<tr>\n",
       "  <th>Link Function:</th>          <td>Log</td>       <th>  Scale:             </th>  <td>  1.0000</td>  \n",
       "</tr>\n",
       "<tr>\n",
       "  <th>Method:</th>                <td>IRLS</td>       <th>  Log-Likelihood:    </th> <td>-1.0427e+05</td>\n",
       "</tr>\n",
       "<tr>\n",
       "  <th>Date:</th>            <td>Thu, 21 Sep 2023</td> <th>  Deviance:          </th>  <td>  34189.</td>  \n",
       "</tr>\n",
       "<tr>\n",
       "  <th>Time:</th>                <td>10:11:57</td>     <th>  Pearson chi2:      </th>  <td>2.29e+04</td>  \n",
       "</tr>\n",
       "<tr>\n",
       "  <th>No. Iterations:</th>         <td>100</td>       <th>  Pseudo R-squ. (CS):</th>   <td>0.04907</td>  \n",
       "</tr>\n",
       "<tr>\n",
       "  <th>Covariance Type:</th>     <td>nonrobust</td>    <th>                     </th>      <td> </td>     \n",
       "</tr>\n",
       "</table>\n",
       "<table class=\"simpletable\">\n",
       "<tr>\n",
       "        <td></td>           <th>coef</th>     <th>std err</th>      <th>z</th>      <th>P>|z|</th>  <th>[0.025</th>    <th>0.975]</th>  \n",
       "</tr>\n",
       "<tr>\n",
       "  <th>BSJ-PP_Input1</th> <td>    0.3902</td> <td>    0.010</td> <td>   40.702</td> <td> 0.000</td> <td>    0.371</td> <td>    0.409</td>\n",
       "</tr>\n",
       "</table>"
      ],
      "text/plain": [
       "<class 'statsmodels.iolib.summary.Summary'>\n",
       "\"\"\"\n",
       "                 Generalized Linear Model Regression Results                  \n",
       "==============================================================================\n",
       "Dep. Variable:       BSJ-PP_Monosome1   No. Observations:               125726\n",
       "Model:                            GLM   Df Residuals:                   125725\n",
       "Model Family:        NegativeBinomial   Df Model:                            0\n",
       "Link Function:                    Log   Scale:                          1.0000\n",
       "Method:                          IRLS   Log-Likelihood:            -1.0427e+05\n",
       "Date:                Thu, 21 Sep 2023   Deviance:                       34189.\n",
       "Time:                        10:11:57   Pearson chi2:                 2.29e+04\n",
       "No. Iterations:                   100   Pseudo R-squ. (CS):            0.04907\n",
       "Covariance Type:            nonrobust                                         \n",
       "=================================================================================\n",
       "                    coef    std err          z      P>|z|      [0.025      0.975]\n",
       "---------------------------------------------------------------------------------\n",
       "BSJ-PP_Input1     0.3902      0.010     40.702      0.000       0.371       0.409\n",
       "=================================================================================\n",
       "\"\"\""
      ]
     },
     "execution_count": 12,
     "metadata": {},
     "output_type": "execute_result"
    }
   ],
   "source": [
    "nb2_training_results.summary()"
   ]
  },
  {
   "cell_type": "code",
   "execution_count": 13,
   "id": "829676a1-ad53-4e5f-9c42-c3a95aa1fe9f",
   "metadata": {
    "tags": []
   },
   "outputs": [
    {
     "data": {
      "text/html": [
       "<table class=\"simpletable\">\n",
       "<caption>Generalized Linear Model Regression Results</caption>\n",
       "<tr>\n",
       "  <th>Dep. Variable:</th>   <td>BSJ-PP_Monosome1</td> <th>  No. Observations:  </th>   <td>125726</td>   \n",
       "</tr>\n",
       "<tr>\n",
       "  <th>Model:</th>                  <td>GLM</td>       <th>  Df Residuals:      </th>   <td>125725</td>   \n",
       "</tr>\n",
       "<tr>\n",
       "  <th>Model Family:</th>         <td>Poisson</td>     <th>  Df Model:          </th>   <td>     0</td>   \n",
       "</tr>\n",
       "<tr>\n",
       "  <th>Link Function:</th>          <td>Log</td>       <th>  Scale:             </th>  <td>  1.0000</td>  \n",
       "</tr>\n",
       "<tr>\n",
       "  <th>Method:</th>                <td>IRLS</td>       <th>  Log-Likelihood:    </th> <td>-3.6024e+05</td>\n",
       "</tr>\n",
       "<tr>\n",
       "  <th>Date:</th>            <td>Thu, 21 Sep 2023</td> <th>  Deviance:          </th> <td>6.5920e+05</td> \n",
       "</tr>\n",
       "<tr>\n",
       "  <th>Time:</th>                <td>10:11:59</td>     <th>  Pearson chi2:      </th>  <td>8.88e+05</td>  \n",
       "</tr>\n",
       "<tr>\n",
       "  <th>No. Iterations:</th>          <td>6</td>        <th>  Pseudo R-squ. (CS):</th>   <td>0.9922</td>   \n",
       "</tr>\n",
       "<tr>\n",
       "  <th>Covariance Type:</th>     <td>nonrobust</td>    <th>                     </th>      <td> </td>     \n",
       "</tr>\n",
       "</table>\n",
       "<table class=\"simpletable\">\n",
       "<tr>\n",
       "        <td></td>           <th>coef</th>     <th>std err</th>      <th>z</th>      <th>P>|z|</th>  <th>[0.025</th>    <th>0.975]</th>  \n",
       "</tr>\n",
       "<tr>\n",
       "  <th>BSJ-PP_Input1</th> <td>    0.6488</td> <td>    0.001</td> <td> 1180.626</td> <td> 0.000</td> <td>    0.648</td> <td>    0.650</td>\n",
       "</tr>\n",
       "</table>"
      ],
      "text/plain": [
       "<class 'statsmodels.iolib.summary.Summary'>\n",
       "\"\"\"\n",
       "                 Generalized Linear Model Regression Results                  \n",
       "==============================================================================\n",
       "Dep. Variable:       BSJ-PP_Monosome1   No. Observations:               125726\n",
       "Model:                            GLM   Df Residuals:                   125725\n",
       "Model Family:                 Poisson   Df Model:                            0\n",
       "Link Function:                    Log   Scale:                          1.0000\n",
       "Method:                          IRLS   Log-Likelihood:            -3.6024e+05\n",
       "Date:                Thu, 21 Sep 2023   Deviance:                   6.5920e+05\n",
       "Time:                        10:11:59   Pearson chi2:                 8.88e+05\n",
       "No. Iterations:                     6   Pseudo R-squ. (CS):             0.9922\n",
       "Covariance Type:            nonrobust                                         \n",
       "=================================================================================\n",
       "                    coef    std err          z      P>|z|      [0.025      0.975]\n",
       "---------------------------------------------------------------------------------\n",
       "BSJ-PP_Input1     0.6488      0.001   1180.626      0.000       0.648       0.650\n",
       "=================================================================================\n",
       "\"\"\""
      ]
     },
     "execution_count": 13,
     "metadata": {},
     "output_type": "execute_result"
    }
   ],
   "source": [
    "poisson_training_results.summary()"
   ]
  },
  {
   "cell_type": "code",
   "execution_count": 57,
   "id": "3e5c9d43-ed29-43ee-b68e-600d9f192480",
   "metadata": {
    "tags": []
   },
   "outputs": [],
   "source": [
    "# for (rep1, rep2) in combinations(replicates,2):\n",
    "#     y = f'BSJ-{rep1}'\n",
    "#     x = [f'BSJ-{rep2}', f'FSJ-{rep1}', f'FSJ-{rep2}']\n",
    "    \n",
    "#     poisson_training_results_2 = sm.GLM(counts[y], counts[x], family=sm.families.Poisson()).fit()"
   ]
  },
  {
   "cell_type": "code",
   "execution_count": 14,
   "id": "3c305aa8-cb5f-46b9-8f38-7bb2e6486a3e",
   "metadata": {
    "tags": []
   },
   "outputs": [
    {
     "data": {
      "image/png": "[encoded data removed]",
      "text/plain": [
       "<Figure size 432x288 with 1 Axes>"
      ]
     },
     "metadata": {
      "needs_background": "light"
     },
     "output_type": "display_data"
    }
   ],
   "source": [
    "f = poisson_training_results.plot_partial_residuals(x)"
   ]
  },
  {
   "cell_type": "code",
   "execution_count": 15,
   "id": "3d66e4c8-d096-4225-82bf-0e87de9f9729",
   "metadata": {
    "tags": []
   },
   "outputs": [
    {
     "data": {
      "text/plain": [
       "[<matplotlib.lines.Line2D at 0x2b608b3767f0>]"
      ]
     },
     "execution_count": 15,
     "metadata": {},
     "output_type": "execute_result"
    },
    {
     "data": {
      "image/png": "[encoded data removed]",
      "text/plain": [
       "<Figure size 432x288 with 1 Axes>"
      ]
     },
     "metadata": {
      "needs_background": "light"
     },
     "output_type": "display_data"
    }
   ],
   "source": [
    "plt.scatter(counts[y], nb2_training_results.predict(np.log(counts[x]+1)),)\n",
    "plt.xlabel('Y')\n",
    "plt.ylabel('Y_hat')\n",
    "plt.plot([0, counts[y].max()], [0, counts[y].max()], '--', color = 'black')"
   ]
  },
  {
   "cell_type": "code",
   "execution_count": 16,
   "id": "2cf08eda-a510-43a2-9603-2ce3a5167f7b",
   "metadata": {
    "tags": []
   },
   "outputs": [
    {
     "data": {
      "text/plain": [
       "[<matplotlib.lines.Line2D at 0x2b608b3e5e80>]"
      ]
     },
     "execution_count": 16,
     "metadata": {},
     "output_type": "execute_result"
    },
    {
     "data": {
      "image/png": "[encoded data removed]",
      "text/plain": [
       "<Figure size 432x288 with 1 Axes>"
      ]
     },
     "metadata": {
      "needs_background": "light"
     },
     "output_type": "display_data"
    }
   ],
   "source": [
    "plt.scatter(counts[y], poisson_training_results.predict(np.log(counts[x]+1)))\n",
    "plt.xlabel('Y')\n",
    "plt.ylabel('Y_hat')\n",
    "plt.plot([0, counts[y].max()], [0, counts[y].max()], '--', color = 'black')"
   ]
  },
  {
   "cell_type": "code",
   "execution_count": 17,
   "id": "7d4ef93b-8d55-4d72-bec2-0c230fd455ae",
   "metadata": {
    "tags": []
   },
   "outputs": [
    {
     "data": {
      "image/png": "[encoded data removed]",
      "text/plain": [
       "<Figure size 432x288 with 1 Axes>"
      ]
     },
     "metadata": {
      "needs_background": "light"
     },
     "output_type": "display_data"
    }
   ],
   "source": [
    "plt.scatter(counts[x], counts[y])\n",
    "plt.xscale('log')\n",
    "plt.yscale('log')"
   ]
  },
  {
   "cell_type": "code",
   "execution_count": 18,
   "id": "92c3a81a-1715-4240-ac80-956565b27a37",
   "metadata": {
    "tags": []
   },
   "outputs": [
    {
     "data": {
      "text/plain": [
       "<matplotlib.collections.PathCollection at 0x2b608b737580>"
      ]
     },
     "execution_count": 18,
     "metadata": {},
     "output_type": "execute_result"
    },
    {
     "data": {
      "image/png": "[encoded data removed]",
      "text/plain": [
       "<Figure size 432x288 with 1 Axes>"
      ]
     },
     "metadata": {
      "needs_background": "light"
     },
     "output_type": "display_data"
    }
   ],
   "source": [
    "plt.scatter(nb2_training_results.fittedvalues, nb2_training_results.resid_deviance)"
   ]
  },
  {
   "cell_type": "code",
   "execution_count": 19,
   "id": "ae9977eb-668d-40de-97c4-1f32a4656a88",
   "metadata": {
    "tags": []
   },
   "outputs": [
    {
     "data": {
      "image/png": "[encoded data removed]",
      "text/plain": [
       "<Figure size 432x288 with 1 Axes>"
      ]
     },
     "metadata": {
      "needs_background": "light"
     },
     "output_type": "display_data"
    }
   ],
   "source": [
    "dev = pd.DataFrame([poisson_training_results.fittedvalues, poisson_training_results.resid_deviance],\n",
    "                  index = ['fitted', 'deviance']).T\n",
    "dev.plot.scatter(x = f'fitted', y = 'deviance')\n",
    "dev = pd.concat([dev, sub_counts], axis = 1)"
   ]
  },
  {
   "cell_type": "code",
   "execution_count": 22,
   "id": "1dd7bd9b-996f-4e32-b8f8-9956da2df6ca",
   "metadata": {
    "tags": []
   },
   "outputs": [],
   "source": [
    "from scipy.stats import poisson\n",
    "sub_counts['pvalue']=sub_counts.apply(lambda row: 1-poisson(row['BB_LAMBDA']).cdf(row[f'BSJ-{IP}']), axis = 1)\n"
   ]
  },
  {
   "cell_type": "code",
   "execution_count": 24,
   "id": "4013426d-90f1-418f-8534-cda301f5a04a",
   "metadata": {
    "tags": []
   },
   "outputs": [
    {
     "data": {
      "image/png": "[encoded data removed]",
      "text/plain": [
       "<Figure size 432x288 with 1 Axes>"
      ]
     },
     "metadata": {
      "needs_background": "light"
     },
     "output_type": "display_data"
    }
   ],
   "source": [
    "import scipy\n",
    "p = sm.qqplot(sub_counts['pvalue'], line ='45',\n",
    "             dist=scipy.stats.uniform)"
   ]
  },
  {
   "cell_type": "code",
   "execution_count": null,
   "id": "ef1c6f91-b327-4b3c-b0ed-7a151d098c96",
   "metadata": {},
   "outputs": [],
   "source": []
  }
 ],
 "metadata": {
  "kernelspec": {
   "display_name": "Metadensity",
   "language": "python",
   "name": "metadensity"
  },
  "language_info": {
   "codemirror_mode": {
    "name": "ipython",
    "version": 3
   },
   "file_extension": ".py",
   "mimetype": "text/x-python",
   "name": "python",
   "nbconvert_exporter": "python",
   "pygments_lexer": "ipython3",
   "version": "3.9.16"
  }
 },
 "nbformat": 4,
 "nbformat_minor": 5
}
