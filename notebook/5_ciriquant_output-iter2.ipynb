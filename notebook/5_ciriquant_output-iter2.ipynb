{
 "cells": [
  {
   "cell_type": "raw",
   "id": "e56a5e5a",
   "metadata": {},
   "source": [
    "# ciriquant output\n",
    "column \tname \tdescription\n",
    "1 \tchrom \tchromosome / contig name\n",
    "2 \tsource \tCIRIquant\n",
    "3 \ttype \tcircRNA\n",
    "4 \tstart \t5' back-spliced junction site\n",
    "5 \tend \t3' back-spliced junction site\n",
    "6 \tscore \tCPM of circRNAs (#BSJ / #Mapped reads)\n",
    "7 \tstrand \tstrand information\n",
    "8 \t. \t.\n",
    "9 \tattributes \tattributes seperated by semicolon\n",
    "\n",
    "\n",
    "# attributes\n",
    "key \tdescription\n",
    "circ_id \tname of circRNA\n",
    "circ_type \tcircRNA types: exon / intron / intergenic\n",
    "bsj \tnumber of bsj reads\n",
    "fsj \tnumber of fsj reads\n",
    "junc_ratio \tcircular to linear ratio: 2 * bsj / ( 2 * bsj + fsj)\n",
    "rnaser_bsj \tnumber of bsj reads in RNase R data (only when --RNaseR is specificed)\n",
    "rnaser_fsj \tnumber of fsj reads in RNase R data (only when --RNaseR is specificed)\n",
    "gene_id \tensemble id of host gene\n",
    "gene_name \tHGNC symbol of host gene\n",
    "gene_type \ttype of host gene in gtf file\n",
    "\n",
    "https://ciri-cookbook.readthedocs.io/en/latest/CIRIquant_2_quantification.html"
   ]
  },
  {
   "cell_type": "code",
   "execution_count": 1,
   "id": "b19e0dfd",
   "metadata": {},
   "outputs": [],
   "source": [
    "import os\n",
    "from pybedtools import BedTool\n",
    "import pandas as pd\n",
    "import seaborn as sns\n",
    "indir = '/home/hsher/scratch/circ_nextera/output/'\n",
    "circ_quant_output = [os.path.join(indir,f) for f in os.listdir(indir) if f.endswith('.gtf')]\n",
    "indir = '/home/hsher/scratch/circ_truseq/output/'\n",
    "circ_quant_output += [os.path.join(indir,f) for f in os.listdir(indir) if f.endswith('.gtf')]"
   ]
  },
  {
   "cell_type": "code",
   "execution_count": 2,
   "id": "3a0fd2aa",
   "metadata": {},
   "outputs": [
    {
     "data": {
      "text/plain": [
       "['/home/hsher/scratch/circ_nextera/output/circseq-bm-rar19-nxt.gtf',\n",
       " '/home/hsher/scratch/circ_nextera/output/circseq-bm-rar11-nxt.gtf',\n",
       " '/home/hsher/scratch/circ_truseq/output/circseq-bm-rar.gtf',\n",
       " '/home/hsher/scratch/circ_truseq/output/circseq-bm-arr.gtf',\n",
       " '/home/hsher/scratch/circ_truseq/output/circseq-bm-rz.gtf']"
      ]
     },
     "execution_count": 2,
     "metadata": {},
     "output_type": "execute_result"
    }
   ],
   "source": [
    "circ_quant_output"
   ]
  },
  {
   "cell_type": "code",
   "execution_count": 3,
   "id": "73be78e8",
   "metadata": {},
   "outputs": [],
   "source": [
    "def read_ciri_gtf(fname):\n",
    "    bed = BedTool(fname)\n",
    "    df = bed.to_dataframe()\n",
    "    # filter for non-entries\n",
    "    stat = df.loc[df['seqname'].str.contains('##'), 'seqname'].str.split(': ', expand = True)\n",
    "    df = df.loc[~df['seqname'].str.contains('##')].reset_index()\n",
    "    \n",
    "    # get attributes\n",
    "    attrs = pd.DataFrame([i.attrs for i in bed])\n",
    "    \n",
    "    return pd.concat([df, attrs], axis = 1), stat"
   ]
  },
  {
   "cell_type": "code",
   "execution_count": 4,
   "id": "985e2f4b",
   "metadata": {},
   "outputs": [],
   "source": [
    "circ_type_count = []\n",
    "names = []\n",
    "junc_ratio_tbl = []\n",
    "bsj_ratio_tbl = []\n",
    "fsj_ratio_tbl = []\n",
    "stats = []\n",
    "for fname in circ_quant_output:\n",
    "    name = os.path.basename(fname).replace('.gtf', '')\n",
    "    names.append(name)\n",
    "    \n",
    "    circ_df, stat = read_ciri_gtf(fname)\n",
    "    \n",
    "    circ_type_count.append(circ_df['circ_type'].value_counts())\n",
    "    \n",
    "    junc_ratio_tbl.append(circ_df.set_index('circ_id')['junc_ratio'].astype(float))\n",
    "    bsj_ratio_tbl.append(circ_df.set_index('circ_id')['bsj'].astype(float))\n",
    "    fsj_ratio_tbl.append(circ_df.set_index('circ_id')['fsj'].astype(float))\n",
    "    stats.append(stat.set_index(0))"
   ]
  },
  {
   "cell_type": "code",
   "execution_count": 5,
   "id": "4f23c5b5",
   "metadata": {},
   "outputs": [],
   "source": [
    "stats_df = pd.concat(stats, axis = 1).T"
   ]
  },
  {
   "cell_type": "code",
   "execution_count": 6,
   "id": "5943957d",
   "metadata": {},
   "outputs": [
    {
     "data": {
      "text/plain": [
       "Index(['##Sample', '##Total_Reads', '##Mapped_Reads', '##Circular_Reads',\n",
       "       '##version'],\n",
       "      dtype='object', name=0)"
      ]
     },
     "execution_count": 6,
     "metadata": {},
     "output_type": "execute_result"
    }
   ],
   "source": [
    "stats_df.columns"
   ]
  },
  {
   "cell_type": "code",
   "execution_count": 7,
   "id": "8b6140a3",
   "metadata": {},
   "outputs": [],
   "source": [
    "for col in ['##Total_Reads', '##Mapped_Reads', '##Circular_Reads']:\n",
    "    stats_df[col] = stats_df[col].astype(int)"
   ]
  },
  {
   "cell_type": "code",
   "execution_count": 8,
   "id": "69cbbc55",
   "metadata": {},
   "outputs": [],
   "source": [
    "stats_df['frac_circular'] = stats_df['##Circular_Reads']/stats_df['##Mapped_Reads']\n",
    "stats_df['frac_mapped'] = stats_df['##Mapped_Reads']/stats_df['##Total_Reads']"
   ]
  },
  {
   "cell_type": "code",
   "execution_count": 9,
   "id": "3b3e3f4f",
   "metadata": {},
   "outputs": [],
   "source": [
    "stats_df.sort_values('frac_circular')\n",
    "stats_df.set_index('##Sample', inplace = True)"
   ]
  },
  {
   "cell_type": "code",
   "execution_count": 24,
   "id": "f636d983",
   "metadata": {},
   "outputs": [
    {
     "data": {
      "text/html": [
       "<div>\n",
       "<style scoped>\n",
       "    .dataframe tbody tr th:only-of-type {\n",
       "        vertical-align: middle;\n",
       "    }\n",
       "\n",
       "    .dataframe tbody tr th {\n",
       "        vertical-align: top;\n",
       "    }\n",
       "\n",
       "    .dataframe thead th {\n",
       "        text-align: right;\n",
       "    }\n",
       "</style>\n",
       "<table border=\"1\" class=\"dataframe\">\n",
       "  <thead>\n",
       "    <tr style=\"text-align: right;\">\n",
       "      <th></th>\n",
       "      <th>##Total_Reads</th>\n",
       "      <th>##Mapped_Reads</th>\n",
       "      <th>##Circular_Reads</th>\n",
       "      <th>##version</th>\n",
       "      <th>frac_circular</th>\n",
       "      <th>frac_mapped</th>\n",
       "    </tr>\n",
       "    <tr>\n",
       "      <th>##Sample</th>\n",
       "      <th></th>\n",
       "      <th></th>\n",
       "      <th></th>\n",
       "      <th></th>\n",
       "      <th></th>\n",
       "      <th></th>\n",
       "    </tr>\n",
       "  </thead>\n",
       "  <tbody>\n",
       "    <tr>\n",
       "      <th>circseq-bm-rar19-nxt</th>\n",
       "      <td>160113878</td>\n",
       "      <td>149077530</td>\n",
       "      <td>121206</td>\n",
       "      <td>1.1.2</td>\n",
       "      <td>0.000813</td>\n",
       "      <td>0.931072</td>\n",
       "    </tr>\n",
       "    <tr>\n",
       "      <th>circseq-bm-rar11-nxt</th>\n",
       "      <td>337446074</td>\n",
       "      <td>294909812</td>\n",
       "      <td>4306906</td>\n",
       "      <td>1.1.2</td>\n",
       "      <td>0.014604</td>\n",
       "      <td>0.873946</td>\n",
       "    </tr>\n",
       "    <tr>\n",
       "      <th>circseq-bm-rar</th>\n",
       "      <td>102591732</td>\n",
       "      <td>94197134</td>\n",
       "      <td>299674</td>\n",
       "      <td>1.1.2</td>\n",
       "      <td>0.003181</td>\n",
       "      <td>0.918175</td>\n",
       "    </tr>\n",
       "    <tr>\n",
       "      <th>circseq-bm-arr</th>\n",
       "      <td>115862476</td>\n",
       "      <td>100933122</td>\n",
       "      <td>542382</td>\n",
       "      <td>1.1.2</td>\n",
       "      <td>0.005374</td>\n",
       "      <td>0.871146</td>\n",
       "    </tr>\n",
       "    <tr>\n",
       "      <th>circseq-bm-rz</th>\n",
       "      <td>192114508</td>\n",
       "      <td>181875544</td>\n",
       "      <td>70738</td>\n",
       "      <td>1.1.2</td>\n",
       "      <td>0.000389</td>\n",
       "      <td>0.946704</td>\n",
       "    </tr>\n",
       "  </tbody>\n",
       "</table>\n",
       "</div>"
      ],
      "text/plain": [
       "0                     ##Total_Reads  ##Mapped_Reads  ##Circular_Reads  \\\n",
       "##Sample                                                                \n",
       "circseq-bm-rar19-nxt      160113878       149077530            121206   \n",
       "circseq-bm-rar11-nxt      337446074       294909812           4306906   \n",
       "circseq-bm-rar            102591732        94197134            299674   \n",
       "circseq-bm-arr            115862476       100933122            542382   \n",
       "circseq-bm-rz             192114508       181875544             70738   \n",
       "\n",
       "0                    ##version  frac_circular  frac_mapped  \n",
       "##Sample                                                    \n",
       "circseq-bm-rar19-nxt     1.1.2       0.000813     0.931072  \n",
       "circseq-bm-rar11-nxt     1.1.2       0.014604     0.873946  \n",
       "circseq-bm-rar           1.1.2       0.003181     0.918175  \n",
       "circseq-bm-arr           1.1.2       0.005374     0.871146  \n",
       "circseq-bm-rz            1.1.2       0.000389     0.946704  "
      ]
     },
     "execution_count": 24,
     "metadata": {},
     "output_type": "execute_result"
    }
   ],
   "source": [
    "stats_df"
   ]
  },
  {
   "cell_type": "code",
   "execution_count": 10,
   "id": "6aa35a79",
   "metadata": {},
   "outputs": [],
   "source": [
    "counts = pd.concat(circ_type_count, axis = 1)\n",
    "counts.columns = names"
   ]
  },
  {
   "cell_type": "code",
   "execution_count": 11,
   "id": "851f7287",
   "metadata": {},
   "outputs": [],
   "source": [
    "bsj = pd.concat(bsj_ratio_tbl, axis = 1)\n",
    "bsj.columns = names"
   ]
  },
  {
   "cell_type": "code",
   "execution_count": 12,
   "id": "74e27596",
   "metadata": {},
   "outputs": [],
   "source": [
    "fsj = pd.concat(fsj_ratio_tbl, axis = 1)\n",
    "fsj.columns = names"
   ]
  },
  {
   "cell_type": "code",
   "execution_count": 13,
   "id": "0055783c",
   "metadata": {},
   "outputs": [],
   "source": [
    "junc = pd.concat(junc_ratio_tbl, axis = 1)\n",
    "junc.columns = names"
   ]
  },
  {
   "cell_type": "code",
   "execution_count": 14,
   "id": "5db8213c",
   "metadata": {},
   "outputs": [
    {
     "data": {
      "text/plain": [
       "<AxesSubplot:xlabel='circseq-bm-rz', ylabel='circseq-bm-rar11-nxt'>"
      ]
     },
     "execution_count": 14,
     "metadata": {},
     "output_type": "execute_result"
    },
    {
     "data": {
      "image/png": "[encoded data removed]",
      "text/plain": [
       "<Figure size 432x288 with 1 Axes>"
      ]
     },
     "metadata": {
      "needs_background": "light"
     },
     "output_type": "display_data"
    }
   ],
   "source": [
    "junc.plot.scatter(x = 'circseq-bm-rz', y = 'circseq-bm-rar11-nxt')"
   ]
  },
  {
   "cell_type": "code",
   "execution_count": 15,
   "id": "7186fbd4",
   "metadata": {},
   "outputs": [
    {
     "data": {
      "text/plain": [
       "Text(0.5, 0, '# circRNA detected')"
      ]
     },
     "execution_count": 15,
     "metadata": {},
     "output_type": "execute_result"
    },
    {
     "data": {
      "image/png": "[encoded data removed]",
      "text/plain": [
       "<Figure size 432x288 with 1 Axes>"
      ]
     },
     "metadata": {
      "needs_background": "light"
     },
     "output_type": "display_data"
    }
   ],
   "source": [
    "import matplotlib.pyplot as plt\n",
    "counts.T.sort_index().plot.barh(stacked = True)\n",
    "plt.xlabel('# circRNA detected')"
   ]
  },
  {
   "cell_type": "code",
   "execution_count": 16,
   "id": "be0da7a8",
   "metadata": {},
   "outputs": [
    {
     "data": {
      "image/png": "[encoded data removed]",
      "text/plain": [
       "<Figure size 432x288 with 1 Axes>"
      ]
     },
     "metadata": {
      "needs_background": "light"
     },
     "output_type": "display_data"
    }
   ],
   "source": [
    "bsj.reindex(sorted(bsj.columns), axis=1).boxplot(showfliers=False, rot = 90)\n",
    "plt.ylabel('# reads supporting circRNA (bsj reads)')\n",
    "sns.despine()"
   ]
  },
  {
   "cell_type": "code",
   "execution_count": 17,
   "id": "cb2501b5",
   "metadata": {},
   "outputs": [
    {
     "data": {
      "image/png": "[encoded data removed]",
      "text/plain": [
       "<Figure size 432x288 with 1 Axes>"
      ]
     },
     "metadata": {
      "needs_background": "light"
     },
     "output_type": "display_data"
    }
   ],
   "source": [
    "fsj.reindex(sorted(fsj.columns), axis=1).boxplot(showfliers=False, rot = 90)\n",
    "plt.ylabel('# reads supporting normal splicing (fsj reads)')\n",
    "sns.despine()"
   ]
  },
  {
   "cell_type": "code",
   "execution_count": 18,
   "id": "cbdaaf3f",
   "metadata": {},
   "outputs": [
    {
     "data": {
      "text/plain": [
       "Text(0, 0.5, '(BSJ+1)/(FSJ+1)')"
      ]
     },
     "execution_count": 18,
     "metadata": {},
     "output_type": "execute_result"
    },
    {
     "data": {
      "image/png": "[encoded data removed]",
      "text/plain": [
       "<Figure size 432x288 with 1 Axes>"
      ]
     },
     "metadata": {
      "needs_background": "light"
     },
     "output_type": "display_data"
    }
   ],
   "source": [
    "((bsj.fillna(0)+1)/(fsj.fillna(0)+1)).boxplot(showfliers=False, rot = 90)\n",
    "plt.ylabel('(BSJ+1)/(FSJ+1)')"
   ]
  },
  {
   "cell_type": "code",
   "execution_count": 19,
   "id": "979dabb1",
   "metadata": {},
   "outputs": [],
   "source": [
    "from pathlib import Path\n",
    "indir = Path('/home/hsher/scratch/circ_nextera/')\n",
    "indir2 = Path('/home/hsher/scratch/circ_truseq/')\n",
    "star_log1 = pd.read_csv(indir/'QC/genome_mapping_stats.csv')\n",
    "star_log2 = pd.read_csv(indir2/'QC/genome_mapping_stats.csv')\n",
    "star_log = pd.concat([star_log1, star_log2], axis = 0)\n",
    "star_log.index = star_log['STAR Log filename'].apply(lambda x: x.split('/')[-1].replace('.Log.final.out',''))\n",
    "star_log.sort_index(inplace = True)"
   ]
  },
  {
   "cell_type": "code",
   "execution_count": 20,
   "id": "2a8e8027",
   "metadata": {},
   "outputs": [
    {
     "data": {
      "text/plain": [
       "Text(0.5, 0, 'fraction circular RNA reads')"
      ]
     },
     "execution_count": 20,
     "metadata": {},
     "output_type": "execute_result"
    },
    {
     "data": {
      "image/png": "[encoded data removed]",
      "text/plain": [
       "<Figure size 432x288 with 1 Axes>"
      ]
     },
     "metadata": {
      "needs_background": "light"
     },
     "output_type": "display_data"
    }
   ],
   "source": [
    "stats_df['frac_circular'].plot.barh(color = ['tomato' if 'rar' in index else 'royalblue' for index in star_log.index])\n",
    "plt.xlabel('fraction circular RNA reads')"
   ]
  },
  {
   "cell_type": "code",
   "execution_count": 21,
   "id": "81a31805",
   "metadata": {},
   "outputs": [],
   "source": [
    "total_stat = pd.concat([stats_df,star_log], axis = 1)"
   ]
  },
  {
   "cell_type": "code",
   "execution_count": 22,
   "id": "59d0fe83",
   "metadata": {},
   "outputs": [
    {
     "data": {
      "text/html": [
       "<div>\n",
       "<style scoped>\n",
       "    .dataframe tbody tr th:only-of-type {\n",
       "        vertical-align: middle;\n",
       "    }\n",
       "\n",
       "    .dataframe tbody tr th {\n",
       "        vertical-align: top;\n",
       "    }\n",
       "\n",
       "    .dataframe thead th {\n",
       "        text-align: right;\n",
       "    }\n",
       "</style>\n",
       "<table border=\"1\" class=\"dataframe\">\n",
       "  <thead>\n",
       "    <tr style=\"text-align: right;\">\n",
       "      <th></th>\n",
       "      <th>##Total_Reads</th>\n",
       "      <th>##Mapped_Reads</th>\n",
       "      <th>##Circular_Reads</th>\n",
       "      <th>##version</th>\n",
       "      <th>frac_circular</th>\n",
       "      <th>frac_mapped</th>\n",
       "      <th>Unnamed: 0</th>\n",
       "      <th>Started job on</th>\n",
       "      <th>Started mapping on</th>\n",
       "      <th>Finished on</th>\n",
       "      <th>...</th>\n",
       "      <th>Number of reads unmapped: too many mismatches</th>\n",
       "      <th>% of reads unmapped: too many mismatches</th>\n",
       "      <th>Number of reads unmapped: too short</th>\n",
       "      <th>% of reads unmapped: too short</th>\n",
       "      <th>Number of reads unmapped: other</th>\n",
       "      <th>% of reads unmapped: other</th>\n",
       "      <th>CHIMERIC READS:</th>\n",
       "      <th>Number of chimeric reads</th>\n",
       "      <th>% of chimeric reads</th>\n",
       "      <th>STAR Log filename</th>\n",
       "    </tr>\n",
       "  </thead>\n",
       "  <tbody>\n",
       "    <tr>\n",
       "      <th>circseq-bm-rar19-nxt</th>\n",
       "      <td>160113878</td>\n",
       "      <td>149077530</td>\n",
       "      <td>121206</td>\n",
       "      <td>1.1.2</td>\n",
       "      <td>0.000813</td>\n",
       "      <td>0.931072</td>\n",
       "      <td>Log</td>\n",
       "      <td>Sep 29 20:14:10</td>\n",
       "      <td>Sep 29 20:14:56</td>\n",
       "      <td>Sep 29 20:41:38</td>\n",
       "      <td>...</td>\n",
       "      <td>0.0</td>\n",
       "      <td>0.0</td>\n",
       "      <td>1810146.0</td>\n",
       "      <td>2.26</td>\n",
       "      <td>25067.0</td>\n",
       "      <td>0.03</td>\n",
       "      <td>NaN</td>\n",
       "      <td>0.0</td>\n",
       "      <td>0.0</td>\n",
       "      <td>output/bams/circseq-bm-rar19-nxt.Log.final.out</td>\n",
       "    </tr>\n",
       "    <tr>\n",
       "      <th>circseq-bm-rar11-nxt</th>\n",
       "      <td>337446074</td>\n",
       "      <td>294909812</td>\n",
       "      <td>4306906</td>\n",
       "      <td>1.1.2</td>\n",
       "      <td>0.014604</td>\n",
       "      <td>0.873946</td>\n",
       "      <td>Log</td>\n",
       "      <td>Oct 01 15:05:58</td>\n",
       "      <td>Oct 01 15:06:52</td>\n",
       "      <td>Oct 01 16:07:46</td>\n",
       "      <td>...</td>\n",
       "      <td>0.0</td>\n",
       "      <td>0.0</td>\n",
       "      <td>13284682.0</td>\n",
       "      <td>7.87</td>\n",
       "      <td>155075.0</td>\n",
       "      <td>0.09</td>\n",
       "      <td>NaN</td>\n",
       "      <td>0.0</td>\n",
       "      <td>0.0</td>\n",
       "      <td>output/bams/circseq-bm-rar11-nxt.Log.final.out</td>\n",
       "    </tr>\n",
       "    <tr>\n",
       "      <th>circseq-bm-rar</th>\n",
       "      <td>102591732</td>\n",
       "      <td>94197134</td>\n",
       "      <td>299674</td>\n",
       "      <td>1.1.2</td>\n",
       "      <td>0.003181</td>\n",
       "      <td>0.918175</td>\n",
       "      <td>Log</td>\n",
       "      <td>Oct 07 18:50:27</td>\n",
       "      <td>Oct 07 18:51:45</td>\n",
       "      <td>Oct 07 19:10:59</td>\n",
       "      <td>...</td>\n",
       "      <td>0.0</td>\n",
       "      <td>0.0</td>\n",
       "      <td>3133285.0</td>\n",
       "      <td>6.11</td>\n",
       "      <td>31651.0</td>\n",
       "      <td>0.06</td>\n",
       "      <td>NaN</td>\n",
       "      <td>0.0</td>\n",
       "      <td>0.0</td>\n",
       "      <td>output/bams/circseq-bm-rar.Log.final.out</td>\n",
       "    </tr>\n",
       "    <tr>\n",
       "      <th>circseq-bm-arr</th>\n",
       "      <td>115862476</td>\n",
       "      <td>100933122</td>\n",
       "      <td>542382</td>\n",
       "      <td>1.1.2</td>\n",
       "      <td>0.005374</td>\n",
       "      <td>0.871146</td>\n",
       "      <td>Log</td>\n",
       "      <td>Oct 04 14:04:50</td>\n",
       "      <td>Oct 04 14:06:03</td>\n",
       "      <td>Oct 04 14:26:29</td>\n",
       "      <td>...</td>\n",
       "      <td>0.0</td>\n",
       "      <td>0.0</td>\n",
       "      <td>5385195.0</td>\n",
       "      <td>9.30</td>\n",
       "      <td>67121.0</td>\n",
       "      <td>0.12</td>\n",
       "      <td>NaN</td>\n",
       "      <td>0.0</td>\n",
       "      <td>0.0</td>\n",
       "      <td>output/bams/circseq-bm-arr.Log.final.out</td>\n",
       "    </tr>\n",
       "    <tr>\n",
       "      <th>circseq-bm-rz</th>\n",
       "      <td>192114508</td>\n",
       "      <td>181875544</td>\n",
       "      <td>70738</td>\n",
       "      <td>1.1.2</td>\n",
       "      <td>0.000389</td>\n",
       "      <td>0.946704</td>\n",
       "      <td>Log</td>\n",
       "      <td>Oct 07 18:21:57</td>\n",
       "      <td>Oct 07 18:22:48</td>\n",
       "      <td>Oct 07 18:52:46</td>\n",
       "      <td>...</td>\n",
       "      <td>0.0</td>\n",
       "      <td>0.0</td>\n",
       "      <td>3438346.0</td>\n",
       "      <td>3.58</td>\n",
       "      <td>50157.0</td>\n",
       "      <td>0.05</td>\n",
       "      <td>NaN</td>\n",
       "      <td>0.0</td>\n",
       "      <td>0.0</td>\n",
       "      <td>output/bams/circseq-bm-rz.Log.final.out</td>\n",
       "    </tr>\n",
       "  </tbody>\n",
       "</table>\n",
       "<p>5 rows × 45 columns</p>\n",
       "</div>"
      ],
      "text/plain": [
       "                      ##Total_Reads  ##Mapped_Reads  ##Circular_Reads  \\\n",
       "circseq-bm-rar19-nxt      160113878       149077530            121206   \n",
       "circseq-bm-rar11-nxt      337446074       294909812           4306906   \n",
       "circseq-bm-rar            102591732        94197134            299674   \n",
       "circseq-bm-arr            115862476       100933122            542382   \n",
       "circseq-bm-rz             192114508       181875544             70738   \n",
       "\n",
       "                     ##version  frac_circular  frac_mapped Unnamed: 0  \\\n",
       "circseq-bm-rar19-nxt     1.1.2       0.000813     0.931072        Log   \n",
       "circseq-bm-rar11-nxt     1.1.2       0.014604     0.873946        Log   \n",
       "circseq-bm-rar           1.1.2       0.003181     0.918175        Log   \n",
       "circseq-bm-arr           1.1.2       0.005374     0.871146        Log   \n",
       "circseq-bm-rz            1.1.2       0.000389     0.946704        Log   \n",
       "\n",
       "                       Started job on Started mapping on      Finished on  \\\n",
       "circseq-bm-rar19-nxt  Sep 29 20:14:10    Sep 29 20:14:56  Sep 29 20:41:38   \n",
       "circseq-bm-rar11-nxt  Oct 01 15:05:58    Oct 01 15:06:52  Oct 01 16:07:46   \n",
       "circseq-bm-rar        Oct 07 18:50:27    Oct 07 18:51:45  Oct 07 19:10:59   \n",
       "circseq-bm-arr        Oct 04 14:04:50    Oct 04 14:06:03  Oct 04 14:26:29   \n",
       "circseq-bm-rz         Oct 07 18:21:57    Oct 07 18:22:48  Oct 07 18:52:46   \n",
       "\n",
       "                      ...  Number of reads unmapped: too many mismatches  \\\n",
       "circseq-bm-rar19-nxt  ...                                            0.0   \n",
       "circseq-bm-rar11-nxt  ...                                            0.0   \n",
       "circseq-bm-rar        ...                                            0.0   \n",
       "circseq-bm-arr        ...                                            0.0   \n",
       "circseq-bm-rz         ...                                            0.0   \n",
       "\n",
       "                      % of reads unmapped: too many mismatches  \\\n",
       "circseq-bm-rar19-nxt                                       0.0   \n",
       "circseq-bm-rar11-nxt                                       0.0   \n",
       "circseq-bm-rar                                             0.0   \n",
       "circseq-bm-arr                                             0.0   \n",
       "circseq-bm-rz                                              0.0   \n",
       "\n",
       "                      Number of reads unmapped: too short  \\\n",
       "circseq-bm-rar19-nxt                            1810146.0   \n",
       "circseq-bm-rar11-nxt                           13284682.0   \n",
       "circseq-bm-rar                                  3133285.0   \n",
       "circseq-bm-arr                                  5385195.0   \n",
       "circseq-bm-rz                                   3438346.0   \n",
       "\n",
       "                      % of reads unmapped: too short  \\\n",
       "circseq-bm-rar19-nxt                            2.26   \n",
       "circseq-bm-rar11-nxt                            7.87   \n",
       "circseq-bm-rar                                  6.11   \n",
       "circseq-bm-arr                                  9.30   \n",
       "circseq-bm-rz                                   3.58   \n",
       "\n",
       "                      Number of reads unmapped: other  \\\n",
       "circseq-bm-rar19-nxt                          25067.0   \n",
       "circseq-bm-rar11-nxt                         155075.0   \n",
       "circseq-bm-rar                                31651.0   \n",
       "circseq-bm-arr                                67121.0   \n",
       "circseq-bm-rz                                 50157.0   \n",
       "\n",
       "                      % of reads unmapped: other  CHIMERIC READS:  \\\n",
       "circseq-bm-rar19-nxt                        0.03              NaN   \n",
       "circseq-bm-rar11-nxt                        0.09              NaN   \n",
       "circseq-bm-rar                              0.06              NaN   \n",
       "circseq-bm-arr                              0.12              NaN   \n",
       "circseq-bm-rz                               0.05              NaN   \n",
       "\n",
       "                      Number of chimeric reads  % of chimeric reads  \\\n",
       "circseq-bm-rar19-nxt                       0.0                  0.0   \n",
       "circseq-bm-rar11-nxt                       0.0                  0.0   \n",
       "circseq-bm-rar                             0.0                  0.0   \n",
       "circseq-bm-arr                             0.0                  0.0   \n",
       "circseq-bm-rz                              0.0                  0.0   \n",
       "\n",
       "                                                   STAR Log filename  \n",
       "circseq-bm-rar19-nxt  output/bams/circseq-bm-rar19-nxt.Log.final.out  \n",
       "circseq-bm-rar11-nxt  output/bams/circseq-bm-rar11-nxt.Log.final.out  \n",
       "circseq-bm-rar              output/bams/circseq-bm-rar.Log.final.out  \n",
       "circseq-bm-arr              output/bams/circseq-bm-arr.Log.final.out  \n",
       "circseq-bm-rz                output/bams/circseq-bm-rz.Log.final.out  \n",
       "\n",
       "[5 rows x 45 columns]"
      ]
     },
     "execution_count": 22,
     "metadata": {},
     "output_type": "execute_result"
    }
   ],
   "source": [
    "total_stat"
   ]
  },
  {
   "cell_type": "code",
   "execution_count": 23,
   "id": "dd49c07c",
   "metadata": {},
   "outputs": [
    {
     "ename": "NameError",
     "evalue": "name 'gencode_coords' is not defined",
     "output_type": "error",
     "traceback": [
      "\u001b[0;31m---------------------------------------------------------------------------\u001b[0m",
      "\u001b[0;31mNameError\u001b[0m                                 Traceback (most recent call last)",
      "\u001b[0;32m/scratch/hsher/30406031.tscc-mgr7.local/ipykernel_42934/2420938362.py\u001b[0m in \u001b[0;36m<module>\u001b[0;34m\u001b[0m\n\u001b[1;32m      1\u001b[0m \u001b[0;31m# let's find mapped to ribosomal RNA\u001b[0m\u001b[0;34m\u001b[0m\u001b[0;34m\u001b[0m\u001b[0;34m\u001b[0m\u001b[0m\n\u001b[0;32m----> 2\u001b[0;31m \u001b[0mgencode_coords\u001b[0m\u001b[0;34m[\u001b[0m\u001b[0;36m0\u001b[0m\u001b[0;34m]\u001b[0m\u001b[0;34m.\u001b[0m\u001b[0mattrs\u001b[0m\u001b[0;34m\u001b[0m\u001b[0;34m\u001b[0m\u001b[0m\n\u001b[0m",
      "\u001b[0;31mNameError\u001b[0m: name 'gencode_coords' is not defined"
     ]
    }
   ],
   "source": [
    "# let's find mapped to ribosomal RNA\n",
    "gencode_coords[0].attrs"
   ]
  },
  {
   "cell_type": "code",
   "execution_count": null,
   "id": "4c316c1f",
   "metadata": {},
   "outputs": [],
   "source": [
    "from pybedtools import BedTool\n",
    "gencode_coords = BedTool('/home/hsher/gencode_coords/gencode.v35.basic.annotation.gff3')\n",
    "rRNA_regions = gencode_coords.filter(lambda region: region[2]=='gene' and 'rRNA' in region.attrs['gene_type']).saveas()"
   ]
  },
  {
   "cell_type": "code",
   "execution_count": null,
   "id": "5aec7a54",
   "metadata": {},
   "outputs": [],
   "source": [
    "len(rRNA_regions)"
   ]
  },
  {
   "cell_type": "code",
   "execution_count": null,
   "id": "2225e84d",
   "metadata": {},
   "outputs": [],
   "source": [
    "len(rRNA_regions.merge(s = True)) # make sure no overlap"
   ]
  },
  {
   "cell_type": "code",
   "execution_count": null,
   "id": "d95964db",
   "metadata": {},
   "outputs": [],
   "source": [
    "genome_align_ciri_bams = list((indir / 'output'/'align').glob('*.bam'))\n",
    "genome_align_ciri_bams += list((indir2 / 'output'/'align').glob('*.bam'))\n"
   ]
  },
  {
   "cell_type": "code",
   "execution_count": null,
   "id": "c9ee6301",
   "metadata": {},
   "outputs": [],
   "source": [
    "genome_align_ciri_bams = [str(f) for f in genome_align_ciri_bams]"
   ]
  },
  {
   "cell_type": "code",
   "execution_count": null,
   "id": "32185e96",
   "metadata": {},
   "outputs": [],
   "source": [
    "rRNA_cov = rRNA_regions.multicov(bams = genome_align_ciri_bams, s = True) # strandedness = True, proper pair = True"
   ]
  },
  {
   "cell_type": "code",
   "execution_count": null,
   "id": "b7efc630",
   "metadata": {},
   "outputs": [],
   "source": [
    "libnames = [os.path.basename(f).split('.')[0] for f in genome_align_ciri_bams]\n",
    "rRNA_cov_df = rRNA_cov.to_dataframe(names = ['seqname', 'source', 'feature', 'start', 'end', 'score', 'strand', 'frame', 'attributes']+\n",
    "                                   libnames)"
   ]
  },
  {
   "cell_type": "code",
   "execution_count": null,
   "id": "cafbd876",
   "metadata": {},
   "outputs": [],
   "source": [
    "rRNA_cov_df.head()"
   ]
  },
  {
   "cell_type": "code",
   "execution_count": null,
   "id": "ca421e95",
   "metadata": {},
   "outputs": [],
   "source": [
    "rRNA_cov_df[libnames].sum()"
   ]
  },
  {
   "cell_type": "code",
   "execution_count": null,
   "id": "a178820f",
   "metadata": {},
   "outputs": [],
   "source": [
    "import pysam\n",
    "pysam.AlignmentFile(genome_align_ciri_bams[0]).mapped"
   ]
  },
  {
   "cell_type": "code",
   "execution_count": null,
   "id": "f5fed3ba",
   "metadata": {},
   "outputs": [],
   "source": [
    "genome_mapped = [pysam.AlignmentFile(f).mapped for f in genome_align_ciri_bams]"
   ]
  },
  {
   "cell_type": "code",
   "execution_count": null,
   "id": "1c67876a",
   "metadata": {},
   "outputs": [],
   "source": [
    "dict(zip(libnames, genome_mapped))"
   ]
  },
  {
   "cell_type": "code",
   "execution_count": null,
   "id": "61e1e395",
   "metadata": {},
   "outputs": [],
   "source": [
    "total_stat['genome_mapped_HISAT']=total_stat.index.map(dict(zip(libnames, genome_mapped))).tolist()"
   ]
  },
  {
   "cell_type": "code",
   "execution_count": null,
   "id": "c584098f",
   "metadata": {},
   "outputs": [],
   "source": [
    "total_stat.plot.scatter(x = '##Mapped_Reads', y = 'genome_mapped_HISAT')"
   ]
  },
  {
   "cell_type": "code",
   "execution_count": null,
   "id": "e0030fc5",
   "metadata": {},
   "outputs": [],
   "source": [
    "total_stat['genome_mapped_HISAT']"
   ]
  },
  {
   "cell_type": "code",
   "execution_count": null,
   "id": "5b905953",
   "metadata": {},
   "outputs": [],
   "source": [
    "total_stat[['Number of reads mapped to too many loci','##Mapped_Reads','##Circular_Reads']]"
   ]
  },
  {
   "cell_type": "code",
   "execution_count": null,
   "id": "54d30ff5",
   "metadata": {},
   "outputs": [],
   "source": [
    "(total_stat['Number of reads mapped to too many loci']/total_stat['##Mapped_Reads']).plot.barh(\n",
    "color = ['tomato' if 'rar' in index else 'royalblue' for index in star_log.index])\n",
    "\n",
    "plt.xlabel('STAR multimap / HISAT mapped')"
   ]
  },
  {
   "cell_type": "code",
   "execution_count": null,
   "id": "b617bece",
   "metadata": {},
   "outputs": [],
   "source": [
    "(total_stat['##Circular_Reads']/(total_stat['##Mapped_Reads']-total_stat['Number of reads mapped to too many loci'])).plot.barh(\n",
    "color = ['tomato' if 'rar' in index else 'royalblue' for index in star_log.index])\n",
    "\n",
    "plt.xlabel('estimated of circRNA fraction post Jumpcode removal')"
   ]
  },
  {
   "cell_type": "code",
   "execution_count": null,
   "id": "8e2f46d4",
   "metadata": {},
   "outputs": [],
   "source": [
    "(rRNA_cov_df[libnames].sum()/total_stat['genome_mapped_HISAT']).plot.barh(color = ['tomato' if 'rar' in index else 'royalblue' for index in star_log.index])\n",
    "plt.xlabel('% aligning to rRNA based on HISAT alignment')"
   ]
  },
  {
   "cell_type": "code",
   "execution_count": null,
   "id": "e093477a",
   "metadata": {},
   "outputs": [],
   "source": [
    "rRNA_cov_df[['gene_type', 'gene_name']]=rRNA_cov_df['attributes'].str.split(';', expand = True)[[2,3]]"
   ]
  },
  {
   "cell_type": "code",
   "execution_count": null,
   "id": "f1a67ec7",
   "metadata": {},
   "outputs": [],
   "source": [
    "rRNA_cov_df.groupby('gene_type')[libnames].sum()"
   ]
  },
  {
   "cell_type": "code",
   "execution_count": null,
   "id": "549dc5cd",
   "metadata": {},
   "outputs": [],
   "source": [
    "rRNA_cov_df.loc[rRNA_cov_df['gene_type']=='gene_type=rRNA']"
   ]
  },
  {
   "cell_type": "code",
   "execution_count": null,
   "id": "9ee285dc",
   "metadata": {},
   "outputs": [],
   "source": [
    "rRNA_cov_df.loc[rRNA_cov_df['gene_name'].str.contains('5S')]"
   ]
  },
  {
   "cell_type": "code",
   "execution_count": null,
   "id": "ed2012bb",
   "metadata": {},
   "outputs": [],
   "source": [
    "rRNA_cov_df['gene_name'].str.replace('gene_name=', '').unique()"
   ]
  },
  {
   "cell_type": "code",
   "execution_count": null,
   "id": "a00b8516",
   "metadata": {},
   "outputs": [],
   "source": [
    "rRNA_cov_df['gene_name']"
   ]
  },
  {
   "cell_type": "code",
   "execution_count": null,
   "id": "42d588f7",
   "metadata": {},
   "outputs": [],
   "source": [
    "total_stat.plot.scatter(x = '##Mapped_Reads', y = 'Uniquely mapped reads number')"
   ]
  }
 ],
 "metadata": {
  "kernelspec": {
   "display_name": "Metadensity",
   "language": "python",
   "name": "metadensity"
  },
  "language_info": {
   "codemirror_mode": {
    "name": "ipython",
    "version": 3
   },
   "file_extension": ".py",
   "mimetype": "text/x-python",
   "name": "python",
   "nbconvert_exporter": "python",
   "pygments_lexer": "ipython3",
   "version": "3.7.12"
  }
 },
 "nbformat": 4,
 "nbformat_minor": 5
}
