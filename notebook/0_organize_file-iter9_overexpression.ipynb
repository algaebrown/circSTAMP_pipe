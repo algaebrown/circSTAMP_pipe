{
 "cells": [
  {
   "cell_type": "code",
   "execution_count": 6,
   "id": "5a509f63",
   "metadata": {
    "tags": []
   },
   "outputs": [],
   "source": [
    "import os\n",
    "from pathlib import Path\n",
    "indir = Path('/home/tayu/seqdata/tao/circRNA_seq/rbpcandidate/oe_rar11_redo/igm-storage.ucsd.edu/230620_A01535_0346_AHCH7NDSX7/')"
   ]
  },
  {
   "cell_type": "markdown",
   "id": "cf755e52",
   "metadata": {},
   "source": [
    "rar11 enriched, different cell lines"
   ]
  },
  {
   "cell_type": "code",
   "execution_count": 7,
   "id": "d5d107ac",
   "metadata": {
    "tags": []
   },
   "outputs": [],
   "source": [
    "fq1 = list(indir.glob('*R1*.fastq.gz'))"
   ]
  },
  {
   "cell_type": "code",
   "execution_count": 8,
   "id": "66f04a95",
   "metadata": {
    "tags": []
   },
   "outputs": [
    {
     "data": {
      "text/plain": [
       "[PosixPath('/home/tayu/seqdata/tao/circRNA_seq/rbpcandidate/oe_rar11_redo/igm-storage.ucsd.edu/230620_A01535_0346_AHCH7NDSX7/G3BP2_S84_L002_R1_001.fastq.gz'),\n",
       " PosixPath('/home/tayu/seqdata/tao/circRNA_seq/rbpcandidate/oe_rar11_redo/igm-storage.ucsd.edu/230620_A01535_0346_AHCH7NDSX7/EV_S90_L002_R1_001.fastq.gz'),\n",
       " PosixPath('/home/tayu/seqdata/tao/circRNA_seq/rbpcandidate/oe_rar11_redo/igm-storage.ucsd.edu/230620_A01535_0346_AHCH7NDSX7/U2AF2_S83_L002_R1_001.fastq.gz'),\n",
       " PosixPath('/home/tayu/seqdata/tao/circRNA_seq/rbpcandidate/oe_rar11_redo/igm-storage.ucsd.edu/230620_A01535_0346_AHCH7NDSX7/THOC1_S75_L002_R1_001.fastq.gz'),\n",
       " PosixPath('/home/tayu/seqdata/tao/circRNA_seq/rbpcandidate/oe_rar11_redo/igm-storage.ucsd.edu/230620_A01535_0346_AHCH7NDSX7/DDX52_S82_L002_R1_001.fastq.gz'),\n",
       " PosixPath('/home/tayu/seqdata/tao/circRNA_seq/rbpcandidate/oe_rar11_redo/igm-storage.ucsd.edu/230620_A01535_0346_AHCH7NDSX7/RPS10_S88_L002_R1_001.fastq.gz'),\n",
       " PosixPath('/home/tayu/seqdata/tao/circRNA_seq/rbpcandidate/oe_rar11_redo/igm-storage.ucsd.edu/230620_A01535_0346_AHCH7NDSX7/LARP4_S78_L002_R1_001.fastq.gz'),\n",
       " PosixPath('/home/tayu/seqdata/tao/circRNA_seq/rbpcandidate/oe_rar11_redo/igm-storage.ucsd.edu/230620_A01535_0346_AHCH7NDSX7/RBM15_S80_L002_R1_001.fastq.gz'),\n",
       " PosixPath('/home/tayu/seqdata/tao/circRNA_seq/rbpcandidate/oe_rar11_redo/igm-storage.ucsd.edu/230620_A01535_0346_AHCH7NDSX7/ANXA2_S79_L002_R1_001.fastq.gz'),\n",
       " PosixPath('/home/tayu/seqdata/tao/circRNA_seq/rbpcandidate/oe_rar11_redo/igm-storage.ucsd.edu/230620_A01535_0346_AHCH7NDSX7/DDX19A_S86_L002_R1_001.fastq.gz'),\n",
       " PosixPath('/home/tayu/seqdata/tao/circRNA_seq/rbpcandidate/oe_rar11_redo/igm-storage.ucsd.edu/230620_A01535_0346_AHCH7NDSX7/ZC3HAV1_S87_L002_R1_001.fastq.gz'),\n",
       " PosixPath('/home/tayu/seqdata/tao/circRNA_seq/rbpcandidate/oe_rar11_redo/igm-storage.ucsd.edu/230620_A01535_0346_AHCH7NDSX7/DCP1A_S77_L002_R1_001.fastq.gz'),\n",
       " PosixPath('/home/tayu/seqdata/tao/circRNA_seq/rbpcandidate/oe_rar11_redo/igm-storage.ucsd.edu/230620_A01535_0346_AHCH7NDSX7/LARP4B_S76_L002_R1_001.fastq.gz'),\n",
       " PosixPath('/home/tayu/seqdata/tao/circRNA_seq/rbpcandidate/oe_rar11_redo/igm-storage.ucsd.edu/230620_A01535_0346_AHCH7NDSX7/RBM17_S81_L002_R1_001.fastq.gz'),\n",
       " PosixPath('/home/tayu/seqdata/tao/circRNA_seq/rbpcandidate/oe_rar11_redo/igm-storage.ucsd.edu/230620_A01535_0346_AHCH7NDSX7/TOB2_S85_L002_R1_001.fastq.gz'),\n",
       " PosixPath('/home/tayu/seqdata/tao/circRNA_seq/rbpcandidate/oe_rar11_redo/igm-storage.ucsd.edu/230620_A01535_0346_AHCH7NDSX7/EIF3C_S89_L002_R1_001.fastq.gz')]"
      ]
     },
     "execution_count": 8,
     "metadata": {},
     "output_type": "execute_result"
    }
   ],
   "source": [
    "fq1"
   ]
  },
  {
   "cell_type": "code",
   "execution_count": 9,
   "id": "01b52337-e838-40eb-97ae-ad9a65f914ab",
   "metadata": {
    "tags": []
   },
   "outputs": [],
   "source": [
    "fq2 = [str(f).replace('R1', 'R2') for f in fq1]"
   ]
  },
  {
   "cell_type": "code",
   "execution_count": 10,
   "id": "8a41d834-29fd-4fd3-9b59-199c2ca519e9",
   "metadata": {
    "tags": []
   },
   "outputs": [
    {
     "data": {
      "text/plain": [
       "['/home/tayu/seqdata/tao/circRNA_seq/rbpcandidate/oe_rar11_redo/igm-storage.ucsd.edu/230620_A01535_0346_AHCH7NDSX7/G3BP2_S84_L002_R2_001.fastq.gz',\n",
       " '/home/tayu/seqdata/tao/circRNA_seq/rbpcandidate/oe_rar11_redo/igm-storage.ucsd.edu/230620_A01535_0346_AHCH7NDSX7/EV_S90_L002_R2_001.fastq.gz',\n",
       " '/home/tayu/seqdata/tao/circRNA_seq/rbpcandidate/oe_rar11_redo/igm-storage.ucsd.edu/230620_A01535_0346_AHCH7NDSX7/U2AF2_S83_L002_R2_001.fastq.gz',\n",
       " '/home/tayu/seqdata/tao/circRNA_seq/rbpcandidate/oe_rar11_redo/igm-storage.ucsd.edu/230620_A01535_0346_AHCH7NDSX7/THOC1_S75_L002_R2_001.fastq.gz',\n",
       " '/home/tayu/seqdata/tao/circRNA_seq/rbpcandidate/oe_rar11_redo/igm-storage.ucsd.edu/230620_A01535_0346_AHCH7NDSX7/DDX52_S82_L002_R2_001.fastq.gz',\n",
       " '/home/tayu/seqdata/tao/circRNA_seq/rbpcandidate/oe_rar11_redo/igm-storage.ucsd.edu/230620_A01535_0346_AHCH7NDSX7/RPS10_S88_L002_R2_001.fastq.gz',\n",
       " '/home/tayu/seqdata/tao/circRNA_seq/rbpcandidate/oe_rar11_redo/igm-storage.ucsd.edu/230620_A01535_0346_AHCH7NDSX7/LARP4_S78_L002_R2_001.fastq.gz',\n",
       " '/home/tayu/seqdata/tao/circRNA_seq/rbpcandidate/oe_rar11_redo/igm-storage.ucsd.edu/230620_A01535_0346_AHCH7NDSX7/RBM15_S80_L002_R2_001.fastq.gz',\n",
       " '/home/tayu/seqdata/tao/circRNA_seq/rbpcandidate/oe_rar11_redo/igm-storage.ucsd.edu/230620_A01535_0346_AHCH7NDSX7/ANXA2_S79_L002_R2_001.fastq.gz',\n",
       " '/home/tayu/seqdata/tao/circRNA_seq/rbpcandidate/oe_rar11_redo/igm-storage.ucsd.edu/230620_A01535_0346_AHCH7NDSX7/DDX19A_S86_L002_R2_001.fastq.gz',\n",
       " '/home/tayu/seqdata/tao/circRNA_seq/rbpcandidate/oe_rar11_redo/igm-storage.ucsd.edu/230620_A01535_0346_AHCH7NDSX7/ZC3HAV1_S87_L002_R2_001.fastq.gz',\n",
       " '/home/tayu/seqdata/tao/circRNA_seq/rbpcandidate/oe_rar11_redo/igm-storage.ucsd.edu/230620_A01535_0346_AHCH7NDSX7/DCP1A_S77_L002_R2_001.fastq.gz',\n",
       " '/home/tayu/seqdata/tao/circRNA_seq/rbpcandidate/oe_rar11_redo/igm-storage.ucsd.edu/230620_A01535_0346_AHCH7NDSX7/LARP4B_S76_L002_R2_001.fastq.gz',\n",
       " '/home/tayu/seqdata/tao/circRNA_seq/rbpcandidate/oe_rar11_redo/igm-storage.ucsd.edu/230620_A01535_0346_AHCH7NDSX7/RBM17_S81_L002_R2_001.fastq.gz',\n",
       " '/home/tayu/seqdata/tao/circRNA_seq/rbpcandidate/oe_rar11_redo/igm-storage.ucsd.edu/230620_A01535_0346_AHCH7NDSX7/TOB2_S85_L002_R2_001.fastq.gz',\n",
       " '/home/tayu/seqdata/tao/circRNA_seq/rbpcandidate/oe_rar11_redo/igm-storage.ucsd.edu/230620_A01535_0346_AHCH7NDSX7/EIF3C_S89_L002_R2_001.fastq.gz']"
      ]
     },
     "execution_count": 10,
     "metadata": {},
     "output_type": "execute_result"
    }
   ],
   "source": [
    "fq2"
   ]
  },
  {
   "cell_type": "code",
   "execution_count": 11,
   "id": "b382475f",
   "metadata": {
    "tags": []
   },
   "outputs": [],
   "source": [
    "libs = [f.name.split('_S')[0] for f in fq1]"
   ]
  },
  {
   "cell_type": "code",
   "execution_count": 14,
   "id": "5dc1d328",
   "metadata": {
    "tags": []
   },
   "outputs": [
    {
     "data": {
      "text/plain": [
       "['ANXA2',\n",
       " 'DCP1A',\n",
       " 'DDX19A',\n",
       " 'DDX52',\n",
       " 'EIF3C',\n",
       " 'EV',\n",
       " 'G3BP2',\n",
       " 'LARP4',\n",
       " 'LARP4B',\n",
       " 'RBM15',\n",
       " 'RBM17',\n",
       " 'RPS10',\n",
       " 'THOC1',\n",
       " 'TOB2',\n",
       " 'U2AF2',\n",
       " 'ZC3HAV1']"
      ]
     },
     "execution_count": 14,
     "metadata": {},
     "output_type": "execute_result"
    }
   ],
   "source": [
    "sorted(libs)"
   ]
  },
  {
   "cell_type": "code",
   "execution_count": 15,
   "id": "8fdf5963-95cd-423c-bbe7-eb22224075f4",
   "metadata": {
    "tags": []
   },
   "outputs": [],
   "source": [
    "import pandas as pd\n",
    "manifest = pd.DataFrame([fq1, fq2, libs], index = ['fastq1', 'fastq2','Sample']).T"
   ]
  },
  {
   "cell_type": "code",
   "execution_count": 16,
   "id": "8fe3f6c9",
   "metadata": {
    "tags": []
   },
   "outputs": [],
   "source": [
    "manifest['Rnase'] = True # all are rar11 samples"
   ]
  },
  {
   "cell_type": "code",
   "execution_count": 18,
   "id": "49985ec4-8d0c-4afc-86d9-80bb28f78b49",
   "metadata": {},
   "outputs": [
    {
     "data": {
      "text/html": [
       "<div>\n",
       "<style scoped>\n",
       "    .dataframe tbody tr th:only-of-type {\n",
       "        vertical-align: middle;\n",
       "    }\n",
       "\n",
       "    .dataframe tbody tr th {\n",
       "        vertical-align: top;\n",
       "    }\n",
       "\n",
       "    .dataframe thead th {\n",
       "        text-align: right;\n",
       "    }\n",
       "</style>\n",
       "<table border=\"1\" class=\"dataframe\">\n",
       "  <thead>\n",
       "    <tr style=\"text-align: right;\">\n",
       "      <th></th>\n",
       "      <th>fastq1</th>\n",
       "      <th>fastq2</th>\n",
       "      <th>Sample</th>\n",
       "      <th>Rnase</th>\n",
       "    </tr>\n",
       "  </thead>\n",
       "  <tbody>\n",
       "    <tr>\n",
       "      <th>0</th>\n",
       "      <td>/home/tayu/seqdata/tao/circRNA_seq/rbpcandidat...</td>\n",
       "      <td>/home/tayu/seqdata/tao/circRNA_seq/rbpcandidat...</td>\n",
       "      <td>G3BP2</td>\n",
       "      <td>True</td>\n",
       "    </tr>\n",
       "    <tr>\n",
       "      <th>1</th>\n",
       "      <td>/home/tayu/seqdata/tao/circRNA_seq/rbpcandidat...</td>\n",
       "      <td>/home/tayu/seqdata/tao/circRNA_seq/rbpcandidat...</td>\n",
       "      <td>EV</td>\n",
       "      <td>True</td>\n",
       "    </tr>\n",
       "    <tr>\n",
       "      <th>2</th>\n",
       "      <td>/home/tayu/seqdata/tao/circRNA_seq/rbpcandidat...</td>\n",
       "      <td>/home/tayu/seqdata/tao/circRNA_seq/rbpcandidat...</td>\n",
       "      <td>U2AF2</td>\n",
       "      <td>True</td>\n",
       "    </tr>\n",
       "    <tr>\n",
       "      <th>3</th>\n",
       "      <td>/home/tayu/seqdata/tao/circRNA_seq/rbpcandidat...</td>\n",
       "      <td>/home/tayu/seqdata/tao/circRNA_seq/rbpcandidat...</td>\n",
       "      <td>THOC1</td>\n",
       "      <td>True</td>\n",
       "    </tr>\n",
       "    <tr>\n",
       "      <th>4</th>\n",
       "      <td>/home/tayu/seqdata/tao/circRNA_seq/rbpcandidat...</td>\n",
       "      <td>/home/tayu/seqdata/tao/circRNA_seq/rbpcandidat...</td>\n",
       "      <td>DDX52</td>\n",
       "      <td>True</td>\n",
       "    </tr>\n",
       "    <tr>\n",
       "      <th>5</th>\n",
       "      <td>/home/tayu/seqdata/tao/circRNA_seq/rbpcandidat...</td>\n",
       "      <td>/home/tayu/seqdata/tao/circRNA_seq/rbpcandidat...</td>\n",
       "      <td>RPS10</td>\n",
       "      <td>True</td>\n",
       "    </tr>\n",
       "    <tr>\n",
       "      <th>6</th>\n",
       "      <td>/home/tayu/seqdata/tao/circRNA_seq/rbpcandidat...</td>\n",
       "      <td>/home/tayu/seqdata/tao/circRNA_seq/rbpcandidat...</td>\n",
       "      <td>LARP4</td>\n",
       "      <td>True</td>\n",
       "    </tr>\n",
       "    <tr>\n",
       "      <th>7</th>\n",
       "      <td>/home/tayu/seqdata/tao/circRNA_seq/rbpcandidat...</td>\n",
       "      <td>/home/tayu/seqdata/tao/circRNA_seq/rbpcandidat...</td>\n",
       "      <td>RBM15</td>\n",
       "      <td>True</td>\n",
       "    </tr>\n",
       "    <tr>\n",
       "      <th>8</th>\n",
       "      <td>/home/tayu/seqdata/tao/circRNA_seq/rbpcandidat...</td>\n",
       "      <td>/home/tayu/seqdata/tao/circRNA_seq/rbpcandidat...</td>\n",
       "      <td>ANXA2</td>\n",
       "      <td>True</td>\n",
       "    </tr>\n",
       "    <tr>\n",
       "      <th>9</th>\n",
       "      <td>/home/tayu/seqdata/tao/circRNA_seq/rbpcandidat...</td>\n",
       "      <td>/home/tayu/seqdata/tao/circRNA_seq/rbpcandidat...</td>\n",
       "      <td>DDX19A</td>\n",
       "      <td>True</td>\n",
       "    </tr>\n",
       "    <tr>\n",
       "      <th>10</th>\n",
       "      <td>/home/tayu/seqdata/tao/circRNA_seq/rbpcandidat...</td>\n",
       "      <td>/home/tayu/seqdata/tao/circRNA_seq/rbpcandidat...</td>\n",
       "      <td>ZC3HAV1</td>\n",
       "      <td>True</td>\n",
       "    </tr>\n",
       "    <tr>\n",
       "      <th>11</th>\n",
       "      <td>/home/tayu/seqdata/tao/circRNA_seq/rbpcandidat...</td>\n",
       "      <td>/home/tayu/seqdata/tao/circRNA_seq/rbpcandidat...</td>\n",
       "      <td>DCP1A</td>\n",
       "      <td>True</td>\n",
       "    </tr>\n",
       "    <tr>\n",
       "      <th>12</th>\n",
       "      <td>/home/tayu/seqdata/tao/circRNA_seq/rbpcandidat...</td>\n",
       "      <td>/home/tayu/seqdata/tao/circRNA_seq/rbpcandidat...</td>\n",
       "      <td>LARP4B</td>\n",
       "      <td>True</td>\n",
       "    </tr>\n",
       "    <tr>\n",
       "      <th>13</th>\n",
       "      <td>/home/tayu/seqdata/tao/circRNA_seq/rbpcandidat...</td>\n",
       "      <td>/home/tayu/seqdata/tao/circRNA_seq/rbpcandidat...</td>\n",
       "      <td>RBM17</td>\n",
       "      <td>True</td>\n",
       "    </tr>\n",
       "    <tr>\n",
       "      <th>14</th>\n",
       "      <td>/home/tayu/seqdata/tao/circRNA_seq/rbpcandidat...</td>\n",
       "      <td>/home/tayu/seqdata/tao/circRNA_seq/rbpcandidat...</td>\n",
       "      <td>TOB2</td>\n",
       "      <td>True</td>\n",
       "    </tr>\n",
       "    <tr>\n",
       "      <th>15</th>\n",
       "      <td>/home/tayu/seqdata/tao/circRNA_seq/rbpcandidat...</td>\n",
       "      <td>/home/tayu/seqdata/tao/circRNA_seq/rbpcandidat...</td>\n",
       "      <td>EIF3C</td>\n",
       "      <td>True</td>\n",
       "    </tr>\n",
       "  </tbody>\n",
       "</table>\n",
       "</div>"
      ],
      "text/plain": [
       "                                               fastq1  \\\n",
       "0   /home/tayu/seqdata/tao/circRNA_seq/rbpcandidat...   \n",
       "1   /home/tayu/seqdata/tao/circRNA_seq/rbpcandidat...   \n",
       "2   /home/tayu/seqdata/tao/circRNA_seq/rbpcandidat...   \n",
       "3   /home/tayu/seqdata/tao/circRNA_seq/rbpcandidat...   \n",
       "4   /home/tayu/seqdata/tao/circRNA_seq/rbpcandidat...   \n",
       "5   /home/tayu/seqdata/tao/circRNA_seq/rbpcandidat...   \n",
       "6   /home/tayu/seqdata/tao/circRNA_seq/rbpcandidat...   \n",
       "7   /home/tayu/seqdata/tao/circRNA_seq/rbpcandidat...   \n",
       "8   /home/tayu/seqdata/tao/circRNA_seq/rbpcandidat...   \n",
       "9   /home/tayu/seqdata/tao/circRNA_seq/rbpcandidat...   \n",
       "10  /home/tayu/seqdata/tao/circRNA_seq/rbpcandidat...   \n",
       "11  /home/tayu/seqdata/tao/circRNA_seq/rbpcandidat...   \n",
       "12  /home/tayu/seqdata/tao/circRNA_seq/rbpcandidat...   \n",
       "13  /home/tayu/seqdata/tao/circRNA_seq/rbpcandidat...   \n",
       "14  /home/tayu/seqdata/tao/circRNA_seq/rbpcandidat...   \n",
       "15  /home/tayu/seqdata/tao/circRNA_seq/rbpcandidat...   \n",
       "\n",
       "                                               fastq2   Sample  Rnase  \n",
       "0   /home/tayu/seqdata/tao/circRNA_seq/rbpcandidat...    G3BP2   True  \n",
       "1   /home/tayu/seqdata/tao/circRNA_seq/rbpcandidat...       EV   True  \n",
       "2   /home/tayu/seqdata/tao/circRNA_seq/rbpcandidat...    U2AF2   True  \n",
       "3   /home/tayu/seqdata/tao/circRNA_seq/rbpcandidat...    THOC1   True  \n",
       "4   /home/tayu/seqdata/tao/circRNA_seq/rbpcandidat...    DDX52   True  \n",
       "5   /home/tayu/seqdata/tao/circRNA_seq/rbpcandidat...    RPS10   True  \n",
       "6   /home/tayu/seqdata/tao/circRNA_seq/rbpcandidat...    LARP4   True  \n",
       "7   /home/tayu/seqdata/tao/circRNA_seq/rbpcandidat...    RBM15   True  \n",
       "8   /home/tayu/seqdata/tao/circRNA_seq/rbpcandidat...    ANXA2   True  \n",
       "9   /home/tayu/seqdata/tao/circRNA_seq/rbpcandidat...   DDX19A   True  \n",
       "10  /home/tayu/seqdata/tao/circRNA_seq/rbpcandidat...  ZC3HAV1   True  \n",
       "11  /home/tayu/seqdata/tao/circRNA_seq/rbpcandidat...    DCP1A   True  \n",
       "12  /home/tayu/seqdata/tao/circRNA_seq/rbpcandidat...   LARP4B   True  \n",
       "13  /home/tayu/seqdata/tao/circRNA_seq/rbpcandidat...    RBM17   True  \n",
       "14  /home/tayu/seqdata/tao/circRNA_seq/rbpcandidat...     TOB2   True  \n",
       "15  /home/tayu/seqdata/tao/circRNA_seq/rbpcandidat...    EIF3C   True  "
      ]
     },
     "execution_count": 18,
     "metadata": {},
     "output_type": "execute_result"
    }
   ],
   "source": [
    "manifest"
   ]
  },
  {
   "cell_type": "code",
   "execution_count": 19,
   "id": "5e98bd43-3477-4040-aa10-7acdf18243c4",
   "metadata": {
    "tags": []
   },
   "outputs": [
    {
     "data": {
      "text/html": [
       "<div>\n",
       "<style scoped>\n",
       "    .dataframe tbody tr th:only-of-type {\n",
       "        vertical-align: middle;\n",
       "    }\n",
       "\n",
       "    .dataframe tbody tr th {\n",
       "        vertical-align: top;\n",
       "    }\n",
       "\n",
       "    .dataframe thead th {\n",
       "        text-align: right;\n",
       "    }\n",
       "</style>\n",
       "<table border=\"1\" class=\"dataframe\">\n",
       "  <thead>\n",
       "    <tr style=\"text-align: right;\">\n",
       "      <th></th>\n",
       "      <th>fastq1</th>\n",
       "      <th>fastq2</th>\n",
       "      <th>Sample</th>\n",
       "      <th>Rnase</th>\n",
       "    </tr>\n",
       "  </thead>\n",
       "  <tbody>\n",
       "    <tr>\n",
       "      <th>0</th>\n",
       "      <td>True</td>\n",
       "      <td>True</td>\n",
       "      <td>False</td>\n",
       "      <td>False</td>\n",
       "    </tr>\n",
       "    <tr>\n",
       "      <th>1</th>\n",
       "      <td>True</td>\n",
       "      <td>True</td>\n",
       "      <td>False</td>\n",
       "      <td>False</td>\n",
       "    </tr>\n",
       "    <tr>\n",
       "      <th>2</th>\n",
       "      <td>True</td>\n",
       "      <td>True</td>\n",
       "      <td>False</td>\n",
       "      <td>False</td>\n",
       "    </tr>\n",
       "    <tr>\n",
       "      <th>3</th>\n",
       "      <td>True</td>\n",
       "      <td>True</td>\n",
       "      <td>False</td>\n",
       "      <td>False</td>\n",
       "    </tr>\n",
       "    <tr>\n",
       "      <th>4</th>\n",
       "      <td>True</td>\n",
       "      <td>True</td>\n",
       "      <td>False</td>\n",
       "      <td>False</td>\n",
       "    </tr>\n",
       "    <tr>\n",
       "      <th>5</th>\n",
       "      <td>True</td>\n",
       "      <td>True</td>\n",
       "      <td>False</td>\n",
       "      <td>False</td>\n",
       "    </tr>\n",
       "    <tr>\n",
       "      <th>6</th>\n",
       "      <td>True</td>\n",
       "      <td>True</td>\n",
       "      <td>False</td>\n",
       "      <td>False</td>\n",
       "    </tr>\n",
       "    <tr>\n",
       "      <th>7</th>\n",
       "      <td>True</td>\n",
       "      <td>True</td>\n",
       "      <td>False</td>\n",
       "      <td>False</td>\n",
       "    </tr>\n",
       "    <tr>\n",
       "      <th>8</th>\n",
       "      <td>True</td>\n",
       "      <td>True</td>\n",
       "      <td>False</td>\n",
       "      <td>False</td>\n",
       "    </tr>\n",
       "    <tr>\n",
       "      <th>9</th>\n",
       "      <td>True</td>\n",
       "      <td>True</td>\n",
       "      <td>False</td>\n",
       "      <td>False</td>\n",
       "    </tr>\n",
       "    <tr>\n",
       "      <th>10</th>\n",
       "      <td>True</td>\n",
       "      <td>True</td>\n",
       "      <td>False</td>\n",
       "      <td>False</td>\n",
       "    </tr>\n",
       "    <tr>\n",
       "      <th>11</th>\n",
       "      <td>True</td>\n",
       "      <td>True</td>\n",
       "      <td>False</td>\n",
       "      <td>False</td>\n",
       "    </tr>\n",
       "    <tr>\n",
       "      <th>12</th>\n",
       "      <td>True</td>\n",
       "      <td>True</td>\n",
       "      <td>False</td>\n",
       "      <td>False</td>\n",
       "    </tr>\n",
       "    <tr>\n",
       "      <th>13</th>\n",
       "      <td>True</td>\n",
       "      <td>True</td>\n",
       "      <td>False</td>\n",
       "      <td>False</td>\n",
       "    </tr>\n",
       "    <tr>\n",
       "      <th>14</th>\n",
       "      <td>True</td>\n",
       "      <td>True</td>\n",
       "      <td>False</td>\n",
       "      <td>False</td>\n",
       "    </tr>\n",
       "    <tr>\n",
       "      <th>15</th>\n",
       "      <td>True</td>\n",
       "      <td>True</td>\n",
       "      <td>False</td>\n",
       "      <td>False</td>\n",
       "    </tr>\n",
       "  </tbody>\n",
       "</table>\n",
       "</div>"
      ],
      "text/plain": [
       "    fastq1  fastq2  Sample  Rnase\n",
       "0     True    True   False  False\n",
       "1     True    True   False  False\n",
       "2     True    True   False  False\n",
       "3     True    True   False  False\n",
       "4     True    True   False  False\n",
       "5     True    True   False  False\n",
       "6     True    True   False  False\n",
       "7     True    True   False  False\n",
       "8     True    True   False  False\n",
       "9     True    True   False  False\n",
       "10    True    True   False  False\n",
       "11    True    True   False  False\n",
       "12    True    True   False  False\n",
       "13    True    True   False  False\n",
       "14    True    True   False  False\n",
       "15    True    True   False  False"
      ]
     },
     "execution_count": 19,
     "metadata": {},
     "output_type": "execute_result"
    }
   ],
   "source": [
    "manifest.applymap(os.path.isfile)"
   ]
  },
  {
   "cell_type": "code",
   "execution_count": 20,
   "id": "fb23f507-da87-4d72-bb5e-224813f1ad05",
   "metadata": {},
   "outputs": [],
   "source": [
    "# turns out to be single ended. cannot run current pipeline\n",
    "manifest.to_csv('nextera_iter9_overexpression.csv')"
   ]
  },
  {
   "cell_type": "code",
   "execution_count": 22,
   "id": "224c041c-1687-4573-9351-1e43b6664e85",
   "metadata": {},
   "outputs": [
    {
     "data": {
      "text/plain": [
       "0     False\n",
       "1     False\n",
       "2     False\n",
       "3     False\n",
       "4     False\n",
       "5     False\n",
       "6     False\n",
       "7     False\n",
       "8     False\n",
       "9     False\n",
       "10    False\n",
       "11    False\n",
       "12    False\n",
       "13    False\n",
       "14    False\n",
       "15    False\n",
       "dtype: bool"
      ]
     },
     "execution_count": 22,
     "metadata": {},
     "output_type": "execute_result"
    }
   ],
   "source": [
    "manifest['fastq1'].eq(manifest['fastq2'])"
   ]
  },
  {
   "cell_type": "code",
   "execution_count": null,
   "id": "74e78499-a39f-4920-b396-1bef5708c6aa",
   "metadata": {},
   "outputs": [],
   "source": []
  }
 ],
 "metadata": {
  "kernelspec": {
   "display_name": "Metadensity",
   "language": "python",
   "name": "metadensity"
  },
  "language_info": {
   "codemirror_mode": {
    "name": "ipython",
    "version": 3
   },
   "file_extension": ".py",
   "mimetype": "text/x-python",
   "name": "python",
   "nbconvert_exporter": "python",
   "pygments_lexer": "ipython3",
   "version": "3.9.16"
  }
 },
 "nbformat": 4,
 "nbformat_minor": 5
}
