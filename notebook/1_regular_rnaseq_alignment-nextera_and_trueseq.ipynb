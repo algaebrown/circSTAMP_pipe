{
 "cells": [
  {
   "cell_type": "code",
   "execution_count": 1,
   "id": "474da807",
   "metadata": {},
   "outputs": [
    {
     "data": {
      "text/html": [
       "<div>\n",
       "<style scoped>\n",
       "    .dataframe tbody tr th:only-of-type {\n",
       "        vertical-align: middle;\n",
       "    }\n",
       "\n",
       "    .dataframe tbody tr th {\n",
       "        vertical-align: top;\n",
       "    }\n",
       "\n",
       "    .dataframe thead th {\n",
       "        text-align: right;\n",
       "    }\n",
       "</style>\n",
       "<table border=\"1\" class=\"dataframe\">\n",
       "  <thead>\n",
       "    <tr style=\"text-align: right;\">\n",
       "      <th></th>\n",
       "      <th>Unnamed: 0</th>\n",
       "      <th>Basic Statistics</th>\n",
       "      <th>Per base sequence quality</th>\n",
       "      <th>Per tile sequence quality</th>\n",
       "      <th>Per sequence quality scores</th>\n",
       "      <th>Per base sequence content</th>\n",
       "      <th>Per sequence GC content</th>\n",
       "      <th>Per base N content</th>\n",
       "      <th>Sequence Length Distribution</th>\n",
       "      <th>Sequence Duplication Levels</th>\n",
       "      <th>Overrepresented sequences</th>\n",
       "      <th>Adapter Content</th>\n",
       "      <th>Adapter Content.1</th>\n",
       "    </tr>\n",
       "  </thead>\n",
       "  <tbody>\n",
       "    <tr>\n",
       "      <th>0</th>\n",
       "      <td>fastQC/circseq-bm-rar11-nxt_1.Tr_fastqc/fastqc...</td>\n",
       "      <td>pass</td>\n",
       "      <td>pass</td>\n",
       "      <td>pass</td>\n",
       "      <td>pass</td>\n",
       "      <td>fail</td>\n",
       "      <td>pass</td>\n",
       "      <td>pass</td>\n",
       "      <td>warn</td>\n",
       "      <td>fail</td>\n",
       "      <td>warn</td>\n",
       "      <td>pass</td>\n",
       "      <td>pass</td>\n",
       "    </tr>\n",
       "    <tr>\n",
       "      <th>1</th>\n",
       "      <td>fastQC/circseq-bm-rar19-nxt_1.Tr_fastqc/fastqc...</td>\n",
       "      <td>pass</td>\n",
       "      <td>pass</td>\n",
       "      <td>pass</td>\n",
       "      <td>pass</td>\n",
       "      <td>fail</td>\n",
       "      <td>warn</td>\n",
       "      <td>pass</td>\n",
       "      <td>warn</td>\n",
       "      <td>fail</td>\n",
       "      <td>warn</td>\n",
       "      <td>pass</td>\n",
       "      <td>pass</td>\n",
       "    </tr>\n",
       "    <tr>\n",
       "      <th>0</th>\n",
       "      <td>fastQC/circseq-bm-arr_1.Tr_fastqc/fastqc_data.txt</td>\n",
       "      <td>pass</td>\n",
       "      <td>pass</td>\n",
       "      <td>pass</td>\n",
       "      <td>pass</td>\n",
       "      <td>warn</td>\n",
       "      <td>fail</td>\n",
       "      <td>pass</td>\n",
       "      <td>warn</td>\n",
       "      <td>fail</td>\n",
       "      <td>warn</td>\n",
       "      <td>pass</td>\n",
       "      <td>pass</td>\n",
       "    </tr>\n",
       "    <tr>\n",
       "      <th>1</th>\n",
       "      <td>fastQC/circseq-bm-rz_1.Tr_fastqc/fastqc_data.txt</td>\n",
       "      <td>pass</td>\n",
       "      <td>pass</td>\n",
       "      <td>pass</td>\n",
       "      <td>pass</td>\n",
       "      <td>fail</td>\n",
       "      <td>fail</td>\n",
       "      <td>pass</td>\n",
       "      <td>warn</td>\n",
       "      <td>fail</td>\n",
       "      <td>warn</td>\n",
       "      <td>pass</td>\n",
       "      <td>pass</td>\n",
       "    </tr>\n",
       "    <tr>\n",
       "      <th>2</th>\n",
       "      <td>fastQC/circseq-bm-rar_1.Tr_fastqc/fastqc_data.txt</td>\n",
       "      <td>pass</td>\n",
       "      <td>pass</td>\n",
       "      <td>pass</td>\n",
       "      <td>pass</td>\n",
       "      <td>fail</td>\n",
       "      <td>warn</td>\n",
       "      <td>pass</td>\n",
       "      <td>warn</td>\n",
       "      <td>fail</td>\n",
       "      <td>warn</td>\n",
       "      <td>pass</td>\n",
       "      <td>pass</td>\n",
       "    </tr>\n",
       "  </tbody>\n",
       "</table>\n",
       "</div>"
      ],
      "text/plain": [
       "                                          Unnamed: 0 Basic Statistics  \\\n",
       "0  fastQC/circseq-bm-rar11-nxt_1.Tr_fastqc/fastqc...             pass   \n",
       "1  fastQC/circseq-bm-rar19-nxt_1.Tr_fastqc/fastqc...             pass   \n",
       "0  fastQC/circseq-bm-arr_1.Tr_fastqc/fastqc_data.txt             pass   \n",
       "1   fastQC/circseq-bm-rz_1.Tr_fastqc/fastqc_data.txt             pass   \n",
       "2  fastQC/circseq-bm-rar_1.Tr_fastqc/fastqc_data.txt             pass   \n",
       "\n",
       "  Per base sequence quality Per tile sequence quality  \\\n",
       "0                      pass                      pass   \n",
       "1                      pass                      pass   \n",
       "0                      pass                      pass   \n",
       "1                      pass                      pass   \n",
       "2                      pass                      pass   \n",
       "\n",
       "  Per sequence quality scores Per base sequence content  \\\n",
       "0                        pass                      fail   \n",
       "1                        pass                      fail   \n",
       "0                        pass                      warn   \n",
       "1                        pass                      fail   \n",
       "2                        pass                      fail   \n",
       "\n",
       "  Per sequence GC content Per base N content Sequence Length Distribution  \\\n",
       "0                    pass               pass                         warn   \n",
       "1                    warn               pass                         warn   \n",
       "0                    fail               pass                         warn   \n",
       "1                    fail               pass                         warn   \n",
       "2                    warn               pass                         warn   \n",
       "\n",
       "  Sequence Duplication Levels Overrepresented sequences Adapter Content  \\\n",
       "0                        fail                      warn            pass   \n",
       "1                        fail                      warn            pass   \n",
       "0                        fail                      warn            pass   \n",
       "1                        fail                      warn            pass   \n",
       "2                        fail                      warn            pass   \n",
       "\n",
       "  Adapter Content.1  \n",
       "0              pass  \n",
       "1              pass  \n",
       "0              pass  \n",
       "1              pass  \n",
       "2              pass  "
      ]
     },
     "execution_count": 1,
     "metadata": {},
     "output_type": "execute_result"
    }
   ],
   "source": [
    "import pandas as pd\n",
    "from pathlib import Path\n",
    "import matplotlib.pyplot as plt\n",
    "import seaborn as sns\n",
    "indir = Path('/home/hsher/scratch/circ_nextera/')\n",
    "indir2 = Path('/home/hsher/scratch/circ_truseq/')\n",
    "fastqc = pd.read_csv(indir/'QC/fastQC_passfail.r1.csv')\n",
    "fastqc2 = pd.read_csv(indir2/'QC/fastQC_passfail.r1.csv')\n",
    "\n",
    "pd.concat([fastqc, fastqc2], axis = 0)"
   ]
  },
  {
   "cell_type": "code",
   "execution_count": 2,
   "id": "32df43b6",
   "metadata": {},
   "outputs": [],
   "source": [
    "cutadapt1 = pd.read_csv(indir/'QC/cutadapt_log.csv', index_col = 0)\n",
    "cutadapt2 = pd.read_csv(indir2/'QC/cutadapt_log.csv', index_col = 0)\n",
    "cutadapt = pd.concat([cutadapt1, cutadapt2], axis = 0)"
   ]
  },
  {
   "cell_type": "code",
   "execution_count": 3,
   "id": "5bb7df08",
   "metadata": {},
   "outputs": [
    {
     "data": {
      "text/plain": [
       "Text(0, 0.5, '# Total read pairs sequenced')"
      ]
     },
     "execution_count": 3,
     "metadata": {},
     "output_type": "execute_result"
    },
    {
     "data": {
      "image/png": "[encoded data removed]",
      "text/plain": [
       "<Figure size 432x288 with 1 Axes>"
      ]
     },
     "metadata": {
      "needs_background": "light"
     },
     "output_type": "display_data"
    }
   ],
   "source": [
    "cutadapt['Total read pairs processed'].plot.bar()\n",
    "plt.ylabel('# Total read pairs sequenced')"
   ]
  },
  {
   "cell_type": "code",
   "execution_count": 4,
   "id": "c37c8704",
   "metadata": {},
   "outputs": [
    {
     "data": {
      "text/plain": [
       "Text(0, 0.5, '% Pairs that were too short (likely primer dimer)')"
      ]
     },
     "execution_count": 4,
     "metadata": {},
     "output_type": "execute_result"
    },
    {
     "data": {
      "image/png": "[encoded data removed]",
      "text/plain": [
       "<Figure size 432x288 with 1 Axes>"
      ]
     },
     "metadata": {
      "needs_background": "light"
     },
     "output_type": "display_data"
    }
   ],
   "source": [
    "cutadapt['% Pairs that were too short'].plot.bar()\n",
    "plt.ylabel('% Pairs that were too short (likely primer dimer)')"
   ]
  },
  {
   "cell_type": "code",
   "execution_count": 5,
   "id": "149aab94",
   "metadata": {},
   "outputs": [],
   "source": [
    "star_log1 = pd.read_csv(indir/'QC/genome_mapping_stats.csv')\n",
    "star_log2 = pd.read_csv(indir2/'QC/genome_mapping_stats.csv')\n",
    "star_log = pd.concat([star_log1, star_log2], axis = 0)\n",
    "star_log.index = star_log['STAR Log filename'].apply(lambda x: x.split('/')[-1].replace('.Log.final.out',''))\n",
    "star_log.sort_index(inplace = True)"
   ]
  },
  {
   "cell_type": "code",
   "execution_count": 6,
   "id": "b2044d0a",
   "metadata": {},
   "outputs": [],
   "source": [
    "star_log.index = star_log['STAR Log filename'].apply(lambda x: x.split('/')[-1].replace('.Log.final.out',''))\n",
    "star_log.sort_index(inplace = True)"
   ]
  },
  {
   "cell_type": "code",
   "execution_count": 7,
   "id": "fa716dce",
   "metadata": {},
   "outputs": [
    {
     "data": {
      "image/png": "[encoded data removed]",
      "text/plain": [
       "<Figure size 432x288 with 1 Axes>"
      ]
     },
     "metadata": {
      "needs_background": "light"
     },
     "output_type": "display_data"
    }
   ],
   "source": [
    "star_log['Number of input reads'].plot.barh()\n",
    "plt.xlabel('# input read')\n",
    "sns.despine()"
   ]
  },
  {
   "cell_type": "code",
   "execution_count": 8,
   "id": "2fa973bf",
   "metadata": {},
   "outputs": [
    {
     "data": {
      "image/png": "[encoded data removed]",
      "text/plain": [
       "<Figure size 432x288 with 1 Axes>"
      ]
     },
     "metadata": {
      "needs_background": "light"
     },
     "output_type": "display_data"
    }
   ],
   "source": [
    "star_log['Uniquely mapped reads %'].plot.barh(color = ['tomato' if 'rar' in index else 'royalblue' for index in star_log.index])\n",
    "plt.xlabel('Uniquely mapped reads %')\n",
    "sns.despine()"
   ]
  },
  {
   "cell_type": "code",
   "execution_count": 9,
   "id": "4c898629",
   "metadata": {},
   "outputs": [
    {
     "data": {
      "image/png": "[encoded data removed]",
      "text/plain": [
       "<Figure size 432x288 with 1 Axes>"
      ]
     },
     "metadata": {
      "needs_background": "light"
     },
     "output_type": "display_data"
    }
   ],
   "source": [
    "star_log['% of reads mapped to too many loci'].plot.barh(color = ['tomato' if 'rar' in index else 'royalblue' for index in star_log.index])\n",
    "plt.xlabel('% of reads mapped to too many loci (likely rRNA)')\n",
    "sns.despine()"
   ]
  },
  {
   "cell_type": "code",
   "execution_count": 10,
   "id": "7c596fa4",
   "metadata": {},
   "outputs": [
    {
     "data": {
      "text/html": [
       "<div>\n",
       "<style scoped>\n",
       "    .dataframe tbody tr th:only-of-type {\n",
       "        vertical-align: middle;\n",
       "    }\n",
       "\n",
       "    .dataframe tbody tr th {\n",
       "        vertical-align: top;\n",
       "    }\n",
       "\n",
       "    .dataframe thead th {\n",
       "        text-align: right;\n",
       "    }\n",
       "</style>\n",
       "<table border=\"1\" class=\"dataframe\">\n",
       "  <thead>\n",
       "    <tr style=\"text-align: right;\">\n",
       "      <th></th>\n",
       "      <th>% of reads mapped to multiple loci</th>\n",
       "      <th>% of reads mapped to too many loci</th>\n",
       "      <th>% of reads unmapped: too many mismatches</th>\n",
       "      <th>% of reads unmapped: too short</th>\n",
       "      <th>% of reads unmapped: other</th>\n",
       "      <th>Uniquely mapped reads %</th>\n",
       "    </tr>\n",
       "    <tr>\n",
       "      <th>STAR Log filename</th>\n",
       "      <th></th>\n",
       "      <th></th>\n",
       "      <th></th>\n",
       "      <th></th>\n",
       "      <th></th>\n",
       "      <th></th>\n",
       "    </tr>\n",
       "  </thead>\n",
       "  <tbody>\n",
       "    <tr>\n",
       "      <th>circseq-bm-arr</th>\n",
       "      <td>0.0</td>\n",
       "      <td>26.70</td>\n",
       "      <td>0.0</td>\n",
       "      <td>9.30</td>\n",
       "      <td>0.12</td>\n",
       "      <td>63.89</td>\n",
       "    </tr>\n",
       "    <tr>\n",
       "      <th>circseq-bm-rar</th>\n",
       "      <td>0.0</td>\n",
       "      <td>69.79</td>\n",
       "      <td>0.0</td>\n",
       "      <td>6.11</td>\n",
       "      <td>0.06</td>\n",
       "      <td>24.04</td>\n",
       "    </tr>\n",
       "    <tr>\n",
       "      <th>circseq-bm-rar11-nxt</th>\n",
       "      <td>0.0</td>\n",
       "      <td>36.13</td>\n",
       "      <td>0.0</td>\n",
       "      <td>7.87</td>\n",
       "      <td>0.09</td>\n",
       "      <td>55.91</td>\n",
       "    </tr>\n",
       "    <tr>\n",
       "      <th>circseq-bm-rar19-nxt</th>\n",
       "      <td>0.0</td>\n",
       "      <td>90.72</td>\n",
       "      <td>0.0</td>\n",
       "      <td>2.26</td>\n",
       "      <td>0.03</td>\n",
       "      <td>6.99</td>\n",
       "    </tr>\n",
       "    <tr>\n",
       "      <th>circseq-bm-rz</th>\n",
       "      <td>0.0</td>\n",
       "      <td>14.01</td>\n",
       "      <td>0.0</td>\n",
       "      <td>3.58</td>\n",
       "      <td>0.05</td>\n",
       "      <td>82.36</td>\n",
       "    </tr>\n",
       "  </tbody>\n",
       "</table>\n",
       "</div>"
      ],
      "text/plain": [
       "                      % of reads mapped to multiple loci  \\\n",
       "STAR Log filename                                          \n",
       "circseq-bm-arr                                       0.0   \n",
       "circseq-bm-rar                                       0.0   \n",
       "circseq-bm-rar11-nxt                                 0.0   \n",
       "circseq-bm-rar19-nxt                                 0.0   \n",
       "circseq-bm-rz                                        0.0   \n",
       "\n",
       "                      % of reads mapped to too many loci  \\\n",
       "STAR Log filename                                          \n",
       "circseq-bm-arr                                     26.70   \n",
       "circseq-bm-rar                                     69.79   \n",
       "circseq-bm-rar11-nxt                               36.13   \n",
       "circseq-bm-rar19-nxt                               90.72   \n",
       "circseq-bm-rz                                      14.01   \n",
       "\n",
       "                      % of reads unmapped: too many mismatches  \\\n",
       "STAR Log filename                                                \n",
       "circseq-bm-arr                                             0.0   \n",
       "circseq-bm-rar                                             0.0   \n",
       "circseq-bm-rar11-nxt                                       0.0   \n",
       "circseq-bm-rar19-nxt                                       0.0   \n",
       "circseq-bm-rz                                              0.0   \n",
       "\n",
       "                      % of reads unmapped: too short  \\\n",
       "STAR Log filename                                      \n",
       "circseq-bm-arr                                  9.30   \n",
       "circseq-bm-rar                                  6.11   \n",
       "circseq-bm-rar11-nxt                            7.87   \n",
       "circseq-bm-rar19-nxt                            2.26   \n",
       "circseq-bm-rz                                   3.58   \n",
       "\n",
       "                      % of reads unmapped: other  Uniquely mapped reads %  \n",
       "STAR Log filename                                                          \n",
       "circseq-bm-arr                              0.12                    63.89  \n",
       "circseq-bm-rar                              0.06                    24.04  \n",
       "circseq-bm-rar11-nxt                        0.09                    55.91  \n",
       "circseq-bm-rar19-nxt                        0.03                     6.99  \n",
       "circseq-bm-rz                               0.05                    82.36  "
      ]
     },
     "execution_count": 10,
     "metadata": {},
     "output_type": "execute_result"
    }
   ],
   "source": [
    "star_log[['% of reads mapped to multiple loci', '% of reads mapped to too many loci',\n",
    "                '% of reads unmapped: too many mismatches',\n",
    "                 '% of reads unmapped: too short',\n",
    "          '% of reads unmapped: other',\n",
    "          'Uniquely mapped reads %',\n",
    "          \n",
    "                ]]"
   ]
  },
  {
   "cell_type": "code",
   "execution_count": 11,
   "id": "c33cf51f",
   "metadata": {},
   "outputs": [
    {
     "data": {
      "image/png": "[encoded data removed]",
      "text/plain": [
       "<Figure size 432x288 with 1 Axes>"
      ]
     },
     "metadata": {
      "needs_background": "light"
     },
     "output_type": "display_data"
    }
   ],
   "source": [
    "star_log['Average input read length']\n",
    "\n",
    "star_log['Average input read length'].plot.barh(color = ['pink' if 'nxt' in index else 'seagreen' for index in star_log.index])\n",
    "plt.xlabel('Average input read length')\n",
    "sns.despine()"
   ]
  },
  {
   "cell_type": "code",
   "execution_count": null,
   "id": "c630ac75",
   "metadata": {},
   "outputs": [],
   "source": []
  }
 ],
 "metadata": {
  "kernelspec": {
   "display_name": "Metadensity",
   "language": "python",
   "name": "metadensity"
  },
  "language_info": {
   "codemirror_mode": {
    "name": "ipython",
    "version": 3
   },
   "file_extension": ".py",
   "mimetype": "text/x-python",
   "name": "python",
   "nbconvert_exporter": "python",
   "pygments_lexer": "ipython3",
   "version": "3.7.12"
  }
 },
 "nbformat": 4,
 "nbformat_minor": 5
}
