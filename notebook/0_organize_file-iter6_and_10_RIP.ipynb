{
 "cells": [
  {
   "cell_type": "code",
   "execution_count": 2,
   "id": "5a509f63",
   "metadata": {
    "tags": []
   },
   "outputs": [],
   "source": [
    "import os\n",
    "from pathlib import Path\n",
    "indir = Path('/home/tayu/seqdata/tao/circRNA_seq/circapp/20230720/20230901_LH00320_0022_A227Y7YLT3')\n",
    "indir2 = Path('/home/tayu/seqdata/tao/circRNA_seq/circapp/igm-storage.ucsd.edu/230517_A01535_0329_BH75WTDSX7/')"
   ]
  },
  {
   "cell_type": "markdown",
   "id": "cf755e52",
   "metadata": {},
   "source": [
    "rar11 enriched, different cell lines"
   ]
  },
  {
   "cell_type": "code",
   "execution_count": 3,
   "id": "d5d107ac",
   "metadata": {
    "tags": []
   },
   "outputs": [],
   "source": [
    "fq1 = list(indir.glob('RIP*R1*.fastq.gz'))+list(indir.glob('IGF2*R1*.fastq.gz'))"
   ]
  },
  {
   "cell_type": "code",
   "execution_count": 5,
   "id": "01b52337-e838-40eb-97ae-ad9a65f914ab",
   "metadata": {
    "tags": []
   },
   "outputs": [],
   "source": [
    "fq2 = [str(f).replace('R1', 'R2') for f in fq1]"
   ]
  },
  {
   "cell_type": "code",
   "execution_count": 7,
   "id": "3ff7bc33-756f-4a95-816b-4a3bfebd5031",
   "metadata": {
    "tags": []
   },
   "outputs": [],
   "source": [
    "fq1_2 = list(indir2.glob('*RIP*R1*.fastq.gz'))\n",
    "fq2_2 = [str(f).replace('R1', 'R2') for f in fq1_2]"
   ]
  },
  {
   "cell_type": "code",
   "execution_count": 8,
   "id": "b382475f",
   "metadata": {
    "tags": []
   },
   "outputs": [],
   "source": [
    "libs = [f.name.split('_S')[0] for f in fq1]\n",
    "libs2 = [f.name.split('_S')[0] for f in fq1_2]"
   ]
  },
  {
   "cell_type": "code",
   "execution_count": 9,
   "id": "5dc1d328",
   "metadata": {
    "tags": []
   },
   "outputs": [
    {
     "data": {
      "text/plain": [
       "(['IGF2BP3RIP1',\n",
       "  'IGF2BP3RIP2',\n",
       "  'IGF2BP3RIP3',\n",
       "  'RIP_input1',\n",
       "  'RIP_input2',\n",
       "  'RIP_input3'],\n",
       " ['IGF2BP3_RIP', 'RIP_input'])"
      ]
     },
     "execution_count": 9,
     "metadata": {},
     "output_type": "execute_result"
    }
   ],
   "source": [
    "sorted(libs), sorted(libs2)"
   ]
  },
  {
   "cell_type": "code",
   "execution_count": 10,
   "id": "8fdf5963-95cd-423c-bbe7-eb22224075f4",
   "metadata": {
    "tags": []
   },
   "outputs": [],
   "source": [
    "import pandas as pd\n",
    "manifest = pd.DataFrame([fq1, fq2, libs], index = ['fastq1', 'fastq2','Sample']).T\n",
    "\n",
    "manifest2 = pd.DataFrame([fq1_2, fq2_2, libs2], index = ['fastq1', 'fastq2','Sample']).T"
   ]
  },
  {
   "cell_type": "code",
   "execution_count": 11,
   "id": "8fe3f6c9",
   "metadata": {
    "tags": []
   },
   "outputs": [],
   "source": [
    "manifest['Rnase'] = True # all are rar11 samples\n",
    "manifest2['Rnase'] = True # all are rar11 samples"
   ]
  },
  {
   "cell_type": "code",
   "execution_count": 12,
   "id": "49985ec4-8d0c-4afc-86d9-80bb28f78b49",
   "metadata": {},
   "outputs": [
    {
     "data": {
      "text/html": [
       "<div>\n",
       "<style scoped>\n",
       "    .dataframe tbody tr th:only-of-type {\n",
       "        vertical-align: middle;\n",
       "    }\n",
       "\n",
       "    .dataframe tbody tr th {\n",
       "        vertical-align: top;\n",
       "    }\n",
       "\n",
       "    .dataframe thead th {\n",
       "        text-align: right;\n",
       "    }\n",
       "</style>\n",
       "<table border=\"1\" class=\"dataframe\">\n",
       "  <thead>\n",
       "    <tr style=\"text-align: right;\">\n",
       "      <th></th>\n",
       "      <th>fastq1</th>\n",
       "      <th>fastq2</th>\n",
       "      <th>Sample</th>\n",
       "      <th>Rnase</th>\n",
       "    </tr>\n",
       "  </thead>\n",
       "  <tbody>\n",
       "    <tr>\n",
       "      <th>0</th>\n",
       "      <td>/home/tayu/seqdata/tao/circRNA_seq/circapp/202...</td>\n",
       "      <td>/home/tayu/seqdata/tao/circRNA_seq/circapp/202...</td>\n",
       "      <td>RIP_input1</td>\n",
       "      <td>True</td>\n",
       "    </tr>\n",
       "    <tr>\n",
       "      <th>1</th>\n",
       "      <td>/home/tayu/seqdata/tao/circRNA_seq/circapp/202...</td>\n",
       "      <td>/home/tayu/seqdata/tao/circRNA_seq/circapp/202...</td>\n",
       "      <td>RIP_input3</td>\n",
       "      <td>True</td>\n",
       "    </tr>\n",
       "    <tr>\n",
       "      <th>2</th>\n",
       "      <td>/home/tayu/seqdata/tao/circRNA_seq/circapp/202...</td>\n",
       "      <td>/home/tayu/seqdata/tao/circRNA_seq/circapp/202...</td>\n",
       "      <td>RIP_input2</td>\n",
       "      <td>True</td>\n",
       "    </tr>\n",
       "    <tr>\n",
       "      <th>3</th>\n",
       "      <td>/home/tayu/seqdata/tao/circRNA_seq/circapp/202...</td>\n",
       "      <td>/home/tayu/seqdata/tao/circRNA_seq/circapp/202...</td>\n",
       "      <td>IGF2BP3RIP3</td>\n",
       "      <td>True</td>\n",
       "    </tr>\n",
       "    <tr>\n",
       "      <th>4</th>\n",
       "      <td>/home/tayu/seqdata/tao/circRNA_seq/circapp/202...</td>\n",
       "      <td>/home/tayu/seqdata/tao/circRNA_seq/circapp/202...</td>\n",
       "      <td>IGF2BP3RIP2</td>\n",
       "      <td>True</td>\n",
       "    </tr>\n",
       "    <tr>\n",
       "      <th>5</th>\n",
       "      <td>/home/tayu/seqdata/tao/circRNA_seq/circapp/202...</td>\n",
       "      <td>/home/tayu/seqdata/tao/circRNA_seq/circapp/202...</td>\n",
       "      <td>IGF2BP3RIP1</td>\n",
       "      <td>True</td>\n",
       "    </tr>\n",
       "  </tbody>\n",
       "</table>\n",
       "</div>"
      ],
      "text/plain": [
       "                                              fastq1  \\\n",
       "0  /home/tayu/seqdata/tao/circRNA_seq/circapp/202...   \n",
       "1  /home/tayu/seqdata/tao/circRNA_seq/circapp/202...   \n",
       "2  /home/tayu/seqdata/tao/circRNA_seq/circapp/202...   \n",
       "3  /home/tayu/seqdata/tao/circRNA_seq/circapp/202...   \n",
       "4  /home/tayu/seqdata/tao/circRNA_seq/circapp/202...   \n",
       "5  /home/tayu/seqdata/tao/circRNA_seq/circapp/202...   \n",
       "\n",
       "                                              fastq2       Sample  Rnase  \n",
       "0  /home/tayu/seqdata/tao/circRNA_seq/circapp/202...   RIP_input1   True  \n",
       "1  /home/tayu/seqdata/tao/circRNA_seq/circapp/202...   RIP_input3   True  \n",
       "2  /home/tayu/seqdata/tao/circRNA_seq/circapp/202...   RIP_input2   True  \n",
       "3  /home/tayu/seqdata/tao/circRNA_seq/circapp/202...  IGF2BP3RIP3   True  \n",
       "4  /home/tayu/seqdata/tao/circRNA_seq/circapp/202...  IGF2BP3RIP2   True  \n",
       "5  /home/tayu/seqdata/tao/circRNA_seq/circapp/202...  IGF2BP3RIP1   True  "
      ]
     },
     "execution_count": 12,
     "metadata": {},
     "output_type": "execute_result"
    }
   ],
   "source": [
    "manifest"
   ]
  },
  {
   "cell_type": "code",
   "execution_count": 13,
   "id": "5e98bd43-3477-4040-aa10-7acdf18243c4",
   "metadata": {
    "tags": []
   },
   "outputs": [
    {
     "data": {
      "text/html": [
       "<div>\n",
       "<style scoped>\n",
       "    .dataframe tbody tr th:only-of-type {\n",
       "        vertical-align: middle;\n",
       "    }\n",
       "\n",
       "    .dataframe tbody tr th {\n",
       "        vertical-align: top;\n",
       "    }\n",
       "\n",
       "    .dataframe thead th {\n",
       "        text-align: right;\n",
       "    }\n",
       "</style>\n",
       "<table border=\"1\" class=\"dataframe\">\n",
       "  <thead>\n",
       "    <tr style=\"text-align: right;\">\n",
       "      <th></th>\n",
       "      <th>fastq1</th>\n",
       "      <th>fastq2</th>\n",
       "      <th>Sample</th>\n",
       "      <th>Rnase</th>\n",
       "    </tr>\n",
       "  </thead>\n",
       "  <tbody>\n",
       "    <tr>\n",
       "      <th>0</th>\n",
       "      <td>True</td>\n",
       "      <td>True</td>\n",
       "      <td>False</td>\n",
       "      <td>False</td>\n",
       "    </tr>\n",
       "    <tr>\n",
       "      <th>1</th>\n",
       "      <td>True</td>\n",
       "      <td>True</td>\n",
       "      <td>False</td>\n",
       "      <td>False</td>\n",
       "    </tr>\n",
       "    <tr>\n",
       "      <th>2</th>\n",
       "      <td>True</td>\n",
       "      <td>True</td>\n",
       "      <td>False</td>\n",
       "      <td>False</td>\n",
       "    </tr>\n",
       "    <tr>\n",
       "      <th>3</th>\n",
       "      <td>True</td>\n",
       "      <td>True</td>\n",
       "      <td>False</td>\n",
       "      <td>False</td>\n",
       "    </tr>\n",
       "    <tr>\n",
       "      <th>4</th>\n",
       "      <td>True</td>\n",
       "      <td>True</td>\n",
       "      <td>False</td>\n",
       "      <td>False</td>\n",
       "    </tr>\n",
       "    <tr>\n",
       "      <th>5</th>\n",
       "      <td>True</td>\n",
       "      <td>True</td>\n",
       "      <td>False</td>\n",
       "      <td>False</td>\n",
       "    </tr>\n",
       "  </tbody>\n",
       "</table>\n",
       "</div>"
      ],
      "text/plain": [
       "   fastq1  fastq2  Sample  Rnase\n",
       "0    True    True   False  False\n",
       "1    True    True   False  False\n",
       "2    True    True   False  False\n",
       "3    True    True   False  False\n",
       "4    True    True   False  False\n",
       "5    True    True   False  False"
      ]
     },
     "execution_count": 13,
     "metadata": {},
     "output_type": "execute_result"
    }
   ],
   "source": [
    "manifest.applymap(os.path.isfile)"
   ]
  },
  {
   "cell_type": "code",
   "execution_count": 14,
   "id": "070ac29a-6400-473c-b5c3-b37521552853",
   "metadata": {
    "tags": []
   },
   "outputs": [
    {
     "data": {
      "text/html": [
       "<div>\n",
       "<style scoped>\n",
       "    .dataframe tbody tr th:only-of-type {\n",
       "        vertical-align: middle;\n",
       "    }\n",
       "\n",
       "    .dataframe tbody tr th {\n",
       "        vertical-align: top;\n",
       "    }\n",
       "\n",
       "    .dataframe thead th {\n",
       "        text-align: right;\n",
       "    }\n",
       "</style>\n",
       "<table border=\"1\" class=\"dataframe\">\n",
       "  <thead>\n",
       "    <tr style=\"text-align: right;\">\n",
       "      <th></th>\n",
       "      <th>fastq1</th>\n",
       "      <th>fastq2</th>\n",
       "      <th>Sample</th>\n",
       "      <th>Rnase</th>\n",
       "    </tr>\n",
       "  </thead>\n",
       "  <tbody>\n",
       "    <tr>\n",
       "      <th>0</th>\n",
       "      <td>True</td>\n",
       "      <td>True</td>\n",
       "      <td>False</td>\n",
       "      <td>False</td>\n",
       "    </tr>\n",
       "    <tr>\n",
       "      <th>1</th>\n",
       "      <td>True</td>\n",
       "      <td>True</td>\n",
       "      <td>False</td>\n",
       "      <td>False</td>\n",
       "    </tr>\n",
       "  </tbody>\n",
       "</table>\n",
       "</div>"
      ],
      "text/plain": [
       "   fastq1  fastq2  Sample  Rnase\n",
       "0    True    True   False  False\n",
       "1    True    True   False  False"
      ]
     },
     "execution_count": 14,
     "metadata": {},
     "output_type": "execute_result"
    }
   ],
   "source": [
    "manifest2.applymap(os.path.isfile)"
   ]
  },
  {
   "cell_type": "code",
   "execution_count": 15,
   "id": "fb23f507-da87-4d72-bb5e-224813f1ad05",
   "metadata": {},
   "outputs": [],
   "source": [
    "# turns out to be single ended. cannot run current pipeline\n",
    "manifest.to_csv('nextera_iter10_IGF2BP3_RIP.csv')\n",
    "manifest2.to_csv('nextera_iter6_IGF_RIP_rar11.csv')"
   ]
  }
 ],
 "metadata": {
  "kernelspec": {
   "display_name": "Metadensity",
   "language": "python",
   "name": "metadensity"
  },
  "language_info": {
   "codemirror_mode": {
    "name": "ipython",
    "version": 3
   },
   "file_extension": ".py",
   "mimetype": "text/x-python",
   "name": "python",
   "nbconvert_exporter": "python",
   "pygments_lexer": "ipython3",
   "version": "3.9.16"
  }
 },
 "nbformat": 4,
 "nbformat_minor": 5
}
