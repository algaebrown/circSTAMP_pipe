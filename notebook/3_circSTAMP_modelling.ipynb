{
 "cells": [
  {
   "cell_type": "code",
   "execution_count": 1,
   "id": "02314526-2ee4-4373-85a8-bddcc093a6b6",
   "metadata": {
    "tags": []
   },
   "outputs": [
    {
     "name": "stderr",
     "output_type": "stream",
     "text": [
      "── \u001b[1mAttaching packages\u001b[22m ─────────────────────────────────────── tidyverse 1.3.2 ──\n",
      "\u001b[32m✔\u001b[39m \u001b[34mggplot2\u001b[39m 3.4.2     \u001b[32m✔\u001b[39m \u001b[34mpurrr  \u001b[39m 1.0.1\n",
      "\u001b[32m✔\u001b[39m \u001b[34mtibble \u001b[39m 3.2.1     \u001b[32m✔\u001b[39m \u001b[34mdplyr  \u001b[39m 1.1.2\n",
      "\u001b[32m✔\u001b[39m \u001b[34mtidyr  \u001b[39m 1.3.0     \u001b[32m✔\u001b[39m \u001b[34mstringr\u001b[39m 1.5.0\n",
      "\u001b[32m✔\u001b[39m \u001b[34mreadr  \u001b[39m 2.1.4     \u001b[32m✔\u001b[39m \u001b[34mforcats\u001b[39m 1.0.0\n",
      "Warning message:\n",
      "“package ‘ggplot2’ was built under R version 4.2.3”\n",
      "Warning message:\n",
      "“package ‘tibble’ was built under R version 4.2.3”\n",
      "Warning message:\n",
      "“package ‘tidyr’ was built under R version 4.2.3”\n",
      "Warning message:\n",
      "“package ‘readr’ was built under R version 4.2.3”\n",
      "Warning message:\n",
      "“package ‘purrr’ was built under R version 4.2.3”\n",
      "Warning message:\n",
      "“package ‘dplyr’ was built under R version 4.2.3”\n",
      "Warning message:\n",
      "“package ‘stringr’ was built under R version 4.2.3”\n",
      "Warning message:\n",
      "“package ‘forcats’ was built under R version 4.2.3”\n",
      "── \u001b[1mConflicts\u001b[22m ────────────────────────────────────────── tidyverse_conflicts() ──\n",
      "\u001b[31m✖\u001b[39m \u001b[34mdplyr\u001b[39m::\u001b[32mfilter()\u001b[39m masks \u001b[34mstats\u001b[39m::filter()\n",
      "\u001b[31m✖\u001b[39m \u001b[34mdplyr\u001b[39m::\u001b[32mlag()\u001b[39m    masks \u001b[34mstats\u001b[39m::lag()\n"
     ]
    }
   ],
   "source": [
    "library(tidyverse)"
   ]
  },
  {
   "cell_type": "code",
   "execution_count": 2,
   "id": "c70812f9-89eb-44e4-b673-5ee1c281ffca",
   "metadata": {
    "tags": []
   },
   "outputs": [],
   "source": [
    "apo_only= read.table('/home/hsher/scratch/circ_nextera_iter13/output/edits/APOBEC1only.dp4.neg.circ_level.tsv',\n",
    "                     row.names = 1, header = TRUE, sep = ',')\n"
   ]
  },
  {
   "cell_type": "code",
   "execution_count": 3,
   "id": "be75962b-aa7e-4f4a-9eae-6b248ddfe9b3",
   "metadata": {
    "tags": []
   },
   "outputs": [],
   "source": [
    "rbp = read.table('/home/hsher/scratch/circ_nextera_iter13/output/edits/YTHDF2_STAMP.dp4.neg.circ_level.tsv',\n",
    "                     row.names = 1, header = TRUE, sep = ',')"
   ]
  },
  {
   "cell_type": "code",
   "execution_count": 4,
   "id": "2f1f3068-2760-4ce3-a023-fafa96c1dad1",
   "metadata": {
    "tags": []
   },
   "outputs": [],
   "source": [
    "counts = merge(apo_only, rbp, by = 'row.names', suffixes = c(\".apo\",\".rbp\"))"
   ]
  },
  {
   "cell_type": "code",
   "execution_count": 5,
   "id": "b0926746-ccfe-49d6-aefa-3cb28b4ca0ce",
   "metadata": {
    "tags": []
   },
   "outputs": [
    {
     "data": {
      "text/html": [
       "<table class=\"dataframe\">\n",
       "<caption>A data.frame: 6 × 5</caption>\n",
       "<thead>\n",
       "\t<tr><th></th><th scope=col>Row.names</th><th scope=col>ALT.apo</th><th scope=col>REF.apo</th><th scope=col>ALT.rbp</th><th scope=col>REF.rbp</th></tr>\n",
       "\t<tr><th></th><th scope=col>&lt;I&lt;chr&gt;&gt;</th><th scope=col>&lt;int&gt;</th><th scope=col>&lt;int&gt;</th><th scope=col>&lt;int&gt;</th><th scope=col>&lt;int&gt;</th></tr>\n",
       "</thead>\n",
       "<tbody>\n",
       "\t<tr><th scope=row>1</th><td>chr1:100007034|100017815</td><td>0</td><td>2720</td><td>0</td><td> 1067</td></tr>\n",
       "\t<tr><th scope=row>2</th><td>chr1:100011365|100017815</td><td>0</td><td>2622</td><td>0</td><td>  371</td></tr>\n",
       "\t<tr><th scope=row>3</th><td>chr1:100043073|100061949</td><td>0</td><td>3368</td><td>2</td><td> 7087</td></tr>\n",
       "\t<tr><th scope=row>4</th><td>chr1:100049909|100061949</td><td>0</td><td>2217</td><td>1</td><td> 2931</td></tr>\n",
       "\t<tr><th scope=row>5</th><td>chr1:100049909|100069685</td><td>0</td><td>8560</td><td>2</td><td>16533</td></tr>\n",
       "\t<tr><th scope=row>6</th><td>chr1:100049909|100078548</td><td>1</td><td>6219</td><td>1</td><td>14139</td></tr>\n",
       "</tbody>\n",
       "</table>\n"
      ],
      "text/latex": [
       "A data.frame: 6 × 5\n",
       "\\begin{tabular}{r|lllll}\n",
       "  & Row.names & ALT.apo & REF.apo & ALT.rbp & REF.rbp\\\\\n",
       "  & <I<chr>> & <int> & <int> & <int> & <int>\\\\\n",
       "\\hline\n",
       "\t1 & chr1:100007034\\textbar{}100017815 & 0 & 2720 & 0 &  1067\\\\\n",
       "\t2 & chr1:100011365\\textbar{}100017815 & 0 & 2622 & 0 &   371\\\\\n",
       "\t3 & chr1:100043073\\textbar{}100061949 & 0 & 3368 & 2 &  7087\\\\\n",
       "\t4 & chr1:100049909\\textbar{}100061949 & 0 & 2217 & 1 &  2931\\\\\n",
       "\t5 & chr1:100049909\\textbar{}100069685 & 0 & 8560 & 2 & 16533\\\\\n",
       "\t6 & chr1:100049909\\textbar{}100078548 & 1 & 6219 & 1 & 14139\\\\\n",
       "\\end{tabular}\n"
      ],
      "text/markdown": [
       "\n",
       "A data.frame: 6 × 5\n",
       "\n",
       "| <!--/--> | Row.names &lt;I&lt;chr&gt;&gt; | ALT.apo &lt;int&gt; | REF.apo &lt;int&gt; | ALT.rbp &lt;int&gt; | REF.rbp &lt;int&gt; |\n",
       "|---|---|---|---|---|---|\n",
       "| 1 | chr1:100007034|100017815 | 0 | 2720 | 0 |  1067 |\n",
       "| 2 | chr1:100011365|100017815 | 0 | 2622 | 0 |   371 |\n",
       "| 3 | chr1:100043073|100061949 | 0 | 3368 | 2 |  7087 |\n",
       "| 4 | chr1:100049909|100061949 | 0 | 2217 | 1 |  2931 |\n",
       "| 5 | chr1:100049909|100069685 | 0 | 8560 | 2 | 16533 |\n",
       "| 6 | chr1:100049909|100078548 | 1 | 6219 | 1 | 14139 |\n",
       "\n"
      ],
      "text/plain": [
       "  Row.names                ALT.apo REF.apo ALT.rbp REF.rbp\n",
       "1 chr1:100007034|100017815 0       2720    0        1067  \n",
       "2 chr1:100011365|100017815 0       2622    0         371  \n",
       "3 chr1:100043073|100061949 0       3368    2        7087  \n",
       "4 chr1:100049909|100061949 0       2217    1        2931  \n",
       "5 chr1:100049909|100069685 0       8560    2       16533  \n",
       "6 chr1:100049909|100078548 1       6219    1       14139  "
      ]
     },
     "metadata": {},
     "output_type": "display_data"
    }
   ],
   "source": [
    "head(counts)"
   ]
  },
  {
   "cell_type": "code",
   "execution_count": 6,
   "id": "574a615c-462d-4564-9f89-2b5209f2b256",
   "metadata": {
    "tags": []
   },
   "outputs": [],
   "source": [
    "counts$p_apo = (counts$ALT.apo)/(counts$ALT.apo+counts$REF.apo)"
   ]
  },
  {
   "cell_type": "code",
   "execution_count": 7,
   "id": "ccadee4e-56cb-4246-b9b1-5a6dea8e3152",
   "metadata": {
    "tags": []
   },
   "outputs": [
    {
     "name": "stdout",
     "output_type": "stream",
     "text": [
      "VGLM    linear loop  1 :  loglikelihood = -114077.272\n",
      "VGLM    linear loop  2 :  loglikelihood = -113361.163\n",
      "VGLM    linear loop  3 :  loglikelihood = -113359.38\n",
      "VGLM    linear loop  4 :  loglikelihood = -113359.376\n",
      "VGLM    linear loop  5 :  loglikelihood = -113359.376\n"
     ]
    }
   ],
   "source": [
    "rbp_only = VGAM::vglm(cbind(counts$ALT.rbp, counts$REF.rbp) ~ 1, \n",
    "                           VGAM::betabinomial, trace = TRUE)"
   ]
  },
  {
   "cell_type": "code",
   "execution_count": 8,
   "id": "249ef625-4f38-4dcf-901c-8152ac123c09",
   "metadata": {
    "tags": []
   },
   "outputs": [
    {
     "data": {
      "text/html": [
       "<style>\n",
       ".dl-inline {width: auto; margin:0; padding: 0}\n",
       ".dl-inline>dt, .dl-inline>dd {float: none; width: auto; display: inline-block}\n",
       ".dl-inline>dt::after {content: \":\\0020\"; padding-right: .5ex}\n",
       ".dl-inline>dt:not(:first-of-type) {padding-left: .5ex}\n",
       "</style><dl class=dl-inline><dt>(Intercept):1</dt><dd>-6.18782733865996</dd><dt>(Intercept):2</dt><dd>-4.66426179300497</dd></dl>\n"
      ],
      "text/latex": [
       "\\begin{description*}\n",
       "\\item[(Intercept):1] -6.18782733865996\n",
       "\\item[(Intercept):2] -4.66426179300497\n",
       "\\end{description*}\n"
      ],
      "text/markdown": [
       "(Intercept):1\n",
       ":   -6.18782733865996(Intercept):2\n",
       ":   -4.66426179300497\n",
       "\n"
      ],
      "text/plain": [
       "(Intercept):1 (Intercept):2 \n",
       "    -6.187827     -4.664262 "
      ]
     },
     "metadata": {},
     "output_type": "display_data"
    }
   ],
   "source": [
    "rbp_only %>% (VGAM::coef)"
   ]
  },
  {
   "cell_type": "code",
   "execution_count": null,
   "id": "65b268fb-7326-4cf0-ac25-5e2f3d2b2b3e",
   "metadata": {
    "tags": []
   },
   "outputs": [
    {
     "name": "stdout",
     "output_type": "stream",
     "text": [
      "VGLM    linear loop  1 :  loglikelihood = -146061.648\n",
      "VGLM    linear loop  2 :  loglikelihood = -135986.246\n",
      "VGLM    linear loop  3 :  loglikelihood = -137285.038\n",
      "Taking a modified step.\n",
      "VGLM    linear loop  3 :  loglikelihood = -123528.568\n",
      "VGLM    linear loop  4 :  loglikelihood = -118414.53\n",
      "VGLM    linear loop  5 :  loglikelihood = -114190.647\n",
      "VGLM    linear loop  6 :  loglikelihood = -110827.854\n",
      "VGLM    linear loop  7 :  loglikelihood = -109481.128\n",
      "VGLM    linear loop  8 :  loglikelihood = -109266.488\n",
      "VGLM    linear loop  9 :  loglikelihood = -109240.445\n",
      "VGLM    linear loop  10 :  loglikelihood = -109235.835\n"
     ]
    }
   ],
   "source": [
    "with_apo = VGAM::vglm(cbind(counts$ALT.rbp, counts$REF.rbp) ~ counts$p_apo, \n",
    "                           VGAM::betabinomial, trace = TRUE)"
   ]
  },
  {
   "cell_type": "code",
   "execution_count": null,
   "id": "90608cac-4987-447a-99c8-4d37962aaf9b",
   "metadata": {
    "tags": []
   },
   "outputs": [],
   "source": [
    "with_apo %>% (VGAM::coef)"
   ]
  },
  {
   "cell_type": "code",
   "execution_count": null,
   "id": "afb2d5d3-0013-4694-a9f8-90c487a0d3f3",
   "metadata": {
    "tags": []
   },
   "outputs": [],
   "source": [
    "VGAM::summary(with_apo)"
   ]
  },
  {
   "cell_type": "code",
   "execution_count": 24,
   "id": "e177d60c-a024-4843-a944-b2017a6ebb88",
   "metadata": {
    "tags": []
   },
   "outputs": [
    {
     "data": {
      "text/plain": [
       "Likelihood ratio test\n",
       "\n",
       "Model 1: cbind(counts$ALT.rbp, counts$REF.rbp) ~ counts$p_apo\n",
       "Model 2: cbind(counts$ALT.rbp, counts$REF.rbp) ~ 1\n",
       "    #Df  LogLik Df  Chisq Pr(>Chisq)    \n",
       "1 89201 -109235                         \n",
       "2 89202 -113359  1 8249.4  < 2.2e-16 ***\n",
       "---\n",
       "Signif. codes:  0 ‘***’ 0.001 ‘**’ 0.01 ‘*’ 0.05 ‘.’ 0.1 ‘ ’ 1"
      ]
     },
     "metadata": {},
     "output_type": "display_data"
    }
   ],
   "source": [
    "VGAM::lrtest(with_apo, rbp_only)"
   ]
  },
  {
   "cell_type": "code",
   "execution_count": null,
   "id": "b1a0a964-e3ec-4835-8bc6-786762b538e9",
   "metadata": {
    "tags": []
   },
   "outputs": [],
   "source": [
    "hist(VGAM::fitted(with_apo))"
   ]
  },
  {
   "cell_type": "code",
   "execution_count": 16,
   "id": "71e12d2f-e332-4d87-9400-a6855b8775a3",
   "metadata": {
    "tags": []
   },
   "outputs": [
    {
     "data": {
      "text/html": [
       "0.89859265100073"
      ],
      "text/latex": [
       "0.89859265100073"
      ],
      "text/markdown": [
       "0.89859265100073"
      ],
      "text/plain": [
       "[1] 0.8985927"
      ]
     },
     "metadata": {},
     "output_type": "display_data"
    }
   ],
   "source": [
    "max(VGAM::fitted(with_apo))"
   ]
  },
  {
   "cell_type": "code",
   "execution_count": 17,
   "id": "abecdfa4-52be-46fd-a478-9943ee2507f7",
   "metadata": {
    "tags": []
   },
   "outputs": [],
   "source": [
    "model = with_apo\n",
    "model_coef = model %>% (VGAM::coef) %>% as_tibble(rownames=\"coef\")%>% transmute(coef = c(\"mu\",\"rho\",\"counts$p_apo\"),value)\n",
    "model_overdispersion = model_coef$value[2]\n",
    "counts$fitted=c(VGAM::fitted(model))\n",
    "result = counts %>%mutate(\n",
    "    pvalue = pmax(1e-13, 1 - VGAM::pbetabinom(q = ALT.rbp, size = ALT.rbp + REF.rbp, \n",
    "                                              prob = fitted, \n",
    "                                            rho = model_overdispersion %>% (VGAM::logitlink)(inverse=TRUE) ))\n",
    "    )"
   ]
  },
  {
   "cell_type": "code",
   "execution_count": 18,
   "id": "71674e1a-50e7-4095-8972-4e968d98bb8f",
   "metadata": {
    "tags": []
   },
   "outputs": [],
   "source": [
    "write_tsv(result, 'testing_result_with_APO.tsv')"
   ]
  },
  {
   "cell_type": "code",
   "execution_count": 19,
   "id": "0de9069c-503d-4784-a151-985c1686cc91",
   "metadata": {
    "tags": []
   },
   "outputs": [
    {
     "name": "stderr",
     "output_type": "stream",
     "text": [
      "Warning message in plot.window(xlim, ylim, \"\", ...):\n",
      "“\"alpha\" is not a graphical parameter”\n",
      "Warning message in title(main = main, sub = sub, xlab = xlab, ylab = ylab, ...):\n",
      "“\"alpha\" is not a graphical parameter”\n",
      "Warning message in axis(1, ...):\n",
      "“\"alpha\" is not a graphical parameter”\n",
      "Warning message in axis(2, at = yt, ...):\n",
      "“\"alpha\" is not a graphical parameter”\n"
     ]
    },
    {
     "ename": "ERROR",
     "evalue": "Error in seq.default(0.05, 1, length(y)): object 'y' not found\n",
     "output_type": "error",
     "traceback": [
      "Error in seq.default(0.05, 1, length(y)): object 'y' not found\nTraceback:\n",
      "1. seq(0.05, 1, length(y))",
      "2. seq.default(0.05, 1, length(y))"
     ]
    },
    {
     "data": {
      "image/png": "[encoded data removed]",
      "text/plain": [
       "Plot with title “Histogram of result$pvalue”"
      ]
     },
     "metadata": {
      "image/png": {
       "height": 420,
       "width": 420
      }
     },
     "output_type": "display_data"
    }
   ],
   "source": [
    "hist(result$pvalue, alpha = 0.1)\n",
    "\n",
    "seq(0.05,1,length(y))\n",
    "plot(1:n/(n+1),sort(y))"
   ]
  },
  {
   "cell_type": "code",
   "execution_count": 20,
   "id": "0c990427-f65e-4568-a489-c1a1a30e888a",
   "metadata": {
    "tags": []
   },
   "outputs": [],
   "source": [
    "model = rbp_only\n",
    "model_coef = model %>% (VGAM::coef) %>% as_tibble(rownames=\"coef\")%>% transmute(coef = c(\"mu\",\"rho\"),value)\n",
    "model_overdispersion = model_coef$value[2]\n",
    "counts$fitted=c(VGAM::fitted(model))\n",
    "result = counts %>%mutate(\n",
    "    pvalue = pmax(1e-13, 1 - VGAM::pbetabinom(q = ALT.rbp, size = ALT.rbp + REF.rbp, \n",
    "                                              prob = fitted, \n",
    "                                            rho = model_overdispersion %>% (VGAM::logitlink)(inverse=TRUE) ))\n",
    "    )"
   ]
  },
  {
   "cell_type": "code",
   "execution_count": 21,
   "id": "c1f0af9b-1ac7-473d-b573-4b11549d9c70",
   "metadata": {
    "tags": []
   },
   "outputs": [
    {
     "data": {
      "text/html": [
       "0.00205007373809716"
      ],
      "text/latex": [
       "0.00205007373809716"
      ],
      "text/markdown": [
       "0.00205007373809716"
      ],
      "text/plain": [
       "[1] 0.002050074"
      ]
     },
     "metadata": {},
     "output_type": "display_data"
    }
   ],
   "source": [
    "max(result$fitted)"
   ]
  },
  {
   "cell_type": "code",
   "execution_count": 22,
   "id": "1b5b0cee-cd54-46c9-999b-8233d03335f5",
   "metadata": {
    "tags": []
   },
   "outputs": [],
   "source": [
    "write_tsv(result, 'testing_result_RBPonly.tsv')"
   ]
  },
  {
   "cell_type": "code",
   "execution_count": 23,
   "id": "6d45e985-04c1-4d36-9078-4d7ef624b638",
   "metadata": {
    "tags": []
   },
   "outputs": [
    {
     "name": "stderr",
     "output_type": "stream",
     "text": [
      "Warning message in plot.window(xlim, ylim, \"\", ...):\n",
      "“\"alpha\" is not a graphical parameter”\n",
      "Warning message in title(main = main, sub = sub, xlab = xlab, ylab = ylab, ...):\n",
      "“\"alpha\" is not a graphical parameter”\n",
      "Warning message in axis(1, ...):\n",
      "“\"alpha\" is not a graphical parameter”\n",
      "Warning message in axis(2, at = yt, ...):\n",
      "“\"alpha\" is not a graphical parameter”\n"
     ]
    },
    {
     "data": {
      "text/html": [
       "0.05"
      ],
      "text/latex": [
       "0.05"
      ],
      "text/markdown": [
       "0.05"
      ],
      "text/plain": [
       "[1] 0.05"
      ]
     },
     "metadata": {},
     "output_type": "display_data"
    },
    {
     "data": {
      "image/png": "[encoded data removed]",
      "text/plain": [
       "Plot with title “Histogram of result$pvalue”"
      ]
     },
     "metadata": {
      "image/png": {
       "height": 420,
       "width": 420
      }
     },
     "output_type": "display_data"
    },
    {
     "data": {
      "image/png": "[encoded data removed]",
      "text/plain": [
       "plot without title"
      ]
     },
     "metadata": {
      "image/png": {
       "height": 420,
       "width": 420
      }
     },
     "output_type": "display_data"
    }
   ],
   "source": [
    "hist(result$pvalue, alpha = 0.1)\n",
    "\n",
    "n =length(result$pvalue)\n",
    "y = result$pvalue\n",
    "\n",
    "seq(0.05,1,length(y))\n",
    "plot(1:n/(n+1),sort(y))\n"
   ]
  },
  {
   "cell_type": "code",
   "execution_count": null,
   "id": "96d5e405-3545-469d-b533-0dbd50d4d393",
   "metadata": {
    "tags": []
   },
   "outputs": [],
   "source": [
    "\n",
    "write_tsv(result2, 'testing_result2.tsv')"
   ]
  },
  {
   "cell_type": "code",
   "execution_count": null,
   "id": "e2833cfa-d1c9-4995-ae5a-86e8d31fb454",
   "metadata": {
    "tags": []
   },
   "outputs": [],
   "source": [
    "length(result$pvalue)"
   ]
  },
  {
   "cell_type": "code",
   "execution_count": null,
   "id": "628bc6e2-7486-4577-a655-cc089f734e4e",
   "metadata": {},
   "outputs": [],
   "source": [
    "n =length(result$pvalue)\n",
    "y = result$pvalue\n",
    "\n",
    "seq(0.05,1,length(y))\n",
    "plot(1:n/(n+1),sort(y))\n"
   ]
  },
  {
   "cell_type": "code",
   "execution_count": null,
   "id": "297e4ff7-0127-4e15-a189-ee5424eaa5e2",
   "metadata": {},
   "outputs": [],
   "source": []
  }
 ],
 "metadata": {
  "kernelspec": {
   "display_name": "r_env",
   "language": "R",
   "name": "r_env"
  },
  "language_info": {
   "codemirror_mode": "r",
   "file_extension": ".r",
   "mimetype": "text/x-r-source",
   "name": "R",
   "pygments_lexer": "r",
   "version": "4.2.1"
  }
 },
 "nbformat": 4,
 "nbformat_minor": 5
}
