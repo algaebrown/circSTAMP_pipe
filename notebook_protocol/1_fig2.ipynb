{
 "cells": [
  {
   "cell_type": "code",
   "execution_count": 1,
   "id": "b19e0dfd",
   "metadata": {
    "tags": []
   },
   "outputs": [],
   "source": [
    "import os\n",
    "from pybedtools import BedTool\n",
    "import pandas as pd\n",
    "import seaborn as sns\n",
    "import matplotlib.pyplot as plt\n",
    "from plot_params import *\n",
    "from pathlib import Path\n",
    "import numpy as np\n",
    "circ_quant_output = []\n",
    "\n",
    "indir = '/tscc/nfs/home/s5xu/scratch/circSTAMP_pipe/1_basic_nextera/output'\n",
    "circ_quant_output += [os.path.join(indir,f) for f in os.listdir(indir) if f.endswith('.gtf')]\n",
    "indir = '/tscc/nfs/home/s5xu/scratch/circSTAMP_pipe/1_basic_trueseq/output'\n",
    "circ_quant_output += [os.path.join(indir,f) for f in os.listdir(indir) if f.endswith('.gtf')]"
   ]
  },
  {
   "cell_type": "code",
   "execution_count": 2,
   "id": "73be78e8",
   "metadata": {
    "tags": []
   },
   "outputs": [],
   "source": [
    "def read_ciri_gtf(fname):\n",
    "    bed = BedTool(fname)\n",
    "    df = bed.to_dataframe()\n",
    "    # filter for non-entries\n",
    "    stat = df.loc[df['seqname'].str.contains('##'), 'seqname'].str.split(': ', expand = True)\n",
    "    df = df.loc[~df['seqname'].str.contains('##')].reset_index()\n",
    "    \n",
    "    # get attributes\n",
    "    attrs = pd.DataFrame([i.attrs for i in bed])\n",
    "    \n",
    "    return pd.concat([df, attrs], axis = 1), stat"
   ]
  },
  {
   "cell_type": "code",
   "execution_count": 3,
   "id": "af0b5209",
   "metadata": {
    "tags": []
   },
   "outputs": [],
   "source": [
    "rename_dict = {\n",
    "               #### included\n",
    "               'HEK_rep1_rar11': 'SD_seq_rep1',\n",
    "               'HEK_rep2_rar11': 'SD_seq_rep2',\n",
    "               'rar_rep1': 'rar_rep1',\n",
    "               'rar_rep2': 'rar_rep2', \n",
    "               'arr_rep1': 'arr_rep1', \n",
    "               'arr_rep2':'arr_rep2',\n",
    "               'rz_rep1': 'rz_rep1', \n",
    "               'rz_rep2':'rz_rep2',\n",
    "               ### included\n",
    "               }\n",
    "group_color = {\n",
    "              'SD_seq': 'orange',\n",
    "              \n",
    "              'rz': 'mediumorchid', \n",
    "              'rar': 'seagreen',\n",
    "              'arr': 'royalblue'}"
   ]
  },
  {
   "cell_type": "code",
   "execution_count": 4,
   "id": "985e2f4b",
   "metadata": {
    "tags": []
   },
   "outputs": [],
   "source": [
    "circ_type_count = []\n",
    "names = []\n",
    "junc_ratio_tbl = []\n",
    "bsj_ratio_tbl = []\n",
    "fsj_ratio_tbl = []\n",
    "stats = []\n",
    "mega_anno = []\n",
    "\n",
    "features = ['seqname', 'start', 'end', \n",
    "       'strand', 'circ_type', 'gene_id', 'gene_name', 'gene_type']\n",
    "for fname in circ_quant_output:\n",
    "    \n",
    "    \n",
    "    name = os.path.basename(fname).replace('.gtf', '')\n",
    "    if name in rename_dict.keys():\n",
    "        names.append(name)\n",
    "\n",
    "        circ_df, stat = read_ciri_gtf(fname)\n",
    "\n",
    "        circ_type_count.append(circ_df['circ_type'].value_counts())\n",
    "\n",
    "        junc_ratio_tbl.append(circ_df.set_index('circ_id')['junc_ratio'].astype(float))\n",
    "        bsj_ratio_tbl.append(circ_df.set_index('circ_id')['bsj'].astype(float))\n",
    "        fsj_ratio_tbl.append(circ_df.set_index('circ_id')['fsj'].astype(float))\n",
    "        stats.append(stat.set_index(0))\n",
    "        \n",
    "        \n",
    "        \n",
    "    \n",
    "        mega_anno.append(circ_df.set_index('circ_id')[features])\n",
    "mega_anno = pd.concat(mega_anno, axis = 0).drop_duplicates()\n"
   ]
  },
  {
   "cell_type": "code",
   "execution_count": 5,
   "id": "4f23c5b5",
   "metadata": {
    "tags": []
   },
   "outputs": [],
   "source": [
    "stats_df = pd.concat(stats, axis = 1).T\n",
    "for col in ['##Total_Reads', '##Mapped_Reads', '##Circular_Reads']:\n",
    "    stats_df[col] = stats_df[col].astype(int)\n",
    "\n",
    "stats_df = stats_df.drop_duplicates('##Sample').set_index('##Sample')\n",
    "stats_df = stats_df.rename(rename_dict).sort_index()\n",
    "stats_df['frac_circular'] = stats_df['##Circular_Reads']/stats_df['##Mapped_Reads']\n",
    "stats_df['frac_mapped'] = stats_df['##Mapped_Reads']/stats_df['##Total_Reads']\n",
    "\n",
    "names = [rename_dict[c] if c in rename_dict.keys() else c for c in names ]\n",
    "\n"
   ]
  },
  {
   "cell_type": "code",
   "execution_count": 6,
   "id": "683371c4-071c-4d31-8afc-2dd3ea97bf20",
   "metadata": {
    "tags": []
   },
   "outputs": [],
   "source": [
    "counts = pd.concat(circ_type_count, axis = 1)\n",
    "counts.columns = names\n",
    "counts = counts.T.reset_index().drop_duplicates('index').set_index('index')"
   ]
  },
  {
   "cell_type": "code",
   "execution_count": 7,
   "id": "a24c981a-ceee-4a30-9b52-6fa177c1642f",
   "metadata": {
    "tags": []
   },
   "outputs": [],
   "source": [
    "bsj = pd.concat(bsj_ratio_tbl, axis = 1)\n",
    "bsj.columns = names\n",
    "bsj=bsj.T.reset_index().drop_duplicates('index').set_index('index').T\n",
    "fsj = pd.concat(fsj_ratio_tbl, axis = 1)\n",
    "fsj.columns = names\n",
    "fsj=fsj.T.reset_index().drop_duplicates('index').set_index('index').T\n",
    "junc = pd.concat(junc_ratio_tbl, axis = 1)\n",
    "junc.columns = names\n",
    "junc=junc.T.reset_index().drop_duplicates('index').set_index('index').T"
   ]
  },
  {
   "cell_type": "code",
   "execution_count": 8,
   "id": "b04162cb",
   "metadata": {
    "tags": []
   },
   "outputs": [
    {
     "data": {
      "image/png": "[encoded data removed]",
      "text/plain": [
       "<Figure size 432x288 with 1 Axes>"
      ]
     },
     "metadata": {},
     "output_type": "display_data"
    }
   ],
   "source": [
    "stats_df['##Total_Reads'].sort_values().plot.bar()\n",
    "plt.ylabel('sequencing depth')\n",
    "plt.yscale('log')\n",
    "plt.xticks(rotation=45)\n",
    "sns.despine()"
   ]
  },
  {
   "cell_type": "code",
   "execution_count": 9,
   "id": "c032ddca",
   "metadata": {
    "tags": []
   },
   "outputs": [],
   "source": [
    "figure1_sets = [ \n",
    "              'rz_rep1','rz_rep2',\n",
    "             'arr_rep1','arr_rep2',\n",
    "              'rar_rep1', 'rar_rep2',\n",
    "              'SD_seq_rep1','SD_seq_rep2'\n",
    "             ]"
   ]
  },
  {
   "cell_type": "code",
   "execution_count": 10,
   "id": "736f5d4f",
   "metadata": {
    "tags": []
   },
   "outputs": [],
   "source": [
    "figure1_colors = [group_color[c.split('-')[0].split('_rep')[0]] for c in figure1_sets]"
   ]
  },
  {
   "cell_type": "code",
   "execution_count": 11,
   "id": "7186fbd4",
   "metadata": {
    "tags": []
   },
   "outputs": [
    {
     "data": {
      "image/png": "[encoded data removed]",
      "text/plain": [
       "<Figure size 432x216 with 2 Axes>"
      ]
     },
     "metadata": {},
     "output_type": "display_data"
    }
   ],
   "source": [
    "f, ax = plt.subplots(1,2, figsize = (6,3))\n",
    "(stats_df.loc[figure1_sets, 'frac_circular']*100).plot.bar(\n",
    "    color = figure1_colors, ax = ax[0])\n",
    "ax[0].set_ylabel('% circular reads')\n",
    "ax[0].set_xticklabels(ax[0].get_xticklabels(), rotation=45) \n",
    "\n",
    "\n",
    "\n",
    "counts.loc[figure1_sets].plot.bar(stacked = True, ax = ax[1])\n",
    "ax[1].set_ylabel('# circRNA detected')\n",
    "ax[1].set_xticklabels(ax[1].get_xticklabels(), rotation=45) \n",
    "sns.despine()\n",
    "plt.tight_layout()\n",
    "plt.savefig(figdir / f\"1_perc_circle.pdf\")"
   ]
  },
  {
   "cell_type": "markdown",
   "id": "ec23c14a-2a60-4564-94ca-379b716f82b9",
   "metadata": {},
   "source": [
    "# Enrichment as measured by junction ratio"
   ]
  },
  {
   "cell_type": "code",
   "execution_count": 12,
   "id": "868f078d-f391-4e04-b6c4-91f41d23ac1f",
   "metadata": {
    "tags": []
   },
   "outputs": [],
   "source": [
    "from scipy.stats import pearsonr"
   ]
  },
  {
   "cell_type": "code",
   "execution_count": 13,
   "id": "66ecfeca-2bf1-4146-bd10-130712a5c2f2",
   "metadata": {
    "tags": []
   },
   "outputs": [
    {
     "data": {
      "image/png": "[encoded data removed]",
      "text/plain": [
       "<Figure size 432x432 with 4 Axes>"
      ]
     },
     "metadata": {},
     "output_type": "display_data"
    }
   ],
   "source": [
    "f, axes = plt.subplots(2,2, figsize = (6,6))\n",
    "sub_junc = junc.loc[~(junc['rz_rep1'].isnull())&~(junc['rz_rep2'].isnull())]\n",
    "\n",
    "for protocol, ax in zip(['SD_seq', 'arr', 'rar', 'rz'], axes.flatten()):\n",
    "    sns.kdeplot(data = sub_junc.sample(500), x = f'{protocol}_rep1', y = f'{protocol}_rep2', fill = True, ax = ax)\n",
    "    r,p = pearsonr(sub_junc[f'{protocol}_rep1'].fillna(0),sub_junc[f'{protocol}_rep2'].fillna(0))\n",
    "    ax.set_title(f'pearsonr={r:.2f}')\n",
    "    ax.set_xlabel(f'{protocol}_rep1 junction ratio')\n",
    "    ax.set_ylabel(f'{protocol}_rep2 junction ratio')\n",
    "# sns.kdeplot(data = sub_junc.sample(500), x = 'arr_rep1', y = 'arr_rep2', fill = True, ax = ax[0,1])\n",
    "# sns.kdeplot(data = sub_junc.sample(500), x = 'rar_rep1', y = 'rar_rep2', fill = True, ax = ax[1,0])\n",
    "# sns.kdeplot(data = sub_junc.sample(500), x = 'rz_rep1', y = 'rz_rep2', fill = True, ax = ax[1,1])\n",
    "sns.despine()\n",
    "plt.tight_layout()\n",
    "# plt.savefig(figdir / '1_junc_ratio_reproducibility.pdf')"
   ]
  },
  {
   "cell_type": "code",
   "execution_count": 14,
   "id": "32658353-fbcd-4dd1-b168-c9f23e66a895",
   "metadata": {
    "tags": []
   },
   "outputs": [],
   "source": [
    "sub_junc_t = sub_junc.T.copy()\n",
    "sub_junc_t['protocol']=pd.Series(sub_junc.columns).str.split('_', expand = True)[0].tolist()\n",
    "avg_junc = sub_junc_t.groupby(by = 'protocol').mean().T"
   ]
  },
  {
   "cell_type": "code",
   "execution_count": 15,
   "id": "b8cca4ef-f4c4-4c40-bf74-600fad9ddff2",
   "metadata": {
    "tags": []
   },
   "outputs": [
    {
     "data": {
      "image/png": "[encoded data removed]",
      "text/plain": [
       "<Figure size 648x216 with 3 Axes>"
      ]
     },
     "metadata": {},
     "output_type": "display_data"
    }
   ],
   "source": [
    "f, axes = plt.subplots(1,3, figsize = (9,3))\n",
    "for protocol, ax in zip(['SD', 'arr', 'rar'], axes):\n",
    "    \n",
    "    sns.kdeplot(data = avg_junc.sample(500), x = f'rz', y = f'{protocol}', fill = True, ax = ax)\n",
    "    ax.set_xlabel(f'rz avg junction ratio')\n",
    "    ax.set_ylabel(f'{protocol} avg junction ratio')\n",
    "    \n",
    "    #r,p = pearsonr(sub_junc[f'{protocol}_rep1'].fillna(0),sub_junc[f'{protocol}_rep2'].fillna(0))\n",
    "    #ax.set_title(f'pearsonr={r:.2f}')\n",
    "sns.despine()\n",
    "plt.savefig(figdir / '1_junc_ratio_vs_rz.pdf')"
   ]
  },
  {
   "cell_type": "code",
   "execution_count": 16,
   "id": "204926a4-c23e-4355-b6e4-cd20cebf9543",
   "metadata": {
    "tags": []
   },
   "outputs": [
    {
     "data": {
      "image/png": "[encoded data removed]",
      "text/plain": [
       "<Figure size 432x216 with 2 Axes>"
      ]
     },
     "metadata": {},
     "output_type": "display_data"
    }
   ],
   "source": [
    "f, axes = plt.subplots(1,2, figsize = (6,3))\n",
    "for protocol, ax in zip(['arr', 'rar'], axes):\n",
    "    \n",
    "    sns.kdeplot(data = avg_junc.sample(500), y = f'SD', x = f'{protocol}', fill = True, ax = ax)\n",
    "    ax.set_ylabel(f'SD_seq avg junction ratio')\n",
    "    ax.set_xlabel(f'{protocol} avg junction ratio')\n",
    "    \n",
    "    #r,p = pearsonr(sub_junc[f'{protocol}_rep1'].fillna(0),sub_junc[f'{protocol}_rep2'].fillna(0))\n",
    "    #ax.set_title(f'pearsonr={r:.2f}')\n",
    "sns.despine()\n",
    "# plt.savefig(figdir / '1_junc_ratio_vs_other.pdf')"
   ]
  },
  {
   "cell_type": "code",
   "execution_count": 17,
   "id": "63cfe60b",
   "metadata": {
    "tags": []
   },
   "outputs": [
    {
     "data": {
      "image/png": "[encoded data removed]",
      "text/plain": [
       "<Figure size 216x216 with 1 Axes>"
      ]
     },
     "metadata": {},
     "output_type": "display_data"
    }
   ],
   "source": [
    "f, ax = plt.subplots(figsize = (3,3))\n",
    "for col, color in zip(figure1_sets, figure1_colors):\n",
    "    ax = sns.ecdfplot(data =junc[col].to_frame(), x = col, ax = ax, label = col, color = color)\n",
    "    ax.set_xlabel('Backsplicing \\n Junction Ratio')\n",
    "ax.legend(bbox_to_anchor = (1.2,1))\n",
    "#sns.move_legend(ax, \"center right\")\n",
    "sns.despine()"
   ]
  },
  {
   "cell_type": "code",
   "execution_count": 18,
   "id": "43db6fff-6a27-4b7d-a982-2d8a7227e32c",
   "metadata": {
    "tags": []
   },
   "outputs": [
    {
     "data": {
      "text/plain": [
       "0.0005"
      ]
     },
     "execution_count": 18,
     "metadata": {},
     "output_type": "execute_result"
    }
   ],
   "source": [
    "avg_junc.loc[avg_junc['rz']>0, 'rz'].min()"
   ]
  },
  {
   "cell_type": "code",
   "execution_count": 19,
   "id": "0df3ce57-1272-42b6-b7db-37ec16b9417b",
   "metadata": {},
   "outputs": [],
   "source": [
    "group_color = {\n",
    "              'SD_seq': 'orange',\n",
    "              \n",
    "              'rz': 'mediumorchid', \n",
    "              'rar': 'seagreen',\n",
    "              'arr': 'royalblue'}"
   ]
  },
  {
   "cell_type": "code",
   "execution_count": 20,
   "id": "c78b7bf6-cd0c-4545-88e3-5c943539d4c4",
   "metadata": {
    "tags": []
   },
   "outputs": [
    {
     "data": {
      "image/png": "[encoded data removed]",
      "text/plain": [
       "<Figure size 216x216 with 1 Axes>"
      ]
     },
     "metadata": {},
     "output_type": "display_data"
    }
   ],
   "source": [
    "enrichment_eff = avg_junc.loc[avg_junc['rz']>0].div(avg_junc.loc[avg_junc['rz']>0, 'rz'], axis = 0)\n",
    "f, ax = plt.subplots(figsize = (3,3))\n",
    "for protocol, c in zip(['SD', 'arr', 'rar'], ['orange', 'royalblue', 'seagreen']):\n",
    "    sns.kdeplot(data = enrichment_eff.fillna(0), x = protocol, label = protocol, ax = ax,\n",
    "               color = c)\n",
    "ax.legend()\n",
    "ax.set_xlabel('Enrichment Efficiency')\n",
    "ax.set_xlim(-50,100)\n",
    "sns.despine()\n",
    "plt.savefig(figdir / '1_enrichment_eff.pdf')"
   ]
  },
  {
   "cell_type": "markdown",
   "id": "2726b5ef",
   "metadata": {},
   "source": [
    "# Accuracy"
   ]
  },
  {
   "cell_type": "code",
   "execution_count": 21,
   "id": "60769e0c",
   "metadata": {
    "tags": []
   },
   "outputs": [],
   "source": [
    "circname = {}\n",
    "for name in bsj.columns:\n",
    "    circname[name] = set(bsj[name].dropna().index)"
   ]
  },
  {
   "cell_type": "code",
   "execution_count": 22,
   "id": "233771cd-ad53-46d0-8453-8dc1f771226c",
   "metadata": {
    "tags": []
   },
   "outputs": [],
   "source": [
    "circname_reproducible = {}\n",
    "for protocol in ['SD_seq', 'arr', 'rar', 'rz']:\n",
    "    circname_reproducible[protocol]=circname[f'{protocol}_rep1'].intersection(circname[f'{protocol}_rep2'])"
   ]
  },
  {
   "cell_type": "code",
   "execution_count": 23,
   "id": "0ea71fdd",
   "metadata": {
    "tags": []
   },
   "outputs": [
    {
     "data": {
      "image/png": "[encoded data removed]",
      "text/plain": [
       "<Figure size 432x288 with 1 Axes>"
      ]
     },
     "metadata": {},
     "output_type": "display_data"
    }
   ],
   "source": [
    "from matplotlib_venn import venn3\n",
    "venn3([circname_reproducible[p] for p in ['SD_seq', 'arr', 'rar']]\n",
    "      , set_labels = ('SD_seq', 'rar', 'arr'), \n",
    "      set_colors = (group_color[p] for p in ['SD_seq', 'arr', 'rar']),\n",
    "      alpha = 0.3\n",
    "     )\n",
    "plt.title('reproducible_circles')\n",
    "plt.savefig(figdir / '1_venn_3procotol.pdf')"
   ]
  },
  {
   "cell_type": "code",
   "execution_count": 24,
   "id": "82187160",
   "metadata": {
    "tags": []
   },
   "outputs": [],
   "source": [
    "# from venny4py.venny4py import *\n",
    "# venny4py(circname_reproducible)\n",
    "# # plt.savefig(figdir / '1_venn_4procotol.pdf')"
   ]
  },
  {
   "cell_type": "code",
   "execution_count": 25,
   "id": "11244da6",
   "metadata": {
    "tags": []
   },
   "outputs": [],
   "source": [
    "from scipy.stats import pearsonr\n",
    "def get_pearsonr_dropna(df, col1, col2):\n",
    "    sub = df[[col1, col2]].dropna()\n",
    "    r,p=pearsonr(sub[col1], sub[col2])\n",
    "    return r,p"
   ]
  },
  {
   "cell_type": "code",
   "execution_count": 26,
   "id": "e3f5c4d9-6b7a-47cd-bcc9-450c518a9ecb",
   "metadata": {
    "tags": []
   },
   "outputs": [],
   "source": [
    "cpm=bsj.div(stats_df['##Total_Reads'], axis = 1)*10**6"
   ]
  },
  {
   "cell_type": "code",
   "execution_count": 27,
   "id": "2fd32546-a8ce-4191-af96-685cb3d8ef5d",
   "metadata": {
    "tags": []
   },
   "outputs": [
    {
     "data": {
      "text/plain": [
       "((189119, 8), (189119, 8))"
      ]
     },
     "execution_count": 27,
     "metadata": {},
     "output_type": "execute_result"
    }
   ],
   "source": [
    "cpm.shape, bsj.shape"
   ]
  },
  {
   "cell_type": "code",
   "execution_count": 28,
   "id": "b1008a17",
   "metadata": {
    "tags": []
   },
   "outputs": [
    {
     "data": {
      "image/png": "[encoded data removed]",
      "text/plain": [
       "<Figure size 432x432 with 4 Axes>"
      ]
     },
     "metadata": {},
     "output_type": "display_data"
    }
   ],
   "source": [
    "f, axes = plt.subplots(2,2, figsize = (6,6))\n",
    "for protocol, ax in zip(['SD_seq', 'arr', 'rar', 'rz'], axes.flatten()):\n",
    "\n",
    "    sns.scatterplot(data = cpm.dropna(subset = [f'{protocol}_rep1',f'{protocol}_rep2']), x = f'{protocol}_rep1', y = f'{protocol}_rep2', ax = ax, \n",
    "                     color = group_color[protocol])#, marker = '.')\n",
    "    r,p = get_pearsonr_dropna(cpm, f'{protocol}_rep1', f'{protocol}_rep2')\n",
    "    ax.set_title(f'r={r:.2f}(pval={p:.1e})')\n",
    "    ax.set_xlabel(f'{protocol}_rep1 CPM')\n",
    "    ax.set_ylabel(f'{protocol}_rep2 CPM')\n",
    "    ax.plot([0, max(cpm[f'{protocol}_rep1'].max(), cpm[f'{protocol}_rep2'].max())],\n",
    "            [0, max(cpm[f'{protocol}_rep1'].max(), cpm[f'{protocol}_rep2'].max())],\n",
    "            '--',\n",
    "           color = 'black'\n",
    "           )\n",
    "\n",
    "\n",
    "plt.tight_layout()\n",
    "sns.despine()\n",
    "plt.savefig(figdir/f\"1_CPM_reproducibility.png\")"
   ]
  },
  {
   "cell_type": "code",
   "execution_count": 29,
   "id": "2947d4ea-44bb-4fb9-b5b3-c8a4984e6395",
   "metadata": {},
   "outputs": [
    {
     "data": {
      "text/plain": [
       "<AxesSubplot:xlabel='rz_rep1', ylabel='rz_rep2'>"
      ]
     },
     "execution_count": 29,
     "metadata": {},
     "output_type": "execute_result"
    },
    {
     "data": {
      "image/png": "[encoded data removed]",
      "text/plain": [
       "<Figure size 432x288 with 1 Axes>"
      ]
     },
     "metadata": {},
     "output_type": "display_data"
    }
   ],
   "source": [
    "sns.histplot(data = cpm.dropna(subset = [f'{protocol}_rep1',f'{protocol}_rep2']), \n",
    "             x = f'{protocol}_rep1', y = f'{protocol}_rep2' ,\n",
    "                     color = group_color[protocol])#, marker = '.')"
   ]
  },
  {
   "cell_type": "code",
   "execution_count": 30,
   "id": "822a5c06-9cb5-4dff-a02b-df8e4a2a9a52",
   "metadata": {
    "tags": []
   },
   "outputs": [
    {
     "data": {
      "image/png": "[encoded data removed]",
      "text/plain": [
       "<Figure size 432x432 with 6 Axes>"
      ]
     },
     "metadata": {},
     "output_type": "display_data"
    }
   ],
   "source": [
    "f, axes = plt.subplots(3,2, figsize = (6,6))\n",
    "for i, protocol in enumerate(['SD_seq', 'arr', 'rar']):\n",
    "    for j, rep in enumerate([1,2]):\n",
    "        ax = axes[i,j]\n",
    "        x = f'rz_rep{rep}'\n",
    "        y = f'{protocol}_rep{rep}'\n",
    "        sns.scatterplot(data = cpm, x = x, y = y, ax = ax, \n",
    "                         color = group_color[protocol], marker = '.')\n",
    "        r,p = get_pearsonr_dropna(cpm, x,y)\n",
    "        ax.set_title(f'r={r:.2f}(pval={p:.1e})')\n",
    "        ax.set_xlabel(f' CPM {x}')\n",
    "        ax.set_ylabel(f' CPM {y}')\n",
    "        # ax.plot([0, max(cpm[f'{protocol}_rep{rep}'].max(), cpm[f'rz_rep{rep}'].max())],\n",
    "        #         [0, max(cpm[f'{protocol}_rep{rep}'].max(), cpm[f'rz_rep{rep}'].max())],\n",
    "        #         '--',\n",
    "        #        color = 'black'\n",
    "        #        )\n",
    "\n",
    "\n",
    "plt.tight_layout()\n",
    "sns.despine()\n",
    "# plt.savefig(figdir / '1_CPM_compareto_rz_eachrep.pdf')"
   ]
  },
  {
   "cell_type": "code",
   "execution_count": 31,
   "id": "e8765090-5a80-4c78-8dec-85ae0702fdef",
   "metadata": {
    "tags": []
   },
   "outputs": [
    {
     "data": {
      "image/png": "[encoded data removed]",
      "text/plain": [
       "<Figure size 432x432 with 4 Axes>"
      ]
     },
     "metadata": {},
     "output_type": "display_data"
    }
   ],
   "source": [
    "f, axes = plt.subplots(2,2, figsize = (6,6))\n",
    "for i, protocol in enumerate(['SD_seq', 'arr']):\n",
    "    for j, rep in enumerate([1,2]):\n",
    "        ax = axes[i,j]\n",
    "        x = f'rar_rep{rep}'\n",
    "        y = f'{protocol}_rep{rep}'\n",
    "        cpm.plot.scatter(x = x, y = y, ax = ax, \n",
    "                         color = group_color[protocol], marker = '.')\n",
    "        r,p = get_pearsonr_dropna(cpm, x,y)\n",
    "        ax.set_title(f'r={r:.2f}(pval={p:.1e})')\n",
    "        ax.set_xlabel(f' CPM {x}')\n",
    "        ax.set_ylabel(f' CPM {y}')\n",
    "        # ax.plot([0, max(cpm[f'{protocol}_rep{rep}'].max(), cpm[f'rz_rep{rep}'].max())],\n",
    "        #         [0, max(cpm[f'{protocol}_rep{rep}'].max(), cpm[f'rz_rep{rep}'].max())],\n",
    "        #         '--',\n",
    "        #        color = 'black'\n",
    "        #        )\n",
    "\n",
    "\n",
    "plt.tight_layout()\n",
    "sns.despine()\n",
    "# plt.savefig(figdir / '1_CPM_compareto_rar_eachrep.pdf')"
   ]
  },
  {
   "cell_type": "code",
   "execution_count": 32,
   "id": "778c7fb8-f8dd-4638-8f8c-7eb4cd9d1957",
   "metadata": {
    "tags": []
   },
   "outputs": [
    {
     "data": {
      "image/png": "[encoded data removed]",
      "text/plain": [
       "<Figure size 432x432 with 6 Axes>"
      ]
     },
     "metadata": {},
     "output_type": "display_data"
    }
   ],
   "source": [
    "f, axes = plt.subplots(3,2, figsize = (6,6))\n",
    "for i, protocol in enumerate(['SD_seq', 'arr', 'rar']):\n",
    "    for j, rep in enumerate([1,2]):\n",
    "        ax = axes[i,j]\n",
    "        x = f'rz_rep{rep}'\n",
    "        y = f'{protocol}_rep{rep}'\n",
    "        bsj.plot.scatter(x = x, y = y, ax = ax, \n",
    "                         color = group_color[protocol], marker = '.')\n",
    "        r,p = get_pearsonr_dropna(bsj, x,y)\n",
    "        ax.set_title(f'r={r:.2f}(pval={p:.1e})')\n",
    "        ax.set_xlabel(f' BSJ {x}')\n",
    "        ax.set_ylabel(f' BSJ {y}')\n",
    "        # ax.plot([0, max(cpm[f'{protocol}_rep{rep}'].max(), cpm[f'rz_rep{rep}'].max())],\n",
    "        #         [0, max(cpm[f'{protocol}_rep{rep}'].max(), cpm[f'rz_rep{rep}'].max())],\n",
    "        #         '--',\n",
    "        #        color = 'black'\n",
    "        #        )\n",
    "\n",
    "\n",
    "plt.tight_layout()\n",
    "sns.despine()\n",
    "# plt.savefig(figdir / '1_BSJ_compareto_rz_eachrep.pdf')"
   ]
  },
  {
   "cell_type": "code",
   "execution_count": 33,
   "id": "d1fb6737-772c-47f1-b943-b6cfe89d99f9",
   "metadata": {
    "tags": []
   },
   "outputs": [],
   "source": [
    "cpm_t = cpm.loc[(cpm['rz_rep1']>0)&(cpm['rz_rep2']>0)].T.copy()\n",
    "cpm_t['protocol']=pd.Series(cpm.columns).str.split('_', expand = True)[0].tolist()\n",
    "avg_cpm = cpm_t.groupby(by = 'protocol').mean().T"
   ]
  },
  {
   "cell_type": "code",
   "execution_count": 34,
   "id": "f8e88d7e-3b0e-4de4-9b7b-80d68a6499ed",
   "metadata": {
    "tags": []
   },
   "outputs": [],
   "source": [
    "group_color['SD'] = 'orange'"
   ]
  },
  {
   "cell_type": "code",
   "execution_count": 35,
   "id": "897fdf31-2570-4be8-854b-4721b1f44cdb",
   "metadata": {
    "tags": []
   },
   "outputs": [
    {
     "data": {
      "image/png": "[encoded data removed]",
      "text/plain": [
       "<Figure size 648x216 with 3 Axes>"
      ]
     },
     "metadata": {},
     "output_type": "display_data"
    }
   ],
   "source": [
    "f, axes = plt.subplots(1,3, figsize = (9,3))\n",
    "for protocol, ax in zip(['SD', 'arr', 'rar'], axes.flatten()):\n",
    "\n",
    "    avg_cpm.plot.scatter(y = f'{protocol}', x = f'rz', ax = ax, \n",
    "                     color = group_color[protocol], marker = '.')\n",
    "    r,p = get_pearsonr_dropna(avg_cpm, f'{protocol}', f'rz')\n",
    "    ax.set_title(f'r={r:.2f}(pval={p:.1e})')\n",
    "    ax.set_xlabel(f'rz average CPM')\n",
    "    ax.set_ylabel(f'{protocol} average CPM')\n",
    "\n",
    "\n",
    "plt.tight_layout()\n",
    "sns.despine()\n",
    "plt.savefig(figdir / '1_CPM_corr_w_rz.pdf')"
   ]
  },
  {
   "cell_type": "code",
   "execution_count": 36,
   "id": "a83b8821-cabf-451f-92bf-a6f29e98868b",
   "metadata": {
    "tags": []
   },
   "outputs": [
    {
     "data": {
      "text/plain": [
       "<AxesSubplot:>"
      ]
     },
     "execution_count": 36,
     "metadata": {},
     "output_type": "execute_result"
    },
    {
     "data": {
      "image/png": "[encoded data removed]",
      "text/plain": [
       "<Figure size 432x288 with 1 Axes>"
      ]
     },
     "metadata": {},
     "output_type": "display_data"
    }
   ],
   "source": [
    "avg_cpm['rz'].hist(bins = 100)"
   ]
  },
  {
   "cell_type": "code",
   "execution_count": 37,
   "id": "887ccbe5-0c0d-472b-98f2-b482a68c8b49",
   "metadata": {
    "tags": []
   },
   "outputs": [
    {
     "data": {
      "image/png": "[encoded data removed]",
      "text/plain": [
       "<Figure size 648x216 with 3 Axes>"
      ]
     },
     "metadata": {},
     "output_type": "display_data"
    }
   ],
   "source": [
    "# Gene said to show top 10% for correlation\n",
    "top10percent = np.percentile(avg_cpm['rz'], 90)\n",
    "f, axes = plt.subplots(1,3, figsize = (9,3))\n",
    "for protocol, ax in zip(['SD', 'arr', 'rar'], axes.flatten()):\n",
    "\n",
    "    avg_cpm.loc[avg_cpm['rz']>top10percent].plot.scatter(y = f'{protocol}', x = f'rz', ax = ax, \n",
    "                     color = group_color[protocol], marker = '.')\n",
    "    r,p = get_pearsonr_dropna(avg_cpm.loc[avg_cpm['rz']>top10percent], f'{protocol}', f'rz')\n",
    "    ax.set_title(f'r={r:.2f}(pval={p:.1e})')\n",
    "    ax.set_xlabel(f'rz average CPM')\n",
    "    ax.set_ylabel(f'{protocol} average CPM')\n",
    "\n",
    "plt.suptitle('top 10%')\n",
    "plt.tight_layout()\n",
    "sns.despine()\n",
    "# plt.savefig(figdir / '1_CPM_corr_w_rz_top10_percent.pdf')"
   ]
  },
  {
   "cell_type": "code",
   "execution_count": 38,
   "id": "b9244369-9600-4829-905c-d9d8c62b1bd0",
   "metadata": {
    "tags": []
   },
   "outputs": [
    {
     "data": {
      "image/png": "[encoded data removed]",
      "text/plain": [
       "<Figure size 432x216 with 2 Axes>"
      ]
     },
     "metadata": {},
     "output_type": "display_data"
    }
   ],
   "source": [
    "f, axes = plt.subplots(1,2, figsize = (6,3))\n",
    "for protocol, ax in zip(['arr', 'rar'], axes.flatten()):\n",
    "\n",
    "    avg_cpm.plot.scatter(x = f'{protocol}', y = f'SD', ax = ax, \n",
    "                     color = group_color[protocol], marker = '.')\n",
    "    r,p = get_pearsonr_dropna(avg_cpm, f'{protocol}', f'rz')\n",
    "    ax.set_title(f'r={r:.2f}(pval={p:.1e})')\n",
    "    ax.set_ylabel(f'SD_seq average CPM')\n",
    "    ax.set_xlabel(f'{protocol} average CPM')\n",
    "\n",
    "\n",
    "plt.tight_layout()\n",
    "sns.despine()\n",
    "plt.savefig(figdir / '1_CPM_corr_w_other.pdf')"
   ]
  },
  {
   "cell_type": "code",
   "execution_count": 39,
   "id": "5099ba65-ae58-4889-94fb-97fd53083c86",
   "metadata": {
    "tags": []
   },
   "outputs": [
    {
     "data": {
      "image/png": "[encoded data removed]",
      "text/plain": [
       "<Figure size 216x216 with 1 Axes>"
      ]
     },
     "metadata": {},
     "output_type": "display_data"
    }
   ],
   "source": [
    "f, ax = plt.subplots(figsize = (3,3))\n",
    "avg_cpm.plot.scatter(x = f'arr', y = f'SD', ax = ax, \n",
    "                     color = 'grey', marker = '.')\n",
    "r,p = get_pearsonr_dropna(avg_cpm, f'arr', f'rar')\n",
    "ax.set_title(f'r={r:.2f}(pval={p:.1e})')\n",
    "ax.set_xlabel(f'arr average CPM')\n",
    "ax.set_ylabel(f'SD_seq average CPM')\n",
    "plt.tight_layout()\n",
    "sns.despine()\n",
    "# plt.savefig(figdir / '1_rar_corr_arr.pdf')"
   ]
  },
  {
   "cell_type": "code",
   "execution_count": 40,
   "id": "d6f6fb81-47ad-4371-bdef-061f74a52b7d",
   "metadata": {
    "tags": []
   },
   "outputs": [],
   "source": [
    "mionco_df = pd.read_csv('/tscc/projects/ps-yeolab5/hsher/mioncocirc/v0.1.release.txt', sep = '\\t')\n",
    "mionco_df['circ_id']=mionco_df['chr']+':'+(mionco_df['start']+1).astype(str)+'|'+mionco_df['end'].astype(str)"
   ]
  },
  {
   "cell_type": "code",
   "execution_count": 41,
   "id": "c1db2922-e6b2-49e0-9267-3909f575f8fa",
   "metadata": {
    "tags": []
   },
   "outputs": [],
   "source": [
    "\n",
    "detected_t = ~bsj.isnull().T\n",
    "detected_t['protocol']=pd.Series(bsj.columns).str.split('_', expand = True)[0].tolist()\n",
    "detected_both = detected_t.groupby(by = 'protocol').all().T\n",
    "detected_both.columns = ['detected_'+c for c in detected_both.columns]"
   ]
  },
  {
   "cell_type": "code",
   "execution_count": 42,
   "id": "c4744c87-a222-40dc-aa67-b105beb203d7",
   "metadata": {
    "tags": []
   },
   "outputs": [],
   "source": [
    "mega = pd.concat([detected_both, cpm, mega_anno], axis = 1)"
   ]
  },
  {
   "cell_type": "code",
   "execution_count": 43,
   "id": "9f3769ec-7742-430e-bf5f-f2737a29e6e1",
   "metadata": {
    "tags": []
   },
   "outputs": [],
   "source": [
    "mega['is_miOncoCirc']=mega.index.isin(mionco_df['circ_id'])"
   ]
  },
  {
   "cell_type": "code",
   "execution_count": 44,
   "id": "756b566e-9c24-4404-a7e6-bc67827f8b90",
   "metadata": {
    "tags": []
   },
   "outputs": [
    {
     "data": {
      "image/png": "[encoded data removed]",
      "text/plain": [
       "<Figure size 704x320 with 4 Axes>"
      ]
     },
     "metadata": {},
     "output_type": "display_data"
    }
   ],
   "source": [
    "from upsetplot import plot\n",
    "plot(mega.groupby(by = [c for c in mega.columns if c.startswith('detected_')])['rz_rep1'].mean(),\n",
    "    )\n",
    "plt.ylabel('mean rz CPM')\n",
    "plt.savefig(f\"{figdir}/1_mean_CPM_upset.pdf\")"
   ]
  },
  {
   "cell_type": "code",
   "execution_count": 45,
   "id": "ffa26918-77e3-4c37-9a31-e2e4d2bcc664",
   "metadata": {
    "tags": []
   },
   "outputs": [
    {
     "data": {
      "text/plain": [
       "Text(0, 0.5, 'fraction is known (miOncoCirc)')"
      ]
     },
     "execution_count": 45,
     "metadata": {},
     "output_type": "execute_result"
    },
    {
     "data": {
      "image/png": "[encoded data removed]",
      "text/plain": [
       "<Figure size 704x320 with 4 Axes>"
      ]
     },
     "metadata": {},
     "output_type": "display_data"
    }
   ],
   "source": [
    "\n",
    "plot(mega.groupby(by = [c for c in mega.columns if c.startswith('detected_')])['is_miOncoCirc'].mean(),\n",
    "    )\n",
    "plt.ylabel('fraction is known (miOncoCirc)')\n",
    "# plt.savefig(figdir / '1_fraction_miOncoCirc.pdf')"
   ]
  },
  {
   "cell_type": "code",
   "execution_count": 46,
   "id": "2ad1eaaa-073c-482d-b72e-f2a709a0e792",
   "metadata": {
    "tags": []
   },
   "outputs": [
    {
     "data": {
      "image/png": "[encoded data removed]",
      "text/plain": [
       "<Figure size 704x320 with 4 Axes>"
      ]
     },
     "metadata": {},
     "output_type": "display_data"
    }
   ],
   "source": [
    "\n",
    "type_cnt = mega.groupby(by = [c for c in mega.columns if c.startswith('detected_')]\n",
    "            )['circ_type'].value_counts().unstack().fillna(0)\n",
    "plot(type_cnt['intron'],\n",
    "    )\n",
    "plt.ylabel('# Intronic circular RNA')\n",
    "plt.savefig(figdir / '1_n_intronic.pdf')"
   ]
  },
  {
   "cell_type": "markdown",
   "id": "ac4c5294-c809-4955-af73-83f54de4d54c",
   "metadata": {},
   "source": [
    "# Downsampling"
   ]
  },
  {
   "cell_type": "code",
   "execution_count": 47,
   "id": "168d0afa-3c48-4982-91a7-c9f1111c4638",
   "metadata": {
    "tags": []
   },
   "outputs": [],
   "source": [
    "from pathlib import Path\n",
    "downsample_dir = Path('/tscc/nfs/home/hsher/scratch/downsample_ciri/output/')"
   ]
  },
  {
   "cell_type": "code",
   "execution_count": 48,
   "id": "52642875-b2e1-4e66-acd7-c5fe4380f13e",
   "metadata": {
    "tags": []
   },
   "outputs": [],
   "source": [
    "data = []\n",
    "for fname in downsample_dir.glob('*.gtf'):\n",
    "    name, depth,_ = fname.name.split('.')\n",
    "    depth = int(depth)\n",
    "    circ_df, stat = read_ciri_gtf(fname)\n",
    "    cnt = circ_df['circ_type'].value_counts()\n",
    "    value = pd.concat([stat.set_index(0)[1], cnt])\n",
    "    value['name'] = name\n",
    "    value['depth']=depth\n",
    "    data.append(value)\n",
    "data = pd.concat(data, axis =1).T"
   ]
  },
  {
   "cell_type": "code",
   "execution_count": 49,
   "id": "bec0207c-1120-476b-85ea-826829ffbd5b",
   "metadata": {
    "tags": []
   },
   "outputs": [],
   "source": [
    "data[[ '##Total_Reads',\n",
    " '##Mapped_Reads',\n",
    " '##Circular_Reads']]=data[[ '##Total_Reads',\n",
    " '##Mapped_Reads',\n",
    " '##Circular_Reads']].astype(int)"
   ]
  },
  {
   "cell_type": "code",
   "execution_count": 50,
   "id": "1fe17475-d228-4a32-a1b0-89304691e76c",
   "metadata": {
    "tags": []
   },
   "outputs": [
    {
     "data": {
      "image/png": "[encoded data removed]",
      "text/plain": [
       "<Figure size 216x216 with 1 Axes>"
      ]
     },
     "metadata": {},
     "output_type": "display_data"
    }
   ],
   "source": [
    "f,ax = plt.subplots(figsize = (3,3))\n",
    "for name, group in data.sort_values(by = 'depth').groupby(by = 'name'):\n",
    "    try:\n",
    "        group.plot(x = 'depth', y = '##Circular_Reads', ax = ax, \n",
    "                   label = rename_dict[name], marker = 'o',\n",
    "                  color =group_color[rename_dict[name].split('_')[0]])\n",
    "    except:\n",
    "        group.plot(x = 'depth', y = '##Circular_Reads', ax = ax, \n",
    "                   label = name, marker = 'o',\n",
    "                  color ='grey')\n",
    "    sns.despine()\n",
    "ax.set_ylabel('# circular reads')\n",
    "ax.legend(bbox_to_anchor = (1.2, 1))\n",
    "plt.savefig(figdir / '1_downsample_n_circ_read.pdf')"
   ]
  },
  {
   "cell_type": "code",
   "execution_count": 51,
   "id": "b8a74751-be31-4047-82c9-31bc665ee690",
   "metadata": {
    "tags": []
   },
   "outputs": [
    {
     "data": {
      "image/png": "[encoded data removed]",
      "text/plain": [
       "<Figure size 216x216 with 1 Axes>"
      ]
     },
     "metadata": {},
     "output_type": "display_data"
    }
   ],
   "source": [
    "f,ax = plt.subplots(figsize = (3,3))\n",
    "for name, group in data.sort_values(by = 'depth').groupby(by = 'name'):\n",
    "    try:\n",
    "        group.plot(x = 'depth', y = 'intron', ax = ax, \n",
    "                   label = rename_dict[name], marker = 'o',\n",
    "                  color =group_color[rename_dict[name].split('_')[0]])\n",
    "    except:\n",
    "        group.plot(x = 'depth', y = 'intron', ax = ax, \n",
    "                   label = name, marker = 'o',\n",
    "                  color ='grey')\n",
    "    sns.despine()\n",
    "ax.set_ylabel('# intronic circular RNA')\n",
    "ax.legend(bbox_to_anchor = (1.2, 1))\n",
    "plt.savefig(figdir / '1_downsample_n_intronic_circ.pdf')"
   ]
  },
  {
   "cell_type": "code",
   "execution_count": 52,
   "id": "563d6c4a-b0d2-49ea-9ba4-913ce28cac71",
   "metadata": {
    "tags": []
   },
   "outputs": [
    {
     "data": {
      "image/png": "[encoded data removed]",
      "text/plain": [
       "<Figure size 216x216 with 1 Axes>"
      ]
     },
     "metadata": {},
     "output_type": "display_data"
    }
   ],
   "source": [
    "f,ax = plt.subplots(figsize = (3,3))\n",
    "for name, group in data.sort_values(by = 'depth').groupby(by = 'name'):\n",
    "    try:\n",
    "        group.plot(x = 'depth', y = 'exon', ax = ax, \n",
    "                   label = rename_dict[name], marker = 'o',\n",
    "                  color =group_color[rename_dict[name].split('_')[0]])\n",
    "    except:\n",
    "        group.plot(x = 'depth', y = 'intron', ax = ax, \n",
    "                   label = name, marker = 'o',\n",
    "                  color ='grey')\n",
    "    sns.despine()\n",
    "ax.set_ylabel('# intronic circular RNA')\n",
    "ax.legend(bbox_to_anchor = (1.2, 1))\n",
    "plt.savefig(figdir / '1_downsample_n_exon_circ.pdf')"
   ]
  },
  {
   "cell_type": "code",
   "execution_count": 53,
   "id": "09ee0f40-5a86-445d-ba7a-092a8d458934",
   "metadata": {
    "tags": []
   },
   "outputs": [
    {
     "data": {
      "image/png": "[encoded data removed]",
      "text/plain": [
       "<Figure size 216x216 with 1 Axes>"
      ]
     },
     "metadata": {},
     "output_type": "display_data"
    }
   ],
   "source": [
    "mega.boxplot(by = 'circ_type', column=['SD_seq_rep2'], figsize = (3,3), rot = 90)\n",
    "plt.yscale('log')\n",
    "plt.ylabel('CPM in SD-seq')\n",
    "sns.despine()\n",
    "plt.title('')\n",
    "plt.savefig(figdir / '1_CPM_by_type.pdf')"
   ]
  },
  {
   "cell_type": "code",
   "execution_count": 54,
   "id": "81c05c8b-adf0-40c7-838c-73dc78cc1987",
   "metadata": {
    "tags": []
   },
   "outputs": [],
   "source": [
    "mega['detected_by_other']=mega[[c for c in mega.columns if c.startswith('detected_') and '_SD' not in c]].any(axis = 1)"
   ]
  },
  {
   "cell_type": "code",
   "execution_count": 55,
   "id": "44d91048-2527-4c09-a0af-7279856af205",
   "metadata": {},
   "outputs": [
    {
     "data": {
      "text/plain": [
       "False    136355\n",
       "True      52764\n",
       "Name: detected_SD, dtype: int64"
      ]
     },
     "execution_count": 55,
     "metadata": {},
     "output_type": "execute_result"
    }
   ],
   "source": [
    "mega['detected_SD'].value_counts()"
   ]
  },
  {
   "cell_type": "code",
   "execution_count": 56,
   "id": "9ab57744-3bf3-428c-bd55-ec0d6faa207a",
   "metadata": {},
   "outputs": [
    {
     "data": {
      "text/html": [
       "<div>\n",
       "<style scoped>\n",
       "    .dataframe tbody tr th:only-of-type {\n",
       "        vertical-align: middle;\n",
       "    }\n",
       "\n",
       "    .dataframe tbody tr th {\n",
       "        vertical-align: top;\n",
       "    }\n",
       "\n",
       "    .dataframe thead th {\n",
       "        text-align: right;\n",
       "    }\n",
       "</style>\n",
       "<table border=\"1\" class=\"dataframe\">\n",
       "  <thead>\n",
       "    <tr style=\"text-align: right;\">\n",
       "      <th>detected_by_other</th>\n",
       "      <th>False</th>\n",
       "      <th>True</th>\n",
       "    </tr>\n",
       "    <tr>\n",
       "      <th>detected_SD</th>\n",
       "      <th></th>\n",
       "      <th></th>\n",
       "    </tr>\n",
       "  </thead>\n",
       "  <tbody>\n",
       "    <tr>\n",
       "      <th>False</th>\n",
       "      <td>133102</td>\n",
       "      <td>3253</td>\n",
       "    </tr>\n",
       "    <tr>\n",
       "      <th>True</th>\n",
       "      <td>38681</td>\n",
       "      <td>14083</td>\n",
       "    </tr>\n",
       "  </tbody>\n",
       "</table>\n",
       "</div>"
      ],
      "text/plain": [
       "detected_by_other   False   True\n",
       "detected_SD                     \n",
       "False              133102   3253\n",
       "True                38681  14083"
      ]
     },
     "execution_count": 56,
     "metadata": {},
     "output_type": "execute_result"
    }
   ],
   "source": [
    "pd.crosstab(mega['detected_SD'],mega['detected_by_other'])"
   ]
  },
  {
   "cell_type": "code",
   "execution_count": 57,
   "id": "ca1f4786-0893-44d5-8da5-b4cfcf26a430",
   "metadata": {
    "tags": []
   },
   "outputs": [
    {
     "data": {
      "image/png": "[encoded data removed]",
      "text/plain": [
       "<Figure size 216x216 with 1 Axes>"
      ]
     },
     "metadata": {},
     "output_type": "display_data"
    }
   ],
   "source": [
    "plt.style.use('seaborn-ticks')\n",
    "mega.boxplot(by = ['detected_SD','detected_by_other'], column = 'SD_seq_rep1', figsize = (3,3),\n",
    "            rot = 90)\n",
    "plt.xticks([1,2,3,4],['Irreproducible', 'Other methods', 'SD-seq only', 'All methods'])\n",
    "sns.despine()\n",
    "plt.yscale('log')\n",
    "plt.ylabel('CPM in rar11')\n",
    "plt.title('')\n",
    "plt.savefig(figdir / '1_CPM_by_detect_rar11.pdf')"
   ]
  },
  {
   "cell_type": "markdown",
   "id": "b9d03d0f-e91d-458d-a6cd-9ba73049426c",
   "metadata": {},
   "source": [
    "# Are intronic RNA lariats?"
   ]
  },
  {
   "cell_type": "code",
   "execution_count": 58,
   "id": "9bbb5b3e-9c6a-45c0-b26a-762ee89d6406",
   "metadata": {
    "tags": []
   },
   "outputs": [],
   "source": [
    "gencode_coords = BedTool('/tscc/nfs/home/hsher/gencode_coords/gencode.v35.basic.annotation.gff3')"
   ]
  },
  {
   "cell_type": "code",
   "execution_count": 59,
   "id": "c36b8464-3f6b-4031-830a-30d59dd00fc0",
   "metadata": {
    "tags": []
   },
   "outputs": [],
   "source": [
    "from collections import defaultdict\n",
    "known_5ss = defaultdict(set)\n",
    "known_3ss = defaultdict(set)\n",
    "for record in gencode_coords:\n",
    "    if record[2]=='exon':\n",
    "        gene = record.attrs['gene_name']\n",
    "        if record.strand == '+':\n",
    "            ss3 = record.start\n",
    "            ss5 = record.end+1\n",
    "        else:\n",
    "            ss3 = record.end+1\n",
    "            ss5 = record.start\n",
    "        known_5ss[gene].add(ss5)\n",
    "        known_3ss[gene].add(ss3)"
   ]
  },
  {
   "cell_type": "code",
   "execution_count": 60,
   "id": "d952abb2-b35d-40e9-98b3-98a1ec2dd2d1",
   "metadata": {
    "tags": []
   },
   "outputs": [
    {
     "name": "stderr",
     "output_type": "stream",
     "text": [
      "/tscc/nfs/home/hsher/miniconda3/envs/my_metadensity/lib/python3.7/site-packages/ipykernel_launcher.py:5: SettingWithCopyWarning: \n",
      "A value is trying to be set on a copy of a slice from a DataFrame.\n",
      "Try using .loc[row_indexer,col_indexer] = value instead\n",
      "\n",
      "See the caveats in the documentation: https://pandas.pydata.org/pandas-docs/stable/user_guide/indexing.html#returning-a-view-versus-a-copy\n",
      "  \"\"\"\n",
      "/tscc/nfs/home/hsher/miniconda3/envs/my_metadensity/lib/python3.7/site-packages/ipykernel_launcher.py:6: SettingWithCopyWarning: \n",
      "A value is trying to be set on a copy of a slice from a DataFrame.\n",
      "Try using .loc[row_indexer,col_indexer] = value instead\n",
      "\n",
      "See the caveats in the documentation: https://pandas.pydata.org/pandas-docs/stable/user_guide/indexing.html#returning-a-view-versus-a-copy\n",
      "  \n",
      "/tscc/nfs/home/hsher/miniconda3/envs/my_metadensity/lib/python3.7/site-packages/ipykernel_launcher.py:8: SettingWithCopyWarning: \n",
      "A value is trying to be set on a copy of a slice from a DataFrame.\n",
      "Try using .loc[row_indexer,col_indexer] = value instead\n",
      "\n",
      "See the caveats in the documentation: https://pandas.pydata.org/pandas-docs/stable/user_guide/indexing.html#returning-a-view-versus-a-copy\n",
      "  \n",
      "/tscc/nfs/home/hsher/miniconda3/envs/my_metadensity/lib/python3.7/site-packages/ipykernel_launcher.py:9: SettingWithCopyWarning: \n",
      "A value is trying to be set on a copy of a slice from a DataFrame.\n",
      "Try using .loc[row_indexer,col_indexer] = value instead\n",
      "\n",
      "See the caveats in the documentation: https://pandas.pydata.org/pandas-docs/stable/user_guide/indexing.html#returning-a-view-versus-a-copy\n",
      "  if __name__ == \"__main__\":\n"
     ]
    }
   ],
   "source": [
    "intronic = mega.loc[(mega['circ_type']=='intron')&(mega['detected_SD']), \n",
    "                   ['seqname', 'start', 'end', 'strand', 'gene_name']]\n",
    "pos = intronic.loc[intronic['strand']=='+']\n",
    "neg = intronic.loc[intronic['strand']=='-']\n",
    "neg['5prime']=neg['end']\n",
    "neg['3prime']=neg['start']\n",
    "\n",
    "pos['3prime']=pos['end']\n",
    "pos['5prime']=pos['start']\n",
    "intronic = pd.concat([pos, neg], axis = 0)"
   ]
  },
  {
   "cell_type": "code",
   "execution_count": 61,
   "id": "07a8da74-97c0-4e81-8678-f48f3cc2ec7a",
   "metadata": {
    "tags": []
   },
   "outputs": [],
   "source": [
    "intronic['len']= intronic['end']-intronic['start']"
   ]
  },
  {
   "cell_type": "code",
   "execution_count": 62,
   "id": "e22d3f16-d4e4-4352-aa40-baeee4c576a8",
   "metadata": {
    "tags": []
   },
   "outputs": [
    {
     "data": {
      "text/html": [
       "<div>\n",
       "<style scoped>\n",
       "    .dataframe tbody tr th:only-of-type {\n",
       "        vertical-align: middle;\n",
       "    }\n",
       "\n",
       "    .dataframe tbody tr th {\n",
       "        vertical-align: top;\n",
       "    }\n",
       "\n",
       "    .dataframe thead th {\n",
       "        text-align: right;\n",
       "    }\n",
       "</style>\n",
       "<table border=\"1\" class=\"dataframe\">\n",
       "  <thead>\n",
       "    <tr style=\"text-align: right;\">\n",
       "      <th></th>\n",
       "      <th>seqname</th>\n",
       "      <th>start</th>\n",
       "      <th>end</th>\n",
       "      <th>strand</th>\n",
       "      <th>gene_name</th>\n",
       "      <th>3prime</th>\n",
       "      <th>5prime</th>\n",
       "      <th>len</th>\n",
       "    </tr>\n",
       "    <tr>\n",
       "      <th>circ_id</th>\n",
       "      <th></th>\n",
       "      <th></th>\n",
       "      <th></th>\n",
       "      <th></th>\n",
       "      <th></th>\n",
       "      <th></th>\n",
       "      <th></th>\n",
       "      <th></th>\n",
       "    </tr>\n",
       "  </thead>\n",
       "  <tbody>\n",
       "    <tr>\n",
       "      <th>chr1:1008194|1009370</th>\n",
       "      <td>chr1</td>\n",
       "      <td>1008194.0</td>\n",
       "      <td>1009370.0</td>\n",
       "      <td>+</td>\n",
       "      <td>ISG15</td>\n",
       "      <td>1009370.0</td>\n",
       "      <td>1008194.0</td>\n",
       "      <td>1176.0</td>\n",
       "    </tr>\n",
       "    <tr>\n",
       "      <th>chr1:1477849|1478627</th>\n",
       "      <td>chr1</td>\n",
       "      <td>1477849.0</td>\n",
       "      <td>1478627.0</td>\n",
       "      <td>+</td>\n",
       "      <td>ATAD3B</td>\n",
       "      <td>1478627.0</td>\n",
       "      <td>1477849.0</td>\n",
       "      <td>778.0</td>\n",
       "    </tr>\n",
       "    <tr>\n",
       "      <th>chr1:1477849|1517294</th>\n",
       "      <td>chr1</td>\n",
       "      <td>1477849.0</td>\n",
       "      <td>1517294.0</td>\n",
       "      <td>+</td>\n",
       "      <td>AL645728.2,ATAD3A,ATAD3B</td>\n",
       "      <td>1517294.0</td>\n",
       "      <td>1477849.0</td>\n",
       "      <td>39445.0</td>\n",
       "    </tr>\n",
       "    <tr>\n",
       "      <th>chr1:1477982|1478627</th>\n",
       "      <td>chr1</td>\n",
       "      <td>1477982.0</td>\n",
       "      <td>1478627.0</td>\n",
       "      <td>+</td>\n",
       "      <td>ATAD3B</td>\n",
       "      <td>1478627.0</td>\n",
       "      <td>1477982.0</td>\n",
       "      <td>645.0</td>\n",
       "    </tr>\n",
       "    <tr>\n",
       "      <th>chr1:2055441|2059591</th>\n",
       "      <td>chr1</td>\n",
       "      <td>2055441.0</td>\n",
       "      <td>2059591.0</td>\n",
       "      <td>+</td>\n",
       "      <td>PRKCZ</td>\n",
       "      <td>2059591.0</td>\n",
       "      <td>2055441.0</td>\n",
       "      <td>4150.0</td>\n",
       "    </tr>\n",
       "    <tr>\n",
       "      <th>...</th>\n",
       "      <td>...</td>\n",
       "      <td>...</td>\n",
       "      <td>...</td>\n",
       "      <td>...</td>\n",
       "      <td>...</td>\n",
       "      <td>...</td>\n",
       "      <td>...</td>\n",
       "      <td>...</td>\n",
       "    </tr>\n",
       "    <tr>\n",
       "      <th>chrX:154092184|154092482</th>\n",
       "      <td>chrX</td>\n",
       "      <td>154092184.0</td>\n",
       "      <td>154092482.0</td>\n",
       "      <td>-</td>\n",
       "      <td>MECP2</td>\n",
       "      <td>154092184.0</td>\n",
       "      <td>154092482.0</td>\n",
       "      <td>298.0</td>\n",
       "    </tr>\n",
       "    <tr>\n",
       "      <th>chrX:154788027|154792285</th>\n",
       "      <td>chrX</td>\n",
       "      <td>154788027.0</td>\n",
       "      <td>154792285.0</td>\n",
       "      <td>-</td>\n",
       "      <td>MPP1</td>\n",
       "      <td>154788027.0</td>\n",
       "      <td>154792285.0</td>\n",
       "      <td>4258.0</td>\n",
       "    </tr>\n",
       "    <tr>\n",
       "      <th>chrX:155506898|155537118</th>\n",
       "      <td>chrX</td>\n",
       "      <td>155506898.0</td>\n",
       "      <td>155537118.0</td>\n",
       "      <td>-</td>\n",
       "      <td>TMLHE</td>\n",
       "      <td>155506898.0</td>\n",
       "      <td>155537118.0</td>\n",
       "      <td>30220.0</td>\n",
       "    </tr>\n",
       "    <tr>\n",
       "      <th>chrX:155506898|155548224</th>\n",
       "      <td>chrX</td>\n",
       "      <td>155506898.0</td>\n",
       "      <td>155548224.0</td>\n",
       "      <td>-</td>\n",
       "      <td>TMLHE</td>\n",
       "      <td>155506898.0</td>\n",
       "      <td>155548224.0</td>\n",
       "      <td>41326.0</td>\n",
       "    </tr>\n",
       "    <tr>\n",
       "      <th>chrX:155545096|155548224</th>\n",
       "      <td>chrX</td>\n",
       "      <td>155545096.0</td>\n",
       "      <td>155548224.0</td>\n",
       "      <td>-</td>\n",
       "      <td>TMLHE</td>\n",
       "      <td>155545096.0</td>\n",
       "      <td>155548224.0</td>\n",
       "      <td>3128.0</td>\n",
       "    </tr>\n",
       "  </tbody>\n",
       "</table>\n",
       "<p>9039 rows × 8 columns</p>\n",
       "</div>"
      ],
      "text/plain": [
       "                         seqname        start          end strand  \\\n",
       "circ_id                                                             \n",
       "chr1:1008194|1009370        chr1    1008194.0    1009370.0      +   \n",
       "chr1:1477849|1478627        chr1    1477849.0    1478627.0      +   \n",
       "chr1:1477849|1517294        chr1    1477849.0    1517294.0      +   \n",
       "chr1:1477982|1478627        chr1    1477982.0    1478627.0      +   \n",
       "chr1:2055441|2059591        chr1    2055441.0    2059591.0      +   \n",
       "...                          ...          ...          ...    ...   \n",
       "chrX:154092184|154092482    chrX  154092184.0  154092482.0      -   \n",
       "chrX:154788027|154792285    chrX  154788027.0  154792285.0      -   \n",
       "chrX:155506898|155537118    chrX  155506898.0  155537118.0      -   \n",
       "chrX:155506898|155548224    chrX  155506898.0  155548224.0      -   \n",
       "chrX:155545096|155548224    chrX  155545096.0  155548224.0      -   \n",
       "\n",
       "                                         gene_name       3prime       5prime  \\\n",
       "circ_id                                                                        \n",
       "chr1:1008194|1009370                         ISG15    1009370.0    1008194.0   \n",
       "chr1:1477849|1478627                        ATAD3B    1478627.0    1477849.0   \n",
       "chr1:1477849|1517294      AL645728.2,ATAD3A,ATAD3B    1517294.0    1477849.0   \n",
       "chr1:1477982|1478627                        ATAD3B    1478627.0    1477982.0   \n",
       "chr1:2055441|2059591                         PRKCZ    2059591.0    2055441.0   \n",
       "...                                            ...          ...          ...   \n",
       "chrX:154092184|154092482                     MECP2  154092184.0  154092482.0   \n",
       "chrX:154788027|154792285                      MPP1  154788027.0  154792285.0   \n",
       "chrX:155506898|155537118                     TMLHE  155506898.0  155537118.0   \n",
       "chrX:155506898|155548224                     TMLHE  155506898.0  155548224.0   \n",
       "chrX:155545096|155548224                     TMLHE  155545096.0  155548224.0   \n",
       "\n",
       "                              len  \n",
       "circ_id                            \n",
       "chr1:1008194|1009370       1176.0  \n",
       "chr1:1477849|1478627        778.0  \n",
       "chr1:1477849|1517294      39445.0  \n",
       "chr1:1477982|1478627        645.0  \n",
       "chr1:2055441|2059591       4150.0  \n",
       "...                           ...  \n",
       "chrX:154092184|154092482    298.0  \n",
       "chrX:154788027|154792285   4258.0  \n",
       "chrX:155506898|155537118  30220.0  \n",
       "chrX:155506898|155548224  41326.0  \n",
       "chrX:155545096|155548224   3128.0  \n",
       "\n",
       "[9039 rows x 8 columns]"
      ]
     },
     "execution_count": 62,
     "metadata": {},
     "output_type": "execute_result"
    }
   ],
   "source": [
    "intronic"
   ]
  },
  {
   "cell_type": "code",
   "execution_count": 63,
   "id": "43010d98-aa53-4afd-8c09-33503ac2be32",
   "metadata": {
    "tags": []
   },
   "outputs": [],
   "source": [
    "intronic['hit_5ss']=intronic.apply(lambda row: int(row['5prime']) in known_5ss[row['gene_name']], axis = 1)"
   ]
  },
  {
   "cell_type": "code",
   "execution_count": 64,
   "id": "f76d31c3-ebd4-43f7-a855-aa29e87b5093",
   "metadata": {
    "tags": []
   },
   "outputs": [
    {
     "data": {
      "text/plain": [
       "False    8503\n",
       "True      536\n",
       "Name: hit_5ss, dtype: int64"
      ]
     },
     "execution_count": 64,
     "metadata": {},
     "output_type": "execute_result"
    }
   ],
   "source": [
    "intronic['hit_5ss'].value_counts()"
   ]
  },
  {
   "cell_type": "code",
   "execution_count": 65,
   "id": "12aabb1a-4608-4cdb-9cad-6712f9b30ef0",
   "metadata": {
    "tags": []
   },
   "outputs": [
    {
     "data": {
      "text/plain": [
       "0.06090850927703135"
      ]
     },
     "execution_count": 65,
     "metadata": {},
     "output_type": "execute_result"
    }
   ],
   "source": [
    "476/(7339+476)"
   ]
  },
  {
   "cell_type": "code",
   "execution_count": 66,
   "id": "8fcf86d4-8987-437a-ae20-44b46464550c",
   "metadata": {
    "tags": []
   },
   "outputs": [],
   "source": [
    "def closest_upstream_5ss(row):\n",
    "    ss5_list = list(known_5ss[row['gene_name']])\n",
    "    \n",
    "    # if not ss5_list:\n",
    "    #     return np.nan\n",
    "    \n",
    "    if row['strand']=='+':\n",
    "        \n",
    "        dist = [row['5prime']-s for s in ss5_list if row['5prime']-s >= 0]\n",
    "        try:\n",
    "            return min(dist)\n",
    "        except:\n",
    "            return np.nan\n",
    "    else:\n",
    "        dist = [row['5prime']-s for s in ss5_list if row['5prime']-s <= 0]\n",
    "        try:\n",
    "            return -max(dist)\n",
    "        except:\n",
    "            return np.nan"
   ]
  },
  {
   "cell_type": "code",
   "execution_count": 67,
   "id": "fabd2359-5d4f-475f-8729-7d15b05e0103",
   "metadata": {
    "tags": []
   },
   "outputs": [],
   "source": [
    "def closest_downstream_3ss(row):\n",
    "    ss3_list = list(known_3ss[row['gene_name']])\n",
    "    \n",
    "    # if not ss5_list:\n",
    "    #     return np.nan\n",
    "    \n",
    "    if row['strand']=='+':\n",
    "        \n",
    "        dist = [row['3prime']-s for s in ss3_list if row['3prime']-s <= 0]\n",
    "        try:\n",
    "            return -max(dist)\n",
    "        except:\n",
    "            return np.nan\n",
    "    else:\n",
    "        dist = [row['3prime']-s for s in ss3_list if row['3prime']-s >= 0]\n",
    "        try:\n",
    "            return min(dist)\n",
    "        except:\n",
    "            return np.nan"
   ]
  },
  {
   "cell_type": "code",
   "execution_count": 68,
   "id": "77739e97-1996-43e7-ba5d-5f12593953ec",
   "metadata": {
    "tags": []
   },
   "outputs": [],
   "source": [
    "intronic['distance_to_closest_upstream_5ss']=intronic.apply(lambda row: closest_upstream_5ss(row), axis = 1)"
   ]
  },
  {
   "cell_type": "code",
   "execution_count": 69,
   "id": "7f800bb9-2a51-472f-8865-a0f06c614b58",
   "metadata": {
    "tags": []
   },
   "outputs": [
    {
     "data": {
      "text/plain": [
       "<AxesSubplot:>"
      ]
     },
     "execution_count": 69,
     "metadata": {},
     "output_type": "execute_result"
    },
    {
     "data": {
      "image/png": "[encoded data removed]",
      "text/plain": [
       "<Figure size 432x288 with 1 Axes>"
      ]
     },
     "metadata": {},
     "output_type": "display_data"
    }
   ],
   "source": [
    "intronic['distance_to_closest_upstream_5ss'].hist()"
   ]
  },
  {
   "cell_type": "code",
   "execution_count": 70,
   "id": "d726755a-5548-408a-b0e1-5942ae764567",
   "metadata": {
    "tags": []
   },
   "outputs": [],
   "source": [
    "intronic['distance_to_closest_downstream_3ss']=intronic.apply(lambda row: closest_downstream_3ss(row), axis = 1)"
   ]
  },
  {
   "cell_type": "code",
   "execution_count": 71,
   "id": "6f7062b7-78dd-490e-9c17-2b1318d042a2",
   "metadata": {
    "tags": []
   },
   "outputs": [
    {
     "data": {
      "text/plain": [
       "Text(0, 0.5, '# intronic circle')"
      ]
     },
     "execution_count": 71,
     "metadata": {},
     "output_type": "execute_result"
    },
    {
     "data": {
      "image/png": "[encoded data removed]",
      "text/plain": [
       "<Figure size 432x288 with 1 Axes>"
      ]
     },
     "metadata": {},
     "output_type": "display_data"
    }
   ],
   "source": [
    "intronic.loc[intronic['hit_5ss'], 'distance_to_closest_downstream_3ss'].hist(range = (0,100),\n",
    "                                                                            bins = 50)\n",
    "plt.xlabel('distance_to_closest_downstream_3ss')\n",
    "plt.ylabel('# intronic circle')"
   ]
  },
  {
   "cell_type": "code",
   "execution_count": 72,
   "id": "e0337ea2-4413-448e-bfb3-8acdca3627fc",
   "metadata": {
    "tags": []
   },
   "outputs": [
    {
     "data": {
      "text/html": [
       "<div>\n",
       "<style scoped>\n",
       "    .dataframe tbody tr th:only-of-type {\n",
       "        vertical-align: middle;\n",
       "    }\n",
       "\n",
       "    .dataframe tbody tr th {\n",
       "        vertical-align: top;\n",
       "    }\n",
       "\n",
       "    .dataframe thead th {\n",
       "        text-align: right;\n",
       "    }\n",
       "</style>\n",
       "<table border=\"1\" class=\"dataframe\">\n",
       "  <thead>\n",
       "    <tr style=\"text-align: right;\">\n",
       "      <th></th>\n",
       "      <th>seqname</th>\n",
       "      <th>start</th>\n",
       "      <th>end</th>\n",
       "      <th>strand</th>\n",
       "      <th>gene_name</th>\n",
       "      <th>3prime</th>\n",
       "      <th>5prime</th>\n",
       "      <th>len</th>\n",
       "      <th>hit_5ss</th>\n",
       "      <th>distance_to_closest_upstream_5ss</th>\n",
       "      <th>distance_to_closest_downstream_3ss</th>\n",
       "    </tr>\n",
       "    <tr>\n",
       "      <th>circ_id</th>\n",
       "      <th></th>\n",
       "      <th></th>\n",
       "      <th></th>\n",
       "      <th></th>\n",
       "      <th></th>\n",
       "      <th></th>\n",
       "      <th></th>\n",
       "      <th></th>\n",
       "      <th></th>\n",
       "      <th></th>\n",
       "      <th></th>\n",
       "    </tr>\n",
       "  </thead>\n",
       "  <tbody>\n",
       "  </tbody>\n",
       "</table>\n",
       "</div>"
      ],
      "text/plain": [
       "Empty DataFrame\n",
       "Columns: [seqname, start, end, strand, gene_name, 3prime, 5prime, len, hit_5ss, distance_to_closest_upstream_5ss, distance_to_closest_downstream_3ss]\n",
       "Index: []"
      ]
     },
     "execution_count": 72,
     "metadata": {},
     "output_type": "execute_result"
    }
   ],
   "source": [
    "intronic.loc[intronic['distance_to_closest_downstream_3ss']<0]"
   ]
  },
  {
   "cell_type": "code",
   "execution_count": 73,
   "id": "80ad5d52-0ccb-4209-9c94-1ef99c4ae9a1",
   "metadata": {
    "tags": []
   },
   "outputs": [
    {
     "data": {
      "text/html": [
       "<div>\n",
       "<style scoped>\n",
       "    .dataframe tbody tr th:only-of-type {\n",
       "        vertical-align: middle;\n",
       "    }\n",
       "\n",
       "    .dataframe tbody tr th {\n",
       "        vertical-align: top;\n",
       "    }\n",
       "\n",
       "    .dataframe thead th {\n",
       "        text-align: right;\n",
       "    }\n",
       "</style>\n",
       "<table border=\"1\" class=\"dataframe\">\n",
       "  <thead>\n",
       "    <tr style=\"text-align: right;\">\n",
       "      <th></th>\n",
       "      <th>seqname</th>\n",
       "      <th>start</th>\n",
       "      <th>end</th>\n",
       "      <th>strand</th>\n",
       "      <th>gene_name</th>\n",
       "      <th>3prime</th>\n",
       "      <th>5prime</th>\n",
       "      <th>len</th>\n",
       "      <th>hit_5ss</th>\n",
       "      <th>distance_to_closest_upstream_5ss</th>\n",
       "      <th>distance_to_closest_downstream_3ss</th>\n",
       "    </tr>\n",
       "    <tr>\n",
       "      <th>circ_id</th>\n",
       "      <th></th>\n",
       "      <th></th>\n",
       "      <th></th>\n",
       "      <th></th>\n",
       "      <th></th>\n",
       "      <th></th>\n",
       "      <th></th>\n",
       "      <th></th>\n",
       "      <th></th>\n",
       "      <th></th>\n",
       "      <th></th>\n",
       "    </tr>\n",
       "  </thead>\n",
       "  <tbody>\n",
       "    <tr>\n",
       "      <th>chr6:135038032|135042126</th>\n",
       "      <td>chr6</td>\n",
       "      <td>135038032.0</td>\n",
       "      <td>135042126.0</td>\n",
       "      <td>-</td>\n",
       "      <td>HBS1L</td>\n",
       "      <td>135038032.0</td>\n",
       "      <td>135042126.0</td>\n",
       "      <td>4094.0</td>\n",
       "      <td>False</td>\n",
       "      <td>8455.0</td>\n",
       "      <td>0.0</td>\n",
       "    </tr>\n",
       "    <tr>\n",
       "      <th>chr6:135038032|135050647</th>\n",
       "      <td>chr6</td>\n",
       "      <td>135038032.0</td>\n",
       "      <td>135050647.0</td>\n",
       "      <td>-</td>\n",
       "      <td>HBS1L</td>\n",
       "      <td>135038032.0</td>\n",
       "      <td>135050647.0</td>\n",
       "      <td>12615.0</td>\n",
       "      <td>False</td>\n",
       "      <td>4001.0</td>\n",
       "      <td>0.0</td>\n",
       "    </tr>\n",
       "  </tbody>\n",
       "</table>\n",
       "</div>"
      ],
      "text/plain": [
       "                         seqname        start          end strand gene_name  \\\n",
       "circ_id                                                                       \n",
       "chr6:135038032|135042126    chr6  135038032.0  135042126.0      -     HBS1L   \n",
       "chr6:135038032|135050647    chr6  135038032.0  135050647.0      -     HBS1L   \n",
       "\n",
       "                               3prime       5prime      len  hit_5ss  \\\n",
       "circ_id                                                                \n",
       "chr6:135038032|135042126  135038032.0  135042126.0   4094.0    False   \n",
       "chr6:135038032|135050647  135038032.0  135050647.0  12615.0    False   \n",
       "\n",
       "                          distance_to_closest_upstream_5ss  \\\n",
       "circ_id                                                      \n",
       "chr6:135038032|135042126                            8455.0   \n",
       "chr6:135038032|135050647                            4001.0   \n",
       "\n",
       "                          distance_to_closest_downstream_3ss  \n",
       "circ_id                                                       \n",
       "chr6:135038032|135042126                                 0.0  \n",
       "chr6:135038032|135050647                                 0.0  "
      ]
     },
     "execution_count": 73,
     "metadata": {},
     "output_type": "execute_result"
    }
   ],
   "source": [
    "intronic.loc[intronic['distance_to_closest_downstream_3ss']==0]"
   ]
  },
  {
   "cell_type": "code",
   "execution_count": 74,
   "id": "eb1bee3f-d499-4563-b17b-b76c30f15ee7",
   "metadata": {
    "tags": []
   },
   "outputs": [],
   "source": [
    "lariat=intronic.loc[intronic['hit_5ss']]"
   ]
  },
  {
   "cell_type": "code",
   "execution_count": 75,
   "id": "03a0be92-8679-44b1-a7f7-b707bc7c0cb0",
   "metadata": {
    "tags": []
   },
   "outputs": [
    {
     "data": {
      "text/plain": [
       "(0,)"
      ]
     },
     "execution_count": 75,
     "metadata": {},
     "output_type": "execute_result"
    }
   ],
   "source": [
    "mega.loc[lariat.index]['detected_arr'].sum(),\n",
    "mega.loc[lariat.index]['detected_arr'].sum(),"
   ]
  },
  {
   "cell_type": "code",
   "execution_count": 76,
   "id": "9e9c1efc-734f-4917-946d-f9bf19c2882b",
   "metadata": {
    "tags": []
   },
   "outputs": [
    {
     "data": {
      "text/plain": [
       "(536, 11)"
      ]
     },
     "execution_count": 76,
     "metadata": {},
     "output_type": "execute_result"
    }
   ],
   "source": [
    "lariat.shape"
   ]
  },
  {
   "cell_type": "code",
   "execution_count": 77,
   "id": "4247309a-342f-4e61-9ca9-feb8bd988044",
   "metadata": {
    "tags": []
   },
   "outputs": [
    {
     "data": {
      "text/plain": [
       "Text(0, 0.5, '# intronic circle')"
      ]
     },
     "execution_count": 77,
     "metadata": {},
     "output_type": "execute_result"
    },
    {
     "data": {
      "image/png": "[encoded data removed]",
      "text/plain": [
       "<Figure size 432x288 with 1 Axes>"
      ]
     },
     "metadata": {},
     "output_type": "display_data"
    }
   ],
   "source": [
    "intronic.loc[~intronic['hit_5ss'], 'distance_to_closest_downstream_3ss'].hist(range = (0,5000),\n",
    "                                                                            bins = 50)\n",
    "plt.xlabel('distance_to_closest_downstream_3ss')\n",
    "plt.ylabel('# intronic circle')"
   ]
  },
  {
   "cell_type": "code",
   "execution_count": 78,
   "id": "75383913-fb48-42ea-ba66-325e5f8d7a25",
   "metadata": {
    "tags": []
   },
   "outputs": [
    {
     "data": {
      "text/plain": [
       "Text(0, 0.5, '# intronic circle')"
      ]
     },
     "execution_count": 78,
     "metadata": {},
     "output_type": "execute_result"
    },
    {
     "data": {
      "image/png": "[encoded data removed]",
      "text/plain": [
       "<Figure size 432x288 with 1 Axes>"
      ]
     },
     "metadata": {},
     "output_type": "display_data"
    }
   ],
   "source": [
    "intronic.loc[~intronic['hit_5ss'], 'distance_to_closest_upstream_5ss'].hist(range = (0,10000),\n",
    "                                                                            bins = 50)\n",
    "plt.xlabel('distance_to_closest_upstream_5ss')\n",
    "plt.ylabel('# intronic circle')"
   ]
  },
  {
   "cell_type": "code",
   "execution_count": 79,
   "id": "4b4f108d-5417-42cf-8108-20ec377b6c1f",
   "metadata": {
    "tags": []
   },
   "outputs": [
    {
     "data": {
      "text/html": [
       "<div>\n",
       "<style scoped>\n",
       "    .dataframe tbody tr th:only-of-type {\n",
       "        vertical-align: middle;\n",
       "    }\n",
       "\n",
       "    .dataframe tbody tr th {\n",
       "        vertical-align: top;\n",
       "    }\n",
       "\n",
       "    .dataframe thead th {\n",
       "        text-align: right;\n",
       "    }\n",
       "</style>\n",
       "<table border=\"1\" class=\"dataframe\">\n",
       "  <thead>\n",
       "    <tr style=\"text-align: right;\">\n",
       "      <th></th>\n",
       "      <th>seqname</th>\n",
       "      <th>start</th>\n",
       "      <th>end</th>\n",
       "      <th>strand</th>\n",
       "      <th>gene_name</th>\n",
       "      <th>3prime</th>\n",
       "      <th>5prime</th>\n",
       "      <th>len</th>\n",
       "      <th>hit_5ss</th>\n",
       "      <th>distance_to_closest_upstream_5ss</th>\n",
       "      <th>distance_to_closest_downstream_3ss</th>\n",
       "    </tr>\n",
       "    <tr>\n",
       "      <th>circ_id</th>\n",
       "      <th></th>\n",
       "      <th></th>\n",
       "      <th></th>\n",
       "      <th></th>\n",
       "      <th></th>\n",
       "      <th></th>\n",
       "      <th></th>\n",
       "      <th></th>\n",
       "      <th></th>\n",
       "      <th></th>\n",
       "      <th></th>\n",
       "    </tr>\n",
       "  </thead>\n",
       "  <tbody>\n",
       "    <tr>\n",
       "      <th>chr1:1477849|1478627</th>\n",
       "      <td>chr1</td>\n",
       "      <td>1477849.0</td>\n",
       "      <td>1478627.0</td>\n",
       "      <td>+</td>\n",
       "      <td>ATAD3B</td>\n",
       "      <td>1478627.0</td>\n",
       "      <td>1477849.0</td>\n",
       "      <td>778.0</td>\n",
       "      <td>False</td>\n",
       "      <td>498.0</td>\n",
       "      <td>16.0</td>\n",
       "    </tr>\n",
       "    <tr>\n",
       "      <th>chr1:1477982|1478627</th>\n",
       "      <td>chr1</td>\n",
       "      <td>1477982.0</td>\n",
       "      <td>1478627.0</td>\n",
       "      <td>+</td>\n",
       "      <td>ATAD3B</td>\n",
       "      <td>1478627.0</td>\n",
       "      <td>1477982.0</td>\n",
       "      <td>645.0</td>\n",
       "      <td>False</td>\n",
       "      <td>631.0</td>\n",
       "      <td>16.0</td>\n",
       "    </tr>\n",
       "    <tr>\n",
       "      <th>chr1:12303877|12304483</th>\n",
       "      <td>chr1</td>\n",
       "      <td>12303877.0</td>\n",
       "      <td>12304483.0</td>\n",
       "      <td>+</td>\n",
       "      <td>VPS13D</td>\n",
       "      <td>12304483.0</td>\n",
       "      <td>12303877.0</td>\n",
       "      <td>606.0</td>\n",
       "      <td>False</td>\n",
       "      <td>4492.0</td>\n",
       "      <td>22.0</td>\n",
       "    </tr>\n",
       "    <tr>\n",
       "      <th>chr1:119146359|119150746</th>\n",
       "      <td>chr1</td>\n",
       "      <td>119146359.0</td>\n",
       "      <td>119150746.0</td>\n",
       "      <td>+</td>\n",
       "      <td>WARS2-AS1</td>\n",
       "      <td>119150746.0</td>\n",
       "      <td>119146359.0</td>\n",
       "      <td>4387.0</td>\n",
       "      <td>False</td>\n",
       "      <td>4545.0</td>\n",
       "      <td>46.0</td>\n",
       "    </tr>\n",
       "    <tr>\n",
       "      <th>chr1:154251041|154257301</th>\n",
       "      <td>chr1</td>\n",
       "      <td>154251041.0</td>\n",
       "      <td>154257301.0</td>\n",
       "      <td>+</td>\n",
       "      <td>UBAP2L</td>\n",
       "      <td>154257301.0</td>\n",
       "      <td>154251041.0</td>\n",
       "      <td>6260.0</td>\n",
       "      <td>False</td>\n",
       "      <td>1603.0</td>\n",
       "      <td>44.0</td>\n",
       "    </tr>\n",
       "    <tr>\n",
       "      <th>chr1:160353502|160354093</th>\n",
       "      <td>chr1</td>\n",
       "      <td>160353502.0</td>\n",
       "      <td>160354093.0</td>\n",
       "      <td>+</td>\n",
       "      <td>NCSTN</td>\n",
       "      <td>160354093.0</td>\n",
       "      <td>160353502.0</td>\n",
       "      <td>591.0</td>\n",
       "      <td>False</td>\n",
       "      <td>264.0</td>\n",
       "      <td>24.0</td>\n",
       "    </tr>\n",
       "    <tr>\n",
       "      <th>chr1:212071277|212072074</th>\n",
       "      <td>chr1</td>\n",
       "      <td>212071277.0</td>\n",
       "      <td>212072074.0</td>\n",
       "      <td>+</td>\n",
       "      <td>DTL</td>\n",
       "      <td>212072074.0</td>\n",
       "      <td>212071277.0</td>\n",
       "      <td>797.0</td>\n",
       "      <td>False</td>\n",
       "      <td>2573.0</td>\n",
       "      <td>26.0</td>\n",
       "    </tr>\n",
       "    <tr>\n",
       "      <th>chr3:18027397|18041541</th>\n",
       "      <td>chr3</td>\n",
       "      <td>18027397.0</td>\n",
       "      <td>18041541.0</td>\n",
       "      <td>+</td>\n",
       "      <td>AC132807.2</td>\n",
       "      <td>18041541.0</td>\n",
       "      <td>18027397.0</td>\n",
       "      <td>14144.0</td>\n",
       "      <td>False</td>\n",
       "      <td>10685.0</td>\n",
       "      <td>46.0</td>\n",
       "    </tr>\n",
       "    <tr>\n",
       "      <th>chr3:39390497|39391396</th>\n",
       "      <td>chr3</td>\n",
       "      <td>39390497.0</td>\n",
       "      <td>39391396.0</td>\n",
       "      <td>+</td>\n",
       "      <td>SLC25A38</td>\n",
       "      <td>39391396.0</td>\n",
       "      <td>39390497.0</td>\n",
       "      <td>899.0</td>\n",
       "      <td>False</td>\n",
       "      <td>880.0</td>\n",
       "      <td>44.0</td>\n",
       "    </tr>\n",
       "    <tr>\n",
       "      <th>chr4:141222366|141226717</th>\n",
       "      <td>chr4</td>\n",
       "      <td>141222366.0</td>\n",
       "      <td>141226717.0</td>\n",
       "      <td>+</td>\n",
       "      <td>ZNF330</td>\n",
       "      <td>141226717.0</td>\n",
       "      <td>141222366.0</td>\n",
       "      <td>4351.0</td>\n",
       "      <td>False</td>\n",
       "      <td>1257.0</td>\n",
       "      <td>49.0</td>\n",
       "    </tr>\n",
       "    <tr>\n",
       "      <th>chr4:141224487|141226717</th>\n",
       "      <td>chr4</td>\n",
       "      <td>141224487.0</td>\n",
       "      <td>141226717.0</td>\n",
       "      <td>+</td>\n",
       "      <td>ZNF330</td>\n",
       "      <td>141226717.0</td>\n",
       "      <td>141224487.0</td>\n",
       "      <td>2230.0</td>\n",
       "      <td>False</td>\n",
       "      <td>1995.0</td>\n",
       "      <td>49.0</td>\n",
       "    </tr>\n",
       "    <tr>\n",
       "      <th>chr6:37474642|37475298</th>\n",
       "      <td>chr6</td>\n",
       "      <td>37474642.0</td>\n",
       "      <td>37475298.0</td>\n",
       "      <td>+</td>\n",
       "      <td>CMTR1</td>\n",
       "      <td>37475298.0</td>\n",
       "      <td>37474642.0</td>\n",
       "      <td>656.0</td>\n",
       "      <td>False</td>\n",
       "      <td>1040.0</td>\n",
       "      <td>22.0</td>\n",
       "    </tr>\n",
       "    <tr>\n",
       "      <th>chr6:44233008|44233388</th>\n",
       "      <td>chr6</td>\n",
       "      <td>44233008.0</td>\n",
       "      <td>44233388.0</td>\n",
       "      <td>+</td>\n",
       "      <td>SLC29A1</td>\n",
       "      <td>44233388.0</td>\n",
       "      <td>44233008.0</td>\n",
       "      <td>380.0</td>\n",
       "      <td>False</td>\n",
       "      <td>1.0</td>\n",
       "      <td>28.0</td>\n",
       "    </tr>\n",
       "    <tr>\n",
       "      <th>chr6:110999133|110999662</th>\n",
       "      <td>chr6</td>\n",
       "      <td>110999133.0</td>\n",
       "      <td>110999662.0</td>\n",
       "      <td>+</td>\n",
       "      <td>RPF2</td>\n",
       "      <td>110999662.0</td>\n",
       "      <td>110999133.0</td>\n",
       "      <td>529.0</td>\n",
       "      <td>False</td>\n",
       "      <td>1868.0</td>\n",
       "      <td>48.0</td>\n",
       "    </tr>\n",
       "    <tr>\n",
       "      <th>chr6:126014804|126021123</th>\n",
       "      <td>chr6</td>\n",
       "      <td>126014804.0</td>\n",
       "      <td>126021123.0</td>\n",
       "      <td>+</td>\n",
       "      <td>TRMT11</td>\n",
       "      <td>126021123.0</td>\n",
       "      <td>126014804.0</td>\n",
       "      <td>6319.0</td>\n",
       "      <td>False</td>\n",
       "      <td>1702.0</td>\n",
       "      <td>36.0</td>\n",
       "    </tr>\n",
       "    <tr>\n",
       "      <th>chr7:44800544|44801264</th>\n",
       "      <td>chr7</td>\n",
       "      <td>44800544.0</td>\n",
       "      <td>44801264.0</td>\n",
       "      <td>+</td>\n",
       "      <td>PPIA</td>\n",
       "      <td>44801264.0</td>\n",
       "      <td>44800544.0</td>\n",
       "      <td>720.0</td>\n",
       "      <td>False</td>\n",
       "      <td>532.0</td>\n",
       "      <td>22.0</td>\n",
       "    </tr>\n",
       "    <tr>\n",
       "      <th>chr7:56051984|56052387</th>\n",
       "      <td>chr7</td>\n",
       "      <td>56051984.0</td>\n",
       "      <td>56052387.0</td>\n",
       "      <td>+</td>\n",
       "      <td>CCT6A</td>\n",
       "      <td>56052387.0</td>\n",
       "      <td>56051984.0</td>\n",
       "      <td>403.0</td>\n",
       "      <td>False</td>\n",
       "      <td>NaN</td>\n",
       "      <td>34.0</td>\n",
       "    </tr>\n",
       "    <tr>\n",
       "      <th>chr7:56051984|56052393</th>\n",
       "      <td>chr7</td>\n",
       "      <td>56051984.0</td>\n",
       "      <td>56052393.0</td>\n",
       "      <td>+</td>\n",
       "      <td>CCT6A</td>\n",
       "      <td>56052393.0</td>\n",
       "      <td>56051984.0</td>\n",
       "      <td>409.0</td>\n",
       "      <td>False</td>\n",
       "      <td>NaN</td>\n",
       "      <td>28.0</td>\n",
       "    </tr>\n",
       "    <tr>\n",
       "      <th>chr11:65109789|65110461</th>\n",
       "      <td>chr11</td>\n",
       "      <td>65109789.0</td>\n",
       "      <td>65110461.0</td>\n",
       "      <td>+</td>\n",
       "      <td>VPS51</td>\n",
       "      <td>65110461.0</td>\n",
       "      <td>65109789.0</td>\n",
       "      <td>672.0</td>\n",
       "      <td>False</td>\n",
       "      <td>293.0</td>\n",
       "      <td>20.0</td>\n",
       "    </tr>\n",
       "    <tr>\n",
       "      <th>chr11:86256387|86277874</th>\n",
       "      <td>chr11</td>\n",
       "      <td>86256387.0</td>\n",
       "      <td>86277874.0</td>\n",
       "      <td>+</td>\n",
       "      <td>EED</td>\n",
       "      <td>86277874.0</td>\n",
       "      <td>86256387.0</td>\n",
       "      <td>21487.0</td>\n",
       "      <td>False</td>\n",
       "      <td>1099.0</td>\n",
       "      <td>43.0</td>\n",
       "    </tr>\n",
       "    <tr>\n",
       "      <th>chr12:31089486|31089838</th>\n",
       "      <td>chr12</td>\n",
       "      <td>31089486.0</td>\n",
       "      <td>31089838.0</td>\n",
       "      <td>+</td>\n",
       "      <td>DDX11</td>\n",
       "      <td>31089838.0</td>\n",
       "      <td>31089486.0</td>\n",
       "      <td>352.0</td>\n",
       "      <td>False</td>\n",
       "      <td>334.0</td>\n",
       "      <td>47.0</td>\n",
       "    </tr>\n",
       "    <tr>\n",
       "      <th>chr12:53289558|53290060</th>\n",
       "      <td>chr12</td>\n",
       "      <td>53289558.0</td>\n",
       "      <td>53290060.0</td>\n",
       "      <td>+</td>\n",
       "      <td>ESPL1</td>\n",
       "      <td>53290060.0</td>\n",
       "      <td>53289558.0</td>\n",
       "      <td>502.0</td>\n",
       "      <td>False</td>\n",
       "      <td>254.0</td>\n",
       "      <td>24.0</td>\n",
       "    </tr>\n",
       "    <tr>\n",
       "      <th>chr12:95298944|95300127</th>\n",
       "      <td>chr12</td>\n",
       "      <td>95298944.0</td>\n",
       "      <td>95300127.0</td>\n",
       "      <td>+</td>\n",
       "      <td>VEZT</td>\n",
       "      <td>95300127.0</td>\n",
       "      <td>95298944.0</td>\n",
       "      <td>1183.0</td>\n",
       "      <td>False</td>\n",
       "      <td>2685.0</td>\n",
       "      <td>37.0</td>\n",
       "    </tr>\n",
       "    <tr>\n",
       "      <th>chr12:119671669|119672280</th>\n",
       "      <td>chr12</td>\n",
       "      <td>119671669.0</td>\n",
       "      <td>119672280.0</td>\n",
       "      <td>+</td>\n",
       "      <td>PRKAB1</td>\n",
       "      <td>119672280.0</td>\n",
       "      <td>119671669.0</td>\n",
       "      <td>611.0</td>\n",
       "      <td>False</td>\n",
       "      <td>156.0</td>\n",
       "      <td>20.0</td>\n",
       "    </tr>\n",
       "    <tr>\n",
       "      <th>chr14:92131131|92133983</th>\n",
       "      <td>chr14</td>\n",
       "      <td>92131131.0</td>\n",
       "      <td>92133983.0</td>\n",
       "      <td>+</td>\n",
       "      <td>CPSF2</td>\n",
       "      <td>92133983.0</td>\n",
       "      <td>92131131.0</td>\n",
       "      <td>2852.0</td>\n",
       "      <td>False</td>\n",
       "      <td>4950.0</td>\n",
       "      <td>27.0</td>\n",
       "    </tr>\n",
       "    <tr>\n",
       "      <th>chr16:31183490|31183821</th>\n",
       "      <td>chr16</td>\n",
       "      <td>31183490.0</td>\n",
       "      <td>31183821.0</td>\n",
       "      <td>+</td>\n",
       "      <td>FUS</td>\n",
       "      <td>31183821.0</td>\n",
       "      <td>31183490.0</td>\n",
       "      <td>331.0</td>\n",
       "      <td>False</td>\n",
       "      <td>825.0</td>\n",
       "      <td>36.0</td>\n",
       "    </tr>\n",
       "    <tr>\n",
       "      <th>chr16:89874799|89883310</th>\n",
       "      <td>chr16</td>\n",
       "      <td>89874799.0</td>\n",
       "      <td>89883310.0</td>\n",
       "      <td>+</td>\n",
       "      <td>TCF25</td>\n",
       "      <td>89883310.0</td>\n",
       "      <td>89874799.0</td>\n",
       "      <td>8511.0</td>\n",
       "      <td>False</td>\n",
       "      <td>939.0</td>\n",
       "      <td>40.0</td>\n",
       "    </tr>\n",
       "    <tr>\n",
       "      <th>chr16:89878461|89883310</th>\n",
       "      <td>chr16</td>\n",
       "      <td>89878461.0</td>\n",
       "      <td>89883310.0</td>\n",
       "      <td>+</td>\n",
       "      <td>TCF25</td>\n",
       "      <td>89883310.0</td>\n",
       "      <td>89878461.0</td>\n",
       "      <td>4849.0</td>\n",
       "      <td>False</td>\n",
       "      <td>4601.0</td>\n",
       "      <td>40.0</td>\n",
       "    </tr>\n",
       "    <tr>\n",
       "      <th>chr17:19655388|19656342</th>\n",
       "      <td>chr17</td>\n",
       "      <td>19655388.0</td>\n",
       "      <td>19656342.0</td>\n",
       "      <td>+</td>\n",
       "      <td>ALDH3A2</td>\n",
       "      <td>19656342.0</td>\n",
       "      <td>19655388.0</td>\n",
       "      <td>954.0</td>\n",
       "      <td>False</td>\n",
       "      <td>29.0</td>\n",
       "      <td>23.0</td>\n",
       "    </tr>\n",
       "    <tr>\n",
       "      <th>chr17:28673619|28674250</th>\n",
       "      <td>chr17</td>\n",
       "      <td>28673619.0</td>\n",
       "      <td>28674250.0</td>\n",
       "      <td>+</td>\n",
       "      <td>SUPT6H</td>\n",
       "      <td>28674250.0</td>\n",
       "      <td>28673619.0</td>\n",
       "      <td>631.0</td>\n",
       "      <td>False</td>\n",
       "      <td>108.0</td>\n",
       "      <td>32.0</td>\n",
       "    </tr>\n",
       "    <tr>\n",
       "      <th>chr22:37958472|37959314</th>\n",
       "      <td>chr22</td>\n",
       "      <td>37958472.0</td>\n",
       "      <td>37959314.0</td>\n",
       "      <td>+</td>\n",
       "      <td>POLR2F</td>\n",
       "      <td>37959314.0</td>\n",
       "      <td>37958472.0</td>\n",
       "      <td>842.0</td>\n",
       "      <td>False</td>\n",
       "      <td>1570.0</td>\n",
       "      <td>31.0</td>\n",
       "    </tr>\n",
       "    <tr>\n",
       "      <th>chr3:197140293|197140872</th>\n",
       "      <td>chr3</td>\n",
       "      <td>197140293.0</td>\n",
       "      <td>197140872.0</td>\n",
       "      <td>-</td>\n",
       "      <td>DLG1</td>\n",
       "      <td>197140293.0</td>\n",
       "      <td>197140872.0</td>\n",
       "      <td>579.0</td>\n",
       "      <td>False</td>\n",
       "      <td>1845.0</td>\n",
       "      <td>28.0</td>\n",
       "    </tr>\n",
       "    <tr>\n",
       "      <th>chr5:133980999|133993018</th>\n",
       "      <td>chr5</td>\n",
       "      <td>133980999.0</td>\n",
       "      <td>133993018.0</td>\n",
       "      <td>-</td>\n",
       "      <td>VDAC1</td>\n",
       "      <td>133980999.0</td>\n",
       "      <td>133993018.0</td>\n",
       "      <td>12019.0</td>\n",
       "      <td>False</td>\n",
       "      <td>11628.0</td>\n",
       "      <td>42.0</td>\n",
       "    </tr>\n",
       "    <tr>\n",
       "      <th>chr5:176352779|176353354</th>\n",
       "      <td>chr5</td>\n",
       "      <td>176352779.0</td>\n",
       "      <td>176353354.0</td>\n",
       "      <td>-</td>\n",
       "      <td>KIAA1191</td>\n",
       "      <td>176352779.0</td>\n",
       "      <td>176353354.0</td>\n",
       "      <td>575.0</td>\n",
       "      <td>False</td>\n",
       "      <td>2216.0</td>\n",
       "      <td>30.0</td>\n",
       "    </tr>\n",
       "    <tr>\n",
       "      <th>chr6:132471628|132472331</th>\n",
       "      <td>chr6</td>\n",
       "      <td>132471628.0</td>\n",
       "      <td>132472331.0</td>\n",
       "      <td>-</td>\n",
       "      <td>STX7</td>\n",
       "      <td>132471628.0</td>\n",
       "      <td>132472331.0</td>\n",
       "      <td>703.0</td>\n",
       "      <td>False</td>\n",
       "      <td>3261.0</td>\n",
       "      <td>27.0</td>\n",
       "    </tr>\n",
       "    <tr>\n",
       "      <th>chr6:135038032|135042126</th>\n",
       "      <td>chr6</td>\n",
       "      <td>135038032.0</td>\n",
       "      <td>135042126.0</td>\n",
       "      <td>-</td>\n",
       "      <td>HBS1L</td>\n",
       "      <td>135038032.0</td>\n",
       "      <td>135042126.0</td>\n",
       "      <td>4094.0</td>\n",
       "      <td>False</td>\n",
       "      <td>8455.0</td>\n",
       "      <td>0.0</td>\n",
       "    </tr>\n",
       "    <tr>\n",
       "      <th>chr6:135038032|135050647</th>\n",
       "      <td>chr6</td>\n",
       "      <td>135038032.0</td>\n",
       "      <td>135050647.0</td>\n",
       "      <td>-</td>\n",
       "      <td>HBS1L</td>\n",
       "      <td>135038032.0</td>\n",
       "      <td>135050647.0</td>\n",
       "      <td>12615.0</td>\n",
       "      <td>False</td>\n",
       "      <td>4001.0</td>\n",
       "      <td>0.0</td>\n",
       "    </tr>\n",
       "    <tr>\n",
       "      <th>chr7:111808904|111809299</th>\n",
       "      <td>chr7</td>\n",
       "      <td>111808904.0</td>\n",
       "      <td>111809299.0</td>\n",
       "      <td>-</td>\n",
       "      <td>DOCK4</td>\n",
       "      <td>111808904.0</td>\n",
       "      <td>111809299.0</td>\n",
       "      <td>395.0</td>\n",
       "      <td>False</td>\n",
       "      <td>1.0</td>\n",
       "      <td>24.0</td>\n",
       "    </tr>\n",
       "    <tr>\n",
       "      <th>chr8:102257748|102258315</th>\n",
       "      <td>chr8</td>\n",
       "      <td>102257748.0</td>\n",
       "      <td>102258315.0</td>\n",
       "      <td>-</td>\n",
       "      <td>UBR5</td>\n",
       "      <td>102257748.0</td>\n",
       "      <td>102258315.0</td>\n",
       "      <td>567.0</td>\n",
       "      <td>False</td>\n",
       "      <td>669.0</td>\n",
       "      <td>30.0</td>\n",
       "    </tr>\n",
       "    <tr>\n",
       "      <th>chr11:116783657|116784857</th>\n",
       "      <td>chr11</td>\n",
       "      <td>116783657.0</td>\n",
       "      <td>116784857.0</td>\n",
       "      <td>-</td>\n",
       "      <td>ZPR1</td>\n",
       "      <td>116783657.0</td>\n",
       "      <td>116784857.0</td>\n",
       "      <td>1200.0</td>\n",
       "      <td>False</td>\n",
       "      <td>241.0</td>\n",
       "      <td>37.0</td>\n",
       "    </tr>\n",
       "    <tr>\n",
       "      <th>chr13:41226599|41226999</th>\n",
       "      <td>chr13</td>\n",
       "      <td>41226599.0</td>\n",
       "      <td>41226999.0</td>\n",
       "      <td>-</td>\n",
       "      <td>MTRF1</td>\n",
       "      <td>41226599.0</td>\n",
       "      <td>41226999.0</td>\n",
       "      <td>400.0</td>\n",
       "      <td>False</td>\n",
       "      <td>6890.0</td>\n",
       "      <td>30.0</td>\n",
       "    </tr>\n",
       "    <tr>\n",
       "      <th>chr14:60979920|60981023</th>\n",
       "      <td>chr14</td>\n",
       "      <td>60979920.0</td>\n",
       "      <td>60981023.0</td>\n",
       "      <td>-</td>\n",
       "      <td>TRMT5</td>\n",
       "      <td>60979920.0</td>\n",
       "      <td>60981023.0</td>\n",
       "      <td>1103.0</td>\n",
       "      <td>False</td>\n",
       "      <td>NaN</td>\n",
       "      <td>33.0</td>\n",
       "    </tr>\n",
       "    <tr>\n",
       "      <th>chr16:28845503|28845910</th>\n",
       "      <td>chr16</td>\n",
       "      <td>28845503.0</td>\n",
       "      <td>28845910.0</td>\n",
       "      <td>-</td>\n",
       "      <td>TUFM</td>\n",
       "      <td>28845503.0</td>\n",
       "      <td>28845910.0</td>\n",
       "      <td>407.0</td>\n",
       "      <td>False</td>\n",
       "      <td>1.0</td>\n",
       "      <td>22.0</td>\n",
       "    </tr>\n",
       "    <tr>\n",
       "      <th>chr17:41910312|41911225</th>\n",
       "      <td>chr17</td>\n",
       "      <td>41910312.0</td>\n",
       "      <td>41911225.0</td>\n",
       "      <td>-</td>\n",
       "      <td>ACLY</td>\n",
       "      <td>41910312.0</td>\n",
       "      <td>41911225.0</td>\n",
       "      <td>913.0</td>\n",
       "      <td>False</td>\n",
       "      <td>1194.0</td>\n",
       "      <td>27.0</td>\n",
       "    </tr>\n",
       "    <tr>\n",
       "      <th>chr22:43826135|43827513</th>\n",
       "      <td>chr22</td>\n",
       "      <td>43826135.0</td>\n",
       "      <td>43827513.0</td>\n",
       "      <td>-</td>\n",
       "      <td>SULT4A1</td>\n",
       "      <td>43826135.0</td>\n",
       "      <td>43827513.0</td>\n",
       "      <td>1378.0</td>\n",
       "      <td>False</td>\n",
       "      <td>1546.0</td>\n",
       "      <td>21.0</td>\n",
       "    </tr>\n",
       "    <tr>\n",
       "      <th>chrX:53405981|53407426</th>\n",
       "      <td>chrX</td>\n",
       "      <td>53405981.0</td>\n",
       "      <td>53407426.0</td>\n",
       "      <td>-</td>\n",
       "      <td>SMC1A</td>\n",
       "      <td>53405981.0</td>\n",
       "      <td>53407426.0</td>\n",
       "      <td>1445.0</td>\n",
       "      <td>False</td>\n",
       "      <td>1635.0</td>\n",
       "      <td>24.0</td>\n",
       "    </tr>\n",
       "  </tbody>\n",
       "</table>\n",
       "</div>"
      ],
      "text/plain": [
       "                          seqname        start          end strand  \\\n",
       "circ_id                                                              \n",
       "chr1:1477849|1478627         chr1    1477849.0    1478627.0      +   \n",
       "chr1:1477982|1478627         chr1    1477982.0    1478627.0      +   \n",
       "chr1:12303877|12304483       chr1   12303877.0   12304483.0      +   \n",
       "chr1:119146359|119150746     chr1  119146359.0  119150746.0      +   \n",
       "chr1:154251041|154257301     chr1  154251041.0  154257301.0      +   \n",
       "chr1:160353502|160354093     chr1  160353502.0  160354093.0      +   \n",
       "chr1:212071277|212072074     chr1  212071277.0  212072074.0      +   \n",
       "chr3:18027397|18041541       chr3   18027397.0   18041541.0      +   \n",
       "chr3:39390497|39391396       chr3   39390497.0   39391396.0      +   \n",
       "chr4:141222366|141226717     chr4  141222366.0  141226717.0      +   \n",
       "chr4:141224487|141226717     chr4  141224487.0  141226717.0      +   \n",
       "chr6:37474642|37475298       chr6   37474642.0   37475298.0      +   \n",
       "chr6:44233008|44233388       chr6   44233008.0   44233388.0      +   \n",
       "chr6:110999133|110999662     chr6  110999133.0  110999662.0      +   \n",
       "chr6:126014804|126021123     chr6  126014804.0  126021123.0      +   \n",
       "chr7:44800544|44801264       chr7   44800544.0   44801264.0      +   \n",
       "chr7:56051984|56052387       chr7   56051984.0   56052387.0      +   \n",
       "chr7:56051984|56052393       chr7   56051984.0   56052393.0      +   \n",
       "chr11:65109789|65110461     chr11   65109789.0   65110461.0      +   \n",
       "chr11:86256387|86277874     chr11   86256387.0   86277874.0      +   \n",
       "chr12:31089486|31089838     chr12   31089486.0   31089838.0      +   \n",
       "chr12:53289558|53290060     chr12   53289558.0   53290060.0      +   \n",
       "chr12:95298944|95300127     chr12   95298944.0   95300127.0      +   \n",
       "chr12:119671669|119672280   chr12  119671669.0  119672280.0      +   \n",
       "chr14:92131131|92133983     chr14   92131131.0   92133983.0      +   \n",
       "chr16:31183490|31183821     chr16   31183490.0   31183821.0      +   \n",
       "chr16:89874799|89883310     chr16   89874799.0   89883310.0      +   \n",
       "chr16:89878461|89883310     chr16   89878461.0   89883310.0      +   \n",
       "chr17:19655388|19656342     chr17   19655388.0   19656342.0      +   \n",
       "chr17:28673619|28674250     chr17   28673619.0   28674250.0      +   \n",
       "chr22:37958472|37959314     chr22   37958472.0   37959314.0      +   \n",
       "chr3:197140293|197140872     chr3  197140293.0  197140872.0      -   \n",
       "chr5:133980999|133993018     chr5  133980999.0  133993018.0      -   \n",
       "chr5:176352779|176353354     chr5  176352779.0  176353354.0      -   \n",
       "chr6:132471628|132472331     chr6  132471628.0  132472331.0      -   \n",
       "chr6:135038032|135042126     chr6  135038032.0  135042126.0      -   \n",
       "chr6:135038032|135050647     chr6  135038032.0  135050647.0      -   \n",
       "chr7:111808904|111809299     chr7  111808904.0  111809299.0      -   \n",
       "chr8:102257748|102258315     chr8  102257748.0  102258315.0      -   \n",
       "chr11:116783657|116784857   chr11  116783657.0  116784857.0      -   \n",
       "chr13:41226599|41226999     chr13   41226599.0   41226999.0      -   \n",
       "chr14:60979920|60981023     chr14   60979920.0   60981023.0      -   \n",
       "chr16:28845503|28845910     chr16   28845503.0   28845910.0      -   \n",
       "chr17:41910312|41911225     chr17   41910312.0   41911225.0      -   \n",
       "chr22:43826135|43827513     chr22   43826135.0   43827513.0      -   \n",
       "chrX:53405981|53407426       chrX   53405981.0   53407426.0      -   \n",
       "\n",
       "                            gene_name       3prime       5prime      len  \\\n",
       "circ_id                                                                    \n",
       "chr1:1477849|1478627           ATAD3B    1478627.0    1477849.0    778.0   \n",
       "chr1:1477982|1478627           ATAD3B    1478627.0    1477982.0    645.0   \n",
       "chr1:12303877|12304483         VPS13D   12304483.0   12303877.0    606.0   \n",
       "chr1:119146359|119150746    WARS2-AS1  119150746.0  119146359.0   4387.0   \n",
       "chr1:154251041|154257301       UBAP2L  154257301.0  154251041.0   6260.0   \n",
       "chr1:160353502|160354093        NCSTN  160354093.0  160353502.0    591.0   \n",
       "chr1:212071277|212072074          DTL  212072074.0  212071277.0    797.0   \n",
       "chr3:18027397|18041541     AC132807.2   18041541.0   18027397.0  14144.0   \n",
       "chr3:39390497|39391396       SLC25A38   39391396.0   39390497.0    899.0   \n",
       "chr4:141222366|141226717       ZNF330  141226717.0  141222366.0   4351.0   \n",
       "chr4:141224487|141226717       ZNF330  141226717.0  141224487.0   2230.0   \n",
       "chr6:37474642|37475298          CMTR1   37475298.0   37474642.0    656.0   \n",
       "chr6:44233008|44233388        SLC29A1   44233388.0   44233008.0    380.0   \n",
       "chr6:110999133|110999662         RPF2  110999662.0  110999133.0    529.0   \n",
       "chr6:126014804|126021123       TRMT11  126021123.0  126014804.0   6319.0   \n",
       "chr7:44800544|44801264           PPIA   44801264.0   44800544.0    720.0   \n",
       "chr7:56051984|56052387          CCT6A   56052387.0   56051984.0    403.0   \n",
       "chr7:56051984|56052393          CCT6A   56052393.0   56051984.0    409.0   \n",
       "chr11:65109789|65110461         VPS51   65110461.0   65109789.0    672.0   \n",
       "chr11:86256387|86277874           EED   86277874.0   86256387.0  21487.0   \n",
       "chr12:31089486|31089838         DDX11   31089838.0   31089486.0    352.0   \n",
       "chr12:53289558|53290060         ESPL1   53290060.0   53289558.0    502.0   \n",
       "chr12:95298944|95300127          VEZT   95300127.0   95298944.0   1183.0   \n",
       "chr12:119671669|119672280      PRKAB1  119672280.0  119671669.0    611.0   \n",
       "chr14:92131131|92133983         CPSF2   92133983.0   92131131.0   2852.0   \n",
       "chr16:31183490|31183821           FUS   31183821.0   31183490.0    331.0   \n",
       "chr16:89874799|89883310         TCF25   89883310.0   89874799.0   8511.0   \n",
       "chr16:89878461|89883310         TCF25   89883310.0   89878461.0   4849.0   \n",
       "chr17:19655388|19656342       ALDH3A2   19656342.0   19655388.0    954.0   \n",
       "chr17:28673619|28674250        SUPT6H   28674250.0   28673619.0    631.0   \n",
       "chr22:37958472|37959314        POLR2F   37959314.0   37958472.0    842.0   \n",
       "chr3:197140293|197140872         DLG1  197140293.0  197140872.0    579.0   \n",
       "chr5:133980999|133993018        VDAC1  133980999.0  133993018.0  12019.0   \n",
       "chr5:176352779|176353354     KIAA1191  176352779.0  176353354.0    575.0   \n",
       "chr6:132471628|132472331         STX7  132471628.0  132472331.0    703.0   \n",
       "chr6:135038032|135042126        HBS1L  135038032.0  135042126.0   4094.0   \n",
       "chr6:135038032|135050647        HBS1L  135038032.0  135050647.0  12615.0   \n",
       "chr7:111808904|111809299        DOCK4  111808904.0  111809299.0    395.0   \n",
       "chr8:102257748|102258315         UBR5  102257748.0  102258315.0    567.0   \n",
       "chr11:116783657|116784857        ZPR1  116783657.0  116784857.0   1200.0   \n",
       "chr13:41226599|41226999         MTRF1   41226599.0   41226999.0    400.0   \n",
       "chr14:60979920|60981023         TRMT5   60979920.0   60981023.0   1103.0   \n",
       "chr16:28845503|28845910          TUFM   28845503.0   28845910.0    407.0   \n",
       "chr17:41910312|41911225          ACLY   41910312.0   41911225.0    913.0   \n",
       "chr22:43826135|43827513       SULT4A1   43826135.0   43827513.0   1378.0   \n",
       "chrX:53405981|53407426          SMC1A   53405981.0   53407426.0   1445.0   \n",
       "\n",
       "                           hit_5ss  distance_to_closest_upstream_5ss  \\\n",
       "circ_id                                                                \n",
       "chr1:1477849|1478627         False                             498.0   \n",
       "chr1:1477982|1478627         False                             631.0   \n",
       "chr1:12303877|12304483       False                            4492.0   \n",
       "chr1:119146359|119150746     False                            4545.0   \n",
       "chr1:154251041|154257301     False                            1603.0   \n",
       "chr1:160353502|160354093     False                             264.0   \n",
       "chr1:212071277|212072074     False                            2573.0   \n",
       "chr3:18027397|18041541       False                           10685.0   \n",
       "chr3:39390497|39391396       False                             880.0   \n",
       "chr4:141222366|141226717     False                            1257.0   \n",
       "chr4:141224487|141226717     False                            1995.0   \n",
       "chr6:37474642|37475298       False                            1040.0   \n",
       "chr6:44233008|44233388       False                               1.0   \n",
       "chr6:110999133|110999662     False                            1868.0   \n",
       "chr6:126014804|126021123     False                            1702.0   \n",
       "chr7:44800544|44801264       False                             532.0   \n",
       "chr7:56051984|56052387       False                               NaN   \n",
       "chr7:56051984|56052393       False                               NaN   \n",
       "chr11:65109789|65110461      False                             293.0   \n",
       "chr11:86256387|86277874      False                            1099.0   \n",
       "chr12:31089486|31089838      False                             334.0   \n",
       "chr12:53289558|53290060      False                             254.0   \n",
       "chr12:95298944|95300127      False                            2685.0   \n",
       "chr12:119671669|119672280    False                             156.0   \n",
       "chr14:92131131|92133983      False                            4950.0   \n",
       "chr16:31183490|31183821      False                             825.0   \n",
       "chr16:89874799|89883310      False                             939.0   \n",
       "chr16:89878461|89883310      False                            4601.0   \n",
       "chr17:19655388|19656342      False                              29.0   \n",
       "chr17:28673619|28674250      False                             108.0   \n",
       "chr22:37958472|37959314      False                            1570.0   \n",
       "chr3:197140293|197140872     False                            1845.0   \n",
       "chr5:133980999|133993018     False                           11628.0   \n",
       "chr5:176352779|176353354     False                            2216.0   \n",
       "chr6:132471628|132472331     False                            3261.0   \n",
       "chr6:135038032|135042126     False                            8455.0   \n",
       "chr6:135038032|135050647     False                            4001.0   \n",
       "chr7:111808904|111809299     False                               1.0   \n",
       "chr8:102257748|102258315     False                             669.0   \n",
       "chr11:116783657|116784857    False                             241.0   \n",
       "chr13:41226599|41226999      False                            6890.0   \n",
       "chr14:60979920|60981023      False                               NaN   \n",
       "chr16:28845503|28845910      False                               1.0   \n",
       "chr17:41910312|41911225      False                            1194.0   \n",
       "chr22:43826135|43827513      False                            1546.0   \n",
       "chrX:53405981|53407426       False                            1635.0   \n",
       "\n",
       "                           distance_to_closest_downstream_3ss  \n",
       "circ_id                                                        \n",
       "chr1:1477849|1478627                                     16.0  \n",
       "chr1:1477982|1478627                                     16.0  \n",
       "chr1:12303877|12304483                                   22.0  \n",
       "chr1:119146359|119150746                                 46.0  \n",
       "chr1:154251041|154257301                                 44.0  \n",
       "chr1:160353502|160354093                                 24.0  \n",
       "chr1:212071277|212072074                                 26.0  \n",
       "chr3:18027397|18041541                                   46.0  \n",
       "chr3:39390497|39391396                                   44.0  \n",
       "chr4:141222366|141226717                                 49.0  \n",
       "chr4:141224487|141226717                                 49.0  \n",
       "chr6:37474642|37475298                                   22.0  \n",
       "chr6:44233008|44233388                                   28.0  \n",
       "chr6:110999133|110999662                                 48.0  \n",
       "chr6:126014804|126021123                                 36.0  \n",
       "chr7:44800544|44801264                                   22.0  \n",
       "chr7:56051984|56052387                                   34.0  \n",
       "chr7:56051984|56052393                                   28.0  \n",
       "chr11:65109789|65110461                                  20.0  \n",
       "chr11:86256387|86277874                                  43.0  \n",
       "chr12:31089486|31089838                                  47.0  \n",
       "chr12:53289558|53290060                                  24.0  \n",
       "chr12:95298944|95300127                                  37.0  \n",
       "chr12:119671669|119672280                                20.0  \n",
       "chr14:92131131|92133983                                  27.0  \n",
       "chr16:31183490|31183821                                  36.0  \n",
       "chr16:89874799|89883310                                  40.0  \n",
       "chr16:89878461|89883310                                  40.0  \n",
       "chr17:19655388|19656342                                  23.0  \n",
       "chr17:28673619|28674250                                  32.0  \n",
       "chr22:37958472|37959314                                  31.0  \n",
       "chr3:197140293|197140872                                 28.0  \n",
       "chr5:133980999|133993018                                 42.0  \n",
       "chr5:176352779|176353354                                 30.0  \n",
       "chr6:132471628|132472331                                 27.0  \n",
       "chr6:135038032|135042126                                  0.0  \n",
       "chr6:135038032|135050647                                  0.0  \n",
       "chr7:111808904|111809299                                 24.0  \n",
       "chr8:102257748|102258315                                 30.0  \n",
       "chr11:116783657|116784857                                37.0  \n",
       "chr13:41226599|41226999                                  30.0  \n",
       "chr14:60979920|60981023                                  33.0  \n",
       "chr16:28845503|28845910                                  22.0  \n",
       "chr17:41910312|41911225                                  27.0  \n",
       "chr22:43826135|43827513                                  21.0  \n",
       "chrX:53405981|53407426                                   24.0  "
      ]
     },
     "execution_count": 79,
     "metadata": {},
     "output_type": "execute_result"
    }
   ],
   "source": [
    "intronic.loc[(intronic['distance_to_closest_downstream_3ss']<50)&\n",
    "            ~intronic['hit_5ss']]"
   ]
  },
  {
   "cell_type": "markdown",
   "id": "f8ff7847-e23e-444a-890a-8e81e1010ca3",
   "metadata": {},
   "source": [
    "# visualize circles"
   ]
  },
  {
   "cell_type": "code",
   "execution_count": 80,
   "id": "d0df1bb8-3eb3-4610-9720-b11105fdc333",
   "metadata": {},
   "outputs": [
    {
     "data": {
      "text/html": [
       "<div>\n",
       "<style scoped>\n",
       "    .dataframe tbody tr th:only-of-type {\n",
       "        vertical-align: middle;\n",
       "    }\n",
       "\n",
       "    .dataframe tbody tr th {\n",
       "        vertical-align: top;\n",
       "    }\n",
       "\n",
       "    .dataframe thead th {\n",
       "        text-align: right;\n",
       "    }\n",
       "</style>\n",
       "<table border=\"1\" class=\"dataframe\">\n",
       "  <thead>\n",
       "    <tr style=\"text-align: right;\">\n",
       "      <th>index</th>\n",
       "      <th>SD_seq_rep1</th>\n",
       "      <th>SD_seq_rep2</th>\n",
       "      <th>arr_rep2</th>\n",
       "      <th>arr_rep1</th>\n",
       "      <th>rar_rep2</th>\n",
       "      <th>rz_rep2</th>\n",
       "      <th>rar_rep1</th>\n",
       "      <th>rz_rep1</th>\n",
       "    </tr>\n",
       "    <tr>\n",
       "      <th>circ_id</th>\n",
       "      <th></th>\n",
       "      <th></th>\n",
       "      <th></th>\n",
       "      <th></th>\n",
       "      <th></th>\n",
       "      <th></th>\n",
       "      <th></th>\n",
       "      <th></th>\n",
       "    </tr>\n",
       "  </thead>\n",
       "  <tbody>\n",
       "    <tr>\n",
       "      <th>chr1:633563|634095</th>\n",
       "      <td>42.0</td>\n",
       "      <td>28.0</td>\n",
       "      <td>NaN</td>\n",
       "      <td>NaN</td>\n",
       "      <td>NaN</td>\n",
       "      <td>NaN</td>\n",
       "      <td>NaN</td>\n",
       "      <td>NaN</td>\n",
       "    </tr>\n",
       "    <tr>\n",
       "      <th>chr1:746695|749381</th>\n",
       "      <td>344.0</td>\n",
       "      <td>285.0</td>\n",
       "      <td>NaN</td>\n",
       "      <td>NaN</td>\n",
       "      <td>25.0</td>\n",
       "      <td>NaN</td>\n",
       "      <td>NaN</td>\n",
       "      <td>NaN</td>\n",
       "    </tr>\n",
       "    <tr>\n",
       "      <th>chr1:801109|810170</th>\n",
       "      <td>4.0</td>\n",
       "      <td>NaN</td>\n",
       "      <td>NaN</td>\n",
       "      <td>NaN</td>\n",
       "      <td>NaN</td>\n",
       "      <td>NaN</td>\n",
       "      <td>NaN</td>\n",
       "      <td>NaN</td>\n",
       "    </tr>\n",
       "    <tr>\n",
       "      <th>chr1:805799|810170</th>\n",
       "      <td>202.0</td>\n",
       "      <td>72.0</td>\n",
       "      <td>NaN</td>\n",
       "      <td>NaN</td>\n",
       "      <td>NaN</td>\n",
       "      <td>NaN</td>\n",
       "      <td>NaN</td>\n",
       "      <td>NaN</td>\n",
       "    </tr>\n",
       "    <tr>\n",
       "      <th>chr1:925922|943828</th>\n",
       "      <td>1.0</td>\n",
       "      <td>NaN</td>\n",
       "      <td>NaN</td>\n",
       "      <td>NaN</td>\n",
       "      <td>NaN</td>\n",
       "      <td>NaN</td>\n",
       "      <td>NaN</td>\n",
       "      <td>NaN</td>\n",
       "    </tr>\n",
       "    <tr>\n",
       "      <th>...</th>\n",
       "      <td>...</td>\n",
       "      <td>...</td>\n",
       "      <td>...</td>\n",
       "      <td>...</td>\n",
       "      <td>...</td>\n",
       "      <td>...</td>\n",
       "      <td>...</td>\n",
       "      <td>...</td>\n",
       "    </tr>\n",
       "    <tr>\n",
       "      <th>chrX:154351884|154352447</th>\n",
       "      <td>NaN</td>\n",
       "      <td>NaN</td>\n",
       "      <td>NaN</td>\n",
       "      <td>NaN</td>\n",
       "      <td>NaN</td>\n",
       "      <td>NaN</td>\n",
       "      <td>NaN</td>\n",
       "      <td>1.0</td>\n",
       "    </tr>\n",
       "    <tr>\n",
       "      <th>chrX:154413207|154413567</th>\n",
       "      <td>NaN</td>\n",
       "      <td>NaN</td>\n",
       "      <td>NaN</td>\n",
       "      <td>NaN</td>\n",
       "      <td>NaN</td>\n",
       "      <td>NaN</td>\n",
       "      <td>NaN</td>\n",
       "      <td>1.0</td>\n",
       "    </tr>\n",
       "    <tr>\n",
       "      <th>chrX:154442907|154443069</th>\n",
       "      <td>NaN</td>\n",
       "      <td>NaN</td>\n",
       "      <td>NaN</td>\n",
       "      <td>NaN</td>\n",
       "      <td>NaN</td>\n",
       "      <td>NaN</td>\n",
       "      <td>NaN</td>\n",
       "      <td>1.0</td>\n",
       "    </tr>\n",
       "    <tr>\n",
       "      <th>chrX:154984687|154993148</th>\n",
       "      <td>NaN</td>\n",
       "      <td>NaN</td>\n",
       "      <td>NaN</td>\n",
       "      <td>NaN</td>\n",
       "      <td>NaN</td>\n",
       "      <td>NaN</td>\n",
       "      <td>NaN</td>\n",
       "      <td>1.0</td>\n",
       "    </tr>\n",
       "    <tr>\n",
       "      <th>chrX:155089263|155096287</th>\n",
       "      <td>NaN</td>\n",
       "      <td>NaN</td>\n",
       "      <td>NaN</td>\n",
       "      <td>NaN</td>\n",
       "      <td>NaN</td>\n",
       "      <td>NaN</td>\n",
       "      <td>NaN</td>\n",
       "      <td>1.0</td>\n",
       "    </tr>\n",
       "  </tbody>\n",
       "</table>\n",
       "<p>189119 rows × 8 columns</p>\n",
       "</div>"
      ],
      "text/plain": [
       "index                     SD_seq_rep1  SD_seq_rep2  arr_rep2  arr_rep1  \\\n",
       "circ_id                                                                  \n",
       "chr1:633563|634095               42.0         28.0       NaN       NaN   \n",
       "chr1:746695|749381              344.0        285.0       NaN       NaN   \n",
       "chr1:801109|810170                4.0          NaN       NaN       NaN   \n",
       "chr1:805799|810170              202.0         72.0       NaN       NaN   \n",
       "chr1:925922|943828                1.0          NaN       NaN       NaN   \n",
       "...                               ...          ...       ...       ...   \n",
       "chrX:154351884|154352447          NaN          NaN       NaN       NaN   \n",
       "chrX:154413207|154413567          NaN          NaN       NaN       NaN   \n",
       "chrX:154442907|154443069          NaN          NaN       NaN       NaN   \n",
       "chrX:154984687|154993148          NaN          NaN       NaN       NaN   \n",
       "chrX:155089263|155096287          NaN          NaN       NaN       NaN   \n",
       "\n",
       "index                     rar_rep2  rz_rep2  rar_rep1  rz_rep1  \n",
       "circ_id                                                         \n",
       "chr1:633563|634095             NaN      NaN       NaN      NaN  \n",
       "chr1:746695|749381            25.0      NaN       NaN      NaN  \n",
       "chr1:801109|810170             NaN      NaN       NaN      NaN  \n",
       "chr1:805799|810170             NaN      NaN       NaN      NaN  \n",
       "chr1:925922|943828             NaN      NaN       NaN      NaN  \n",
       "...                            ...      ...       ...      ...  \n",
       "chrX:154351884|154352447       NaN      NaN       NaN      1.0  \n",
       "chrX:154413207|154413567       NaN      NaN       NaN      1.0  \n",
       "chrX:154442907|154443069       NaN      NaN       NaN      1.0  \n",
       "chrX:154984687|154993148       NaN      NaN       NaN      1.0  \n",
       "chrX:155089263|155096287       NaN      NaN       NaN      1.0  \n",
       "\n",
       "[189119 rows x 8 columns]"
      ]
     },
     "execution_count": 80,
     "metadata": {},
     "output_type": "execute_result"
    }
   ],
   "source": [
    "bsj"
   ]
  },
  {
   "cell_type": "code",
   "execution_count": 81,
   "id": "4f39e4e6-b13d-4580-adf9-5b33a8fcbcf9",
   "metadata": {},
   "outputs": [
    {
     "data": {
      "text/html": [
       "<div>\n",
       "<style scoped>\n",
       "    .dataframe tbody tr th:only-of-type {\n",
       "        vertical-align: middle;\n",
       "    }\n",
       "\n",
       "    .dataframe tbody tr th {\n",
       "        vertical-align: top;\n",
       "    }\n",
       "\n",
       "    .dataframe thead th {\n",
       "        text-align: right;\n",
       "    }\n",
       "</style>\n",
       "<table border=\"1\" class=\"dataframe\">\n",
       "  <thead>\n",
       "    <tr style=\"text-align: right;\">\n",
       "      <th>index</th>\n",
       "      <th>SD_seq_rep1</th>\n",
       "      <th>SD_seq_rep2</th>\n",
       "      <th>arr_rep2</th>\n",
       "      <th>arr_rep1</th>\n",
       "      <th>rar_rep2</th>\n",
       "      <th>rz_rep2</th>\n",
       "      <th>rar_rep1</th>\n",
       "      <th>rz_rep1</th>\n",
       "    </tr>\n",
       "    <tr>\n",
       "      <th>circ_id</th>\n",
       "      <th></th>\n",
       "      <th></th>\n",
       "      <th></th>\n",
       "      <th></th>\n",
       "      <th></th>\n",
       "      <th></th>\n",
       "      <th></th>\n",
       "      <th></th>\n",
       "    </tr>\n",
       "  </thead>\n",
       "  <tbody>\n",
       "    <tr>\n",
       "      <th>chr1:633563|634095</th>\n",
       "      <td>42.0</td>\n",
       "      <td>28.0</td>\n",
       "      <td>NaN</td>\n",
       "      <td>NaN</td>\n",
       "      <td>NaN</td>\n",
       "      <td>NaN</td>\n",
       "      <td>NaN</td>\n",
       "      <td>NaN</td>\n",
       "    </tr>\n",
       "    <tr>\n",
       "      <th>chr1:746695|749381</th>\n",
       "      <td>344.0</td>\n",
       "      <td>285.0</td>\n",
       "      <td>NaN</td>\n",
       "      <td>NaN</td>\n",
       "      <td>25.0</td>\n",
       "      <td>NaN</td>\n",
       "      <td>NaN</td>\n",
       "      <td>NaN</td>\n",
       "    </tr>\n",
       "    <tr>\n",
       "      <th>chr1:805799|810170</th>\n",
       "      <td>202.0</td>\n",
       "      <td>72.0</td>\n",
       "      <td>NaN</td>\n",
       "      <td>NaN</td>\n",
       "      <td>NaN</td>\n",
       "      <td>NaN</td>\n",
       "      <td>NaN</td>\n",
       "      <td>NaN</td>\n",
       "    </tr>\n",
       "    <tr>\n",
       "      <th>chr1:935772|939412</th>\n",
       "      <td>15.0</td>\n",
       "      <td>38.0</td>\n",
       "      <td>2.0</td>\n",
       "      <td>NaN</td>\n",
       "      <td>NaN</td>\n",
       "      <td>NaN</td>\n",
       "      <td>8.0</td>\n",
       "      <td>7.0</td>\n",
       "    </tr>\n",
       "    <tr>\n",
       "      <th>chr1:935772|939460</th>\n",
       "      <td>308.0</td>\n",
       "      <td>266.0</td>\n",
       "      <td>43.0</td>\n",
       "      <td>68.0</td>\n",
       "      <td>155.0</td>\n",
       "      <td>8.0</td>\n",
       "      <td>46.0</td>\n",
       "      <td>NaN</td>\n",
       "    </tr>\n",
       "    <tr>\n",
       "      <th>...</th>\n",
       "      <td>...</td>\n",
       "      <td>...</td>\n",
       "      <td>...</td>\n",
       "      <td>...</td>\n",
       "      <td>...</td>\n",
       "      <td>...</td>\n",
       "      <td>...</td>\n",
       "      <td>...</td>\n",
       "    </tr>\n",
       "    <tr>\n",
       "      <th>chrX:155506898|155545277</th>\n",
       "      <td>56.0</td>\n",
       "      <td>137.0</td>\n",
       "      <td>3.0</td>\n",
       "      <td>NaN</td>\n",
       "      <td>4.0</td>\n",
       "      <td>NaN</td>\n",
       "      <td>NaN</td>\n",
       "      <td>NaN</td>\n",
       "    </tr>\n",
       "    <tr>\n",
       "      <th>chrX:155511673|155514265</th>\n",
       "      <td>19.0</td>\n",
       "      <td>NaN</td>\n",
       "      <td>NaN</td>\n",
       "      <td>NaN</td>\n",
       "      <td>1.0</td>\n",
       "      <td>NaN</td>\n",
       "      <td>NaN</td>\n",
       "      <td>NaN</td>\n",
       "    </tr>\n",
       "    <tr>\n",
       "      <th>chrX:155524456|155545277</th>\n",
       "      <td>71.0</td>\n",
       "      <td>75.0</td>\n",
       "      <td>NaN</td>\n",
       "      <td>NaN</td>\n",
       "      <td>8.0</td>\n",
       "      <td>NaN</td>\n",
       "      <td>1.0</td>\n",
       "      <td>NaN</td>\n",
       "    </tr>\n",
       "    <tr>\n",
       "      <th>chrX:155524456|155548224</th>\n",
       "      <td>27.0</td>\n",
       "      <td>NaN</td>\n",
       "      <td>NaN</td>\n",
       "      <td>NaN</td>\n",
       "      <td>6.0</td>\n",
       "      <td>NaN</td>\n",
       "      <td>NaN</td>\n",
       "      <td>NaN</td>\n",
       "    </tr>\n",
       "    <tr>\n",
       "      <th>chrX:155545096|155548224</th>\n",
       "      <td>49.0</td>\n",
       "      <td>144.0</td>\n",
       "      <td>NaN</td>\n",
       "      <td>NaN</td>\n",
       "      <td>10.0</td>\n",
       "      <td>NaN</td>\n",
       "      <td>NaN</td>\n",
       "      <td>NaN</td>\n",
       "    </tr>\n",
       "  </tbody>\n",
       "</table>\n",
       "<p>44320 rows × 8 columns</p>\n",
       "</div>"
      ],
      "text/plain": [
       "index                     SD_seq_rep1  SD_seq_rep2  arr_rep2  arr_rep1  \\\n",
       "circ_id                                                                  \n",
       "chr1:633563|634095               42.0         28.0       NaN       NaN   \n",
       "chr1:746695|749381              344.0        285.0       NaN       NaN   \n",
       "chr1:805799|810170              202.0         72.0       NaN       NaN   \n",
       "chr1:935772|939412               15.0         38.0       2.0       NaN   \n",
       "chr1:935772|939460              308.0        266.0      43.0      68.0   \n",
       "...                               ...          ...       ...       ...   \n",
       "chrX:155506898|155545277         56.0        137.0       3.0       NaN   \n",
       "chrX:155511673|155514265         19.0          NaN       NaN       NaN   \n",
       "chrX:155524456|155545277         71.0         75.0       NaN       NaN   \n",
       "chrX:155524456|155548224         27.0          NaN       NaN       NaN   \n",
       "chrX:155545096|155548224         49.0        144.0       NaN       NaN   \n",
       "\n",
       "index                     rar_rep2  rz_rep2  rar_rep1  rz_rep1  \n",
       "circ_id                                                         \n",
       "chr1:633563|634095             NaN      NaN       NaN      NaN  \n",
       "chr1:746695|749381            25.0      NaN       NaN      NaN  \n",
       "chr1:805799|810170             NaN      NaN       NaN      NaN  \n",
       "chr1:935772|939412             NaN      NaN       8.0      7.0  \n",
       "chr1:935772|939460           155.0      8.0      46.0      NaN  \n",
       "...                            ...      ...       ...      ...  \n",
       "chrX:155506898|155545277       4.0      NaN       NaN      NaN  \n",
       "chrX:155511673|155514265       1.0      NaN       NaN      NaN  \n",
       "chrX:155524456|155545277       8.0      NaN       1.0      NaN  \n",
       "chrX:155524456|155548224       6.0      NaN       NaN      NaN  \n",
       "chrX:155545096|155548224      10.0      NaN       NaN      NaN  \n",
       "\n",
       "[44320 rows x 8 columns]"
      ]
     },
     "execution_count": 81,
     "metadata": {},
     "output_type": "execute_result"
    }
   ],
   "source": [
    "bsj.loc[bsj['SD_seq_rep1']>10]"
   ]
  },
  {
   "cell_type": "code",
   "execution_count": 82,
   "id": "017c8dbe-948d-430b-be87-72cf708084a1",
   "metadata": {},
   "outputs": [
    {
     "name": "stdout",
     "output_type": "stream",
     "text": [
      "module load samtools\n",
      "mkdir /tscc/nfs/home/hsher/scratch/visualize_circle/\n",
      "samtools view -b /tscc/nfs/home/hsher/scratch/circ_truseq/output/align/circseq-bm-arr.sorted.bam chr8:141253989-141254629 > /tscc/nfs/home/hsher/scratch/visualize_circle//circseq-bm-arr.chr8:141253989-141254629.bam\n",
      "samtools index /tscc/nfs/home/hsher/scratch/visualize_circle//circseq-bm-arr.chr8:141253989-141254629.bam\n",
      "samtools view -b /tscc/nfs/home/hsher/scratch/circ_truseq/output/align/circseq-bm-rar.sorted.bam chr8:141253989-141254629 > /tscc/nfs/home/hsher/scratch/visualize_circle//circseq-bm-rar.chr8:141253989-141254629.bam\n",
      "samtools index /tscc/nfs/home/hsher/scratch/visualize_circle//circseq-bm-rar.chr8:141253989-141254629.bam\n",
      "samtools view -b /tscc/nfs/home/hsher/scratch/circ_truseq/output/align/circseq-bm-rz.sorted.bam chr8:141253989-141254629 > /tscc/nfs/home/hsher/scratch/visualize_circle//circseq-bm-rz.chr8:141253989-141254629.bam\n",
      "samtools index /tscc/nfs/home/hsher/scratch/visualize_circle//circseq-bm-rz.chr8:141253989-141254629.bam\n",
      "samtools view -b /tscc/nfs/home/hsher/scratch/circ_nextera/output/align/circseq-bm-rar11-nxt.sorted.bam chr8:141253989-141254629 > /tscc/nfs/home/hsher/scratch/visualize_circle//circseq-bm-rar11-nxt.chr8:141253989-141254629.bam\n",
      "samtools index /tscc/nfs/home/hsher/scratch/visualize_circle//circseq-bm-rar11-nxt.chr8:141253989-141254629.bam\n"
     ]
    }
   ],
   "source": [
    "circ_id='chr8:141253989|141254629' \t\n",
    "region = circ_id.replace('|', '-')\n",
    "print('module load samtools')\n",
    "bams = ['/tscc/nfs/home/hsher/scratch/circ_truseq/output/align/circseq-bm-arr.sorted.bam',\n",
    "'/tscc/nfs/home/hsher/scratch/circ_truseq/output/align/circseq-bm-rar.sorted.bam',\n",
    "'/tscc/nfs/home/hsher/scratch/circ_truseq/output/align/circseq-bm-rz.sorted.bam',\n",
    "'/tscc/nfs/home/hsher/scratch/circ_nextera/output/align/circseq-bm-rar11-nxt.sorted.bam']\n",
    "outf = '/tscc/nfs/home/hsher/scratch/visualize_circle/'\n",
    "print(f'mkdir {outf}')\n",
    "for b in bams:\n",
    "    fname = Path(b).name.split('.')[0]\n",
    "    print(f'samtools view -b {b} {region} > {outf}/{fname}.{region}.bam')\n",
    "    print(f'samtools index {outf}/{fname}.{region}.bam')"
   ]
  },
  {
   "cell_type": "code",
   "execution_count": 83,
   "id": "eeb723e2-b24b-4515-b6ba-86d236bc28cb",
   "metadata": {},
   "outputs": [
    {
     "data": {
      "text/plain": [
       "'chr8:141253989-141254629'"
      ]
     },
     "execution_count": 83,
     "metadata": {},
     "output_type": "execute_result"
    }
   ],
   "source": [
    "region"
   ]
  },
  {
   "cell_type": "code",
   "execution_count": 84,
   "id": "da928d38-23f8-4039-8c7b-a79e69cd0de0",
   "metadata": {},
   "outputs": [
    {
     "data": {
      "text/plain": [
       "0           532\n",
       "1          2686\n",
       "2          9061\n",
       "3          4371\n",
       "4         17906\n",
       "          ...  \n",
       "189114      563\n",
       "189115      360\n",
       "189116      162\n",
       "189117     8461\n",
       "189118     7024\n",
       "Name: circ_id, Length: 189119, dtype: int64"
      ]
     },
     "execution_count": 84,
     "metadata": {},
     "output_type": "execute_result"
    }
   ],
   "source": [
    "pd.Series(bsj.index).apply(lambda x: int(x.split('|')[1])-int(x.split('|')[0].split(':')[1]))"
   ]
  },
  {
   "cell_type": "code",
   "execution_count": 85,
   "id": "a7397d89-ae95-4057-bd39-6ca36ddf72ef",
   "metadata": {},
   "outputs": [
    {
     "data": {
      "text/html": [
       "<div>\n",
       "<style scoped>\n",
       "    .dataframe tbody tr th:only-of-type {\n",
       "        vertical-align: middle;\n",
       "    }\n",
       "\n",
       "    .dataframe tbody tr th {\n",
       "        vertical-align: top;\n",
       "    }\n",
       "\n",
       "    .dataframe thead th {\n",
       "        text-align: right;\n",
       "    }\n",
       "</style>\n",
       "<table border=\"1\" class=\"dataframe\">\n",
       "  <thead>\n",
       "    <tr style=\"text-align: right;\">\n",
       "      <th>index</th>\n",
       "      <th>SD_seq_rep1</th>\n",
       "      <th>SD_seq_rep2</th>\n",
       "      <th>arr_rep2</th>\n",
       "      <th>arr_rep1</th>\n",
       "      <th>rar_rep2</th>\n",
       "      <th>rz_rep2</th>\n",
       "      <th>rar_rep1</th>\n",
       "      <th>rz_rep1</th>\n",
       "    </tr>\n",
       "    <tr>\n",
       "      <th>circ_id</th>\n",
       "      <th></th>\n",
       "      <th></th>\n",
       "      <th></th>\n",
       "      <th></th>\n",
       "      <th></th>\n",
       "      <th></th>\n",
       "      <th></th>\n",
       "      <th></th>\n",
       "    </tr>\n",
       "  </thead>\n",
       "  <tbody>\n",
       "    <tr>\n",
       "      <th>chr5:137985257|137988315</th>\n",
       "      <td>33508.0</td>\n",
       "      <td>29217.0</td>\n",
       "      <td>101.0</td>\n",
       "      <td>186.0</td>\n",
       "      <td>289.0</td>\n",
       "      <td>32.0</td>\n",
       "      <td>187.0</td>\n",
       "      <td>67.0</td>\n",
       "    </tr>\n",
       "    <tr>\n",
       "      <th>chr18:21765772|21779685</th>\n",
       "      <td>17845.0</td>\n",
       "      <td>38134.0</td>\n",
       "      <td>1022.0</td>\n",
       "      <td>2074.0</td>\n",
       "      <td>NaN</td>\n",
       "      <td>73.0</td>\n",
       "      <td>469.0</td>\n",
       "      <td>128.0</td>\n",
       "    </tr>\n",
       "    <tr>\n",
       "      <th>chr5:170878097|170896115</th>\n",
       "      <td>15305.0</td>\n",
       "      <td>22244.0</td>\n",
       "      <td>126.0</td>\n",
       "      <td>359.0</td>\n",
       "      <td>NaN</td>\n",
       "      <td>2.0</td>\n",
       "      <td>70.0</td>\n",
       "      <td>16.0</td>\n",
       "    </tr>\n",
       "    <tr>\n",
       "      <th>chr3:158122103|158123991</th>\n",
       "      <td>12737.0</td>\n",
       "      <td>11291.0</td>\n",
       "      <td>70.0</td>\n",
       "      <td>77.0</td>\n",
       "      <td>NaN</td>\n",
       "      <td>32.0</td>\n",
       "      <td>NaN</td>\n",
       "      <td>23.0</td>\n",
       "    </tr>\n",
       "    <tr>\n",
       "      <th>chr3:170145423|170149244</th>\n",
       "      <td>12179.0</td>\n",
       "      <td>14782.0</td>\n",
       "      <td>4.0</td>\n",
       "      <td>5.0</td>\n",
       "      <td>NaN</td>\n",
       "      <td>2.0</td>\n",
       "      <td>111.0</td>\n",
       "      <td>NaN</td>\n",
       "    </tr>\n",
       "    <tr>\n",
       "      <th>chr6:4891713|4892379</th>\n",
       "      <td>10679.0</td>\n",
       "      <td>21374.0</td>\n",
       "      <td>NaN</td>\n",
       "      <td>NaN</td>\n",
       "      <td>NaN</td>\n",
       "      <td>125.0</td>\n",
       "      <td>187.0</td>\n",
       "      <td>49.0</td>\n",
       "    </tr>\n",
       "    <tr>\n",
       "      <th>chr7:129014979|129018157</th>\n",
       "      <td>9992.0</td>\n",
       "      <td>15480.0</td>\n",
       "      <td>252.0</td>\n",
       "      <td>NaN</td>\n",
       "      <td>NaN</td>\n",
       "      <td>20.0</td>\n",
       "      <td>140.0</td>\n",
       "      <td>44.0</td>\n",
       "    </tr>\n",
       "    <tr>\n",
       "      <th>chr9:20819796|20823115</th>\n",
       "      <td>9948.0</td>\n",
       "      <td>14031.0</td>\n",
       "      <td>91.0</td>\n",
       "      <td>419.0</td>\n",
       "      <td>187.0</td>\n",
       "      <td>13.0</td>\n",
       "      <td>73.0</td>\n",
       "      <td>15.0</td>\n",
       "    </tr>\n",
       "    <tr>\n",
       "      <th>chr4:185247294|185267155</th>\n",
       "      <td>9302.0</td>\n",
       "      <td>13813.0</td>\n",
       "      <td>312.0</td>\n",
       "      <td>511.0</td>\n",
       "      <td>434.0</td>\n",
       "      <td>35.0</td>\n",
       "      <td>158.0</td>\n",
       "      <td>35.0</td>\n",
       "    </tr>\n",
       "    <tr>\n",
       "      <th>chr9:93471141|93498886</th>\n",
       "      <td>9152.0</td>\n",
       "      <td>12896.0</td>\n",
       "      <td>NaN</td>\n",
       "      <td>882.0</td>\n",
       "      <td>557.0</td>\n",
       "      <td>40.0</td>\n",
       "      <td>199.0</td>\n",
       "      <td>56.0</td>\n",
       "    </tr>\n",
       "    <tr>\n",
       "      <th>chr9:131506114|131506453</th>\n",
       "      <td>9107.0</td>\n",
       "      <td>6161.0</td>\n",
       "      <td>6.0</td>\n",
       "      <td>NaN</td>\n",
       "      <td>56.0</td>\n",
       "      <td>7.0</td>\n",
       "      <td>57.0</td>\n",
       "      <td>1.0</td>\n",
       "    </tr>\n",
       "    <tr>\n",
       "      <th>chr2:147896301|147899898</th>\n",
       "      <td>9013.0</td>\n",
       "      <td>15026.0</td>\n",
       "      <td>195.0</td>\n",
       "      <td>271.0</td>\n",
       "      <td>291.0</td>\n",
       "      <td>NaN</td>\n",
       "      <td>118.0</td>\n",
       "      <td>19.0</td>\n",
       "    </tr>\n",
       "    <tr>\n",
       "      <th>chr9:93471141|93476338</th>\n",
       "      <td>8926.0</td>\n",
       "      <td>11103.0</td>\n",
       "      <td>46.0</td>\n",
       "      <td>NaN</td>\n",
       "      <td>NaN</td>\n",
       "      <td>NaN</td>\n",
       "      <td>212.0</td>\n",
       "      <td>24.0</td>\n",
       "    </tr>\n",
       "    <tr>\n",
       "      <th>chr12:111552280|111555919</th>\n",
       "      <td>8825.0</td>\n",
       "      <td>7570.0</td>\n",
       "      <td>36.0</td>\n",
       "      <td>74.0</td>\n",
       "      <td>204.0</td>\n",
       "      <td>5.0</td>\n",
       "      <td>115.0</td>\n",
       "      <td>19.0</td>\n",
       "    </tr>\n",
       "    <tr>\n",
       "      <th>chr13:75560753|75569507</th>\n",
       "      <td>8534.0</td>\n",
       "      <td>14984.0</td>\n",
       "      <td>153.0</td>\n",
       "      <td>339.0</td>\n",
       "      <td>NaN</td>\n",
       "      <td>20.0</td>\n",
       "      <td>165.0</td>\n",
       "      <td>24.0</td>\n",
       "    </tr>\n",
       "    <tr>\n",
       "      <th>chr1:117402186|117420649</th>\n",
       "      <td>8205.0</td>\n",
       "      <td>10734.0</td>\n",
       "      <td>NaN</td>\n",
       "      <td>29.0</td>\n",
       "      <td>295.0</td>\n",
       "      <td>41.0</td>\n",
       "      <td>221.0</td>\n",
       "      <td>22.0</td>\n",
       "    </tr>\n",
       "    <tr>\n",
       "      <th>chr1:40189055|40202614</th>\n",
       "      <td>8201.0</td>\n",
       "      <td>11220.0</td>\n",
       "      <td>37.0</td>\n",
       "      <td>69.0</td>\n",
       "      <td>NaN</td>\n",
       "      <td>5.0</td>\n",
       "      <td>63.0</td>\n",
       "      <td>3.0</td>\n",
       "    </tr>\n",
       "    <tr>\n",
       "      <th>chr10:7276892|7285954</th>\n",
       "      <td>8112.0</td>\n",
       "      <td>9328.0</td>\n",
       "      <td>200.0</td>\n",
       "      <td>NaN</td>\n",
       "      <td>NaN</td>\n",
       "      <td>39.0</td>\n",
       "      <td>240.0</td>\n",
       "      <td>55.0</td>\n",
       "    </tr>\n",
       "    <tr>\n",
       "      <th>chr9:135881633|135883078</th>\n",
       "      <td>8028.0</td>\n",
       "      <td>9272.0</td>\n",
       "      <td>1259.0</td>\n",
       "      <td>NaN</td>\n",
       "      <td>NaN</td>\n",
       "      <td>88.0</td>\n",
       "      <td>833.0</td>\n",
       "      <td>129.0</td>\n",
       "    </tr>\n",
       "    <tr>\n",
       "      <th>chr2:54982515|54987698</th>\n",
       "      <td>7817.0</td>\n",
       "      <td>8592.0</td>\n",
       "      <td>132.0</td>\n",
       "      <td>277.0</td>\n",
       "      <td>384.0</td>\n",
       "      <td>10.0</td>\n",
       "      <td>178.0</td>\n",
       "      <td>32.0</td>\n",
       "    </tr>\n",
       "    <tr>\n",
       "      <th>chr12:46229153|46243314</th>\n",
       "      <td>7687.0</td>\n",
       "      <td>11008.0</td>\n",
       "      <td>223.0</td>\n",
       "      <td>421.0</td>\n",
       "      <td>126.0</td>\n",
       "      <td>NaN</td>\n",
       "      <td>75.0</td>\n",
       "      <td>23.0</td>\n",
       "    </tr>\n",
       "    <tr>\n",
       "      <th>chr2:171925537|171953001</th>\n",
       "      <td>7510.0</td>\n",
       "      <td>6136.0</td>\n",
       "      <td>NaN</td>\n",
       "      <td>NaN</td>\n",
       "      <td>NaN</td>\n",
       "      <td>5.0</td>\n",
       "      <td>NaN</td>\n",
       "      <td>1.0</td>\n",
       "    </tr>\n",
       "    <tr>\n",
       "      <th>chr10:7243558|7285954</th>\n",
       "      <td>7278.0</td>\n",
       "      <td>10262.0</td>\n",
       "      <td>333.0</td>\n",
       "      <td>567.0</td>\n",
       "      <td>394.0</td>\n",
       "      <td>18.0</td>\n",
       "      <td>153.0</td>\n",
       "      <td>31.0</td>\n",
       "    </tr>\n",
       "    <tr>\n",
       "      <th>chr10:31908172|31910563</th>\n",
       "      <td>7248.0</td>\n",
       "      <td>11055.0</td>\n",
       "      <td>NaN</td>\n",
       "      <td>992.0</td>\n",
       "      <td>NaN</td>\n",
       "      <td>33.0</td>\n",
       "      <td>180.0</td>\n",
       "      <td>43.0</td>\n",
       "    </tr>\n",
       "    <tr>\n",
       "      <th>chr15:67231814|67236820</th>\n",
       "      <td>7048.0</td>\n",
       "      <td>9388.0</td>\n",
       "      <td>337.0</td>\n",
       "      <td>NaN</td>\n",
       "      <td>NaN</td>\n",
       "      <td>21.0</td>\n",
       "      <td>340.0</td>\n",
       "      <td>25.0</td>\n",
       "    </tr>\n",
       "    <tr>\n",
       "      <th>chr13:32517857|32527532</th>\n",
       "      <td>7017.0</td>\n",
       "      <td>10028.0</td>\n",
       "      <td>143.0</td>\n",
       "      <td>205.0</td>\n",
       "      <td>288.0</td>\n",
       "      <td>NaN</td>\n",
       "      <td>193.0</td>\n",
       "      <td>29.0</td>\n",
       "    </tr>\n",
       "    <tr>\n",
       "      <th>chr9:110972073|110973558</th>\n",
       "      <td>6907.0</td>\n",
       "      <td>5730.0</td>\n",
       "      <td>28.0</td>\n",
       "      <td>34.0</td>\n",
       "      <td>NaN</td>\n",
       "      <td>5.0</td>\n",
       "      <td>124.0</td>\n",
       "      <td>8.0</td>\n",
       "    </tr>\n",
       "    <tr>\n",
       "      <th>chr13:41865736|41868477</th>\n",
       "      <td>6622.0</td>\n",
       "      <td>8467.0</td>\n",
       "      <td>NaN</td>\n",
       "      <td>267.0</td>\n",
       "      <td>320.0</td>\n",
       "      <td>11.0</td>\n",
       "      <td>132.0</td>\n",
       "      <td>23.0</td>\n",
       "    </tr>\n",
       "    <tr>\n",
       "      <th>chr5:171183195|171205612</th>\n",
       "      <td>6610.0</td>\n",
       "      <td>9051.0</td>\n",
       "      <td>NaN</td>\n",
       "      <td>221.0</td>\n",
       "      <td>311.0</td>\n",
       "      <td>19.0</td>\n",
       "      <td>164.0</td>\n",
       "      <td>32.0</td>\n",
       "    </tr>\n",
       "    <tr>\n",
       "      <th>chr16:68121987|68126610</th>\n",
       "      <td>6541.0</td>\n",
       "      <td>8347.0</td>\n",
       "      <td>NaN</td>\n",
       "      <td>NaN</td>\n",
       "      <td>NaN</td>\n",
       "      <td>79.0</td>\n",
       "      <td>NaN</td>\n",
       "      <td>71.0</td>\n",
       "    </tr>\n",
       "    <tr>\n",
       "      <th>chr2:72718103|72733118</th>\n",
       "      <td>6447.0</td>\n",
       "      <td>7918.0</td>\n",
       "      <td>143.0</td>\n",
       "      <td>358.0</td>\n",
       "      <td>NaN</td>\n",
       "      <td>10.0</td>\n",
       "      <td>NaN</td>\n",
       "      <td>39.0</td>\n",
       "    </tr>\n",
       "    <tr>\n",
       "      <th>chr7:141636960|141649333</th>\n",
       "      <td>6349.0</td>\n",
       "      <td>6696.0</td>\n",
       "      <td>51.0</td>\n",
       "      <td>85.0</td>\n",
       "      <td>NaN</td>\n",
       "      <td>2.0</td>\n",
       "      <td>92.0</td>\n",
       "      <td>12.0</td>\n",
       "    </tr>\n",
       "    <tr>\n",
       "      <th>chr15:58912563|58916999</th>\n",
       "      <td>6147.0</td>\n",
       "      <td>5754.0</td>\n",
       "      <td>NaN</td>\n",
       "      <td>NaN</td>\n",
       "      <td>200.0</td>\n",
       "      <td>3.0</td>\n",
       "      <td>31.0</td>\n",
       "      <td>NaN</td>\n",
       "    </tr>\n",
       "    <tr>\n",
       "      <th>chr3:142736379|142748460</th>\n",
       "      <td>6079.0</td>\n",
       "      <td>4978.0</td>\n",
       "      <td>44.0</td>\n",
       "      <td>137.0</td>\n",
       "      <td>260.0</td>\n",
       "      <td>NaN</td>\n",
       "      <td>119.0</td>\n",
       "      <td>15.0</td>\n",
       "    </tr>\n",
       "    <tr>\n",
       "      <th>chr22:45729425|45740538</th>\n",
       "      <td>5978.0</td>\n",
       "      <td>11665.0</td>\n",
       "      <td>361.0</td>\n",
       "      <td>1140.0</td>\n",
       "      <td>NaN</td>\n",
       "      <td>22.0</td>\n",
       "      <td>257.0</td>\n",
       "      <td>57.0</td>\n",
       "    </tr>\n",
       "    <tr>\n",
       "      <th>chr6:158580940|158589782</th>\n",
       "      <td>5945.0</td>\n",
       "      <td>7216.0</td>\n",
       "      <td>76.0</td>\n",
       "      <td>NaN</td>\n",
       "      <td>NaN</td>\n",
       "      <td>12.0</td>\n",
       "      <td>113.0</td>\n",
       "      <td>16.0</td>\n",
       "    </tr>\n",
       "    <tr>\n",
       "      <th>chr2:135675332|135680324</th>\n",
       "      <td>5934.0</td>\n",
       "      <td>4773.0</td>\n",
       "      <td>NaN</td>\n",
       "      <td>NaN</td>\n",
       "      <td>56.0</td>\n",
       "      <td>4.0</td>\n",
       "      <td>82.0</td>\n",
       "      <td>4.0</td>\n",
       "    </tr>\n",
       "    <tr>\n",
       "      <th>chr1:65364635|65366196</th>\n",
       "      <td>5907.0</td>\n",
       "      <td>9932.0</td>\n",
       "      <td>57.0</td>\n",
       "      <td>109.0</td>\n",
       "      <td>164.0</td>\n",
       "      <td>8.0</td>\n",
       "      <td>77.0</td>\n",
       "      <td>15.0</td>\n",
       "    </tr>\n",
       "    <tr>\n",
       "      <th>chr6:107503657|107506427</th>\n",
       "      <td>5800.0</td>\n",
       "      <td>5682.0</td>\n",
       "      <td>NaN</td>\n",
       "      <td>286.0</td>\n",
       "      <td>NaN</td>\n",
       "      <td>18.0</td>\n",
       "      <td>178.0</td>\n",
       "      <td>22.0</td>\n",
       "    </tr>\n",
       "    <tr>\n",
       "      <th>chr2:202464809|202467689</th>\n",
       "      <td>5765.0</td>\n",
       "      <td>7526.0</td>\n",
       "      <td>66.0</td>\n",
       "      <td>69.0</td>\n",
       "      <td>NaN</td>\n",
       "      <td>8.0</td>\n",
       "      <td>86.0</td>\n",
       "      <td>16.0</td>\n",
       "    </tr>\n",
       "    <tr>\n",
       "      <th>chr2:61485768|61490776</th>\n",
       "      <td>5614.0</td>\n",
       "      <td>8717.0</td>\n",
       "      <td>95.0</td>\n",
       "      <td>221.0</td>\n",
       "      <td>108.0</td>\n",
       "      <td>7.0</td>\n",
       "      <td>53.0</td>\n",
       "      <td>6.0</td>\n",
       "    </tr>\n",
       "    <tr>\n",
       "      <th>chr3:125313308|125331238</th>\n",
       "      <td>5478.0</td>\n",
       "      <td>11605.0</td>\n",
       "      <td>117.0</td>\n",
       "      <td>217.0</td>\n",
       "      <td>317.0</td>\n",
       "      <td>16.0</td>\n",
       "      <td>175.0</td>\n",
       "      <td>14.0</td>\n",
       "    </tr>\n",
       "    <tr>\n",
       "      <th>chr22:45689712|45718493</th>\n",
       "      <td>5112.0</td>\n",
       "      <td>7073.0</td>\n",
       "      <td>273.0</td>\n",
       "      <td>NaN</td>\n",
       "      <td>NaN</td>\n",
       "      <td>15.0</td>\n",
       "      <td>249.0</td>\n",
       "      <td>25.0</td>\n",
       "    </tr>\n",
       "    <tr>\n",
       "      <th>chr22:28514757|28519320</th>\n",
       "      <td>5047.0</td>\n",
       "      <td>5065.0</td>\n",
       "      <td>6.0</td>\n",
       "      <td>53.0</td>\n",
       "      <td>140.0</td>\n",
       "      <td>11.0</td>\n",
       "      <td>67.0</td>\n",
       "      <td>3.0</td>\n",
       "    </tr>\n",
       "    <tr>\n",
       "      <th>chr11:130260856|130261929</th>\n",
       "      <td>5000.0</td>\n",
       "      <td>7964.0</td>\n",
       "      <td>439.0</td>\n",
       "      <td>709.0</td>\n",
       "      <td>216.0</td>\n",
       "      <td>30.0</td>\n",
       "      <td>142.0</td>\n",
       "      <td>76.0</td>\n",
       "    </tr>\n",
       "    <tr>\n",
       "      <th>chr1:114463104|114464388</th>\n",
       "      <td>4996.0</td>\n",
       "      <td>7844.0</td>\n",
       "      <td>NaN</td>\n",
       "      <td>149.0</td>\n",
       "      <td>NaN</td>\n",
       "      <td>7.0</td>\n",
       "      <td>NaN</td>\n",
       "      <td>18.0</td>\n",
       "    </tr>\n",
       "    <tr>\n",
       "      <th>chr10:7797047|7802854</th>\n",
       "      <td>4893.0</td>\n",
       "      <td>6921.0</td>\n",
       "      <td>479.0</td>\n",
       "      <td>NaN</td>\n",
       "      <td>NaN</td>\n",
       "      <td>39.0</td>\n",
       "      <td>195.0</td>\n",
       "      <td>65.0</td>\n",
       "    </tr>\n",
       "    <tr>\n",
       "      <th>chr4:51863437|51877854</th>\n",
       "      <td>4863.0</td>\n",
       "      <td>4156.0</td>\n",
       "      <td>38.0</td>\n",
       "      <td>53.0</td>\n",
       "      <td>85.0</td>\n",
       "      <td>6.0</td>\n",
       "      <td>NaN</td>\n",
       "      <td>19.0</td>\n",
       "    </tr>\n",
       "    <tr>\n",
       "      <th>chr1:30992390|30995220</th>\n",
       "      <td>4835.0</td>\n",
       "      <td>9467.0</td>\n",
       "      <td>14.0</td>\n",
       "      <td>NaN</td>\n",
       "      <td>NaN</td>\n",
       "      <td>17.0</td>\n",
       "      <td>178.0</td>\n",
       "      <td>8.0</td>\n",
       "    </tr>\n",
       "    <tr>\n",
       "      <th>chr6:87215903|87218731</th>\n",
       "      <td>4768.0</td>\n",
       "      <td>6005.0</td>\n",
       "      <td>130.0</td>\n",
       "      <td>144.0</td>\n",
       "      <td>NaN</td>\n",
       "      <td>4.0</td>\n",
       "      <td>55.0</td>\n",
       "      <td>9.0</td>\n",
       "    </tr>\n",
       "  </tbody>\n",
       "</table>\n",
       "</div>"
      ],
      "text/plain": [
       "index                      SD_seq_rep1  SD_seq_rep2  arr_rep2  arr_rep1  \\\n",
       "circ_id                                                                   \n",
       "chr5:137985257|137988315       33508.0      29217.0     101.0     186.0   \n",
       "chr18:21765772|21779685        17845.0      38134.0    1022.0    2074.0   \n",
       "chr5:170878097|170896115       15305.0      22244.0     126.0     359.0   \n",
       "chr3:158122103|158123991       12737.0      11291.0      70.0      77.0   \n",
       "chr3:170145423|170149244       12179.0      14782.0       4.0       5.0   \n",
       "chr6:4891713|4892379           10679.0      21374.0       NaN       NaN   \n",
       "chr7:129014979|129018157        9992.0      15480.0     252.0       NaN   \n",
       "chr9:20819796|20823115          9948.0      14031.0      91.0     419.0   \n",
       "chr4:185247294|185267155        9302.0      13813.0     312.0     511.0   \n",
       "chr9:93471141|93498886          9152.0      12896.0       NaN     882.0   \n",
       "chr9:131506114|131506453        9107.0       6161.0       6.0       NaN   \n",
       "chr2:147896301|147899898        9013.0      15026.0     195.0     271.0   \n",
       "chr9:93471141|93476338          8926.0      11103.0      46.0       NaN   \n",
       "chr12:111552280|111555919       8825.0       7570.0      36.0      74.0   \n",
       "chr13:75560753|75569507         8534.0      14984.0     153.0     339.0   \n",
       "chr1:117402186|117420649        8205.0      10734.0       NaN      29.0   \n",
       "chr1:40189055|40202614          8201.0      11220.0      37.0      69.0   \n",
       "chr10:7276892|7285954           8112.0       9328.0     200.0       NaN   \n",
       "chr9:135881633|135883078        8028.0       9272.0    1259.0       NaN   \n",
       "chr2:54982515|54987698          7817.0       8592.0     132.0     277.0   \n",
       "chr12:46229153|46243314         7687.0      11008.0     223.0     421.0   \n",
       "chr2:171925537|171953001        7510.0       6136.0       NaN       NaN   \n",
       "chr10:7243558|7285954           7278.0      10262.0     333.0     567.0   \n",
       "chr10:31908172|31910563         7248.0      11055.0       NaN     992.0   \n",
       "chr15:67231814|67236820         7048.0       9388.0     337.0       NaN   \n",
       "chr13:32517857|32527532         7017.0      10028.0     143.0     205.0   \n",
       "chr9:110972073|110973558        6907.0       5730.0      28.0      34.0   \n",
       "chr13:41865736|41868477         6622.0       8467.0       NaN     267.0   \n",
       "chr5:171183195|171205612        6610.0       9051.0       NaN     221.0   \n",
       "chr16:68121987|68126610         6541.0       8347.0       NaN       NaN   \n",
       "chr2:72718103|72733118          6447.0       7918.0     143.0     358.0   \n",
       "chr7:141636960|141649333        6349.0       6696.0      51.0      85.0   \n",
       "chr15:58912563|58916999         6147.0       5754.0       NaN       NaN   \n",
       "chr3:142736379|142748460        6079.0       4978.0      44.0     137.0   \n",
       "chr22:45729425|45740538         5978.0      11665.0     361.0    1140.0   \n",
       "chr6:158580940|158589782        5945.0       7216.0      76.0       NaN   \n",
       "chr2:135675332|135680324        5934.0       4773.0       NaN       NaN   \n",
       "chr1:65364635|65366196          5907.0       9932.0      57.0     109.0   \n",
       "chr6:107503657|107506427        5800.0       5682.0       NaN     286.0   \n",
       "chr2:202464809|202467689        5765.0       7526.0      66.0      69.0   \n",
       "chr2:61485768|61490776          5614.0       8717.0      95.0     221.0   \n",
       "chr3:125313308|125331238        5478.0      11605.0     117.0     217.0   \n",
       "chr22:45689712|45718493         5112.0       7073.0     273.0       NaN   \n",
       "chr22:28514757|28519320         5047.0       5065.0       6.0      53.0   \n",
       "chr11:130260856|130261929       5000.0       7964.0     439.0     709.0   \n",
       "chr1:114463104|114464388        4996.0       7844.0       NaN     149.0   \n",
       "chr10:7797047|7802854           4893.0       6921.0     479.0       NaN   \n",
       "chr4:51863437|51877854          4863.0       4156.0      38.0      53.0   \n",
       "chr1:30992390|30995220          4835.0       9467.0      14.0       NaN   \n",
       "chr6:87215903|87218731          4768.0       6005.0     130.0     144.0   \n",
       "\n",
       "index                      rar_rep2  rz_rep2  rar_rep1  rz_rep1  \n",
       "circ_id                                                          \n",
       "chr5:137985257|137988315      289.0     32.0     187.0     67.0  \n",
       "chr18:21765772|21779685         NaN     73.0     469.0    128.0  \n",
       "chr5:170878097|170896115        NaN      2.0      70.0     16.0  \n",
       "chr3:158122103|158123991        NaN     32.0       NaN     23.0  \n",
       "chr3:170145423|170149244        NaN      2.0     111.0      NaN  \n",
       "chr6:4891713|4892379            NaN    125.0     187.0     49.0  \n",
       "chr7:129014979|129018157        NaN     20.0     140.0     44.0  \n",
       "chr9:20819796|20823115        187.0     13.0      73.0     15.0  \n",
       "chr4:185247294|185267155      434.0     35.0     158.0     35.0  \n",
       "chr9:93471141|93498886        557.0     40.0     199.0     56.0  \n",
       "chr9:131506114|131506453       56.0      7.0      57.0      1.0  \n",
       "chr2:147896301|147899898      291.0      NaN     118.0     19.0  \n",
       "chr9:93471141|93476338          NaN      NaN     212.0     24.0  \n",
       "chr12:111552280|111555919     204.0      5.0     115.0     19.0  \n",
       "chr13:75560753|75569507         NaN     20.0     165.0     24.0  \n",
       "chr1:117402186|117420649      295.0     41.0     221.0     22.0  \n",
       "chr1:40189055|40202614          NaN      5.0      63.0      3.0  \n",
       "chr10:7276892|7285954           NaN     39.0     240.0     55.0  \n",
       "chr9:135881633|135883078        NaN     88.0     833.0    129.0  \n",
       "chr2:54982515|54987698        384.0     10.0     178.0     32.0  \n",
       "chr12:46229153|46243314       126.0      NaN      75.0     23.0  \n",
       "chr2:171925537|171953001        NaN      5.0       NaN      1.0  \n",
       "chr10:7243558|7285954         394.0     18.0     153.0     31.0  \n",
       "chr10:31908172|31910563         NaN     33.0     180.0     43.0  \n",
       "chr15:67231814|67236820         NaN     21.0     340.0     25.0  \n",
       "chr13:32517857|32527532       288.0      NaN     193.0     29.0  \n",
       "chr9:110972073|110973558        NaN      5.0     124.0      8.0  \n",
       "chr13:41865736|41868477       320.0     11.0     132.0     23.0  \n",
       "chr5:171183195|171205612      311.0     19.0     164.0     32.0  \n",
       "chr16:68121987|68126610         NaN     79.0       NaN     71.0  \n",
       "chr2:72718103|72733118          NaN     10.0       NaN     39.0  \n",
       "chr7:141636960|141649333        NaN      2.0      92.0     12.0  \n",
       "chr15:58912563|58916999       200.0      3.0      31.0      NaN  \n",
       "chr3:142736379|142748460      260.0      NaN     119.0     15.0  \n",
       "chr22:45729425|45740538         NaN     22.0     257.0     57.0  \n",
       "chr6:158580940|158589782        NaN     12.0     113.0     16.0  \n",
       "chr2:135675332|135680324       56.0      4.0      82.0      4.0  \n",
       "chr1:65364635|65366196        164.0      8.0      77.0     15.0  \n",
       "chr6:107503657|107506427        NaN     18.0     178.0     22.0  \n",
       "chr2:202464809|202467689        NaN      8.0      86.0     16.0  \n",
       "chr2:61485768|61490776        108.0      7.0      53.0      6.0  \n",
       "chr3:125313308|125331238      317.0     16.0     175.0     14.0  \n",
       "chr22:45689712|45718493         NaN     15.0     249.0     25.0  \n",
       "chr22:28514757|28519320       140.0     11.0      67.0      3.0  \n",
       "chr11:130260856|130261929     216.0     30.0     142.0     76.0  \n",
       "chr1:114463104|114464388        NaN      7.0       NaN     18.0  \n",
       "chr10:7797047|7802854           NaN     39.0     195.0     65.0  \n",
       "chr4:51863437|51877854         85.0      6.0       NaN     19.0  \n",
       "chr1:30992390|30995220          NaN     17.0     178.0      8.0  \n",
       "chr6:87215903|87218731          NaN      4.0      55.0      9.0  "
      ]
     },
     "execution_count": 85,
     "metadata": {},
     "output_type": "execute_result"
    }
   ],
   "source": [
    "bsj.loc[(bsj/(fsj+1)).sort_values(by = 'SD_seq_rep1', ascending = False).iloc[:50].index]"
   ]
  },
  {
   "cell_type": "code",
   "execution_count": 86,
   "id": "b57d9966-85d7-4a02-adba-41a9ebfbb011",
   "metadata": {},
   "outputs": [
    {
     "data": {
      "text/plain": [
       "index\n",
       "SD_seq_rep1    17845.0\n",
       "SD_seq_rep2    38134.0\n",
       "arr_rep2        1022.0\n",
       "arr_rep1        2074.0\n",
       "rar_rep2           NaN\n",
       "rz_rep2           73.0\n",
       "rar_rep1         469.0\n",
       "rz_rep1          128.0\n",
       "Name: chr18:21765772|21779685, dtype: float64"
      ]
     },
     "execution_count": 86,
     "metadata": {},
     "output_type": "execute_result"
    }
   ],
   "source": [
    "bsj.loc['chr18:21765772|21779685']"
   ]
  },
  {
   "cell_type": "code",
   "execution_count": 87,
   "id": "f8baebb4-bb23-4a7c-a417-4ec24655ecd7",
   "metadata": {},
   "outputs": [],
   "source": [
    "bsj['length']=pd.Series(bsj.index).apply(lambda x: int(x.split('|')[1])-int(x.split('|')[0].split(':')[1])).tolist()"
   ]
  },
  {
   "cell_type": "code",
   "execution_count": 88,
   "id": "cb14536f-8ae1-4f33-b74c-1da7d5e74b98",
   "metadata": {},
   "outputs": [
    {
     "data": {
      "text/plain": [
       "index\n",
       "SD_seq_rep1    9107.0\n",
       "SD_seq_rep2    6161.0\n",
       "arr_rep2          6.0\n",
       "arr_rep1          NaN\n",
       "rar_rep2         56.0\n",
       "rz_rep2           7.0\n",
       "rar_rep1         57.0\n",
       "rz_rep1           1.0\n",
       "length          339.0\n",
       "Name: chr9:131506114|131506453, dtype: float64"
      ]
     },
     "execution_count": 88,
     "metadata": {},
     "output_type": "execute_result"
    }
   ],
   "source": [
    "bsj.loc['chr9:131506114|131506453']"
   ]
  },
  {
   "cell_type": "code",
   "execution_count": null,
   "id": "70d99aa3-c275-4d5b-808b-44924197ddc4",
   "metadata": {},
   "outputs": [],
   "source": []
  }
 ],
 "metadata": {
  "kernelspec": {
   "display_name": "my_metadensity",
   "language": "python",
   "name": "my_metadensity"
  },
  "language_info": {
   "codemirror_mode": {
    "name": "ipython",
    "version": 3
   },
   "file_extension": ".py",
   "mimetype": "text/x-python",
   "name": "python",
   "nbconvert_exporter": "python",
   "pygments_lexer": "ipython3",
   "version": "3.7.12"
  }
 },
 "nbformat": 4,
 "nbformat_minor": 5
}
